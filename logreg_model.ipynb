{
 "cells": [
  {
   "cell_type": "code",
   "execution_count": 1,
   "metadata": {},
   "outputs": [
    {
     "name": "stderr",
     "output_type": "stream",
     "text": [
      "c:\\Python39\\lib\\site-packages\\requests\\__init__.py:102: RequestsDependencyWarning: urllib3 (1.26.7) or chardet (5.0.0)/charset_normalizer (2.0.6) doesn't match a supported version!\n",
      "  warnings.warn(\"urllib3 ({}) or chardet ({})/charset_normalizer ({}) doesn't match a supported \"\n"
     ]
    }
   ],
   "source": [
    "import pandas as pd\n",
    "import numpy as np\n",
    "import yfinance as yf\n",
    "from sklearn.linear_model import LogisticRegression\n",
    "from imblearn.over_sampling import RandomOverSampler\n",
    "from scipy.stats import loguniform, uniform, randint\n",
    "from sklearn.model_selection import RandomizedSearchCV\n",
    "from sklearn.metrics import accuracy_score, precision_score, recall_score, f1_score, confusion_matrix\n",
    "import warnings\n",
    "warnings.filterwarnings('ignore')"
   ]
  },
  {
   "cell_type": "markdown",
   "metadata": {},
   "source": [
    "Import data"
   ]
  },
  {
   "cell_type": "code",
   "execution_count": 2,
   "metadata": {},
   "outputs": [],
   "source": [
    "X_train = pd.read_excel(\"data/model_inputs/X_train.xlsx\").rename(columns={'Unnamed: 0':'date'}).set_index('date')\n",
    "X_test = pd.read_excel(\"data/model_inputs/X_test.xlsx\").rename(columns={'Unnamed: 0':'date'}).set_index('date')\n",
    "y_train = pd.read_excel(\"data/model_inputs/y_train.xlsx\").rename(columns={'Unnamed: 0':'date'}).set_index('date')\n",
    "y_test = pd.read_excel(\"data/model_inputs/y_test.xlsx\").rename(columns={'Unnamed: 0':'date'}).set_index('date')"
   ]
  },
  {
   "cell_type": "markdown",
   "metadata": {},
   "source": [
    "Tuning"
   ]
  },
  {
   "cell_type": "code",
   "execution_count": 3,
   "metadata": {},
   "outputs": [],
   "source": [
    "def random_oversampler(X_train, y_train):\n",
    "    oversample = RandomOverSampler(sampling_strategy='not majority')\n",
    "    X_over, y_over = oversample.fit_resample(X_train, y_train)\n",
    "    return X_over, y_over\n",
    "\n",
    "logreg_distribution = {'penalty': ['l1', 'l2'], 'C': loguniform(0.001, 100), 'solver': ['newton-cg','sag','saga','lbfgs']}"
   ]
  },
  {
   "cell_type": "code",
   "execution_count": 4,
   "metadata": {},
   "outputs": [],
   "source": [
    "param, accuracy, precision, recall, f1 = [], [], [], [], []\n",
    "\n",
    "# best oversampling: random_oversampling\n",
    "X_train_oversampled, y_train_oversampled = random_oversampler(X_train, y_train)\n",
    "\n",
    "# tuning\n",
    "logreg = LogisticRegression()\n",
    "logreg_clf = RandomizedSearchCV(logreg, logreg_distribution, n_iter=200, scoring=['accuracy', 'recall_weighted', 'precision_weighted', 'f1_weighted'], refit='f1_weighted', random_state=42)\n",
    "logreg_search = logreg_clf.fit(X_train_oversampled, y_train_oversampled)\n",
    "\n",
    "# update columns\n",
    "param.append(logreg_search.cv_results_['params'])\n",
    "accuracy.append(logreg_search.cv_results_['mean_test_accuracy'])\n",
    "precision.append(logreg_search.cv_results_['mean_test_precision_weighted'])\n",
    "recall.append(logreg_search.cv_results_['mean_test_recall_weighted'])\n",
    "f1.append(logreg_search.cv_results_['mean_test_f1_weighted'])"
   ]
  },
  {
   "cell_type": "code",
   "execution_count": 5,
   "metadata": {},
   "outputs": [
    {
     "data": {
      "text/html": [
       "<div>\n",
       "<style scoped>\n",
       "    .dataframe tbody tr th:only-of-type {\n",
       "        vertical-align: middle;\n",
       "    }\n",
       "\n",
       "    .dataframe tbody tr th {\n",
       "        vertical-align: top;\n",
       "    }\n",
       "\n",
       "    .dataframe thead th {\n",
       "        text-align: right;\n",
       "    }\n",
       "</style>\n",
       "<table border=\"1\" class=\"dataframe\">\n",
       "  <thead>\n",
       "    <tr style=\"text-align: right;\">\n",
       "      <th></th>\n",
       "      <th>model</th>\n",
       "      <th>parameters</th>\n",
       "      <th>accuracy</th>\n",
       "      <th>precision</th>\n",
       "      <th>recall</th>\n",
       "      <th>f1</th>\n",
       "    </tr>\n",
       "  </thead>\n",
       "  <tbody>\n",
       "    <tr>\n",
       "      <th>0</th>\n",
       "      <td>Logistic Regression</td>\n",
       "      <td>{'C': 0.0029662981696401054, 'penalty': 'l1', ...</td>\n",
       "      <td>0.709570</td>\n",
       "      <td>0.772377</td>\n",
       "      <td>0.709570</td>\n",
       "      <td>0.703076</td>\n",
       "    </tr>\n",
       "    <tr>\n",
       "      <th>1</th>\n",
       "      <td>Logistic Regression</td>\n",
       "      <td>{'C': 0.003190729641440915, 'penalty': 'l2', '...</td>\n",
       "      <td>0.701091</td>\n",
       "      <td>0.721646</td>\n",
       "      <td>0.701091</td>\n",
       "      <td>0.699298</td>\n",
       "    </tr>\n",
       "    <tr>\n",
       "      <th>2</th>\n",
       "      <td>Logistic Regression</td>\n",
       "      <td>{'C': 0.0018130450933931477, 'penalty': 'l2', ...</td>\n",
       "      <td>0.697244</td>\n",
       "      <td>0.729251</td>\n",
       "      <td>0.697244</td>\n",
       "      <td>0.697533</td>\n",
       "    </tr>\n",
       "    <tr>\n",
       "      <th>3</th>\n",
       "      <td>Logistic Regression</td>\n",
       "      <td>{'C': 0.00396251783257234, 'penalty': 'l2', 's...</td>\n",
       "      <td>0.699402</td>\n",
       "      <td>0.717271</td>\n",
       "      <td>0.699402</td>\n",
       "      <td>0.697061</td>\n",
       "    </tr>\n",
       "    <tr>\n",
       "      <th>4</th>\n",
       "      <td>Logistic Regression</td>\n",
       "      <td>{'C': 0.003974905761171866, 'penalty': 'l2', '...</td>\n",
       "      <td>0.698920</td>\n",
       "      <td>0.716500</td>\n",
       "      <td>0.698920</td>\n",
       "      <td>0.696490</td>\n",
       "    </tr>\n",
       "    <tr>\n",
       "      <th>5</th>\n",
       "      <td>Logistic Regression</td>\n",
       "      <td>{'C': 0.001180232156325819, 'penalty': 'l2', '...</td>\n",
       "      <td>0.695079</td>\n",
       "      <td>0.734790</td>\n",
       "      <td>0.695079</td>\n",
       "      <td>0.696412</td>\n",
       "    </tr>\n",
       "    <tr>\n",
       "      <th>6</th>\n",
       "      <td>Logistic Regression</td>\n",
       "      <td>{'C': 0.0010600050132100263, 'penalty': 'l2', ...</td>\n",
       "      <td>0.694600</td>\n",
       "      <td>0.739180</td>\n",
       "      <td>0.694600</td>\n",
       "      <td>0.696189</td>\n",
       "    </tr>\n",
       "    <tr>\n",
       "      <th>7</th>\n",
       "      <td>Logistic Regression</td>\n",
       "      <td>{'C': 0.026558434508499876, 'penalty': 'l1', '...</td>\n",
       "      <td>0.707837</td>\n",
       "      <td>0.706184</td>\n",
       "      <td>0.707837</td>\n",
       "      <td>0.696106</td>\n",
       "    </tr>\n",
       "    <tr>\n",
       "      <th>8</th>\n",
       "      <td>Logistic Regression</td>\n",
       "      <td>{'C': 0.006429002142212086, 'penalty': 'l2', '...</td>\n",
       "      <td>0.702056</td>\n",
       "      <td>0.710120</td>\n",
       "      <td>0.702056</td>\n",
       "      <td>0.696026</td>\n",
       "    </tr>\n",
       "    <tr>\n",
       "      <th>9</th>\n",
       "      <td>Logistic Regression</td>\n",
       "      <td>{'C': 0.0011947666257325973, 'penalty': 'l2', ...</td>\n",
       "      <td>0.694597</td>\n",
       "      <td>0.734243</td>\n",
       "      <td>0.694597</td>\n",
       "      <td>0.695889</td>\n",
       "    </tr>\n",
       "  </tbody>\n",
       "</table>\n",
       "</div>"
      ],
      "text/plain": [
       "                 model                                         parameters  \\\n",
       "0  Logistic Regression  {'C': 0.0029662981696401054, 'penalty': 'l1', ...   \n",
       "1  Logistic Regression  {'C': 0.003190729641440915, 'penalty': 'l2', '...   \n",
       "2  Logistic Regression  {'C': 0.0018130450933931477, 'penalty': 'l2', ...   \n",
       "3  Logistic Regression  {'C': 0.00396251783257234, 'penalty': 'l2', 's...   \n",
       "4  Logistic Regression  {'C': 0.003974905761171866, 'penalty': 'l2', '...   \n",
       "5  Logistic Regression  {'C': 0.001180232156325819, 'penalty': 'l2', '...   \n",
       "6  Logistic Regression  {'C': 0.0010600050132100263, 'penalty': 'l2', ...   \n",
       "7  Logistic Regression  {'C': 0.026558434508499876, 'penalty': 'l1', '...   \n",
       "8  Logistic Regression  {'C': 0.006429002142212086, 'penalty': 'l2', '...   \n",
       "9  Logistic Regression  {'C': 0.0011947666257325973, 'penalty': 'l2', ...   \n",
       "\n",
       "   accuracy  precision    recall        f1  \n",
       "0  0.709570   0.772377  0.709570  0.703076  \n",
       "1  0.701091   0.721646  0.701091  0.699298  \n",
       "2  0.697244   0.729251  0.697244  0.697533  \n",
       "3  0.699402   0.717271  0.699402  0.697061  \n",
       "4  0.698920   0.716500  0.698920  0.696490  \n",
       "5  0.695079   0.734790  0.695079  0.696412  \n",
       "6  0.694600   0.739180  0.694600  0.696189  \n",
       "7  0.707837   0.706184  0.707837  0.696106  \n",
       "8  0.702056   0.710120  0.702056  0.696026  \n",
       "9  0.694597   0.734243  0.694597  0.695889  "
      ]
     },
     "execution_count": 5,
     "metadata": {},
     "output_type": "execute_result"
    }
   ],
   "source": [
    "results = pd.DataFrame({\n",
    "    'model': \"Logistic Regression\",\n",
    "    'parameters': np.array(param).flatten(),\n",
    "    'accuracy': np.array(accuracy).flatten(),\n",
    "    'precision': np.array(precision).flatten(),\n",
    "    'recall': np.array(recall).flatten(),\n",
    "    'f1': np.array(f1).flatten(),\n",
    "}).sort_values(by=\"f1\", ascending=False).reset_index(drop=True)\n",
    "results.head(10)"
   ]
  },
  {
   "cell_type": "markdown",
   "metadata": {},
   "source": [
    "Best Model"
   ]
  },
  {
   "cell_type": "code",
   "execution_count": 6,
   "metadata": {},
   "outputs": [
    {
     "data": {
      "text/plain": [
       "LogisticRegression(C=0.0029662981696401054, penalty='l1', solver='saga')"
      ]
     },
     "execution_count": 6,
     "metadata": {},
     "output_type": "execute_result"
    }
   ],
   "source": [
    "best_params = results.iloc[0]['parameters']\n",
    "best_model = LogisticRegression(**best_params)\n",
    "best_model.fit(X_train_oversampled, y_train_oversampled)\n",
    "best_model"
   ]
  },
  {
   "cell_type": "code",
   "execution_count": 7,
   "metadata": {},
   "outputs": [],
   "source": [
    "def print_results(actual, predictions):\n",
    "    print(f\"accuracy: {accuracy_score(actual, predictions)}\")\n",
    "    print(f\"precision: {precision_score(actual, predictions, average='weighted')}\")\n",
    "    print(f\"recall: {recall_score(actual, predictions, average='weighted')}\")\n",
    "    print(f\"f1: {f1_score(actual, predictions, average='weighted')}\")\n",
    "    print(f\"confusion matrix:\\n{confusion_matrix(actual, predictions)}\")"
   ]
  },
  {
   "cell_type": "markdown",
   "metadata": {},
   "source": [
    "Predict on test set"
   ]
  },
  {
   "cell_type": "code",
   "execution_count": 8,
   "metadata": {},
   "outputs": [
    {
     "name": "stdout",
     "output_type": "stream",
     "text": [
      "accuracy: 0.7380952380952381\n",
      "precision: 0.7405881890614715\n",
      "recall: 0.7380952380952381\n",
      "f1: 0.7350914761169521\n",
      "confusion matrix:\n",
      "[[ 11  10   0]\n",
      " [ 24 113   0]\n",
      " [  2   8   0]]\n"
     ]
    }
   ],
   "source": [
    "test_pred = best_model.predict(X_test)\n",
    "print_results(y_test, test_pred)"
   ]
  },
  {
   "cell_type": "markdown",
   "metadata": {},
   "source": [
    "Predict on full data"
   ]
  },
  {
   "cell_type": "code",
   "execution_count": 9,
   "metadata": {},
   "outputs": [
    {
     "name": "stdout",
     "output_type": "stream",
     "text": [
      "accuracy: 0.8386897404202719\n",
      "precision: 0.927023248627437\n",
      "recall: 0.8386897404202719\n",
      "f1: 0.873451165159429\n",
      "confusion matrix:\n",
      "[[  43   17    0]\n",
      " [ 187 1301   32]\n",
      " [   5   20   13]]\n"
     ]
    }
   ],
   "source": [
    "X_full = pd.concat([X_train, X_test])\n",
    "y_full = pd.concat([y_train, y_test])\n",
    "\n",
    "full_pred = best_model.predict(X_full)\n",
    "print_results(y_full, full_pred)"
   ]
  },
  {
   "cell_type": "markdown",
   "metadata": {},
   "source": [
    "Business Metric"
   ]
  },
  {
   "cell_type": "code",
   "execution_count": 10,
   "metadata": {},
   "outputs": [
    {
     "data": {
      "text/plain": [
       "(1618, 11)"
      ]
     },
     "execution_count": 10,
     "metadata": {},
     "output_type": "execute_result"
    }
   ],
   "source": [
    "whole_df_x = pd.concat([X_train, X_test])\n",
    "whole_df_x.shape"
   ]
  },
  {
   "cell_type": "code",
   "execution_count": 11,
   "metadata": {},
   "outputs": [],
   "source": [
    "whole_df_x['year'] = whole_df_x.index.year"
   ]
  },
  {
   "cell_type": "code",
   "execution_count": 12,
   "metadata": {},
   "outputs": [
    {
     "name": "stdout",
     "output_type": "stream",
     "text": [
      "[*********************100%***********************]  1 of 1 completed\n",
      "[*********************100%***********************]  1 of 1 completed\n",
      "[*********************100%***********************]  1 of 1 completed\n",
      "[*********************100%***********************]  1 of 1 completed\n",
      "[*********************100%***********************]  1 of 1 completed\n",
      "[*********************100%***********************]  1 of 1 completed\n",
      "[*********************100%***********************]  1 of 1 completed\n"
     ]
    },
    {
     "data": {
      "text/html": [
       "<div>\n",
       "<style scoped>\n",
       "    .dataframe tbody tr th:only-of-type {\n",
       "        vertical-align: middle;\n",
       "    }\n",
       "\n",
       "    .dataframe tbody tr th {\n",
       "        vertical-align: top;\n",
       "    }\n",
       "\n",
       "    .dataframe thead th {\n",
       "        text-align: right;\n",
       "    }\n",
       "</style>\n",
       "<table border=\"1\" class=\"dataframe\">\n",
       "  <thead>\n",
       "    <tr style=\"text-align: right;\">\n",
       "      <th></th>\n",
       "      <th>exp_strategy_annual_return</th>\n",
       "      <th>exp_benchmark_annual_return</th>\n",
       "    </tr>\n",
       "  </thead>\n",
       "  <tbody>\n",
       "    <tr>\n",
       "      <th>2016</th>\n",
       "      <td>-0.100999</td>\n",
       "      <td>0.107616</td>\n",
       "    </tr>\n",
       "    <tr>\n",
       "      <th>2017</th>\n",
       "      <td>-0.152486</td>\n",
       "      <td>0.185753</td>\n",
       "    </tr>\n",
       "    <tr>\n",
       "      <th>2018</th>\n",
       "      <td>0.131198</td>\n",
       "      <td>-0.070634</td>\n",
       "    </tr>\n",
       "    <tr>\n",
       "      <th>2019</th>\n",
       "      <td>-0.223869</td>\n",
       "      <td>0.288443</td>\n",
       "    </tr>\n",
       "    <tr>\n",
       "      <th>2020</th>\n",
       "      <td>0.041631</td>\n",
       "      <td>0.152929</td>\n",
       "    </tr>\n",
       "    <tr>\n",
       "      <th>2021</th>\n",
       "      <td>-0.206091</td>\n",
       "      <td>0.289230</td>\n",
       "    </tr>\n",
       "    <tr>\n",
       "      <th>2022</th>\n",
       "      <td>0.279334</td>\n",
       "      <td>-0.249185</td>\n",
       "    </tr>\n",
       "  </tbody>\n",
       "</table>\n",
       "</div>"
      ],
      "text/plain": [
       "      exp_strategy_annual_return  exp_benchmark_annual_return\n",
       "2016                   -0.100999                     0.107616\n",
       "2017                   -0.152486                     0.185753\n",
       "2018                    0.131198                    -0.070634\n",
       "2019                   -0.223869                     0.288443\n",
       "2020                    0.041631                     0.152929\n",
       "2021                   -0.206091                     0.289230\n",
       "2022                    0.279334                    -0.249185"
      ]
     },
     "execution_count": 12,
     "metadata": {},
     "output_type": "execute_result"
    }
   ],
   "source": [
    "business_metric_results = pd.DataFrame(columns=['exp_strategy_annual_return', 'exp_benchmark_annual_return'])\n",
    "\n",
    "for year in [2016, 2017, 2018, 2019, 2020, 2021, 2022]:\n",
    "    year_data = whole_df_x[whole_df_x['year'] == year]\n",
    "    year_data = year_data.drop(['year'], axis = 1)\n",
    "    predict_x = best_model.predict(np.array(year_data))\n",
    "    predictions = predict_x\n",
    "    df_pred = pd.DataFrame({'prediction':predictions}, index=year_data.index)\n",
    "    dates = df_pred.index\n",
    "\n",
    "    if year == 2022:\n",
    "        end_date = \"2022-09-02\"\n",
    "    else:\n",
    "        end_date = str(year+1) + \"-01-01\"\n",
    "    df_prices = yf.download(\"^GSPC\", start=dates[0], end=end_date)[['Adj Close']]\n",
    "    df_prices = df_prices.reindex(df_pred.index)\n",
    "\n",
    "    # create positions column\n",
    "    positions = []\n",
    "    prev = 0\n",
    "    for i in range(len(df_pred)):\n",
    "        if df_pred.iloc[i]['prediction'] == 0:\n",
    "            positions.append(prev)\n",
    "        else:\n",
    "            prev = df_pred.iloc[i]['prediction']\n",
    "            positions.append(prev)\n",
    "\n",
    "    df_business = pd.DataFrame()\n",
    "    df_business['stock_daily_log_return'] = np.log(df_prices /df_prices.shift(1))['Adj Close']\n",
    "    df_business['prediction'] = df_pred['prediction']\n",
    "    df_business['position'] = positions\n",
    "    df_business['benchmark'] = 1 # long and hold strategy\n",
    "    df_business[\"strategy_Returns\"] = df_business[\"stock_daily_log_return\"] * df_business[\"position\"].shift(1)\n",
    "    df_business[\"benchmark_Returns\"] = df_business[\"stock_daily_log_return\"] * df_business[\"benchmark\"].shift(1)\n",
    "\n",
    "    # Annual Mean Returns or Expected returns\n",
    "    expected_strategy_annual_return = np.exp(df_business['strategy_Returns'].mean() * 252) - 1 \n",
    "    expected_benchmark_annual_return = np.exp(df_business['benchmark_Returns'].mean() * 252) - 1 \n",
    "    business_metric_results.loc[year] = [expected_strategy_annual_return, expected_benchmark_annual_return]\n",
    "\n",
    "business_metric_results"
   ]
  }
 ],
 "metadata": {
  "kernelspec": {
   "display_name": "Python 3.9.7 64-bit",
   "language": "python",
   "name": "python3"
  },
  "language_info": {
   "codemirror_mode": {
    "name": "ipython",
    "version": 3
   },
   "file_extension": ".py",
   "mimetype": "text/x-python",
   "name": "python",
   "nbconvert_exporter": "python",
   "pygments_lexer": "ipython3",
   "version": "3.9.7"
  },
  "orig_nbformat": 4,
  "vscode": {
   "interpreter": {
    "hash": "81794d4967e6c3204c66dcd87b604927b115b27c00565d3d43f05ba2f3a2cb0d"
   }
  }
 },
 "nbformat": 4,
 "nbformat_minor": 2
}
