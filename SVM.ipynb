{
 "cells": [
  {
   "cell_type": "code",
   "execution_count": 431,
   "id": "5de875db",
   "metadata": {},
   "outputs": [],
   "source": [
    "import pandas as pd \n",
    "import numpy as np"
   ]
  },
  {
   "cell_type": "code",
   "execution_count": 432,
   "id": "996ae85d",
   "metadata": {},
   "outputs": [],
   "source": [
    "X_train3 = pd.read_excel(r\"C:\\Users\\chloe\\Desktop\\Y4S1\\BT4222 DATA MINING\\GROUP PROJECT\\x_train3.xlsx\")\n",
    "y_train3 = pd.read_excel(r\"C:\\Users\\chloe\\Desktop\\Y4S1\\BT4222 DATA MINING\\GROUP PROJECT\\y_train3.xlsx\")\n",
    "\n",
    "X_test3 = pd.read_excel(r\"C:\\Users\\chloe\\Desktop\\Y4S1\\BT4222 DATA MINING\\GROUP PROJECT\\x_test3.xlsx\")\n",
    "y_test3 = pd.read_excel(r\"C:\\Users\\chloe\\Desktop\\Y4S1\\BT4222 DATA MINING\\GROUP PROJECT\\y_test3.xlsx\")"
   ]
  },
  {
   "cell_type": "code",
   "execution_count": 433,
   "id": "99fbc55c",
   "metadata": {},
   "outputs": [],
   "source": [
    "X_train5 = pd.read_excel(r\"C:\\Users\\chloe\\Desktop\\Y4S1\\BT4222 DATA MINING\\GROUP PROJECT\\x_train5.xlsx\")\n",
    "y_train5 = pd.read_excel(r\"C:\\Users\\chloe\\Desktop\\Y4S1\\BT4222 DATA MINING\\GROUP PROJECT\\y_train5.xlsx\")\n",
    "\n",
    "X_test5 = pd.read_excel(r\"C:\\Users\\chloe\\Desktop\\Y4S1\\BT4222 DATA MINING\\GROUP PROJECT\\x_test5.xlsx\")\n",
    "y_test5 = pd.read_excel(r\"C:\\Users\\chloe\\Desktop\\Y4S1\\BT4222 DATA MINING\\GROUP PROJECT\\y_test5.xlsx\")"
   ]
  },
  {
   "cell_type": "code",
   "execution_count": 434,
   "id": "b5687f2b",
   "metadata": {},
   "outputs": [],
   "source": [
    "X_train3 = X_train3.iloc[: , 1:]\n",
    "y_train3 = y_train3.iloc[: , 1:]\n",
    "\n",
    "X_test3 = X_test3.iloc[: , 1:]\n",
    "y_test3 = y_test3.iloc[: , 1:]"
   ]
  },
  {
   "cell_type": "code",
   "execution_count": 435,
   "id": "8222f0da",
   "metadata": {},
   "outputs": [],
   "source": [
    "X_train5 = X_train5.iloc[: , 1:]\n",
    "y_train5 = y_train5.iloc[: , 1:]\n",
    "\n",
    "X_test5 = X_test5.iloc[: , 1:]\n",
    "y_test5 = y_test5.iloc[: , 1:]"
   ]
  },
  {
   "cell_type": "code",
   "execution_count": 436,
   "id": "fb6e5c16",
   "metadata": {},
   "outputs": [],
   "source": [
    "import sklearn\n",
    "assert sklearn.__version__ >= \"0.20\"\n",
    "\n",
    "from sklearn.svm import SVC\n",
    "from sklearn import svm\n",
    "from sklearn.svm import LinearSVC \n",
    "from sklearn.model_selection import RandomizedSearchCV\n",
    "from sklearn.metrics import accuracy_score\n",
    "from sklearn.metrics import confusion_matrix\n",
    "from sklearn.metrics import precision_score, recall_score\n",
    "from sklearn.utils import resample\n",
    "from imblearn.over_sampling import SMOTE"
   ]
  },
  {
   "cell_type": "markdown",
   "id": "8be53e53",
   "metadata": {},
   "source": [
    "# SKLEARN RESAMPLE"
   ]
  },
  {
   "cell_type": "code",
   "execution_count": 437,
   "id": "c35970c3",
   "metadata": {},
   "outputs": [
    {
     "data": {
      "text/plain": [
       " 0    1264\n",
       "-1    1264\n",
       " 1    1264\n",
       "Name: decision, dtype: int64"
      ]
     },
     "execution_count": 437,
     "metadata": {},
     "output_type": "execute_result"
    }
   ],
   "source": [
    "df_train3 = pd.concat([X_train3, y_train3], axis=1)\n",
    "df_train_hold3 = df_train3[(df_train3['decision']==0)] \n",
    "df_train_buy3 = df_train3[(df_train3['decision']==-1)] \n",
    "df_train_sell3 = df_train3[(df_train3['decision']==1)] \n",
    "\n",
    "# upsample buy and sell class\n",
    "df_train_buy_upsampled3 = resample(df_train_buy3, \n",
    "                                 replace=True,    # sample with replacement\n",
    "                                 n_samples= len(df_train_hold3)) # to match majority class\n",
    "\n",
    "df_train_sell_upsampled3 = resample(df_train_sell3, \n",
    "                                 replace=True,    # sample with replacement\n",
    "                                 n_samples= len(df_train_hold3)) # to match majority class\n",
    "\n",
    "# Combine majority class with upsampled minority classes\n",
    "df_train_upsampled3 = pd.concat([df_train_buy_upsampled3, df_train_sell_upsampled3, df_train_hold3])\n",
    "X_train_upsampled3, y_train_upsampled3 = df_train_upsampled3.drop(columns=['decision']), df_train_upsampled3['decision']\n",
    "y_train_upsampled3.value_counts()"
   ]
  },
  {
   "cell_type": "code",
   "execution_count": 438,
   "id": "0208db2c",
   "metadata": {},
   "outputs": [
    {
     "data": {
      "text/plain": [
       " 0    2943\n",
       " 1     581\n",
       "-1     268\n",
       "Name: decision, dtype: int64"
      ]
     },
     "execution_count": 438,
     "metadata": {},
     "output_type": "execute_result"
    }
   ],
   "source": [
    "df_train5 = pd.concat([X_train5, y_train5], axis=1)\n",
    "df_train_hold5 = df_train5[(df_train3['decision']==0)] \n",
    "df_train_buy5 = df_train5[(df_train3['decision']==-1)] \n",
    "df_train_sell5 = df_train5[(df_train3['decision']==1)] \n",
    "\n",
    "# upsample buy and sell class\n",
    "df_train_buy_upsampled5 = resample(df_train_buy5, \n",
    "                                 replace=True,    # sample with replacement\n",
    "                                 n_samples= len(df_train_hold5)) # to match majority class\n",
    "\n",
    "df_train_sell_upsampled5 = resample(df_train_sell5, \n",
    "                                 replace=True,    # sample with replacement\n",
    "                                 n_samples= len(df_train_hold5)) # to match majority class\n",
    "\n",
    "# Combine majority class with upsampled minority classes\n",
    "df_train_upsampled5 = pd.concat([df_train_buy_upsampled5, df_train_sell_upsampled5, df_train_hold5])\n",
    "X_train_upsampled5, y_train_upsampled5 = df_train_upsampled5.drop(columns=['decision']), df_train_upsampled5['decision']\n",
    "y_train_upsampled5.value_counts()"
   ]
  },
  {
   "cell_type": "markdown",
   "id": "45d81b66",
   "metadata": {},
   "source": [
    "# SMOTE RESAMPLE"
   ]
  },
  {
   "cell_type": "code",
   "execution_count": 439,
   "id": "81f6dfca",
   "metadata": {},
   "outputs": [
    {
     "data": {
      "text/html": [
       "<div>\n",
       "<style scoped>\n",
       "    .dataframe tbody tr th:only-of-type {\n",
       "        vertical-align: middle;\n",
       "    }\n",
       "\n",
       "    .dataframe tbody tr th {\n",
       "        vertical-align: top;\n",
       "    }\n",
       "\n",
       "    .dataframe thead th {\n",
       "        text-align: right;\n",
       "    }\n",
       "</style>\n",
       "<table border=\"1\" class=\"dataframe\">\n",
       "  <thead>\n",
       "    <tr style=\"text-align: right;\">\n",
       "      <th></th>\n",
       "      <th>adj_close</th>\n",
       "      <th>reddit_pos_both</th>\n",
       "      <th>reddit_neg_both</th>\n",
       "      <th>reddit_neu_both</th>\n",
       "      <th>nyt_pos</th>\n",
       "      <th>nyt_neg</th>\n",
       "      <th>nyt_neu</th>\n",
       "      <th>quarterly_gdp_actual</th>\n",
       "      <th>monthly_cpi_actual</th>\n",
       "      <th>monthly_st_ir_actual</th>\n",
       "      <th>monthly_unemployment_actual</th>\n",
       "    </tr>\n",
       "  </thead>\n",
       "  <tbody>\n",
       "  </tbody>\n",
       "</table>\n",
       "</div>"
      ],
      "text/plain": [
       "Empty DataFrame\n",
       "Columns: [adj_close, reddit_pos_both, reddit_neg_both, reddit_neu_both, nyt_pos, nyt_neg, nyt_neu, quarterly_gdp_actual, monthly_cpi_actual, monthly_st_ir_actual, monthly_unemployment_actual]\n",
       "Index: []"
      ]
     },
     "execution_count": 439,
     "metadata": {},
     "output_type": "execute_result"
    }
   ],
   "source": [
    "X_train3[X_train3.isnull().any(axis=1)]"
   ]
  },
  {
   "cell_type": "code",
   "execution_count": 440,
   "id": "76d6c1c9",
   "metadata": {},
   "outputs": [
    {
     "data": {
      "text/plain": [
       "decision\n",
       "-1          1264\n",
       " 0          1264\n",
       " 1          1264\n",
       "dtype: int64"
      ]
     },
     "execution_count": 440,
     "metadata": {},
     "output_type": "execute_result"
    }
   ],
   "source": [
    "sm3 = SMOTE(sampling_strategy='not majority')\n",
    "X_train_oversampled3, y_train_oversampled3 = sm3.fit_resample(X_train3, y_train3)\n",
    "y_train_oversampled3.value_counts()"
   ]
  },
  {
   "cell_type": "code",
   "execution_count": 441,
   "id": "b110d1bc",
   "metadata": {},
   "outputs": [
    {
     "data": {
      "text/plain": [
       "decision\n",
       "-1          1436\n",
       " 0          1436\n",
       " 1          1436\n",
       "dtype: int64"
      ]
     },
     "execution_count": 441,
     "metadata": {},
     "output_type": "execute_result"
    }
   ],
   "source": [
    "sm5 = SMOTE(sampling_strategy='not majority')\n",
    "X_train_oversampled5, y_train_oversampled5 = sm5.fit_resample(X_train5, y_train5)\n",
    "y_train_oversampled5.value_counts()"
   ]
  },
  {
   "cell_type": "markdown",
   "id": "0946e7eb",
   "metadata": {},
   "source": [
    " # Linear SVM\n"
   ]
  },
  {
   "cell_type": "code",
   "execution_count": 442,
   "id": "0d15f4ac",
   "metadata": {
    "scrolled": true
   },
   "outputs": [],
   "source": [
    "linearsvc = LinearSVC(C=1, loss=\"hinge\", random_state=42)"
   ]
  },
  {
   "cell_type": "markdown",
   "id": "e1d37672",
   "metadata": {},
   "source": [
    "## 3% Target Threshold"
   ]
  },
  {
   "cell_type": "code",
   "execution_count": 443,
   "id": "67d3542c",
   "metadata": {},
   "outputs": [
    {
     "name": "stderr",
     "output_type": "stream",
     "text": [
      "C:\\Python39\\lib\\site-packages\\sklearn\\utils\\validation.py:1111: DataConversionWarning: A column-vector y was passed when a 1d array was expected. Please change the shape of y to (n_samples, ), for example using ravel().\n",
      "  y = column_or_1d(y, warn=True)\n",
      "C:\\Python39\\lib\\site-packages\\sklearn\\svm\\_base.py:1225: ConvergenceWarning: Liblinear failed to converge, increase the number of iterations.\n",
      "  warnings.warn(\n"
     ]
    },
    {
     "data": {
      "text/html": [
       "<style>#sk-container-id-36 {color: black;background-color: white;}#sk-container-id-36 pre{padding: 0;}#sk-container-id-36 div.sk-toggleable {background-color: white;}#sk-container-id-36 label.sk-toggleable__label {cursor: pointer;display: block;width: 100%;margin-bottom: 0;padding: 0.3em;box-sizing: border-box;text-align: center;}#sk-container-id-36 label.sk-toggleable__label-arrow:before {content: \"▸\";float: left;margin-right: 0.25em;color: #696969;}#sk-container-id-36 label.sk-toggleable__label-arrow:hover:before {color: black;}#sk-container-id-36 div.sk-estimator:hover label.sk-toggleable__label-arrow:before {color: black;}#sk-container-id-36 div.sk-toggleable__content {max-height: 0;max-width: 0;overflow: hidden;text-align: left;background-color: #f0f8ff;}#sk-container-id-36 div.sk-toggleable__content pre {margin: 0.2em;color: black;border-radius: 0.25em;background-color: #f0f8ff;}#sk-container-id-36 input.sk-toggleable__control:checked~div.sk-toggleable__content {max-height: 200px;max-width: 100%;overflow: auto;}#sk-container-id-36 input.sk-toggleable__control:checked~label.sk-toggleable__label-arrow:before {content: \"▾\";}#sk-container-id-36 div.sk-estimator input.sk-toggleable__control:checked~label.sk-toggleable__label {background-color: #d4ebff;}#sk-container-id-36 div.sk-label input.sk-toggleable__control:checked~label.sk-toggleable__label {background-color: #d4ebff;}#sk-container-id-36 input.sk-hidden--visually {border: 0;clip: rect(1px 1px 1px 1px);clip: rect(1px, 1px, 1px, 1px);height: 1px;margin: -1px;overflow: hidden;padding: 0;position: absolute;width: 1px;}#sk-container-id-36 div.sk-estimator {font-family: monospace;background-color: #f0f8ff;border: 1px dotted black;border-radius: 0.25em;box-sizing: border-box;margin-bottom: 0.5em;}#sk-container-id-36 div.sk-estimator:hover {background-color: #d4ebff;}#sk-container-id-36 div.sk-parallel-item::after {content: \"\";width: 100%;border-bottom: 1px solid gray;flex-grow: 1;}#sk-container-id-36 div.sk-label:hover label.sk-toggleable__label {background-color: #d4ebff;}#sk-container-id-36 div.sk-serial::before {content: \"\";position: absolute;border-left: 1px solid gray;box-sizing: border-box;top: 0;bottom: 0;left: 50%;z-index: 0;}#sk-container-id-36 div.sk-serial {display: flex;flex-direction: column;align-items: center;background-color: white;padding-right: 0.2em;padding-left: 0.2em;position: relative;}#sk-container-id-36 div.sk-item {position: relative;z-index: 1;}#sk-container-id-36 div.sk-parallel {display: flex;align-items: stretch;justify-content: center;background-color: white;position: relative;}#sk-container-id-36 div.sk-item::before, #sk-container-id-36 div.sk-parallel-item::before {content: \"\";position: absolute;border-left: 1px solid gray;box-sizing: border-box;top: 0;bottom: 0;left: 50%;z-index: -1;}#sk-container-id-36 div.sk-parallel-item {display: flex;flex-direction: column;z-index: 1;position: relative;background-color: white;}#sk-container-id-36 div.sk-parallel-item:first-child::after {align-self: flex-end;width: 50%;}#sk-container-id-36 div.sk-parallel-item:last-child::after {align-self: flex-start;width: 50%;}#sk-container-id-36 div.sk-parallel-item:only-child::after {width: 0;}#sk-container-id-36 div.sk-dashed-wrapped {border: 1px dashed gray;margin: 0 0.4em 0.5em 0.4em;box-sizing: border-box;padding-bottom: 0.4em;background-color: white;}#sk-container-id-36 div.sk-label label {font-family: monospace;font-weight: bold;display: inline-block;line-height: 1.2em;}#sk-container-id-36 div.sk-label-container {text-align: center;}#sk-container-id-36 div.sk-container {/* jupyter's `normalize.less` sets `[hidden] { display: none; }` but bootstrap.min.css set `[hidden] { display: none !important; }` so we also need the `!important` here to be able to override the default hidden behavior on the sphinx rendered scikit-learn.org. See: https://github.com/scikit-learn/scikit-learn/issues/21755 */display: inline-block !important;position: relative;}#sk-container-id-36 div.sk-text-repr-fallback {display: none;}</style><div id=\"sk-container-id-36\" class=\"sk-top-container\"><div class=\"sk-text-repr-fallback\"><pre>LinearSVC(C=1, loss=&#x27;hinge&#x27;, random_state=42)</pre><b>In a Jupyter environment, please rerun this cell to show the HTML representation or trust the notebook. <br />On GitHub, the HTML representation is unable to render, please try loading this page with nbviewer.org.</b></div><div class=\"sk-container\" hidden><div class=\"sk-item\"><div class=\"sk-estimator sk-toggleable\"><input class=\"sk-toggleable__control sk-hidden--visually\" id=\"sk-estimator-id-40\" type=\"checkbox\" checked><label for=\"sk-estimator-id-40\" class=\"sk-toggleable__label sk-toggleable__label-arrow\">LinearSVC</label><div class=\"sk-toggleable__content\"><pre>LinearSVC(C=1, loss=&#x27;hinge&#x27;, random_state=42)</pre></div></div></div></div></div>"
      ],
      "text/plain": [
       "LinearSVC(C=1, loss='hinge', random_state=42)"
      ]
     },
     "execution_count": 443,
     "metadata": {},
     "output_type": "execute_result"
    }
   ],
   "source": [
    "linearsvc.fit(X_train3, y_train3)"
   ]
  },
  {
   "cell_type": "markdown",
   "id": "223b98f8",
   "metadata": {},
   "source": [
    "### Predicting on train set (3%)"
   ]
  },
  {
   "cell_type": "code",
   "execution_count": 444,
   "id": "3f2860c9",
   "metadata": {},
   "outputs": [
    {
     "name": "stdout",
     "output_type": "stream",
     "text": [
      "Confusion_Matrix:\n",
      "[[   0  147    0]\n",
      " [   0 1264    0]\n",
      " [   0  100    0]]\n",
      "Accuracy_Score: 0.8365320979483786\n",
      "\n"
     ]
    }
   ],
   "source": [
    "y_predict_train3 = linearsvc.predict(X_train3)\n",
    "confusion_matrix_train3 = confusion_matrix(y_train3, y_predict_train3)\n",
    "accuracy_score_train3 = accuracy_score(y_train3, y_predict_train3)\n",
    "print(\"Confusion_Matrix:\\n{}\"\n",
    "      .format(confusion_matrix_train3))\n",
    "print(\"Accuracy_Score: {}\\n\"\n",
    "      .format(accuracy_score_train3))"
   ]
  },
  {
   "cell_type": "code",
   "execution_count": 445,
   "id": "9b099786",
   "metadata": {},
   "outputs": [
    {
     "name": "stdout",
     "output_type": "stream",
     "text": [
      "Number of Rows Prediction Correctly: 1264\n",
      "\n"
     ]
    }
   ],
   "source": [
    "diagonals_train3 = confusion_matrix_train3.diagonal().sum()\n",
    "print(\"Number of Rows Prediction Correctly: {}\\n\"\n",
    "      .format(diagonals_train3))"
   ]
  },
  {
   "cell_type": "code",
   "execution_count": 446,
   "id": "e1bfb358",
   "metadata": {},
   "outputs": [
    {
     "name": "stderr",
     "output_type": "stream",
     "text": [
      "C:\\Python39\\lib\\site-packages\\sklearn\\metrics\\_classification.py:1334: UndefinedMetricWarning: Precision is ill-defined and being set to 0.0 in labels with no predicted samples. Use `zero_division` parameter to control this behavior.\n",
      "  _warn_prf(average, modifier, msg_start, len(result))\n"
     ]
    },
    {
     "data": {
      "text/plain": [
       "0.6997859508979156"
      ]
     },
     "execution_count": 446,
     "metadata": {},
     "output_type": "execute_result"
    }
   ],
   "source": [
    "precision_train3 = precision_score(y_train3, y_predict_train3, average = \"weighted\")\n",
    "precision_train3"
   ]
  },
  {
   "cell_type": "code",
   "execution_count": 447,
   "id": "ea1a18a0",
   "metadata": {},
   "outputs": [
    {
     "data": {
      "text/plain": [
       "0.8365320979483786"
      ]
     },
     "execution_count": 447,
     "metadata": {},
     "output_type": "execute_result"
    }
   ],
   "source": [
    "recall_train3 = recall_score(y_train3, y_predict_train3, average = \"weighted\")\n",
    "recall_train3 "
   ]
  },
  {
   "cell_type": "markdown",
   "id": "821a4dae",
   "metadata": {},
   "source": [
    "### Predicting on test set (3%)"
   ]
  },
  {
   "cell_type": "code",
   "execution_count": 448,
   "id": "d6089a4e",
   "metadata": {},
   "outputs": [
    {
     "name": "stdout",
     "output_type": "stream",
     "text": [
      "Confusion_Matrix:\n",
      "[[ 0 39  0]\n",
      " [ 0 86  0]\n",
      " [ 0 43  0]]\n",
      "Accuracy_Score: 0.5119047619047619\n",
      "\n"
     ]
    }
   ],
   "source": [
    "y_predict_test3 = linearsvc.predict(X_test3)\n",
    "confusion_matrix_test3 = confusion_matrix(y_test3, y_predict_test3)\n",
    "accuracy_score_test3 = accuracy_score(y_test3, y_predict_test3)\n",
    "print(\"Confusion_Matrix:\\n{}\"\n",
    "      .format(confusion_matrix_test3))\n",
    "print(\"Accuracy_Score: {}\\n\"\n",
    "      .format(accuracy_score_test3))"
   ]
  },
  {
   "cell_type": "code",
   "execution_count": 449,
   "id": "a3b4ef8e",
   "metadata": {},
   "outputs": [
    {
     "name": "stdout",
     "output_type": "stream",
     "text": [
      "Number of Rows Prediction Correctly: 86\n",
      "\n"
     ]
    }
   ],
   "source": [
    "diagonals_test3 = confusion_matrix_test3.diagonal().sum()\n",
    "print(\"Number of Rows Prediction Correctly: {}\\n\"\n",
    "      .format(diagonals_test3))"
   ]
  },
  {
   "cell_type": "code",
   "execution_count": 450,
   "id": "0db5b474",
   "metadata": {},
   "outputs": [
    {
     "name": "stderr",
     "output_type": "stream",
     "text": [
      "C:\\Python39\\lib\\site-packages\\sklearn\\metrics\\_classification.py:1334: UndefinedMetricWarning: Precision is ill-defined and being set to 0.0 in labels with no predicted samples. Use `zero_division` parameter to control this behavior.\n",
      "  _warn_prf(average, modifier, msg_start, len(result))\n"
     ]
    },
    {
     "data": {
      "text/plain": [
       "0.26204648526077096"
      ]
     },
     "execution_count": 450,
     "metadata": {},
     "output_type": "execute_result"
    }
   ],
   "source": [
    "precision_test3 = precision_score(y_test3, y_predict_test3, average = \"weighted\")\n",
    "precision_test3"
   ]
  },
  {
   "cell_type": "code",
   "execution_count": 451,
   "id": "47dffb98",
   "metadata": {
    "scrolled": true
   },
   "outputs": [
    {
     "data": {
      "text/plain": [
       "0.5119047619047619"
      ]
     },
     "execution_count": 451,
     "metadata": {},
     "output_type": "execute_result"
    }
   ],
   "source": [
    "recall_test3 = recall_score(y_test3, y_predict_test3, average = \"weighted\")\n",
    "recall_test3 "
   ]
  },
  {
   "cell_type": "markdown",
   "id": "d9b7b92b",
   "metadata": {},
   "source": [
    "## SKLearn Resample 3% "
   ]
  },
  {
   "cell_type": "code",
   "execution_count": 452,
   "id": "e96d1f36",
   "metadata": {
    "scrolled": true
   },
   "outputs": [
    {
     "name": "stderr",
     "output_type": "stream",
     "text": [
      "C:\\Python39\\lib\\site-packages\\sklearn\\svm\\_base.py:1225: ConvergenceWarning: Liblinear failed to converge, increase the number of iterations.\n",
      "  warnings.warn(\n"
     ]
    },
    {
     "data": {
      "text/html": [
       "<style>#sk-container-id-37 {color: black;background-color: white;}#sk-container-id-37 pre{padding: 0;}#sk-container-id-37 div.sk-toggleable {background-color: white;}#sk-container-id-37 label.sk-toggleable__label {cursor: pointer;display: block;width: 100%;margin-bottom: 0;padding: 0.3em;box-sizing: border-box;text-align: center;}#sk-container-id-37 label.sk-toggleable__label-arrow:before {content: \"▸\";float: left;margin-right: 0.25em;color: #696969;}#sk-container-id-37 label.sk-toggleable__label-arrow:hover:before {color: black;}#sk-container-id-37 div.sk-estimator:hover label.sk-toggleable__label-arrow:before {color: black;}#sk-container-id-37 div.sk-toggleable__content {max-height: 0;max-width: 0;overflow: hidden;text-align: left;background-color: #f0f8ff;}#sk-container-id-37 div.sk-toggleable__content pre {margin: 0.2em;color: black;border-radius: 0.25em;background-color: #f0f8ff;}#sk-container-id-37 input.sk-toggleable__control:checked~div.sk-toggleable__content {max-height: 200px;max-width: 100%;overflow: auto;}#sk-container-id-37 input.sk-toggleable__control:checked~label.sk-toggleable__label-arrow:before {content: \"▾\";}#sk-container-id-37 div.sk-estimator input.sk-toggleable__control:checked~label.sk-toggleable__label {background-color: #d4ebff;}#sk-container-id-37 div.sk-label input.sk-toggleable__control:checked~label.sk-toggleable__label {background-color: #d4ebff;}#sk-container-id-37 input.sk-hidden--visually {border: 0;clip: rect(1px 1px 1px 1px);clip: rect(1px, 1px, 1px, 1px);height: 1px;margin: -1px;overflow: hidden;padding: 0;position: absolute;width: 1px;}#sk-container-id-37 div.sk-estimator {font-family: monospace;background-color: #f0f8ff;border: 1px dotted black;border-radius: 0.25em;box-sizing: border-box;margin-bottom: 0.5em;}#sk-container-id-37 div.sk-estimator:hover {background-color: #d4ebff;}#sk-container-id-37 div.sk-parallel-item::after {content: \"\";width: 100%;border-bottom: 1px solid gray;flex-grow: 1;}#sk-container-id-37 div.sk-label:hover label.sk-toggleable__label {background-color: #d4ebff;}#sk-container-id-37 div.sk-serial::before {content: \"\";position: absolute;border-left: 1px solid gray;box-sizing: border-box;top: 0;bottom: 0;left: 50%;z-index: 0;}#sk-container-id-37 div.sk-serial {display: flex;flex-direction: column;align-items: center;background-color: white;padding-right: 0.2em;padding-left: 0.2em;position: relative;}#sk-container-id-37 div.sk-item {position: relative;z-index: 1;}#sk-container-id-37 div.sk-parallel {display: flex;align-items: stretch;justify-content: center;background-color: white;position: relative;}#sk-container-id-37 div.sk-item::before, #sk-container-id-37 div.sk-parallel-item::before {content: \"\";position: absolute;border-left: 1px solid gray;box-sizing: border-box;top: 0;bottom: 0;left: 50%;z-index: -1;}#sk-container-id-37 div.sk-parallel-item {display: flex;flex-direction: column;z-index: 1;position: relative;background-color: white;}#sk-container-id-37 div.sk-parallel-item:first-child::after {align-self: flex-end;width: 50%;}#sk-container-id-37 div.sk-parallel-item:last-child::after {align-self: flex-start;width: 50%;}#sk-container-id-37 div.sk-parallel-item:only-child::after {width: 0;}#sk-container-id-37 div.sk-dashed-wrapped {border: 1px dashed gray;margin: 0 0.4em 0.5em 0.4em;box-sizing: border-box;padding-bottom: 0.4em;background-color: white;}#sk-container-id-37 div.sk-label label {font-family: monospace;font-weight: bold;display: inline-block;line-height: 1.2em;}#sk-container-id-37 div.sk-label-container {text-align: center;}#sk-container-id-37 div.sk-container {/* jupyter's `normalize.less` sets `[hidden] { display: none; }` but bootstrap.min.css set `[hidden] { display: none !important; }` so we also need the `!important` here to be able to override the default hidden behavior on the sphinx rendered scikit-learn.org. See: https://github.com/scikit-learn/scikit-learn/issues/21755 */display: inline-block !important;position: relative;}#sk-container-id-37 div.sk-text-repr-fallback {display: none;}</style><div id=\"sk-container-id-37\" class=\"sk-top-container\"><div class=\"sk-text-repr-fallback\"><pre>LinearSVC(C=1, loss=&#x27;hinge&#x27;, random_state=42)</pre><b>In a Jupyter environment, please rerun this cell to show the HTML representation or trust the notebook. <br />On GitHub, the HTML representation is unable to render, please try loading this page with nbviewer.org.</b></div><div class=\"sk-container\" hidden><div class=\"sk-item\"><div class=\"sk-estimator sk-toggleable\"><input class=\"sk-toggleable__control sk-hidden--visually\" id=\"sk-estimator-id-41\" type=\"checkbox\" checked><label for=\"sk-estimator-id-41\" class=\"sk-toggleable__label sk-toggleable__label-arrow\">LinearSVC</label><div class=\"sk-toggleable__content\"><pre>LinearSVC(C=1, loss=&#x27;hinge&#x27;, random_state=42)</pre></div></div></div></div></div>"
      ],
      "text/plain": [
       "LinearSVC(C=1, loss='hinge', random_state=42)"
      ]
     },
     "execution_count": 452,
     "metadata": {},
     "output_type": "execute_result"
    }
   ],
   "source": [
    "linearsvc.fit(X_train_upsampled3, y_train_upsampled3)"
   ]
  },
  {
   "cell_type": "markdown",
   "id": "a47fd6cf",
   "metadata": {},
   "source": [
    "### [SKLEARN RESAMPLE] Predicting on train set (3%)"
   ]
  },
  {
   "cell_type": "code",
   "execution_count": 453,
   "id": "f56cb502",
   "metadata": {},
   "outputs": [
    {
     "name": "stdout",
     "output_type": "stream",
     "text": [
      "Confusion_Matrix:\n",
      "[[ 891  124  249]\n",
      " [ 683  131  450]\n",
      " [ 201   62 1001]]\n",
      "Accuracy_Score: 0.5334915611814346\n",
      "\n"
     ]
    }
   ],
   "source": [
    "y_predict_train3sk = linearsvc.predict(X_train_upsampled3)\n",
    "confusion_matrix_train3sk = confusion_matrix(y_train_upsampled3, y_predict_train3sk)\n",
    "accuracy_score_train3sk = accuracy_score(y_train_upsampled3, y_predict_train3sk)\n",
    "print(\"Confusion_Matrix:\\n{}\"\n",
    "      .format(confusion_matrix_train3sk))\n",
    "print(\"Accuracy_Score: {}\\n\"\n",
    "      .format(accuracy_score_train3sk))"
   ]
  },
  {
   "cell_type": "code",
   "execution_count": 454,
   "id": "c344270b",
   "metadata": {},
   "outputs": [
    {
     "name": "stdout",
     "output_type": "stream",
     "text": [
      "Number of Rows Prediction Correctly: 2023\n",
      "\n"
     ]
    }
   ],
   "source": [
    "skdiagonals_train3sk = confusion_matrix_train3sk.diagonal().sum()\n",
    "print(\"Number of Rows Prediction Correctly: {}\\n\"\n",
    "      .format(skdiagonals_train3sk))"
   ]
  },
  {
   "cell_type": "code",
   "execution_count": 455,
   "id": "93736437",
   "metadata": {},
   "outputs": [
    {
     "data": {
      "text/plain": [
       "0.5013481905847158"
      ]
     },
     "execution_count": 455,
     "metadata": {},
     "output_type": "execute_result"
    }
   ],
   "source": [
    "precision_train3sk = precision_score(y_train_upsampled3, y_predict_train3sk, average = \"weighted\")\n",
    "precision_train3sk"
   ]
  },
  {
   "cell_type": "code",
   "execution_count": 456,
   "id": "7de21feb",
   "metadata": {},
   "outputs": [
    {
     "data": {
      "text/plain": [
       "0.5334915611814346"
      ]
     },
     "execution_count": 456,
     "metadata": {},
     "output_type": "execute_result"
    }
   ],
   "source": [
    "recall_train3sk = recall_score(y_train_upsampled3, y_predict_train3sk, average = \"weighted\")\n",
    "recall_train3sk"
   ]
  },
  {
   "cell_type": "markdown",
   "id": "8ef47f1b",
   "metadata": {},
   "source": [
    "### [SKLEARN RESAMPLE] Predicting on test set (3%)"
   ]
  },
  {
   "cell_type": "code",
   "execution_count": 457,
   "id": "5265b4b6",
   "metadata": {},
   "outputs": [
    {
     "name": "stdout",
     "output_type": "stream",
     "text": [
      "Confusion_Matrix:\n",
      "[[10  8 21]\n",
      " [13  7 66]\n",
      " [ 0  2 41]]\n",
      "Accuracy_Score: 0.34523809523809523\n",
      "\n"
     ]
    }
   ],
   "source": [
    "y_predict_test3sk = linearsvc.predict(X_test3)\n",
    "confusion_matrix_test3sk = confusion_matrix(y_test3, y_predict_test3sk)\n",
    "accuracy_score_test3sk = accuracy_score(y_test3, y_predict_test3sk)\n",
    "print(\"Confusion_Matrix:\\n{}\"\n",
    "      .format(confusion_matrix_test3sk))\n",
    "print(\"Accuracy_Score: {}\\n\"\n",
    "      .format(accuracy_score_test3sk))"
   ]
  },
  {
   "cell_type": "code",
   "execution_count": 458,
   "id": "99434e54",
   "metadata": {},
   "outputs": [
    {
     "name": "stdout",
     "output_type": "stream",
     "text": [
      "Number of Rows Prediction Correctly: 58\n",
      "\n"
     ]
    }
   ],
   "source": [
    "diagonals_test3sk = confusion_matrix_test3sk.diagonal().sum()\n",
    "print(\"Number of Rows Prediction Correctly: {}\\n\"\n",
    "      .format(diagonals_test3sk))"
   ]
  },
  {
   "cell_type": "code",
   "execution_count": 459,
   "id": "7d43d94f",
   "metadata": {},
   "outputs": [
    {
     "data": {
      "text/plain": [
       "0.39370073776793324"
      ]
     },
     "execution_count": 459,
     "metadata": {},
     "output_type": "execute_result"
    }
   ],
   "source": [
    "precision_test3sk = precision_score(y_test3, y_predict_test3sk, average = \"weighted\")\n",
    "precision_test3sk "
   ]
  },
  {
   "cell_type": "code",
   "execution_count": 460,
   "id": "e42b9a53",
   "metadata": {
    "scrolled": true
   },
   "outputs": [
    {
     "data": {
      "text/plain": [
       "0.34523809523809523"
      ]
     },
     "execution_count": 460,
     "metadata": {},
     "output_type": "execute_result"
    }
   ],
   "source": [
    "recall_test3sk = recall_score(y_test3, y_predict_test3sk, average = \"weighted\")\n",
    "recall_test3sk "
   ]
  },
  {
   "cell_type": "markdown",
   "id": "549f2d91",
   "metadata": {},
   "source": [
    "## SMOTE Resample 3% "
   ]
  },
  {
   "cell_type": "code",
   "execution_count": 461,
   "id": "9dd46452",
   "metadata": {
    "scrolled": true
   },
   "outputs": [
    {
     "name": "stderr",
     "output_type": "stream",
     "text": [
      "C:\\Python39\\lib\\site-packages\\sklearn\\utils\\validation.py:1111: DataConversionWarning: A column-vector y was passed when a 1d array was expected. Please change the shape of y to (n_samples, ), for example using ravel().\n",
      "  y = column_or_1d(y, warn=True)\n",
      "C:\\Python39\\lib\\site-packages\\sklearn\\svm\\_base.py:1225: ConvergenceWarning: Liblinear failed to converge, increase the number of iterations.\n",
      "  warnings.warn(\n"
     ]
    },
    {
     "data": {
      "text/html": [
       "<style>#sk-container-id-38 {color: black;background-color: white;}#sk-container-id-38 pre{padding: 0;}#sk-container-id-38 div.sk-toggleable {background-color: white;}#sk-container-id-38 label.sk-toggleable__label {cursor: pointer;display: block;width: 100%;margin-bottom: 0;padding: 0.3em;box-sizing: border-box;text-align: center;}#sk-container-id-38 label.sk-toggleable__label-arrow:before {content: \"▸\";float: left;margin-right: 0.25em;color: #696969;}#sk-container-id-38 label.sk-toggleable__label-arrow:hover:before {color: black;}#sk-container-id-38 div.sk-estimator:hover label.sk-toggleable__label-arrow:before {color: black;}#sk-container-id-38 div.sk-toggleable__content {max-height: 0;max-width: 0;overflow: hidden;text-align: left;background-color: #f0f8ff;}#sk-container-id-38 div.sk-toggleable__content pre {margin: 0.2em;color: black;border-radius: 0.25em;background-color: #f0f8ff;}#sk-container-id-38 input.sk-toggleable__control:checked~div.sk-toggleable__content {max-height: 200px;max-width: 100%;overflow: auto;}#sk-container-id-38 input.sk-toggleable__control:checked~label.sk-toggleable__label-arrow:before {content: \"▾\";}#sk-container-id-38 div.sk-estimator input.sk-toggleable__control:checked~label.sk-toggleable__label {background-color: #d4ebff;}#sk-container-id-38 div.sk-label input.sk-toggleable__control:checked~label.sk-toggleable__label {background-color: #d4ebff;}#sk-container-id-38 input.sk-hidden--visually {border: 0;clip: rect(1px 1px 1px 1px);clip: rect(1px, 1px, 1px, 1px);height: 1px;margin: -1px;overflow: hidden;padding: 0;position: absolute;width: 1px;}#sk-container-id-38 div.sk-estimator {font-family: monospace;background-color: #f0f8ff;border: 1px dotted black;border-radius: 0.25em;box-sizing: border-box;margin-bottom: 0.5em;}#sk-container-id-38 div.sk-estimator:hover {background-color: #d4ebff;}#sk-container-id-38 div.sk-parallel-item::after {content: \"\";width: 100%;border-bottom: 1px solid gray;flex-grow: 1;}#sk-container-id-38 div.sk-label:hover label.sk-toggleable__label {background-color: #d4ebff;}#sk-container-id-38 div.sk-serial::before {content: \"\";position: absolute;border-left: 1px solid gray;box-sizing: border-box;top: 0;bottom: 0;left: 50%;z-index: 0;}#sk-container-id-38 div.sk-serial {display: flex;flex-direction: column;align-items: center;background-color: white;padding-right: 0.2em;padding-left: 0.2em;position: relative;}#sk-container-id-38 div.sk-item {position: relative;z-index: 1;}#sk-container-id-38 div.sk-parallel {display: flex;align-items: stretch;justify-content: center;background-color: white;position: relative;}#sk-container-id-38 div.sk-item::before, #sk-container-id-38 div.sk-parallel-item::before {content: \"\";position: absolute;border-left: 1px solid gray;box-sizing: border-box;top: 0;bottom: 0;left: 50%;z-index: -1;}#sk-container-id-38 div.sk-parallel-item {display: flex;flex-direction: column;z-index: 1;position: relative;background-color: white;}#sk-container-id-38 div.sk-parallel-item:first-child::after {align-self: flex-end;width: 50%;}#sk-container-id-38 div.sk-parallel-item:last-child::after {align-self: flex-start;width: 50%;}#sk-container-id-38 div.sk-parallel-item:only-child::after {width: 0;}#sk-container-id-38 div.sk-dashed-wrapped {border: 1px dashed gray;margin: 0 0.4em 0.5em 0.4em;box-sizing: border-box;padding-bottom: 0.4em;background-color: white;}#sk-container-id-38 div.sk-label label {font-family: monospace;font-weight: bold;display: inline-block;line-height: 1.2em;}#sk-container-id-38 div.sk-label-container {text-align: center;}#sk-container-id-38 div.sk-container {/* jupyter's `normalize.less` sets `[hidden] { display: none; }` but bootstrap.min.css set `[hidden] { display: none !important; }` so we also need the `!important` here to be able to override the default hidden behavior on the sphinx rendered scikit-learn.org. See: https://github.com/scikit-learn/scikit-learn/issues/21755 */display: inline-block !important;position: relative;}#sk-container-id-38 div.sk-text-repr-fallback {display: none;}</style><div id=\"sk-container-id-38\" class=\"sk-top-container\"><div class=\"sk-text-repr-fallback\"><pre>LinearSVC(C=1, loss=&#x27;hinge&#x27;, random_state=42)</pre><b>In a Jupyter environment, please rerun this cell to show the HTML representation or trust the notebook. <br />On GitHub, the HTML representation is unable to render, please try loading this page with nbviewer.org.</b></div><div class=\"sk-container\" hidden><div class=\"sk-item\"><div class=\"sk-estimator sk-toggleable\"><input class=\"sk-toggleable__control sk-hidden--visually\" id=\"sk-estimator-id-42\" type=\"checkbox\" checked><label for=\"sk-estimator-id-42\" class=\"sk-toggleable__label sk-toggleable__label-arrow\">LinearSVC</label><div class=\"sk-toggleable__content\"><pre>LinearSVC(C=1, loss=&#x27;hinge&#x27;, random_state=42)</pre></div></div></div></div></div>"
      ],
      "text/plain": [
       "LinearSVC(C=1, loss='hinge', random_state=42)"
      ]
     },
     "execution_count": 461,
     "metadata": {},
     "output_type": "execute_result"
    }
   ],
   "source": [
    "linearsvc.fit(X_train_oversampled3, y_train_oversampled3)"
   ]
  },
  {
   "cell_type": "markdown",
   "id": "9724bc9c",
   "metadata": {},
   "source": [
    "### [SMOTE] Predicting on train set (3%)"
   ]
  },
  {
   "cell_type": "code",
   "execution_count": 462,
   "id": "cb2ca84b",
   "metadata": {},
   "outputs": [
    {
     "name": "stdout",
     "output_type": "stream",
     "text": [
      "Confusion_Matrix:\n",
      "[[885 125 254]\n",
      " [653 161 450]\n",
      " [221  59 984]]\n",
      "Accuracy_Score: 0.5353375527426161\n",
      "\n"
     ]
    }
   ],
   "source": [
    "y_predict_train3sm = linearsvc.predict(X_train_oversampled3)\n",
    "confusion_matrix_train3sm = confusion_matrix(y_train_oversampled3, y_predict_train3sm)\n",
    "accuracy_score_train3sm = accuracy_score(y_train_oversampled3, y_predict_train3sm)\n",
    "print(\"Confusion_Matrix:\\n{}\"\n",
    "      .format(confusion_matrix_train3sm))\n",
    "print(\"Accuracy_Score: {}\\n\"\n",
    "      .format(accuracy_score_train3sm))"
   ]
  },
  {
   "cell_type": "code",
   "execution_count": 463,
   "id": "a9c3e59d",
   "metadata": {},
   "outputs": [
    {
     "name": "stdout",
     "output_type": "stream",
     "text": [
      "Number of Rows Prediction Correctly: 2030\n",
      "\n"
     ]
    }
   ],
   "source": [
    "skdiagonals_train3sm = confusion_matrix_train3sm.diagonal().sum()\n",
    "print(\"Number of Rows Prediction Correctly: {}\\n\"\n",
    "      .format(skdiagonals_train3sm))"
   ]
  },
  {
   "cell_type": "code",
   "execution_count": 464,
   "id": "763ebb2d",
   "metadata": {},
   "outputs": [
    {
     "data": {
      "text/plain": [
       "0.5175772772899534"
      ]
     },
     "execution_count": 464,
     "metadata": {},
     "output_type": "execute_result"
    }
   ],
   "source": [
    "precision_train3sm = precision_score(y_train_oversampled3, y_predict_train3sm, average = \"weighted\")\n",
    "precision_train3sm"
   ]
  },
  {
   "cell_type": "code",
   "execution_count": 465,
   "id": "6944ff21",
   "metadata": {},
   "outputs": [
    {
     "data": {
      "text/plain": [
       "0.5353375527426161"
      ]
     },
     "execution_count": 465,
     "metadata": {},
     "output_type": "execute_result"
    }
   ],
   "source": [
    "recall_train3sm = recall_score(y_train_oversampled3, y_predict_train3sm, average = \"weighted\")\n",
    "recall_train3sm"
   ]
  },
  {
   "cell_type": "markdown",
   "id": "d2b8bc80",
   "metadata": {},
   "source": [
    "### [SMOTE] Predicting on test set (3%)"
   ]
  },
  {
   "cell_type": "code",
   "execution_count": 466,
   "id": "528a7cde",
   "metadata": {},
   "outputs": [
    {
     "name": "stdout",
     "output_type": "stream",
     "text": [
      "Confusion_Matrix:\n",
      "[[10  9 20]\n",
      " [13  8 65]\n",
      " [ 1  2 40]]\n",
      "Accuracy_Score: 0.34523809523809523\n",
      "\n"
     ]
    }
   ],
   "source": [
    "y_predict_test3sm = linearsvc.predict(X_test3)\n",
    "confusion_matrix_test3sm = confusion_matrix(y_test3, y_predict_test3sm)\n",
    "accuracy_score_test3sm = accuracy_score(y_test3, y_predict_test3sm)\n",
    "print(\"Confusion_Matrix:\\n{}\"\n",
    "      .format(confusion_matrix_test3sm))\n",
    "print(\"Accuracy_Score: {}\\n\"\n",
    "      .format(accuracy_score_test3sm))"
   ]
  },
  {
   "cell_type": "code",
   "execution_count": 467,
   "id": "483cfc08",
   "metadata": {},
   "outputs": [
    {
     "name": "stdout",
     "output_type": "stream",
     "text": [
      "Number of Rows Prediction Correctly: 58\n",
      "\n"
     ]
    }
   ],
   "source": [
    "diagonals_test3sm = confusion_matrix_test3sm.diagonal().sum()\n",
    "print(\"Number of Rows Prediction Correctly: {}\\n\"\n",
    "      .format(diagonals_test3sm))"
   ]
  },
  {
   "cell_type": "code",
   "execution_count": 468,
   "id": "64e5918e",
   "metadata": {},
   "outputs": [
    {
     "data": {
      "text/plain": [
       "0.39416979949874686"
      ]
     },
     "execution_count": 468,
     "metadata": {},
     "output_type": "execute_result"
    }
   ],
   "source": [
    "precision_test3sm = precision_score(y_test3, y_predict_test3sm, average = \"weighted\")\n",
    "precision_test3sm"
   ]
  },
  {
   "cell_type": "code",
   "execution_count": 469,
   "id": "e3620fd1",
   "metadata": {
    "scrolled": true
   },
   "outputs": [
    {
     "data": {
      "text/plain": [
       "0.34523809523809523"
      ]
     },
     "execution_count": 469,
     "metadata": {},
     "output_type": "execute_result"
    }
   ],
   "source": [
    "recall_test3sm= recall_score(y_test3, y_predict_test3sm, average = \"weighted\")\n",
    "recall_test3sm"
   ]
  },
  {
   "cell_type": "markdown",
   "id": "42d80889",
   "metadata": {},
   "source": [
    "## 5% Target threshold"
   ]
  },
  {
   "cell_type": "code",
   "execution_count": 470,
   "id": "bd0954b8",
   "metadata": {
    "scrolled": true
   },
   "outputs": [
    {
     "name": "stderr",
     "output_type": "stream",
     "text": [
      "C:\\Python39\\lib\\site-packages\\sklearn\\utils\\validation.py:1111: DataConversionWarning: A column-vector y was passed when a 1d array was expected. Please change the shape of y to (n_samples, ), for example using ravel().\n",
      "  y = column_or_1d(y, warn=True)\n",
      "C:\\Python39\\lib\\site-packages\\sklearn\\svm\\_base.py:1225: ConvergenceWarning: Liblinear failed to converge, increase the number of iterations.\n",
      "  warnings.warn(\n"
     ]
    },
    {
     "data": {
      "text/html": [
       "<style>#sk-container-id-39 {color: black;background-color: white;}#sk-container-id-39 pre{padding: 0;}#sk-container-id-39 div.sk-toggleable {background-color: white;}#sk-container-id-39 label.sk-toggleable__label {cursor: pointer;display: block;width: 100%;margin-bottom: 0;padding: 0.3em;box-sizing: border-box;text-align: center;}#sk-container-id-39 label.sk-toggleable__label-arrow:before {content: \"▸\";float: left;margin-right: 0.25em;color: #696969;}#sk-container-id-39 label.sk-toggleable__label-arrow:hover:before {color: black;}#sk-container-id-39 div.sk-estimator:hover label.sk-toggleable__label-arrow:before {color: black;}#sk-container-id-39 div.sk-toggleable__content {max-height: 0;max-width: 0;overflow: hidden;text-align: left;background-color: #f0f8ff;}#sk-container-id-39 div.sk-toggleable__content pre {margin: 0.2em;color: black;border-radius: 0.25em;background-color: #f0f8ff;}#sk-container-id-39 input.sk-toggleable__control:checked~div.sk-toggleable__content {max-height: 200px;max-width: 100%;overflow: auto;}#sk-container-id-39 input.sk-toggleable__control:checked~label.sk-toggleable__label-arrow:before {content: \"▾\";}#sk-container-id-39 div.sk-estimator input.sk-toggleable__control:checked~label.sk-toggleable__label {background-color: #d4ebff;}#sk-container-id-39 div.sk-label input.sk-toggleable__control:checked~label.sk-toggleable__label {background-color: #d4ebff;}#sk-container-id-39 input.sk-hidden--visually {border: 0;clip: rect(1px 1px 1px 1px);clip: rect(1px, 1px, 1px, 1px);height: 1px;margin: -1px;overflow: hidden;padding: 0;position: absolute;width: 1px;}#sk-container-id-39 div.sk-estimator {font-family: monospace;background-color: #f0f8ff;border: 1px dotted black;border-radius: 0.25em;box-sizing: border-box;margin-bottom: 0.5em;}#sk-container-id-39 div.sk-estimator:hover {background-color: #d4ebff;}#sk-container-id-39 div.sk-parallel-item::after {content: \"\";width: 100%;border-bottom: 1px solid gray;flex-grow: 1;}#sk-container-id-39 div.sk-label:hover label.sk-toggleable__label {background-color: #d4ebff;}#sk-container-id-39 div.sk-serial::before {content: \"\";position: absolute;border-left: 1px solid gray;box-sizing: border-box;top: 0;bottom: 0;left: 50%;z-index: 0;}#sk-container-id-39 div.sk-serial {display: flex;flex-direction: column;align-items: center;background-color: white;padding-right: 0.2em;padding-left: 0.2em;position: relative;}#sk-container-id-39 div.sk-item {position: relative;z-index: 1;}#sk-container-id-39 div.sk-parallel {display: flex;align-items: stretch;justify-content: center;background-color: white;position: relative;}#sk-container-id-39 div.sk-item::before, #sk-container-id-39 div.sk-parallel-item::before {content: \"\";position: absolute;border-left: 1px solid gray;box-sizing: border-box;top: 0;bottom: 0;left: 50%;z-index: -1;}#sk-container-id-39 div.sk-parallel-item {display: flex;flex-direction: column;z-index: 1;position: relative;background-color: white;}#sk-container-id-39 div.sk-parallel-item:first-child::after {align-self: flex-end;width: 50%;}#sk-container-id-39 div.sk-parallel-item:last-child::after {align-self: flex-start;width: 50%;}#sk-container-id-39 div.sk-parallel-item:only-child::after {width: 0;}#sk-container-id-39 div.sk-dashed-wrapped {border: 1px dashed gray;margin: 0 0.4em 0.5em 0.4em;box-sizing: border-box;padding-bottom: 0.4em;background-color: white;}#sk-container-id-39 div.sk-label label {font-family: monospace;font-weight: bold;display: inline-block;line-height: 1.2em;}#sk-container-id-39 div.sk-label-container {text-align: center;}#sk-container-id-39 div.sk-container {/* jupyter's `normalize.less` sets `[hidden] { display: none; }` but bootstrap.min.css set `[hidden] { display: none !important; }` so we also need the `!important` here to be able to override the default hidden behavior on the sphinx rendered scikit-learn.org. See: https://github.com/scikit-learn/scikit-learn/issues/21755 */display: inline-block !important;position: relative;}#sk-container-id-39 div.sk-text-repr-fallback {display: none;}</style><div id=\"sk-container-id-39\" class=\"sk-top-container\"><div class=\"sk-text-repr-fallback\"><pre>LinearSVC(C=1, loss=&#x27;hinge&#x27;, random_state=42)</pre><b>In a Jupyter environment, please rerun this cell to show the HTML representation or trust the notebook. <br />On GitHub, the HTML representation is unable to render, please try loading this page with nbviewer.org.</b></div><div class=\"sk-container\" hidden><div class=\"sk-item\"><div class=\"sk-estimator sk-toggleable\"><input class=\"sk-toggleable__control sk-hidden--visually\" id=\"sk-estimator-id-43\" type=\"checkbox\" checked><label for=\"sk-estimator-id-43\" class=\"sk-toggleable__label sk-toggleable__label-arrow\">LinearSVC</label><div class=\"sk-toggleable__content\"><pre>LinearSVC(C=1, loss=&#x27;hinge&#x27;, random_state=42)</pre></div></div></div></div></div>"
      ],
      "text/plain": [
       "LinearSVC(C=1, loss='hinge', random_state=42)"
      ]
     },
     "execution_count": 470,
     "metadata": {},
     "output_type": "execute_result"
    }
   ],
   "source": [
    "linearsvc.fit(X_train5, y_train5)"
   ]
  },
  {
   "cell_type": "markdown",
   "id": "ea9c90d8",
   "metadata": {},
   "source": [
    "### Predicting on train set (5%)"
   ]
  },
  {
   "cell_type": "code",
   "execution_count": 471,
   "id": "309a407e",
   "metadata": {},
   "outputs": [
    {
     "name": "stdout",
     "output_type": "stream",
     "text": [
      "Confusion_Matrix (5%):\n",
      "[[   0   30    0]\n",
      " [   0 1436    0]\n",
      " [   0   45    0]]\n",
      "Accuracy_Score (5%): 0.9503639973527466\n",
      "\n"
     ]
    }
   ],
   "source": [
    "y_predict_train5 = linearsvc.predict(X_train5)\n",
    "confusion_matrix_train5 = confusion_matrix(y_train5, y_predict_train5)\n",
    "accuracy_score_train5 = accuracy_score(y_train5, y_predict_train5)\n",
    "print(\"Confusion_Matrix (5%):\\n{}\"\n",
    "      .format(confusion_matrix_train5))\n",
    "print(\"Accuracy_Score (5%): {}\\n\"\n",
    "      .format(accuracy_score_train5))"
   ]
  },
  {
   "cell_type": "code",
   "execution_count": 472,
   "id": "a54a49a5",
   "metadata": {},
   "outputs": [
    {
     "name": "stdout",
     "output_type": "stream",
     "text": [
      "Number of Rows Prediction Correctly (5%): 1436\n",
      "\n"
     ]
    }
   ],
   "source": [
    "diagonals_train5 = confusion_matrix_train5.diagonal().sum()\n",
    "print(\"Number of Rows Prediction Correctly (5%): {}\\n\"\n",
    "      .format(diagonals_train5))"
   ]
  },
  {
   "cell_type": "code",
   "execution_count": 473,
   "id": "b098b9d9",
   "metadata": {},
   "outputs": [],
   "source": [
    "TP_train5 = confusion_matrix_train5[1, 1]\n",
    "TN_train5 = confusion_matrix_train5[0, 0]\n",
    "FP_train5 = confusion_matrix_train5[0, 1]\n",
    "FN_train5 = confusion_matrix_train5[1, 0]"
   ]
  },
  {
   "cell_type": "code",
   "execution_count": 474,
   "id": "138d14e9",
   "metadata": {},
   "outputs": [
    {
     "name": "stderr",
     "output_type": "stream",
     "text": [
      "C:\\Python39\\lib\\site-packages\\sklearn\\metrics\\_classification.py:1334: UndefinedMetricWarning: Precision is ill-defined and being set to 0.0 in labels with no predicted samples. Use `zero_division` parameter to control this behavior.\n",
      "  _warn_prf(average, modifier, msg_start, len(result))\n"
     ]
    },
    {
     "data": {
      "text/plain": [
       "0.9031917274642912"
      ]
     },
     "execution_count": 474,
     "metadata": {},
     "output_type": "execute_result"
    }
   ],
   "source": [
    "precision_train5 = precision_score(y_train5, y_predict_train5, average = \"weighted\")\n",
    "precision_train5"
   ]
  },
  {
   "cell_type": "code",
   "execution_count": 475,
   "id": "ae3cce10",
   "metadata": {},
   "outputs": [
    {
     "data": {
      "text/plain": [
       "0.9503639973527466"
      ]
     },
     "execution_count": 475,
     "metadata": {},
     "output_type": "execute_result"
    }
   ],
   "source": [
    "recall_train5 = recall_score(y_train5, y_predict_train5, average = \"weighted\")\n",
    "recall_train5"
   ]
  },
  {
   "cell_type": "markdown",
   "id": "0d9fc4cb",
   "metadata": {},
   "source": [
    "### Predicting on test set (5%)"
   ]
  },
  {
   "cell_type": "code",
   "execution_count": 476,
   "id": "0617c33b",
   "metadata": {},
   "outputs": [
    {
     "name": "stdout",
     "output_type": "stream",
     "text": [
      "Confusion_Matrix (5%):\n",
      "[[  0  10   0]\n",
      " [  0 137   0]\n",
      " [  0  21   0]]\n",
      "Accuracy_Score (5%): 0.8154761904761905\n",
      "\n"
     ]
    }
   ],
   "source": [
    "y_predict_test5 = linearsvc.predict(X_test5)\n",
    "confusion_matrix_test5 = confusion_matrix(y_test5, y_predict_test5)\n",
    "accuracy_score_test5 = accuracy_score(y_test5, y_predict_test5)\n",
    "print(\"Confusion_Matrix (5%):\\n{}\"\n",
    "      .format(confusion_matrix_test5))\n",
    "print(\"Accuracy_Score (5%): {}\\n\"\n",
    "      .format(accuracy_score_test5))"
   ]
  },
  {
   "cell_type": "code",
   "execution_count": 477,
   "id": "9da10bd0",
   "metadata": {},
   "outputs": [
    {
     "name": "stdout",
     "output_type": "stream",
     "text": [
      "Number of Rows Prediction Correctly (5%): 137\n",
      "\n"
     ]
    }
   ],
   "source": [
    "diagonals_test5 = confusion_matrix_test5.diagonal().sum()\n",
    "print(\"Number of Rows Prediction Correctly (5%): {}\\n\"\n",
    "      .format(diagonals_test5))"
   ]
  },
  {
   "cell_type": "code",
   "execution_count": 478,
   "id": "f72c3c3f",
   "metadata": {},
   "outputs": [
    {
     "name": "stderr",
     "output_type": "stream",
     "text": [
      "C:\\Python39\\lib\\site-packages\\sklearn\\metrics\\_classification.py:1334: UndefinedMetricWarning: Precision is ill-defined and being set to 0.0 in labels with no predicted samples. Use `zero_division` parameter to control this behavior.\n",
      "  _warn_prf(average, modifier, msg_start, len(result))\n"
     ]
    },
    {
     "data": {
      "text/plain": [
       "0.6650014172335601"
      ]
     },
     "execution_count": 478,
     "metadata": {},
     "output_type": "execute_result"
    }
   ],
   "source": [
    "precision_test5 = precision_score(y_test5, y_predict_test5, average = \"weighted\")\n",
    "precision_test5 "
   ]
  },
  {
   "cell_type": "code",
   "execution_count": 479,
   "id": "d448ac64",
   "metadata": {},
   "outputs": [
    {
     "data": {
      "text/plain": [
       "0.8154761904761905"
      ]
     },
     "execution_count": 479,
     "metadata": {},
     "output_type": "execute_result"
    }
   ],
   "source": [
    "recall_test5 = recall_score(y_test5, y_predict_test5, average = \"weighted\")\n",
    "recall_test5 "
   ]
  },
  {
   "cell_type": "markdown",
   "id": "b7d94612",
   "metadata": {},
   "source": [
    "## SKLearn Resample 5% "
   ]
  },
  {
   "cell_type": "code",
   "execution_count": 480,
   "id": "7a9ec0da",
   "metadata": {
    "scrolled": true
   },
   "outputs": [
    {
     "name": "stderr",
     "output_type": "stream",
     "text": [
      "C:\\Python39\\lib\\site-packages\\sklearn\\svm\\_base.py:1225: ConvergenceWarning: Liblinear failed to converge, increase the number of iterations.\n",
      "  warnings.warn(\n"
     ]
    },
    {
     "data": {
      "text/html": [
       "<style>#sk-container-id-40 {color: black;background-color: white;}#sk-container-id-40 pre{padding: 0;}#sk-container-id-40 div.sk-toggleable {background-color: white;}#sk-container-id-40 label.sk-toggleable__label {cursor: pointer;display: block;width: 100%;margin-bottom: 0;padding: 0.3em;box-sizing: border-box;text-align: center;}#sk-container-id-40 label.sk-toggleable__label-arrow:before {content: \"▸\";float: left;margin-right: 0.25em;color: #696969;}#sk-container-id-40 label.sk-toggleable__label-arrow:hover:before {color: black;}#sk-container-id-40 div.sk-estimator:hover label.sk-toggleable__label-arrow:before {color: black;}#sk-container-id-40 div.sk-toggleable__content {max-height: 0;max-width: 0;overflow: hidden;text-align: left;background-color: #f0f8ff;}#sk-container-id-40 div.sk-toggleable__content pre {margin: 0.2em;color: black;border-radius: 0.25em;background-color: #f0f8ff;}#sk-container-id-40 input.sk-toggleable__control:checked~div.sk-toggleable__content {max-height: 200px;max-width: 100%;overflow: auto;}#sk-container-id-40 input.sk-toggleable__control:checked~label.sk-toggleable__label-arrow:before {content: \"▾\";}#sk-container-id-40 div.sk-estimator input.sk-toggleable__control:checked~label.sk-toggleable__label {background-color: #d4ebff;}#sk-container-id-40 div.sk-label input.sk-toggleable__control:checked~label.sk-toggleable__label {background-color: #d4ebff;}#sk-container-id-40 input.sk-hidden--visually {border: 0;clip: rect(1px 1px 1px 1px);clip: rect(1px, 1px, 1px, 1px);height: 1px;margin: -1px;overflow: hidden;padding: 0;position: absolute;width: 1px;}#sk-container-id-40 div.sk-estimator {font-family: monospace;background-color: #f0f8ff;border: 1px dotted black;border-radius: 0.25em;box-sizing: border-box;margin-bottom: 0.5em;}#sk-container-id-40 div.sk-estimator:hover {background-color: #d4ebff;}#sk-container-id-40 div.sk-parallel-item::after {content: \"\";width: 100%;border-bottom: 1px solid gray;flex-grow: 1;}#sk-container-id-40 div.sk-label:hover label.sk-toggleable__label {background-color: #d4ebff;}#sk-container-id-40 div.sk-serial::before {content: \"\";position: absolute;border-left: 1px solid gray;box-sizing: border-box;top: 0;bottom: 0;left: 50%;z-index: 0;}#sk-container-id-40 div.sk-serial {display: flex;flex-direction: column;align-items: center;background-color: white;padding-right: 0.2em;padding-left: 0.2em;position: relative;}#sk-container-id-40 div.sk-item {position: relative;z-index: 1;}#sk-container-id-40 div.sk-parallel {display: flex;align-items: stretch;justify-content: center;background-color: white;position: relative;}#sk-container-id-40 div.sk-item::before, #sk-container-id-40 div.sk-parallel-item::before {content: \"\";position: absolute;border-left: 1px solid gray;box-sizing: border-box;top: 0;bottom: 0;left: 50%;z-index: -1;}#sk-container-id-40 div.sk-parallel-item {display: flex;flex-direction: column;z-index: 1;position: relative;background-color: white;}#sk-container-id-40 div.sk-parallel-item:first-child::after {align-self: flex-end;width: 50%;}#sk-container-id-40 div.sk-parallel-item:last-child::after {align-self: flex-start;width: 50%;}#sk-container-id-40 div.sk-parallel-item:only-child::after {width: 0;}#sk-container-id-40 div.sk-dashed-wrapped {border: 1px dashed gray;margin: 0 0.4em 0.5em 0.4em;box-sizing: border-box;padding-bottom: 0.4em;background-color: white;}#sk-container-id-40 div.sk-label label {font-family: monospace;font-weight: bold;display: inline-block;line-height: 1.2em;}#sk-container-id-40 div.sk-label-container {text-align: center;}#sk-container-id-40 div.sk-container {/* jupyter's `normalize.less` sets `[hidden] { display: none; }` but bootstrap.min.css set `[hidden] { display: none !important; }` so we also need the `!important` here to be able to override the default hidden behavior on the sphinx rendered scikit-learn.org. See: https://github.com/scikit-learn/scikit-learn/issues/21755 */display: inline-block !important;position: relative;}#sk-container-id-40 div.sk-text-repr-fallback {display: none;}</style><div id=\"sk-container-id-40\" class=\"sk-top-container\"><div class=\"sk-text-repr-fallback\"><pre>LinearSVC(C=1, loss=&#x27;hinge&#x27;, random_state=42)</pre><b>In a Jupyter environment, please rerun this cell to show the HTML representation or trust the notebook. <br />On GitHub, the HTML representation is unable to render, please try loading this page with nbviewer.org.</b></div><div class=\"sk-container\" hidden><div class=\"sk-item\"><div class=\"sk-estimator sk-toggleable\"><input class=\"sk-toggleable__control sk-hidden--visually\" id=\"sk-estimator-id-44\" type=\"checkbox\" checked><label for=\"sk-estimator-id-44\" class=\"sk-toggleable__label sk-toggleable__label-arrow\">LinearSVC</label><div class=\"sk-toggleable__content\"><pre>LinearSVC(C=1, loss=&#x27;hinge&#x27;, random_state=42)</pre></div></div></div></div></div>"
      ],
      "text/plain": [
       "LinearSVC(C=1, loss='hinge', random_state=42)"
      ]
     },
     "execution_count": 480,
     "metadata": {},
     "output_type": "execute_result"
    }
   ],
   "source": [
    "linearsvc.fit(X_train_upsampled5, y_train_upsampled5)"
   ]
  },
  {
   "cell_type": "markdown",
   "id": "04e4b246",
   "metadata": {},
   "source": [
    "### [SKLEARN RESAMPLE] Predicting on train set (5%)"
   ]
  },
  {
   "cell_type": "code",
   "execution_count": 481,
   "id": "d6985410",
   "metadata": {},
   "outputs": [
    {
     "name": "stdout",
     "output_type": "stream",
     "text": [
      "Confusion_Matrix:\n",
      "[[   0  257   11]\n",
      " [   0 2828  115]\n",
      " [   0  289  292]]\n",
      "Accuracy_Score: 0.8227848101265823\n",
      "\n"
     ]
    }
   ],
   "source": [
    "y_predict_train5sk = linearsvc.predict(X_train_upsampled5)\n",
    "confusion_matrix_train5sk = confusion_matrix(y_train_upsampled5, y_predict_train5sk)\n",
    "accuracy_score_train5sk = accuracy_score(y_train_upsampled5, y_predict_train5sk)\n",
    "print(\"Confusion_Matrix:\\n{}\"\n",
    "      .format(confusion_matrix_train5sk))\n",
    "print(\"Accuracy_Score: {}\\n\"\n",
    "      .format(accuracy_score_train5sk))"
   ]
  },
  {
   "cell_type": "code",
   "execution_count": 482,
   "id": "86a75098",
   "metadata": {},
   "outputs": [
    {
     "name": "stdout",
     "output_type": "stream",
     "text": [
      "Number of Rows Prediction Correctly: 3120\n",
      "\n"
     ]
    }
   ],
   "source": [
    "skdiagonals_train5sk = confusion_matrix_train5sk.diagonal().sum()\n",
    "print(\"Number of Rows Prediction Correctly: {}\\n\"\n",
    "      .format(skdiagonals_train5sk))"
   ]
  },
  {
   "cell_type": "code",
   "execution_count": 483,
   "id": "e641ccd6",
   "metadata": {},
   "outputs": [
    {
     "name": "stderr",
     "output_type": "stream",
     "text": [
      "C:\\Python39\\lib\\site-packages\\sklearn\\metrics\\_classification.py:1334: UndefinedMetricWarning: Precision is ill-defined and being set to 0.0 in labels with no predicted samples. Use `zero_division` parameter to control this behavior.\n",
      "  _warn_prf(average, modifier, msg_start, len(result))\n"
     ]
    },
    {
     "data": {
      "text/plain": [
       "0.7575456003889607"
      ]
     },
     "execution_count": 483,
     "metadata": {},
     "output_type": "execute_result"
    }
   ],
   "source": [
    "precision_train5sk = precision_score(y_train_upsampled5, y_predict_train5sk, average = \"weighted\")\n",
    "precision_train5sk"
   ]
  },
  {
   "cell_type": "code",
   "execution_count": 484,
   "id": "ed2c6f89",
   "metadata": {},
   "outputs": [
    {
     "data": {
      "text/plain": [
       "0.8227848101265823"
      ]
     },
     "execution_count": 484,
     "metadata": {},
     "output_type": "execute_result"
    }
   ],
   "source": [
    "recall_train5sk = recall_score(y_train_upsampled5, y_predict_train5sk, average = \"weighted\")\n",
    "recall_train5sk"
   ]
  },
  {
   "cell_type": "markdown",
   "id": "ae0049f5",
   "metadata": {},
   "source": [
    "### [SKLEARN RESAMPLE] Predicting on test set (5%)"
   ]
  },
  {
   "cell_type": "code",
   "execution_count": 485,
   "id": "7e24d676",
   "metadata": {},
   "outputs": [
    {
     "name": "stdout",
     "output_type": "stream",
     "text": [
      "Confusion_Matrix:\n",
      "[[  0  10   0]\n",
      " [  0 134   3]\n",
      " [  0  20   1]]\n",
      "Accuracy_Score: 0.8035714285714286\n",
      "\n"
     ]
    }
   ],
   "source": [
    "y_predict_test5sk = linearsvc.predict(X_test5)\n",
    "confusion_matrix_test5sk = confusion_matrix(y_test5, y_predict_test5sk)\n",
    "accuracy_score_test5sk = accuracy_score(y_test5, y_predict_test5sk)\n",
    "print(\"Confusion_Matrix:\\n{}\"\n",
    "      .format(confusion_matrix_test5sk))\n",
    "print(\"Accuracy_Score: {}\\n\"\n",
    "      .format(accuracy_score_test5sk))"
   ]
  },
  {
   "cell_type": "code",
   "execution_count": 486,
   "id": "03a719e8",
   "metadata": {},
   "outputs": [
    {
     "name": "stdout",
     "output_type": "stream",
     "text": [
      "Number of Rows Prediction Correctly: 135\n",
      "\n"
     ]
    }
   ],
   "source": [
    "diagonals_test5sk = confusion_matrix_test5sk.diagonal().sum()\n",
    "print(\"Number of Rows Prediction Correctly: {}\\n\"\n",
    "      .format(diagonals_test5sk))"
   ]
  },
  {
   "cell_type": "code",
   "execution_count": 487,
   "id": "d6498a18",
   "metadata": {},
   "outputs": [
    {
     "name": "stderr",
     "output_type": "stream",
     "text": [
      "C:\\Python39\\lib\\site-packages\\sklearn\\metrics\\_classification.py:1334: UndefinedMetricWarning: Precision is ill-defined and being set to 0.0 in labels with no predicted samples. Use `zero_division` parameter to control this behavior.\n",
      "  _warn_prf(average, modifier, msg_start, len(result))\n"
     ]
    },
    {
     "data": {
      "text/plain": [
       "0.6975537166085947"
      ]
     },
     "execution_count": 487,
     "metadata": {},
     "output_type": "execute_result"
    }
   ],
   "source": [
    "precision_test5sk = precision_score(y_test5, y_predict_test5sk, average = \"weighted\")\n",
    "precision_test5sk "
   ]
  },
  {
   "cell_type": "code",
   "execution_count": 488,
   "id": "8972f873",
   "metadata": {
    "scrolled": true
   },
   "outputs": [
    {
     "data": {
      "text/plain": [
       "0.8035714285714286"
      ]
     },
     "execution_count": 488,
     "metadata": {},
     "output_type": "execute_result"
    }
   ],
   "source": [
    "recall_test5sk = recall_score(y_test5, y_predict_test5sk, average = \"weighted\")\n",
    "recall_test5sk "
   ]
  },
  {
   "cell_type": "markdown",
   "id": "860a940a",
   "metadata": {},
   "source": [
    "## SMOTE Resample 5% "
   ]
  },
  {
   "cell_type": "code",
   "execution_count": 489,
   "id": "136fa5c7",
   "metadata": {
    "scrolled": true
   },
   "outputs": [
    {
     "name": "stderr",
     "output_type": "stream",
     "text": [
      "C:\\Python39\\lib\\site-packages\\sklearn\\utils\\validation.py:1111: DataConversionWarning: A column-vector y was passed when a 1d array was expected. Please change the shape of y to (n_samples, ), for example using ravel().\n",
      "  y = column_or_1d(y, warn=True)\n",
      "C:\\Python39\\lib\\site-packages\\sklearn\\svm\\_base.py:1225: ConvergenceWarning: Liblinear failed to converge, increase the number of iterations.\n",
      "  warnings.warn(\n"
     ]
    },
    {
     "data": {
      "text/html": [
       "<style>#sk-container-id-41 {color: black;background-color: white;}#sk-container-id-41 pre{padding: 0;}#sk-container-id-41 div.sk-toggleable {background-color: white;}#sk-container-id-41 label.sk-toggleable__label {cursor: pointer;display: block;width: 100%;margin-bottom: 0;padding: 0.3em;box-sizing: border-box;text-align: center;}#sk-container-id-41 label.sk-toggleable__label-arrow:before {content: \"▸\";float: left;margin-right: 0.25em;color: #696969;}#sk-container-id-41 label.sk-toggleable__label-arrow:hover:before {color: black;}#sk-container-id-41 div.sk-estimator:hover label.sk-toggleable__label-arrow:before {color: black;}#sk-container-id-41 div.sk-toggleable__content {max-height: 0;max-width: 0;overflow: hidden;text-align: left;background-color: #f0f8ff;}#sk-container-id-41 div.sk-toggleable__content pre {margin: 0.2em;color: black;border-radius: 0.25em;background-color: #f0f8ff;}#sk-container-id-41 input.sk-toggleable__control:checked~div.sk-toggleable__content {max-height: 200px;max-width: 100%;overflow: auto;}#sk-container-id-41 input.sk-toggleable__control:checked~label.sk-toggleable__label-arrow:before {content: \"▾\";}#sk-container-id-41 div.sk-estimator input.sk-toggleable__control:checked~label.sk-toggleable__label {background-color: #d4ebff;}#sk-container-id-41 div.sk-label input.sk-toggleable__control:checked~label.sk-toggleable__label {background-color: #d4ebff;}#sk-container-id-41 input.sk-hidden--visually {border: 0;clip: rect(1px 1px 1px 1px);clip: rect(1px, 1px, 1px, 1px);height: 1px;margin: -1px;overflow: hidden;padding: 0;position: absolute;width: 1px;}#sk-container-id-41 div.sk-estimator {font-family: monospace;background-color: #f0f8ff;border: 1px dotted black;border-radius: 0.25em;box-sizing: border-box;margin-bottom: 0.5em;}#sk-container-id-41 div.sk-estimator:hover {background-color: #d4ebff;}#sk-container-id-41 div.sk-parallel-item::after {content: \"\";width: 100%;border-bottom: 1px solid gray;flex-grow: 1;}#sk-container-id-41 div.sk-label:hover label.sk-toggleable__label {background-color: #d4ebff;}#sk-container-id-41 div.sk-serial::before {content: \"\";position: absolute;border-left: 1px solid gray;box-sizing: border-box;top: 0;bottom: 0;left: 50%;z-index: 0;}#sk-container-id-41 div.sk-serial {display: flex;flex-direction: column;align-items: center;background-color: white;padding-right: 0.2em;padding-left: 0.2em;position: relative;}#sk-container-id-41 div.sk-item {position: relative;z-index: 1;}#sk-container-id-41 div.sk-parallel {display: flex;align-items: stretch;justify-content: center;background-color: white;position: relative;}#sk-container-id-41 div.sk-item::before, #sk-container-id-41 div.sk-parallel-item::before {content: \"\";position: absolute;border-left: 1px solid gray;box-sizing: border-box;top: 0;bottom: 0;left: 50%;z-index: -1;}#sk-container-id-41 div.sk-parallel-item {display: flex;flex-direction: column;z-index: 1;position: relative;background-color: white;}#sk-container-id-41 div.sk-parallel-item:first-child::after {align-self: flex-end;width: 50%;}#sk-container-id-41 div.sk-parallel-item:last-child::after {align-self: flex-start;width: 50%;}#sk-container-id-41 div.sk-parallel-item:only-child::after {width: 0;}#sk-container-id-41 div.sk-dashed-wrapped {border: 1px dashed gray;margin: 0 0.4em 0.5em 0.4em;box-sizing: border-box;padding-bottom: 0.4em;background-color: white;}#sk-container-id-41 div.sk-label label {font-family: monospace;font-weight: bold;display: inline-block;line-height: 1.2em;}#sk-container-id-41 div.sk-label-container {text-align: center;}#sk-container-id-41 div.sk-container {/* jupyter's `normalize.less` sets `[hidden] { display: none; }` but bootstrap.min.css set `[hidden] { display: none !important; }` so we also need the `!important` here to be able to override the default hidden behavior on the sphinx rendered scikit-learn.org. See: https://github.com/scikit-learn/scikit-learn/issues/21755 */display: inline-block !important;position: relative;}#sk-container-id-41 div.sk-text-repr-fallback {display: none;}</style><div id=\"sk-container-id-41\" class=\"sk-top-container\"><div class=\"sk-text-repr-fallback\"><pre>LinearSVC(C=1, loss=&#x27;hinge&#x27;, random_state=42)</pre><b>In a Jupyter environment, please rerun this cell to show the HTML representation or trust the notebook. <br />On GitHub, the HTML representation is unable to render, please try loading this page with nbviewer.org.</b></div><div class=\"sk-container\" hidden><div class=\"sk-item\"><div class=\"sk-estimator sk-toggleable\"><input class=\"sk-toggleable__control sk-hidden--visually\" id=\"sk-estimator-id-45\" type=\"checkbox\" checked><label for=\"sk-estimator-id-45\" class=\"sk-toggleable__label sk-toggleable__label-arrow\">LinearSVC</label><div class=\"sk-toggleable__content\"><pre>LinearSVC(C=1, loss=&#x27;hinge&#x27;, random_state=42)</pre></div></div></div></div></div>"
      ],
      "text/plain": [
       "LinearSVC(C=1, loss='hinge', random_state=42)"
      ]
     },
     "execution_count": 489,
     "metadata": {},
     "output_type": "execute_result"
    }
   ],
   "source": [
    "linearsvc.fit(X_train_oversampled5, y_train_oversampled5)"
   ]
  },
  {
   "cell_type": "markdown",
   "id": "de255e3a",
   "metadata": {},
   "source": [
    "### [SMOTE] Predicting on train set (5%)"
   ]
  },
  {
   "cell_type": "code",
   "execution_count": 490,
   "id": "53c0de72",
   "metadata": {},
   "outputs": [
    {
     "name": "stdout",
     "output_type": "stream",
     "text": [
      "Confusion_Matrix:\n",
      "[[1153  217   66]\n",
      " [ 204 1019  213]\n",
      " [  40   70 1326]]\n",
      "Accuracy_Score: 0.8119777158774373\n",
      "\n"
     ]
    }
   ],
   "source": [
    "y_predict_train5sm = linearsvc.predict(X_train_oversampled5)\n",
    "confusion_matrix_train5sm = confusion_matrix(y_train_oversampled5, y_predict_train5sm)\n",
    "accuracy_score_train5sm = accuracy_score(y_train_oversampled5, y_predict_train5sm)\n",
    "print(\"Confusion_Matrix:\\n{}\"\n",
    "      .format(confusion_matrix_train5sm))\n",
    "print(\"Accuracy_Score: {}\\n\"\n",
    "      .format(accuracy_score_train5sm))"
   ]
  },
  {
   "cell_type": "code",
   "execution_count": 491,
   "id": "5c0a73f7",
   "metadata": {},
   "outputs": [
    {
     "name": "stdout",
     "output_type": "stream",
     "text": [
      "Number of Rows Prediction Correctly: 3498\n",
      "\n"
     ]
    }
   ],
   "source": [
    "skdiagonals_train5sm = confusion_matrix_train5sm.diagonal().sum()\n",
    "print(\"Number of Rows Prediction Correctly: {}\\n\"\n",
    "      .format(skdiagonals_train5sm))"
   ]
  },
  {
   "cell_type": "code",
   "execution_count": 492,
   "id": "58394e6a",
   "metadata": {},
   "outputs": [
    {
     "data": {
      "text/plain": [
       "0.8105844205287871"
      ]
     },
     "execution_count": 492,
     "metadata": {},
     "output_type": "execute_result"
    }
   ],
   "source": [
    "precision_train5sm = precision_score(y_train_oversampled5, y_predict_train5sm, average = \"weighted\")\n",
    "precision_train5sm"
   ]
  },
  {
   "cell_type": "code",
   "execution_count": 493,
   "id": "95ea59f1",
   "metadata": {},
   "outputs": [
    {
     "data": {
      "text/plain": [
       "0.8119777158774373"
      ]
     },
     "execution_count": 493,
     "metadata": {},
     "output_type": "execute_result"
    }
   ],
   "source": [
    "recall_train5sm = recall_score(y_train_oversampled5, y_predict_train5sm, average = \"weighted\")\n",
    "recall_train5sm"
   ]
  },
  {
   "cell_type": "markdown",
   "id": "d9db042f",
   "metadata": {},
   "source": [
    "### [SMOTE] Predicting on test set (5%)"
   ]
  },
  {
   "cell_type": "code",
   "execution_count": 494,
   "id": "ab084d48",
   "metadata": {},
   "outputs": [
    {
     "name": "stdout",
     "output_type": "stream",
     "text": [
      "Confusion_Matrix:\n",
      "[[  0  10   0]\n",
      " [ 11 120   6]\n",
      " [  0  17   4]]\n",
      "Accuracy_Score: 0.7380952380952381\n",
      "\n"
     ]
    }
   ],
   "source": [
    "y_predict_test5sm = linearsvc.predict(X_test5)\n",
    "confusion_matrix_test5sm = confusion_matrix(y_test5, y_predict_test5sm)\n",
    "accuracy_score_test5sm = accuracy_score(y_test5, y_predict_test5sm)\n",
    "print(\"Confusion_Matrix:\\n{}\"\n",
    "      .format(confusion_matrix_test5sm))\n",
    "print(\"Accuracy_Score: {}\\n\"\n",
    "      .format(accuracy_score_test5sm))"
   ]
  },
  {
   "cell_type": "code",
   "execution_count": 495,
   "id": "4698d8db",
   "metadata": {},
   "outputs": [
    {
     "name": "stdout",
     "output_type": "stream",
     "text": [
      "Number of Rows Prediction Correctly: 124\n",
      "\n"
     ]
    }
   ],
   "source": [
    "diagonals_test5sm = confusion_matrix_test5sm.diagonal().sum()\n",
    "print(\"Number of Rows Prediction Correctly: {}\\n\"\n",
    "      .format(diagonals_test5sm))"
   ]
  },
  {
   "cell_type": "code",
   "execution_count": 496,
   "id": "6a83025a",
   "metadata": {},
   "outputs": [
    {
     "data": {
      "text/plain": [
       "0.7156948493683188"
      ]
     },
     "execution_count": 496,
     "metadata": {},
     "output_type": "execute_result"
    }
   ],
   "source": [
    "precision_test5sm = precision_score(y_test5, y_predict_test5sm, average = \"weighted\")\n",
    "precision_test5sm"
   ]
  },
  {
   "cell_type": "code",
   "execution_count": 497,
   "id": "0eb1cb2f",
   "metadata": {
    "scrolled": true
   },
   "outputs": [
    {
     "data": {
      "text/plain": [
       "0.7380952380952381"
      ]
     },
     "execution_count": 497,
     "metadata": {},
     "output_type": "execute_result"
    }
   ],
   "source": [
    "recall_test5sm= recall_score(y_test5, y_predict_test5sm, average = \"weighted\")\n",
    "recall_test5sm"
   ]
  },
  {
   "cell_type": "code",
   "execution_count": 498,
   "id": "43d8d5a2",
   "metadata": {},
   "outputs": [
    {
     "data": {
      "text/html": [
       "<div>\n",
       "<style scoped>\n",
       "    .dataframe tbody tr th:only-of-type {\n",
       "        vertical-align: middle;\n",
       "    }\n",
       "\n",
       "    .dataframe tbody tr th {\n",
       "        vertical-align: top;\n",
       "    }\n",
       "\n",
       "    .dataframe thead th {\n",
       "        text-align: right;\n",
       "    }\n",
       "</style>\n",
       "<table border=\"1\" class=\"dataframe\">\n",
       "  <thead>\n",
       "    <tr style=\"text-align: right;\">\n",
       "      <th></th>\n",
       "      <th>model</th>\n",
       "      <th>accuracy</th>\n",
       "      <th>recall</th>\n",
       "      <th>precision</th>\n",
       "    </tr>\n",
       "  </thead>\n",
       "  <tbody>\n",
       "    <tr>\n",
       "      <th>0</th>\n",
       "      <td>Linear SVC 3%</td>\n",
       "      <td>0.511905</td>\n",
       "      <td>0.511905</td>\n",
       "      <td>0.262046</td>\n",
       "    </tr>\n",
       "    <tr>\n",
       "      <th>1</th>\n",
       "      <td>Linear SVC 3% SK Resample</td>\n",
       "      <td>0.345238</td>\n",
       "      <td>0.345238</td>\n",
       "      <td>0.393701</td>\n",
       "    </tr>\n",
       "    <tr>\n",
       "      <th>2</th>\n",
       "      <td>Linear SVC 3% SMOTE</td>\n",
       "      <td>0.345238</td>\n",
       "      <td>0.345238</td>\n",
       "      <td>0.394170</td>\n",
       "    </tr>\n",
       "    <tr>\n",
       "      <th>3</th>\n",
       "      <td>Linear SVC 5%</td>\n",
       "      <td>0.815476</td>\n",
       "      <td>0.815476</td>\n",
       "      <td>0.665001</td>\n",
       "    </tr>\n",
       "    <tr>\n",
       "      <th>4</th>\n",
       "      <td>Linear SVC 5% SK Resample</td>\n",
       "      <td>0.803571</td>\n",
       "      <td>0.803571</td>\n",
       "      <td>0.697554</td>\n",
       "    </tr>\n",
       "    <tr>\n",
       "      <th>5</th>\n",
       "      <td>Linear SVC 5% SMOTE</td>\n",
       "      <td>0.738095</td>\n",
       "      <td>0.738095</td>\n",
       "      <td>0.715695</td>\n",
       "    </tr>\n",
       "  </tbody>\n",
       "</table>\n",
       "</div>"
      ],
      "text/plain": [
       "                       model  accuracy    recall  precision\n",
       "0              Linear SVC 3%  0.511905  0.511905   0.262046\n",
       "1  Linear SVC 3% SK Resample  0.345238  0.345238   0.393701\n",
       "2        Linear SVC 3% SMOTE  0.345238  0.345238   0.394170\n",
       "3              Linear SVC 5%  0.815476  0.815476   0.665001\n",
       "4  Linear SVC 5% SK Resample  0.803571  0.803571   0.697554\n",
       "5        Linear SVC 5% SMOTE  0.738095  0.738095   0.715695"
      ]
     },
     "execution_count": 498,
     "metadata": {},
     "output_type": "execute_result"
    }
   ],
   "source": [
    "dflinear = pd.DataFrame({\n",
    "    'model': ['Linear SVC 3%', 'Linear SVC 3% SK Resample', 'Linear SVC 3% SMOTE', 'Linear SVC 5%', 'Linear SVC 5% SK Resample', 'Linear SVC 5% SMOTE',],\n",
    "    'accuracy': [accuracy_score_test3,accuracy_score_test3sk, accuracy_score_test3sm, accuracy_score_test5,accuracy_score_test5sk, accuracy_score_test5sm],\n",
    "    'recall': [recall_test3, recall_test3sk, recall_test3sm, recall_test5, recall_test5sk, recall_test5sm],\n",
    "    'precision': [precision_test3, precision_test3sk, precision_test3sm, precision_test5, precision_test5sk, precision_test5sm],\n",
    "})\n",
    "\n",
    "dflinear "
   ]
  },
  {
   "cell_type": "markdown",
   "id": "ee96d7ac",
   "metadata": {},
   "source": [
    "# RBF SVM"
   ]
  },
  {
   "cell_type": "code",
   "execution_count": 499,
   "id": "ecfa2153",
   "metadata": {},
   "outputs": [],
   "source": [
    "rbf_svc = svm.SVC(kernel='rbf', gamma = \"scale\")"
   ]
  },
  {
   "cell_type": "markdown",
   "id": "193457de",
   "metadata": {},
   "source": [
    "## 3% Target Threshold"
   ]
  },
  {
   "cell_type": "code",
   "execution_count": 500,
   "id": "3bf5b48c",
   "metadata": {},
   "outputs": [
    {
     "name": "stderr",
     "output_type": "stream",
     "text": [
      "C:\\Python39\\lib\\site-packages\\sklearn\\utils\\validation.py:1111: DataConversionWarning: A column-vector y was passed when a 1d array was expected. Please change the shape of y to (n_samples, ), for example using ravel().\n",
      "  y = column_or_1d(y, warn=True)\n"
     ]
    },
    {
     "data": {
      "text/html": [
       "<style>#sk-container-id-42 {color: black;background-color: white;}#sk-container-id-42 pre{padding: 0;}#sk-container-id-42 div.sk-toggleable {background-color: white;}#sk-container-id-42 label.sk-toggleable__label {cursor: pointer;display: block;width: 100%;margin-bottom: 0;padding: 0.3em;box-sizing: border-box;text-align: center;}#sk-container-id-42 label.sk-toggleable__label-arrow:before {content: \"▸\";float: left;margin-right: 0.25em;color: #696969;}#sk-container-id-42 label.sk-toggleable__label-arrow:hover:before {color: black;}#sk-container-id-42 div.sk-estimator:hover label.sk-toggleable__label-arrow:before {color: black;}#sk-container-id-42 div.sk-toggleable__content {max-height: 0;max-width: 0;overflow: hidden;text-align: left;background-color: #f0f8ff;}#sk-container-id-42 div.sk-toggleable__content pre {margin: 0.2em;color: black;border-radius: 0.25em;background-color: #f0f8ff;}#sk-container-id-42 input.sk-toggleable__control:checked~div.sk-toggleable__content {max-height: 200px;max-width: 100%;overflow: auto;}#sk-container-id-42 input.sk-toggleable__control:checked~label.sk-toggleable__label-arrow:before {content: \"▾\";}#sk-container-id-42 div.sk-estimator input.sk-toggleable__control:checked~label.sk-toggleable__label {background-color: #d4ebff;}#sk-container-id-42 div.sk-label input.sk-toggleable__control:checked~label.sk-toggleable__label {background-color: #d4ebff;}#sk-container-id-42 input.sk-hidden--visually {border: 0;clip: rect(1px 1px 1px 1px);clip: rect(1px, 1px, 1px, 1px);height: 1px;margin: -1px;overflow: hidden;padding: 0;position: absolute;width: 1px;}#sk-container-id-42 div.sk-estimator {font-family: monospace;background-color: #f0f8ff;border: 1px dotted black;border-radius: 0.25em;box-sizing: border-box;margin-bottom: 0.5em;}#sk-container-id-42 div.sk-estimator:hover {background-color: #d4ebff;}#sk-container-id-42 div.sk-parallel-item::after {content: \"\";width: 100%;border-bottom: 1px solid gray;flex-grow: 1;}#sk-container-id-42 div.sk-label:hover label.sk-toggleable__label {background-color: #d4ebff;}#sk-container-id-42 div.sk-serial::before {content: \"\";position: absolute;border-left: 1px solid gray;box-sizing: border-box;top: 0;bottom: 0;left: 50%;z-index: 0;}#sk-container-id-42 div.sk-serial {display: flex;flex-direction: column;align-items: center;background-color: white;padding-right: 0.2em;padding-left: 0.2em;position: relative;}#sk-container-id-42 div.sk-item {position: relative;z-index: 1;}#sk-container-id-42 div.sk-parallel {display: flex;align-items: stretch;justify-content: center;background-color: white;position: relative;}#sk-container-id-42 div.sk-item::before, #sk-container-id-42 div.sk-parallel-item::before {content: \"\";position: absolute;border-left: 1px solid gray;box-sizing: border-box;top: 0;bottom: 0;left: 50%;z-index: -1;}#sk-container-id-42 div.sk-parallel-item {display: flex;flex-direction: column;z-index: 1;position: relative;background-color: white;}#sk-container-id-42 div.sk-parallel-item:first-child::after {align-self: flex-end;width: 50%;}#sk-container-id-42 div.sk-parallel-item:last-child::after {align-self: flex-start;width: 50%;}#sk-container-id-42 div.sk-parallel-item:only-child::after {width: 0;}#sk-container-id-42 div.sk-dashed-wrapped {border: 1px dashed gray;margin: 0 0.4em 0.5em 0.4em;box-sizing: border-box;padding-bottom: 0.4em;background-color: white;}#sk-container-id-42 div.sk-label label {font-family: monospace;font-weight: bold;display: inline-block;line-height: 1.2em;}#sk-container-id-42 div.sk-label-container {text-align: center;}#sk-container-id-42 div.sk-container {/* jupyter's `normalize.less` sets `[hidden] { display: none; }` but bootstrap.min.css set `[hidden] { display: none !important; }` so we also need the `!important` here to be able to override the default hidden behavior on the sphinx rendered scikit-learn.org. See: https://github.com/scikit-learn/scikit-learn/issues/21755 */display: inline-block !important;position: relative;}#sk-container-id-42 div.sk-text-repr-fallback {display: none;}</style><div id=\"sk-container-id-42\" class=\"sk-top-container\"><div class=\"sk-text-repr-fallback\"><pre>SVC()</pre><b>In a Jupyter environment, please rerun this cell to show the HTML representation or trust the notebook. <br />On GitHub, the HTML representation is unable to render, please try loading this page with nbviewer.org.</b></div><div class=\"sk-container\" hidden><div class=\"sk-item\"><div class=\"sk-estimator sk-toggleable\"><input class=\"sk-toggleable__control sk-hidden--visually\" id=\"sk-estimator-id-46\" type=\"checkbox\" checked><label for=\"sk-estimator-id-46\" class=\"sk-toggleable__label sk-toggleable__label-arrow\">SVC</label><div class=\"sk-toggleable__content\"><pre>SVC()</pre></div></div></div></div></div>"
      ],
      "text/plain": [
       "SVC()"
      ]
     },
     "execution_count": 500,
     "metadata": {},
     "output_type": "execute_result"
    }
   ],
   "source": [
    "rbf_svc.fit(X_train3, y_train3)"
   ]
  },
  {
   "cell_type": "markdown",
   "id": "81789cae",
   "metadata": {},
   "source": [
    "### Predicting on train set (3%)"
   ]
  },
  {
   "cell_type": "code",
   "execution_count": 501,
   "id": "02ef86fb",
   "metadata": {},
   "outputs": [
    {
     "name": "stdout",
     "output_type": "stream",
     "text": [
      "Confusion_Matrix:\n",
      "[[   9  136    2]\n",
      " [   1 1261    2]\n",
      " [   0   77   23]]\n",
      "Accuracy_Score: 0.8557246856386499\n",
      "\n"
     ]
    }
   ],
   "source": [
    "y_predict_train3 = rbf_svc.predict(X_train3)\n",
    "confusion_matrix_train3 = confusion_matrix(y_train3, y_predict_train3)\n",
    "accuracy_score_train3 = accuracy_score(y_train3, y_predict_train3)\n",
    "print(\"Confusion_Matrix:\\n{}\"\n",
    "      .format(confusion_matrix_train3))\n",
    "print(\"Accuracy_Score: {}\\n\"\n",
    "      .format(accuracy_score_train3))"
   ]
  },
  {
   "cell_type": "code",
   "execution_count": 502,
   "id": "4144b5ed",
   "metadata": {},
   "outputs": [
    {
     "name": "stdout",
     "output_type": "stream",
     "text": [
      "Number of Rows Prediction Correctly: 1293\n",
      "\n"
     ]
    }
   ],
   "source": [
    "diagonals_train3 = confusion_matrix_train3.diagonal().sum()\n",
    "print(\"Number of Rows Prediction Correctly: {}\\n\"\n",
    "      .format(diagonals_train3))"
   ]
  },
  {
   "cell_type": "code",
   "execution_count": 503,
   "id": "11383291",
   "metadata": {},
   "outputs": [
    {
     "data": {
      "text/plain": [
       "0.8595838401531972"
      ]
     },
     "execution_count": 503,
     "metadata": {},
     "output_type": "execute_result"
    }
   ],
   "source": [
    "precision_train3 = precision_score(y_train3, y_predict_train3, average = \"weighted\")\n",
    "precision_train3"
   ]
  },
  {
   "cell_type": "code",
   "execution_count": 504,
   "id": "238b15ee",
   "metadata": {},
   "outputs": [
    {
     "data": {
      "text/plain": [
       "0.8557246856386499"
      ]
     },
     "execution_count": 504,
     "metadata": {},
     "output_type": "execute_result"
    }
   ],
   "source": [
    "recall_train3 = recall_score(y_train3, y_predict_train3, average = \"weighted\")\n",
    "recall_train3 "
   ]
  },
  {
   "cell_type": "markdown",
   "id": "6970c8e4",
   "metadata": {},
   "source": [
    "### Predicting on test set (3%)"
   ]
  },
  {
   "cell_type": "code",
   "execution_count": 505,
   "id": "4082c047",
   "metadata": {},
   "outputs": [
    {
     "name": "stdout",
     "output_type": "stream",
     "text": [
      "Confusion_Matrix:\n",
      "[[ 0 39  0]\n",
      " [ 0 86  0]\n",
      " [ 0 43  0]]\n",
      "Accuracy_Score: 0.5119047619047619\n",
      "\n"
     ]
    }
   ],
   "source": [
    "y_predict_test3 = rbf_svc.predict(X_test3)\n",
    "confusion_matrix_test3 = confusion_matrix(y_test3, y_predict_test3)\n",
    "accuracy_score_test3 = accuracy_score(y_test3, y_predict_test3)\n",
    "print(\"Confusion_Matrix:\\n{}\"\n",
    "      .format(confusion_matrix_test3))\n",
    "print(\"Accuracy_Score: {}\\n\"\n",
    "      .format(accuracy_score_test3))"
   ]
  },
  {
   "cell_type": "code",
   "execution_count": 506,
   "id": "ffd63d8d",
   "metadata": {},
   "outputs": [
    {
     "name": "stdout",
     "output_type": "stream",
     "text": [
      "Number of Rows Prediction Correctly: 86\n",
      "\n"
     ]
    }
   ],
   "source": [
    "diagonals_test3 = confusion_matrix_test3.diagonal().sum()\n",
    "print(\"Number of Rows Prediction Correctly: {}\\n\"\n",
    "      .format(diagonals_test3))"
   ]
  },
  {
   "cell_type": "code",
   "execution_count": 507,
   "id": "dddfd592",
   "metadata": {},
   "outputs": [
    {
     "name": "stderr",
     "output_type": "stream",
     "text": [
      "C:\\Python39\\lib\\site-packages\\sklearn\\metrics\\_classification.py:1334: UndefinedMetricWarning: Precision is ill-defined and being set to 0.0 in labels with no predicted samples. Use `zero_division` parameter to control this behavior.\n",
      "  _warn_prf(average, modifier, msg_start, len(result))\n"
     ]
    },
    {
     "data": {
      "text/plain": [
       "0.26204648526077096"
      ]
     },
     "execution_count": 507,
     "metadata": {},
     "output_type": "execute_result"
    }
   ],
   "source": [
    "precision_test = precision_score(y_test3, y_predict_test3, average = \"weighted\")\n",
    "precision_test "
   ]
  },
  {
   "cell_type": "code",
   "execution_count": 508,
   "id": "911e631f",
   "metadata": {
    "scrolled": true
   },
   "outputs": [
    {
     "data": {
      "text/plain": [
       "0.5119047619047619"
      ]
     },
     "execution_count": 508,
     "metadata": {},
     "output_type": "execute_result"
    }
   ],
   "source": [
    "recall_test = recall_score(y_test3, y_predict_test3, average = \"weighted\")\n",
    "recall_test "
   ]
  },
  {
   "cell_type": "markdown",
   "id": "df1521e1",
   "metadata": {},
   "source": [
    "## SKLearn Resample 3% "
   ]
  },
  {
   "cell_type": "code",
   "execution_count": 509,
   "id": "80b9fa0c",
   "metadata": {
    "scrolled": true
   },
   "outputs": [
    {
     "data": {
      "text/html": [
       "<style>#sk-container-id-43 {color: black;background-color: white;}#sk-container-id-43 pre{padding: 0;}#sk-container-id-43 div.sk-toggleable {background-color: white;}#sk-container-id-43 label.sk-toggleable__label {cursor: pointer;display: block;width: 100%;margin-bottom: 0;padding: 0.3em;box-sizing: border-box;text-align: center;}#sk-container-id-43 label.sk-toggleable__label-arrow:before {content: \"▸\";float: left;margin-right: 0.25em;color: #696969;}#sk-container-id-43 label.sk-toggleable__label-arrow:hover:before {color: black;}#sk-container-id-43 div.sk-estimator:hover label.sk-toggleable__label-arrow:before {color: black;}#sk-container-id-43 div.sk-toggleable__content {max-height: 0;max-width: 0;overflow: hidden;text-align: left;background-color: #f0f8ff;}#sk-container-id-43 div.sk-toggleable__content pre {margin: 0.2em;color: black;border-radius: 0.25em;background-color: #f0f8ff;}#sk-container-id-43 input.sk-toggleable__control:checked~div.sk-toggleable__content {max-height: 200px;max-width: 100%;overflow: auto;}#sk-container-id-43 input.sk-toggleable__control:checked~label.sk-toggleable__label-arrow:before {content: \"▾\";}#sk-container-id-43 div.sk-estimator input.sk-toggleable__control:checked~label.sk-toggleable__label {background-color: #d4ebff;}#sk-container-id-43 div.sk-label input.sk-toggleable__control:checked~label.sk-toggleable__label {background-color: #d4ebff;}#sk-container-id-43 input.sk-hidden--visually {border: 0;clip: rect(1px 1px 1px 1px);clip: rect(1px, 1px, 1px, 1px);height: 1px;margin: -1px;overflow: hidden;padding: 0;position: absolute;width: 1px;}#sk-container-id-43 div.sk-estimator {font-family: monospace;background-color: #f0f8ff;border: 1px dotted black;border-radius: 0.25em;box-sizing: border-box;margin-bottom: 0.5em;}#sk-container-id-43 div.sk-estimator:hover {background-color: #d4ebff;}#sk-container-id-43 div.sk-parallel-item::after {content: \"\";width: 100%;border-bottom: 1px solid gray;flex-grow: 1;}#sk-container-id-43 div.sk-label:hover label.sk-toggleable__label {background-color: #d4ebff;}#sk-container-id-43 div.sk-serial::before {content: \"\";position: absolute;border-left: 1px solid gray;box-sizing: border-box;top: 0;bottom: 0;left: 50%;z-index: 0;}#sk-container-id-43 div.sk-serial {display: flex;flex-direction: column;align-items: center;background-color: white;padding-right: 0.2em;padding-left: 0.2em;position: relative;}#sk-container-id-43 div.sk-item {position: relative;z-index: 1;}#sk-container-id-43 div.sk-parallel {display: flex;align-items: stretch;justify-content: center;background-color: white;position: relative;}#sk-container-id-43 div.sk-item::before, #sk-container-id-43 div.sk-parallel-item::before {content: \"\";position: absolute;border-left: 1px solid gray;box-sizing: border-box;top: 0;bottom: 0;left: 50%;z-index: -1;}#sk-container-id-43 div.sk-parallel-item {display: flex;flex-direction: column;z-index: 1;position: relative;background-color: white;}#sk-container-id-43 div.sk-parallel-item:first-child::after {align-self: flex-end;width: 50%;}#sk-container-id-43 div.sk-parallel-item:last-child::after {align-self: flex-start;width: 50%;}#sk-container-id-43 div.sk-parallel-item:only-child::after {width: 0;}#sk-container-id-43 div.sk-dashed-wrapped {border: 1px dashed gray;margin: 0 0.4em 0.5em 0.4em;box-sizing: border-box;padding-bottom: 0.4em;background-color: white;}#sk-container-id-43 div.sk-label label {font-family: monospace;font-weight: bold;display: inline-block;line-height: 1.2em;}#sk-container-id-43 div.sk-label-container {text-align: center;}#sk-container-id-43 div.sk-container {/* jupyter's `normalize.less` sets `[hidden] { display: none; }` but bootstrap.min.css set `[hidden] { display: none !important; }` so we also need the `!important` here to be able to override the default hidden behavior on the sphinx rendered scikit-learn.org. See: https://github.com/scikit-learn/scikit-learn/issues/21755 */display: inline-block !important;position: relative;}#sk-container-id-43 div.sk-text-repr-fallback {display: none;}</style><div id=\"sk-container-id-43\" class=\"sk-top-container\"><div class=\"sk-text-repr-fallback\"><pre>SVC()</pre><b>In a Jupyter environment, please rerun this cell to show the HTML representation or trust the notebook. <br />On GitHub, the HTML representation is unable to render, please try loading this page with nbviewer.org.</b></div><div class=\"sk-container\" hidden><div class=\"sk-item\"><div class=\"sk-estimator sk-toggleable\"><input class=\"sk-toggleable__control sk-hidden--visually\" id=\"sk-estimator-id-47\" type=\"checkbox\" checked><label for=\"sk-estimator-id-47\" class=\"sk-toggleable__label sk-toggleable__label-arrow\">SVC</label><div class=\"sk-toggleable__content\"><pre>SVC()</pre></div></div></div></div></div>"
      ],
      "text/plain": [
       "SVC()"
      ]
     },
     "execution_count": 509,
     "metadata": {},
     "output_type": "execute_result"
    }
   ],
   "source": [
    "rbf_svc.fit(X_train_upsampled3, y_train_upsampled3)"
   ]
  },
  {
   "cell_type": "markdown",
   "id": "eb93a082",
   "metadata": {},
   "source": [
    "### [SKLEARN RESAMPLE] Predicting on train set (3%)"
   ]
  },
  {
   "cell_type": "code",
   "execution_count": 510,
   "id": "d93cd9cc",
   "metadata": {},
   "outputs": [
    {
     "name": "stdout",
     "output_type": "stream",
     "text": [
      "Confusion_Matrix:\n",
      "[[1062  157   45]\n",
      " [ 208  918  138]\n",
      " [  62   24 1178]]\n",
      "Accuracy_Score: 0.8328059071729957\n",
      "\n"
     ]
    }
   ],
   "source": [
    "y_predict_train3sk = rbf_svc.predict(X_train_upsampled3)\n",
    "confusion_matrix_train3sk = confusion_matrix(y_train_upsampled3, y_predict_train3sk)\n",
    "accuracy_score_train3sk = accuracy_score(y_train_upsampled3, y_predict_train3sk)\n",
    "print(\"Confusion_Matrix:\\n{}\"\n",
    "      .format(confusion_matrix_train3sk))\n",
    "print(\"Accuracy_Score: {}\\n\"\n",
    "      .format(accuracy_score_train3sk))"
   ]
  },
  {
   "cell_type": "code",
   "execution_count": 511,
   "id": "3220e724",
   "metadata": {},
   "outputs": [
    {
     "name": "stdout",
     "output_type": "stream",
     "text": [
      "Number of Rows Prediction Correctly: 3158\n",
      "\n"
     ]
    }
   ],
   "source": [
    "skdiagonals_train3sk = confusion_matrix_train3sk.diagonal().sum()\n",
    "print(\"Number of Rows Prediction Correctly: {}\\n\"\n",
    "      .format(skdiagonals_train3sk))"
   ]
  },
  {
   "cell_type": "code",
   "execution_count": 512,
   "id": "61e0a57b",
   "metadata": {},
   "outputs": [
    {
     "data": {
      "text/plain": [
       "0.8327140546494992"
      ]
     },
     "execution_count": 512,
     "metadata": {},
     "output_type": "execute_result"
    }
   ],
   "source": [
    "precision_train3sk = precision_score(y_train_upsampled3, y_predict_train3sk, average = \"weighted\")\n",
    "precision_train3sk"
   ]
  },
  {
   "cell_type": "code",
   "execution_count": 513,
   "id": "d980df6b",
   "metadata": {},
   "outputs": [
    {
     "data": {
      "text/plain": [
       "0.8328059071729957"
      ]
     },
     "execution_count": 513,
     "metadata": {},
     "output_type": "execute_result"
    }
   ],
   "source": [
    "recall_train3sk = recall_score(y_train_upsampled3, y_predict_train3sk, average = \"weighted\")\n",
    "recall_train3sk"
   ]
  },
  {
   "cell_type": "markdown",
   "id": "1f72906a",
   "metadata": {},
   "source": [
    "### [SKLEARN RESAMPLE] Predicting on test set (3%)"
   ]
  },
  {
   "cell_type": "code",
   "execution_count": 514,
   "id": "53bff3f5",
   "metadata": {},
   "outputs": [
    {
     "name": "stdout",
     "output_type": "stream",
     "text": [
      "Confusion_Matrix:\n",
      "[[ 9 26  4]\n",
      " [ 4 67 15]\n",
      " [ 3 33  7]]\n",
      "Accuracy_Score: 0.49404761904761907\n",
      "\n"
     ]
    }
   ],
   "source": [
    "y_predict_test3sk = rbf_svc.predict(X_test3)\n",
    "confusion_matrix_test3sk = confusion_matrix(y_test3, y_predict_test3sk)\n",
    "accuracy_score_test3sk = accuracy_score(y_test3, y_predict_test3sk)\n",
    "print(\"Confusion_Matrix:\\n{}\"\n",
    "      .format(confusion_matrix_test3sk))\n",
    "print(\"Accuracy_Score: {}\\n\"\n",
    "      .format(accuracy_score_test3sk))"
   ]
  },
  {
   "cell_type": "code",
   "execution_count": 515,
   "id": "a686ada4",
   "metadata": {},
   "outputs": [
    {
     "name": "stdout",
     "output_type": "stream",
     "text": [
      "Number of Rows Prediction Correctly: 83\n",
      "\n"
     ]
    }
   ],
   "source": [
    "diagonals_test3sk = confusion_matrix_test3sk.diagonal().sum()\n",
    "print(\"Number of Rows Prediction Correctly: {}\\n\"\n",
    "      .format(diagonals_test3sk))"
   ]
  },
  {
   "cell_type": "code",
   "execution_count": 516,
   "id": "738259f2",
   "metadata": {},
   "outputs": [
    {
     "data": {
      "text/plain": [
       "0.47169393932786796"
      ]
     },
     "execution_count": 516,
     "metadata": {},
     "output_type": "execute_result"
    }
   ],
   "source": [
    "precision_test3sk = precision_score(y_test3, y_predict_test3sk, average = \"weighted\")\n",
    "precision_test3sk "
   ]
  },
  {
   "cell_type": "code",
   "execution_count": 517,
   "id": "3b386d7a",
   "metadata": {
    "scrolled": true
   },
   "outputs": [
    {
     "data": {
      "text/plain": [
       "0.49404761904761907"
      ]
     },
     "execution_count": 517,
     "metadata": {},
     "output_type": "execute_result"
    }
   ],
   "source": [
    "recall_test3sk = recall_score(y_test3, y_predict_test3sk, average = \"weighted\")\n",
    "recall_test3sk "
   ]
  },
  {
   "cell_type": "markdown",
   "id": "d8fe8941",
   "metadata": {},
   "source": [
    "## SMOTE Resample 3% "
   ]
  },
  {
   "cell_type": "code",
   "execution_count": 518,
   "id": "5881820b",
   "metadata": {
    "scrolled": true
   },
   "outputs": [
    {
     "name": "stderr",
     "output_type": "stream",
     "text": [
      "C:\\Python39\\lib\\site-packages\\sklearn\\utils\\validation.py:1111: DataConversionWarning: A column-vector y was passed when a 1d array was expected. Please change the shape of y to (n_samples, ), for example using ravel().\n",
      "  y = column_or_1d(y, warn=True)\n"
     ]
    },
    {
     "data": {
      "text/html": [
       "<style>#sk-container-id-44 {color: black;background-color: white;}#sk-container-id-44 pre{padding: 0;}#sk-container-id-44 div.sk-toggleable {background-color: white;}#sk-container-id-44 label.sk-toggleable__label {cursor: pointer;display: block;width: 100%;margin-bottom: 0;padding: 0.3em;box-sizing: border-box;text-align: center;}#sk-container-id-44 label.sk-toggleable__label-arrow:before {content: \"▸\";float: left;margin-right: 0.25em;color: #696969;}#sk-container-id-44 label.sk-toggleable__label-arrow:hover:before {color: black;}#sk-container-id-44 div.sk-estimator:hover label.sk-toggleable__label-arrow:before {color: black;}#sk-container-id-44 div.sk-toggleable__content {max-height: 0;max-width: 0;overflow: hidden;text-align: left;background-color: #f0f8ff;}#sk-container-id-44 div.sk-toggleable__content pre {margin: 0.2em;color: black;border-radius: 0.25em;background-color: #f0f8ff;}#sk-container-id-44 input.sk-toggleable__control:checked~div.sk-toggleable__content {max-height: 200px;max-width: 100%;overflow: auto;}#sk-container-id-44 input.sk-toggleable__control:checked~label.sk-toggleable__label-arrow:before {content: \"▾\";}#sk-container-id-44 div.sk-estimator input.sk-toggleable__control:checked~label.sk-toggleable__label {background-color: #d4ebff;}#sk-container-id-44 div.sk-label input.sk-toggleable__control:checked~label.sk-toggleable__label {background-color: #d4ebff;}#sk-container-id-44 input.sk-hidden--visually {border: 0;clip: rect(1px 1px 1px 1px);clip: rect(1px, 1px, 1px, 1px);height: 1px;margin: -1px;overflow: hidden;padding: 0;position: absolute;width: 1px;}#sk-container-id-44 div.sk-estimator {font-family: monospace;background-color: #f0f8ff;border: 1px dotted black;border-radius: 0.25em;box-sizing: border-box;margin-bottom: 0.5em;}#sk-container-id-44 div.sk-estimator:hover {background-color: #d4ebff;}#sk-container-id-44 div.sk-parallel-item::after {content: \"\";width: 100%;border-bottom: 1px solid gray;flex-grow: 1;}#sk-container-id-44 div.sk-label:hover label.sk-toggleable__label {background-color: #d4ebff;}#sk-container-id-44 div.sk-serial::before {content: \"\";position: absolute;border-left: 1px solid gray;box-sizing: border-box;top: 0;bottom: 0;left: 50%;z-index: 0;}#sk-container-id-44 div.sk-serial {display: flex;flex-direction: column;align-items: center;background-color: white;padding-right: 0.2em;padding-left: 0.2em;position: relative;}#sk-container-id-44 div.sk-item {position: relative;z-index: 1;}#sk-container-id-44 div.sk-parallel {display: flex;align-items: stretch;justify-content: center;background-color: white;position: relative;}#sk-container-id-44 div.sk-item::before, #sk-container-id-44 div.sk-parallel-item::before {content: \"\";position: absolute;border-left: 1px solid gray;box-sizing: border-box;top: 0;bottom: 0;left: 50%;z-index: -1;}#sk-container-id-44 div.sk-parallel-item {display: flex;flex-direction: column;z-index: 1;position: relative;background-color: white;}#sk-container-id-44 div.sk-parallel-item:first-child::after {align-self: flex-end;width: 50%;}#sk-container-id-44 div.sk-parallel-item:last-child::after {align-self: flex-start;width: 50%;}#sk-container-id-44 div.sk-parallel-item:only-child::after {width: 0;}#sk-container-id-44 div.sk-dashed-wrapped {border: 1px dashed gray;margin: 0 0.4em 0.5em 0.4em;box-sizing: border-box;padding-bottom: 0.4em;background-color: white;}#sk-container-id-44 div.sk-label label {font-family: monospace;font-weight: bold;display: inline-block;line-height: 1.2em;}#sk-container-id-44 div.sk-label-container {text-align: center;}#sk-container-id-44 div.sk-container {/* jupyter's `normalize.less` sets `[hidden] { display: none; }` but bootstrap.min.css set `[hidden] { display: none !important; }` so we also need the `!important` here to be able to override the default hidden behavior on the sphinx rendered scikit-learn.org. See: https://github.com/scikit-learn/scikit-learn/issues/21755 */display: inline-block !important;position: relative;}#sk-container-id-44 div.sk-text-repr-fallback {display: none;}</style><div id=\"sk-container-id-44\" class=\"sk-top-container\"><div class=\"sk-text-repr-fallback\"><pre>SVC()</pre><b>In a Jupyter environment, please rerun this cell to show the HTML representation or trust the notebook. <br />On GitHub, the HTML representation is unable to render, please try loading this page with nbviewer.org.</b></div><div class=\"sk-container\" hidden><div class=\"sk-item\"><div class=\"sk-estimator sk-toggleable\"><input class=\"sk-toggleable__control sk-hidden--visually\" id=\"sk-estimator-id-48\" type=\"checkbox\" checked><label for=\"sk-estimator-id-48\" class=\"sk-toggleable__label sk-toggleable__label-arrow\">SVC</label><div class=\"sk-toggleable__content\"><pre>SVC()</pre></div></div></div></div></div>"
      ],
      "text/plain": [
       "SVC()"
      ]
     },
     "execution_count": 518,
     "metadata": {},
     "output_type": "execute_result"
    }
   ],
   "source": [
    "rbf_svc.fit(X_train_oversampled3, y_train_oversampled3)"
   ]
  },
  {
   "cell_type": "markdown",
   "id": "b638d2c1",
   "metadata": {},
   "source": [
    "### [SMOTE] Predicting on train set (3%)"
   ]
  },
  {
   "cell_type": "code",
   "execution_count": 519,
   "id": "8e51f619",
   "metadata": {},
   "outputs": [
    {
     "name": "stdout",
     "output_type": "stream",
     "text": [
      "Confusion_Matrix:\n",
      "[[1054  166   44]\n",
      " [ 201  948  115]\n",
      " [  57   17 1190]]\n",
      "Accuracy_Score: 0.8417721518987342\n",
      "\n"
     ]
    }
   ],
   "source": [
    "y_predict_train3sm = rbf_svc.predict(X_train_oversampled3)\n",
    "confusion_matrix_train3sm = confusion_matrix(y_train_oversampled3, y_predict_train3sm)\n",
    "accuracy_score_train3sm = accuracy_score(y_train_oversampled3, y_predict_train3sm)\n",
    "print(\"Confusion_Matrix:\\n{}\"\n",
    "      .format(confusion_matrix_train3sm))\n",
    "print(\"Accuracy_Score: {}\\n\"\n",
    "      .format(accuracy_score_train3sm))"
   ]
  },
  {
   "cell_type": "code",
   "execution_count": 520,
   "id": "a0994932",
   "metadata": {},
   "outputs": [
    {
     "name": "stdout",
     "output_type": "stream",
     "text": [
      "Number of Rows Prediction Correctly: 3192\n",
      "\n"
     ]
    }
   ],
   "source": [
    "skdiagonals_train3sm = confusion_matrix_train3sm.diagonal().sum()\n",
    "print(\"Number of Rows Prediction Correctly: {}\\n\"\n",
    "      .format(skdiagonals_train3sm))"
   ]
  },
  {
   "cell_type": "code",
   "execution_count": 521,
   "id": "54c3dd75",
   "metadata": {},
   "outputs": [
    {
     "data": {
      "text/plain": [
       "0.8412282865868005"
      ]
     },
     "execution_count": 521,
     "metadata": {},
     "output_type": "execute_result"
    }
   ],
   "source": [
    "precision_train3sm = precision_score(y_train_oversampled3, y_predict_train3sm, average = \"weighted\")\n",
    "precision_train3sm"
   ]
  },
  {
   "cell_type": "code",
   "execution_count": 522,
   "id": "5f52b431",
   "metadata": {},
   "outputs": [
    {
     "data": {
      "text/plain": [
       "0.8417721518987342"
      ]
     },
     "execution_count": 522,
     "metadata": {},
     "output_type": "execute_result"
    }
   ],
   "source": [
    "recall_train3sm = recall_score(y_train_oversampled3, y_predict_train3sm, average = \"weighted\")\n",
    "recall_train3sm"
   ]
  },
  {
   "cell_type": "markdown",
   "id": "9b21bc09",
   "metadata": {},
   "source": [
    "### [SMOTE] Predicting on test set (3%)"
   ]
  },
  {
   "cell_type": "code",
   "execution_count": 523,
   "id": "b6f5e547",
   "metadata": {},
   "outputs": [
    {
     "name": "stdout",
     "output_type": "stream",
     "text": [
      "Confusion_Matrix:\n",
      "[[ 2 37  0]\n",
      " [ 5 77  4]\n",
      " [ 0 41  2]]\n",
      "Accuracy_Score: 0.48214285714285715\n",
      "\n"
     ]
    }
   ],
   "source": [
    "y_predict_test3sm = rbf_svc.predict(X_test3)\n",
    "confusion_matrix_test3sm = confusion_matrix(y_test3, y_predict_test3sm)\n",
    "accuracy_score_test3sm = accuracy_score(y_test3, y_predict_test3sm)\n",
    "print(\"Confusion_Matrix:\\n{}\"\n",
    "      .format(confusion_matrix_test3sm))\n",
    "print(\"Accuracy_Score: {}\\n\"\n",
    "      .format(accuracy_score_test3sm))"
   ]
  },
  {
   "cell_type": "code",
   "execution_count": 524,
   "id": "b6d5cbeb",
   "metadata": {},
   "outputs": [
    {
     "name": "stdout",
     "output_type": "stream",
     "text": [
      "Number of Rows Prediction Correctly: 81\n",
      "\n"
     ]
    }
   ],
   "source": [
    "diagonals_test3sm = confusion_matrix_test3sm.diagonal().sum()\n",
    "print(\"Number of Rows Prediction Correctly: {}\\n\"\n",
    "      .format(diagonals_test3sm))"
   ]
  },
  {
   "cell_type": "code",
   "execution_count": 525,
   "id": "70b16c90",
   "metadata": {},
   "outputs": [
    {
     "data": {
      "text/plain": [
       "0.40594506619852233"
      ]
     },
     "execution_count": 525,
     "metadata": {},
     "output_type": "execute_result"
    }
   ],
   "source": [
    "precision_test3sm = precision_score(y_test3, y_predict_test3sm, average = \"weighted\")\n",
    "precision_test3sm"
   ]
  },
  {
   "cell_type": "code",
   "execution_count": 526,
   "id": "52f9d42f",
   "metadata": {
    "scrolled": true
   },
   "outputs": [
    {
     "data": {
      "text/plain": [
       "0.48214285714285715"
      ]
     },
     "execution_count": 526,
     "metadata": {},
     "output_type": "execute_result"
    }
   ],
   "source": [
    "recall_test3sm= recall_score(y_test3, y_predict_test3sm, average = \"weighted\")\n",
    "recall_test3sm"
   ]
  },
  {
   "cell_type": "markdown",
   "id": "3756a9a9",
   "metadata": {},
   "source": [
    "## 5% Target threshold"
   ]
  },
  {
   "cell_type": "code",
   "execution_count": 527,
   "id": "d5e2ba26",
   "metadata": {
    "scrolled": true
   },
   "outputs": [
    {
     "name": "stderr",
     "output_type": "stream",
     "text": [
      "C:\\Python39\\lib\\site-packages\\sklearn\\utils\\validation.py:1111: DataConversionWarning: A column-vector y was passed when a 1d array was expected. Please change the shape of y to (n_samples, ), for example using ravel().\n",
      "  y = column_or_1d(y, warn=True)\n"
     ]
    },
    {
     "data": {
      "text/html": [
       "<style>#sk-container-id-45 {color: black;background-color: white;}#sk-container-id-45 pre{padding: 0;}#sk-container-id-45 div.sk-toggleable {background-color: white;}#sk-container-id-45 label.sk-toggleable__label {cursor: pointer;display: block;width: 100%;margin-bottom: 0;padding: 0.3em;box-sizing: border-box;text-align: center;}#sk-container-id-45 label.sk-toggleable__label-arrow:before {content: \"▸\";float: left;margin-right: 0.25em;color: #696969;}#sk-container-id-45 label.sk-toggleable__label-arrow:hover:before {color: black;}#sk-container-id-45 div.sk-estimator:hover label.sk-toggleable__label-arrow:before {color: black;}#sk-container-id-45 div.sk-toggleable__content {max-height: 0;max-width: 0;overflow: hidden;text-align: left;background-color: #f0f8ff;}#sk-container-id-45 div.sk-toggleable__content pre {margin: 0.2em;color: black;border-radius: 0.25em;background-color: #f0f8ff;}#sk-container-id-45 input.sk-toggleable__control:checked~div.sk-toggleable__content {max-height: 200px;max-width: 100%;overflow: auto;}#sk-container-id-45 input.sk-toggleable__control:checked~label.sk-toggleable__label-arrow:before {content: \"▾\";}#sk-container-id-45 div.sk-estimator input.sk-toggleable__control:checked~label.sk-toggleable__label {background-color: #d4ebff;}#sk-container-id-45 div.sk-label input.sk-toggleable__control:checked~label.sk-toggleable__label {background-color: #d4ebff;}#sk-container-id-45 input.sk-hidden--visually {border: 0;clip: rect(1px 1px 1px 1px);clip: rect(1px, 1px, 1px, 1px);height: 1px;margin: -1px;overflow: hidden;padding: 0;position: absolute;width: 1px;}#sk-container-id-45 div.sk-estimator {font-family: monospace;background-color: #f0f8ff;border: 1px dotted black;border-radius: 0.25em;box-sizing: border-box;margin-bottom: 0.5em;}#sk-container-id-45 div.sk-estimator:hover {background-color: #d4ebff;}#sk-container-id-45 div.sk-parallel-item::after {content: \"\";width: 100%;border-bottom: 1px solid gray;flex-grow: 1;}#sk-container-id-45 div.sk-label:hover label.sk-toggleable__label {background-color: #d4ebff;}#sk-container-id-45 div.sk-serial::before {content: \"\";position: absolute;border-left: 1px solid gray;box-sizing: border-box;top: 0;bottom: 0;left: 50%;z-index: 0;}#sk-container-id-45 div.sk-serial {display: flex;flex-direction: column;align-items: center;background-color: white;padding-right: 0.2em;padding-left: 0.2em;position: relative;}#sk-container-id-45 div.sk-item {position: relative;z-index: 1;}#sk-container-id-45 div.sk-parallel {display: flex;align-items: stretch;justify-content: center;background-color: white;position: relative;}#sk-container-id-45 div.sk-item::before, #sk-container-id-45 div.sk-parallel-item::before {content: \"\";position: absolute;border-left: 1px solid gray;box-sizing: border-box;top: 0;bottom: 0;left: 50%;z-index: -1;}#sk-container-id-45 div.sk-parallel-item {display: flex;flex-direction: column;z-index: 1;position: relative;background-color: white;}#sk-container-id-45 div.sk-parallel-item:first-child::after {align-self: flex-end;width: 50%;}#sk-container-id-45 div.sk-parallel-item:last-child::after {align-self: flex-start;width: 50%;}#sk-container-id-45 div.sk-parallel-item:only-child::after {width: 0;}#sk-container-id-45 div.sk-dashed-wrapped {border: 1px dashed gray;margin: 0 0.4em 0.5em 0.4em;box-sizing: border-box;padding-bottom: 0.4em;background-color: white;}#sk-container-id-45 div.sk-label label {font-family: monospace;font-weight: bold;display: inline-block;line-height: 1.2em;}#sk-container-id-45 div.sk-label-container {text-align: center;}#sk-container-id-45 div.sk-container {/* jupyter's `normalize.less` sets `[hidden] { display: none; }` but bootstrap.min.css set `[hidden] { display: none !important; }` so we also need the `!important` here to be able to override the default hidden behavior on the sphinx rendered scikit-learn.org. See: https://github.com/scikit-learn/scikit-learn/issues/21755 */display: inline-block !important;position: relative;}#sk-container-id-45 div.sk-text-repr-fallback {display: none;}</style><div id=\"sk-container-id-45\" class=\"sk-top-container\"><div class=\"sk-text-repr-fallback\"><pre>SVC()</pre><b>In a Jupyter environment, please rerun this cell to show the HTML representation or trust the notebook. <br />On GitHub, the HTML representation is unable to render, please try loading this page with nbviewer.org.</b></div><div class=\"sk-container\" hidden><div class=\"sk-item\"><div class=\"sk-estimator sk-toggleable\"><input class=\"sk-toggleable__control sk-hidden--visually\" id=\"sk-estimator-id-49\" type=\"checkbox\" checked><label for=\"sk-estimator-id-49\" class=\"sk-toggleable__label sk-toggleable__label-arrow\">SVC</label><div class=\"sk-toggleable__content\"><pre>SVC()</pre></div></div></div></div></div>"
      ],
      "text/plain": [
       "SVC()"
      ]
     },
     "execution_count": 527,
     "metadata": {},
     "output_type": "execute_result"
    }
   ],
   "source": [
    "rbf_svc.fit(X_train5, y_train5)"
   ]
  },
  {
   "cell_type": "markdown",
   "id": "345238be",
   "metadata": {},
   "source": [
    "### Predicting on train set (5%)"
   ]
  },
  {
   "cell_type": "code",
   "execution_count": 528,
   "id": "548f0fd7",
   "metadata": {},
   "outputs": [
    {
     "name": "stdout",
     "output_type": "stream",
     "text": [
      "Confusion_Matrix (5%):\n",
      "[[   4   26    0]\n",
      " [   0 1433    3]\n",
      " [   0   37    8]]\n",
      "Accuracy_Score (5%): 0.9563203176704169\n",
      "\n"
     ]
    }
   ],
   "source": [
    "y_predict_train5 = rbf_svc.predict(X_train5)\n",
    "confusion_matrix_train5 = confusion_matrix(y_train5, y_predict_train5)\n",
    "accuracy_score_train5 = accuracy_score(y_train5, y_predict_train5)\n",
    "print(\"Confusion_Matrix (5%):\\n{}\"\n",
    "      .format(confusion_matrix_train5))\n",
    "print(\"Accuracy_Score (5%): {}\\n\"\n",
    "      .format(accuracy_score_train5))"
   ]
  },
  {
   "cell_type": "code",
   "execution_count": 529,
   "id": "f0663a6a",
   "metadata": {},
   "outputs": [
    {
     "name": "stdout",
     "output_type": "stream",
     "text": [
      "Number of Rows Prediction Correctly (5%): 1445\n",
      "\n"
     ]
    }
   ],
   "source": [
    "diagonals_train5 = confusion_matrix_train5.diagonal().sum()\n",
    "print(\"Number of Rows Prediction Correctly (5%): {}\\n\"\n",
    "      .format(diagonals_train5))"
   ]
  },
  {
   "cell_type": "code",
   "execution_count": 530,
   "id": "eaa9a8e4",
   "metadata": {},
   "outputs": [],
   "source": [
    "TP_train5 = confusion_matrix_train5[1, 1]\n",
    "TN_train5 = confusion_matrix_train5[0, 0]\n",
    "FP_train5 = confusion_matrix_train5[0, 1]\n",
    "FN_train5 = confusion_matrix_train5[1, 0]"
   ]
  },
  {
   "cell_type": "code",
   "execution_count": 531,
   "id": "d2343c25",
   "metadata": {},
   "outputs": [
    {
     "data": {
      "text/plain": [
       "0.9518557317638565"
      ]
     },
     "execution_count": 531,
     "metadata": {},
     "output_type": "execute_result"
    }
   ],
   "source": [
    "precision_train5 = precision_score(y_train5, y_predict_train5, average = \"weighted\")\n",
    "precision_train5"
   ]
  },
  {
   "cell_type": "code",
   "execution_count": 532,
   "id": "686da4c2",
   "metadata": {},
   "outputs": [
    {
     "data": {
      "text/plain": [
       "0.9563203176704169"
      ]
     },
     "execution_count": 532,
     "metadata": {},
     "output_type": "execute_result"
    }
   ],
   "source": [
    "recall_train5 = recall_score(y_train5, y_predict_train5, average = \"weighted\")\n",
    "recall_train5"
   ]
  },
  {
   "cell_type": "markdown",
   "id": "fc8a1cf5",
   "metadata": {},
   "source": [
    "### Predicting on test set (5%)"
   ]
  },
  {
   "cell_type": "code",
   "execution_count": 533,
   "id": "f7fccd8c",
   "metadata": {},
   "outputs": [
    {
     "name": "stdout",
     "output_type": "stream",
     "text": [
      "Confusion_Matrix (5%):\n",
      "[[  0  10   0]\n",
      " [  0 137   0]\n",
      " [  0  21   0]]\n",
      "Accuracy_Score (5%): 0.8154761904761905\n",
      "\n"
     ]
    }
   ],
   "source": [
    "y_predict_test5 = rbf_svc.predict(X_test5)\n",
    "confusion_matrix_test5 = confusion_matrix(y_test5, y_predict_test5)\n",
    "accuracy_score_test5 = accuracy_score(y_test5, y_predict_test5)\n",
    "print(\"Confusion_Matrix (5%):\\n{}\"\n",
    "      .format(confusion_matrix_test5))\n",
    "print(\"Accuracy_Score (5%): {}\\n\"\n",
    "      .format(accuracy_score_test5))"
   ]
  },
  {
   "cell_type": "code",
   "execution_count": 534,
   "id": "989a1dff",
   "metadata": {},
   "outputs": [
    {
     "name": "stdout",
     "output_type": "stream",
     "text": [
      "Number of Rows Prediction Correctly (5%): 137\n",
      "\n"
     ]
    }
   ],
   "source": [
    "diagonals_test5 = confusion_matrix_test5.diagonal().sum()\n",
    "print(\"Number of Rows Prediction Correctly (5%): {}\\n\"\n",
    "      .format(diagonals_test5))"
   ]
  },
  {
   "cell_type": "code",
   "execution_count": 535,
   "id": "299e9611",
   "metadata": {},
   "outputs": [
    {
     "name": "stderr",
     "output_type": "stream",
     "text": [
      "C:\\Python39\\lib\\site-packages\\sklearn\\metrics\\_classification.py:1334: UndefinedMetricWarning: Precision is ill-defined and being set to 0.0 in labels with no predicted samples. Use `zero_division` parameter to control this behavior.\n",
      "  _warn_prf(average, modifier, msg_start, len(result))\n"
     ]
    },
    {
     "data": {
      "text/plain": [
       "0.6650014172335601"
      ]
     },
     "execution_count": 535,
     "metadata": {},
     "output_type": "execute_result"
    }
   ],
   "source": [
    "precision_test5 = precision_score(y_test5, y_predict_test5, average = \"weighted\")\n",
    "precision_test5 "
   ]
  },
  {
   "cell_type": "code",
   "execution_count": 536,
   "id": "4972aa56",
   "metadata": {},
   "outputs": [
    {
     "data": {
      "text/plain": [
       "0.8154761904761905"
      ]
     },
     "execution_count": 536,
     "metadata": {},
     "output_type": "execute_result"
    }
   ],
   "source": [
    "recall_test5 = recall_score(y_test5, y_predict_test5, average = \"weighted\")\n",
    "recall_test5 "
   ]
  },
  {
   "cell_type": "markdown",
   "id": "d3726d3d",
   "metadata": {},
   "source": [
    "## SKLearn Resample 5% "
   ]
  },
  {
   "cell_type": "code",
   "execution_count": 537,
   "id": "1e41334e",
   "metadata": {
    "scrolled": true
   },
   "outputs": [
    {
     "data": {
      "text/html": [
       "<style>#sk-container-id-46 {color: black;background-color: white;}#sk-container-id-46 pre{padding: 0;}#sk-container-id-46 div.sk-toggleable {background-color: white;}#sk-container-id-46 label.sk-toggleable__label {cursor: pointer;display: block;width: 100%;margin-bottom: 0;padding: 0.3em;box-sizing: border-box;text-align: center;}#sk-container-id-46 label.sk-toggleable__label-arrow:before {content: \"▸\";float: left;margin-right: 0.25em;color: #696969;}#sk-container-id-46 label.sk-toggleable__label-arrow:hover:before {color: black;}#sk-container-id-46 div.sk-estimator:hover label.sk-toggleable__label-arrow:before {color: black;}#sk-container-id-46 div.sk-toggleable__content {max-height: 0;max-width: 0;overflow: hidden;text-align: left;background-color: #f0f8ff;}#sk-container-id-46 div.sk-toggleable__content pre {margin: 0.2em;color: black;border-radius: 0.25em;background-color: #f0f8ff;}#sk-container-id-46 input.sk-toggleable__control:checked~div.sk-toggleable__content {max-height: 200px;max-width: 100%;overflow: auto;}#sk-container-id-46 input.sk-toggleable__control:checked~label.sk-toggleable__label-arrow:before {content: \"▾\";}#sk-container-id-46 div.sk-estimator input.sk-toggleable__control:checked~label.sk-toggleable__label {background-color: #d4ebff;}#sk-container-id-46 div.sk-label input.sk-toggleable__control:checked~label.sk-toggleable__label {background-color: #d4ebff;}#sk-container-id-46 input.sk-hidden--visually {border: 0;clip: rect(1px 1px 1px 1px);clip: rect(1px, 1px, 1px, 1px);height: 1px;margin: -1px;overflow: hidden;padding: 0;position: absolute;width: 1px;}#sk-container-id-46 div.sk-estimator {font-family: monospace;background-color: #f0f8ff;border: 1px dotted black;border-radius: 0.25em;box-sizing: border-box;margin-bottom: 0.5em;}#sk-container-id-46 div.sk-estimator:hover {background-color: #d4ebff;}#sk-container-id-46 div.sk-parallel-item::after {content: \"\";width: 100%;border-bottom: 1px solid gray;flex-grow: 1;}#sk-container-id-46 div.sk-label:hover label.sk-toggleable__label {background-color: #d4ebff;}#sk-container-id-46 div.sk-serial::before {content: \"\";position: absolute;border-left: 1px solid gray;box-sizing: border-box;top: 0;bottom: 0;left: 50%;z-index: 0;}#sk-container-id-46 div.sk-serial {display: flex;flex-direction: column;align-items: center;background-color: white;padding-right: 0.2em;padding-left: 0.2em;position: relative;}#sk-container-id-46 div.sk-item {position: relative;z-index: 1;}#sk-container-id-46 div.sk-parallel {display: flex;align-items: stretch;justify-content: center;background-color: white;position: relative;}#sk-container-id-46 div.sk-item::before, #sk-container-id-46 div.sk-parallel-item::before {content: \"\";position: absolute;border-left: 1px solid gray;box-sizing: border-box;top: 0;bottom: 0;left: 50%;z-index: -1;}#sk-container-id-46 div.sk-parallel-item {display: flex;flex-direction: column;z-index: 1;position: relative;background-color: white;}#sk-container-id-46 div.sk-parallel-item:first-child::after {align-self: flex-end;width: 50%;}#sk-container-id-46 div.sk-parallel-item:last-child::after {align-self: flex-start;width: 50%;}#sk-container-id-46 div.sk-parallel-item:only-child::after {width: 0;}#sk-container-id-46 div.sk-dashed-wrapped {border: 1px dashed gray;margin: 0 0.4em 0.5em 0.4em;box-sizing: border-box;padding-bottom: 0.4em;background-color: white;}#sk-container-id-46 div.sk-label label {font-family: monospace;font-weight: bold;display: inline-block;line-height: 1.2em;}#sk-container-id-46 div.sk-label-container {text-align: center;}#sk-container-id-46 div.sk-container {/* jupyter's `normalize.less` sets `[hidden] { display: none; }` but bootstrap.min.css set `[hidden] { display: none !important; }` so we also need the `!important` here to be able to override the default hidden behavior on the sphinx rendered scikit-learn.org. See: https://github.com/scikit-learn/scikit-learn/issues/21755 */display: inline-block !important;position: relative;}#sk-container-id-46 div.sk-text-repr-fallback {display: none;}</style><div id=\"sk-container-id-46\" class=\"sk-top-container\"><div class=\"sk-text-repr-fallback\"><pre>SVC()</pre><b>In a Jupyter environment, please rerun this cell to show the HTML representation or trust the notebook. <br />On GitHub, the HTML representation is unable to render, please try loading this page with nbviewer.org.</b></div><div class=\"sk-container\" hidden><div class=\"sk-item\"><div class=\"sk-estimator sk-toggleable\"><input class=\"sk-toggleable__control sk-hidden--visually\" id=\"sk-estimator-id-50\" type=\"checkbox\" checked><label for=\"sk-estimator-id-50\" class=\"sk-toggleable__label sk-toggleable__label-arrow\">SVC</label><div class=\"sk-toggleable__content\"><pre>SVC()</pre></div></div></div></div></div>"
      ],
      "text/plain": [
       "SVC()"
      ]
     },
     "execution_count": 537,
     "metadata": {},
     "output_type": "execute_result"
    }
   ],
   "source": [
    "rbf_svc.fit(X_train_upsampled5, y_train_upsampled5)"
   ]
  },
  {
   "cell_type": "markdown",
   "id": "15a43d69",
   "metadata": {},
   "source": [
    "### [SKLEARN RESAMPLE] Predicting on train set (5%)"
   ]
  },
  {
   "cell_type": "code",
   "execution_count": 538,
   "id": "e0ebe3bc",
   "metadata": {},
   "outputs": [
    {
     "name": "stdout",
     "output_type": "stream",
     "text": [
      "Confusion_Matrix:\n",
      "[[ 135  133    0]\n",
      " [   4 2896   43]\n",
      " [   0  142  439]]\n",
      "Accuracy_Score: 0.915084388185654\n",
      "\n"
     ]
    }
   ],
   "source": [
    "y_predict_train5sk = rbf_svc.predict(X_train_upsampled5)\n",
    "confusion_matrix_train5sk = confusion_matrix(y_train_upsampled5, y_predict_train5sk)\n",
    "accuracy_score_train5sk = accuracy_score(y_train_upsampled5, y_predict_train5sk)\n",
    "print(\"Confusion_Matrix:\\n{}\"\n",
    "      .format(confusion_matrix_train5sk))\n",
    "print(\"Accuracy_Score: {}\\n\"\n",
    "      .format(accuracy_score_train5sk))"
   ]
  },
  {
   "cell_type": "code",
   "execution_count": 539,
   "id": "16acb5ef",
   "metadata": {},
   "outputs": [
    {
     "name": "stdout",
     "output_type": "stream",
     "text": [
      "Number of Rows Prediction Correctly: 3470\n",
      "\n"
     ]
    }
   ],
   "source": [
    "skdiagonals_train5sk = confusion_matrix_train5sk.diagonal().sum()\n",
    "print(\"Number of Rows Prediction Correctly: {}\\n\"\n",
    "      .format(skdiagonals_train5sk))"
   ]
  },
  {
   "cell_type": "code",
   "execution_count": 540,
   "id": "303e5a92",
   "metadata": {},
   "outputs": [
    {
     "data": {
      "text/plain": [
       "0.9169907072431968"
      ]
     },
     "execution_count": 540,
     "metadata": {},
     "output_type": "execute_result"
    }
   ],
   "source": [
    "precision_train5sk = precision_score(y_train_upsampled5, y_predict_train5sk, average = \"weighted\")\n",
    "precision_train5sk"
   ]
  },
  {
   "cell_type": "code",
   "execution_count": 541,
   "id": "e9d1d706",
   "metadata": {},
   "outputs": [
    {
     "data": {
      "text/plain": [
       "0.915084388185654"
      ]
     },
     "execution_count": 541,
     "metadata": {},
     "output_type": "execute_result"
    }
   ],
   "source": [
    "recall_train5sk = recall_score(y_train_upsampled5, y_predict_train5sk, average = \"weighted\")\n",
    "recall_train5sk"
   ]
  },
  {
   "cell_type": "markdown",
   "id": "387283ce",
   "metadata": {},
   "source": [
    "### [SKLEARN RESAMPLE] Predicting on test set (5%)"
   ]
  },
  {
   "cell_type": "code",
   "execution_count": 542,
   "id": "0d64c8f9",
   "metadata": {},
   "outputs": [
    {
     "name": "stdout",
     "output_type": "stream",
     "text": [
      "Confusion_Matrix:\n",
      "[[  0  10   0]\n",
      " [  0 137   0]\n",
      " [  0  21   0]]\n",
      "Accuracy_Score: 0.8154761904761905\n",
      "\n"
     ]
    }
   ],
   "source": [
    "y_predict_test5sk = rbf_svc.predict(X_test5)\n",
    "confusion_matrix_test5sk = confusion_matrix(y_test5, y_predict_test5sk)\n",
    "accuracy_score_test5sk = accuracy_score(y_test5, y_predict_test5sk)\n",
    "print(\"Confusion_Matrix:\\n{}\"\n",
    "      .format(confusion_matrix_test5sk))\n",
    "print(\"Accuracy_Score: {}\\n\"\n",
    "      .format(accuracy_score_test5sk))"
   ]
  },
  {
   "cell_type": "code",
   "execution_count": 543,
   "id": "fd36d64f",
   "metadata": {},
   "outputs": [
    {
     "name": "stdout",
     "output_type": "stream",
     "text": [
      "Number of Rows Prediction Correctly: 137\n",
      "\n"
     ]
    }
   ],
   "source": [
    "diagonals_test5sk = confusion_matrix_test5sk.diagonal().sum()\n",
    "print(\"Number of Rows Prediction Correctly: {}\\n\"\n",
    "      .format(diagonals_test5sk))"
   ]
  },
  {
   "cell_type": "code",
   "execution_count": 544,
   "id": "24a39569",
   "metadata": {},
   "outputs": [
    {
     "name": "stderr",
     "output_type": "stream",
     "text": [
      "C:\\Python39\\lib\\site-packages\\sklearn\\metrics\\_classification.py:1334: UndefinedMetricWarning: Precision is ill-defined and being set to 0.0 in labels with no predicted samples. Use `zero_division` parameter to control this behavior.\n",
      "  _warn_prf(average, modifier, msg_start, len(result))\n"
     ]
    },
    {
     "data": {
      "text/plain": [
       "0.6650014172335601"
      ]
     },
     "execution_count": 544,
     "metadata": {},
     "output_type": "execute_result"
    }
   ],
   "source": [
    "precision_test5sk = precision_score(y_test5, y_predict_test5sk, average = \"weighted\")\n",
    "precision_test5sk "
   ]
  },
  {
   "cell_type": "code",
   "execution_count": 545,
   "id": "9572f780",
   "metadata": {
    "scrolled": true
   },
   "outputs": [
    {
     "data": {
      "text/plain": [
       "0.8154761904761905"
      ]
     },
     "execution_count": 545,
     "metadata": {},
     "output_type": "execute_result"
    }
   ],
   "source": [
    "recall_test5sk = recall_score(y_test5, y_predict_test5sk, average = \"weighted\")\n",
    "recall_test5sk "
   ]
  },
  {
   "cell_type": "markdown",
   "id": "da5f049f",
   "metadata": {},
   "source": [
    "## SMOTE Resample 5% "
   ]
  },
  {
   "cell_type": "code",
   "execution_count": 546,
   "id": "6515f111",
   "metadata": {
    "scrolled": true
   },
   "outputs": [
    {
     "name": "stderr",
     "output_type": "stream",
     "text": [
      "C:\\Python39\\lib\\site-packages\\sklearn\\utils\\validation.py:1111: DataConversionWarning: A column-vector y was passed when a 1d array was expected. Please change the shape of y to (n_samples, ), for example using ravel().\n",
      "  y = column_or_1d(y, warn=True)\n"
     ]
    },
    {
     "data": {
      "text/html": [
       "<style>#sk-container-id-47 {color: black;background-color: white;}#sk-container-id-47 pre{padding: 0;}#sk-container-id-47 div.sk-toggleable {background-color: white;}#sk-container-id-47 label.sk-toggleable__label {cursor: pointer;display: block;width: 100%;margin-bottom: 0;padding: 0.3em;box-sizing: border-box;text-align: center;}#sk-container-id-47 label.sk-toggleable__label-arrow:before {content: \"▸\";float: left;margin-right: 0.25em;color: #696969;}#sk-container-id-47 label.sk-toggleable__label-arrow:hover:before {color: black;}#sk-container-id-47 div.sk-estimator:hover label.sk-toggleable__label-arrow:before {color: black;}#sk-container-id-47 div.sk-toggleable__content {max-height: 0;max-width: 0;overflow: hidden;text-align: left;background-color: #f0f8ff;}#sk-container-id-47 div.sk-toggleable__content pre {margin: 0.2em;color: black;border-radius: 0.25em;background-color: #f0f8ff;}#sk-container-id-47 input.sk-toggleable__control:checked~div.sk-toggleable__content {max-height: 200px;max-width: 100%;overflow: auto;}#sk-container-id-47 input.sk-toggleable__control:checked~label.sk-toggleable__label-arrow:before {content: \"▾\";}#sk-container-id-47 div.sk-estimator input.sk-toggleable__control:checked~label.sk-toggleable__label {background-color: #d4ebff;}#sk-container-id-47 div.sk-label input.sk-toggleable__control:checked~label.sk-toggleable__label {background-color: #d4ebff;}#sk-container-id-47 input.sk-hidden--visually {border: 0;clip: rect(1px 1px 1px 1px);clip: rect(1px, 1px, 1px, 1px);height: 1px;margin: -1px;overflow: hidden;padding: 0;position: absolute;width: 1px;}#sk-container-id-47 div.sk-estimator {font-family: monospace;background-color: #f0f8ff;border: 1px dotted black;border-radius: 0.25em;box-sizing: border-box;margin-bottom: 0.5em;}#sk-container-id-47 div.sk-estimator:hover {background-color: #d4ebff;}#sk-container-id-47 div.sk-parallel-item::after {content: \"\";width: 100%;border-bottom: 1px solid gray;flex-grow: 1;}#sk-container-id-47 div.sk-label:hover label.sk-toggleable__label {background-color: #d4ebff;}#sk-container-id-47 div.sk-serial::before {content: \"\";position: absolute;border-left: 1px solid gray;box-sizing: border-box;top: 0;bottom: 0;left: 50%;z-index: 0;}#sk-container-id-47 div.sk-serial {display: flex;flex-direction: column;align-items: center;background-color: white;padding-right: 0.2em;padding-left: 0.2em;position: relative;}#sk-container-id-47 div.sk-item {position: relative;z-index: 1;}#sk-container-id-47 div.sk-parallel {display: flex;align-items: stretch;justify-content: center;background-color: white;position: relative;}#sk-container-id-47 div.sk-item::before, #sk-container-id-47 div.sk-parallel-item::before {content: \"\";position: absolute;border-left: 1px solid gray;box-sizing: border-box;top: 0;bottom: 0;left: 50%;z-index: -1;}#sk-container-id-47 div.sk-parallel-item {display: flex;flex-direction: column;z-index: 1;position: relative;background-color: white;}#sk-container-id-47 div.sk-parallel-item:first-child::after {align-self: flex-end;width: 50%;}#sk-container-id-47 div.sk-parallel-item:last-child::after {align-self: flex-start;width: 50%;}#sk-container-id-47 div.sk-parallel-item:only-child::after {width: 0;}#sk-container-id-47 div.sk-dashed-wrapped {border: 1px dashed gray;margin: 0 0.4em 0.5em 0.4em;box-sizing: border-box;padding-bottom: 0.4em;background-color: white;}#sk-container-id-47 div.sk-label label {font-family: monospace;font-weight: bold;display: inline-block;line-height: 1.2em;}#sk-container-id-47 div.sk-label-container {text-align: center;}#sk-container-id-47 div.sk-container {/* jupyter's `normalize.less` sets `[hidden] { display: none; }` but bootstrap.min.css set `[hidden] { display: none !important; }` so we also need the `!important` here to be able to override the default hidden behavior on the sphinx rendered scikit-learn.org. See: https://github.com/scikit-learn/scikit-learn/issues/21755 */display: inline-block !important;position: relative;}#sk-container-id-47 div.sk-text-repr-fallback {display: none;}</style><div id=\"sk-container-id-47\" class=\"sk-top-container\"><div class=\"sk-text-repr-fallback\"><pre>SVC()</pre><b>In a Jupyter environment, please rerun this cell to show the HTML representation or trust the notebook. <br />On GitHub, the HTML representation is unable to render, please try loading this page with nbviewer.org.</b></div><div class=\"sk-container\" hidden><div class=\"sk-item\"><div class=\"sk-estimator sk-toggleable\"><input class=\"sk-toggleable__control sk-hidden--visually\" id=\"sk-estimator-id-51\" type=\"checkbox\" checked><label for=\"sk-estimator-id-51\" class=\"sk-toggleable__label sk-toggleable__label-arrow\">SVC</label><div class=\"sk-toggleable__content\"><pre>SVC()</pre></div></div></div></div></div>"
      ],
      "text/plain": [
       "SVC()"
      ]
     },
     "execution_count": 546,
     "metadata": {},
     "output_type": "execute_result"
    }
   ],
   "source": [
    "rbf_svc.fit(X_train_oversampled5, y_train_oversampled5)"
   ]
  },
  {
   "cell_type": "markdown",
   "id": "7ec1712b",
   "metadata": {},
   "source": [
    "### [SMOTE] Predicting on train set (5%)"
   ]
  },
  {
   "cell_type": "code",
   "execution_count": 547,
   "id": "04e8211a",
   "metadata": {},
   "outputs": [
    {
     "name": "stdout",
     "output_type": "stream",
     "text": [
      "Confusion_Matrix:\n",
      "[[1393   22   21]\n",
      " [  84 1254   98]\n",
      " [   3   17 1416]]\n",
      "Accuracy_Score: 0.9431290622098422\n",
      "\n"
     ]
    }
   ],
   "source": [
    "y_predict_train5sm = rbf_svc.predict(X_train_oversampled5)\n",
    "confusion_matrix_train5sm = confusion_matrix(y_train_oversampled5, y_predict_train5sm)\n",
    "accuracy_score_train5sm = accuracy_score(y_train_oversampled5, y_predict_train5sm)\n",
    "print(\"Confusion_Matrix:\\n{}\"\n",
    "      .format(confusion_matrix_train5sm))\n",
    "print(\"Accuracy_Score: {}\\n\"\n",
    "      .format(accuracy_score_train5sm))"
   ]
  },
  {
   "cell_type": "code",
   "execution_count": 548,
   "id": "c122c984",
   "metadata": {},
   "outputs": [
    {
     "name": "stdout",
     "output_type": "stream",
     "text": [
      "Number of Rows Prediction Correctly: 4063\n",
      "\n"
     ]
    }
   ],
   "source": [
    "skdiagonals_train5sm = confusion_matrix_train5sm.diagonal().sum()\n",
    "print(\"Number of Rows Prediction Correctly: {}\\n\"\n",
    "      .format(skdiagonals_train5sm))"
   ]
  },
  {
   "cell_type": "code",
   "execution_count": 549,
   "id": "2a44a416",
   "metadata": {},
   "outputs": [
    {
     "data": {
      "text/plain": [
       "0.9445097910852499"
      ]
     },
     "execution_count": 549,
     "metadata": {},
     "output_type": "execute_result"
    }
   ],
   "source": [
    "precision_train5sm = precision_score(y_train_oversampled5, y_predict_train5sm, average = \"weighted\")\n",
    "precision_train5sm"
   ]
  },
  {
   "cell_type": "code",
   "execution_count": 550,
   "id": "5031eeb5",
   "metadata": {},
   "outputs": [
    {
     "data": {
      "text/plain": [
       "0.9431290622098422"
      ]
     },
     "execution_count": 550,
     "metadata": {},
     "output_type": "execute_result"
    }
   ],
   "source": [
    "recall_train5sm = recall_score(y_train_oversampled5, y_predict_train5sm, average = \"weighted\")\n",
    "recall_train5sm"
   ]
  },
  {
   "cell_type": "markdown",
   "id": "d56d11c1",
   "metadata": {},
   "source": [
    "### [SMOTE] Predicting on test set (5%)"
   ]
  },
  {
   "cell_type": "code",
   "execution_count": 551,
   "id": "b1977fb9",
   "metadata": {},
   "outputs": [
    {
     "name": "stdout",
     "output_type": "stream",
     "text": [
      "Confusion_Matrix:\n",
      "[[  0  10   0]\n",
      " [  0 137   0]\n",
      " [  0  21   0]]\n",
      "Accuracy_Score: 0.8154761904761905\n",
      "\n"
     ]
    }
   ],
   "source": [
    "y_predict_test5sm = rbf_svc.predict(X_test5)\n",
    "confusion_matrix_test5sm = confusion_matrix(y_test5, y_predict_test5sm)\n",
    "accuracy_score_test5sm = accuracy_score(y_test5, y_predict_test5sm)\n",
    "print(\"Confusion_Matrix:\\n{}\"\n",
    "      .format(confusion_matrix_test5sm))\n",
    "print(\"Accuracy_Score: {}\\n\"\n",
    "      .format(accuracy_score_test5sm))"
   ]
  },
  {
   "cell_type": "code",
   "execution_count": 552,
   "id": "222c45c2",
   "metadata": {},
   "outputs": [
    {
     "name": "stdout",
     "output_type": "stream",
     "text": [
      "Number of Rows Prediction Correctly: 137\n",
      "\n"
     ]
    }
   ],
   "source": [
    "diagonals_test5sm = confusion_matrix_test5sm.diagonal().sum()\n",
    "print(\"Number of Rows Prediction Correctly: {}\\n\"\n",
    "      .format(diagonals_test5sm))"
   ]
  },
  {
   "cell_type": "code",
   "execution_count": 553,
   "id": "5d540577",
   "metadata": {},
   "outputs": [
    {
     "name": "stderr",
     "output_type": "stream",
     "text": [
      "C:\\Python39\\lib\\site-packages\\sklearn\\metrics\\_classification.py:1334: UndefinedMetricWarning: Precision is ill-defined and being set to 0.0 in labels with no predicted samples. Use `zero_division` parameter to control this behavior.\n",
      "  _warn_prf(average, modifier, msg_start, len(result))\n"
     ]
    },
    {
     "data": {
      "text/plain": [
       "0.6650014172335601"
      ]
     },
     "execution_count": 553,
     "metadata": {},
     "output_type": "execute_result"
    }
   ],
   "source": [
    "precision_test5sm = precision_score(y_test5, y_predict_test5sm, average = \"weighted\")\n",
    "precision_test5sm"
   ]
  },
  {
   "cell_type": "code",
   "execution_count": 554,
   "id": "570dfd11",
   "metadata": {
    "scrolled": true
   },
   "outputs": [
    {
     "data": {
      "text/plain": [
       "0.8154761904761905"
      ]
     },
     "execution_count": 554,
     "metadata": {},
     "output_type": "execute_result"
    }
   ],
   "source": [
    "recall_test5sm= recall_score(y_test5, y_predict_test5sm, average = \"weighted\")\n",
    "recall_test5sm"
   ]
  },
  {
   "cell_type": "code",
   "execution_count": 555,
   "id": "faed9521",
   "metadata": {},
   "outputs": [
    {
     "data": {
      "text/html": [
       "<div>\n",
       "<style scoped>\n",
       "    .dataframe tbody tr th:only-of-type {\n",
       "        vertical-align: middle;\n",
       "    }\n",
       "\n",
       "    .dataframe tbody tr th {\n",
       "        vertical-align: top;\n",
       "    }\n",
       "\n",
       "    .dataframe thead th {\n",
       "        text-align: right;\n",
       "    }\n",
       "</style>\n",
       "<table border=\"1\" class=\"dataframe\">\n",
       "  <thead>\n",
       "    <tr style=\"text-align: right;\">\n",
       "      <th></th>\n",
       "      <th>model</th>\n",
       "      <th>accuracy</th>\n",
       "      <th>recall</th>\n",
       "      <th>precision</th>\n",
       "    </tr>\n",
       "  </thead>\n",
       "  <tbody>\n",
       "    <tr>\n",
       "      <th>0</th>\n",
       "      <td>RBF SVC 3%</td>\n",
       "      <td>0.511905</td>\n",
       "      <td>0.511905</td>\n",
       "      <td>0.262046</td>\n",
       "    </tr>\n",
       "    <tr>\n",
       "      <th>1</th>\n",
       "      <td>RBF SVC 3% SK Resample</td>\n",
       "      <td>0.494048</td>\n",
       "      <td>0.494048</td>\n",
       "      <td>0.471694</td>\n",
       "    </tr>\n",
       "    <tr>\n",
       "      <th>2</th>\n",
       "      <td>RBF SVC 3% SMOTE</td>\n",
       "      <td>0.482143</td>\n",
       "      <td>0.482143</td>\n",
       "      <td>0.405945</td>\n",
       "    </tr>\n",
       "    <tr>\n",
       "      <th>3</th>\n",
       "      <td>RBF SVC 5%</td>\n",
       "      <td>0.815476</td>\n",
       "      <td>0.815476</td>\n",
       "      <td>0.665001</td>\n",
       "    </tr>\n",
       "    <tr>\n",
       "      <th>4</th>\n",
       "      <td>RBF SVC 5% SK Resample</td>\n",
       "      <td>0.815476</td>\n",
       "      <td>0.815476</td>\n",
       "      <td>0.665001</td>\n",
       "    </tr>\n",
       "    <tr>\n",
       "      <th>5</th>\n",
       "      <td>RBF SVC 5% SMOTE</td>\n",
       "      <td>0.815476</td>\n",
       "      <td>0.815476</td>\n",
       "      <td>0.665001</td>\n",
       "    </tr>\n",
       "  </tbody>\n",
       "</table>\n",
       "</div>"
      ],
      "text/plain": [
       "                    model  accuracy    recall  precision\n",
       "0              RBF SVC 3%  0.511905  0.511905   0.262046\n",
       "1  RBF SVC 3% SK Resample  0.494048  0.494048   0.471694\n",
       "2        RBF SVC 3% SMOTE  0.482143  0.482143   0.405945\n",
       "3              RBF SVC 5%  0.815476  0.815476   0.665001\n",
       "4  RBF SVC 5% SK Resample  0.815476  0.815476   0.665001\n",
       "5        RBF SVC 5% SMOTE  0.815476  0.815476   0.665001"
      ]
     },
     "execution_count": 555,
     "metadata": {},
     "output_type": "execute_result"
    }
   ],
   "source": [
    "dfrbf = pd.DataFrame({\n",
    "    'model': ['RBF SVC 3%', 'RBF SVC 3% SK Resample', 'RBF SVC 3% SMOTE', 'RBF SVC 5%', 'RBF SVC 5% SK Resample', 'RBF SVC 5% SMOTE',],\n",
    "    'accuracy': [accuracy_score_test3,accuracy_score_test3sk, accuracy_score_test3sm, accuracy_score_test5,accuracy_score_test5sk, accuracy_score_test5sm],\n",
    "    'recall': [recall_test3, recall_test3sk, recall_test3sm, recall_test5, recall_test5sk, recall_test5sm],\n",
    "    'precision': [precision_test3, precision_test3sk, precision_test3sm, precision_test5, precision_test5sk, precision_test5sm],\n",
    "})\n",
    "\n",
    "dfrbf"
   ]
  },
  {
   "cell_type": "code",
   "execution_count": 556,
   "id": "344c870b",
   "metadata": {},
   "outputs": [
    {
     "data": {
      "text/html": [
       "<div>\n",
       "<style scoped>\n",
       "    .dataframe tbody tr th:only-of-type {\n",
       "        vertical-align: middle;\n",
       "    }\n",
       "\n",
       "    .dataframe tbody tr th {\n",
       "        vertical-align: top;\n",
       "    }\n",
       "\n",
       "    .dataframe thead th {\n",
       "        text-align: right;\n",
       "    }\n",
       "</style>\n",
       "<table border=\"1\" class=\"dataframe\">\n",
       "  <thead>\n",
       "    <tr style=\"text-align: right;\">\n",
       "      <th></th>\n",
       "      <th>model</th>\n",
       "      <th>accuracy</th>\n",
       "      <th>recall</th>\n",
       "      <th>precision</th>\n",
       "    </tr>\n",
       "  </thead>\n",
       "  <tbody>\n",
       "    <tr>\n",
       "      <th>0</th>\n",
       "      <td>Linear SVC 3%</td>\n",
       "      <td>0.511905</td>\n",
       "      <td>0.511905</td>\n",
       "      <td>0.262046</td>\n",
       "    </tr>\n",
       "    <tr>\n",
       "      <th>1</th>\n",
       "      <td>Linear SVC 3% SK Resample</td>\n",
       "      <td>0.345238</td>\n",
       "      <td>0.345238</td>\n",
       "      <td>0.393701</td>\n",
       "    </tr>\n",
       "    <tr>\n",
       "      <th>2</th>\n",
       "      <td>Linear SVC 3% SMOTE</td>\n",
       "      <td>0.345238</td>\n",
       "      <td>0.345238</td>\n",
       "      <td>0.394170</td>\n",
       "    </tr>\n",
       "    <tr>\n",
       "      <th>3</th>\n",
       "      <td>Linear SVC 5%</td>\n",
       "      <td>0.815476</td>\n",
       "      <td>0.815476</td>\n",
       "      <td>0.665001</td>\n",
       "    </tr>\n",
       "    <tr>\n",
       "      <th>4</th>\n",
       "      <td>Linear SVC 5% SK Resample</td>\n",
       "      <td>0.803571</td>\n",
       "      <td>0.803571</td>\n",
       "      <td>0.697554</td>\n",
       "    </tr>\n",
       "    <tr>\n",
       "      <th>5</th>\n",
       "      <td>Linear SVC 5% SMOTE</td>\n",
       "      <td>0.738095</td>\n",
       "      <td>0.738095</td>\n",
       "      <td>0.715695</td>\n",
       "    </tr>\n",
       "    <tr>\n",
       "      <th>0</th>\n",
       "      <td>RBF SVC 3%</td>\n",
       "      <td>0.511905</td>\n",
       "      <td>0.511905</td>\n",
       "      <td>0.262046</td>\n",
       "    </tr>\n",
       "    <tr>\n",
       "      <th>1</th>\n",
       "      <td>RBF SVC 3% SK Resample</td>\n",
       "      <td>0.494048</td>\n",
       "      <td>0.494048</td>\n",
       "      <td>0.471694</td>\n",
       "    </tr>\n",
       "    <tr>\n",
       "      <th>2</th>\n",
       "      <td>RBF SVC 3% SMOTE</td>\n",
       "      <td>0.482143</td>\n",
       "      <td>0.482143</td>\n",
       "      <td>0.405945</td>\n",
       "    </tr>\n",
       "    <tr>\n",
       "      <th>3</th>\n",
       "      <td>RBF SVC 5%</td>\n",
       "      <td>0.815476</td>\n",
       "      <td>0.815476</td>\n",
       "      <td>0.665001</td>\n",
       "    </tr>\n",
       "    <tr>\n",
       "      <th>4</th>\n",
       "      <td>RBF SVC 5% SK Resample</td>\n",
       "      <td>0.815476</td>\n",
       "      <td>0.815476</td>\n",
       "      <td>0.665001</td>\n",
       "    </tr>\n",
       "    <tr>\n",
       "      <th>5</th>\n",
       "      <td>RBF SVC 5% SMOTE</td>\n",
       "      <td>0.815476</td>\n",
       "      <td>0.815476</td>\n",
       "      <td>0.665001</td>\n",
       "    </tr>\n",
       "  </tbody>\n",
       "</table>\n",
       "</div>"
      ],
      "text/plain": [
       "                       model  accuracy    recall  precision\n",
       "0              Linear SVC 3%  0.511905  0.511905   0.262046\n",
       "1  Linear SVC 3% SK Resample  0.345238  0.345238   0.393701\n",
       "2        Linear SVC 3% SMOTE  0.345238  0.345238   0.394170\n",
       "3              Linear SVC 5%  0.815476  0.815476   0.665001\n",
       "4  Linear SVC 5% SK Resample  0.803571  0.803571   0.697554\n",
       "5        Linear SVC 5% SMOTE  0.738095  0.738095   0.715695\n",
       "0                 RBF SVC 3%  0.511905  0.511905   0.262046\n",
       "1     RBF SVC 3% SK Resample  0.494048  0.494048   0.471694\n",
       "2           RBF SVC 3% SMOTE  0.482143  0.482143   0.405945\n",
       "3                 RBF SVC 5%  0.815476  0.815476   0.665001\n",
       "4     RBF SVC 5% SK Resample  0.815476  0.815476   0.665001\n",
       "5           RBF SVC 5% SMOTE  0.815476  0.815476   0.665001"
      ]
     },
     "execution_count": 556,
     "metadata": {},
     "output_type": "execute_result"
    }
   ],
   "source": [
    "results = pd.concat([dflinear, dfrbf], axis = 0)\n",
    "results"
   ]
  },
  {
   "cell_type": "markdown",
   "id": "7221733b",
   "metadata": {},
   "source": [
    "## Optimizing gamma and c "
   ]
  },
  {
   "cell_type": "code",
   "execution_count": 557,
   "id": "b6a7a748",
   "metadata": {},
   "outputs": [
    {
     "ename": "NameError",
     "evalue": "name 'X_train' is not defined",
     "output_type": "error",
     "traceback": [
      "\u001b[1;31m---------------------------------------------------------------------------\u001b[0m",
      "\u001b[1;31mNameError\u001b[0m                                 Traceback (most recent call last)",
      "Input \u001b[1;32mIn [557]\u001b[0m, in \u001b[0;36m<cell line: 6>\u001b[1;34m()\u001b[0m\n\u001b[0;32m      4\u001b[0m params \u001b[38;5;241m=\u001b[39m {\u001b[38;5;124m'\u001b[39m\u001b[38;5;124mgamma\u001b[39m\u001b[38;5;124m'\u001b[39m: gamma_range, \u001b[38;5;124m'\u001b[39m\u001b[38;5;124mC\u001b[39m\u001b[38;5;124m'\u001b[39m : C_range}\n\u001b[0;32m      5\u001b[0m rs \u001b[38;5;241m=\u001b[39m RandomizedSearchCV(rbf_svc, params , n_iter \u001b[38;5;241m=\u001b[39m \u001b[38;5;241m10\u001b[39m, cv \u001b[38;5;241m=\u001b[39m \u001b[38;5;241m9\u001b[39m)\n\u001b[1;32m----> 6\u001b[0m rs\u001b[38;5;241m.\u001b[39mfit(\u001b[43mX_train\u001b[49m, y_train)\n",
      "\u001b[1;31mNameError\u001b[0m: name 'X_train' is not defined"
     ]
    }
   ],
   "source": [
    "C_range = np.logspace(-2, 10, 13)\n",
    "gamma_range = np.logspace(-9, 3, 13)\n",
    "\n",
    "params = {'gamma': gamma_range, 'C' : C_range}\n",
    "rs = RandomizedSearchCV(rbf_svc, params , n_iter = 10, cv = 9)\n",
    "rs.fit(X_train, y_train)"
   ]
  },
  {
   "cell_type": "code",
   "execution_count": null,
   "id": "40ac5032",
   "metadata": {},
   "outputs": [],
   "source": [
    "rs.best_params_"
   ]
  },
  {
   "cell_type": "code",
   "execution_count": null,
   "id": "52f64b60",
   "metadata": {},
   "outputs": [],
   "source": [
    "rs.best_score_"
   ]
  }
 ],
 "metadata": {
  "kernelspec": {
   "display_name": "Python 3 (ipykernel)",
   "language": "python",
   "name": "python3"
  },
  "language_info": {
   "codemirror_mode": {
    "name": "ipython",
    "version": 3
   },
   "file_extension": ".py",
   "mimetype": "text/x-python",
   "name": "python",
   "nbconvert_exporter": "python",
   "pygments_lexer": "ipython3",
   "version": "3.9.7"
  }
 },
 "nbformat": 4,
 "nbformat_minor": 5
}
