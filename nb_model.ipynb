{
 "cells": [
  {
   "cell_type": "code",
   "execution_count": 1,
   "metadata": {},
   "outputs": [
    {
     "name": "stderr",
     "output_type": "stream",
     "text": [
      "c:\\Python39\\lib\\site-packages\\requests\\__init__.py:102: RequestsDependencyWarning: urllib3 (1.26.7) or chardet (5.0.0)/charset_normalizer (2.0.6) doesn't match a supported version!\n",
      "  warnings.warn(\"urllib3 ({}) or chardet ({})/charset_normalizer ({}) doesn't match a supported \"\n"
     ]
    }
   ],
   "source": [
    "import pandas as pd\n",
    "import numpy as np\n",
    "import yfinance as yf\n",
    "from sklearn.naive_bayes import MultinomialNB\n",
    "from sklearn.preprocessing import MinMaxScaler\n",
    "from imblearn.over_sampling import RandomOverSampler\n",
    "from scipy.stats import loguniform, uniform, randint\n",
    "from sklearn.model_selection import RandomizedSearchCV\n",
    "from sklearn.metrics import accuracy_score, precision_score, recall_score, f1_score, confusion_matrix\n",
    "import warnings\n",
    "warnings.filterwarnings('ignore')"
   ]
  },
  {
   "cell_type": "markdown",
   "metadata": {},
   "source": [
    "Import data"
   ]
  },
  {
   "cell_type": "code",
   "execution_count": 2,
   "metadata": {},
   "outputs": [],
   "source": [
    "X_train = pd.read_excel(\"data/model_inputs/X_train.xlsx\").rename(columns={'Unnamed: 0':'date'}).set_index('date')\n",
    "X_test = pd.read_excel(\"data/model_inputs/X_test.xlsx\").rename(columns={'Unnamed: 0':'date'}).set_index('date')\n",
    "y_train = pd.read_excel(\"data/model_inputs/y_train.xlsx\").rename(columns={'Unnamed: 0':'date'}).set_index('date')\n",
    "y_test = pd.read_excel(\"data/model_inputs/y_test.xlsx\").rename(columns={'Unnamed: 0':'date'}).set_index('date')"
   ]
  },
  {
   "cell_type": "markdown",
   "metadata": {},
   "source": [
    "Tuning"
   ]
  },
  {
   "cell_type": "code",
   "execution_count": 4,
   "metadata": {},
   "outputs": [],
   "source": [
    "def random_oversampler(X_train, y_train):\n",
    "    oversample = RandomOverSampler(sampling_strategy='not majority')\n",
    "    X_over, y_over = oversample.fit_resample(X_train, y_train)\n",
    "    return X_over, y_over\n",
    "    \n",
    "nb_distribution = {'alpha':loguniform(0.001, 100)}"
   ]
  },
  {
   "cell_type": "code",
   "execution_count": 5,
   "metadata": {},
   "outputs": [],
   "source": [
    "param, accuracy, precision, recall, f1 = [], [], [], [], []\n",
    "\n",
    "# best oversampling: random_oversampling\n",
    "X_train_oversampled, y_train_oversampled = random_oversampler(X_train, y_train)\n",
    "\n",
    "# scaling for Naive Bayes\n",
    "scaler = MinMaxScaler()\n",
    "X_train_oversampled = scaler.fit_transform(X_train_oversampled)\n",
    "X_test = pd.DataFrame(data=scaler.transform(X_test), columns=X_test.columns, index=X_test.index)\n",
    "\n",
    "# tuning\n",
    "nb = MultinomialNB()\n",
    "nb_clf = RandomizedSearchCV(nb, nb_distribution, n_iter=200, scoring=['accuracy', 'recall_weighted', 'precision_weighted', 'f1_weighted'], refit='f1_weighted', random_state=42)\n",
    "nb_search = nb_clf.fit(X_train_oversampled, y_train_oversampled)\n",
    "\n",
    "# update columns\n",
    "param.append(nb_search.cv_results_['params'])\n",
    "accuracy.append(nb_search.cv_results_['mean_test_accuracy'])\n",
    "precision.append(nb_search.cv_results_['mean_test_precision_weighted'])\n",
    "recall.append(nb_search.cv_results_['mean_test_recall_weighted'])\n",
    "f1.append(nb_search.cv_results_['mean_test_f1_weighted'])\n",
    "\n",
    "# update columns\n",
    "param.append(nb_search.cv_results_['params'])\n",
    "accuracy.append(nb_search.cv_results_['mean_test_accuracy'])\n",
    "precision.append(nb_search.cv_results_['mean_test_precision_weighted'])\n",
    "recall.append(nb_search.cv_results_['mean_test_recall_weighted'])\n",
    "f1.append(nb_search.cv_results_['mean_test_f1_weighted'])"
   ]
  },
  {
   "cell_type": "code",
   "execution_count": 6,
   "metadata": {},
   "outputs": [
    {
     "data": {
      "text/html": [
       "<div>\n",
       "<style scoped>\n",
       "    .dataframe tbody tr th:only-of-type {\n",
       "        vertical-align: middle;\n",
       "    }\n",
       "\n",
       "    .dataframe tbody tr th {\n",
       "        vertical-align: top;\n",
       "    }\n",
       "\n",
       "    .dataframe thead th {\n",
       "        text-align: right;\n",
       "    }\n",
       "</style>\n",
       "<table border=\"1\" class=\"dataframe\">\n",
       "  <thead>\n",
       "    <tr style=\"text-align: right;\">\n",
       "      <th></th>\n",
       "      <th>model</th>\n",
       "      <th>parameters</th>\n",
       "      <th>accuracy</th>\n",
       "      <th>precision</th>\n",
       "      <th>recall</th>\n",
       "      <th>f1</th>\n",
       "    </tr>\n",
       "  </thead>\n",
       "  <tbody>\n",
       "    <tr>\n",
       "      <th>0</th>\n",
       "      <td>Naive Bayes</td>\n",
       "      <td>{'alpha': 30.588015371390597}</td>\n",
       "      <td>0.709812</td>\n",
       "      <td>0.771191</td>\n",
       "      <td>0.709812</td>\n",
       "      <td>0.706574</td>\n",
       "    </tr>\n",
       "    <tr>\n",
       "      <th>1</th>\n",
       "      <td>Naive Bayes</td>\n",
       "      <td>{'alpha': 30.625189859246774}</td>\n",
       "      <td>0.709812</td>\n",
       "      <td>0.771191</td>\n",
       "      <td>0.709812</td>\n",
       "      <td>0.706574</td>\n",
       "    </tr>\n",
       "    <tr>\n",
       "      <th>2</th>\n",
       "      <td>Naive Bayes</td>\n",
       "      <td>{'alpha': 30.588015371390597}</td>\n",
       "      <td>0.709812</td>\n",
       "      <td>0.771191</td>\n",
       "      <td>0.709812</td>\n",
       "      <td>0.706574</td>\n",
       "    </tr>\n",
       "    <tr>\n",
       "      <th>3</th>\n",
       "      <td>Naive Bayes</td>\n",
       "      <td>{'alpha': 30.625189859246774}</td>\n",
       "      <td>0.709812</td>\n",
       "      <td>0.771191</td>\n",
       "      <td>0.709812</td>\n",
       "      <td>0.706574</td>\n",
       "    </tr>\n",
       "    <tr>\n",
       "      <th>4</th>\n",
       "      <td>Naive Bayes</td>\n",
       "      <td>{'alpha': 30.23127748796298}</td>\n",
       "      <td>0.709571</td>\n",
       "      <td>0.770940</td>\n",
       "      <td>0.709571</td>\n",
       "      <td>0.706342</td>\n",
       "    </tr>\n",
       "    <tr>\n",
       "      <th>5</th>\n",
       "      <td>Naive Bayes</td>\n",
       "      <td>{'alpha': 30.23127748796298}</td>\n",
       "      <td>0.709571</td>\n",
       "      <td>0.770940</td>\n",
       "      <td>0.709571</td>\n",
       "      <td>0.706342</td>\n",
       "    </tr>\n",
       "    <tr>\n",
       "      <th>6</th>\n",
       "      <td>Naive Bayes</td>\n",
       "      <td>{'alpha': 29.794544625913627}</td>\n",
       "      <td>0.709330</td>\n",
       "      <td>0.770691</td>\n",
       "      <td>0.709330</td>\n",
       "      <td>0.706110</td>\n",
       "    </tr>\n",
       "    <tr>\n",
       "      <th>7</th>\n",
       "      <td>Naive Bayes</td>\n",
       "      <td>{'alpha': 29.794544625913627}</td>\n",
       "      <td>0.709330</td>\n",
       "      <td>0.770691</td>\n",
       "      <td>0.709330</td>\n",
       "      <td>0.706110</td>\n",
       "    </tr>\n",
       "    <tr>\n",
       "      <th>8</th>\n",
       "      <td>Naive Bayes</td>\n",
       "      <td>{'alpha': 29.026521418263922}</td>\n",
       "      <td>0.709330</td>\n",
       "      <td>0.770691</td>\n",
       "      <td>0.709330</td>\n",
       "      <td>0.706110</td>\n",
       "    </tr>\n",
       "    <tr>\n",
       "      <th>9</th>\n",
       "      <td>Naive Bayes</td>\n",
       "      <td>{'alpha': 29.026521418263922}</td>\n",
       "      <td>0.709330</td>\n",
       "      <td>0.770691</td>\n",
       "      <td>0.709330</td>\n",
       "      <td>0.706110</td>\n",
       "    </tr>\n",
       "  </tbody>\n",
       "</table>\n",
       "</div>"
      ],
      "text/plain": [
       "         model                     parameters  accuracy  precision    recall  \\\n",
       "0  Naive Bayes  {'alpha': 30.588015371390597}  0.709812   0.771191  0.709812   \n",
       "1  Naive Bayes  {'alpha': 30.625189859246774}  0.709812   0.771191  0.709812   \n",
       "2  Naive Bayes  {'alpha': 30.588015371390597}  0.709812   0.771191  0.709812   \n",
       "3  Naive Bayes  {'alpha': 30.625189859246774}  0.709812   0.771191  0.709812   \n",
       "4  Naive Bayes   {'alpha': 30.23127748796298}  0.709571   0.770940  0.709571   \n",
       "5  Naive Bayes   {'alpha': 30.23127748796298}  0.709571   0.770940  0.709571   \n",
       "6  Naive Bayes  {'alpha': 29.794544625913627}  0.709330   0.770691  0.709330   \n",
       "7  Naive Bayes  {'alpha': 29.794544625913627}  0.709330   0.770691  0.709330   \n",
       "8  Naive Bayes  {'alpha': 29.026521418263922}  0.709330   0.770691  0.709330   \n",
       "9  Naive Bayes  {'alpha': 29.026521418263922}  0.709330   0.770691  0.709330   \n",
       "\n",
       "         f1  \n",
       "0  0.706574  \n",
       "1  0.706574  \n",
       "2  0.706574  \n",
       "3  0.706574  \n",
       "4  0.706342  \n",
       "5  0.706342  \n",
       "6  0.706110  \n",
       "7  0.706110  \n",
       "8  0.706110  \n",
       "9  0.706110  "
      ]
     },
     "execution_count": 6,
     "metadata": {},
     "output_type": "execute_result"
    }
   ],
   "source": [
    "results = pd.DataFrame({\n",
    "    'model': \"Naive Bayes\",\n",
    "    'parameters': np.array(param).flatten(),\n",
    "    'accuracy': np.array(accuracy).flatten(),\n",
    "    'precision': np.array(precision).flatten(),\n",
    "    'recall': np.array(recall).flatten(),\n",
    "    'f1': np.array(f1).flatten(),\n",
    "}).sort_values(by=\"f1\", ascending=False).reset_index(drop=True)\n",
    "results.head(10)"
   ]
  },
  {
   "cell_type": "markdown",
   "metadata": {},
   "source": [
    "Best Model"
   ]
  },
  {
   "cell_type": "code",
   "execution_count": 7,
   "metadata": {},
   "outputs": [
    {
     "data": {
      "text/plain": [
       "MultinomialNB(alpha=30.588015371390597)"
      ]
     },
     "execution_count": 7,
     "metadata": {},
     "output_type": "execute_result"
    }
   ],
   "source": [
    "best_params = results.iloc[0]['parameters']\n",
    "best_model = MultinomialNB(**best_params)\n",
    "best_model.fit(X_train_oversampled, y_train_oversampled)\n",
    "best_model"
   ]
  },
  {
   "cell_type": "code",
   "execution_count": 8,
   "metadata": {},
   "outputs": [],
   "source": [
    "def print_results(actual, predictions):\n",
    "    print(f\"accuracy: {accuracy_score(actual, predictions)}\")\n",
    "    print(f\"precision: {precision_score(actual, predictions, average='weighted')}\")\n",
    "    print(f\"recall: {recall_score(actual, predictions, average='weighted')}\")\n",
    "    print(f\"f1: {f1_score(actual, predictions, average='weighted')}\")\n",
    "    print(f\"confusion matrix:\\n{confusion_matrix(actual, predictions)}\")"
   ]
  },
  {
   "cell_type": "markdown",
   "metadata": {},
   "source": [
    "Predict on test set"
   ]
  },
  {
   "cell_type": "code",
   "execution_count": 9,
   "metadata": {},
   "outputs": [
    {
     "name": "stdout",
     "output_type": "stream",
     "text": [
      "accuracy: 0.7738095238095238\n",
      "precision: 0.7296030556150497\n",
      "recall: 0.7738095238095238\n",
      "f1: 0.751043873384299\n",
      "confusion matrix:\n",
      "[[  8  13   0]\n",
      " [ 15 122   0]\n",
      " [  0  10   0]]\n"
     ]
    }
   ],
   "source": [
    "test_pred = best_model.predict(X_test)\n",
    "print_results(y_test, test_pred)"
   ]
  },
  {
   "cell_type": "markdown",
   "metadata": {},
   "source": [
    "Predict on full data"
   ]
  },
  {
   "cell_type": "code",
   "execution_count": 10,
   "metadata": {},
   "outputs": [
    {
     "name": "stdout",
     "output_type": "stream",
     "text": [
      "accuracy: 0.5444993819530284\n",
      "precision: 0.9089252404204361\n",
      "recall: 0.5444993819530284\n",
      "f1: 0.6579933972735262\n",
      "confusion matrix:\n",
      "[[ 43  17   0]\n",
      " [461 820 239]\n",
      " [  5  15  18]]\n"
     ]
    }
   ],
   "source": [
    "X_full = np.vstack([X_train, X_test])\n",
    "y_full = pd.concat([y_train, y_test])\n",
    "\n",
    "full_pred = best_model.predict(X_full)\n",
    "print_results(y_full, full_pred)"
   ]
  },
  {
   "cell_type": "markdown",
   "metadata": {},
   "source": [
    "Business Metric"
   ]
  },
  {
   "cell_type": "code",
   "execution_count": 11,
   "metadata": {},
   "outputs": [
    {
     "data": {
      "text/plain": [
       "(1618, 11)"
      ]
     },
     "execution_count": 11,
     "metadata": {},
     "output_type": "execute_result"
    }
   ],
   "source": [
    "whole_df_x = pd.concat([X_train, X_test])\n",
    "whole_df_x.shape"
   ]
  },
  {
   "cell_type": "code",
   "execution_count": 12,
   "metadata": {},
   "outputs": [],
   "source": [
    "whole_df_x['year'] = whole_df_x.index.year"
   ]
  },
  {
   "cell_type": "code",
   "execution_count": 13,
   "metadata": {},
   "outputs": [
    {
     "name": "stdout",
     "output_type": "stream",
     "text": [
      "[*********************100%***********************]  1 of 1 completed\n",
      "[*********************100%***********************]  1 of 1 completed\n",
      "[*********************100%***********************]  1 of 1 completed\n",
      "[*********************100%***********************]  1 of 1 completed\n",
      "[*********************100%***********************]  1 of 1 completed\n",
      "[*********************100%***********************]  1 of 1 completed\n",
      "[*********************100%***********************]  1 of 1 completed\n"
     ]
    },
    {
     "data": {
      "text/html": [
       "<div>\n",
       "<style scoped>\n",
       "    .dataframe tbody tr th:only-of-type {\n",
       "        vertical-align: middle;\n",
       "    }\n",
       "\n",
       "    .dataframe tbody tr th {\n",
       "        vertical-align: top;\n",
       "    }\n",
       "\n",
       "    .dataframe thead th {\n",
       "        text-align: right;\n",
       "    }\n",
       "</style>\n",
       "<table border=\"1\" class=\"dataframe\">\n",
       "  <thead>\n",
       "    <tr style=\"text-align: right;\">\n",
       "      <th></th>\n",
       "      <th>exp_strategy_annual_return</th>\n",
       "      <th>exp_benchmark_annual_return</th>\n",
       "    </tr>\n",
       "  </thead>\n",
       "  <tbody>\n",
       "    <tr>\n",
       "      <th>2016</th>\n",
       "      <td>-0.128447</td>\n",
       "      <td>0.107616</td>\n",
       "    </tr>\n",
       "    <tr>\n",
       "      <th>2017</th>\n",
       "      <td>-0.065058</td>\n",
       "      <td>0.185753</td>\n",
       "    </tr>\n",
       "    <tr>\n",
       "      <th>2018</th>\n",
       "      <td>-0.026594</td>\n",
       "      <td>-0.070634</td>\n",
       "    </tr>\n",
       "    <tr>\n",
       "      <th>2019</th>\n",
       "      <td>-0.016214</td>\n",
       "      <td>0.288443</td>\n",
       "    </tr>\n",
       "    <tr>\n",
       "      <th>2020</th>\n",
       "      <td>0.206166</td>\n",
       "      <td>0.152929</td>\n",
       "    </tr>\n",
       "    <tr>\n",
       "      <th>2021</th>\n",
       "      <td>-0.151330</td>\n",
       "      <td>0.289230</td>\n",
       "    </tr>\n",
       "    <tr>\n",
       "      <th>2022</th>\n",
       "      <td>0.279334</td>\n",
       "      <td>-0.249185</td>\n",
       "    </tr>\n",
       "  </tbody>\n",
       "</table>\n",
       "</div>"
      ],
      "text/plain": [
       "      exp_strategy_annual_return  exp_benchmark_annual_return\n",
       "2016                   -0.128447                     0.107616\n",
       "2017                   -0.065058                     0.185753\n",
       "2018                   -0.026594                    -0.070634\n",
       "2019                   -0.016214                     0.288443\n",
       "2020                    0.206166                     0.152929\n",
       "2021                   -0.151330                     0.289230\n",
       "2022                    0.279334                    -0.249185"
      ]
     },
     "execution_count": 13,
     "metadata": {},
     "output_type": "execute_result"
    }
   ],
   "source": [
    "business_metric_results = pd.DataFrame(columns=['exp_strategy_annual_return', 'exp_benchmark_annual_return'])\n",
    "\n",
    "for year in [2016, 2017, 2018, 2019, 2020, 2021, 2022]:\n",
    "    year_data = whole_df_x[whole_df_x['year'] == year]\n",
    "    year_data = year_data.drop(['year'], axis = 1)\n",
    "    predict_x = best_model.predict(np.array(year_data))\n",
    "    predictions = predict_x\n",
    "    df_pred = pd.DataFrame({'prediction':predictions}, index=year_data.index)\n",
    "    dates = df_pred.index\n",
    "\n",
    "    if year == 2022:\n",
    "        end_date = \"2022-09-02\"\n",
    "    else:\n",
    "        end_date = str(year+1) + \"-01-01\"\n",
    "    df_prices = yf.download(\"^GSPC\", start=dates[0], end=end_date)[['Adj Close']]\n",
    "    df_prices = df_prices.reindex(df_pred.index)\n",
    "\n",
    "    # create positions column\n",
    "    positions = []\n",
    "    prev = 0\n",
    "    for i in range(len(df_pred)):\n",
    "        if df_pred.iloc[i]['prediction'] == 0:\n",
    "            positions.append(prev)\n",
    "        else:\n",
    "            prev = df_pred.iloc[i]['prediction']\n",
    "            positions.append(prev)\n",
    "\n",
    "    df_business = pd.DataFrame()\n",
    "    df_business['stock_daily_log_return'] = np.log(df_prices /df_prices.shift(1))['Adj Close']\n",
    "    df_business['prediction'] = df_pred['prediction']\n",
    "    df_business['position'] = positions\n",
    "    df_business['benchmark'] = 1 # long and hold strategy\n",
    "    df_business[\"strategy_Returns\"] = df_business[\"stock_daily_log_return\"] * df_business[\"position\"].shift(1)\n",
    "    df_business[\"benchmark_Returns\"] = df_business[\"stock_daily_log_return\"] * df_business[\"benchmark\"].shift(1)\n",
    "\n",
    "    # Annual Mean Returns or Expected returns\n",
    "    expected_strategy_annual_return = np.exp(df_business['strategy_Returns'].mean() * 252) - 1 \n",
    "    expected_benchmark_annual_return = np.exp(df_business['benchmark_Returns'].mean() * 252) - 1 \n",
    "    business_metric_results.loc[year] = [expected_strategy_annual_return, expected_benchmark_annual_return]\n",
    "\n",
    "business_metric_results"
   ]
  },
  {
   "cell_type": "markdown",
   "metadata": {},
   "source": [
    "Best and Worst Predictors"
   ]
  },
  {
   "cell_type": "code",
   "execution_count": 68,
   "metadata": {},
   "outputs": [
    {
     "name": "stdout",
     "output_type": "stream",
     "text": [
      "== BUY ==\n",
      "Best predictor: reddit_neu_both\n",
      "Worst predictor: nyt_neg\n",
      "\n",
      "\n",
      "== HOLD ==\n",
      "Best predictor: monthly_st_ir_growth\n",
      "Worst predictor: monthly_unemployment_growth\n",
      "\n",
      "\n",
      "== SELL ==\n",
      "Best predictor: reddit_neg_both\n",
      "Worst predictor: monthly_cpi_growth\n",
      "\n",
      "\n"
     ]
    }
   ],
   "source": [
    "target_dict = {-1:'SELL', 0:'HOLD', 1:'BUY'}\n",
    "columns = {'feature': X_train.columns}\n",
    "for i in range(3):\n",
    "    columns[target_dict[best_model.classes_[i]]] = best_model.coef_[i]\n",
    "df_predictors = pd.DataFrame(columns)\n",
    "\n",
    "for target in ['BUY', 'HOLD', 'SELL']:\n",
    "    print(f'== {target} ==')\n",
    "    print(f'Best predictor:', df_predictors.loc[df_predictors[target].idxmax(), 'feature'])\n",
    "    print('Worst predictor:', df_predictors.loc[df_predictors[target].idxmin(), 'feature'])\n",
    "    print(\"\\n\")"
   ]
  }
 ],
 "metadata": {
  "kernelspec": {
   "display_name": "Python 3.9.7 64-bit",
   "language": "python",
   "name": "python3"
  },
  "language_info": {
   "codemirror_mode": {
    "name": "ipython",
    "version": 3
   },
   "file_extension": ".py",
   "mimetype": "text/x-python",
   "name": "python",
   "nbconvert_exporter": "python",
   "pygments_lexer": "ipython3",
   "version": "3.9.7"
  },
  "orig_nbformat": 4,
  "vscode": {
   "interpreter": {
    "hash": "81794d4967e6c3204c66dcd87b604927b115b27c00565d3d43f05ba2f3a2cb0d"
   }
  }
 },
 "nbformat": 4,
 "nbformat_minor": 2
}
