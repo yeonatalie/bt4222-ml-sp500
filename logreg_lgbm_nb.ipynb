{
 "cells": [
  {
   "cell_type": "code",
   "execution_count": 1,
   "metadata": {},
   "outputs": [],
   "source": [
    "import warnings\n",
    "warnings.filterwarnings('ignore')\n",
    "\n",
    "import pandas as pd\n",
    "import yfinance as yf\n",
    "from sklearn.linear_model import LogisticRegression\n",
    "from sklearn.naive_bayes import MultinomialNB\n",
    "from lightgbm import LGBMClassifier\n",
    "from sklearn.preprocessing import MinMaxScaler\n",
    "from sklearn.utils import resample\n",
    "from imblearn.over_sampling import SMOTE\n",
    "\n",
    "from sklearn.metrics import accuracy_score, precision_score, recall_score, f1_score, confusion_matrix"
   ]
  },
  {
   "cell_type": "code",
   "execution_count": 2,
   "metadata": {},
   "outputs": [],
   "source": [
    "X_train = pd.read_excel(\"data/model_inputs/x_train.xlsx\").rename(columns={'Unnamed: 0':'date'}).set_index('date')\n",
    "X_test = pd.read_excel(\"data/model_inputs/x_test.xlsx\").rename(columns={'Unnamed: 0':'date'}).set_index('date')\n",
    "y_train = pd.read_excel(\"data/model_inputs/y_train.xlsx\").rename(columns={'Unnamed: 0':'date'}).set_index('date')\n",
    "y_test = pd.read_excel(\"data/model_inputs/y_test.xlsx\").rename(columns={'Unnamed: 0':'date'}).set_index('date')"
   ]
  },
  {
   "cell_type": "markdown",
   "metadata": {},
   "source": [
    "Without resampling"
   ]
  },
  {
   "cell_type": "code",
   "execution_count": 3,
   "metadata": {},
   "outputs": [
    {
     "data": {
      "text/plain": [
       "decision\n",
       " 0          1436\n",
       " 1            45\n",
       "-1            30\n",
       "dtype: int64"
      ]
     },
     "execution_count": 3,
     "metadata": {},
     "output_type": "execute_result"
    }
   ],
   "source": [
    "y_train.value_counts()"
   ]
  },
  {
   "cell_type": "code",
   "execution_count": 4,
   "metadata": {},
   "outputs": [
    {
     "name": "stdout",
     "output_type": "stream",
     "text": [
      "======== Logistic Regression ========\n",
      "accuracy: 0.8154761904761905\n",
      "precision: 0.6650014172335601\n",
      "recall: 0.8154761904761905\n",
      "roc_auc: 0.7325917252146761\n",
      "confusion matrix:\n",
      "[[  0  10   0]\n",
      " [  0 137   0]\n",
      " [  0  21   0]]\n"
     ]
    }
   ],
   "source": [
    "logreg_model = LogisticRegression()\n",
    "logreg_model.fit(X_train, y_train.values.ravel())\n",
    "y_pred_logreg = logreg_model.predict(X_test)\n",
    "\n",
    "print(\"======== Logistic Regression ========\")\n",
    "print(f\"accuracy: {accuracy_score(y_test, y_pred_logreg)}\")\n",
    "print(f\"precision: {precision_score(y_test, y_pred_logreg, average='weighted')}\")\n",
    "print(f\"recall: {recall_score(y_test, y_pred_logreg, average='weighted')}\")\n",
    "print(f\"roc_auc: {f1_score(y_test, y_pred_logreg, average='weighted')}\")\n",
    "print(f\"confusion matrix:\\n{confusion_matrix(y_test, y_pred_logreg)}\")"
   ]
  },
  {
   "cell_type": "code",
   "execution_count": 5,
   "metadata": {},
   "outputs": [
    {
     "name": "stdout",
     "output_type": "stream",
     "text": [
      "======== LGBM ========\n",
      "accuracy: 0.8154761904761905\n",
      "precision: 0.6650014172335601\n",
      "recall: 0.8154761904761905\n",
      "roc_auc: 0.7325917252146761\n",
      "confusion matrix:\n",
      "[[  0  10   0]\n",
      " [  0 137   0]\n",
      " [  0  21   0]]\n"
     ]
    }
   ],
   "source": [
    "lgb_model = LGBMClassifier()\n",
    "lgb_model.fit(X_train, y_train.values.ravel())\n",
    "y_pred_lgb = lgb_model.predict(X_test)\n",
    "\n",
    "print(\"======== LGBM ========\")\n",
    "print(f\"accuracy: {accuracy_score(y_test, y_pred_lgb)}\")\n",
    "print(f\"precision: {precision_score(y_test, y_pred_lgb, average='weighted')}\")\n",
    "print(f\"recall: {recall_score(y_test, y_pred_lgb, average='weighted')}\")\n",
    "print(f\"roc_auc: {f1_score(y_test, y_pred_lgb, average='weighted')}\")\n",
    "print(f\"confusion matrix:\\n{confusion_matrix(y_test, y_pred_lgb)}\")"
   ]
  },
  {
   "cell_type": "code",
   "execution_count": 6,
   "metadata": {},
   "outputs": [
    {
     "name": "stdout",
     "output_type": "stream",
     "text": [
      "======== Naive Bayes ========\n",
      "accuracy: 0.8154761904761905\n",
      "precision: 0.6650014172335601\n",
      "recall: 0.8154761904761905\n",
      "roc_auc: 0.7325917252146761\n",
      "confusion matrix:\n",
      "[[  0  10   0]\n",
      " [  0 137   0]\n",
      " [  0  21   0]]\n"
     ]
    }
   ],
   "source": [
    "scaler = MinMaxScaler()\n",
    "X_train_scaled = scaler.fit_transform(X_train)\n",
    "X_test_scaled = scaler.transform(X_test)\n",
    "\n",
    "nb_model = MultinomialNB()\n",
    "nb_model.fit(X_train_scaled, y_train.values.ravel())\n",
    "y_pred_nb = nb_model.predict(X_test_scaled)\n",
    "\n",
    "print(\"======== Naive Bayes ========\")\n",
    "print(f\"accuracy: {accuracy_score(y_test, y_pred_nb)}\")\n",
    "print(f\"precision: {precision_score(y_test, y_pred_nb, average='weighted')}\")\n",
    "print(f\"recall: {recall_score(y_test, y_pred_nb, average='weighted')}\")\n",
    "print(f\"roc_auc: {f1_score(y_test, y_pred_nb, average='weighted')}\")\n",
    "print(f\"confusion matrix:\\n{confusion_matrix(y_test, y_pred_nb)}\")"
   ]
  },
  {
   "cell_type": "markdown",
   "metadata": {},
   "source": [
    "With sklearn resampling"
   ]
  },
  {
   "cell_type": "code",
   "execution_count": 7,
   "metadata": {},
   "outputs": [
    {
     "data": {
      "text/plain": [
       " 0    1436\n",
       " 1    1436\n",
       "-1    1436\n",
       "Name: decision, dtype: int64"
      ]
     },
     "execution_count": 7,
     "metadata": {},
     "output_type": "execute_result"
    }
   ],
   "source": [
    "df_train = pd.concat([X_train, y_train], axis=1)\n",
    "df_train_hold = df_train[(df_train['decision']==0)] \n",
    "df_train_buy = df_train[(df_train['decision']==-1)] \n",
    "df_train_sell = df_train[(df_train['decision']==1)] \n",
    "\n",
    "# upsample buy and sell class\n",
    "df_train_buy_upsampled = resample(df_train_buy, \n",
    "                                 replace=True,    # sample with replacement\n",
    "                                 n_samples= len(df_train_hold)) # to match majority class\n",
    "\n",
    "df_train_sell_upsampled = resample(df_train_sell, \n",
    "                                 replace=True,    # sample with replacement\n",
    "                                 n_samples= len(df_train_hold)) # to match majority class\n",
    "\n",
    "# Combine majority class with upsampled minority classes\n",
    "df_train_upsampled = pd.concat([df_train_buy_upsampled, df_train_sell_upsampled, df_train_hold])\n",
    "X_train_upsampled, y_train_upsampled = df_train_upsampled.drop(columns=['decision']), df_train_upsampled['decision']\n",
    "y_train_upsampled.value_counts()"
   ]
  },
  {
   "cell_type": "code",
   "execution_count": 8,
   "metadata": {},
   "outputs": [
    {
     "name": "stdout",
     "output_type": "stream",
     "text": [
      "======== Logistic Regression ========\n",
      "accuracy: 0.10714285714285714\n",
      "precision: 0.5474664224664224\n",
      "recall: 0.10714285714285714\n",
      "roc_auc: 0.0947394563873904\n",
      "confusion matrix:\n",
      "[[ 10   0   0]\n",
      " [129   8   0]\n",
      " [ 17   4   0]]\n"
     ]
    }
   ],
   "source": [
    "logreg_model = LogisticRegression()\n",
    "logreg_model.fit(X_train_upsampled, y_train_upsampled.values.ravel())\n",
    "y_pred_logreg_resampling = logreg_model.predict(X_test)\n",
    "\n",
    "print(\"======== Logistic Regression ========\")\n",
    "print(f\"accuracy: {accuracy_score(y_test, y_pred_logreg_resampling)}\")\n",
    "print(f\"precision: {precision_score(y_test, y_pred_logreg_resampling, average='weighted')}\")\n",
    "print(f\"recall: {recall_score(y_test, y_pred_logreg_resampling, average='weighted')}\")\n",
    "print(f\"roc_auc: {f1_score(y_test, y_pred_logreg_resampling, average='weighted')}\")\n",
    "print(f\"confusion matrix:\\n{confusion_matrix(y_test, y_pred_logreg_resampling)}\")"
   ]
  },
  {
   "cell_type": "code",
   "execution_count": 9,
   "metadata": {},
   "outputs": [
    {
     "name": "stdout",
     "output_type": "stream",
     "text": [
      "======== LGBM ========\n",
      "accuracy: 0.8154761904761905\n",
      "precision: 0.6650014172335601\n",
      "recall: 0.8154761904761905\n",
      "roc_auc: 0.7325917252146761\n",
      "confusion matrix:\n",
      "[[  0  10   0]\n",
      " [  0 137   0]\n",
      " [  0  21   0]]\n"
     ]
    }
   ],
   "source": [
    "lgb_model = LGBMClassifier()\n",
    "lgb_model.fit(X_train_upsampled, y_train_upsampled.values.ravel())\n",
    "y_pred_lgb_resampling = lgb_model.predict(X_test)\n",
    "\n",
    "print(\"======== LGBM ========\")\n",
    "print(f\"accuracy: {accuracy_score(y_test, y_pred_lgb_resampling)}\")\n",
    "print(f\"precision: {precision_score(y_test, y_pred_lgb_resampling, average='weighted')}\")\n",
    "print(f\"recall: {recall_score(y_test, y_pred_lgb_resampling, average='weighted')}\")\n",
    "print(f\"roc_auc: {f1_score(y_test, y_pred_lgb_resampling, average='weighted')}\")\n",
    "print(f\"confusion matrix:\\n{confusion_matrix(y_test, y_pred_lgb_resampling)}\")"
   ]
  },
  {
   "cell_type": "code",
   "execution_count": 10,
   "metadata": {},
   "outputs": [
    {
     "name": "stdout",
     "output_type": "stream",
     "text": [
      "======== Naive Bayes ========\n",
      "accuracy: 0.7440476190476191\n",
      "precision: 0.6917068854568855\n",
      "recall: 0.7440476190476191\n",
      "roc_auc: 0.7168296758155551\n",
      "confusion matrix:\n",
      "[[  0  10   0]\n",
      " [  0 121  16]\n",
      " [  0  17   4]]\n"
     ]
    }
   ],
   "source": [
    "scaler = MinMaxScaler()\n",
    "X_train_scaled = scaler.fit_transform(X_train_upsampled)\n",
    "X_test_scaled = scaler.transform(X_test)\n",
    "\n",
    "nb_model = MultinomialNB()\n",
    "nb_model.fit(X_train_scaled, y_train_upsampled.values.ravel())\n",
    "y_pred_nb_resampling = nb_model.predict(X_test_scaled)\n",
    "\n",
    "print(\"======== Naive Bayes ========\")\n",
    "print(f\"accuracy: {accuracy_score(y_test, y_pred_nb_resampling)}\")\n",
    "print(f\"precision: {precision_score(y_test, y_pred_nb_resampling, average='weighted')}\")\n",
    "print(f\"recall: {recall_score(y_test, y_pred_nb_resampling, average='weighted')}\")\n",
    "print(f\"roc_auc: {f1_score(y_test, y_pred_nb_resampling, average='weighted')}\")\n",
    "print(f\"confusion matrix:\\n{confusion_matrix(y_test, y_pred_nb_resampling)}\")"
   ]
  },
  {
   "cell_type": "markdown",
   "metadata": {},
   "source": [
    "With SMOTE resampling"
   ]
  },
  {
   "cell_type": "code",
   "execution_count": 11,
   "metadata": {},
   "outputs": [
    {
     "data": {
      "text/plain": [
       "decision\n",
       "-1          1436\n",
       " 0          1436\n",
       " 1          1436\n",
       "dtype: int64"
      ]
     },
     "execution_count": 11,
     "metadata": {},
     "output_type": "execute_result"
    }
   ],
   "source": [
    "sm = SMOTE(sampling_strategy='not majority')\n",
    "X_train_oversampled, y_train_oversampled = sm.fit_resample(X_train, y_train)\n",
    "y_train_oversampled.value_counts()"
   ]
  },
  {
   "cell_type": "code",
   "execution_count": 12,
   "metadata": {},
   "outputs": [
    {
     "name": "stdout",
     "output_type": "stream",
     "text": [
      "======== Logistic Regression ========\n",
      "accuracy: 0.06547619047619048\n",
      "precision: 0.4113238668961561\n",
      "recall: 0.06547619047619048\n",
      "roc_auc: 0.018497539630633154\n",
      "confusion matrix:\n",
      "[[ 10   0   0]\n",
      " [136   1   0]\n",
      " [ 20   1   0]]\n"
     ]
    }
   ],
   "source": [
    "logreg_model = LogisticRegression()\n",
    "logreg_model.fit(X_train_oversampled, y_train_oversampled.values.ravel())\n",
    "y_pred_logreg_smote = logreg_model.predict(X_test)\n",
    "\n",
    "print(\"======== Logistic Regression ========\")\n",
    "print(f\"accuracy: {accuracy_score(y_test, y_pred_logreg_smote)}\")\n",
    "print(f\"precision: {precision_score(y_test, y_pred_logreg_smote, average='weighted')}\")\n",
    "print(f\"recall: {recall_score(y_test, y_pred_logreg_smote, average='weighted')}\")\n",
    "print(f\"roc_auc: {f1_score(y_test, y_pred_logreg_smote, average='weighted')}\")\n",
    "print(f\"confusion matrix:\\n{confusion_matrix(y_test, y_pred_logreg_smote)}\")"
   ]
  },
  {
   "cell_type": "code",
   "execution_count": 13,
   "metadata": {},
   "outputs": [
    {
     "name": "stdout",
     "output_type": "stream",
     "text": [
      "======== LGBM ========\n",
      "accuracy: 0.8154761904761905\n",
      "precision: 0.6650014172335601\n",
      "recall: 0.8154761904761905\n",
      "roc_auc: 0.7325917252146761\n",
      "confusion matrix:\n",
      "[[  0  10   0]\n",
      " [  0 137   0]\n",
      " [  0  21   0]]\n"
     ]
    }
   ],
   "source": [
    "lgb_model = LGBMClassifier()\n",
    "lgb_model.fit(X_train_oversampled, y_train_oversampled.values.ravel())\n",
    "y_pred_lgb_smote = lgb_model.predict(X_test)\n",
    "\n",
    "print(\"======== LGBM ========\")\n",
    "print(f\"accuracy: {accuracy_score(y_test, y_pred_lgb_smote)}\")\n",
    "print(f\"precision: {precision_score(y_test, y_pred_lgb_smote, average='weighted')}\")\n",
    "print(f\"recall: {recall_score(y_test, y_pred_lgb_smote, average='weighted')}\")\n",
    "print(f\"roc_auc: {f1_score(y_test, y_pred_lgb_smote, average='weighted')}\")\n",
    "print(f\"confusion matrix:\\n{confusion_matrix(y_test, y_pred_lgb_smote)}\")"
   ]
  },
  {
   "cell_type": "code",
   "execution_count": 14,
   "metadata": {},
   "outputs": [
    {
     "name": "stdout",
     "output_type": "stream",
     "text": [
      "======== Naive Bayes ========\n",
      "accuracy: 0.7380952380952381\n",
      "precision: 0.6895043731778426\n",
      "recall: 0.7380952380952381\n",
      "roc_auc: 0.7129443326626425\n",
      "confusion matrix:\n",
      "[[  0  10   0]\n",
      " [  0 120  17]\n",
      " [  0  17   4]]\n"
     ]
    }
   ],
   "source": [
    "scaler = MinMaxScaler()\n",
    "X_train_scaled = scaler.fit_transform(X_train_oversampled)\n",
    "X_test_scaled = scaler.transform(X_test)\n",
    "\n",
    "nb_model = MultinomialNB()\n",
    "nb_model.fit(X_train_scaled, y_train_oversampled.values.ravel())\n",
    "y_pred_nb_smote = nb_model.predict(X_test_scaled)\n",
    "\n",
    "print(\"======== Naive Bayes ========\")\n",
    "print(f\"accuracy: {accuracy_score(y_test, y_pred_nb_smote)}\")\n",
    "print(f\"precision: {precision_score(y_test, y_pred_nb_smote, average='weighted')}\")\n",
    "print(f\"recall: {recall_score(y_test, y_pred_nb_smote, average='weighted')}\")\n",
    "print(f\"roc_auc: {f1_score(y_test, y_pred_nb_smote, average='weighted')}\")\n",
    "print(f\"confusion matrix:\\n{confusion_matrix(y_test, y_pred_nb_smote)}\")"
   ]
  },
  {
   "cell_type": "code",
   "execution_count": 15,
   "metadata": {},
   "outputs": [
    {
     "data": {
      "text/html": [
       "<div>\n",
       "<style scoped>\n",
       "    .dataframe tbody tr th:only-of-type {\n",
       "        vertical-align: middle;\n",
       "    }\n",
       "\n",
       "    .dataframe tbody tr th {\n",
       "        vertical-align: top;\n",
       "    }\n",
       "\n",
       "    .dataframe thead th {\n",
       "        text-align: right;\n",
       "    }\n",
       "</style>\n",
       "<table border=\"1\" class=\"dataframe\">\n",
       "  <thead>\n",
       "    <tr style=\"text-align: right;\">\n",
       "      <th></th>\n",
       "      <th>model</th>\n",
       "      <th>accuracy</th>\n",
       "      <th>recall</th>\n",
       "      <th>precision</th>\n",
       "    </tr>\n",
       "  </thead>\n",
       "  <tbody>\n",
       "    <tr>\n",
       "      <th>0</th>\n",
       "      <td>logreg</td>\n",
       "      <td>0.815476</td>\n",
       "      <td>0.815476</td>\n",
       "      <td>0.665001</td>\n",
       "    </tr>\n",
       "    <tr>\n",
       "      <th>1</th>\n",
       "      <td>logreg_resampling</td>\n",
       "      <td>0.107143</td>\n",
       "      <td>0.107143</td>\n",
       "      <td>0.547466</td>\n",
       "    </tr>\n",
       "    <tr>\n",
       "      <th>2</th>\n",
       "      <td>logreg_smote</td>\n",
       "      <td>0.065476</td>\n",
       "      <td>0.065476</td>\n",
       "      <td>0.411324</td>\n",
       "    </tr>\n",
       "    <tr>\n",
       "      <th>3</th>\n",
       "      <td>lgbm</td>\n",
       "      <td>0.815476</td>\n",
       "      <td>0.815476</td>\n",
       "      <td>0.665001</td>\n",
       "    </tr>\n",
       "    <tr>\n",
       "      <th>4</th>\n",
       "      <td>lgbm_resampling</td>\n",
       "      <td>0.815476</td>\n",
       "      <td>0.815476</td>\n",
       "      <td>0.665001</td>\n",
       "    </tr>\n",
       "    <tr>\n",
       "      <th>5</th>\n",
       "      <td>lgbm_smote</td>\n",
       "      <td>0.815476</td>\n",
       "      <td>0.815476</td>\n",
       "      <td>0.665001</td>\n",
       "    </tr>\n",
       "    <tr>\n",
       "      <th>6</th>\n",
       "      <td>nb</td>\n",
       "      <td>0.815476</td>\n",
       "      <td>0.815476</td>\n",
       "      <td>0.665001</td>\n",
       "    </tr>\n",
       "    <tr>\n",
       "      <th>7</th>\n",
       "      <td>nb_resampling</td>\n",
       "      <td>0.744048</td>\n",
       "      <td>0.744048</td>\n",
       "      <td>0.691707</td>\n",
       "    </tr>\n",
       "    <tr>\n",
       "      <th>8</th>\n",
       "      <td>nbg_smote</td>\n",
       "      <td>0.738095</td>\n",
       "      <td>0.738095</td>\n",
       "      <td>0.689504</td>\n",
       "    </tr>\n",
       "  </tbody>\n",
       "</table>\n",
       "</div>"
      ],
      "text/plain": [
       "               model  accuracy    recall  precision\n",
       "0             logreg  0.815476  0.815476   0.665001\n",
       "1  logreg_resampling  0.107143  0.107143   0.547466\n",
       "2       logreg_smote  0.065476  0.065476   0.411324\n",
       "3               lgbm  0.815476  0.815476   0.665001\n",
       "4    lgbm_resampling  0.815476  0.815476   0.665001\n",
       "5         lgbm_smote  0.815476  0.815476   0.665001\n",
       "6                 nb  0.815476  0.815476   0.665001\n",
       "7      nb_resampling  0.744048  0.744048   0.691707\n",
       "8          nbg_smote  0.738095  0.738095   0.689504"
      ]
     },
     "execution_count": 15,
     "metadata": {},
     "output_type": "execute_result"
    }
   ],
   "source": [
    "pd.DataFrame({\n",
    "    'model': ['logreg', 'logreg_resampling', 'logreg_smote', 'lgbm', 'lgbm_resampling', 'lgbm_smote', 'nb', 'nb_resampling', 'nbg_smote'],\n",
    "    'accuracy': [accuracy_score(y_test, y_pred_logreg), accuracy_score(y_test, y_pred_logreg_resampling), accuracy_score(y_test, y_pred_logreg_smote),\n",
    "                accuracy_score(y_test, y_pred_lgb), accuracy_score(y_test, y_pred_lgb_resampling), accuracy_score(y_test, y_pred_lgb_smote),\n",
    "                accuracy_score(y_test, y_pred_nb), accuracy_score(y_test, y_pred_nb_resampling), accuracy_score(y_test, y_pred_nb_smote)],\n",
    "    'recall': [recall_score(y_test, y_pred_logreg, average='weighted'), recall_score(y_test, y_pred_logreg_resampling, average='weighted'), recall_score(y_test, y_pred_logreg_smote, average='weighted'),\n",
    "                recall_score(y_test, y_pred_lgb, average='weighted'), recall_score(y_test, y_pred_lgb_resampling, average='weighted'), recall_score(y_test, y_pred_lgb_smote, average='weighted'),\n",
    "                recall_score(y_test, y_pred_nb, average='weighted'), recall_score(y_test, y_pred_nb_resampling, average='weighted'), recall_score(y_test, y_pred_nb_smote, average='weighted')],\n",
    "    'precision': [precision_score(y_test, y_pred_logreg, average='weighted'), precision_score(y_test, y_pred_logreg_resampling, average='weighted'), precision_score(y_test, y_pred_logreg_smote, average='weighted'),\n",
    "                precision_score(y_test, y_pred_lgb, average='weighted'), precision_score(y_test, y_pred_lgb_resampling, average='weighted'), precision_score(y_test, y_pred_lgb_smote, average='weighted'),\n",
    "                precision_score(y_test, y_pred_nb, average='weighted'), precision_score(y_test, y_pred_nb_resampling, average='weighted'), precision_score(y_test, y_pred_nb_smote, average='weighted')],\n",
    "})"
   ]
  }
 ],
 "metadata": {
  "kernelspec": {
   "display_name": "Python 3.9.7 64-bit",
   "language": "python",
   "name": "python3"
  },
  "language_info": {
   "codemirror_mode": {
    "name": "ipython",
    "version": 3
   },
   "file_extension": ".py",
   "mimetype": "text/x-python",
   "name": "python",
   "nbconvert_exporter": "python",
   "pygments_lexer": "ipython3",
   "version": "3.9.7"
  },
  "orig_nbformat": 4,
  "vscode": {
   "interpreter": {
    "hash": "81794d4967e6c3204c66dcd87b604927b115b27c00565d3d43f05ba2f3a2cb0d"
   }
  }
 },
 "nbformat": 4,
 "nbformat_minor": 2
}
