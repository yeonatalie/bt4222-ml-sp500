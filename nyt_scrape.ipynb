{
 "cells": [
  {
   "cell_type": "code",
   "execution_count": 1,
   "metadata": {},
   "outputs": [],
   "source": [
    "from yanytapi import SearchAPI\n",
    "import pandas as pd\n",
    "from datetime import datetime\n",
    "import time"
   ]
  },
  {
   "cell_type": "code",
   "execution_count": 2,
   "metadata": {},
   "outputs": [],
   "source": [
    "keyword_dict = {\n",
    "    'S&P': ['S. P.', 'Wall Street', 'Fed', 'Federal Reserve'],\n",
    "    'AAPL': ['Apple'],\n",
    "    'MSFT': ['Microsoft'],\n",
    "    'AMZN': ['Amazon'],\n",
    "    'TSLA': ['Tesla'],\n",
    "    'GOOGL': ['Alphabet', 'Google', 'GOOG'],\n",
    "    'BRK.B': ['Berkshire Hathaway', 'BRK'],\n",
    "    'UNH': ['UnitedHealth'],\n",
    "    'JNJ': ['Johnson', 'JnJ'],\n",
    "    'XOM': ['ExxonMobil', 'Exxon'],\n",
    "    'JPM': ['JP Morgan', 'JPMorgan'],\n",
    "    'META': ['Meta', 'Facebook'],\n",
    "    'NVDA': ['NVIDIA'],\n",
    "    'PG': ['Procter'], \n",
    "    'V': ['Visa'],\n",
    "    'HD': ['Home Depot'],\n",
    "    'CVX': ['Chevron Corporation'],\n",
    "    'MA': ['Mastercard'],\n",
    "    'PFE': ['Pfizer'],\n",
    "    'ABBV': ['AbbVie'],\n",
    "    'BAC': ['Bank of America'],\n",
    "    'LLY': ['Eli Lilly and Company'],\n",
    "    'KO': ['Coca-Cola'],\n",
    "    'PEP': ['PepsiCo', 'Pepsi'],\n",
    "    'COST': ['Costco'],\n",
    "    'MRK': ['Merck'], \n",
    "    'TMO': ['Thermo Fisher', 'Thermo Fisher Scientific'],\n",
    "    'AVGO': ['Broadcom'],\n",
    "    'DIS': ['Walt Disney'],\n",
    "    'WMT': ['Walmart'],\n",
    "    'MCD': ['McDonald\\'s'],\n",
    "}"
   ]
  },
  {
   "cell_type": "code",
   "execution_count": 3,
   "metadata": {},
   "outputs": [],
   "source": [
    "api = SearchAPI(\"RXkqQPmyy2JObRlC0qFYQj2vNxtX4oxP\")"
   ]
  },
  {
   "cell_type": "code",
   "execution_count": 4,
   "metadata": {},
   "outputs": [
    {
     "name": "stdout",
     "output_type": "stream",
     "text": [
      "### MCD ###\n",
      "McDonald's: 1000\n"
     ]
    }
   ],
   "source": [
    "dates = []\n",
    "keywords = []\n",
    "headlines = []\n",
    "abstracts = []\n",
    "lead_paragraph = []\n",
    "sections = []\n",
    "hits = []\n",
    "word_counts = []\n",
    "\n",
    "for company, keyword_list in keyword_dict.items():\n",
    "    print(f'### {company} ###')\n",
    "    for keyword in keyword_list:\n",
    "        count = 0\n",
    "        articles = api.search(keyword, fq={\"body\": keyword, \"source\": [\"Reuters\",\"AP\",\"The New York Times\"]},\n",
    "                        begin_date=\"20160101\",\n",
    "                        end_date = \"20220901\",\n",
    "                        facet_field=[\"source\", \"day_of_week\"],\n",
    "                        facet_filter=True)\n",
    "        \n",
    "        for item in articles:\n",
    "            relevant = False\n",
    "            if (count % 100 == 0):\n",
    "                time.sleep(2)\n",
    "\n",
    "            # Filtering for S&P\n",
    "            if keyword == 'S. P.':\n",
    "                sp_keywords = [\"s&p\", \"s.&p.\", \"standard & poor\", \"stock\", \"index\", \"market\"]\n",
    "                for kw in sp_keywords:\n",
    "                    if kw in item.headline[\"main\"].lower() or kw in item.abstract.lower():\n",
    "                        relevant = True\n",
    "                        break\n",
    "            else:\n",
    "                relevant = True\n",
    "\n",
    "            if relevant:\n",
    "                count += 1\n",
    "                dates.append(datetime.strptime(item.pub_date[:10], '%Y-%m-%d'))\n",
    "                keywords.append(keyword)\n",
    "                headlines.append(item.headline[\"main\"])\n",
    "                abstracts.append(item.abstract)\n",
    "                lead_paragraph.append(item.lead_paragraph)\n",
    "                sections.append(item.section_name)\n",
    "                hits.append(item.meta.hits)\n",
    "                word_counts.append(item.word_count)\n",
    "        print(f'{keyword}: {count}')\n",
    "    \n",
    "    df = pd.DataFrame({'date': dates, 'keyword': keywords, 'headline': headlines, 'abstract': abstracts, 'lead_paragraph':lead_paragraph, 'section': sections, 'hits': hits, 'word_count': word_counts})\n",
    "    df.set_index('date', inplace=True)\n",
    "    df = df.sort_index()\n",
    "\n",
    "    df.to_excel('nyt_2016_2022_raw_data.xlsx')\n",
    "    time.sleep(5)"
   ]
  },
  {
   "cell_type": "code",
   "execution_count": null,
   "metadata": {},
   "outputs": [],
   "source": [
    "# filter articles belonging to selected sections\n",
    "section_list = ['Blogs', 'Business Day', 'Opinion', 'Technology', 'The Upshot', 'U.S.', 'New York' 'World']\n",
    "filtered_df = df[df['section'].isin(section_list)]"
   ]
  },
  {
   "cell_type": "code",
   "execution_count": null,
   "metadata": {},
   "outputs": [],
   "source": [
    "# track keywords of each article\n",
    "headline = filtered_df[\"headline\"]\n",
    "df_single_kw = filtered_df.drop(filtered_df[headline.isin(headline[headline.duplicated()])].index)\n",
    "df_multiple_kw = filtered_df[headline.isin(headline[headline.duplicated()])]\n",
    "\n",
    "headline = filtered_df[\"headline\"]\n",
    "df_single_kw = filtered_df.drop(filtered_df[headline.isin(headline[headline.duplicated()])].index)\n",
    "df_multiple_kw = filtered_df[headline.isin(headline[headline.duplicated()])]\n",
    "\n",
    "tracker = {}\n",
    "for i in range(len(df_multiple_kw)):\n",
    "    headline = df_multiple_kw.iloc[i]['headline']\n",
    "    if headline in tracker:\n",
    "        tracker[headline].append(df_multiple_kw.iloc[i]['keyword'])\n",
    "    else:\n",
    "        tracker[headline] = [df_multiple_kw.iloc[i]['keyword']]\n",
    "\n",
    "df_multiple_kw_no_dup = df_multiple_kw.drop_duplicates(subset=['headline'])\n",
    "kw = []\n",
    "for i in range(len(df_multiple_kw_no_dup)):\n",
    "    headline = df_multiple_kw_no_dup.iloc[i]['headline']\n",
    "    kw.append(list(set(tracker[headline])))\n",
    "    \n",
    "df_multiple_kw_no_dup['keyword'] = kw\n",
    "df_single_kw['keyword'] = [[kw] for kw in df_single_kw['keyword']]\n",
    "final_df = pd.concat([df_single_kw, df_multiple_kw_no_dup], axis=0).sort_index()"
   ]
  },
  {
   "cell_type": "code",
   "execution_count": null,
   "metadata": {},
   "outputs": [],
   "source": [
    "final_df.to_excel(\"nyt_2016_2022_final.xlsx\")"
   ]
  },
  {
   "cell_type": "code",
   "execution_count": null,
   "metadata": {},
   "outputs": [],
   "source": [
    "df_no_duplicate = final_df.drop_duplicates(subset=['headline'])\n",
    "temp = pd.DataFrame(df_no_duplicate.groupby('date').count()['headline'])\n",
    "temp = temp.rename(columns={'headline': 'article_count'})\n",
    "temp = temp.reindex(pd.date_range(start=\"2019-01-01\", end=\"2022-09-01\"))\n",
    "temp = temp.fillna(0)"
   ]
  },
  {
   "cell_type": "code",
   "execution_count": 3,
   "metadata": {},
   "outputs": [
    {
     "name": "stdout",
     "output_type": "stream",
     "text": [
      "rows filtered: 9797\n",
      "rows left: 21851\n"
     ]
    }
   ],
   "source": [
    "filtered_df = df[df['section'].isin(['Blogs', 'Business Day', 'Opinion', 'Technology', 'The Upshot', 'U.S.', 'New York', 'World'])]\n",
    "print(f'rows filtered: {len(df) - len(filtered_df)}')\n",
    "print(f'rows left: {len(filtered_df)}')"
   ]
  },
  {
   "cell_type": "code",
   "execution_count": 6,
   "metadata": {},
   "outputs": [],
   "source": [
    "temp = pd.DataFrame(final_df.groupby('date').count()['headline'])\n",
    "temp = temp.rename(columns={'headline': 'article_count'})\n",
    "temp = temp.reindex(pd.date_range(start=\"2016-01-01\", end=\"2022-09-01\"))\n",
    "temp = temp.fillna(0)"
   ]
  },
  {
   "cell_type": "code",
   "execution_count": 7,
   "metadata": {},
   "outputs": [
    {
     "data": {
      "text/plain": [
       "article_count    7.692529\n",
       "dtype: float64"
      ]
     },
     "execution_count": 7,
     "metadata": {},
     "output_type": "execute_result"
    }
   ],
   "source": [
    "temp.mean()"
   ]
  },
  {
   "cell_type": "code",
   "execution_count": 8,
   "metadata": {},
   "outputs": [
    {
     "name": "stdout",
     "output_type": "stream",
     "text": [
      "0 articles: 27\n",
      "<5 articles: 647\n"
     ]
    }
   ],
   "source": [
    "zero = len(temp[temp['article_count']==0])\n",
    "print(f'0 articles: {zero}')\n",
    "\n",
    "less_five = len(temp[temp['article_count']<5])\n",
    "print(f'<5 articles: {less_five}')"
   ]
  }
 ],
 "metadata": {
  "kernelspec": {
   "display_name": "Python 3.9.7 64-bit",
   "language": "python",
   "name": "python3"
  },
  "language_info": {
   "codemirror_mode": {
    "name": "ipython",
    "version": 3
   },
   "file_extension": ".py",
   "mimetype": "text/x-python",
   "name": "python",
   "nbconvert_exporter": "python",
   "pygments_lexer": "ipython3",
   "version": "3.7.13"
  },
  "orig_nbformat": 4,
  "vscode": {
   "interpreter": {
    "hash": "81794d4967e6c3204c66dcd87b604927b115b27c00565d3d43f05ba2f3a2cb0d"
   }
  }
 },
 "nbformat": 4,
 "nbformat_minor": 2
}
