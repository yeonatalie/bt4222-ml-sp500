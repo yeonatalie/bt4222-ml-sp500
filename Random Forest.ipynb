{
 "cells": [
  {
   "cell_type": "code",
   "execution_count": 77,
   "id": "5de875db",
   "metadata": {},
   "outputs": [],
   "source": [
    "import pandas as pd \n",
    "import numpy as np"
   ]
  },
  {
   "cell_type": "code",
   "execution_count": 78,
   "id": "996ae85d",
   "metadata": {},
   "outputs": [],
   "source": [
    "X_train3 = pd.read_excel(r\"C:\\Users\\chloe\\Desktop\\Y4S1\\BT4222 DATA MINING\\GROUP PROJECT\\x_train3.xlsx\")\n",
    "y_train3 = pd.read_excel(r\"C:\\Users\\chloe\\Desktop\\Y4S1\\BT4222 DATA MINING\\GROUP PROJECT\\y_train3.xlsx\")\n",
    "\n",
    "X_test3 = pd.read_excel(r\"C:\\Users\\chloe\\Desktop\\Y4S1\\BT4222 DATA MINING\\GROUP PROJECT\\x_test3.xlsx\")\n",
    "y_test3 = pd.read_excel(r\"C:\\Users\\chloe\\Desktop\\Y4S1\\BT4222 DATA MINING\\GROUP PROJECT\\y_test3.xlsx\")"
   ]
  },
  {
   "cell_type": "code",
   "execution_count": 79,
   "id": "99fbc55c",
   "metadata": {},
   "outputs": [],
   "source": [
    "X_train5 = pd.read_excel(r\"C:\\Users\\chloe\\Desktop\\Y4S1\\BT4222 DATA MINING\\GROUP PROJECT\\x_train5.xlsx\")\n",
    "y_train5 = pd.read_excel(r\"C:\\Users\\chloe\\Desktop\\Y4S1\\BT4222 DATA MINING\\GROUP PROJECT\\y_train5.xlsx\")\n",
    "\n",
    "X_test5 = pd.read_excel(r\"C:\\Users\\chloe\\Desktop\\Y4S1\\BT4222 DATA MINING\\GROUP PROJECT\\x_test5.xlsx\")\n",
    "y_test5 = pd.read_excel(r\"C:\\Users\\chloe\\Desktop\\Y4S1\\BT4222 DATA MINING\\GROUP PROJECT\\y_test5.xlsx\")"
   ]
  },
  {
   "cell_type": "code",
   "execution_count": 80,
   "id": "b5687f2b",
   "metadata": {},
   "outputs": [],
   "source": [
    "X_train3 = X_train3.iloc[: , 1:]\n",
    "y_train3 = y_train3.iloc[: , 1:]\n",
    "\n",
    "X_test3 = X_test3.iloc[: , 1:]\n",
    "y_test3 = y_test3.iloc[: , 1:]"
   ]
  },
  {
   "cell_type": "code",
   "execution_count": 81,
   "id": "8222f0da",
   "metadata": {},
   "outputs": [],
   "source": [
    "X_train5 = X_train5.iloc[: , 1:]\n",
    "y_train5 = y_train5.iloc[: , 1:]\n",
    "\n",
    "X_test5 = X_test5.iloc[: , 1:]\n",
    "y_test5 = y_test5.iloc[: , 1:]"
   ]
  },
  {
   "cell_type": "code",
   "execution_count": 82,
   "id": "fb6e5c16",
   "metadata": {},
   "outputs": [],
   "source": [
    "import sklearn\n",
    "assert sklearn.__version__ >= \"0.20\"\n",
    "\n",
    "from sklearn.svm import SVC\n",
    "from sklearn import svm\n",
    "from sklearn.model_selection import RandomizedSearchCV\n",
    "from sklearn.metrics import accuracy_score\n",
    "from sklearn.metrics import confusion_matrix\n",
    "from sklearn.metrics import precision_score, recall_score\n",
    "from sklearn.utils import resample\n",
    "from imblearn.over_sampling import SMOTE"
   ]
  },
  {
   "cell_type": "markdown",
   "id": "8be53e53",
   "metadata": {},
   "source": [
    "# SKLEARN RESAMPLE"
   ]
  },
  {
   "cell_type": "code",
   "execution_count": 83,
   "id": "c35970c3",
   "metadata": {},
   "outputs": [
    {
     "data": {
      "text/plain": [
       " 0    1264\n",
       "-1    1264\n",
       " 1    1264\n",
       "Name: decision, dtype: int64"
      ]
     },
     "execution_count": 83,
     "metadata": {},
     "output_type": "execute_result"
    }
   ],
   "source": [
    "df_train3 = pd.concat([X_train3, y_train3], axis=1)\n",
    "df_train_hold3 = df_train3[(df_train3['decision']==0)] \n",
    "df_train_buy3 = df_train3[(df_train3['decision']==-1)] \n",
    "df_train_sell3 = df_train3[(df_train3['decision']==1)] \n",
    "\n",
    "# upsample buy and sell class\n",
    "df_train_buy_upsampled3 = resample(df_train_buy3, \n",
    "                                 replace=True,    # sample with replacement\n",
    "                                 n_samples= len(df_train_hold3)) # to match majority class\n",
    "\n",
    "df_train_sell_upsampled3 = resample(df_train_sell3, \n",
    "                                 replace=True,    # sample with replacement\n",
    "                                 n_samples= len(df_train_hold3)) # to match majority class\n",
    "\n",
    "# Combine majority class with upsampled minority classes\n",
    "df_train_upsampled3 = pd.concat([df_train_buy_upsampled3, df_train_sell_upsampled3, df_train_hold3])\n",
    "X_train_upsampled3, y_train_upsampled3 = df_train_upsampled3.drop(columns=['decision']), df_train_upsampled3['decision']\n",
    "y_train_upsampled3.value_counts()"
   ]
  },
  {
   "cell_type": "code",
   "execution_count": 84,
   "id": "0208db2c",
   "metadata": {},
   "outputs": [
    {
     "data": {
      "text/plain": [
       " 0    3003\n",
       " 1     562\n",
       "-1     227\n",
       "Name: decision, dtype: int64"
      ]
     },
     "execution_count": 84,
     "metadata": {},
     "output_type": "execute_result"
    }
   ],
   "source": [
    "df_train5 = pd.concat([X_train5, y_train5], axis=1)\n",
    "df_train_hold5 = df_train5[(df_train3['decision']==0)] \n",
    "df_train_buy5 = df_train5[(df_train3['decision']==-1)] \n",
    "df_train_sell5 = df_train5[(df_train3['decision']==1)] \n",
    "\n",
    "# upsample buy and sell class\n",
    "df_train_buy_upsampled5 = resample(df_train_buy5, \n",
    "                                 replace=True,    # sample with replacement\n",
    "                                 n_samples= len(df_train_hold5)) # to match majority class\n",
    "\n",
    "df_train_sell_upsampled5 = resample(df_train_sell5, \n",
    "                                 replace=True,    # sample with replacement\n",
    "                                 n_samples= len(df_train_hold5)) # to match majority class\n",
    "\n",
    "# Combine majority class with upsampled minority classes\n",
    "df_train_upsampled5 = pd.concat([df_train_buy_upsampled5, df_train_sell_upsampled5, df_train_hold5])\n",
    "X_train_upsampled5, y_train_upsampled5 = df_train_upsampled5.drop(columns=['decision']), df_train_upsampled5['decision']\n",
    "y_train_upsampled5.value_counts()"
   ]
  },
  {
   "cell_type": "markdown",
   "id": "45d81b66",
   "metadata": {},
   "source": [
    "# SMOTE RESAMPLE"
   ]
  },
  {
   "cell_type": "code",
   "execution_count": 85,
   "id": "81f6dfca",
   "metadata": {},
   "outputs": [
    {
     "data": {
      "text/html": [
       "<div>\n",
       "<style scoped>\n",
       "    .dataframe tbody tr th:only-of-type {\n",
       "        vertical-align: middle;\n",
       "    }\n",
       "\n",
       "    .dataframe tbody tr th {\n",
       "        vertical-align: top;\n",
       "    }\n",
       "\n",
       "    .dataframe thead th {\n",
       "        text-align: right;\n",
       "    }\n",
       "</style>\n",
       "<table border=\"1\" class=\"dataframe\">\n",
       "  <thead>\n",
       "    <tr style=\"text-align: right;\">\n",
       "      <th></th>\n",
       "      <th>adj_close</th>\n",
       "      <th>reddit_pos_both</th>\n",
       "      <th>reddit_neg_both</th>\n",
       "      <th>reddit_neu_both</th>\n",
       "      <th>nyt_pos</th>\n",
       "      <th>nyt_neg</th>\n",
       "      <th>nyt_neu</th>\n",
       "      <th>quarterly_gdp_actual</th>\n",
       "      <th>monthly_cpi_actual</th>\n",
       "      <th>monthly_st_ir_actual</th>\n",
       "      <th>monthly_unemployment_actual</th>\n",
       "    </tr>\n",
       "  </thead>\n",
       "  <tbody>\n",
       "  </tbody>\n",
       "</table>\n",
       "</div>"
      ],
      "text/plain": [
       "Empty DataFrame\n",
       "Columns: [adj_close, reddit_pos_both, reddit_neg_both, reddit_neu_both, nyt_pos, nyt_neg, nyt_neu, quarterly_gdp_actual, monthly_cpi_actual, monthly_st_ir_actual, monthly_unemployment_actual]\n",
       "Index: []"
      ]
     },
     "execution_count": 85,
     "metadata": {},
     "output_type": "execute_result"
    }
   ],
   "source": [
    "X_train3[X_train3.isnull().any(axis=1)]"
   ]
  },
  {
   "cell_type": "code",
   "execution_count": 86,
   "id": "76d6c1c9",
   "metadata": {},
   "outputs": [
    {
     "data": {
      "text/plain": [
       "decision\n",
       "-1          1264\n",
       " 0          1264\n",
       " 1          1264\n",
       "dtype: int64"
      ]
     },
     "execution_count": 86,
     "metadata": {},
     "output_type": "execute_result"
    }
   ],
   "source": [
    "sm3 = SMOTE(sampling_strategy='not majority')\n",
    "X_train_oversampled3, y_train_oversampled3 = sm3.fit_resample(X_train3, y_train3)\n",
    "y_train_oversampled3.value_counts()"
   ]
  },
  {
   "cell_type": "code",
   "execution_count": 87,
   "id": "b110d1bc",
   "metadata": {},
   "outputs": [
    {
     "data": {
      "text/plain": [
       "decision\n",
       "-1          1436\n",
       " 0          1436\n",
       " 1          1436\n",
       "dtype: int64"
      ]
     },
     "execution_count": 87,
     "metadata": {},
     "output_type": "execute_result"
    }
   ],
   "source": [
    "sm5 = SMOTE(sampling_strategy='not majority')\n",
    "X_train_oversampled5, y_train_oversampled5 = sm5.fit_resample(X_train5, y_train5)\n",
    "y_train_oversampled5.value_counts()"
   ]
  },
  {
   "cell_type": "code",
   "execution_count": 88,
   "id": "a23dcd48",
   "metadata": {},
   "outputs": [],
   "source": [
    "import sklearn\n",
    "assert sklearn.__version__ >= \"0.20\"\n",
    "\n",
    "np.random.seed(42)\n",
    "\n",
    "from sklearn.ensemble import RandomForestClassifier\n",
    "from sklearn.metrics import accuracy_score\n",
    "from sklearn.metrics import confusion_matrix"
   ]
  },
  {
   "cell_type": "markdown",
   "id": "f5eccf39",
   "metadata": {},
   "source": [
    "# Random Forest Classifier"
   ]
  },
  {
   "cell_type": "code",
   "execution_count": 89,
   "id": "5892a0ba",
   "metadata": {
    "scrolled": false
   },
   "outputs": [],
   "source": [
    "rnd_clf = RandomForestClassifier(n_estimators=500, max_leaf_nodes=16, random_state=42)"
   ]
  },
  {
   "cell_type": "markdown",
   "id": "d979506a",
   "metadata": {},
   "source": [
    "## 3% Target Threshold"
   ]
  },
  {
   "cell_type": "code",
   "execution_count": 90,
   "id": "89e52095",
   "metadata": {
    "scrolled": true
   },
   "outputs": [
    {
     "name": "stderr",
     "output_type": "stream",
     "text": [
      "C:\\Users\\chloe\\AppData\\Local\\Temp\\ipykernel_31588\\2543078807.py:1: DataConversionWarning: A column-vector y was passed when a 1d array was expected. Please change the shape of y to (n_samples,), for example using ravel().\n",
      "  rnd_clf.fit(X_train3, y_train3)\n"
     ]
    },
    {
     "data": {
      "text/html": [
       "<style>#sk-container-id-7 {color: black;background-color: white;}#sk-container-id-7 pre{padding: 0;}#sk-container-id-7 div.sk-toggleable {background-color: white;}#sk-container-id-7 label.sk-toggleable__label {cursor: pointer;display: block;width: 100%;margin-bottom: 0;padding: 0.3em;box-sizing: border-box;text-align: center;}#sk-container-id-7 label.sk-toggleable__label-arrow:before {content: \"▸\";float: left;margin-right: 0.25em;color: #696969;}#sk-container-id-7 label.sk-toggleable__label-arrow:hover:before {color: black;}#sk-container-id-7 div.sk-estimator:hover label.sk-toggleable__label-arrow:before {color: black;}#sk-container-id-7 div.sk-toggleable__content {max-height: 0;max-width: 0;overflow: hidden;text-align: left;background-color: #f0f8ff;}#sk-container-id-7 div.sk-toggleable__content pre {margin: 0.2em;color: black;border-radius: 0.25em;background-color: #f0f8ff;}#sk-container-id-7 input.sk-toggleable__control:checked~div.sk-toggleable__content {max-height: 200px;max-width: 100%;overflow: auto;}#sk-container-id-7 input.sk-toggleable__control:checked~label.sk-toggleable__label-arrow:before {content: \"▾\";}#sk-container-id-7 div.sk-estimator input.sk-toggleable__control:checked~label.sk-toggleable__label {background-color: #d4ebff;}#sk-container-id-7 div.sk-label input.sk-toggleable__control:checked~label.sk-toggleable__label {background-color: #d4ebff;}#sk-container-id-7 input.sk-hidden--visually {border: 0;clip: rect(1px 1px 1px 1px);clip: rect(1px, 1px, 1px, 1px);height: 1px;margin: -1px;overflow: hidden;padding: 0;position: absolute;width: 1px;}#sk-container-id-7 div.sk-estimator {font-family: monospace;background-color: #f0f8ff;border: 1px dotted black;border-radius: 0.25em;box-sizing: border-box;margin-bottom: 0.5em;}#sk-container-id-7 div.sk-estimator:hover {background-color: #d4ebff;}#sk-container-id-7 div.sk-parallel-item::after {content: \"\";width: 100%;border-bottom: 1px solid gray;flex-grow: 1;}#sk-container-id-7 div.sk-label:hover label.sk-toggleable__label {background-color: #d4ebff;}#sk-container-id-7 div.sk-serial::before {content: \"\";position: absolute;border-left: 1px solid gray;box-sizing: border-box;top: 0;bottom: 0;left: 50%;z-index: 0;}#sk-container-id-7 div.sk-serial {display: flex;flex-direction: column;align-items: center;background-color: white;padding-right: 0.2em;padding-left: 0.2em;position: relative;}#sk-container-id-7 div.sk-item {position: relative;z-index: 1;}#sk-container-id-7 div.sk-parallel {display: flex;align-items: stretch;justify-content: center;background-color: white;position: relative;}#sk-container-id-7 div.sk-item::before, #sk-container-id-7 div.sk-parallel-item::before {content: \"\";position: absolute;border-left: 1px solid gray;box-sizing: border-box;top: 0;bottom: 0;left: 50%;z-index: -1;}#sk-container-id-7 div.sk-parallel-item {display: flex;flex-direction: column;z-index: 1;position: relative;background-color: white;}#sk-container-id-7 div.sk-parallel-item:first-child::after {align-self: flex-end;width: 50%;}#sk-container-id-7 div.sk-parallel-item:last-child::after {align-self: flex-start;width: 50%;}#sk-container-id-7 div.sk-parallel-item:only-child::after {width: 0;}#sk-container-id-7 div.sk-dashed-wrapped {border: 1px dashed gray;margin: 0 0.4em 0.5em 0.4em;box-sizing: border-box;padding-bottom: 0.4em;background-color: white;}#sk-container-id-7 div.sk-label label {font-family: monospace;font-weight: bold;display: inline-block;line-height: 1.2em;}#sk-container-id-7 div.sk-label-container {text-align: center;}#sk-container-id-7 div.sk-container {/* jupyter's `normalize.less` sets `[hidden] { display: none; }` but bootstrap.min.css set `[hidden] { display: none !important; }` so we also need the `!important` here to be able to override the default hidden behavior on the sphinx rendered scikit-learn.org. See: https://github.com/scikit-learn/scikit-learn/issues/21755 */display: inline-block !important;position: relative;}#sk-container-id-7 div.sk-text-repr-fallback {display: none;}</style><div id=\"sk-container-id-7\" class=\"sk-top-container\"><div class=\"sk-text-repr-fallback\"><pre>RandomForestClassifier(max_leaf_nodes=16, n_estimators=500, random_state=42)</pre><b>In a Jupyter environment, please rerun this cell to show the HTML representation or trust the notebook. <br />On GitHub, the HTML representation is unable to render, please try loading this page with nbviewer.org.</b></div><div class=\"sk-container\" hidden><div class=\"sk-item\"><div class=\"sk-estimator sk-toggleable\"><input class=\"sk-toggleable__control sk-hidden--visually\" id=\"sk-estimator-id-7\" type=\"checkbox\" checked><label for=\"sk-estimator-id-7\" class=\"sk-toggleable__label sk-toggleable__label-arrow\">RandomForestClassifier</label><div class=\"sk-toggleable__content\"><pre>RandomForestClassifier(max_leaf_nodes=16, n_estimators=500, random_state=42)</pre></div></div></div></div></div>"
      ],
      "text/plain": [
       "RandomForestClassifier(max_leaf_nodes=16, n_estimators=500, random_state=42)"
      ]
     },
     "execution_count": 90,
     "metadata": {},
     "output_type": "execute_result"
    }
   ],
   "source": [
    "rnd_clf.fit(X_train3, y_train3)"
   ]
  },
  {
   "cell_type": "markdown",
   "id": "223b98f8",
   "metadata": {},
   "source": [
    "### Predicting on train set (3%)"
   ]
  },
  {
   "cell_type": "code",
   "execution_count": 91,
   "id": "3f2860c9",
   "metadata": {},
   "outputs": [
    {
     "name": "stdout",
     "output_type": "stream",
     "text": [
      "Confusion_Matrix:\n",
      "[[   9  138    0]\n",
      " [   1 1260    3]\n",
      " [   0   70   30]]\n",
      "Accuracy_Score: 0.8596955658504302\n",
      "\n"
     ]
    }
   ],
   "source": [
    "y_predict_train3 = rnd_clf.predict(X_train3)\n",
    "confusion_matrix_train3 = confusion_matrix(y_train3, y_predict_train3)\n",
    "accuracy_score_train3 = accuracy_score(y_train3, y_predict_train3)\n",
    "print(\"Confusion_Matrix:\\n{}\"\n",
    "      .format(confusion_matrix_train3))\n",
    "print(\"Accuracy_Score: {}\\n\"\n",
    "      .format(accuracy_score_train3))"
   ]
  },
  {
   "cell_type": "code",
   "execution_count": 92,
   "id": "9b099786",
   "metadata": {},
   "outputs": [
    {
     "name": "stdout",
     "output_type": "stream",
     "text": [
      "Number of Rows Prediction Correctly: 1299\n",
      "\n"
     ]
    }
   ],
   "source": [
    "diagonals_train3 = confusion_matrix_train3.diagonal().sum()\n",
    "print(\"Number of Rows Prediction Correctly: {}\\n\"\n",
    "      .format(diagonals_train3))"
   ]
  },
  {
   "cell_type": "code",
   "execution_count": 93,
   "id": "e1bfb358",
   "metadata": {},
   "outputs": [
    {
     "data": {
      "text/plain": [
       "0.8657271496106417"
      ]
     },
     "execution_count": 93,
     "metadata": {},
     "output_type": "execute_result"
    }
   ],
   "source": [
    "precision_train3 = precision_score(y_train3, y_predict_train3, average = \"weighted\")\n",
    "precision_train3"
   ]
  },
  {
   "cell_type": "code",
   "execution_count": 94,
   "id": "ea1a18a0",
   "metadata": {},
   "outputs": [
    {
     "data": {
      "text/plain": [
       "0.8596955658504302"
      ]
     },
     "execution_count": 94,
     "metadata": {},
     "output_type": "execute_result"
    }
   ],
   "source": [
    "recall_train3 = recall_score(y_train3, y_predict_train3, average = \"weighted\")\n",
    "recall_train3 "
   ]
  },
  {
   "cell_type": "markdown",
   "id": "821a4dae",
   "metadata": {},
   "source": [
    "### Predicting on test set (3%)"
   ]
  },
  {
   "cell_type": "code",
   "execution_count": 95,
   "id": "d6089a4e",
   "metadata": {},
   "outputs": [
    {
     "name": "stdout",
     "output_type": "stream",
     "text": [
      "Confusion_Matrix:\n",
      "[[ 0 39  0]\n",
      " [ 0 86  0]\n",
      " [ 0 43  0]]\n",
      "Accuracy_Score: 0.5119047619047619\n",
      "\n"
     ]
    }
   ],
   "source": [
    "y_predict_test3 = rnd_clf.predict(X_test3)\n",
    "confusion_matrix_test3 = confusion_matrix(y_test3, y_predict_test3)\n",
    "accuracy_score_test3 = accuracy_score(y_test3, y_predict_test3)\n",
    "print(\"Confusion_Matrix:\\n{}\"\n",
    "      .format(confusion_matrix_test3))\n",
    "print(\"Accuracy_Score: {}\\n\"\n",
    "      .format(accuracy_score_test3))"
   ]
  },
  {
   "cell_type": "code",
   "execution_count": 96,
   "id": "a3b4ef8e",
   "metadata": {},
   "outputs": [
    {
     "name": "stdout",
     "output_type": "stream",
     "text": [
      "Number of Rows Prediction Correctly: 86\n",
      "\n"
     ]
    }
   ],
   "source": [
    "diagonals_test3 = confusion_matrix_test3.diagonal().sum()\n",
    "print(\"Number of Rows Prediction Correctly: {}\\n\"\n",
    "      .format(diagonals_test3))"
   ]
  },
  {
   "cell_type": "code",
   "execution_count": 97,
   "id": "0db5b474",
   "metadata": {},
   "outputs": [
    {
     "name": "stderr",
     "output_type": "stream",
     "text": [
      "C:\\Python39\\lib\\site-packages\\sklearn\\metrics\\_classification.py:1334: UndefinedMetricWarning: Precision is ill-defined and being set to 0.0 in labels with no predicted samples. Use `zero_division` parameter to control this behavior.\n",
      "  _warn_prf(average, modifier, msg_start, len(result))\n"
     ]
    },
    {
     "data": {
      "text/plain": [
       "0.26204648526077096"
      ]
     },
     "execution_count": 97,
     "metadata": {},
     "output_type": "execute_result"
    }
   ],
   "source": [
    "precision_test3 = precision_score(y_test3, y_predict_test3, average = \"weighted\")\n",
    "precision_test3"
   ]
  },
  {
   "cell_type": "code",
   "execution_count": 98,
   "id": "47dffb98",
   "metadata": {
    "scrolled": true
   },
   "outputs": [
    {
     "data": {
      "text/plain": [
       "0.5119047619047619"
      ]
     },
     "execution_count": 98,
     "metadata": {},
     "output_type": "execute_result"
    }
   ],
   "source": [
    "recall_test3 = recall_score(y_test3, y_predict_test3, average = \"weighted\")\n",
    "recall_test3 "
   ]
  },
  {
   "cell_type": "markdown",
   "id": "324b2e14",
   "metadata": {},
   "source": [
    "## SKLearn Resample 3% "
   ]
  },
  {
   "cell_type": "code",
   "execution_count": 99,
   "id": "d8d6ec70",
   "metadata": {
    "scrolled": true
   },
   "outputs": [
    {
     "data": {
      "text/html": [
       "<style>#sk-container-id-8 {color: black;background-color: white;}#sk-container-id-8 pre{padding: 0;}#sk-container-id-8 div.sk-toggleable {background-color: white;}#sk-container-id-8 label.sk-toggleable__label {cursor: pointer;display: block;width: 100%;margin-bottom: 0;padding: 0.3em;box-sizing: border-box;text-align: center;}#sk-container-id-8 label.sk-toggleable__label-arrow:before {content: \"▸\";float: left;margin-right: 0.25em;color: #696969;}#sk-container-id-8 label.sk-toggleable__label-arrow:hover:before {color: black;}#sk-container-id-8 div.sk-estimator:hover label.sk-toggleable__label-arrow:before {color: black;}#sk-container-id-8 div.sk-toggleable__content {max-height: 0;max-width: 0;overflow: hidden;text-align: left;background-color: #f0f8ff;}#sk-container-id-8 div.sk-toggleable__content pre {margin: 0.2em;color: black;border-radius: 0.25em;background-color: #f0f8ff;}#sk-container-id-8 input.sk-toggleable__control:checked~div.sk-toggleable__content {max-height: 200px;max-width: 100%;overflow: auto;}#sk-container-id-8 input.sk-toggleable__control:checked~label.sk-toggleable__label-arrow:before {content: \"▾\";}#sk-container-id-8 div.sk-estimator input.sk-toggleable__control:checked~label.sk-toggleable__label {background-color: #d4ebff;}#sk-container-id-8 div.sk-label input.sk-toggleable__control:checked~label.sk-toggleable__label {background-color: #d4ebff;}#sk-container-id-8 input.sk-hidden--visually {border: 0;clip: rect(1px 1px 1px 1px);clip: rect(1px, 1px, 1px, 1px);height: 1px;margin: -1px;overflow: hidden;padding: 0;position: absolute;width: 1px;}#sk-container-id-8 div.sk-estimator {font-family: monospace;background-color: #f0f8ff;border: 1px dotted black;border-radius: 0.25em;box-sizing: border-box;margin-bottom: 0.5em;}#sk-container-id-8 div.sk-estimator:hover {background-color: #d4ebff;}#sk-container-id-8 div.sk-parallel-item::after {content: \"\";width: 100%;border-bottom: 1px solid gray;flex-grow: 1;}#sk-container-id-8 div.sk-label:hover label.sk-toggleable__label {background-color: #d4ebff;}#sk-container-id-8 div.sk-serial::before {content: \"\";position: absolute;border-left: 1px solid gray;box-sizing: border-box;top: 0;bottom: 0;left: 50%;z-index: 0;}#sk-container-id-8 div.sk-serial {display: flex;flex-direction: column;align-items: center;background-color: white;padding-right: 0.2em;padding-left: 0.2em;position: relative;}#sk-container-id-8 div.sk-item {position: relative;z-index: 1;}#sk-container-id-8 div.sk-parallel {display: flex;align-items: stretch;justify-content: center;background-color: white;position: relative;}#sk-container-id-8 div.sk-item::before, #sk-container-id-8 div.sk-parallel-item::before {content: \"\";position: absolute;border-left: 1px solid gray;box-sizing: border-box;top: 0;bottom: 0;left: 50%;z-index: -1;}#sk-container-id-8 div.sk-parallel-item {display: flex;flex-direction: column;z-index: 1;position: relative;background-color: white;}#sk-container-id-8 div.sk-parallel-item:first-child::after {align-self: flex-end;width: 50%;}#sk-container-id-8 div.sk-parallel-item:last-child::after {align-self: flex-start;width: 50%;}#sk-container-id-8 div.sk-parallel-item:only-child::after {width: 0;}#sk-container-id-8 div.sk-dashed-wrapped {border: 1px dashed gray;margin: 0 0.4em 0.5em 0.4em;box-sizing: border-box;padding-bottom: 0.4em;background-color: white;}#sk-container-id-8 div.sk-label label {font-family: monospace;font-weight: bold;display: inline-block;line-height: 1.2em;}#sk-container-id-8 div.sk-label-container {text-align: center;}#sk-container-id-8 div.sk-container {/* jupyter's `normalize.less` sets `[hidden] { display: none; }` but bootstrap.min.css set `[hidden] { display: none !important; }` so we also need the `!important` here to be able to override the default hidden behavior on the sphinx rendered scikit-learn.org. See: https://github.com/scikit-learn/scikit-learn/issues/21755 */display: inline-block !important;position: relative;}#sk-container-id-8 div.sk-text-repr-fallback {display: none;}</style><div id=\"sk-container-id-8\" class=\"sk-top-container\"><div class=\"sk-text-repr-fallback\"><pre>RandomForestClassifier(max_leaf_nodes=16, n_estimators=500, random_state=42)</pre><b>In a Jupyter environment, please rerun this cell to show the HTML representation or trust the notebook. <br />On GitHub, the HTML representation is unable to render, please try loading this page with nbviewer.org.</b></div><div class=\"sk-container\" hidden><div class=\"sk-item\"><div class=\"sk-estimator sk-toggleable\"><input class=\"sk-toggleable__control sk-hidden--visually\" id=\"sk-estimator-id-8\" type=\"checkbox\" checked><label for=\"sk-estimator-id-8\" class=\"sk-toggleable__label sk-toggleable__label-arrow\">RandomForestClassifier</label><div class=\"sk-toggleable__content\"><pre>RandomForestClassifier(max_leaf_nodes=16, n_estimators=500, random_state=42)</pre></div></div></div></div></div>"
      ],
      "text/plain": [
       "RandomForestClassifier(max_leaf_nodes=16, n_estimators=500, random_state=42)"
      ]
     },
     "execution_count": 99,
     "metadata": {},
     "output_type": "execute_result"
    }
   ],
   "source": [
    "rnd_clf.fit(X_train_upsampled3, y_train_upsampled3)"
   ]
  },
  {
   "cell_type": "markdown",
   "id": "b686ed83",
   "metadata": {},
   "source": [
    "### [SKLEARN RESAMPLE] Predicting on train set (3%)"
   ]
  },
  {
   "cell_type": "code",
   "execution_count": 100,
   "id": "a409e15c",
   "metadata": {},
   "outputs": [
    {
     "name": "stdout",
     "output_type": "stream",
     "text": [
      "Confusion_Matrix:\n",
      "[[ 947  242   75]\n",
      " [ 238  877  149]\n",
      " [ 101   28 1135]]\n",
      "Accuracy_Score: 0.7803270042194093\n",
      "\n"
     ]
    }
   ],
   "source": [
    "y_predict_train3sk = rnd_clf.predict(X_train_upsampled3)\n",
    "confusion_matrix_train3sk = confusion_matrix(y_train_upsampled3, y_predict_train3sk)\n",
    "accuracy_score_train3sk = accuracy_score(y_train_upsampled3, y_predict_train3sk)\n",
    "print(\"Confusion_Matrix:\\n{}\"\n",
    "      .format(confusion_matrix_train3sk))\n",
    "print(\"Accuracy_Score: {}\\n\"\n",
    "      .format(accuracy_score_train3sk))"
   ]
  },
  {
   "cell_type": "code",
   "execution_count": 101,
   "id": "387f9569",
   "metadata": {},
   "outputs": [
    {
     "name": "stdout",
     "output_type": "stream",
     "text": [
      "Number of Rows Prediction Correctly: 2959\n",
      "\n"
     ]
    }
   ],
   "source": [
    "skdiagonals_train3sk = confusion_matrix_train3sk.diagonal().sum()\n",
    "print(\"Number of Rows Prediction Correctly: {}\\n\"\n",
    "      .format(skdiagonals_train3sk))"
   ]
  },
  {
   "cell_type": "code",
   "execution_count": 102,
   "id": "9ea082ae",
   "metadata": {},
   "outputs": [
    {
     "data": {
      "text/plain": [
       "0.7787227157214296"
      ]
     },
     "execution_count": 102,
     "metadata": {},
     "output_type": "execute_result"
    }
   ],
   "source": [
    "precision_train3sk = precision_score(y_train_upsampled3, y_predict_train3sk, average = \"weighted\")\n",
    "precision_train3sk"
   ]
  },
  {
   "cell_type": "code",
   "execution_count": 103,
   "id": "83eb96cc",
   "metadata": {},
   "outputs": [
    {
     "data": {
      "text/plain": [
       "0.7803270042194093"
      ]
     },
     "execution_count": 103,
     "metadata": {},
     "output_type": "execute_result"
    }
   ],
   "source": [
    "recall_train3sk = recall_score(y_train_upsampled3, y_predict_train3sk, average = \"weighted\")\n",
    "recall_train3sk"
   ]
  },
  {
   "cell_type": "markdown",
   "id": "8d2b928d",
   "metadata": {},
   "source": [
    "### [SKLEARN RESAMPLE] Predicting on test set (3%)"
   ]
  },
  {
   "cell_type": "code",
   "execution_count": 104,
   "id": "56e5b5f0",
   "metadata": {},
   "outputs": [
    {
     "name": "stdout",
     "output_type": "stream",
     "text": [
      "Confusion_Matrix:\n",
      "[[ 9 25  5]\n",
      " [12 58 16]\n",
      " [ 9 22 12]]\n",
      "Accuracy_Score: 0.47023809523809523\n",
      "\n"
     ]
    }
   ],
   "source": [
    "y_predict_test3sk = rnd_clf.predict(X_test3)\n",
    "confusion_matrix_test3sk = confusion_matrix(y_test3, y_predict_test3sk)\n",
    "accuracy_score_test3sk = accuracy_score(y_test3, y_predict_test3sk)\n",
    "print(\"Confusion_Matrix:\\n{}\"\n",
    "      .format(confusion_matrix_test3sk))\n",
    "print(\"Accuracy_Score: {}\\n\"\n",
    "      .format(accuracy_score_test3sk))"
   ]
  },
  {
   "cell_type": "code",
   "execution_count": 105,
   "id": "4f14c83b",
   "metadata": {},
   "outputs": [
    {
     "name": "stdout",
     "output_type": "stream",
     "text": [
      "Number of Rows Prediction Correctly: 79\n",
      "\n"
     ]
    }
   ],
   "source": [
    "diagonals_test3sk = confusion_matrix_test3sk.diagonal().sum()\n",
    "print(\"Number of Rows Prediction Correctly: {}\\n\"\n",
    "      .format(diagonals_test3sk))"
   ]
  },
  {
   "cell_type": "code",
   "execution_count": 106,
   "id": "57bc28d2",
   "metadata": {},
   "outputs": [
    {
     "data": {
      "text/plain": [
       "0.4454828901257473"
      ]
     },
     "execution_count": 106,
     "metadata": {},
     "output_type": "execute_result"
    }
   ],
   "source": [
    "precision_test3sk = precision_score(y_test3, y_predict_test3sk, average = \"weighted\")\n",
    "precision_test3sk "
   ]
  },
  {
   "cell_type": "code",
   "execution_count": 107,
   "id": "032647ad",
   "metadata": {
    "scrolled": true
   },
   "outputs": [
    {
     "data": {
      "text/plain": [
       "0.47023809523809523"
      ]
     },
     "execution_count": 107,
     "metadata": {},
     "output_type": "execute_result"
    }
   ],
   "source": [
    "recall_test3sk = recall_score(y_test3, y_predict_test3sk, average = \"weighted\")\n",
    "recall_test3sk "
   ]
  },
  {
   "cell_type": "markdown",
   "id": "0bcdad31",
   "metadata": {},
   "source": [
    "## SMOTE Resample 3% "
   ]
  },
  {
   "cell_type": "code",
   "execution_count": 108,
   "id": "9e6d9f6b",
   "metadata": {
    "scrolled": true
   },
   "outputs": [
    {
     "name": "stderr",
     "output_type": "stream",
     "text": [
      "C:\\Users\\chloe\\AppData\\Local\\Temp\\ipykernel_31588\\2267759465.py:1: DataConversionWarning: A column-vector y was passed when a 1d array was expected. Please change the shape of y to (n_samples,), for example using ravel().\n",
      "  rnd_clf.fit(X_train_oversampled3, y_train_oversampled3)\n"
     ]
    },
    {
     "data": {
      "text/html": [
       "<style>#sk-container-id-9 {color: black;background-color: white;}#sk-container-id-9 pre{padding: 0;}#sk-container-id-9 div.sk-toggleable {background-color: white;}#sk-container-id-9 label.sk-toggleable__label {cursor: pointer;display: block;width: 100%;margin-bottom: 0;padding: 0.3em;box-sizing: border-box;text-align: center;}#sk-container-id-9 label.sk-toggleable__label-arrow:before {content: \"▸\";float: left;margin-right: 0.25em;color: #696969;}#sk-container-id-9 label.sk-toggleable__label-arrow:hover:before {color: black;}#sk-container-id-9 div.sk-estimator:hover label.sk-toggleable__label-arrow:before {color: black;}#sk-container-id-9 div.sk-toggleable__content {max-height: 0;max-width: 0;overflow: hidden;text-align: left;background-color: #f0f8ff;}#sk-container-id-9 div.sk-toggleable__content pre {margin: 0.2em;color: black;border-radius: 0.25em;background-color: #f0f8ff;}#sk-container-id-9 input.sk-toggleable__control:checked~div.sk-toggleable__content {max-height: 200px;max-width: 100%;overflow: auto;}#sk-container-id-9 input.sk-toggleable__control:checked~label.sk-toggleable__label-arrow:before {content: \"▾\";}#sk-container-id-9 div.sk-estimator input.sk-toggleable__control:checked~label.sk-toggleable__label {background-color: #d4ebff;}#sk-container-id-9 div.sk-label input.sk-toggleable__control:checked~label.sk-toggleable__label {background-color: #d4ebff;}#sk-container-id-9 input.sk-hidden--visually {border: 0;clip: rect(1px 1px 1px 1px);clip: rect(1px, 1px, 1px, 1px);height: 1px;margin: -1px;overflow: hidden;padding: 0;position: absolute;width: 1px;}#sk-container-id-9 div.sk-estimator {font-family: monospace;background-color: #f0f8ff;border: 1px dotted black;border-radius: 0.25em;box-sizing: border-box;margin-bottom: 0.5em;}#sk-container-id-9 div.sk-estimator:hover {background-color: #d4ebff;}#sk-container-id-9 div.sk-parallel-item::after {content: \"\";width: 100%;border-bottom: 1px solid gray;flex-grow: 1;}#sk-container-id-9 div.sk-label:hover label.sk-toggleable__label {background-color: #d4ebff;}#sk-container-id-9 div.sk-serial::before {content: \"\";position: absolute;border-left: 1px solid gray;box-sizing: border-box;top: 0;bottom: 0;left: 50%;z-index: 0;}#sk-container-id-9 div.sk-serial {display: flex;flex-direction: column;align-items: center;background-color: white;padding-right: 0.2em;padding-left: 0.2em;position: relative;}#sk-container-id-9 div.sk-item {position: relative;z-index: 1;}#sk-container-id-9 div.sk-parallel {display: flex;align-items: stretch;justify-content: center;background-color: white;position: relative;}#sk-container-id-9 div.sk-item::before, #sk-container-id-9 div.sk-parallel-item::before {content: \"\";position: absolute;border-left: 1px solid gray;box-sizing: border-box;top: 0;bottom: 0;left: 50%;z-index: -1;}#sk-container-id-9 div.sk-parallel-item {display: flex;flex-direction: column;z-index: 1;position: relative;background-color: white;}#sk-container-id-9 div.sk-parallel-item:first-child::after {align-self: flex-end;width: 50%;}#sk-container-id-9 div.sk-parallel-item:last-child::after {align-self: flex-start;width: 50%;}#sk-container-id-9 div.sk-parallel-item:only-child::after {width: 0;}#sk-container-id-9 div.sk-dashed-wrapped {border: 1px dashed gray;margin: 0 0.4em 0.5em 0.4em;box-sizing: border-box;padding-bottom: 0.4em;background-color: white;}#sk-container-id-9 div.sk-label label {font-family: monospace;font-weight: bold;display: inline-block;line-height: 1.2em;}#sk-container-id-9 div.sk-label-container {text-align: center;}#sk-container-id-9 div.sk-container {/* jupyter's `normalize.less` sets `[hidden] { display: none; }` but bootstrap.min.css set `[hidden] { display: none !important; }` so we also need the `!important` here to be able to override the default hidden behavior on the sphinx rendered scikit-learn.org. See: https://github.com/scikit-learn/scikit-learn/issues/21755 */display: inline-block !important;position: relative;}#sk-container-id-9 div.sk-text-repr-fallback {display: none;}</style><div id=\"sk-container-id-9\" class=\"sk-top-container\"><div class=\"sk-text-repr-fallback\"><pre>RandomForestClassifier(max_leaf_nodes=16, n_estimators=500, random_state=42)</pre><b>In a Jupyter environment, please rerun this cell to show the HTML representation or trust the notebook. <br />On GitHub, the HTML representation is unable to render, please try loading this page with nbviewer.org.</b></div><div class=\"sk-container\" hidden><div class=\"sk-item\"><div class=\"sk-estimator sk-toggleable\"><input class=\"sk-toggleable__control sk-hidden--visually\" id=\"sk-estimator-id-9\" type=\"checkbox\" checked><label for=\"sk-estimator-id-9\" class=\"sk-toggleable__label sk-toggleable__label-arrow\">RandomForestClassifier</label><div class=\"sk-toggleable__content\"><pre>RandomForestClassifier(max_leaf_nodes=16, n_estimators=500, random_state=42)</pre></div></div></div></div></div>"
      ],
      "text/plain": [
       "RandomForestClassifier(max_leaf_nodes=16, n_estimators=500, random_state=42)"
      ]
     },
     "execution_count": 108,
     "metadata": {},
     "output_type": "execute_result"
    }
   ],
   "source": [
    "rnd_clf.fit(X_train_oversampled3, y_train_oversampled3)"
   ]
  },
  {
   "cell_type": "markdown",
   "id": "d723f6e5",
   "metadata": {},
   "source": [
    "### [SMOTE] Predicting on train set (3%)"
   ]
  },
  {
   "cell_type": "code",
   "execution_count": 109,
   "id": "7e5a6a97",
   "metadata": {},
   "outputs": [
    {
     "name": "stdout",
     "output_type": "stream",
     "text": [
      "Confusion_Matrix:\n",
      "[[ 909  283   72]\n",
      " [ 218  901  145]\n",
      " [  57   54 1153]]\n",
      "Accuracy_Score: 0.7813818565400844\n",
      "\n"
     ]
    }
   ],
   "source": [
    "y_predict_train3sm = rnd_clf.predict(X_train_oversampled3)\n",
    "confusion_matrix_train3sm = confusion_matrix(y_train_oversampled3, y_predict_train3sm)\n",
    "accuracy_score_train3sm = accuracy_score(y_train_oversampled3, y_predict_train3sm)\n",
    "print(\"Confusion_Matrix:\\n{}\"\n",
    "      .format(confusion_matrix_train3sm))\n",
    "print(\"Accuracy_Score: {}\\n\"\n",
    "      .format(accuracy_score_train3sm))"
   ]
  },
  {
   "cell_type": "code",
   "execution_count": 110,
   "id": "99a93a7d",
   "metadata": {},
   "outputs": [
    {
     "name": "stdout",
     "output_type": "stream",
     "text": [
      "Number of Rows Prediction Correctly: 2963\n",
      "\n"
     ]
    }
   ],
   "source": [
    "skdiagonals_train3sm = confusion_matrix_train3sm.diagonal().sum()\n",
    "print(\"Number of Rows Prediction Correctly: {}\\n\"\n",
    "      .format(skdiagonals_train3sm))"
   ]
  },
  {
   "cell_type": "code",
   "execution_count": 111,
   "id": "171027ec",
   "metadata": {},
   "outputs": [
    {
     "data": {
      "text/plain": [
       "0.7790430262432285"
      ]
     },
     "execution_count": 111,
     "metadata": {},
     "output_type": "execute_result"
    }
   ],
   "source": [
    "precision_train3sm = precision_score(y_train_oversampled3, y_predict_train3sm, average = \"weighted\")\n",
    "precision_train3sm"
   ]
  },
  {
   "cell_type": "code",
   "execution_count": 112,
   "id": "42f3fc57",
   "metadata": {},
   "outputs": [
    {
     "data": {
      "text/plain": [
       "0.7813818565400844"
      ]
     },
     "execution_count": 112,
     "metadata": {},
     "output_type": "execute_result"
    }
   ],
   "source": [
    "recall_train3sm = recall_score(y_train_oversampled3, y_predict_train3sm, average = \"weighted\")\n",
    "recall_train3sm"
   ]
  },
  {
   "cell_type": "markdown",
   "id": "5d7a5131",
   "metadata": {},
   "source": [
    "### [SMOTE] Predicting on test set (3%)"
   ]
  },
  {
   "cell_type": "code",
   "execution_count": 113,
   "id": "02872a50",
   "metadata": {},
   "outputs": [
    {
     "name": "stdout",
     "output_type": "stream",
     "text": [
      "Confusion_Matrix:\n",
      "[[ 5 28  6]\n",
      " [ 4 66 16]\n",
      " [ 5 25 13]]\n",
      "Accuracy_Score: 0.5\n",
      "\n"
     ]
    }
   ],
   "source": [
    "y_predict_test3sm = rnd_clf.predict(X_test3)\n",
    "confusion_matrix_test3sm = confusion_matrix(y_test3, y_predict_test3sm)\n",
    "accuracy_score_test3sm = accuracy_score(y_test3, y_predict_test3sm)\n",
    "print(\"Confusion_Matrix:\\n{}\"\n",
    "      .format(confusion_matrix_test3sm))\n",
    "print(\"Accuracy_Score: {}\\n\"\n",
    "      .format(accuracy_score_test3sm))"
   ]
  },
  {
   "cell_type": "code",
   "execution_count": 114,
   "id": "b2f193e4",
   "metadata": {},
   "outputs": [
    {
     "name": "stdout",
     "output_type": "stream",
     "text": [
      "Number of Rows Prediction Correctly: 84\n",
      "\n"
     ]
    }
   ],
   "source": [
    "diagonals_test3sm = confusion_matrix_test3sm.diagonal().sum()\n",
    "print(\"Number of Rows Prediction Correctly: {}\\n\"\n",
    "      .format(diagonals_test3sm))"
   ]
  },
  {
   "cell_type": "code",
   "execution_count": 115,
   "id": "0346a06e",
   "metadata": {},
   "outputs": [
    {
     "data": {
      "text/plain": [
       "0.461889755902361"
      ]
     },
     "execution_count": 115,
     "metadata": {},
     "output_type": "execute_result"
    }
   ],
   "source": [
    "precision_test3sm = precision_score(y_test3, y_predict_test3sm, average = \"weighted\")\n",
    "precision_test3sm"
   ]
  },
  {
   "cell_type": "code",
   "execution_count": 116,
   "id": "cdd29964",
   "metadata": {
    "scrolled": true
   },
   "outputs": [
    {
     "data": {
      "text/plain": [
       "0.5"
      ]
     },
     "execution_count": 116,
     "metadata": {},
     "output_type": "execute_result"
    }
   ],
   "source": [
    "recall_test3sm= recall_score(y_test3, y_predict_test3sm, average = \"weighted\")\n",
    "recall_test3sm"
   ]
  },
  {
   "cell_type": "markdown",
   "id": "79399df8",
   "metadata": {},
   "source": [
    "## 5% Target threshold"
   ]
  },
  {
   "cell_type": "code",
   "execution_count": 117,
   "id": "7e4c2cf6",
   "metadata": {
    "scrolled": true
   },
   "outputs": [
    {
     "name": "stderr",
     "output_type": "stream",
     "text": [
      "C:\\Users\\chloe\\AppData\\Local\\Temp\\ipykernel_31588\\2076458165.py:1: DataConversionWarning: A column-vector y was passed when a 1d array was expected. Please change the shape of y to (n_samples,), for example using ravel().\n",
      "  rnd_clf.fit(X_train5, y_train5)\n"
     ]
    },
    {
     "data": {
      "text/html": [
       "<style>#sk-container-id-10 {color: black;background-color: white;}#sk-container-id-10 pre{padding: 0;}#sk-container-id-10 div.sk-toggleable {background-color: white;}#sk-container-id-10 label.sk-toggleable__label {cursor: pointer;display: block;width: 100%;margin-bottom: 0;padding: 0.3em;box-sizing: border-box;text-align: center;}#sk-container-id-10 label.sk-toggleable__label-arrow:before {content: \"▸\";float: left;margin-right: 0.25em;color: #696969;}#sk-container-id-10 label.sk-toggleable__label-arrow:hover:before {color: black;}#sk-container-id-10 div.sk-estimator:hover label.sk-toggleable__label-arrow:before {color: black;}#sk-container-id-10 div.sk-toggleable__content {max-height: 0;max-width: 0;overflow: hidden;text-align: left;background-color: #f0f8ff;}#sk-container-id-10 div.sk-toggleable__content pre {margin: 0.2em;color: black;border-radius: 0.25em;background-color: #f0f8ff;}#sk-container-id-10 input.sk-toggleable__control:checked~div.sk-toggleable__content {max-height: 200px;max-width: 100%;overflow: auto;}#sk-container-id-10 input.sk-toggleable__control:checked~label.sk-toggleable__label-arrow:before {content: \"▾\";}#sk-container-id-10 div.sk-estimator input.sk-toggleable__control:checked~label.sk-toggleable__label {background-color: #d4ebff;}#sk-container-id-10 div.sk-label input.sk-toggleable__control:checked~label.sk-toggleable__label {background-color: #d4ebff;}#sk-container-id-10 input.sk-hidden--visually {border: 0;clip: rect(1px 1px 1px 1px);clip: rect(1px, 1px, 1px, 1px);height: 1px;margin: -1px;overflow: hidden;padding: 0;position: absolute;width: 1px;}#sk-container-id-10 div.sk-estimator {font-family: monospace;background-color: #f0f8ff;border: 1px dotted black;border-radius: 0.25em;box-sizing: border-box;margin-bottom: 0.5em;}#sk-container-id-10 div.sk-estimator:hover {background-color: #d4ebff;}#sk-container-id-10 div.sk-parallel-item::after {content: \"\";width: 100%;border-bottom: 1px solid gray;flex-grow: 1;}#sk-container-id-10 div.sk-label:hover label.sk-toggleable__label {background-color: #d4ebff;}#sk-container-id-10 div.sk-serial::before {content: \"\";position: absolute;border-left: 1px solid gray;box-sizing: border-box;top: 0;bottom: 0;left: 50%;z-index: 0;}#sk-container-id-10 div.sk-serial {display: flex;flex-direction: column;align-items: center;background-color: white;padding-right: 0.2em;padding-left: 0.2em;position: relative;}#sk-container-id-10 div.sk-item {position: relative;z-index: 1;}#sk-container-id-10 div.sk-parallel {display: flex;align-items: stretch;justify-content: center;background-color: white;position: relative;}#sk-container-id-10 div.sk-item::before, #sk-container-id-10 div.sk-parallel-item::before {content: \"\";position: absolute;border-left: 1px solid gray;box-sizing: border-box;top: 0;bottom: 0;left: 50%;z-index: -1;}#sk-container-id-10 div.sk-parallel-item {display: flex;flex-direction: column;z-index: 1;position: relative;background-color: white;}#sk-container-id-10 div.sk-parallel-item:first-child::after {align-self: flex-end;width: 50%;}#sk-container-id-10 div.sk-parallel-item:last-child::after {align-self: flex-start;width: 50%;}#sk-container-id-10 div.sk-parallel-item:only-child::after {width: 0;}#sk-container-id-10 div.sk-dashed-wrapped {border: 1px dashed gray;margin: 0 0.4em 0.5em 0.4em;box-sizing: border-box;padding-bottom: 0.4em;background-color: white;}#sk-container-id-10 div.sk-label label {font-family: monospace;font-weight: bold;display: inline-block;line-height: 1.2em;}#sk-container-id-10 div.sk-label-container {text-align: center;}#sk-container-id-10 div.sk-container {/* jupyter's `normalize.less` sets `[hidden] { display: none; }` but bootstrap.min.css set `[hidden] { display: none !important; }` so we also need the `!important` here to be able to override the default hidden behavior on the sphinx rendered scikit-learn.org. See: https://github.com/scikit-learn/scikit-learn/issues/21755 */display: inline-block !important;position: relative;}#sk-container-id-10 div.sk-text-repr-fallback {display: none;}</style><div id=\"sk-container-id-10\" class=\"sk-top-container\"><div class=\"sk-text-repr-fallback\"><pre>RandomForestClassifier(max_leaf_nodes=16, n_estimators=500, random_state=42)</pre><b>In a Jupyter environment, please rerun this cell to show the HTML representation or trust the notebook. <br />On GitHub, the HTML representation is unable to render, please try loading this page with nbviewer.org.</b></div><div class=\"sk-container\" hidden><div class=\"sk-item\"><div class=\"sk-estimator sk-toggleable\"><input class=\"sk-toggleable__control sk-hidden--visually\" id=\"sk-estimator-id-10\" type=\"checkbox\" checked><label for=\"sk-estimator-id-10\" class=\"sk-toggleable__label sk-toggleable__label-arrow\">RandomForestClassifier</label><div class=\"sk-toggleable__content\"><pre>RandomForestClassifier(max_leaf_nodes=16, n_estimators=500, random_state=42)</pre></div></div></div></div></div>"
      ],
      "text/plain": [
       "RandomForestClassifier(max_leaf_nodes=16, n_estimators=500, random_state=42)"
      ]
     },
     "execution_count": 117,
     "metadata": {},
     "output_type": "execute_result"
    }
   ],
   "source": [
    "rnd_clf.fit(X_train5, y_train5)"
   ]
  },
  {
   "cell_type": "markdown",
   "id": "c226ef34",
   "metadata": {},
   "source": [
    "### Predicting on train set (5%)"
   ]
  },
  {
   "cell_type": "code",
   "execution_count": 118,
   "id": "829c4d68",
   "metadata": {},
   "outputs": [
    {
     "name": "stdout",
     "output_type": "stream",
     "text": [
      "Confusion_Matrix (5%):\n",
      "[[   8   22    0]\n",
      " [   0 1435    1]\n",
      " [   0   27   18]]\n",
      "Accuracy_Score (5%): 0.9669093315684977\n",
      "\n"
     ]
    }
   ],
   "source": [
    "y_predict_train5 = rnd_clf.predict(X_train5)\n",
    "confusion_matrix_train5 = confusion_matrix(y_train5, y_predict_train5)\n",
    "accuracy_score_train5 = accuracy_score(y_train5, y_predict_train5)\n",
    "print(\"Confusion_Matrix (5%):\\n{}\"\n",
    "      .format(confusion_matrix_train5))\n",
    "print(\"Accuracy_Score (5%): {}\\n\"\n",
    "      .format(accuracy_score_train5))"
   ]
  },
  {
   "cell_type": "code",
   "execution_count": 119,
   "id": "771c67d2",
   "metadata": {},
   "outputs": [
    {
     "name": "stdout",
     "output_type": "stream",
     "text": [
      "Number of Rows Prediction Correctly (5%): 1461\n",
      "\n"
     ]
    }
   ],
   "source": [
    "diagonals_train5 = confusion_matrix_train5.diagonal().sum()\n",
    "print(\"Number of Rows Prediction Correctly (5%): {}\\n\"\n",
    "      .format(diagonals_train5))"
   ]
  },
  {
   "cell_type": "code",
   "execution_count": 120,
   "id": "b098b9d9",
   "metadata": {},
   "outputs": [],
   "source": [
    "TP_train5 = confusion_matrix_train5[1, 1]\n",
    "TN_train5 = confusion_matrix_train5[0, 0]\n",
    "FP_train5 = confusion_matrix_train5[0, 1]\n",
    "FN_train5 = confusion_matrix_train5[1, 0]"
   ]
  },
  {
   "cell_type": "code",
   "execution_count": 121,
   "id": "af8c799e",
   "metadata": {},
   "outputs": [
    {
     "data": {
      "text/plain": [
       "0.9670526039760063"
      ]
     },
     "execution_count": 121,
     "metadata": {},
     "output_type": "execute_result"
    }
   ],
   "source": [
    "precision_train5 = precision_score(y_train5, y_predict_train5, average = \"weighted\")\n",
    "precision_train5"
   ]
  },
  {
   "cell_type": "code",
   "execution_count": 122,
   "id": "04ea6da0",
   "metadata": {},
   "outputs": [
    {
     "data": {
      "text/plain": [
       "0.9669093315684977"
      ]
     },
     "execution_count": 122,
     "metadata": {},
     "output_type": "execute_result"
    }
   ],
   "source": [
    "recall_train5 = recall_score(y_train5, y_predict_train5, average = \"weighted\")\n",
    "recall_train5"
   ]
  },
  {
   "cell_type": "markdown",
   "id": "42265c79",
   "metadata": {},
   "source": [
    "### Predicting on test set (5%)"
   ]
  },
  {
   "cell_type": "code",
   "execution_count": 123,
   "id": "a44a4854",
   "metadata": {},
   "outputs": [
    {
     "name": "stdout",
     "output_type": "stream",
     "text": [
      "Confusion_Matrix (5%):\n",
      "[[  0  10   0]\n",
      " [  0 137   0]\n",
      " [  0  21   0]]\n",
      "Accuracy_Score (5%): 0.8154761904761905\n",
      "\n"
     ]
    }
   ],
   "source": [
    "y_predict_test5 = rnd_clf.predict(X_test5)\n",
    "confusion_matrix_test5 = confusion_matrix(y_test5, y_predict_test5)\n",
    "accuracy_score_test5 = accuracy_score(y_test5, y_predict_test5)\n",
    "print(\"Confusion_Matrix (5%):\\n{}\"\n",
    "      .format(confusion_matrix_test5))\n",
    "print(\"Accuracy_Score (5%): {}\\n\"\n",
    "      .format(accuracy_score_test5))"
   ]
  },
  {
   "cell_type": "code",
   "execution_count": 124,
   "id": "0beaff2c",
   "metadata": {},
   "outputs": [
    {
     "name": "stdout",
     "output_type": "stream",
     "text": [
      "Number of Rows Prediction Correctly (5%): 137\n",
      "\n"
     ]
    }
   ],
   "source": [
    "diagonals_test5 = confusion_matrix_test5.diagonal().sum()\n",
    "print(\"Number of Rows Prediction Correctly (5%): {}\\n\"\n",
    "      .format(diagonals_test5))"
   ]
  },
  {
   "cell_type": "code",
   "execution_count": 125,
   "id": "fdd8cb5f",
   "metadata": {},
   "outputs": [
    {
     "name": "stderr",
     "output_type": "stream",
     "text": [
      "C:\\Python39\\lib\\site-packages\\sklearn\\metrics\\_classification.py:1334: UndefinedMetricWarning: Precision is ill-defined and being set to 0.0 in labels with no predicted samples. Use `zero_division` parameter to control this behavior.\n",
      "  _warn_prf(average, modifier, msg_start, len(result))\n"
     ]
    },
    {
     "data": {
      "text/plain": [
       "0.6650014172335601"
      ]
     },
     "execution_count": 125,
     "metadata": {},
     "output_type": "execute_result"
    }
   ],
   "source": [
    "precision_test5 = precision_score(y_test5, y_predict_test5, average = \"weighted\")\n",
    "precision_test5 "
   ]
  },
  {
   "cell_type": "code",
   "execution_count": 126,
   "id": "dea25886",
   "metadata": {},
   "outputs": [
    {
     "data": {
      "text/plain": [
       "0.8154761904761905"
      ]
     },
     "execution_count": 126,
     "metadata": {},
     "output_type": "execute_result"
    }
   ],
   "source": [
    "recall_test5 = recall_score(y_test5, y_predict_test5, average = \"weighted\")\n",
    "recall_test5 "
   ]
  },
  {
   "cell_type": "markdown",
   "id": "5be8b649",
   "metadata": {},
   "source": [
    "## SKLearn Resample 5% "
   ]
  },
  {
   "cell_type": "code",
   "execution_count": 127,
   "id": "e2b44b7c",
   "metadata": {
    "scrolled": true
   },
   "outputs": [
    {
     "data": {
      "text/html": [
       "<style>#sk-container-id-11 {color: black;background-color: white;}#sk-container-id-11 pre{padding: 0;}#sk-container-id-11 div.sk-toggleable {background-color: white;}#sk-container-id-11 label.sk-toggleable__label {cursor: pointer;display: block;width: 100%;margin-bottom: 0;padding: 0.3em;box-sizing: border-box;text-align: center;}#sk-container-id-11 label.sk-toggleable__label-arrow:before {content: \"▸\";float: left;margin-right: 0.25em;color: #696969;}#sk-container-id-11 label.sk-toggleable__label-arrow:hover:before {color: black;}#sk-container-id-11 div.sk-estimator:hover label.sk-toggleable__label-arrow:before {color: black;}#sk-container-id-11 div.sk-toggleable__content {max-height: 0;max-width: 0;overflow: hidden;text-align: left;background-color: #f0f8ff;}#sk-container-id-11 div.sk-toggleable__content pre {margin: 0.2em;color: black;border-radius: 0.25em;background-color: #f0f8ff;}#sk-container-id-11 input.sk-toggleable__control:checked~div.sk-toggleable__content {max-height: 200px;max-width: 100%;overflow: auto;}#sk-container-id-11 input.sk-toggleable__control:checked~label.sk-toggleable__label-arrow:before {content: \"▾\";}#sk-container-id-11 div.sk-estimator input.sk-toggleable__control:checked~label.sk-toggleable__label {background-color: #d4ebff;}#sk-container-id-11 div.sk-label input.sk-toggleable__control:checked~label.sk-toggleable__label {background-color: #d4ebff;}#sk-container-id-11 input.sk-hidden--visually {border: 0;clip: rect(1px 1px 1px 1px);clip: rect(1px, 1px, 1px, 1px);height: 1px;margin: -1px;overflow: hidden;padding: 0;position: absolute;width: 1px;}#sk-container-id-11 div.sk-estimator {font-family: monospace;background-color: #f0f8ff;border: 1px dotted black;border-radius: 0.25em;box-sizing: border-box;margin-bottom: 0.5em;}#sk-container-id-11 div.sk-estimator:hover {background-color: #d4ebff;}#sk-container-id-11 div.sk-parallel-item::after {content: \"\";width: 100%;border-bottom: 1px solid gray;flex-grow: 1;}#sk-container-id-11 div.sk-label:hover label.sk-toggleable__label {background-color: #d4ebff;}#sk-container-id-11 div.sk-serial::before {content: \"\";position: absolute;border-left: 1px solid gray;box-sizing: border-box;top: 0;bottom: 0;left: 50%;z-index: 0;}#sk-container-id-11 div.sk-serial {display: flex;flex-direction: column;align-items: center;background-color: white;padding-right: 0.2em;padding-left: 0.2em;position: relative;}#sk-container-id-11 div.sk-item {position: relative;z-index: 1;}#sk-container-id-11 div.sk-parallel {display: flex;align-items: stretch;justify-content: center;background-color: white;position: relative;}#sk-container-id-11 div.sk-item::before, #sk-container-id-11 div.sk-parallel-item::before {content: \"\";position: absolute;border-left: 1px solid gray;box-sizing: border-box;top: 0;bottom: 0;left: 50%;z-index: -1;}#sk-container-id-11 div.sk-parallel-item {display: flex;flex-direction: column;z-index: 1;position: relative;background-color: white;}#sk-container-id-11 div.sk-parallel-item:first-child::after {align-self: flex-end;width: 50%;}#sk-container-id-11 div.sk-parallel-item:last-child::after {align-self: flex-start;width: 50%;}#sk-container-id-11 div.sk-parallel-item:only-child::after {width: 0;}#sk-container-id-11 div.sk-dashed-wrapped {border: 1px dashed gray;margin: 0 0.4em 0.5em 0.4em;box-sizing: border-box;padding-bottom: 0.4em;background-color: white;}#sk-container-id-11 div.sk-label label {font-family: monospace;font-weight: bold;display: inline-block;line-height: 1.2em;}#sk-container-id-11 div.sk-label-container {text-align: center;}#sk-container-id-11 div.sk-container {/* jupyter's `normalize.less` sets `[hidden] { display: none; }` but bootstrap.min.css set `[hidden] { display: none !important; }` so we also need the `!important` here to be able to override the default hidden behavior on the sphinx rendered scikit-learn.org. See: https://github.com/scikit-learn/scikit-learn/issues/21755 */display: inline-block !important;position: relative;}#sk-container-id-11 div.sk-text-repr-fallback {display: none;}</style><div id=\"sk-container-id-11\" class=\"sk-top-container\"><div class=\"sk-text-repr-fallback\"><pre>RandomForestClassifier(max_leaf_nodes=16, n_estimators=500, random_state=42)</pre><b>In a Jupyter environment, please rerun this cell to show the HTML representation or trust the notebook. <br />On GitHub, the HTML representation is unable to render, please try loading this page with nbviewer.org.</b></div><div class=\"sk-container\" hidden><div class=\"sk-item\"><div class=\"sk-estimator sk-toggleable\"><input class=\"sk-toggleable__control sk-hidden--visually\" id=\"sk-estimator-id-11\" type=\"checkbox\" checked><label for=\"sk-estimator-id-11\" class=\"sk-toggleable__label sk-toggleable__label-arrow\">RandomForestClassifier</label><div class=\"sk-toggleable__content\"><pre>RandomForestClassifier(max_leaf_nodes=16, n_estimators=500, random_state=42)</pre></div></div></div></div></div>"
      ],
      "text/plain": [
       "RandomForestClassifier(max_leaf_nodes=16, n_estimators=500, random_state=42)"
      ]
     },
     "execution_count": 127,
     "metadata": {},
     "output_type": "execute_result"
    }
   ],
   "source": [
    "rnd_clf.fit(X_train_upsampled5, y_train_upsampled5)"
   ]
  },
  {
   "cell_type": "markdown",
   "id": "bc2ae2a0",
   "metadata": {},
   "source": [
    "### [SKLEARN RESAMPLE] Predicting on train set (5%)"
   ]
  },
  {
   "cell_type": "code",
   "execution_count": 128,
   "id": "5ba7f180",
   "metadata": {},
   "outputs": [
    {
     "name": "stdout",
     "output_type": "stream",
     "text": [
      "Confusion_Matrix:\n",
      "[[  60  162    5]\n",
      " [   1 2981   21]\n",
      " [   0  171  391]]\n",
      "Accuracy_Score: 0.9050632911392406\n",
      "\n"
     ]
    }
   ],
   "source": [
    "y_predict_train5sk = rnd_clf.predict(X_train_upsampled5)\n",
    "confusion_matrix_train5sk = confusion_matrix(y_train_upsampled5, y_predict_train5sk)\n",
    "accuracy_score_train5sk = accuracy_score(y_train_upsampled5, y_predict_train5sk)\n",
    "print(\"Confusion_Matrix:\\n{}\"\n",
    "      .format(confusion_matrix_train5sk))\n",
    "print(\"Accuracy_Score: {}\\n\"\n",
    "      .format(accuracy_score_train5sk))"
   ]
  },
  {
   "cell_type": "code",
   "execution_count": 129,
   "id": "40a7647b",
   "metadata": {},
   "outputs": [
    {
     "name": "stdout",
     "output_type": "stream",
     "text": [
      "Number of Rows Prediction Correctly: 3432\n",
      "\n"
     ]
    }
   ],
   "source": [
    "skdiagonals_train5sk = confusion_matrix_train5sk.diagonal().sum()\n",
    "print(\"Number of Rows Prediction Correctly: {}\\n\"\n",
    "      .format(skdiagonals_train5sk))"
   ]
  },
  {
   "cell_type": "code",
   "execution_count": 130,
   "id": "c0cb3073",
   "metadata": {},
   "outputs": [
    {
     "data": {
      "text/plain": [
       "0.9102025506364911"
      ]
     },
     "execution_count": 130,
     "metadata": {},
     "output_type": "execute_result"
    }
   ],
   "source": [
    "precision_train5sk = precision_score(y_train_upsampled5, y_predict_train5sk, average = \"weighted\")\n",
    "precision_train5sk"
   ]
  },
  {
   "cell_type": "code",
   "execution_count": 131,
   "id": "0f70d33e",
   "metadata": {},
   "outputs": [
    {
     "data": {
      "text/plain": [
       "0.9050632911392406"
      ]
     },
     "execution_count": 131,
     "metadata": {},
     "output_type": "execute_result"
    }
   ],
   "source": [
    "recall_train5sk = recall_score(y_train_upsampled5, y_predict_train5sk, average = \"weighted\")\n",
    "recall_train5sk"
   ]
  },
  {
   "cell_type": "markdown",
   "id": "11dd35f9",
   "metadata": {},
   "source": [
    "### [SKLEARN RESAMPLE] Predicting on test set (5%)"
   ]
  },
  {
   "cell_type": "code",
   "execution_count": 132,
   "id": "dc300ef4",
   "metadata": {},
   "outputs": [
    {
     "name": "stdout",
     "output_type": "stream",
     "text": [
      "Confusion_Matrix:\n",
      "[[  0  10   0]\n",
      " [  0 137   0]\n",
      " [  0  21   0]]\n",
      "Accuracy_Score: 0.8154761904761905\n",
      "\n"
     ]
    }
   ],
   "source": [
    "y_predict_test5sk = rnd_clf.predict(X_test5)\n",
    "confusion_matrix_test5sk = confusion_matrix(y_test5, y_predict_test5sk)\n",
    "accuracy_score_test5sk = accuracy_score(y_test5, y_predict_test5sk)\n",
    "print(\"Confusion_Matrix:\\n{}\"\n",
    "      .format(confusion_matrix_test5sk))\n",
    "print(\"Accuracy_Score: {}\\n\"\n",
    "      .format(accuracy_score_test5sk))"
   ]
  },
  {
   "cell_type": "code",
   "execution_count": 133,
   "id": "0a7ce73c",
   "metadata": {},
   "outputs": [
    {
     "name": "stdout",
     "output_type": "stream",
     "text": [
      "Number of Rows Prediction Correctly: 137\n",
      "\n"
     ]
    }
   ],
   "source": [
    "diagonals_test5sk = confusion_matrix_test5sk.diagonal().sum()\n",
    "print(\"Number of Rows Prediction Correctly: {}\\n\"\n",
    "      .format(diagonals_test5sk))"
   ]
  },
  {
   "cell_type": "code",
   "execution_count": 134,
   "id": "45fa6c18",
   "metadata": {},
   "outputs": [
    {
     "name": "stderr",
     "output_type": "stream",
     "text": [
      "C:\\Python39\\lib\\site-packages\\sklearn\\metrics\\_classification.py:1334: UndefinedMetricWarning: Precision is ill-defined and being set to 0.0 in labels with no predicted samples. Use `zero_division` parameter to control this behavior.\n",
      "  _warn_prf(average, modifier, msg_start, len(result))\n"
     ]
    },
    {
     "data": {
      "text/plain": [
       "0.6650014172335601"
      ]
     },
     "execution_count": 134,
     "metadata": {},
     "output_type": "execute_result"
    }
   ],
   "source": [
    "precision_test5sk = precision_score(y_test5, y_predict_test5sk, average = \"weighted\")\n",
    "precision_test5sk "
   ]
  },
  {
   "cell_type": "code",
   "execution_count": 135,
   "id": "619c308d",
   "metadata": {
    "scrolled": true
   },
   "outputs": [
    {
     "data": {
      "text/plain": [
       "0.8154761904761905"
      ]
     },
     "execution_count": 135,
     "metadata": {},
     "output_type": "execute_result"
    }
   ],
   "source": [
    "recall_test5sk = recall_score(y_test5, y_predict_test5sk, average = \"weighted\")\n",
    "recall_test5sk "
   ]
  },
  {
   "cell_type": "markdown",
   "id": "fd9dc62a",
   "metadata": {},
   "source": [
    "## SMOTE Resample 5% "
   ]
  },
  {
   "cell_type": "code",
   "execution_count": 136,
   "id": "492707d4",
   "metadata": {
    "scrolled": true
   },
   "outputs": [
    {
     "name": "stderr",
     "output_type": "stream",
     "text": [
      "C:\\Users\\chloe\\AppData\\Local\\Temp\\ipykernel_31588\\2570895408.py:1: DataConversionWarning: A column-vector y was passed when a 1d array was expected. Please change the shape of y to (n_samples,), for example using ravel().\n",
      "  rnd_clf.fit(X_train_oversampled5, y_train_oversampled5)\n"
     ]
    },
    {
     "data": {
      "text/html": [
       "<style>#sk-container-id-12 {color: black;background-color: white;}#sk-container-id-12 pre{padding: 0;}#sk-container-id-12 div.sk-toggleable {background-color: white;}#sk-container-id-12 label.sk-toggleable__label {cursor: pointer;display: block;width: 100%;margin-bottom: 0;padding: 0.3em;box-sizing: border-box;text-align: center;}#sk-container-id-12 label.sk-toggleable__label-arrow:before {content: \"▸\";float: left;margin-right: 0.25em;color: #696969;}#sk-container-id-12 label.sk-toggleable__label-arrow:hover:before {color: black;}#sk-container-id-12 div.sk-estimator:hover label.sk-toggleable__label-arrow:before {color: black;}#sk-container-id-12 div.sk-toggleable__content {max-height: 0;max-width: 0;overflow: hidden;text-align: left;background-color: #f0f8ff;}#sk-container-id-12 div.sk-toggleable__content pre {margin: 0.2em;color: black;border-radius: 0.25em;background-color: #f0f8ff;}#sk-container-id-12 input.sk-toggleable__control:checked~div.sk-toggleable__content {max-height: 200px;max-width: 100%;overflow: auto;}#sk-container-id-12 input.sk-toggleable__control:checked~label.sk-toggleable__label-arrow:before {content: \"▾\";}#sk-container-id-12 div.sk-estimator input.sk-toggleable__control:checked~label.sk-toggleable__label {background-color: #d4ebff;}#sk-container-id-12 div.sk-label input.sk-toggleable__control:checked~label.sk-toggleable__label {background-color: #d4ebff;}#sk-container-id-12 input.sk-hidden--visually {border: 0;clip: rect(1px 1px 1px 1px);clip: rect(1px, 1px, 1px, 1px);height: 1px;margin: -1px;overflow: hidden;padding: 0;position: absolute;width: 1px;}#sk-container-id-12 div.sk-estimator {font-family: monospace;background-color: #f0f8ff;border: 1px dotted black;border-radius: 0.25em;box-sizing: border-box;margin-bottom: 0.5em;}#sk-container-id-12 div.sk-estimator:hover {background-color: #d4ebff;}#sk-container-id-12 div.sk-parallel-item::after {content: \"\";width: 100%;border-bottom: 1px solid gray;flex-grow: 1;}#sk-container-id-12 div.sk-label:hover label.sk-toggleable__label {background-color: #d4ebff;}#sk-container-id-12 div.sk-serial::before {content: \"\";position: absolute;border-left: 1px solid gray;box-sizing: border-box;top: 0;bottom: 0;left: 50%;z-index: 0;}#sk-container-id-12 div.sk-serial {display: flex;flex-direction: column;align-items: center;background-color: white;padding-right: 0.2em;padding-left: 0.2em;position: relative;}#sk-container-id-12 div.sk-item {position: relative;z-index: 1;}#sk-container-id-12 div.sk-parallel {display: flex;align-items: stretch;justify-content: center;background-color: white;position: relative;}#sk-container-id-12 div.sk-item::before, #sk-container-id-12 div.sk-parallel-item::before {content: \"\";position: absolute;border-left: 1px solid gray;box-sizing: border-box;top: 0;bottom: 0;left: 50%;z-index: -1;}#sk-container-id-12 div.sk-parallel-item {display: flex;flex-direction: column;z-index: 1;position: relative;background-color: white;}#sk-container-id-12 div.sk-parallel-item:first-child::after {align-self: flex-end;width: 50%;}#sk-container-id-12 div.sk-parallel-item:last-child::after {align-self: flex-start;width: 50%;}#sk-container-id-12 div.sk-parallel-item:only-child::after {width: 0;}#sk-container-id-12 div.sk-dashed-wrapped {border: 1px dashed gray;margin: 0 0.4em 0.5em 0.4em;box-sizing: border-box;padding-bottom: 0.4em;background-color: white;}#sk-container-id-12 div.sk-label label {font-family: monospace;font-weight: bold;display: inline-block;line-height: 1.2em;}#sk-container-id-12 div.sk-label-container {text-align: center;}#sk-container-id-12 div.sk-container {/* jupyter's `normalize.less` sets `[hidden] { display: none; }` but bootstrap.min.css set `[hidden] { display: none !important; }` so we also need the `!important` here to be able to override the default hidden behavior on the sphinx rendered scikit-learn.org. See: https://github.com/scikit-learn/scikit-learn/issues/21755 */display: inline-block !important;position: relative;}#sk-container-id-12 div.sk-text-repr-fallback {display: none;}</style><div id=\"sk-container-id-12\" class=\"sk-top-container\"><div class=\"sk-text-repr-fallback\"><pre>RandomForestClassifier(max_leaf_nodes=16, n_estimators=500, random_state=42)</pre><b>In a Jupyter environment, please rerun this cell to show the HTML representation or trust the notebook. <br />On GitHub, the HTML representation is unable to render, please try loading this page with nbviewer.org.</b></div><div class=\"sk-container\" hidden><div class=\"sk-item\"><div class=\"sk-estimator sk-toggleable\"><input class=\"sk-toggleable__control sk-hidden--visually\" id=\"sk-estimator-id-12\" type=\"checkbox\" checked><label for=\"sk-estimator-id-12\" class=\"sk-toggleable__label sk-toggleable__label-arrow\">RandomForestClassifier</label><div class=\"sk-toggleable__content\"><pre>RandomForestClassifier(max_leaf_nodes=16, n_estimators=500, random_state=42)</pre></div></div></div></div></div>"
      ],
      "text/plain": [
       "RandomForestClassifier(max_leaf_nodes=16, n_estimators=500, random_state=42)"
      ]
     },
     "execution_count": 136,
     "metadata": {},
     "output_type": "execute_result"
    }
   ],
   "source": [
    "rnd_clf.fit(X_train_oversampled5, y_train_oversampled5)"
   ]
  },
  {
   "cell_type": "markdown",
   "id": "c7fc5617",
   "metadata": {},
   "source": [
    "### [SMOTE] Predicting on train set (5%)"
   ]
  },
  {
   "cell_type": "code",
   "execution_count": 137,
   "id": "4549d8d4",
   "metadata": {},
   "outputs": [
    {
     "name": "stdout",
     "output_type": "stream",
     "text": [
      "Confusion_Matrix:\n",
      "[[1249  136   51]\n",
      " [  79 1263   94]\n",
      " [  16   36 1384]]\n",
      "Accuracy_Score: 0.904363974001857\n",
      "\n"
     ]
    }
   ],
   "source": [
    "y_predict_train5sm = rnd_clf.predict(X_train_oversampled5)\n",
    "confusion_matrix_train5sm = confusion_matrix(y_train_oversampled5, y_predict_train5sm)\n",
    "accuracy_score_train5sm = accuracy_score(y_train_oversampled5, y_predict_train5sm)\n",
    "print(\"Confusion_Matrix:\\n{}\"\n",
    "      .format(confusion_matrix_train5sm))\n",
    "print(\"Accuracy_Score: {}\\n\"\n",
    "      .format(accuracy_score_train5sm))"
   ]
  },
  {
   "cell_type": "code",
   "execution_count": 138,
   "id": "b5601414",
   "metadata": {},
   "outputs": [
    {
     "name": "stdout",
     "output_type": "stream",
     "text": [
      "Number of Rows Prediction Correctly: 3896\n",
      "\n"
     ]
    }
   ],
   "source": [
    "skdiagonals_train5sm = confusion_matrix_train5sm.diagonal().sum()\n",
    "print(\"Number of Rows Prediction Correctly: {}\\n\"\n",
    "      .format(skdiagonals_train5sm))"
   ]
  },
  {
   "cell_type": "code",
   "execution_count": 139,
   "id": "a7e7b52e",
   "metadata": {},
   "outputs": [
    {
     "data": {
      "text/plain": [
       "0.904873874894383"
      ]
     },
     "execution_count": 139,
     "metadata": {},
     "output_type": "execute_result"
    }
   ],
   "source": [
    "precision_train5sm = precision_score(y_train_oversampled5, y_predict_train5sm, average = \"weighted\")\n",
    "precision_train5sm"
   ]
  },
  {
   "cell_type": "code",
   "execution_count": 140,
   "id": "53c673f6",
   "metadata": {},
   "outputs": [
    {
     "data": {
      "text/plain": [
       "0.904363974001857"
      ]
     },
     "execution_count": 140,
     "metadata": {},
     "output_type": "execute_result"
    }
   ],
   "source": [
    "recall_train5sm = recall_score(y_train_oversampled5, y_predict_train5sm, average = \"weighted\")\n",
    "recall_train5sm"
   ]
  },
  {
   "cell_type": "markdown",
   "id": "fd7bc2fe",
   "metadata": {},
   "source": [
    "### [SMOTE] Predicting on test set (5%)"
   ]
  },
  {
   "cell_type": "code",
   "execution_count": 141,
   "id": "3d418688",
   "metadata": {},
   "outputs": [
    {
     "name": "stdout",
     "output_type": "stream",
     "text": [
      "Confusion_Matrix:\n",
      "[[  0   9   1]\n",
      " [  0 134   3]\n",
      " [  0  19   2]]\n",
      "Accuracy_Score: 0.8095238095238095\n",
      "\n"
     ]
    }
   ],
   "source": [
    "y_predict_test5sm = rnd_clf.predict(X_test5)\n",
    "confusion_matrix_test5sm = confusion_matrix(y_test5, y_predict_test5sm)\n",
    "accuracy_score_test5sm = accuracy_score(y_test5, y_predict_test5sm)\n",
    "print(\"Confusion_Matrix:\\n{}\"\n",
    "      .format(confusion_matrix_test5sm))\n",
    "print(\"Accuracy_Score: {}\\n\"\n",
    "      .format(accuracy_score_test5sm))"
   ]
  },
  {
   "cell_type": "code",
   "execution_count": 142,
   "id": "10482ed3",
   "metadata": {},
   "outputs": [
    {
     "name": "stdout",
     "output_type": "stream",
     "text": [
      "Number of Rows Prediction Correctly: 136\n",
      "\n"
     ]
    }
   ],
   "source": [
    "diagonals_test5sm = confusion_matrix_test5sm.diagonal().sum()\n",
    "print(\"Number of Rows Prediction Correctly: {}\\n\"\n",
    "      .format(diagonals_test5sm))"
   ]
  },
  {
   "cell_type": "code",
   "execution_count": 143,
   "id": "f38cd39a",
   "metadata": {},
   "outputs": [
    {
     "name": "stderr",
     "output_type": "stream",
     "text": [
      "C:\\Python39\\lib\\site-packages\\sklearn\\metrics\\_classification.py:1334: UndefinedMetricWarning: Precision is ill-defined and being set to 0.0 in labels with no predicted samples. Use `zero_division` parameter to control this behavior.\n",
      "  _warn_prf(average, modifier, msg_start, len(result))\n"
     ]
    },
    {
     "data": {
      "text/plain": [
       "0.7161963550852439"
      ]
     },
     "execution_count": 143,
     "metadata": {},
     "output_type": "execute_result"
    }
   ],
   "source": [
    "precision_test5sm = precision_score(y_test5, y_predict_test5sm, average = \"weighted\")\n",
    "precision_test5sm"
   ]
  },
  {
   "cell_type": "code",
   "execution_count": 144,
   "id": "fa1ecbe4",
   "metadata": {
    "scrolled": true
   },
   "outputs": [
    {
     "data": {
      "text/plain": [
       "0.8095238095238095"
      ]
     },
     "execution_count": 144,
     "metadata": {},
     "output_type": "execute_result"
    }
   ],
   "source": [
    "recall_test5sm= recall_score(y_test5, y_predict_test5sm, average = \"weighted\")\n",
    "recall_test5sm"
   ]
  },
  {
   "cell_type": "code",
   "execution_count": 146,
   "id": "b111b057",
   "metadata": {},
   "outputs": [
    {
     "data": {
      "text/html": [
       "<div>\n",
       "<style scoped>\n",
       "    .dataframe tbody tr th:only-of-type {\n",
       "        vertical-align: middle;\n",
       "    }\n",
       "\n",
       "    .dataframe tbody tr th {\n",
       "        vertical-align: top;\n",
       "    }\n",
       "\n",
       "    .dataframe thead th {\n",
       "        text-align: right;\n",
       "    }\n",
       "</style>\n",
       "<table border=\"1\" class=\"dataframe\">\n",
       "  <thead>\n",
       "    <tr style=\"text-align: right;\">\n",
       "      <th></th>\n",
       "      <th>model</th>\n",
       "      <th>accuracy</th>\n",
       "      <th>recall</th>\n",
       "      <th>precision</th>\n",
       "    </tr>\n",
       "  </thead>\n",
       "  <tbody>\n",
       "    <tr>\n",
       "      <th>0</th>\n",
       "      <td>RF 3%</td>\n",
       "      <td>0.511905</td>\n",
       "      <td>0.511905</td>\n",
       "      <td>0.262046</td>\n",
       "    </tr>\n",
       "    <tr>\n",
       "      <th>1</th>\n",
       "      <td>RF 3% SK Resample</td>\n",
       "      <td>0.470238</td>\n",
       "      <td>0.470238</td>\n",
       "      <td>0.445483</td>\n",
       "    </tr>\n",
       "    <tr>\n",
       "      <th>2</th>\n",
       "      <td>RF 3% SMOTE</td>\n",
       "      <td>0.500000</td>\n",
       "      <td>0.500000</td>\n",
       "      <td>0.461890</td>\n",
       "    </tr>\n",
       "    <tr>\n",
       "      <th>3</th>\n",
       "      <td>RF 5%</td>\n",
       "      <td>0.815476</td>\n",
       "      <td>0.815476</td>\n",
       "      <td>0.665001</td>\n",
       "    </tr>\n",
       "    <tr>\n",
       "      <th>4</th>\n",
       "      <td>RF 5% SK Resample</td>\n",
       "      <td>0.815476</td>\n",
       "      <td>0.815476</td>\n",
       "      <td>0.665001</td>\n",
       "    </tr>\n",
       "    <tr>\n",
       "      <th>5</th>\n",
       "      <td>RF 5% SMOTE</td>\n",
       "      <td>0.809524</td>\n",
       "      <td>0.809524</td>\n",
       "      <td>0.716196</td>\n",
       "    </tr>\n",
       "  </tbody>\n",
       "</table>\n",
       "</div>"
      ],
      "text/plain": [
       "               model  accuracy    recall  precision\n",
       "0              RF 3%  0.511905  0.511905   0.262046\n",
       "1  RF 3% SK Resample  0.470238  0.470238   0.445483\n",
       "2        RF 3% SMOTE  0.500000  0.500000   0.461890\n",
       "3              RF 5%  0.815476  0.815476   0.665001\n",
       "4  RF 5% SK Resample  0.815476  0.815476   0.665001\n",
       "5        RF 5% SMOTE  0.809524  0.809524   0.716196"
      ]
     },
     "execution_count": 146,
     "metadata": {},
     "output_type": "execute_result"
    }
   ],
   "source": [
    "dfrf = pd.DataFrame({\n",
    "    'model': ['RF 3%', 'RF 3% SK Resample', 'RF 3% SMOTE', 'RF 5%', 'RF 5% SK Resample', 'RF 5% SMOTE',],\n",
    "    'accuracy': [accuracy_score_test3,accuracy_score_test3sk, accuracy_score_test3sm, accuracy_score_test5,accuracy_score_test5sk, accuracy_score_test5sm],\n",
    "    'recall': [recall_test3, recall_test3sk, recall_test3sm, recall_test5, recall_test5sk, recall_test5sm],\n",
    "    'precision': [precision_test3, precision_test3sk, precision_test3sm, precision_test5, precision_test5sk, precision_test5sm],\n",
    "})\n",
    "\n",
    "dfrf"
   ]
  },
  {
   "cell_type": "code",
   "execution_count": null,
   "id": "8d3616b8",
   "metadata": {},
   "outputs": [],
   "source": []
  }
 ],
 "metadata": {
  "kernelspec": {
   "display_name": "Python 3 (ipykernel)",
   "language": "python",
   "name": "python3"
  },
  "language_info": {
   "codemirror_mode": {
    "name": "ipython",
    "version": 3
   },
   "file_extension": ".py",
   "mimetype": "text/x-python",
   "name": "python",
   "nbconvert_exporter": "python",
   "pygments_lexer": "ipython3",
   "version": "3.9.7"
  }
 },
 "nbformat": 4,
 "nbformat_minor": 5
}
