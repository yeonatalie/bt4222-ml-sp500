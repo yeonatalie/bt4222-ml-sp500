{
 "cells": [
  {
   "cell_type": "code",
   "execution_count": 1,
   "id": "bf3819dd",
   "metadata": {},
   "outputs": [],
   "source": [
    "import pandas as pd \n",
    "import numpy as np"
   ]
  },
  {
   "cell_type": "code",
   "execution_count": 2,
   "id": "252e7f2e",
   "metadata": {},
   "outputs": [],
   "source": [
    "X_train = pd.read_excel(r\"C:\\Users\\chloe\\Desktop\\Y4S1\\BT4222 DATA MINING\\GROUP PROJECT\\x_train.xlsx\")\n",
    "y_train = pd.read_excel(r\"C:\\Users\\chloe\\Desktop\\Y4S1\\BT4222 DATA MINING\\GROUP PROJECT\\y_train.xlsx\")\n",
    "\n",
    "X_test = pd.read_excel(r\"C:\\Users\\chloe\\Desktop\\Y4S1\\BT4222 DATA MINING\\GROUP PROJECT\\x_test.xlsx\")\n",
    "y_test = pd.read_excel(r\"C:\\Users\\chloe\\Desktop\\Y4S1\\BT4222 DATA MINING\\GROUP PROJECT\\y_test.xlsx\")"
   ]
  },
  {
   "cell_type": "code",
   "execution_count": 3,
   "id": "737a56da",
   "metadata": {},
   "outputs": [],
   "source": [
    "X_train = X_train.iloc[: , 1:]\n",
    "y_train = y_train.iloc[: , 1:]\n",
    "\n",
    "X_test = X_test.iloc[: , 1:]\n",
    "y_test = y_test.iloc[: , 1:]"
   ]
  },
  {
   "cell_type": "code",
   "execution_count": 4,
   "id": "b6f66bbd",
   "metadata": {},
   "outputs": [
    {
     "data": {
      "text/plain": [
       "((1511, 11), (168, 11), (1511, 1), (168, 1))"
      ]
     },
     "execution_count": 4,
     "metadata": {},
     "output_type": "execute_result"
    }
   ],
   "source": [
    "X_train.shape, X_test.shape, y_train.shape, y_test.shape"
   ]
  },
  {
   "cell_type": "code",
   "execution_count": 5,
   "id": "a23dcd48",
   "metadata": {},
   "outputs": [],
   "source": [
    "import sklearn\n",
    "assert sklearn.__version__ >= \"0.20\"\n",
    "\n",
    "np.random.seed(42)\n",
    "\n",
    "from sklearn.ensemble import RandomForestClassifier\n",
    "from sklearn.metrics import accuracy_score\n",
    "from sklearn.metrics import confusion_matrix"
   ]
  },
  {
   "cell_type": "code",
   "execution_count": 6,
   "id": "5892a0ba",
   "metadata": {},
   "outputs": [
    {
     "name": "stderr",
     "output_type": "stream",
     "text": [
      "C:\\Users\\chloe\\AppData\\Local\\Temp\\ipykernel_27180\\3105075459.py:2: DataConversionWarning: A column-vector y was passed when a 1d array was expected. Please change the shape of y to (n_samples,), for example using ravel().\n",
      "  rnd_clf.fit(X_train, y_train)\n"
     ]
    },
    {
     "data": {
      "text/html": [
       "<style>#sk-container-id-1 {color: black;background-color: white;}#sk-container-id-1 pre{padding: 0;}#sk-container-id-1 div.sk-toggleable {background-color: white;}#sk-container-id-1 label.sk-toggleable__label {cursor: pointer;display: block;width: 100%;margin-bottom: 0;padding: 0.3em;box-sizing: border-box;text-align: center;}#sk-container-id-1 label.sk-toggleable__label-arrow:before {content: \"▸\";float: left;margin-right: 0.25em;color: #696969;}#sk-container-id-1 label.sk-toggleable__label-arrow:hover:before {color: black;}#sk-container-id-1 div.sk-estimator:hover label.sk-toggleable__label-arrow:before {color: black;}#sk-container-id-1 div.sk-toggleable__content {max-height: 0;max-width: 0;overflow: hidden;text-align: left;background-color: #f0f8ff;}#sk-container-id-1 div.sk-toggleable__content pre {margin: 0.2em;color: black;border-radius: 0.25em;background-color: #f0f8ff;}#sk-container-id-1 input.sk-toggleable__control:checked~div.sk-toggleable__content {max-height: 200px;max-width: 100%;overflow: auto;}#sk-container-id-1 input.sk-toggleable__control:checked~label.sk-toggleable__label-arrow:before {content: \"▾\";}#sk-container-id-1 div.sk-estimator input.sk-toggleable__control:checked~label.sk-toggleable__label {background-color: #d4ebff;}#sk-container-id-1 div.sk-label input.sk-toggleable__control:checked~label.sk-toggleable__label {background-color: #d4ebff;}#sk-container-id-1 input.sk-hidden--visually {border: 0;clip: rect(1px 1px 1px 1px);clip: rect(1px, 1px, 1px, 1px);height: 1px;margin: -1px;overflow: hidden;padding: 0;position: absolute;width: 1px;}#sk-container-id-1 div.sk-estimator {font-family: monospace;background-color: #f0f8ff;border: 1px dotted black;border-radius: 0.25em;box-sizing: border-box;margin-bottom: 0.5em;}#sk-container-id-1 div.sk-estimator:hover {background-color: #d4ebff;}#sk-container-id-1 div.sk-parallel-item::after {content: \"\";width: 100%;border-bottom: 1px solid gray;flex-grow: 1;}#sk-container-id-1 div.sk-label:hover label.sk-toggleable__label {background-color: #d4ebff;}#sk-container-id-1 div.sk-serial::before {content: \"\";position: absolute;border-left: 1px solid gray;box-sizing: border-box;top: 0;bottom: 0;left: 50%;z-index: 0;}#sk-container-id-1 div.sk-serial {display: flex;flex-direction: column;align-items: center;background-color: white;padding-right: 0.2em;padding-left: 0.2em;position: relative;}#sk-container-id-1 div.sk-item {position: relative;z-index: 1;}#sk-container-id-1 div.sk-parallel {display: flex;align-items: stretch;justify-content: center;background-color: white;position: relative;}#sk-container-id-1 div.sk-item::before, #sk-container-id-1 div.sk-parallel-item::before {content: \"\";position: absolute;border-left: 1px solid gray;box-sizing: border-box;top: 0;bottom: 0;left: 50%;z-index: -1;}#sk-container-id-1 div.sk-parallel-item {display: flex;flex-direction: column;z-index: 1;position: relative;background-color: white;}#sk-container-id-1 div.sk-parallel-item:first-child::after {align-self: flex-end;width: 50%;}#sk-container-id-1 div.sk-parallel-item:last-child::after {align-self: flex-start;width: 50%;}#sk-container-id-1 div.sk-parallel-item:only-child::after {width: 0;}#sk-container-id-1 div.sk-dashed-wrapped {border: 1px dashed gray;margin: 0 0.4em 0.5em 0.4em;box-sizing: border-box;padding-bottom: 0.4em;background-color: white;}#sk-container-id-1 div.sk-label label {font-family: monospace;font-weight: bold;display: inline-block;line-height: 1.2em;}#sk-container-id-1 div.sk-label-container {text-align: center;}#sk-container-id-1 div.sk-container {/* jupyter's `normalize.less` sets `[hidden] { display: none; }` but bootstrap.min.css set `[hidden] { display: none !important; }` so we also need the `!important` here to be able to override the default hidden behavior on the sphinx rendered scikit-learn.org. See: https://github.com/scikit-learn/scikit-learn/issues/21755 */display: inline-block !important;position: relative;}#sk-container-id-1 div.sk-text-repr-fallback {display: none;}</style><div id=\"sk-container-id-1\" class=\"sk-top-container\"><div class=\"sk-text-repr-fallback\"><pre>RandomForestClassifier(max_leaf_nodes=16, n_estimators=500, random_state=42)</pre><b>In a Jupyter environment, please rerun this cell to show the HTML representation or trust the notebook. <br />On GitHub, the HTML representation is unable to render, please try loading this page with nbviewer.org.</b></div><div class=\"sk-container\" hidden><div class=\"sk-item\"><div class=\"sk-estimator sk-toggleable\"><input class=\"sk-toggleable__control sk-hidden--visually\" id=\"sk-estimator-id-1\" type=\"checkbox\" checked><label for=\"sk-estimator-id-1\" class=\"sk-toggleable__label sk-toggleable__label-arrow\">RandomForestClassifier</label><div class=\"sk-toggleable__content\"><pre>RandomForestClassifier(max_leaf_nodes=16, n_estimators=500, random_state=42)</pre></div></div></div></div></div>"
      ],
      "text/plain": [
       "RandomForestClassifier(max_leaf_nodes=16, n_estimators=500, random_state=42)"
      ]
     },
     "execution_count": 6,
     "metadata": {},
     "output_type": "execute_result"
    }
   ],
   "source": [
    "rnd_clf = RandomForestClassifier(n_estimators=500, max_leaf_nodes=16, random_state=42)\n",
    "rnd_clf.fit(X_train, y_train)"
   ]
  },
  {
   "cell_type": "markdown",
   "id": "2d402657",
   "metadata": {},
   "source": [
    "# Predicting on train set"
   ]
  },
  {
   "cell_type": "code",
   "execution_count": 7,
   "id": "fc2b1181",
   "metadata": {},
   "outputs": [
    {
     "name": "stdout",
     "output_type": "stream",
     "text": [
      "Confusion_Matrix:\n",
      "[[   8   22    0]\n",
      " [   0 1435    1]\n",
      " [   0   27   18]]\n",
      "Accuracy_Score: 0.9669093315684977\n",
      "\n"
     ]
    }
   ],
   "source": [
    "y_predict_train = rnd_clf.predict(X_train)\n",
    "confusion_matrix_train = confusion_matrix(y_train, y_predict_train)\n",
    "accuracy_score_train = accuracy_score(y_train, y_predict_train)\n",
    "print(\"Confusion_Matrix:\\n{}\"\n",
    "      .format(confusion_matrix_train))\n",
    "print(\"Accuracy_Score: {}\\n\"\n",
    "      .format(accuracy_score_train))"
   ]
  },
  {
   "cell_type": "code",
   "execution_count": 8,
   "id": "1c433ca0",
   "metadata": {},
   "outputs": [
    {
     "name": "stdout",
     "output_type": "stream",
     "text": [
      "Number of Rows Prediction Correctly: 1461\n",
      "\n"
     ]
    }
   ],
   "source": [
    "diagonals_train = confusion_matrix_train.diagonal().sum()\n",
    "print(\"Number of Rows Prediction Correctly: {}\\n\"\n",
    "      .format(diagonals_train))"
   ]
  },
  {
   "cell_type": "code",
   "execution_count": 9,
   "id": "6a342abb",
   "metadata": {},
   "outputs": [],
   "source": [
    "TP_train = confusion_matrix_train[1, 1]\n",
    "TN_train = confusion_matrix_train[0, 0]\n",
    "FP_train = confusion_matrix_train[0, 1]\n",
    "FN_train = confusion_matrix_train[1, 0]"
   ]
  },
  {
   "cell_type": "code",
   "execution_count": 10,
   "id": "36a897cd",
   "metadata": {},
   "outputs": [
    {
     "name": "stdout",
     "output_type": "stream",
     "text": [
      "0.7333333333333333\n"
     ]
    }
   ],
   "source": [
    "precision_train = print(FP_train / (TN_train + FP_train))\n",
    "precision_train "
   ]
  },
  {
   "cell_type": "code",
   "execution_count": 11,
   "id": "2f315798",
   "metadata": {},
   "outputs": [
    {
     "name": "stdout",
     "output_type": "stream",
     "text": [
      "1.0\n"
     ]
    }
   ],
   "source": [
    "recall_train = print(TP_train / (TP_train + FN_train))\n",
    "recall_train "
   ]
  },
  {
   "cell_type": "markdown",
   "id": "11dabb52",
   "metadata": {},
   "source": [
    "# Predicting on test set"
   ]
  },
  {
   "cell_type": "code",
   "execution_count": 12,
   "id": "8533fd18",
   "metadata": {},
   "outputs": [
    {
     "name": "stdout",
     "output_type": "stream",
     "text": [
      "Confusion_Matrix:\n",
      "[[  0  10   0]\n",
      " [  0 137   0]\n",
      " [  0  21   0]]\n",
      "Accuracy_Score: 0.8154761904761905\n",
      "\n"
     ]
    }
   ],
   "source": [
    "y_predict_test = rnd_clf.predict(X_test)\n",
    "confusion_matrix_test = confusion_matrix(y_test, y_predict_test)\n",
    "accuracy_score_test = accuracy_score(y_test, y_predict_test)\n",
    "print(\"Confusion_Matrix:\\n{}\"\n",
    "      .format(confusion_matrix_test))\n",
    "print(\"Accuracy_Score: {}\\n\"\n",
    "      .format(accuracy_score_test))"
   ]
  },
  {
   "cell_type": "code",
   "execution_count": 13,
   "id": "baa0dc12",
   "metadata": {},
   "outputs": [
    {
     "name": "stdout",
     "output_type": "stream",
     "text": [
      "Number of Rows Prediction Correctly: 137\n",
      "\n"
     ]
    }
   ],
   "source": [
    "diagonals_test = confusion_matrix_test.diagonal().sum()\n",
    "print(\"Number of Rows Prediction Correctly: {}\\n\"\n",
    "      .format(diagonals_test))"
   ]
  },
  {
   "cell_type": "code",
   "execution_count": 14,
   "id": "8ed483c4",
   "metadata": {},
   "outputs": [],
   "source": [
    "TP_test = confusion_matrix_test[1, 1]\n",
    "TN_test = confusion_matrix_test[0, 0]\n",
    "FP_test = confusion_matrix_test[0, 1]\n",
    "FN_test = confusion_matrix_test[1, 0]"
   ]
  },
  {
   "cell_type": "code",
   "execution_count": 15,
   "id": "a3ed18df",
   "metadata": {},
   "outputs": [
    {
     "name": "stdout",
     "output_type": "stream",
     "text": [
      "1.0\n"
     ]
    }
   ],
   "source": [
    "precision_test = print(FP_test / (TN_test + FP_test))\n",
    "precision_test "
   ]
  },
  {
   "cell_type": "code",
   "execution_count": 16,
   "id": "38254395",
   "metadata": {},
   "outputs": [
    {
     "name": "stdout",
     "output_type": "stream",
     "text": [
      "1.0\n"
     ]
    }
   ],
   "source": [
    "recall_test = print(TP_test / (TP_test + FN_test))\n",
    "recall_test "
   ]
  }
 ],
 "metadata": {
  "kernelspec": {
   "display_name": "Python 3 (ipykernel)",
   "language": "python",
   "name": "python3"
  },
  "language_info": {
   "codemirror_mode": {
    "name": "ipython",
    "version": 3
   },
   "file_extension": ".py",
   "mimetype": "text/x-python",
   "name": "python",
   "nbconvert_exporter": "python",
   "pygments_lexer": "ipython3",
   "version": "3.9.7"
  }
 },
 "nbformat": 4,
 "nbformat_minor": 5
}
