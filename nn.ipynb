{
 "cells": [
  {
   "cell_type": "code",
   "execution_count": 13,
   "metadata": {},
   "outputs": [],
   "source": [
    "import warnings\n",
    "warnings.simplefilter(action='ignore', category=FutureWarning)\n",
    "\n",
    "import numpy as np\n",
    "import pandas as pd\n",
    "import tensorflow as tf\n",
    "from tensorflow.keras import layers\n",
    "from matplotlib import pyplot as plt\n",
    "import seaborn as sns\n",
    "from keras.utils import np_utils"
   ]
  },
  {
   "cell_type": "code",
   "execution_count": 14,
   "metadata": {},
   "outputs": [],
   "source": [
    "X_train = pd.read_excel('data/model_inputs/x_train.xlsx', index_col=0)\n",
    "X_test = pd.read_excel('data/model_inputs/x_test.xlsx', index_col=0)\n",
    "y_train = pd.read_excel('data/model_inputs/y_train.xlsx', index_col=0)\n",
    "y_test = pd.read_excel('data/model_inputs/y_test.xlsx', index_col=0)"
   ]
  },
  {
   "cell_type": "code",
   "execution_count": 15,
   "metadata": {},
   "outputs": [
    {
     "data": {
      "text/plain": [
       "adj_close                      False\n",
       "reddit_pos_both                False\n",
       "reddit_neg_both                False\n",
       "reddit_neu_both                False\n",
       "nyt_pos                         True\n",
       "nyt_neg                         True\n",
       "nyt_neu                         True\n",
       "quarterly_gdp_actual           False\n",
       "monthly_cpi_actual             False\n",
       "monthly_st_ir_actual           False\n",
       "monthly_unemployment_actual    False\n",
       "dtype: bool"
      ]
     },
     "execution_count": 15,
     "metadata": {},
     "output_type": "execute_result"
    }
   ],
   "source": [
    "X_train.isnull().any()"
   ]
  },
  {
   "cell_type": "code",
   "execution_count": 3,
   "metadata": {},
   "outputs": [],
   "source": [
    "# shuffle the dataset! \n",
    "train_data = X_train.copy(deep=True)\n",
    "train_data['decision'] = y_train['decision']\n",
    "\n",
    "train_data = train_data.sample(frac=1)\n",
    "\n",
    "X_train = train_data.drop(['decision'], axis=1)\n",
    "y_train = pd.DataFrame(train_data['decision'])"
   ]
  },
  {
   "cell_type": "code",
   "execution_count": 4,
   "metadata": {},
   "outputs": [
    {
     "data": {
      "text/plain": [
       "{-1, 0, 1}"
      ]
     },
     "execution_count": 4,
     "metadata": {},
     "output_type": "execute_result"
    }
   ],
   "source": [
    "set(y_train['decision'])"
   ]
  },
  {
   "cell_type": "code",
   "execution_count": 5,
   "metadata": {},
   "outputs": [],
   "source": [
    "# convert to numpy arrays\n",
    "X_train = np.array(X_train)\n",
    "X_test = np.array(X_test)\n",
    "\n",
    "y_train = np.array(y_train['decision'])\n",
    "y_test = np.array(y_test['decision'])"
   ]
  },
  {
   "cell_type": "code",
   "execution_count": 6,
   "metadata": {},
   "outputs": [],
   "source": [
    "# one hot encode\n",
    "y_train = np_utils.to_categorical(y_train, num_classes=3)"
   ]
  },
  {
   "cell_type": "code",
   "execution_count": 7,
   "metadata": {},
   "outputs": [
    {
     "data": {
      "text/plain": [
       "array([[1., 0., 0.],\n",
       "       [1., 0., 0.],\n",
       "       [0., 1., 0.],\n",
       "       ...,\n",
       "       [1., 0., 0.],\n",
       "       [1., 0., 0.],\n",
       "       [1., 0., 0.]], dtype=float32)"
      ]
     },
     "execution_count": 7,
     "metadata": {},
     "output_type": "execute_result"
    }
   ],
   "source": [
    "y_train"
   ]
  },
  {
   "cell_type": "code",
   "execution_count": 8,
   "metadata": {},
   "outputs": [],
   "source": [
    "def plot_curve(hist):\n",
    "  \"\"\"Plot a curve of one or more classification metrics vs. epoch.\"\"\"  \n",
    "  # list_of_metrics should be one of the names shown in:\n",
    "  # https://www.tensorflow.org/tutorials/structured_data/imbalanced_data#define_the_model_and_metrics  \n",
    "\n",
    "  epochs = hist.epoch\n",
    "  f, ax = plt.subplots(ncols=2, figsize=(20,8))\n",
    "  ax[0].plot(epochs, hist.history['loss'], label='Training Loss')\n",
    "  ax[0].plot(epochs, hist.history['val_loss'], label='Validation Loss')\n",
    "  ax[0].set_xlabel('Epochs')\n",
    "  ax[0].set_ylabel('Loss')\n",
    "  ax[0].legend()\n",
    "  ax[1].plot(epochs, hist.history['accuracy'], label='Training Accuracy')\n",
    "  ax[1].plot(epochs, hist.history['val_accuracy'], label='Validation Accuracy')\n",
    "  ax[1].set_xlabel('Epochs')\n",
    "  ax[1].set_ylabel('Accuracy')\n",
    "  ax[1].legend()"
   ]
  },
  {
   "cell_type": "code",
   "execution_count": 9,
   "metadata": {},
   "outputs": [],
   "source": [
    "def create_model(my_learning_rate):\n",
    "  \"\"\"Create and compile a deep neural net.\"\"\"\n",
    "  \n",
    "  # All models in this course are sequential.\n",
    "  model = tf.keras.models.Sequential()\n",
    "\n",
    "  # Define the first hidden layer.   \n",
    "  model.add(tf.keras.layers.Dense(input_shape=(X_train.shape[1],), units=32, activation='relu')) ### remove flatten code\n",
    "  \n",
    "  # Define a dropout regularization layer. \n",
    "  model.add(tf.keras.layers.Dropout(rate=0.2))\n",
    "\n",
    "  # Define the output layer. The units parameter is set to 10 because\n",
    "  # the model must choose among 10 possible output values (representing\n",
    "  # the digits from 0 to 9, inclusive).\n",
    "  #\n",
    "  # Don't change this layer.\n",
    "  model.add(tf.keras.layers.Dense(units=3, activation='softmax'))    ### change to 2 ?? aft one hot encode, 1 feature dropped?\n",
    "                           \n",
    "  # Construct the layers into a model that TensorFlow can execute.  \n",
    "  # Notice that the loss function for multi-class classification\n",
    "  # is different than the loss function for binary classification.  \n",
    "  model.compile(optimizer=tf.keras.optimizers.Adam(learning_rate=my_learning_rate),\n",
    "                loss=\"categorical_crossentropy\", ### change to non sparse\n",
    "                metrics=['accuracy'])\n",
    "  \n",
    "  return model    \n",
    "\n",
    "\n",
    "def train_model(model, train_features, train_label, epochs,\n",
    "                batch_size=None, validation_split=0.1):\n",
    "  \"\"\"Train the model by feeding it data.\"\"\"\n",
    "\n",
    "  history = model.fit(x=train_features, y=train_label, batch_size=batch_size,\n",
    "                      epochs=epochs, shuffle=True, \n",
    "                      validation_split=validation_split)\n",
    "  \n",
    "  return history   "
   ]
  },
  {
   "cell_type": "code",
   "execution_count": 10,
   "metadata": {},
   "outputs": [
    {
     "name": "stdout",
     "output_type": "stream",
     "text": [
      "Epoch 1/50\n",
      "1/1 [==============================] - 0s 478ms/step - loss: nan - accuracy: 0.8311 - val_loss: nan - val_accuracy: 0.9373\n",
      "Epoch 2/50\n",
      "1/1 [==============================] - 0s 18ms/step - loss: nan - accuracy: 0.9536 - val_loss: nan - val_accuracy: 0.9373\n",
      "Epoch 3/50\n",
      "1/1 [==============================] - 0s 19ms/step - loss: nan - accuracy: 0.9536 - val_loss: nan - val_accuracy: 0.9373\n",
      "Epoch 4/50\n",
      "1/1 [==============================] - 0s 17ms/step - loss: nan - accuracy: 0.9536 - val_loss: nan - val_accuracy: 0.9373\n",
      "Epoch 5/50\n",
      "1/1 [==============================] - 0s 18ms/step - loss: nan - accuracy: 0.9536 - val_loss: nan - val_accuracy: 0.9373\n",
      "Epoch 6/50\n",
      "1/1 [==============================] - 0s 20ms/step - loss: nan - accuracy: 0.9536 - val_loss: nan - val_accuracy: 0.9373\n",
      "Epoch 7/50\n",
      "1/1 [==============================] - 0s 22ms/step - loss: nan - accuracy: 0.9536 - val_loss: nan - val_accuracy: 0.9373\n",
      "Epoch 8/50\n",
      "1/1 [==============================] - 0s 21ms/step - loss: nan - accuracy: 0.9536 - val_loss: nan - val_accuracy: 0.9373\n",
      "Epoch 9/50\n",
      "1/1 [==============================] - 0s 23ms/step - loss: nan - accuracy: 0.9536 - val_loss: nan - val_accuracy: 0.9373\n",
      "Epoch 10/50\n",
      "1/1 [==============================] - 0s 23ms/step - loss: nan - accuracy: 0.9536 - val_loss: nan - val_accuracy: 0.9373\n",
      "Epoch 11/50\n",
      "1/1 [==============================] - 0s 22ms/step - loss: nan - accuracy: 0.9536 - val_loss: nan - val_accuracy: 0.9373\n",
      "Epoch 12/50\n",
      "1/1 [==============================] - 0s 21ms/step - loss: nan - accuracy: 0.9536 - val_loss: nan - val_accuracy: 0.9373\n",
      "Epoch 13/50\n",
      "1/1 [==============================] - 0s 18ms/step - loss: nan - accuracy: 0.9536 - val_loss: nan - val_accuracy: 0.9373\n",
      "Epoch 14/50\n",
      "1/1 [==============================] - 0s 17ms/step - loss: nan - accuracy: 0.9536 - val_loss: nan - val_accuracy: 0.9373\n",
      "Epoch 15/50\n",
      "1/1 [==============================] - 0s 17ms/step - loss: nan - accuracy: 0.9536 - val_loss: nan - val_accuracy: 0.9373\n",
      "Epoch 16/50\n",
      "1/1 [==============================] - 0s 17ms/step - loss: nan - accuracy: 0.9536 - val_loss: nan - val_accuracy: 0.9373\n",
      "Epoch 17/50\n",
      "1/1 [==============================] - 0s 16ms/step - loss: nan - accuracy: 0.9536 - val_loss: nan - val_accuracy: 0.9373\n",
      "Epoch 18/50\n",
      "1/1 [==============================] - 0s 17ms/step - loss: nan - accuracy: 0.9536 - val_loss: nan - val_accuracy: 0.9373\n",
      "Epoch 19/50\n",
      "1/1 [==============================] - 0s 17ms/step - loss: nan - accuracy: 0.9536 - val_loss: nan - val_accuracy: 0.9373\n",
      "Epoch 20/50\n",
      "1/1 [==============================] - 0s 17ms/step - loss: nan - accuracy: 0.9536 - val_loss: nan - val_accuracy: 0.9373\n",
      "Epoch 21/50\n",
      "1/1 [==============================] - 0s 17ms/step - loss: nan - accuracy: 0.9536 - val_loss: nan - val_accuracy: 0.9373\n",
      "Epoch 22/50\n",
      "1/1 [==============================] - 0s 17ms/step - loss: nan - accuracy: 0.9536 - val_loss: nan - val_accuracy: 0.9373\n",
      "Epoch 23/50\n",
      "1/1 [==============================] - 0s 17ms/step - loss: nan - accuracy: 0.9536 - val_loss: nan - val_accuracy: 0.9373\n",
      "Epoch 24/50\n",
      "1/1 [==============================] - 0s 17ms/step - loss: nan - accuracy: 0.9536 - val_loss: nan - val_accuracy: 0.9373\n",
      "Epoch 25/50\n",
      "1/1 [==============================] - 0s 17ms/step - loss: nan - accuracy: 0.9536 - val_loss: nan - val_accuracy: 0.9373\n",
      "Epoch 26/50\n",
      "1/1 [==============================] - 0s 17ms/step - loss: nan - accuracy: 0.9536 - val_loss: nan - val_accuracy: 0.9373\n",
      "Epoch 27/50\n",
      "1/1 [==============================] - 0s 17ms/step - loss: nan - accuracy: 0.9536 - val_loss: nan - val_accuracy: 0.9373\n",
      "Epoch 28/50\n",
      "1/1 [==============================] - 0s 17ms/step - loss: nan - accuracy: 0.9536 - val_loss: nan - val_accuracy: 0.9373\n",
      "Epoch 29/50\n",
      "1/1 [==============================] - 0s 17ms/step - loss: nan - accuracy: 0.9536 - val_loss: nan - val_accuracy: 0.9373\n",
      "Epoch 30/50\n",
      "1/1 [==============================] - 0s 17ms/step - loss: nan - accuracy: 0.9536 - val_loss: nan - val_accuracy: 0.9373\n",
      "Epoch 31/50\n",
      "1/1 [==============================] - 0s 21ms/step - loss: nan - accuracy: 0.9536 - val_loss: nan - val_accuracy: 0.9373\n",
      "Epoch 32/50\n",
      "1/1 [==============================] - 0s 18ms/step - loss: nan - accuracy: 0.9536 - val_loss: nan - val_accuracy: 0.9373\n",
      "Epoch 33/50\n",
      "1/1 [==============================] - 0s 19ms/step - loss: nan - accuracy: 0.9536 - val_loss: nan - val_accuracy: 0.9373\n",
      "Epoch 34/50\n",
      "1/1 [==============================] - 0s 17ms/step - loss: nan - accuracy: 0.9536 - val_loss: nan - val_accuracy: 0.9373\n",
      "Epoch 35/50\n",
      "1/1 [==============================] - 0s 18ms/step - loss: nan - accuracy: 0.9536 - val_loss: nan - val_accuracy: 0.9373\n",
      "Epoch 36/50\n",
      "1/1 [==============================] - 0s 21ms/step - loss: nan - accuracy: 0.9536 - val_loss: nan - val_accuracy: 0.9373\n",
      "Epoch 37/50\n",
      "1/1 [==============================] - 0s 18ms/step - loss: nan - accuracy: 0.9536 - val_loss: nan - val_accuracy: 0.9373\n",
      "Epoch 38/50\n",
      "1/1 [==============================] - 0s 24ms/step - loss: nan - accuracy: 0.9536 - val_loss: nan - val_accuracy: 0.9373\n",
      "Epoch 39/50\n",
      "1/1 [==============================] - 0s 22ms/step - loss: nan - accuracy: 0.9536 - val_loss: nan - val_accuracy: 0.9373\n",
      "Epoch 40/50\n",
      "1/1 [==============================] - 0s 23ms/step - loss: nan - accuracy: 0.9536 - val_loss: nan - val_accuracy: 0.9373\n",
      "Epoch 41/50\n",
      "1/1 [==============================] - 0s 19ms/step - loss: nan - accuracy: 0.9536 - val_loss: nan - val_accuracy: 0.9373\n",
      "Epoch 42/50\n",
      "1/1 [==============================] - 0s 17ms/step - loss: nan - accuracy: 0.9536 - val_loss: nan - val_accuracy: 0.9373\n",
      "Epoch 43/50\n",
      "1/1 [==============================] - 0s 19ms/step - loss: nan - accuracy: 0.9536 - val_loss: nan - val_accuracy: 0.9373\n",
      "Epoch 44/50\n",
      "1/1 [==============================] - 0s 18ms/step - loss: nan - accuracy: 0.9536 - val_loss: nan - val_accuracy: 0.9373\n",
      "Epoch 45/50\n",
      "1/1 [==============================] - 0s 18ms/step - loss: nan - accuracy: 0.9536 - val_loss: nan - val_accuracy: 0.9373\n",
      "Epoch 46/50\n",
      "1/1 [==============================] - 0s 18ms/step - loss: nan - accuracy: 0.9536 - val_loss: nan - val_accuracy: 0.9373\n",
      "Epoch 47/50\n",
      "1/1 [==============================] - 0s 19ms/step - loss: nan - accuracy: 0.9536 - val_loss: nan - val_accuracy: 0.9373\n",
      "Epoch 48/50\n",
      "1/1 [==============================] - 0s 18ms/step - loss: nan - accuracy: 0.9536 - val_loss: nan - val_accuracy: 0.9373\n",
      "Epoch 49/50\n",
      "1/1 [==============================] - 0s 19ms/step - loss: nan - accuracy: 0.9536 - val_loss: nan - val_accuracy: 0.9373\n",
      "Epoch 50/50\n",
      "1/1 [==============================] - 0s 18ms/step - loss: nan - accuracy: 0.9536 - val_loss: nan - val_accuracy: 0.9373\n"
     ]
    }
   ],
   "source": [
    "# The following variables are the hyperparameters.\n",
    "learning_rate = 0.003\n",
    "epochs = 50\n",
    "batch_size = 4000\n",
    "validation_split = 0.2\n",
    "\n",
    "# Establish the model's topography.\n",
    "my_model = create_model(learning_rate)\n",
    "\n",
    "# Train the model on the normalized training set.\n",
    "hist = train_model(my_model, X_train, y_train, epochs, batch_size, validation_split)"
   ]
  },
  {
   "cell_type": "code",
   "execution_count": 11,
   "metadata": {},
   "outputs": [
    {
     "data": {
      "image/png": "[encoded data removed]",
      "text/plain": [
       "<Figure size 1440x576 with 2 Axes>"
      ]
     },
     "metadata": {
      "needs_background": "light"
     },
     "output_type": "display_data"
    }
   ],
   "source": [
    "# Plot a graph of the metric vs. epochs.\n",
    "plot_curve(hist)"
   ]
  },
  {
   "cell_type": "code",
   "execution_count": null,
   "metadata": {},
   "outputs": [],
   "source": []
  }
 ],
 "metadata": {
  "kernelspec": {
   "display_name": "Python 3.8.8 ('base')",
   "language": "python",
   "name": "python3"
  },
  "language_info": {
   "codemirror_mode": {
    "name": "ipython",
    "version": 3
   },
   "file_extension": ".py",
   "mimetype": "text/x-python",
   "name": "python",
   "nbconvert_exporter": "python",
   "pygments_lexer": "ipython3",
   "version": "3.8.8"
  },
  "orig_nbformat": 4,
  "vscode": {
   "interpreter": {
    "hash": "7d4736924dd4ee01619834d3df5aac36876c141d93beb7feebfa3d7eb88b873d"
   }
  }
 },
 "nbformat": 4,
 "nbformat_minor": 2
}
