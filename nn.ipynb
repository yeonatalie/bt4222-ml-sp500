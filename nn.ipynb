{
 "cells": [
  {
   "cell_type": "code",
   "execution_count": 1,
   "metadata": {},
   "outputs": [
    {
     "name": "stderr",
     "output_type": "stream",
     "text": [
      "2022-10-30 00:04:24.888678: I tensorflow/core/platform/cpu_feature_guard.cc:193] This TensorFlow binary is optimized with oneAPI Deep Neural Network Library (oneDNN) to use the following CPU instructions in performance-critical operations:  SSE4.1 SSE4.2\n",
      "To enable them in other operations, rebuild TensorFlow with the appropriate compiler flags.\n"
     ]
    }
   ],
   "source": [
    "random_seed = 1\n",
    "import random\n",
    "random.seed(random_seed)\n",
    "\n",
    "import numpy as np\n",
    "# set the random seed to make the experiment reproducible\n",
    "\n",
    "np.random.seed(random_seed)\n",
    "\n",
    "import tensorflow\n",
    "# set seed\n",
    "tensorflow.random.set_seed(random_seed)"
   ]
  },
  {
   "cell_type": "code",
   "execution_count": 2,
   "metadata": {},
   "outputs": [],
   "source": [
    "import warnings\n",
    "warnings.simplefilter(action='ignore', category=FutureWarning)\n",
    "\n",
    "import numpy as np\n",
    "import pandas as pd\n",
    "import tensorflow as tf\n",
    "assert tf.__version__ >= \"2.0\"\n",
    "from tensorflow.keras import layers\n",
    "from matplotlib import pyplot as plt\n",
    "import seaborn as sns\n",
    "from keras.utils import np_utils\n",
    "\n",
    "# imblean provides tools for us to deal with imbalanced class sizes\n",
    "from imblearn.over_sampling import SMOTE \n",
    "from imblearn.under_sampling import EditedNearestNeighbours\n",
    "from imblearn.combine import SMOTEENN\n",
    "\n",
    "# example of random oversampling to balance the class distribution\n",
    "from collections import Counter\n",
    "from sklearn.datasets import make_classification\n",
    "from imblearn.over_sampling import RandomOverSampler\n",
    "\n",
    "from imblearn.over_sampling import ADASYN\n",
    "\n",
    "import sklearn\n",
    "assert sklearn.__version__ >= \"0.20\"\n",
    "\n",
    "# Python ≥3.5 is required\n",
    "import sys\n",
    "assert sys.version_info >= (3, 5)"
   ]
  },
  {
   "cell_type": "code",
   "execution_count": 3,
   "metadata": {},
   "outputs": [],
   "source": [
    "X_train_df = pd.read_excel('data/model_inputs/x_train_3perc.xlsx', index_col=0)\n",
    "X_test_df = pd.read_excel('data/model_inputs/x_test_3perc.xlsx', index_col=0)\n",
    "y_train_df = pd.read_excel('data/model_inputs/y_train_3perc.xlsx', index_col=0)\n",
    "y_test_df = pd.read_excel('data/model_inputs/y_test_3perc.xlsx', index_col=0)"
   ]
  },
  {
   "cell_type": "code",
   "execution_count": 4,
   "metadata": {},
   "outputs": [
    {
     "data": {
      "text/html": [
       "<div>\n",
       "<style scoped>\n",
       "    .dataframe tbody tr th:only-of-type {\n",
       "        vertical-align: middle;\n",
       "    }\n",
       "\n",
       "    .dataframe tbody tr th {\n",
       "        vertical-align: top;\n",
       "    }\n",
       "\n",
       "    .dataframe thead th {\n",
       "        text-align: right;\n",
       "    }\n",
       "</style>\n",
       "<table border=\"1\" class=\"dataframe\">\n",
       "  <thead>\n",
       "    <tr style=\"text-align: right;\">\n",
       "      <th></th>\n",
       "      <th>index</th>\n",
       "    </tr>\n",
       "    <tr>\n",
       "      <th>decision</th>\n",
       "      <th></th>\n",
       "    </tr>\n",
       "  </thead>\n",
       "  <tbody>\n",
       "    <tr>\n",
       "      <th>-1</th>\n",
       "      <td>147</td>\n",
       "    </tr>\n",
       "    <tr>\n",
       "      <th>0</th>\n",
       "      <td>1264</td>\n",
       "    </tr>\n",
       "    <tr>\n",
       "      <th>1</th>\n",
       "      <td>100</td>\n",
       "    </tr>\n",
       "  </tbody>\n",
       "</table>\n",
       "</div>"
      ],
      "text/plain": [
       "          index\n",
       "decision       \n",
       "-1          147\n",
       " 0         1264\n",
       " 1          100"
      ]
     },
     "execution_count": 4,
     "metadata": {},
     "output_type": "execute_result"
    }
   ],
   "source": [
    "pd.DataFrame(y_train_df.reset_index()).groupby('decision').count()"
   ]
  },
  {
   "cell_type": "markdown",
   "metadata": {},
   "source": [
    "### Oversampling"
   ]
  },
  {
   "cell_type": "code",
   "execution_count": 5,
   "metadata": {},
   "outputs": [],
   "source": [
    "def smote(X_train, y_train):\n",
    "    sm = SMOTE(sampling_strategy='not majority')\n",
    "    X_train_oversampled, y_train_oversampled = sm.fit_resample(X_train, y_train)\n",
    "    return X_train_oversampled, y_train_oversampled\n",
    "\n",
    "def random_oversampler(X_train, y_train):\n",
    "    oversample = RandomOverSampler(sampling_strategy='not majority')\n",
    "    X_over, y_over = oversample.fit_resample(X_train, y_train)\n",
    "    return X_over, y_over\n",
    "\n",
    "def adasyn(X_train, y_train):\n",
    "    ada = ADASYN(sampling_strategy = 'not majority')\n",
    "    X_resampled, y_resampled = ADASYN().fit_resample(X_train, y_train)\n",
    "    return X_resampled, y_resampled"
   ]
  },
  {
   "cell_type": "code",
   "execution_count": 6,
   "metadata": {},
   "outputs": [
    {
     "data": {
      "text/plain": [
       "decision\n",
       "-1          1264\n",
       " 0          1264\n",
       " 1          1264\n",
       "dtype: int64"
      ]
     },
     "execution_count": 6,
     "metadata": {},
     "output_type": "execute_result"
    }
   ],
   "source": [
    "sm = smote(X_train_df, y_train_df)\n",
    "sm[1].value_counts()"
   ]
  },
  {
   "cell_type": "code",
   "execution_count": 7,
   "metadata": {},
   "outputs": [
    {
     "data": {
      "text/plain": [
       "decision\n",
       "-1          1264\n",
       " 0          1264\n",
       " 1          1264\n",
       "dtype: int64"
      ]
     },
     "execution_count": 7,
     "metadata": {},
     "output_type": "execute_result"
    }
   ],
   "source": [
    "random_oversampling = random_oversampler(X_train_df, y_train_df)\n",
    "random_oversampling[1].value_counts()"
   ]
  },
  {
   "cell_type": "code",
   "execution_count": 8,
   "metadata": {},
   "outputs": [
    {
     "data": {
      "text/plain": [
       "decision\n",
       " 0          1264\n",
       " 1          1258\n",
       "-1          1235\n",
       "dtype: int64"
      ]
     },
     "execution_count": 8,
     "metadata": {},
     "output_type": "execute_result"
    }
   ],
   "source": [
    "ada = adasyn(X_train_df, y_train_df)\n",
    "ada[1].value_counts()"
   ]
  },
  {
   "cell_type": "markdown",
   "metadata": {},
   "source": [
    "### Shuffle + Numpy Array"
   ]
  },
  {
   "cell_type": "code",
   "execution_count": 9,
   "metadata": {},
   "outputs": [],
   "source": [
    "def shuffle_numpy_encode(X_train, X_test, y_train, y_test):\n",
    "    # shuffle the dataset! \n",
    "    train_data = X_train.copy(deep=True)\n",
    "    train_data['decision'] = y_train['decision']\n",
    "\n",
    "    train_data = train_data.sample(frac=1)\n",
    "\n",
    "    X_train = train_data.drop(['decision'], axis=1)\n",
    "    y_train = pd.DataFrame(train_data['decision'])\n",
    "    \n",
    "    # convert to numpy arrays\n",
    "    X_train = np.array(X_train).astype(dtype='float64')\n",
    "    X_test = np.array(X_test).astype(dtype='float64')\n",
    "\n",
    "    y_train = np.array(y_train['decision'])\n",
    "    y_test = np.array(y_test['decision'])\n",
    "\n",
    "    # one hot encode\n",
    "    # y_train = np_utils.to_categorical(y_train, num_classes=3)\n",
    "    # y_test = np_utils.to_categorical(y_test, num_classes=3)\n",
    "\n",
    "    y_train = np.array(list(map(lambda x: 2 if x==-1 else x, y_train))).astype(dtype='uint8')\n",
    "    y_test = np.array(list(map(lambda x: 2 if x==-1 else x, y_test))).astype(dtype='uint8')\n",
    "\n",
    "\n",
    "    return X_train, X_test, y_train, y_test"
   ]
  },
  {
   "cell_type": "code",
   "execution_count": 10,
   "metadata": {},
   "outputs": [],
   "source": [
    "def plot_curve(hist):\n",
    "  \"\"\"Plot a curve of one or more classification metrics vs. epoch.\"\"\"  \n",
    "  # list_of_metrics should be one of the names shown in:\n",
    "  # https://www.tensorflow.org/tutorials/structured_data/imbalanced_data#define_the_model_and_metrics  \n",
    "\n",
    "  epochs = hist.epoch\n",
    "  f, ax = plt.subplots(ncols=2, figsize=(20,8))\n",
    "  ax[0].plot(epochs, hist.history['loss'], label='Training Loss')\n",
    "  ax[0].plot(epochs, hist.history['val_loss'], label='Validation Loss')\n",
    "  ax[0].set_xlabel('Epochs')\n",
    "  ax[0].set_ylabel('Loss')\n",
    "  ax[0].legend()\n",
    "  ax[1].plot(epochs, hist.history['accuracy'], label='Training Accuracy')\n",
    "  ax[1].plot(epochs, hist.history['val_accuracy'], label='Validation Accuracy')\n",
    "  ax[1].set_xlabel('Epochs')\n",
    "  ax[1].set_ylabel('Accuracy')\n",
    "  ax[1].legend()"
   ]
  },
  {
   "cell_type": "code",
   "execution_count": 11,
   "metadata": {},
   "outputs": [],
   "source": [
    "from tabnanny import verbose\n",
    "\n",
    "\n",
    "def create_model(my_learning_rate):\n",
    "  \"\"\"Create and compile a deep neural net.\"\"\"\n",
    "  model = tf.keras.models.Sequential()\n",
    "  model.add(tf.keras.layers.Dense(input_shape=(X_train_df.shape[1],), units=300, activation='relu'))\n",
    "  model.add(tf.keras.layers.Dense(units=100, activation='relu'))\n",
    "    # Define a dropout regularization layer. \n",
    "  model.add(tf.keras.layers.Dropout(rate=0.2))\n",
    "  model.add(tf.keras.layers.Dense(units=3, activation='softmax'))    \n",
    "                           \n",
    "  # # Construct the layers into a model that TensorFlow can execute.  \n",
    "  # # Notice that the loss function for multi-class classification\n",
    "  # # is different than the loss function for binary classification.  \n",
    "  # model.compile(optimizer=tf.keras.optimizers.Adam(learning_rate=my_learning_rate),\n",
    "  #               loss=\"sparse_categorical_crossentropy\", \n",
    "  #               metrics=['accuracy', tf.keras.metrics.Recall(), tf.keras.metrics.Precision()])\n",
    "  \n",
    "  model.compile(optimizer=tf.keras.optimizers.Adam(learning_rate=my_learning_rate), loss=\"sparse_categorical_crossentropy\", metrics=['accuracy'])\n",
    "\n",
    "  return model    \n",
    "\n",
    "\n",
    "def train_model(model, train_features, train_label, epochs,\n",
    "                validation_data, batch_size=None):\n",
    "  \"\"\"Train the model by feeding it data.\"\"\"\n",
    "\n",
    "  history = model.fit(x=train_features, y=train_label, batch_size=batch_size,\n",
    "                      epochs=epochs, shuffle=True, \n",
    "                      validation_data=validation_data, verbose=0)\n",
    "  \n",
    "  return history   "
   ]
  },
  {
   "cell_type": "markdown",
   "metadata": {},
   "source": [
    "### Train Model"
   ]
  },
  {
   "cell_type": "code",
   "execution_count": 12,
   "metadata": {},
   "outputs": [
    {
     "name": "stderr",
     "output_type": "stream",
     "text": [
      "2022-10-30 00:04:30.158385: I tensorflow/core/platform/cpu_feature_guard.cc:193] This TensorFlow binary is optimized with oneAPI Deep Neural Network Library (oneDNN) to use the following CPU instructions in performance-critical operations:  SSE4.1 SSE4.2\n",
      "To enable them in other operations, rebuild TensorFlow with the appropriate compiler flags.\n"
     ]
    }
   ],
   "source": [
    "# The following variables are the hyperparameters.\n",
    "learning_rate = 0.003\n",
    "epochs = 50\n",
    "batch_size = 4000\n",
    "validation_split = 0.1\n",
    "\n",
    "# Establish the model's topography.\n",
    "my_model = create_model(learning_rate)"
   ]
  },
  {
   "cell_type": "code",
   "execution_count": 13,
   "metadata": {},
   "outputs": [],
   "source": [
    "results = pd.DataFrame(columns=['loss', 'accuracy'])"
   ]
  },
  {
   "cell_type": "markdown",
   "metadata": {},
   "source": [
    "SMOTE Results"
   ]
  },
  {
   "cell_type": "code",
   "execution_count": 14,
   "metadata": {},
   "outputs": [],
   "source": [
    "X_train, X_test, y_train, y_test = shuffle_numpy_encode(X_train_df, X_test_df, y_train_df, y_test_df)"
   ]
  },
  {
   "cell_type": "code",
   "execution_count": 15,
   "metadata": {},
   "outputs": [],
   "source": [
    "X_valid = X_train[0:400]\n",
    "X_train = X_train[400:]\n",
    "\n",
    "y_valid = y_train[0:400]\n",
    "y_train = y_train[400:]"
   ]
  },
  {
   "cell_type": "code",
   "execution_count": 16,
   "metadata": {},
   "outputs": [],
   "source": [
    "sm = smote(X_train, y_train)\n",
    "X_train = sm[0]\n",
    "y_train = sm[1]"
   ]
  },
  {
   "cell_type": "code",
   "execution_count": 17,
   "metadata": {},
   "outputs": [
    {
     "name": "stdout",
     "output_type": "stream",
     "text": [
      "6/6 [==============================] - 0s 806us/step - loss: 3.1878 - accuracy: 0.5119\n"
     ]
    },
    {
     "data": {
      "image/png": "[encoded data removed]",
      "text/plain": [
       "<Figure size 1440x576 with 2 Axes>"
      ]
     },
     "metadata": {
      "needs_background": "light"
     },
     "output_type": "display_data"
    }
   ],
   "source": [
    "# Train the model on the normalized training set.\n",
    "hist = train_model(my_model, X_train, y_train, epochs, (X_valid, y_valid), batch_size)\n",
    "# Plot a graph of the metric vs. epochs.\n",
    "plot_curve(hist)\n",
    "# # Evaluate on Test & Save results\n",
    "results.loc['smote'] = list(my_model.evaluate(X_test, y_test))"
   ]
  },
  {
   "cell_type": "code",
   "execution_count": 18,
   "metadata": {},
   "outputs": [
    {
     "data": {
      "text/html": [
       "<div>\n",
       "<style scoped>\n",
       "    .dataframe tbody tr th:only-of-type {\n",
       "        vertical-align: middle;\n",
       "    }\n",
       "\n",
       "    .dataframe tbody tr th {\n",
       "        vertical-align: top;\n",
       "    }\n",
       "\n",
       "    .dataframe thead th {\n",
       "        text-align: right;\n",
       "    }\n",
       "</style>\n",
       "<table border=\"1\" class=\"dataframe\">\n",
       "  <thead>\n",
       "    <tr style=\"text-align: right;\">\n",
       "      <th></th>\n",
       "      <th>loss</th>\n",
       "      <th>accuracy</th>\n",
       "    </tr>\n",
       "  </thead>\n",
       "  <tbody>\n",
       "    <tr>\n",
       "      <th>smote</th>\n",
       "      <td>3.187829</td>\n",
       "      <td>0.511905</td>\n",
       "    </tr>\n",
       "  </tbody>\n",
       "</table>\n",
       "</div>"
      ],
      "text/plain": [
       "           loss  accuracy\n",
       "smote  3.187829  0.511905"
      ]
     },
     "execution_count": 18,
     "metadata": {},
     "output_type": "execute_result"
    }
   ],
   "source": [
    "results"
   ]
  },
  {
   "cell_type": "code",
   "execution_count": 19,
   "metadata": {},
   "outputs": [
    {
     "name": "stdout",
     "output_type": "stream",
     "text": [
      "6/6 [==============================] - 0s 720us/step\n"
     ]
    }
   ],
   "source": [
    "predict_x=my_model.predict(X_test) \n",
    "predictions=np.argmax(predict_x,axis=1)"
   ]
  },
  {
   "cell_type": "code",
   "execution_count": 20,
   "metadata": {},
   "outputs": [
    {
     "data": {
      "text/plain": [
       "{0, 1, 2}"
      ]
     },
     "execution_count": 20,
     "metadata": {},
     "output_type": "execute_result"
    }
   ],
   "source": [
    "# check predictions\n",
    "set(predictions)"
   ]
  },
  {
   "cell_type": "code",
   "execution_count": 21,
   "metadata": {},
   "outputs": [
    {
     "data": {
      "text/plain": [
       "array([[[  4,  78],\n",
       "        [  4,  82]],\n",
       "\n",
       "       [[125,   0],\n",
       "        [ 42,   1]],\n",
       "\n",
       "       [[161,   7],\n",
       "        [  0,   0]]])"
      ]
     },
     "execution_count": 21,
     "metadata": {},
     "output_type": "execute_result"
    }
   ],
   "source": [
    "#confusion matrix\n",
    "sklearn.metrics.multilabel_confusion_matrix(\n",
    "    np.array(y_test_df['decision']),\n",
    "    predictions,\n",
    "    labels=[0,1,2]\n",
    "    # num_classes=3,\n",
    "    # weights=None,\n",
    "    # dtype=tf.dtypes.int32,\n",
    "    # name=None\n",
    ")"
   ]
  },
  {
   "cell_type": "code",
   "execution_count": 22,
   "metadata": {},
   "outputs": [
    {
     "data": {
      "text/plain": [
       "0.35290404040404033"
      ]
     },
     "execution_count": 22,
     "metadata": {},
     "output_type": "execute_result"
    }
   ],
   "source": [
    "sklearn.metrics.f1_score(y_test_df['decision'],predictions, average='weighted')"
   ]
  },
  {
   "cell_type": "markdown",
   "metadata": {},
   "source": [
    "Random Oversampling Results"
   ]
  },
  {
   "cell_type": "code",
   "execution_count": 20,
   "metadata": {},
   "outputs": [],
   "source": [
    "X_train, X_test, y_train, y_test = shuffle_numpy_encode(random_oversampling[0], X_test_df, random_oversampling[1], y_test_df)"
   ]
  },
  {
   "cell_type": "code",
   "execution_count": 21,
   "metadata": {},
   "outputs": [
    {
     "name": "stdout",
     "output_type": "stream",
     "text": [
      "6/6 [==============================] - 0s 733us/step - loss: 3.1851 - accuracy: 0.5119\n"
     ]
    },
    {
     "data": {
      "image/png": "[encoded data removed]",
      "text/plain": [
       "<Figure size 1440x576 with 2 Axes>"
      ]
     },
     "metadata": {
      "needs_background": "light"
     },
     "output_type": "display_data"
    }
   ],
   "source": [
    "# Train the model on the normalized training set.\n",
    "hist = train_model(my_model, X_train, y_train, epochs, batch_size, validation_split)\n",
    "# Plot a graph of the metric vs. epochs.\n",
    "plot_curve(hist)\n",
    "# Evaluate on Test & Save results\n",
    "results.loc['random_oversampling'] = list(my_model.evaluate(X_test, y_test))"
   ]
  },
  {
   "cell_type": "markdown",
   "metadata": {},
   "source": [
    "ADASYN"
   ]
  },
  {
   "cell_type": "code",
   "execution_count": 22,
   "metadata": {},
   "outputs": [],
   "source": [
    "X_train, X_test, y_train, y_test = shuffle_numpy_encode(ada[0], X_test_df, ada[1], y_test_df)"
   ]
  },
  {
   "cell_type": "code",
   "execution_count": 23,
   "metadata": {},
   "outputs": [
    {
     "name": "stdout",
     "output_type": "stream",
     "text": [
      "6/6 [==============================] - 0s 722us/step - loss: 5.6638 - accuracy: 0.5298\n"
     ]
    },
    {
     "data": {
      "image/png": "[encoded data removed]",
      "text/plain": [
       "<Figure size 1440x576 with 2 Axes>"
      ]
     },
     "metadata": {
      "needs_background": "light"
     },
     "output_type": "display_data"
    }
   ],
   "source": [
    "# Train the model on the normalized training set.\n",
    "hist = train_model(my_model, X_train, y_train, epochs, batch_size, validation_split)\n",
    "# Plot a graph of the metric vs. epochs.\n",
    "plot_curve(hist)\n",
    "# Evaluate on Test & Save results\n",
    "results.loc['adasyn'] = list(my_model.evaluate(X_test, y_test))"
   ]
  },
  {
   "cell_type": "markdown",
   "metadata": {},
   "source": [
    "### Results"
   ]
  },
  {
   "cell_type": "code",
   "execution_count": null,
   "metadata": {},
   "outputs": [],
   "source": [
    "# # 3 percent\n",
    "# results['f1'] = 2 * (results['precision'] * results['recall']) / (results['precision'] + results['recall'])\n",
    "# results "
   ]
  },
  {
   "cell_type": "code",
   "execution_count": null,
   "metadata": {},
   "outputs": [],
   "source": [
    "# # 5 percent\n",
    "# results['f1'] = 2 * (results['precision'] * results['recall']) / (results['precision'] + results['recall'])\n",
    "# results "
   ]
  },
  {
   "cell_type": "markdown",
   "metadata": {},
   "source": [
    "### Tuning"
   ]
  },
  {
   "cell_type": "code",
   "execution_count": 25,
   "metadata": {},
   "outputs": [],
   "source": [
    "#optimisation\n",
    "from bayes_opt import BayesianOptimization\n",
    "\n",
    "# model building\n",
    "import keras\n",
    "import tensorflow\n",
    "from keras import layers\n",
    "from keras.models import Sequential\n",
    "from keras.layers import Dense, Activation, Dropout, Flatten, Embedding, SimpleRNN , concatenate, Lambda\n",
    "from keras.layers import LeakyReLU\n",
    "from keras.callbacks import EarlyStopping, ModelCheckpoint\n",
    "from keras.optimizers import Adam, SGD, RMSprop, Adadelta, Adagrad, Adamax, Nadam, Ftrl\n",
    "from keras import metrics\n",
    "from keras.losses import BinaryCrossentropy\n",
    "from keras.wrappers.scikit_learn import KerasClassifier\n",
    "\n",
    "from sklearn.model_selection import cross_val_score\n",
    "\n",
    "\n",
    "def rnn_tuner2(C, batch_size, neurons1, neurons2, neurons3, activation, optimizer, dropout, dropout_rate, learning_rate, epochs, layers1, layers2):\n",
    "\n",
    "    C = round(C, 3)\n",
    "    optimizerL = ['SGD', 'Adam', 'RMSprop']\n",
    "    optimizerD= {'Adam':Adam(learning_rate=learning_rate), 'SGD':SGD(learning_rate=learning_rate),\n",
    "                  'RMSprop':RMSprop(learning_rate=learning_rate)}\n",
    "    activationL = ['relu']\n",
    "    neurons1 = round(neurons1)\n",
    "    neurons2 = round(neurons2)\n",
    "    neurons3 = round(neurons3)\n",
    "    activation = activationL[round(activation)]\n",
    "    optimizer = optimizerD[optimizerL[round(optimizer)]]\n",
    "    batch_size = round(batch_size)\n",
    "    epochs = round(epochs)\n",
    "    layers1 = round(layers1)\n",
    "    layers2 = round(layers2)\n",
    "\n",
    "    def create_model():\n",
    "      tuned_model = Sequential()\n",
    "      tuned_model.add(Dense(units=neurons1, input_shape = (X_train_df.shape[1],),kernel_regularizer=tf.keras.regularizers.l2(C))) #input_shape = (batch_size (1st dimension -> num_rows --> excluded), input_size (2nd dimension -> cols),input_dim (2-1))\n",
    "\n",
    "      for i in range(layers1): #varying first set of hidden layers\n",
    "          tuned_model.add(Dense(neurons2, activation=activation,kernel_regularizer=tf.keras.regularizers.l2(C)))\n",
    "\n",
    "      if dropout > 0.5:\n",
    "          tuned_model.add(Dropout(dropout_rate, seed=42))\n",
    "\n",
    "      for i in range(layers2): #varying second set of hidden layers\n",
    "          tuned_model.add(Dense(neurons3, activation=activation,kernel_regularizer=tf.keras.regularizers.l2(C)))\n",
    "\n",
    "      tuned_model.add(Dense(3, activation='softmax')) #output layer\n",
    "\n",
    "      tuned_model.compile(loss=\"sparse_categorical_crossentropy\", optimizer = optimizer, metrics=['accuracy'])\n",
    "     # tuned_model = tuned_model.fit(X_train_smenn, y_train_smenn, epochs=20)\n",
    "     # tuned_model.summary()\n",
    "      return tuned_model\n",
    "\n",
    "    es = EarlyStopping(monitor=\"loss\", patience=3)\n",
    "    mc = ModelCheckpoint('Best_tuned_NN.h5', monitor='val_loss',mode='min',verbose=2, save_best_only=True)\n",
    "\n",
    "    tune_rnn = KerasClassifier(build_fn=create_model, epochs=epochs, batch_size=batch_size, verbose=0) \n",
    "    score = cross_val_score(tune_rnn, X_train, y_train, fit_params={'callbacks':[es]}, error_score='raise').mean() #5 fold cross validation default\n",
    "    return score\n"
   ]
  },
  {
   "cell_type": "code",
   "execution_count": 26,
   "metadata": {},
   "outputs": [],
   "source": [
    "params_rnn2 ={\n",
    "    'neurons1': (100, 500),\n",
    "    'neurons2': (100, 500),\n",
    "    'neurons3': (100, 500),\n",
    "    'C': (0,1),\n",
    "    'activation':(0,0),\n",
    "    'optimizer':(0,2),\n",
    "    'learning_rate':(0.001, 0.01),\n",
    "    'batch_size':(100, 500),\n",
    "    'epochs':(20, 50),\n",
    "    'layers1':(1,3),\n",
    "    'layers2':(1,3),\n",
    "    'dropout':(0,1),\n",
    "    'dropout_rate':(0,0.3)\n",
    "}"
   ]
  },
  {
   "cell_type": "code",
   "execution_count": 27,
   "metadata": {},
   "outputs": [
    {
     "name": "stdout",
     "output_type": "stream",
     "text": [
      "|   iter    |  target   |     C     | activa... | batch_... |  dropout  | dropou... |  epochs   |  layers1  |  layers2  | learni... | neurons1  | neurons2  | neurons3  | optimizer |\n",
      "-------------------------------------------------------------------------------------------------------------------------------------------------------------------------------------\n"
     ]
    },
    {
     "name": "stderr",
     "output_type": "stream",
     "text": [
      "/Users/sabrina/opt/anaconda3/envs/tensorflow_env/lib/python3.7/site-packages/ipykernel_launcher.py:60: DeprecationWarning: KerasClassifier is deprecated, use Sci-Keras (https://github.com/adriangb/scikeras) instead. See https://www.adriangb.com/scikeras/stable/migration.html for help migrating.\n"
     ]
    },
    {
     "name": "stdout",
     "output_type": "stream",
     "text": [
      "WARNING:tensorflow:5 out of the last 63 calls to <function Model.make_test_function.<locals>.test_function at 0x7fb1adf6f560> triggered tf.function retracing. Tracing is expensive and the excessive number of tracings could be due to (1) creating @tf.function repeatedly in a loop, (2) passing tensors with different shapes, (3) passing Python objects instead of tensors. For (1), please define your @tf.function outside of the loop. For (2), @tf.function has reduce_retracing=True option that can avoid unnecessary retracing. For (3), please refer to https://www.tensorflow.org/guide/function#controlling_retracing and https://www.tensorflow.org/api_docs/python/tf/function for  more details.\n",
      "WARNING:tensorflow:6 out of the last 65 calls to <function Model.make_test_function.<locals>.test_function at 0x7fb1bd1fab00> triggered tf.function retracing. Tracing is expensive and the excessive number of tracings could be due to (1) creating @tf.function repeatedly in a loop, (2) passing tensors with different shapes, (3) passing Python objects instead of tensors. For (1), please define your @tf.function outside of the loop. For (2), @tf.function has reduce_retracing=True option that can avoid unnecessary retracing. For (3), please refer to https://www.tensorflow.org/guide/function#controlling_retracing and https://www.tensorflow.org/api_docs/python/tf/function for  more details.\n",
      "| \u001b[0m1        \u001b[0m | \u001b[0m0.02688  \u001b[0m | \u001b[0m0.3745   \u001b[0m | \u001b[0m0.0      \u001b[0m | \u001b[0m392.8    \u001b[0m | \u001b[0m0.5987   \u001b[0m | \u001b[0m0.04681  \u001b[0m | \u001b[0m24.68    \u001b[0m | \u001b[0m1.116    \u001b[0m | \u001b[0m2.732    \u001b[0m | \u001b[0m0.00641  \u001b[0m | \u001b[0m383.2    \u001b[0m | \u001b[0m108.2    \u001b[0m | \u001b[0m488.0    \u001b[0m | \u001b[0m1.665    \u001b[0m |\n"
     ]
    },
    {
     "name": "stderr",
     "output_type": "stream",
     "text": [
      "/Users/sabrina/opt/anaconda3/envs/tensorflow_env/lib/python3.7/site-packages/ipykernel_launcher.py:60: DeprecationWarning: KerasClassifier is deprecated, use Sci-Keras (https://github.com/adriangb/scikeras) instead. See https://www.adriangb.com/scikeras/stable/migration.html for help migrating.\n"
     ]
    },
    {
     "name": "stdout",
     "output_type": "stream",
     "text": [
      "| \u001b[0m2        \u001b[0m | \u001b[0m0.02688  \u001b[0m | \u001b[0m0.2123   \u001b[0m | \u001b[0m0.0      \u001b[0m | \u001b[0m173.4    \u001b[0m | \u001b[0m0.3042   \u001b[0m | \u001b[0m0.1574   \u001b[0m | \u001b[0m32.96    \u001b[0m | \u001b[0m1.582    \u001b[0m | \u001b[0m2.224    \u001b[0m | \u001b[0m0.002255 \u001b[0m | \u001b[0m216.9    \u001b[0m | \u001b[0m246.5    \u001b[0m | \u001b[0m282.4    \u001b[0m | \u001b[0m1.57     \u001b[0m |\n"
     ]
    },
    {
     "name": "stderr",
     "output_type": "stream",
     "text": [
      "/Users/sabrina/opt/anaconda3/envs/tensorflow_env/lib/python3.7/site-packages/ipykernel_launcher.py:60: DeprecationWarning: KerasClassifier is deprecated, use Sci-Keras (https://github.com/adriangb/scikeras) instead. See https://www.adriangb.com/scikeras/stable/migration.html for help migrating.\n"
     ]
    },
    {
     "name": "stdout",
     "output_type": "stream",
     "text": [
      "| \u001b[95m3        \u001b[0m | \u001b[95m0.03978  \u001b[0m | \u001b[95m0.1997   \u001b[0m | \u001b[95m0.0      \u001b[0m | \u001b[95m337.0    \u001b[0m | \u001b[95m0.04645  \u001b[0m | \u001b[95m0.1823   \u001b[0m | \u001b[95m25.12    \u001b[0m | \u001b[95m1.13     \u001b[0m | \u001b[95m2.898    \u001b[0m | \u001b[95m0.009691 \u001b[0m | \u001b[95m423.4    \u001b[0m | \u001b[95m221.8    \u001b[0m | \u001b[95m139.1    \u001b[0m | \u001b[95m1.368    \u001b[0m |\n"
     ]
    },
    {
     "name": "stderr",
     "output_type": "stream",
     "text": [
      "/Users/sabrina/opt/anaconda3/envs/tensorflow_env/lib/python3.7/site-packages/ipykernel_launcher.py:60: DeprecationWarning: KerasClassifier is deprecated, use Sci-Keras (https://github.com/adriangb/scikeras) instead. See https://www.adriangb.com/scikeras/stable/migration.html for help migrating.\n"
     ]
    },
    {
     "name": "stdout",
     "output_type": "stream",
     "text": [
      "| \u001b[0m4        \u001b[0m | \u001b[0m0.03978  \u001b[0m | \u001b[0m0.4402   \u001b[0m | \u001b[0m0.0      \u001b[0m | \u001b[0m298.1    \u001b[0m | \u001b[0m0.03439  \u001b[0m | \u001b[0m0.2728   \u001b[0m | \u001b[0m27.76    \u001b[0m | \u001b[0m2.325    \u001b[0m | \u001b[0m1.623    \u001b[0m | \u001b[0m0.005681 \u001b[0m | \u001b[0m318.7    \u001b[0m | \u001b[0m173.9    \u001b[0m | \u001b[0m487.8    \u001b[0m | \u001b[0m1.55     \u001b[0m |\n"
     ]
    },
    {
     "name": "stderr",
     "output_type": "stream",
     "text": [
      "/Users/sabrina/opt/anaconda3/envs/tensorflow_env/lib/python3.7/site-packages/ipykernel_launcher.py:60: DeprecationWarning: KerasClassifier is deprecated, use Sci-Keras (https://github.com/adriangb/scikeras) instead. See https://www.adriangb.com/scikeras/stable/migration.html for help migrating.\n"
     ]
    },
    {
     "name": "stdout",
     "output_type": "stream",
     "text": [
      "| \u001b[0m5        \u001b[0m | \u001b[0m0.02975  \u001b[0m | \u001b[0m0.9395   \u001b[0m | \u001b[0m0.0      \u001b[0m | \u001b[0m339.2    \u001b[0m | \u001b[0m0.9219   \u001b[0m | \u001b[0m0.02655  \u001b[0m | \u001b[0m25.88    \u001b[0m | \u001b[0m1.09     \u001b[0m | \u001b[0m1.651    \u001b[0m | \u001b[0m0.004498 \u001b[0m | \u001b[0m208.5    \u001b[0m | \u001b[0m431.5    \u001b[0m | \u001b[0m242.7    \u001b[0m | \u001b[0m0.5619   \u001b[0m |\n"
     ]
    },
    {
     "name": "stderr",
     "output_type": "stream",
     "text": [
      "/Users/sabrina/opt/anaconda3/envs/tensorflow_env/lib/python3.7/site-packages/ipykernel_launcher.py:60: DeprecationWarning: KerasClassifier is deprecated, use Sci-Keras (https://github.com/adriangb/scikeras) instead. See https://www.adriangb.com/scikeras/stable/migration.html for help migrating.\n"
     ]
    },
    {
     "name": "stdout",
     "output_type": "stream",
     "text": [
      "| \u001b[0m6        \u001b[0m | \u001b[0m0.03262  \u001b[0m | \u001b[0m0.5427   \u001b[0m | \u001b[0m0.0      \u001b[0m | \u001b[0m420.9    \u001b[0m | \u001b[0m0.07455  \u001b[0m | \u001b[0m0.2961   \u001b[0m | \u001b[0m43.17    \u001b[0m | \u001b[0m1.397    \u001b[0m | \u001b[0m1.011    \u001b[0m | \u001b[0m0.008339 \u001b[0m | \u001b[0m382.7    \u001b[0m | \u001b[0m391.6    \u001b[0m | \u001b[0m408.5    \u001b[0m | \u001b[0m0.1481   \u001b[0m |\n"
     ]
    },
    {
     "name": "stderr",
     "output_type": "stream",
     "text": [
      "/Users/sabrina/opt/anaconda3/envs/tensorflow_env/lib/python3.7/site-packages/ipykernel_launcher.py:60: DeprecationWarning: KerasClassifier is deprecated, use Sci-Keras (https://github.com/adriangb/scikeras) instead. See https://www.adriangb.com/scikeras/stable/migration.html for help migrating.\n"
     ]
    },
    {
     "name": "stdout",
     "output_type": "stream",
     "text": [
      "| \u001b[95m7        \u001b[0m | \u001b[95m0.0491   \u001b[0m | \u001b[95m0.3585   \u001b[0m | \u001b[95m0.0      \u001b[0m | \u001b[95m445.2    \u001b[0m | \u001b[95m0.6233   \u001b[0m | \u001b[95m0.09927  \u001b[0m | \u001b[95m21.91    \u001b[0m | \u001b[95m1.622    \u001b[0m | \u001b[95m1.65     \u001b[0m | \u001b[95m0.007566 \u001b[0m | \u001b[95m355.0    \u001b[0m | \u001b[95m454.9    \u001b[0m | \u001b[95m288.9    \u001b[0m | \u001b[95m0.2392   \u001b[0m |\n"
     ]
    },
    {
     "name": "stderr",
     "output_type": "stream",
     "text": [
      "/Users/sabrina/opt/anaconda3/envs/tensorflow_env/lib/python3.7/site-packages/ipykernel_launcher.py:60: DeprecationWarning: KerasClassifier is deprecated, use Sci-Keras (https://github.com/adriangb/scikeras) instead. See https://www.adriangb.com/scikeras/stable/migration.html for help migrating.\n"
     ]
    },
    {
     "name": "stdout",
     "output_type": "stream",
     "text": [
      "| \u001b[0m8        \u001b[0m | \u001b[0m0.02688  \u001b[0m | \u001b[0m0.7132   \u001b[0m | \u001b[0m0.0      \u001b[0m | \u001b[0m324.5    \u001b[0m | \u001b[0m0.771    \u001b[0m | \u001b[0m0.1481   \u001b[0m | \u001b[0m35.68    \u001b[0m | \u001b[0m1.855    \u001b[0m | \u001b[0m1.051    \u001b[0m | \u001b[0m0.001971 \u001b[0m | \u001b[0m112.6    \u001b[0m | \u001b[0m354.6    \u001b[0m | \u001b[0m225.7    \u001b[0m | \u001b[0m1.017    \u001b[0m |\n"
     ]
    },
    {
     "name": "stderr",
     "output_type": "stream",
     "text": [
      "/Users/sabrina/opt/anaconda3/envs/tensorflow_env/lib/python3.7/site-packages/ipykernel_launcher.py:60: DeprecationWarning: KerasClassifier is deprecated, use Sci-Keras (https://github.com/adriangb/scikeras) instead. See https://www.adriangb.com/scikeras/stable/migration.html for help migrating.\n"
     ]
    },
    {
     "name": "stdout",
     "output_type": "stream",
     "text": [
      "| \u001b[0m9        \u001b[0m | \u001b[0m0.02688  \u001b[0m | \u001b[0m0.9076   \u001b[0m | \u001b[0m0.0      \u001b[0m | \u001b[0m264.2    \u001b[0m | \u001b[0m0.7556   \u001b[0m | \u001b[0m0.06864  \u001b[0m | \u001b[0m22.31    \u001b[0m | \u001b[0m1.58     \u001b[0m | \u001b[0m1.322    \u001b[0m | \u001b[0m0.009367 \u001b[0m | \u001b[0m423.2    \u001b[0m | \u001b[0m353.4    \u001b[0m | \u001b[0m448.6    \u001b[0m | \u001b[0m1.607    \u001b[0m |\n"
     ]
    },
    {
     "name": "stderr",
     "output_type": "stream",
     "text": [
      "/Users/sabrina/opt/anaconda3/envs/tensorflow_env/lib/python3.7/site-packages/ipykernel_launcher.py:60: DeprecationWarning: KerasClassifier is deprecated, use Sci-Keras (https://github.com/adriangb/scikeras) instead. See https://www.adriangb.com/scikeras/stable/migration.html for help migrating.\n"
     ]
    },
    {
     "name": "stdout",
     "output_type": "stream",
     "text": [
      "| \u001b[0m10       \u001b[0m | \u001b[0m0.03763  \u001b[0m | \u001b[0m0.1866   \u001b[0m | \u001b[0m0.0      \u001b[0m | \u001b[0m315.7    \u001b[0m | \u001b[0m0.8074   \u001b[0m | \u001b[0m0.2688   \u001b[0m | \u001b[0m29.54    \u001b[0m | \u001b[0m1.22     \u001b[0m | \u001b[0m1.456    \u001b[0m | \u001b[0m0.004844 \u001b[0m | \u001b[0m427.2    \u001b[0m | \u001b[0m444.3    \u001b[0m | \u001b[0m102.8    \u001b[0m | \u001b[0m1.021    \u001b[0m |\n"
     ]
    },
    {
     "name": "stderr",
     "output_type": "stream",
     "text": [
      "/Users/sabrina/opt/anaconda3/envs/tensorflow_env/lib/python3.7/site-packages/ipykernel_launcher.py:60: DeprecationWarning: KerasClassifier is deprecated, use Sci-Keras (https://github.com/adriangb/scikeras) instead. See https://www.adriangb.com/scikeras/stable/migration.html for help migrating.\n"
     ]
    },
    {
     "name": "stdout",
     "output_type": "stream",
     "text": [
      "| \u001b[0m11       \u001b[0m | \u001b[0m0.02688  \u001b[0m | \u001b[0m0.4174   \u001b[0m | \u001b[0m0.0      \u001b[0m | \u001b[0m147.9    \u001b[0m | \u001b[0m0.3376   \u001b[0m | \u001b[0m0.2829   \u001b[0m | \u001b[0m29.7     \u001b[0m | \u001b[0m2.038    \u001b[0m | \u001b[0m2.406    \u001b[0m | \u001b[0m0.004273 \u001b[0m | \u001b[0m488.7    \u001b[0m | \u001b[0m485.0    \u001b[0m | \u001b[0m200.7    \u001b[0m | \u001b[0m0.9945   \u001b[0m |\n"
     ]
    },
    {
     "name": "stderr",
     "output_type": "stream",
     "text": [
      "/Users/sabrina/opt/anaconda3/envs/tensorflow_env/lib/python3.7/site-packages/ipykernel_launcher.py:60: DeprecationWarning: KerasClassifier is deprecated, use Sci-Keras (https://github.com/adriangb/scikeras) instead. See https://www.adriangb.com/scikeras/stable/migration.html for help migrating.\n"
     ]
    },
    {
     "name": "stdout",
     "output_type": "stream",
     "text": [
      "| \u001b[0m12       \u001b[0m | \u001b[0m0.02688  \u001b[0m | \u001b[0m0.3009   \u001b[0m | \u001b[0m0.0      \u001b[0m | \u001b[0m114.8    \u001b[0m | \u001b[0m0.6096   \u001b[0m | \u001b[0m0.1508   \u001b[0m | \u001b[0m21.54    \u001b[0m | \u001b[0m1.557    \u001b[0m | \u001b[0m2.817    \u001b[0m | \u001b[0m0.003156 \u001b[0m | \u001b[0m158.0    \u001b[0m | \u001b[0m295.8    \u001b[0m | \u001b[0m494.3    \u001b[0m | \u001b[0m0.4841   \u001b[0m |\n"
     ]
    },
    {
     "name": "stderr",
     "output_type": "stream",
     "text": [
      "/Users/sabrina/opt/anaconda3/envs/tensorflow_env/lib/python3.7/site-packages/ipykernel_launcher.py:60: DeprecationWarning: KerasClassifier is deprecated, use Sci-Keras (https://github.com/adriangb/scikeras) instead. See https://www.adriangb.com/scikeras/stable/migration.html for help migrating.\n"
     ]
    },
    {
     "name": "stdout",
     "output_type": "stream",
     "text": [
      "| \u001b[0m13       \u001b[0m | \u001b[0m0.02688  \u001b[0m | \u001b[0m0.6721   \u001b[0m | \u001b[0m0.0      \u001b[0m | \u001b[0m195.1    \u001b[0m | \u001b[0m0.7282   \u001b[0m | \u001b[0m0.1103   \u001b[0m | \u001b[0m38.97    \u001b[0m | \u001b[0m2.267    \u001b[0m | \u001b[0m2.072    \u001b[0m | \u001b[0m0.001813 \u001b[0m | \u001b[0m434.1    \u001b[0m | \u001b[0m228.3    \u001b[0m | \u001b[0m174.6    \u001b[0m | \u001b[0m0.08155  \u001b[0m |\n"
     ]
    },
    {
     "name": "stderr",
     "output_type": "stream",
     "text": [
      "/Users/sabrina/opt/anaconda3/envs/tensorflow_env/lib/python3.7/site-packages/ipykernel_launcher.py:60: DeprecationWarning: KerasClassifier is deprecated, use Sci-Keras (https://github.com/adriangb/scikeras) instead. See https://www.adriangb.com/scikeras/stable/migration.html for help migrating.\n"
     ]
    },
    {
     "name": "stdout",
     "output_type": "stream",
     "text": [
      "| \u001b[0m14       \u001b[0m | \u001b[0m0.02688  \u001b[0m | \u001b[0m0.5909   \u001b[0m | \u001b[0m0.0      \u001b[0m | \u001b[0m106.6    \u001b[0m | \u001b[0m0.5121   \u001b[0m | \u001b[0m0.06795  \u001b[0m | \u001b[0m39.36    \u001b[0m | \u001b[0m1.349    \u001b[0m | \u001b[0m2.382    \u001b[0m | \u001b[0m0.004481 \u001b[0m | \u001b[0m474.7    \u001b[0m | \u001b[0m155.0    \u001b[0m | \u001b[0m236.4    \u001b[0m | \u001b[0m0.2269   \u001b[0m |\n"
     ]
    },
    {
     "name": "stderr",
     "output_type": "stream",
     "text": [
      "/Users/sabrina/opt/anaconda3/envs/tensorflow_env/lib/python3.7/site-packages/ipykernel_launcher.py:60: DeprecationWarning: KerasClassifier is deprecated, use Sci-Keras (https://github.com/adriangb/scikeras) instead. See https://www.adriangb.com/scikeras/stable/migration.html for help migrating.\n"
     ]
    },
    {
     "name": "stdout",
     "output_type": "stream",
     "text": [
      "| \u001b[0m15       \u001b[0m | \u001b[0m0.02975  \u001b[0m | \u001b[0m0.9247   \u001b[0m | \u001b[0m0.0      \u001b[0m | \u001b[0m203.2    \u001b[0m | \u001b[0m0.66     \u001b[0m | \u001b[0m0.2452   \u001b[0m | \u001b[0m36.66    \u001b[0m | \u001b[0m2.059    \u001b[0m | \u001b[0m1.484    \u001b[0m | \u001b[0m0.001838 \u001b[0m | \u001b[0m458.9    \u001b[0m | \u001b[0m460.2    \u001b[0m | \u001b[0m353.2    \u001b[0m | \u001b[0m0.6781   \u001b[0m |\n"
     ]
    },
    {
     "name": "stderr",
     "output_type": "stream",
     "text": [
      "/Users/sabrina/opt/anaconda3/envs/tensorflow_env/lib/python3.7/site-packages/ipykernel_launcher.py:60: DeprecationWarning: KerasClassifier is deprecated, use Sci-Keras (https://github.com/adriangb/scikeras) instead. See https://www.adriangb.com/scikeras/stable/migration.html for help migrating.\n"
     ]
    },
    {
     "name": "stdout",
     "output_type": "stream",
     "text": [
      "| \u001b[0m16       \u001b[0m | \u001b[0m0.03978  \u001b[0m | \u001b[0m0.3492   \u001b[0m | \u001b[0m0.0      \u001b[0m | \u001b[0m458.8    \u001b[0m | \u001b[0m0.8871   \u001b[0m | \u001b[0m0.234    \u001b[0m | \u001b[0m39.26    \u001b[0m | \u001b[0m1.168    \u001b[0m | \u001b[0m1.323    \u001b[0m | \u001b[0m0.009087 \u001b[0m | \u001b[0m342.6    \u001b[0m | \u001b[0m103.7    \u001b[0m | \u001b[0m140.6    \u001b[0m | \u001b[0m1.327    \u001b[0m |\n"
     ]
    },
    {
     "name": "stderr",
     "output_type": "stream",
     "text": [
      "/Users/sabrina/opt/anaconda3/envs/tensorflow_env/lib/python3.7/site-packages/ipykernel_launcher.py:60: DeprecationWarning: KerasClassifier is deprecated, use Sci-Keras (https://github.com/adriangb/scikeras) instead. See https://www.adriangb.com/scikeras/stable/migration.html for help migrating.\n"
     ]
    },
    {
     "name": "stdout",
     "output_type": "stream",
     "text": [
      "| \u001b[95m17       \u001b[0m | \u001b[95m0.5935   \u001b[0m | \u001b[95m0.005062 \u001b[0m | \u001b[95m0.0      \u001b[0m | \u001b[95m319.5    \u001b[0m | \u001b[95m0.6919   \u001b[0m | \u001b[95m0.1956   \u001b[0m | \u001b[95m26.73    \u001b[0m | \u001b[95m2.424    \u001b[0m | \u001b[95m1.474    \u001b[0m | \u001b[95m0.003929 \u001b[0m | \u001b[95m398.6    \u001b[0m | \u001b[95m359.9    \u001b[0m | \u001b[95m439.7    \u001b[0m | \u001b[95m1.315    \u001b[0m |\n"
     ]
    },
    {
     "name": "stderr",
     "output_type": "stream",
     "text": [
      "/Users/sabrina/opt/anaconda3/envs/tensorflow_env/lib/python3.7/site-packages/ipykernel_launcher.py:60: DeprecationWarning: KerasClassifier is deprecated, use Sci-Keras (https://github.com/adriangb/scikeras) instead. See https://www.adriangb.com/scikeras/stable/migration.html for help migrating.\n"
     ]
    },
    {
     "name": "stdout",
     "output_type": "stream",
     "text": [
      "| \u001b[0m18       \u001b[0m | \u001b[0m0.02688  \u001b[0m | \u001b[0m0.5683   \u001b[0m | \u001b[0m0.0      \u001b[0m | \u001b[0m247.1    \u001b[0m | \u001b[0m0.2652   \u001b[0m | \u001b[0m0.0732   \u001b[0m | \u001b[0m49.19    \u001b[0m | \u001b[0m1.786    \u001b[0m | \u001b[0m2.784    \u001b[0m | \u001b[0m0.00668  \u001b[0m | \u001b[0m417.9    \u001b[0m | \u001b[0m301.1    \u001b[0m | \u001b[0m330.8    \u001b[0m | \u001b[0m0.985    \u001b[0m |\n"
     ]
    },
    {
     "name": "stderr",
     "output_type": "stream",
     "text": [
      "/Users/sabrina/opt/anaconda3/envs/tensorflow_env/lib/python3.7/site-packages/ipykernel_launcher.py:60: DeprecationWarning: KerasClassifier is deprecated, use Sci-Keras (https://github.com/adriangb/scikeras) instead. See https://www.adriangb.com/scikeras/stable/migration.html for help migrating.\n"
     ]
    },
    {
     "name": "stdout",
     "output_type": "stream",
     "text": [
      "| \u001b[0m19       \u001b[0m | \u001b[0m0.02975  \u001b[0m | \u001b[0m0.1952   \u001b[0m | \u001b[0m0.0      \u001b[0m | \u001b[0m212.3    \u001b[0m | \u001b[0m0.02432  \u001b[0m | \u001b[0m0.1936   \u001b[0m | \u001b[0m25.31    \u001b[0m | \u001b[0m2.881    \u001b[0m | \u001b[0m2.908    \u001b[0m | \u001b[0m0.009234 \u001b[0m | \u001b[0m248.1    \u001b[0m | \u001b[0m106.2    \u001b[0m | \u001b[0m471.3    \u001b[0m | \u001b[0m0.8564   \u001b[0m |\n"
     ]
    },
    {
     "name": "stderr",
     "output_type": "stream",
     "text": [
      "/Users/sabrina/opt/anaconda3/envs/tensorflow_env/lib/python3.7/site-packages/ipykernel_launcher.py:60: DeprecationWarning: KerasClassifier is deprecated, use Sci-Keras (https://github.com/adriangb/scikeras) instead. See https://www.adriangb.com/scikeras/stable/migration.html for help migrating.\n"
     ]
    },
    {
     "name": "stdout",
     "output_type": "stream",
     "text": [
      "| \u001b[0m20       \u001b[0m | \u001b[0m0.02688  \u001b[0m | \u001b[0m0.9667   \u001b[0m | \u001b[0m0.0      \u001b[0m | \u001b[0m441.2    \u001b[0m | \u001b[0m0.2944   \u001b[0m | \u001b[0m0.1155   \u001b[0m | \u001b[0m45.53    \u001b[0m | \u001b[0m1.634    \u001b[0m | \u001b[0m1.339    \u001b[0m | \u001b[0m0.006011 \u001b[0m | \u001b[0m474.5    \u001b[0m | \u001b[0m378.4    \u001b[0m | \u001b[0m328.0    \u001b[0m | \u001b[0m0.1944   \u001b[0m |\n"
     ]
    },
    {
     "name": "stderr",
     "output_type": "stream",
     "text": [
      "/Users/sabrina/opt/anaconda3/envs/tensorflow_env/lib/python3.7/site-packages/ipykernel_launcher.py:60: DeprecationWarning: KerasClassifier is deprecated, use Sci-Keras (https://github.com/adriangb/scikeras) instead. See https://www.adriangb.com/scikeras/stable/migration.html for help migrating.\n"
     ]
    },
    {
     "name": "stdout",
     "output_type": "stream",
     "text": [
      "| \u001b[0m21       \u001b[0m | \u001b[0m0.02688  \u001b[0m | \u001b[0m0.615    \u001b[0m | \u001b[0m0.0      \u001b[0m | \u001b[0m156.0    \u001b[0m | \u001b[0m0.5183   \u001b[0m | \u001b[0m0.2632   \u001b[0m | \u001b[0m42.22    \u001b[0m | \u001b[0m2.394    \u001b[0m | \u001b[0m2.405    \u001b[0m | \u001b[0m0.004235 \u001b[0m | \u001b[0m217.4    \u001b[0m | \u001b[0m423.7    \u001b[0m | \u001b[0m424.0    \u001b[0m | \u001b[0m1.734    \u001b[0m |\n"
     ]
    },
    {
     "name": "stderr",
     "output_type": "stream",
     "text": [
      "/Users/sabrina/opt/anaconda3/envs/tensorflow_env/lib/python3.7/site-packages/ipykernel_launcher.py:60: DeprecationWarning: KerasClassifier is deprecated, use Sci-Keras (https://github.com/adriangb/scikeras) instead. See https://www.adriangb.com/scikeras/stable/migration.html for help migrating.\n"
     ]
    },
    {
     "name": "stdout",
     "output_type": "stream",
     "text": [
      "| \u001b[0m22       \u001b[0m | \u001b[0m0.02975  \u001b[0m | \u001b[0m0.9132   \u001b[0m | \u001b[0m0.0      \u001b[0m | \u001b[0m300.6    \u001b[0m | \u001b[0m0.7983   \u001b[0m | \u001b[0m0.195    \u001b[0m | \u001b[0m41.06    \u001b[0m | \u001b[0m2.592    \u001b[0m | \u001b[0m2.78     \u001b[0m | \u001b[0m0.004042 \u001b[0m | \u001b[0m250.2    \u001b[0m | \u001b[0m137.6    \u001b[0m | \u001b[0m331.3    \u001b[0m | \u001b[0m0.07188  \u001b[0m |\n"
     ]
    },
    {
     "name": "stderr",
     "output_type": "stream",
     "text": [
      "/Users/sabrina/opt/anaconda3/envs/tensorflow_env/lib/python3.7/site-packages/ipykernel_launcher.py:60: DeprecationWarning: KerasClassifier is deprecated, use Sci-Keras (https://github.com/adriangb/scikeras) instead. See https://www.adriangb.com/scikeras/stable/migration.html for help migrating.\n"
     ]
    },
    {
     "name": "stdout",
     "output_type": "stream",
     "text": [
      "| \u001b[0m23       \u001b[0m | \u001b[0m0.02975  \u001b[0m | \u001b[0m0.4656   \u001b[0m | \u001b[0m0.0      \u001b[0m | \u001b[0m214.6    \u001b[0m | \u001b[0m0.5908   \u001b[0m | \u001b[0m0.00915  \u001b[0m | \u001b[0m21.12    \u001b[0m | \u001b[0m2.645    \u001b[0m | \u001b[0m1.72     \u001b[0m | \u001b[0m0.002144 \u001b[0m | \u001b[0m308.9    \u001b[0m | \u001b[0m408.0    \u001b[0m | \u001b[0m186.3    \u001b[0m | \u001b[0m1.246    \u001b[0m |\n"
     ]
    },
    {
     "name": "stderr",
     "output_type": "stream",
     "text": [
      "/Users/sabrina/opt/anaconda3/envs/tensorflow_env/lib/python3.7/site-packages/ipykernel_launcher.py:60: DeprecationWarning: KerasClassifier is deprecated, use Sci-Keras (https://github.com/adriangb/scikeras) instead. See https://www.adriangb.com/scikeras/stable/migration.html for help migrating.\n"
     ]
    },
    {
     "name": "stdout",
     "output_type": "stream",
     "text": [
      "| \u001b[0m24       \u001b[0m | \u001b[0m0.04552  \u001b[0m | \u001b[0m0.08535  \u001b[0m | \u001b[0m0.0      \u001b[0m | \u001b[0m312.5    \u001b[0m | \u001b[0m0.5406   \u001b[0m | \u001b[0m0.1912   \u001b[0m | \u001b[0m41.78    \u001b[0m | \u001b[0m2.952    \u001b[0m | \u001b[0m2.033    \u001b[0m | \u001b[0m0.003907 \u001b[0m | \u001b[0m418.1    \u001b[0m | \u001b[0m208.3    \u001b[0m | \u001b[0m275.6    \u001b[0m | \u001b[0m0.1569   \u001b[0m |\n"
     ]
    },
    {
     "name": "stderr",
     "output_type": "stream",
     "text": [
      "/Users/sabrina/opt/anaconda3/envs/tensorflow_env/lib/python3.7/site-packages/ipykernel_launcher.py:60: DeprecationWarning: KerasClassifier is deprecated, use Sci-Keras (https://github.com/adriangb/scikeras) instead. See https://www.adriangb.com/scikeras/stable/migration.html for help migrating.\n"
     ]
    },
    {
     "name": "stdout",
     "output_type": "stream",
     "text": [
      "| \u001b[0m25       \u001b[0m | \u001b[0m0.3319   \u001b[0m | \u001b[0m0.02535  \u001b[0m | \u001b[0m0.0      \u001b[0m | \u001b[0m434.4    \u001b[0m | \u001b[0m0.696    \u001b[0m | \u001b[0m0.1227   \u001b[0m | \u001b[0m25.2     \u001b[0m | \u001b[0m1.313    \u001b[0m | \u001b[0m1.5      \u001b[0m | \u001b[0m0.005943 \u001b[0m | \u001b[0m385.8    \u001b[0m | \u001b[0m364.1    \u001b[0m | \u001b[0m212.0    \u001b[0m | \u001b[0m1.91     \u001b[0m |\n"
     ]
    },
    {
     "name": "stderr",
     "output_type": "stream",
     "text": [
      "/Users/sabrina/opt/anaconda3/envs/tensorflow_env/lib/python3.7/site-packages/scipy/optimize/_numdiff.py:579: RuntimeWarning: invalid value encountered in true_divide\n",
      "  J_transposed[i] = df / dx\n",
      "/Users/sabrina/opt/anaconda3/envs/tensorflow_env/lib/python3.7/site-packages/scipy/optimize/_numdiff.py:579: RuntimeWarning: invalid value encountered in true_divide\n",
      "  J_transposed[i] = df / dx\n",
      "/Users/sabrina/opt/anaconda3/envs/tensorflow_env/lib/python3.7/site-packages/scipy/optimize/_numdiff.py:579: RuntimeWarning: invalid value encountered in true_divide\n",
      "  J_transposed[i] = df / dx\n",
      "/Users/sabrina/opt/anaconda3/envs/tensorflow_env/lib/python3.7/site-packages/scipy/optimize/_numdiff.py:579: RuntimeWarning: invalid value encountered in true_divide\n",
      "  J_transposed[i] = df / dx\n",
      "/Users/sabrina/opt/anaconda3/envs/tensorflow_env/lib/python3.7/site-packages/scipy/optimize/_numdiff.py:579: RuntimeWarning: invalid value encountered in true_divide\n",
      "  J_transposed[i] = df / dx\n",
      "/Users/sabrina/opt/anaconda3/envs/tensorflow_env/lib/python3.7/site-packages/scipy/optimize/_numdiff.py:579: RuntimeWarning: invalid value encountered in true_divide\n",
      "  J_transposed[i] = df / dx\n",
      "/Users/sabrina/opt/anaconda3/envs/tensorflow_env/lib/python3.7/site-packages/scipy/optimize/_numdiff.py:579: RuntimeWarning: invalid value encountered in true_divide\n",
      "  J_transposed[i] = df / dx\n",
      "/Users/sabrina/opt/anaconda3/envs/tensorflow_env/lib/python3.7/site-packages/scipy/optimize/_numdiff.py:579: RuntimeWarning: invalid value encountered in true_divide\n",
      "  J_transposed[i] = df / dx\n",
      "/Users/sabrina/opt/anaconda3/envs/tensorflow_env/lib/python3.7/site-packages/scipy/optimize/_numdiff.py:579: RuntimeWarning: invalid value encountered in true_divide\n",
      "  J_transposed[i] = df / dx\n",
      "/Users/sabrina/opt/anaconda3/envs/tensorflow_env/lib/python3.7/site-packages/scipy/optimize/_numdiff.py:579: RuntimeWarning: invalid value encountered in true_divide\n",
      "  J_transposed[i] = df / dx\n",
      "/Users/sabrina/opt/anaconda3/envs/tensorflow_env/lib/python3.7/site-packages/ipykernel_launcher.py:60: DeprecationWarning: KerasClassifier is deprecated, use Sci-Keras (https://github.com/adriangb/scikeras) instead. See https://www.adriangb.com/scikeras/stable/migration.html for help migrating.\n"
     ]
    },
    {
     "name": "stdout",
     "output_type": "stream",
     "text": [
      "| \u001b[0m26       \u001b[0m | \u001b[0m0.02688  \u001b[0m | \u001b[0m0.156    \u001b[0m | \u001b[0m0.0      \u001b[0m | \u001b[0m446.5    \u001b[0m | \u001b[0m0.6011   \u001b[0m | \u001b[0m0.2124   \u001b[0m | \u001b[0m20.62    \u001b[0m | \u001b[0m2.94     \u001b[0m | \u001b[0m2.665    \u001b[0m | \u001b[0m0.002911 \u001b[0m | \u001b[0m172.7    \u001b[0m | \u001b[0m173.4    \u001b[0m | \u001b[0m221.7    \u001b[0m | \u001b[0m1.05     \u001b[0m |\n"
     ]
    },
    {
     "name": "stderr",
     "output_type": "stream",
     "text": [
      "/Users/sabrina/opt/anaconda3/envs/tensorflow_env/lib/python3.7/site-packages/scipy/optimize/_numdiff.py:579: RuntimeWarning: invalid value encountered in true_divide\n",
      "  J_transposed[i] = df / dx\n",
      "/Users/sabrina/opt/anaconda3/envs/tensorflow_env/lib/python3.7/site-packages/scipy/optimize/_numdiff.py:579: RuntimeWarning: invalid value encountered in true_divide\n",
      "  J_transposed[i] = df / dx\n",
      "/Users/sabrina/opt/anaconda3/envs/tensorflow_env/lib/python3.7/site-packages/scipy/optimize/_numdiff.py:579: RuntimeWarning: invalid value encountered in true_divide\n",
      "  J_transposed[i] = df / dx\n",
      "/Users/sabrina/opt/anaconda3/envs/tensorflow_env/lib/python3.7/site-packages/scipy/optimize/_numdiff.py:579: RuntimeWarning: invalid value encountered in true_divide\n",
      "  J_transposed[i] = df / dx\n",
      "/Users/sabrina/opt/anaconda3/envs/tensorflow_env/lib/python3.7/site-packages/scipy/optimize/_numdiff.py:579: RuntimeWarning: invalid value encountered in true_divide\n",
      "  J_transposed[i] = df / dx\n",
      "/Users/sabrina/opt/anaconda3/envs/tensorflow_env/lib/python3.7/site-packages/scipy/optimize/_numdiff.py:579: RuntimeWarning: invalid value encountered in true_divide\n",
      "  J_transposed[i] = df / dx\n",
      "/Users/sabrina/opt/anaconda3/envs/tensorflow_env/lib/python3.7/site-packages/scipy/optimize/_numdiff.py:579: RuntimeWarning: invalid value encountered in true_divide\n",
      "  J_transposed[i] = df / dx\n",
      "/Users/sabrina/opt/anaconda3/envs/tensorflow_env/lib/python3.7/site-packages/scipy/optimize/_numdiff.py:579: RuntimeWarning: invalid value encountered in true_divide\n",
      "  J_transposed[i] = df / dx\n",
      "/Users/sabrina/opt/anaconda3/envs/tensorflow_env/lib/python3.7/site-packages/scipy/optimize/_numdiff.py:579: RuntimeWarning: invalid value encountered in true_divide\n",
      "  J_transposed[i] = df / dx\n",
      "/Users/sabrina/opt/anaconda3/envs/tensorflow_env/lib/python3.7/site-packages/scipy/optimize/_numdiff.py:579: RuntimeWarning: invalid value encountered in true_divide\n",
      "  J_transposed[i] = df / dx\n",
      "/Users/sabrina/opt/anaconda3/envs/tensorflow_env/lib/python3.7/site-packages/ipykernel_launcher.py:60: DeprecationWarning: KerasClassifier is deprecated, use Sci-Keras (https://github.com/adriangb/scikeras) instead. See https://www.adriangb.com/scikeras/stable/migration.html for help migrating.\n"
     ]
    },
    {
     "name": "stdout",
     "output_type": "stream",
     "text": [
      "| \u001b[0m27       \u001b[0m | \u001b[0m0.0362   \u001b[0m | \u001b[0m0.4209   \u001b[0m | \u001b[0m0.0      \u001b[0m | \u001b[0m160.2    \u001b[0m | \u001b[0m0.1751   \u001b[0m | \u001b[0m0.2013   \u001b[0m | \u001b[0m23.82    \u001b[0m | \u001b[0m2.561    \u001b[0m | \u001b[0m2.695    \u001b[0m | \u001b[0m0.002025 \u001b[0m | \u001b[0m477.6    \u001b[0m | \u001b[0m491.0    \u001b[0m | \u001b[0m121.5    \u001b[0m | \u001b[0m0.006905 \u001b[0m |\n"
     ]
    },
    {
     "name": "stderr",
     "output_type": "stream",
     "text": [
      "/Users/sabrina/opt/anaconda3/envs/tensorflow_env/lib/python3.7/site-packages/scipy/optimize/_numdiff.py:579: RuntimeWarning: invalid value encountered in true_divide\n",
      "  J_transposed[i] = df / dx\n",
      "/Users/sabrina/opt/anaconda3/envs/tensorflow_env/lib/python3.7/site-packages/scipy/optimize/_numdiff.py:579: RuntimeWarning: invalid value encountered in true_divide\n",
      "  J_transposed[i] = df / dx\n",
      "/Users/sabrina/opt/anaconda3/envs/tensorflow_env/lib/python3.7/site-packages/scipy/optimize/_numdiff.py:579: RuntimeWarning: invalid value encountered in true_divide\n",
      "  J_transposed[i] = df / dx\n",
      "/Users/sabrina/opt/anaconda3/envs/tensorflow_env/lib/python3.7/site-packages/scipy/optimize/_numdiff.py:579: RuntimeWarning: invalid value encountered in true_divide\n",
      "  J_transposed[i] = df / dx\n",
      "/Users/sabrina/opt/anaconda3/envs/tensorflow_env/lib/python3.7/site-packages/scipy/optimize/_numdiff.py:579: RuntimeWarning: invalid value encountered in true_divide\n",
      "  J_transposed[i] = df / dx\n",
      "/Users/sabrina/opt/anaconda3/envs/tensorflow_env/lib/python3.7/site-packages/scipy/optimize/_numdiff.py:579: RuntimeWarning: invalid value encountered in true_divide\n",
      "  J_transposed[i] = df / dx\n",
      "/Users/sabrina/opt/anaconda3/envs/tensorflow_env/lib/python3.7/site-packages/scipy/optimize/_numdiff.py:579: RuntimeWarning: invalid value encountered in true_divide\n",
      "  J_transposed[i] = df / dx\n",
      "/Users/sabrina/opt/anaconda3/envs/tensorflow_env/lib/python3.7/site-packages/scipy/optimize/_numdiff.py:579: RuntimeWarning: invalid value encountered in true_divide\n",
      "  J_transposed[i] = df / dx\n",
      "/Users/sabrina/opt/anaconda3/envs/tensorflow_env/lib/python3.7/site-packages/scipy/optimize/_numdiff.py:579: RuntimeWarning: invalid value encountered in true_divide\n",
      "  J_transposed[i] = df / dx\n",
      "/Users/sabrina/opt/anaconda3/envs/tensorflow_env/lib/python3.7/site-packages/scipy/optimize/_numdiff.py:579: RuntimeWarning: invalid value encountered in true_divide\n",
      "  J_transposed[i] = df / dx\n",
      "/Users/sabrina/opt/anaconda3/envs/tensorflow_env/lib/python3.7/site-packages/ipykernel_launcher.py:60: DeprecationWarning: KerasClassifier is deprecated, use Sci-Keras (https://github.com/adriangb/scikeras) instead. See https://www.adriangb.com/scikeras/stable/migration.html for help migrating.\n"
     ]
    },
    {
     "name": "stdout",
     "output_type": "stream",
     "text": [
      "| \u001b[0m28       \u001b[0m | \u001b[0m0.02688  \u001b[0m | \u001b[0m0.605    \u001b[0m | \u001b[0m0.0      \u001b[0m | \u001b[0m434.3    \u001b[0m | \u001b[0m0.8908   \u001b[0m | \u001b[0m0.1911   \u001b[0m | \u001b[0m48.31    \u001b[0m | \u001b[0m2.046    \u001b[0m | \u001b[0m1.123    \u001b[0m | \u001b[0m0.004483 \u001b[0m | \u001b[0m475.9    \u001b[0m | \u001b[0m307.3    \u001b[0m | \u001b[0m315.2    \u001b[0m | \u001b[0m1.398    \u001b[0m |\n"
     ]
    },
    {
     "name": "stderr",
     "output_type": "stream",
     "text": [
      "/Users/sabrina/opt/anaconda3/envs/tensorflow_env/lib/python3.7/site-packages/scipy/optimize/_numdiff.py:579: RuntimeWarning: invalid value encountered in true_divide\n",
      "  J_transposed[i] = df / dx\n",
      "/Users/sabrina/opt/anaconda3/envs/tensorflow_env/lib/python3.7/site-packages/scipy/optimize/_numdiff.py:579: RuntimeWarning: invalid value encountered in true_divide\n",
      "  J_transposed[i] = df / dx\n",
      "/Users/sabrina/opt/anaconda3/envs/tensorflow_env/lib/python3.7/site-packages/scipy/optimize/_numdiff.py:579: RuntimeWarning: invalid value encountered in true_divide\n",
      "  J_transposed[i] = df / dx\n",
      "/Users/sabrina/opt/anaconda3/envs/tensorflow_env/lib/python3.7/site-packages/scipy/optimize/_numdiff.py:579: RuntimeWarning: invalid value encountered in true_divide\n",
      "  J_transposed[i] = df / dx\n",
      "/Users/sabrina/opt/anaconda3/envs/tensorflow_env/lib/python3.7/site-packages/scipy/optimize/_numdiff.py:579: RuntimeWarning: invalid value encountered in true_divide\n",
      "  J_transposed[i] = df / dx\n",
      "/Users/sabrina/opt/anaconda3/envs/tensorflow_env/lib/python3.7/site-packages/scipy/optimize/_numdiff.py:579: RuntimeWarning: invalid value encountered in true_divide\n",
      "  J_transposed[i] = df / dx\n",
      "/Users/sabrina/opt/anaconda3/envs/tensorflow_env/lib/python3.7/site-packages/scipy/optimize/_numdiff.py:579: RuntimeWarning: invalid value encountered in true_divide\n",
      "  J_transposed[i] = df / dx\n",
      "/Users/sabrina/opt/anaconda3/envs/tensorflow_env/lib/python3.7/site-packages/scipy/optimize/_numdiff.py:579: RuntimeWarning: invalid value encountered in true_divide\n",
      "  J_transposed[i] = df / dx\n",
      "/Users/sabrina/opt/anaconda3/envs/tensorflow_env/lib/python3.7/site-packages/scipy/optimize/_numdiff.py:579: RuntimeWarning: invalid value encountered in true_divide\n",
      "  J_transposed[i] = df / dx\n",
      "/Users/sabrina/opt/anaconda3/envs/tensorflow_env/lib/python3.7/site-packages/scipy/optimize/_numdiff.py:579: RuntimeWarning: invalid value encountered in true_divide\n",
      "  J_transposed[i] = df / dx\n",
      "/Users/sabrina/opt/anaconda3/envs/tensorflow_env/lib/python3.7/site-packages/ipykernel_launcher.py:60: DeprecationWarning: KerasClassifier is deprecated, use Sci-Keras (https://github.com/adriangb/scikeras) instead. See https://www.adriangb.com/scikeras/stable/migration.html for help migrating.\n"
     ]
    },
    {
     "name": "stdout",
     "output_type": "stream",
     "text": [
      "| \u001b[0m29       \u001b[0m | \u001b[0m0.02688  \u001b[0m | \u001b[0m0.6807   \u001b[0m | \u001b[0m0.0      \u001b[0m | \u001b[0m400.1    \u001b[0m | \u001b[0m0.4162   \u001b[0m | \u001b[0m0.1374   \u001b[0m | \u001b[0m42.49    \u001b[0m | \u001b[0m1.654    \u001b[0m | \u001b[0m2.655    \u001b[0m | \u001b[0m0.002218 \u001b[0m | \u001b[0m129.0    \u001b[0m | \u001b[0m145.3    \u001b[0m | \u001b[0m398.8    \u001b[0m | \u001b[0m0.9011   \u001b[0m |\n",
      "=====================================================================================================================================================================================\n"
     ]
    }
   ],
   "source": [
    "# Run Bayesian Optimization\n",
    "rnn_bo2 = BayesianOptimization(rnn_tuner2, params_rnn2, random_state=42)\n",
    "rnn_bo2.maximize(init_points=25, n_iter=4)"
   ]
  },
  {
   "cell_type": "code",
   "execution_count": 40,
   "metadata": {},
   "outputs": [
    {
     "data": {
      "text/plain": [
       "{'C': 0.005061583846218687,\n",
       " 'activation': 0.0,\n",
       " 'batch_size': 319.49351574663444,\n",
       " 'dropout': 0.6918951976926933,\n",
       " 'dropout_rate': 0.19558837785078015,\n",
       " 'epochs': 26.728079283816793,\n",
       " 'layers1': 2.4243584426950715,\n",
       " 'layers2': 1.4744981749936001,\n",
       " 'learning_rate': 0.003928597283433409,\n",
       " 'neurons1': 398.59656204720966,\n",
       " 'neurons2': 359.85315961888585,\n",
       " 'neurons3': 439.6893641976712,\n",
       " 'optimizer': 1.3152257846006867}"
      ]
     },
     "execution_count": 40,
     "metadata": {},
     "output_type": "execute_result"
    }
   ],
   "source": [
    "best_params = rnn_bo2.max[\"params\"]\n",
    "best_params"
   ]
  },
  {
   "cell_type": "code",
   "execution_count": 41,
   "metadata": {},
   "outputs": [],
   "source": [
    "optimizerL = ['Adam', 'SGD', 'RMSprop']\n",
    "optimizerD= {'Adam':Adam(learning_rate=round(best_params['learning_rate'],3)), 'SGD':SGD(learning_rate=round(best_params['learning_rate'],3)),\n",
    "              'RMSprop':RMSprop(learning_rate=round(best_params['learning_rate'],3))}"
   ]
  },
  {
   "cell_type": "code",
   "execution_count": 42,
   "metadata": {},
   "outputs": [
    {
     "name": "stdout",
     "output_type": "stream",
     "text": [
      "Epoch 1/400\n",
      "88/88 [==============================] - 0s 3ms/step - loss: 6.8247 - accuracy: 0.4448 - val_loss: 6.7759 - val_accuracy: 0.6150\n",
      "Epoch 2/400\n",
      "88/88 [==============================] - 0s 3ms/step - loss: 6.7435 - accuracy: 0.5681 - val_loss: 6.7231 - val_accuracy: 0.5950\n",
      "Epoch 3/400\n",
      "88/88 [==============================] - 0s 3ms/step - loss: 6.6677 - accuracy: 0.5871 - val_loss: 6.6739 - val_accuracy: 0.5775\n",
      "Epoch 4/400\n",
      "88/88 [==============================] - 0s 3ms/step - loss: 6.5922 - accuracy: 0.5928 - val_loss: 6.6050 - val_accuracy: 0.5975\n",
      "Epoch 5/400\n",
      "88/88 [==============================] - 0s 2ms/step - loss: 6.5179 - accuracy: 0.5968 - val_loss: 6.5509 - val_accuracy: 0.6050\n",
      "Epoch 6/400\n",
      "88/88 [==============================] - 0s 2ms/step - loss: 6.4536 - accuracy: 0.6007 - val_loss: 6.4917 - val_accuracy: 0.6125\n",
      "Epoch 7/400\n",
      "88/88 [==============================] - 0s 2ms/step - loss: 6.3895 - accuracy: 0.6133 - val_loss: 6.4292 - val_accuracy: 0.6325\n",
      "Epoch 8/400\n",
      "88/88 [==============================] - 0s 2ms/step - loss: 6.3314 - accuracy: 0.6140 - val_loss: 6.3753 - val_accuracy: 0.6450\n",
      "Epoch 9/400\n",
      "88/88 [==============================] - 0s 2ms/step - loss: 6.2777 - accuracy: 0.6269 - val_loss: 6.3280 - val_accuracy: 0.6525\n",
      "Epoch 10/400\n",
      "88/88 [==============================] - 0s 2ms/step - loss: 6.2235 - accuracy: 0.6355 - val_loss: 6.2773 - val_accuracy: 0.6750\n",
      "Epoch 11/400\n",
      "88/88 [==============================] - 0s 3ms/step - loss: 6.1740 - accuracy: 0.6427 - val_loss: 6.2250 - val_accuracy: 0.6875\n",
      "Epoch 12/400\n",
      "88/88 [==============================] - 0s 3ms/step - loss: 6.1245 - accuracy: 0.6466 - val_loss: 6.1791 - val_accuracy: 0.6900\n",
      "Epoch 13/400\n",
      "88/88 [==============================] - 0s 3ms/step - loss: 6.0785 - accuracy: 0.6487 - val_loss: 6.1458 - val_accuracy: 0.6850\n",
      "Epoch 14/400\n",
      "88/88 [==============================] - 0s 2ms/step - loss: 6.0289 - accuracy: 0.6645 - val_loss: 6.0958 - val_accuracy: 0.6900\n",
      "Epoch 15/400\n",
      "88/88 [==============================] - 0s 2ms/step - loss: 5.9827 - accuracy: 0.6613 - val_loss: 6.0586 - val_accuracy: 0.6925\n",
      "Epoch 16/400\n",
      "88/88 [==============================] - 0s 2ms/step - loss: 5.9424 - accuracy: 0.6674 - val_loss: 6.0199 - val_accuracy: 0.6800\n",
      "Epoch 17/400\n",
      "88/88 [==============================] - 0s 2ms/step - loss: 5.8977 - accuracy: 0.6656 - val_loss: 5.9914 - val_accuracy: 0.6725\n",
      "Epoch 18/400\n",
      "88/88 [==============================] - 0s 2ms/step - loss: 5.8549 - accuracy: 0.6810 - val_loss: 5.9418 - val_accuracy: 0.6825\n",
      "Epoch 19/400\n",
      "88/88 [==============================] - 0s 3ms/step - loss: 5.8129 - accuracy: 0.6778 - val_loss: 5.9050 - val_accuracy: 0.6825\n",
      "Epoch 20/400\n",
      "88/88 [==============================] - 0s 2ms/step - loss: 5.7703 - accuracy: 0.6907 - val_loss: 5.8487 - val_accuracy: 0.7000\n",
      "Epoch 21/400\n",
      "88/88 [==============================] - 0s 2ms/step - loss: 5.7313 - accuracy: 0.6885 - val_loss: 5.8195 - val_accuracy: 0.7025\n",
      "Epoch 22/400\n",
      "88/88 [==============================] - 0s 2ms/step - loss: 5.6897 - accuracy: 0.6928 - val_loss: 5.7769 - val_accuracy: 0.7050\n",
      "Epoch 23/400\n",
      "88/88 [==============================] - 0s 2ms/step - loss: 5.6472 - accuracy: 0.7029 - val_loss: 5.7610 - val_accuracy: 0.6925\n",
      "Epoch 24/400\n",
      "88/88 [==============================] - 0s 2ms/step - loss: 5.6145 - accuracy: 0.6946 - val_loss: 5.7344 - val_accuracy: 0.6825\n",
      "Epoch 25/400\n",
      "88/88 [==============================] - 0s 2ms/step - loss: 5.5710 - accuracy: 0.7111 - val_loss: 5.6849 - val_accuracy: 0.6950\n",
      "Epoch 26/400\n",
      "88/88 [==============================] - 0s 2ms/step - loss: 5.5320 - accuracy: 0.7082 - val_loss: 5.6246 - val_accuracy: 0.7100\n",
      "Epoch 27/400\n",
      "88/88 [==============================] - 0s 2ms/step - loss: 5.4958 - accuracy: 0.7086 - val_loss: 5.6234 - val_accuracy: 0.6900\n",
      "Epoch 28/400\n",
      "88/88 [==============================] - 0s 2ms/step - loss: 5.4563 - accuracy: 0.7183 - val_loss: 5.5948 - val_accuracy: 0.6875\n",
      "Epoch 29/400\n",
      "88/88 [==============================] - 0s 2ms/step - loss: 5.4198 - accuracy: 0.7240 - val_loss: 5.5620 - val_accuracy: 0.6800\n",
      "Epoch 30/400\n",
      "88/88 [==============================] - 0s 2ms/step - loss: 5.3797 - accuracy: 0.7297 - val_loss: 5.5258 - val_accuracy: 0.6825\n",
      "Epoch 31/400\n",
      "88/88 [==============================] - 0s 2ms/step - loss: 5.3467 - accuracy: 0.7276 - val_loss: 5.4655 - val_accuracy: 0.7075\n",
      "Epoch 32/400\n",
      "88/88 [==============================] - 0s 2ms/step - loss: 5.3112 - accuracy: 0.7301 - val_loss: 5.4580 - val_accuracy: 0.6875\n",
      "Epoch 33/400\n",
      "88/88 [==============================] - 0s 2ms/step - loss: 5.2723 - accuracy: 0.7409 - val_loss: 5.3940 - val_accuracy: 0.7025\n",
      "Epoch 34/400\n",
      "88/88 [==============================] - 0s 3ms/step - loss: 5.2422 - accuracy: 0.7326 - val_loss: 5.3868 - val_accuracy: 0.7000\n",
      "Epoch 35/400\n",
      "88/88 [==============================] - 0s 2ms/step - loss: 5.2041 - accuracy: 0.7341 - val_loss: 5.3745 - val_accuracy: 0.6775\n",
      "Epoch 36/400\n",
      "88/88 [==============================] - 0s 2ms/step - loss: 5.1708 - accuracy: 0.7427 - val_loss: 5.3244 - val_accuracy: 0.6950\n",
      "Epoch 37/400\n",
      "88/88 [==============================] - 0s 2ms/step - loss: 5.1329 - accuracy: 0.7516 - val_loss: 5.2872 - val_accuracy: 0.6975\n",
      "Epoch 38/400\n",
      "88/88 [==============================] - 0s 2ms/step - loss: 5.1023 - accuracy: 0.7459 - val_loss: 5.2392 - val_accuracy: 0.7125\n",
      "Epoch 39/400\n",
      "88/88 [==============================] - 0s 2ms/step - loss: 5.0648 - accuracy: 0.7473 - val_loss: 5.1959 - val_accuracy: 0.7125\n",
      "Epoch 40/400\n",
      "88/88 [==============================] - 0s 2ms/step - loss: 5.0302 - accuracy: 0.7538 - val_loss: 5.1938 - val_accuracy: 0.6925\n",
      "Epoch 41/400\n",
      "88/88 [==============================] - 0s 2ms/step - loss: 5.0006 - accuracy: 0.7548 - val_loss: 5.1759 - val_accuracy: 0.6875\n",
      "Epoch 42/400\n",
      "88/88 [==============================] - 0s 2ms/step - loss: 4.9652 - accuracy: 0.7588 - val_loss: 5.1225 - val_accuracy: 0.7050\n",
      "Epoch 43/400\n",
      "88/88 [==============================] - 0s 2ms/step - loss: 4.9332 - accuracy: 0.7581 - val_loss: 5.1070 - val_accuracy: 0.6975\n",
      "Epoch 44/400\n",
      "88/88 [==============================] - 0s 2ms/step - loss: 4.8978 - accuracy: 0.7663 - val_loss: 5.0773 - val_accuracy: 0.7000\n",
      "Epoch 45/400\n",
      "88/88 [==============================] - 0s 2ms/step - loss: 4.8684 - accuracy: 0.7595 - val_loss: 5.0282 - val_accuracy: 0.7125\n",
      "Epoch 46/400\n",
      "88/88 [==============================] - 0s 2ms/step - loss: 4.8404 - accuracy: 0.7638 - val_loss: 5.0480 - val_accuracy: 0.6800\n",
      "Epoch 47/400\n",
      "88/88 [==============================] - 0s 2ms/step - loss: 4.8058 - accuracy: 0.7674 - val_loss: 4.9904 - val_accuracy: 0.7050\n",
      "Epoch 48/400\n",
      "88/88 [==============================] - 0s 2ms/step - loss: 4.7753 - accuracy: 0.7656 - val_loss: 4.9630 - val_accuracy: 0.7000\n",
      "Epoch 49/400\n",
      "88/88 [==============================] - 0s 2ms/step - loss: 4.7412 - accuracy: 0.7767 - val_loss: 4.9274 - val_accuracy: 0.7050\n",
      "Epoch 50/400\n",
      "88/88 [==============================] - 0s 2ms/step - loss: 4.7111 - accuracy: 0.7667 - val_loss: 4.8804 - val_accuracy: 0.7125\n",
      "Epoch 51/400\n",
      "88/88 [==============================] - 0s 2ms/step - loss: 4.6830 - accuracy: 0.7685 - val_loss: 4.8556 - val_accuracy: 0.7100\n",
      "Epoch 52/400\n",
      "88/88 [==============================] - 0s 2ms/step - loss: 4.6528 - accuracy: 0.7756 - val_loss: 4.8462 - val_accuracy: 0.7050\n",
      "Epoch 53/400\n",
      "88/88 [==============================] - 0s 2ms/step - loss: 4.6210 - accuracy: 0.7796 - val_loss: 4.8207 - val_accuracy: 0.7050\n",
      "Epoch 54/400\n",
      "88/88 [==============================] - 0s 2ms/step - loss: 4.5922 - accuracy: 0.7760 - val_loss: 4.8106 - val_accuracy: 0.6725\n",
      "Epoch 55/400\n",
      "88/88 [==============================] - 0s 2ms/step - loss: 4.5608 - accuracy: 0.7760 - val_loss: 4.7757 - val_accuracy: 0.6775\n",
      "Epoch 56/400\n",
      "88/88 [==============================] - 0s 2ms/step - loss: 4.5327 - accuracy: 0.7803 - val_loss: 4.6948 - val_accuracy: 0.7200\n",
      "Epoch 57/400\n",
      "88/88 [==============================] - 0s 2ms/step - loss: 4.5020 - accuracy: 0.7799 - val_loss: 4.7083 - val_accuracy: 0.6850\n",
      "Epoch 58/400\n",
      "88/88 [==============================] - 0s 2ms/step - loss: 4.4770 - accuracy: 0.7860 - val_loss: 4.6713 - val_accuracy: 0.6975\n",
      "Epoch 59/400\n",
      "88/88 [==============================] - 0s 2ms/step - loss: 4.4459 - accuracy: 0.7846 - val_loss: 4.6054 - val_accuracy: 0.7125\n",
      "Epoch 60/400\n",
      "88/88 [==============================] - 0s 2ms/step - loss: 4.4183 - accuracy: 0.7832 - val_loss: 4.6188 - val_accuracy: 0.6975\n",
      "Epoch 61/400\n",
      "88/88 [==============================] - 0s 2ms/step - loss: 4.3876 - accuracy: 0.7842 - val_loss: 4.5740 - val_accuracy: 0.7050\n",
      "Epoch 62/400\n",
      "88/88 [==============================] - 0s 2ms/step - loss: 4.3587 - accuracy: 0.7806 - val_loss: 4.5733 - val_accuracy: 0.6850\n",
      "Epoch 63/400\n",
      "88/88 [==============================] - 0s 2ms/step - loss: 4.3322 - accuracy: 0.7907 - val_loss: 4.5487 - val_accuracy: 0.6875\n",
      "Epoch 64/400\n",
      "88/88 [==============================] - 0s 2ms/step - loss: 4.3081 - accuracy: 0.7857 - val_loss: 4.4788 - val_accuracy: 0.7150\n",
      "Epoch 65/400\n",
      "88/88 [==============================] - 0s 2ms/step - loss: 4.2784 - accuracy: 0.7914 - val_loss: 4.4938 - val_accuracy: 0.6825\n",
      "Epoch 66/400\n",
      "88/88 [==============================] - 0s 2ms/step - loss: 4.2455 - accuracy: 0.7892 - val_loss: 4.4584 - val_accuracy: 0.6750\n",
      "Epoch 67/400\n",
      "88/88 [==============================] - 0s 2ms/step - loss: 4.2214 - accuracy: 0.7932 - val_loss: 4.4347 - val_accuracy: 0.6900\n",
      "Epoch 68/400\n",
      "88/88 [==============================] - 0s 2ms/step - loss: 4.1974 - accuracy: 0.7910 - val_loss: 4.4308 - val_accuracy: 0.6675\n",
      "Epoch 69/400\n",
      "88/88 [==============================] - 0s 2ms/step - loss: 4.1697 - accuracy: 0.7914 - val_loss: 4.3657 - val_accuracy: 0.6975\n",
      "Epoch 70/400\n",
      "88/88 [==============================] - 0s 2ms/step - loss: 4.1392 - accuracy: 0.7946 - val_loss: 4.3282 - val_accuracy: 0.7025\n",
      "Epoch 71/400\n",
      "88/88 [==============================] - 0s 2ms/step - loss: 4.1137 - accuracy: 0.8000 - val_loss: 4.3276 - val_accuracy: 0.6850\n",
      "Epoch 72/400\n",
      "88/88 [==============================] - 0s 2ms/step - loss: 4.0884 - accuracy: 0.7996 - val_loss: 4.3374 - val_accuracy: 0.6625\n",
      "Epoch 73/400\n",
      "88/88 [==============================] - 0s 2ms/step - loss: 4.0598 - accuracy: 0.7989 - val_loss: 4.3168 - val_accuracy: 0.6550\n",
      "Epoch 74/400\n",
      "88/88 [==============================] - 0s 3ms/step - loss: 4.0363 - accuracy: 0.8025 - val_loss: 4.2711 - val_accuracy: 0.6775\n",
      "Epoch 75/400\n",
      "88/88 [==============================] - 0s 2ms/step - loss: 4.0090 - accuracy: 0.8050 - val_loss: 4.2518 - val_accuracy: 0.6700\n",
      "Epoch 76/400\n",
      "88/88 [==============================] - 0s 2ms/step - loss: 3.9860 - accuracy: 0.7989 - val_loss: 4.2162 - val_accuracy: 0.6775\n",
      "Epoch 77/400\n",
      "88/88 [==============================] - 0s 2ms/step - loss: 3.9595 - accuracy: 0.8018 - val_loss: 4.1748 - val_accuracy: 0.6850\n",
      "Epoch 78/400\n",
      "88/88 [==============================] - 0s 2ms/step - loss: 3.9306 - accuracy: 0.8115 - val_loss: 4.1570 - val_accuracy: 0.6950\n",
      "Epoch 79/400\n",
      "88/88 [==============================] - 0s 2ms/step - loss: 3.9111 - accuracy: 0.8093 - val_loss: 4.1438 - val_accuracy: 0.6800\n",
      "Epoch 80/400\n",
      "88/88 [==============================] - 0s 2ms/step - loss: 3.8839 - accuracy: 0.8061 - val_loss: 4.1256 - val_accuracy: 0.6750\n",
      "Epoch 81/400\n",
      "88/88 [==============================] - 0s 2ms/step - loss: 3.8601 - accuracy: 0.8068 - val_loss: 4.0980 - val_accuracy: 0.6800\n",
      "Epoch 82/400\n",
      "88/88 [==============================] - 0s 2ms/step - loss: 3.8413 - accuracy: 0.8129 - val_loss: 4.0945 - val_accuracy: 0.6675\n",
      "Epoch 83/400\n",
      "88/88 [==============================] - 0s 2ms/step - loss: 3.8083 - accuracy: 0.8183 - val_loss: 4.0490 - val_accuracy: 0.6825\n",
      "Epoch 84/400\n",
      "88/88 [==============================] - 0s 2ms/step - loss: 3.7888 - accuracy: 0.8165 - val_loss: 3.9984 - val_accuracy: 0.6875\n",
      "Epoch 85/400\n",
      "88/88 [==============================] - 0s 2ms/step - loss: 3.7668 - accuracy: 0.8133 - val_loss: 4.0389 - val_accuracy: 0.6600\n",
      "Epoch 86/400\n",
      "88/88 [==============================] - 0s 2ms/step - loss: 3.7391 - accuracy: 0.8186 - val_loss: 3.9926 - val_accuracy: 0.6675\n",
      "Epoch 87/400\n",
      "88/88 [==============================] - 0s 2ms/step - loss: 3.7159 - accuracy: 0.8147 - val_loss: 3.9880 - val_accuracy: 0.6700\n",
      "Epoch 88/400\n",
      "88/88 [==============================] - 0s 2ms/step - loss: 3.6950 - accuracy: 0.8129 - val_loss: 3.9342 - val_accuracy: 0.6850\n",
      "Epoch 89/400\n",
      "88/88 [==============================] - 0s 2ms/step - loss: 3.6692 - accuracy: 0.8143 - val_loss: 3.9018 - val_accuracy: 0.6900\n",
      "Epoch 90/400\n",
      "88/88 [==============================] - 0s 2ms/step - loss: 3.6499 - accuracy: 0.8143 - val_loss: 3.8862 - val_accuracy: 0.6800\n",
      "Epoch 91/400\n",
      "88/88 [==============================] - 0s 2ms/step - loss: 3.6164 - accuracy: 0.8233 - val_loss: 3.8921 - val_accuracy: 0.6725\n",
      "Epoch 92/400\n",
      "88/88 [==============================] - 0s 2ms/step - loss: 3.6001 - accuracy: 0.8194 - val_loss: 3.8810 - val_accuracy: 0.6650\n",
      "Epoch 93/400\n",
      "88/88 [==============================] - 0s 2ms/step - loss: 3.5783 - accuracy: 0.8215 - val_loss: 3.8286 - val_accuracy: 0.6825\n",
      "Epoch 94/400\n",
      "88/88 [==============================] - 0s 3ms/step - loss: 3.5556 - accuracy: 0.8226 - val_loss: 3.8106 - val_accuracy: 0.6725\n",
      "Epoch 95/400\n",
      "88/88 [==============================] - 0s 2ms/step - loss: 3.5299 - accuracy: 0.8280 - val_loss: 3.8081 - val_accuracy: 0.6625\n",
      "Epoch 96/400\n",
      "88/88 [==============================] - 0s 2ms/step - loss: 3.5085 - accuracy: 0.8276 - val_loss: 3.7859 - val_accuracy: 0.6575\n",
      "Epoch 97/400\n",
      "88/88 [==============================] - 0s 2ms/step - loss: 3.4871 - accuracy: 0.8330 - val_loss: 3.7135 - val_accuracy: 0.7075\n",
      "Epoch 98/400\n",
      "88/88 [==============================] - 0s 2ms/step - loss: 3.4653 - accuracy: 0.8280 - val_loss: 3.7215 - val_accuracy: 0.6800\n",
      "Epoch 99/400\n",
      "88/88 [==============================] - 0s 3ms/step - loss: 3.4445 - accuracy: 0.8280 - val_loss: 3.7011 - val_accuracy: 0.6900\n",
      "Epoch 100/400\n",
      "88/88 [==============================] - 0s 3ms/step - loss: 3.4207 - accuracy: 0.8344 - val_loss: 3.6982 - val_accuracy: 0.6725\n",
      "Epoch 101/400\n",
      "88/88 [==============================] - 0s 3ms/step - loss: 3.4018 - accuracy: 0.8294 - val_loss: 3.6986 - val_accuracy: 0.6675\n",
      "Epoch 102/400\n",
      "88/88 [==============================] - 0s 2ms/step - loss: 3.3774 - accuracy: 0.8387 - val_loss: 3.6189 - val_accuracy: 0.6975\n",
      "Epoch 103/400\n",
      "88/88 [==============================] - 0s 2ms/step - loss: 3.3570 - accuracy: 0.8376 - val_loss: 3.6415 - val_accuracy: 0.6825\n",
      "Epoch 104/400\n",
      "88/88 [==============================] - 0s 2ms/step - loss: 3.3382 - accuracy: 0.8305 - val_loss: 3.6331 - val_accuracy: 0.6675\n",
      "Epoch 105/400\n",
      "88/88 [==============================] - 0s 2ms/step - loss: 3.3179 - accuracy: 0.8376 - val_loss: 3.6221 - val_accuracy: 0.6550\n",
      "Epoch 106/400\n",
      "88/88 [==============================] - 0s 2ms/step - loss: 3.2970 - accuracy: 0.8387 - val_loss: 3.6143 - val_accuracy: 0.6625\n",
      "Epoch 107/400\n",
      "88/88 [==============================] - 0s 2ms/step - loss: 3.2719 - accuracy: 0.8391 - val_loss: 3.5636 - val_accuracy: 0.6750\n",
      "Epoch 108/400\n",
      "88/88 [==============================] - 0s 2ms/step - loss: 3.2561 - accuracy: 0.8409 - val_loss: 3.5576 - val_accuracy: 0.6775\n",
      "Epoch 109/400\n",
      "88/88 [==============================] - 0s 2ms/step - loss: 3.2324 - accuracy: 0.8430 - val_loss: 3.5348 - val_accuracy: 0.6825\n",
      "Epoch 110/400\n",
      "88/88 [==============================] - 0s 2ms/step - loss: 3.2104 - accuracy: 0.8470 - val_loss: 3.5173 - val_accuracy: 0.6775\n",
      "Epoch 111/400\n",
      "88/88 [==============================] - 0s 2ms/step - loss: 3.1927 - accuracy: 0.8441 - val_loss: 3.4587 - val_accuracy: 0.6950\n",
      "Epoch 112/400\n",
      "88/88 [==============================] - 0s 2ms/step - loss: 3.1709 - accuracy: 0.8441 - val_loss: 3.4581 - val_accuracy: 0.6875\n",
      "Epoch 113/400\n",
      "88/88 [==============================] - 0s 2ms/step - loss: 3.1550 - accuracy: 0.8513 - val_loss: 3.4083 - val_accuracy: 0.7125\n",
      "Epoch 114/400\n",
      "88/88 [==============================] - 0s 2ms/step - loss: 3.1351 - accuracy: 0.8466 - val_loss: 3.4320 - val_accuracy: 0.6875\n",
      "Epoch 115/400\n",
      "88/88 [==============================] - 0s 2ms/step - loss: 3.1197 - accuracy: 0.8412 - val_loss: 3.4285 - val_accuracy: 0.6675\n",
      "Epoch 116/400\n",
      "88/88 [==============================] - 0s 2ms/step - loss: 3.0965 - accuracy: 0.8498 - val_loss: 3.3957 - val_accuracy: 0.6900\n",
      "Epoch 117/400\n",
      "88/88 [==============================] - 0s 2ms/step - loss: 3.0752 - accuracy: 0.8480 - val_loss: 3.3900 - val_accuracy: 0.6800\n",
      "Epoch 118/400\n",
      "88/88 [==============================] - 0s 2ms/step - loss: 3.0586 - accuracy: 0.8473 - val_loss: 3.3115 - val_accuracy: 0.7100\n",
      "Epoch 119/400\n",
      "88/88 [==============================] - 0s 2ms/step - loss: 3.0401 - accuracy: 0.8487 - val_loss: 3.3209 - val_accuracy: 0.6950\n",
      "Epoch 120/400\n",
      "88/88 [==============================] - 0s 2ms/step - loss: 3.0206 - accuracy: 0.8498 - val_loss: 3.3240 - val_accuracy: 0.6875\n",
      "Epoch 121/400\n",
      "88/88 [==============================] - 0s 2ms/step - loss: 3.0062 - accuracy: 0.8534 - val_loss: 3.3469 - val_accuracy: 0.6525\n",
      "Epoch 122/400\n",
      "88/88 [==============================] - 0s 2ms/step - loss: 2.9804 - accuracy: 0.8577 - val_loss: 3.2805 - val_accuracy: 0.7000\n",
      "Epoch 123/400\n",
      "88/88 [==============================] - 0s 2ms/step - loss: 2.9611 - accuracy: 0.8581 - val_loss: 3.2833 - val_accuracy: 0.6875\n",
      "Epoch 124/400\n",
      "88/88 [==============================] - 0s 2ms/step - loss: 2.9520 - accuracy: 0.8538 - val_loss: 3.2525 - val_accuracy: 0.6850\n",
      "Epoch 125/400\n",
      "88/88 [==============================] - 0s 2ms/step - loss: 2.9246 - accuracy: 0.8631 - val_loss: 3.2665 - val_accuracy: 0.6750\n",
      "Epoch 126/400\n",
      "88/88 [==============================] - 0s 2ms/step - loss: 2.9123 - accuracy: 0.8595 - val_loss: 3.2453 - val_accuracy: 0.6800\n",
      "Epoch 127/400\n",
      "88/88 [==============================] - 0s 2ms/step - loss: 2.8896 - accuracy: 0.8652 - val_loss: 3.1974 - val_accuracy: 0.6925\n",
      "Epoch 128/400\n",
      "88/88 [==============================] - 0s 2ms/step - loss: 2.8766 - accuracy: 0.8577 - val_loss: 3.1980 - val_accuracy: 0.6850\n",
      "Epoch 129/400\n",
      "88/88 [==============================] - 0s 2ms/step - loss: 2.8547 - accuracy: 0.8645 - val_loss: 3.1912 - val_accuracy: 0.6825\n",
      "Epoch 130/400\n",
      "88/88 [==============================] - 0s 2ms/step - loss: 2.8364 - accuracy: 0.8692 - val_loss: 3.1176 - val_accuracy: 0.7075\n",
      "Epoch 131/400\n",
      "88/88 [==============================] - 0s 2ms/step - loss: 2.8212 - accuracy: 0.8642 - val_loss: 3.1198 - val_accuracy: 0.7025\n",
      "Epoch 132/400\n",
      "88/88 [==============================] - 0s 2ms/step - loss: 2.8032 - accuracy: 0.8677 - val_loss: 3.0863 - val_accuracy: 0.7075\n",
      "Epoch 133/400\n",
      "88/88 [==============================] - 0s 2ms/step - loss: 2.7887 - accuracy: 0.8695 - val_loss: 3.1115 - val_accuracy: 0.6975\n",
      "Epoch 134/400\n",
      "88/88 [==============================] - 0s 2ms/step - loss: 2.7671 - accuracy: 0.8685 - val_loss: 3.0796 - val_accuracy: 0.7025\n",
      "Epoch 135/400\n",
      "88/88 [==============================] - 0s 2ms/step - loss: 2.7539 - accuracy: 0.8688 - val_loss: 3.0188 - val_accuracy: 0.7275\n",
      "Epoch 136/400\n",
      "88/88 [==============================] - 0s 3ms/step - loss: 2.7409 - accuracy: 0.8670 - val_loss: 3.0171 - val_accuracy: 0.7200\n",
      "Epoch 137/400\n",
      "88/88 [==============================] - 0s 2ms/step - loss: 2.7186 - accuracy: 0.8735 - val_loss: 3.0703 - val_accuracy: 0.6800\n",
      "Epoch 138/400\n",
      "88/88 [==============================] - 0s 3ms/step - loss: 2.7010 - accuracy: 0.8756 - val_loss: 3.0753 - val_accuracy: 0.6775\n",
      "Epoch 139/400\n",
      "88/88 [==============================] - 0s 2ms/step - loss: 2.6864 - accuracy: 0.8767 - val_loss: 3.0018 - val_accuracy: 0.7000\n",
      "Epoch 140/400\n",
      "88/88 [==============================] - 0s 2ms/step - loss: 2.6735 - accuracy: 0.8735 - val_loss: 3.0155 - val_accuracy: 0.6875\n",
      "Epoch 141/400\n",
      "88/88 [==============================] - 0s 2ms/step - loss: 2.6549 - accuracy: 0.8763 - val_loss: 2.9835 - val_accuracy: 0.6900\n",
      "Epoch 142/400\n",
      "88/88 [==============================] - 0s 2ms/step - loss: 2.6373 - accuracy: 0.8774 - val_loss: 2.9818 - val_accuracy: 0.6925\n",
      "Epoch 143/400\n",
      "88/88 [==============================] - 0s 2ms/step - loss: 2.6242 - accuracy: 0.8771 - val_loss: 2.9559 - val_accuracy: 0.6875\n",
      "Epoch 144/400\n",
      "88/88 [==============================] - 0s 2ms/step - loss: 2.6087 - accuracy: 0.8799 - val_loss: 2.9262 - val_accuracy: 0.7050\n",
      "Epoch 145/400\n",
      "88/88 [==============================] - 0s 2ms/step - loss: 2.5911 - accuracy: 0.8785 - val_loss: 2.9129 - val_accuracy: 0.7025\n",
      "Epoch 146/400\n",
      "88/88 [==============================] - 0s 3ms/step - loss: 2.5789 - accuracy: 0.8735 - val_loss: 2.9239 - val_accuracy: 0.6975\n",
      "Epoch 147/400\n",
      "88/88 [==============================] - 0s 3ms/step - loss: 2.5625 - accuracy: 0.8792 - val_loss: 2.8719 - val_accuracy: 0.7150\n",
      "Epoch 148/400\n",
      "88/88 [==============================] - 0s 3ms/step - loss: 2.5420 - accuracy: 0.8875 - val_loss: 2.8831 - val_accuracy: 0.7050\n",
      "Epoch 149/400\n",
      "88/88 [==============================] - 0s 2ms/step - loss: 2.5287 - accuracy: 0.8857 - val_loss: 2.8355 - val_accuracy: 0.7100\n",
      "Epoch 150/400\n",
      "88/88 [==============================] - 0s 2ms/step - loss: 2.5119 - accuracy: 0.8853 - val_loss: 2.8836 - val_accuracy: 0.6975\n",
      "Epoch 151/400\n",
      "88/88 [==============================] - 0s 2ms/step - loss: 2.4980 - accuracy: 0.8878 - val_loss: 2.8610 - val_accuracy: 0.6975\n",
      "Epoch 152/400\n",
      "88/88 [==============================] - 0s 3ms/step - loss: 2.4845 - accuracy: 0.8864 - val_loss: 2.8357 - val_accuracy: 0.7000\n",
      "Epoch 153/400\n",
      "88/88 [==============================] - 0s 2ms/step - loss: 2.4633 - accuracy: 0.8867 - val_loss: 2.7785 - val_accuracy: 0.7425\n",
      "Epoch 154/400\n",
      "88/88 [==============================] - 0s 3ms/step - loss: 2.4541 - accuracy: 0.8846 - val_loss: 2.8425 - val_accuracy: 0.6875\n",
      "Epoch 155/400\n",
      "88/88 [==============================] - 0s 2ms/step - loss: 2.4401 - accuracy: 0.8846 - val_loss: 2.7566 - val_accuracy: 0.7350\n",
      "Epoch 156/400\n",
      "88/88 [==============================] - 0s 2ms/step - loss: 2.4245 - accuracy: 0.8821 - val_loss: 2.7655 - val_accuracy: 0.7050\n",
      "Epoch 157/400\n",
      "88/88 [==============================] - 0s 3ms/step - loss: 2.4080 - accuracy: 0.8910 - val_loss: 2.6942 - val_accuracy: 0.7500\n",
      "Epoch 158/400\n",
      "88/88 [==============================] - 0s 2ms/step - loss: 2.3925 - accuracy: 0.8921 - val_loss: 2.7260 - val_accuracy: 0.7300\n",
      "Epoch 159/400\n",
      "88/88 [==============================] - 0s 2ms/step - loss: 2.3805 - accuracy: 0.8892 - val_loss: 2.7340 - val_accuracy: 0.7125\n",
      "Epoch 160/400\n",
      "88/88 [==============================] - 0s 2ms/step - loss: 2.3624 - accuracy: 0.8914 - val_loss: 2.6638 - val_accuracy: 0.7325\n",
      "Epoch 161/400\n",
      "88/88 [==============================] - 0s 2ms/step - loss: 2.3579 - accuracy: 0.8910 - val_loss: 2.6916 - val_accuracy: 0.7275\n",
      "Epoch 162/400\n",
      "88/88 [==============================] - 0s 2ms/step - loss: 2.3376 - accuracy: 0.8957 - val_loss: 2.6666 - val_accuracy: 0.7300\n",
      "Epoch 163/400\n",
      "88/88 [==============================] - 0s 2ms/step - loss: 2.3245 - accuracy: 0.8946 - val_loss: 2.6286 - val_accuracy: 0.7400\n",
      "Epoch 164/400\n",
      "88/88 [==============================] - 0s 2ms/step - loss: 2.3144 - accuracy: 0.8903 - val_loss: 2.6541 - val_accuracy: 0.7250\n",
      "Epoch 165/400\n",
      "88/88 [==============================] - 0s 2ms/step - loss: 2.3024 - accuracy: 0.8914 - val_loss: 2.5978 - val_accuracy: 0.7500\n",
      "Epoch 166/400\n",
      "88/88 [==============================] - 0s 3ms/step - loss: 2.2809 - accuracy: 0.8986 - val_loss: 2.6428 - val_accuracy: 0.7275\n",
      "Epoch 167/400\n",
      "88/88 [==============================] - 0s 3ms/step - loss: 2.2731 - accuracy: 0.8943 - val_loss: 2.6155 - val_accuracy: 0.7375\n",
      "Epoch 168/400\n",
      "88/88 [==============================] - 0s 3ms/step - loss: 2.2542 - accuracy: 0.8978 - val_loss: 2.6647 - val_accuracy: 0.6850\n",
      "Epoch 169/400\n",
      "88/88 [==============================] - 0s 2ms/step - loss: 2.2442 - accuracy: 0.8939 - val_loss: 2.5353 - val_accuracy: 0.7550\n",
      "Epoch 170/400\n",
      "88/88 [==============================] - 0s 3ms/step - loss: 2.2325 - accuracy: 0.9014 - val_loss: 2.5898 - val_accuracy: 0.7175\n",
      "Epoch 171/400\n",
      "88/88 [==============================] - 0s 3ms/step - loss: 2.2198 - accuracy: 0.8971 - val_loss: 2.5868 - val_accuracy: 0.7175\n",
      "Epoch 172/400\n",
      "88/88 [==============================] - 0s 3ms/step - loss: 2.2030 - accuracy: 0.9022 - val_loss: 2.5660 - val_accuracy: 0.7275\n",
      "Epoch 173/400\n",
      "88/88 [==============================] - 0s 3ms/step - loss: 2.1887 - accuracy: 0.9011 - val_loss: 2.5121 - val_accuracy: 0.7575\n",
      "Epoch 174/400\n",
      "88/88 [==============================] - 0s 2ms/step - loss: 2.1838 - accuracy: 0.8986 - val_loss: 2.5579 - val_accuracy: 0.7100\n",
      "Epoch 175/400\n",
      "88/88 [==============================] - 0s 3ms/step - loss: 2.1654 - accuracy: 0.9039 - val_loss: 2.5061 - val_accuracy: 0.7350\n",
      "Epoch 176/400\n",
      "88/88 [==============================] - 0s 3ms/step - loss: 2.1508 - accuracy: 0.9036 - val_loss: 2.4707 - val_accuracy: 0.7575\n",
      "Epoch 177/400\n",
      "88/88 [==============================] - 0s 2ms/step - loss: 2.1448 - accuracy: 0.9022 - val_loss: 2.4854 - val_accuracy: 0.7250\n",
      "Epoch 178/400\n",
      "88/88 [==============================] - 0s 2ms/step - loss: 2.1284 - accuracy: 0.9079 - val_loss: 2.5158 - val_accuracy: 0.7200\n",
      "Epoch 179/400\n",
      "88/88 [==============================] - 0s 3ms/step - loss: 2.1167 - accuracy: 0.9022 - val_loss: 2.4769 - val_accuracy: 0.7400\n",
      "Epoch 180/400\n",
      "88/88 [==============================] - 0s 3ms/step - loss: 2.1015 - accuracy: 0.9061 - val_loss: 2.4942 - val_accuracy: 0.7150\n",
      "Epoch 181/400\n",
      "88/88 [==============================] - 0s 2ms/step - loss: 2.0914 - accuracy: 0.9018 - val_loss: 2.4208 - val_accuracy: 0.7475\n",
      "Epoch 182/400\n",
      "88/88 [==============================] - 0s 2ms/step - loss: 2.0790 - accuracy: 0.9025 - val_loss: 2.4319 - val_accuracy: 0.7500\n",
      "Epoch 183/400\n",
      "88/88 [==============================] - 0s 2ms/step - loss: 2.0661 - accuracy: 0.9082 - val_loss: 2.4423 - val_accuracy: 0.7400\n",
      "Epoch 184/400\n",
      "88/88 [==============================] - 0s 2ms/step - loss: 2.0574 - accuracy: 0.9086 - val_loss: 2.4259 - val_accuracy: 0.7500\n",
      "Epoch 185/400\n",
      "88/88 [==============================] - 0s 2ms/step - loss: 2.0422 - accuracy: 0.9140 - val_loss: 2.4435 - val_accuracy: 0.7125\n",
      "Epoch 186/400\n",
      "88/88 [==============================] - 0s 3ms/step - loss: 2.0274 - accuracy: 0.9111 - val_loss: 2.3617 - val_accuracy: 0.7575\n",
      "Epoch 187/400\n",
      "88/88 [==============================] - 0s 3ms/step - loss: 2.0200 - accuracy: 0.9158 - val_loss: 2.3891 - val_accuracy: 0.7425\n",
      "Epoch 188/400\n",
      "88/88 [==============================] - 0s 2ms/step - loss: 2.0067 - accuracy: 0.9108 - val_loss: 2.3868 - val_accuracy: 0.7350\n",
      "Epoch 189/400\n",
      "88/88 [==============================] - 0s 2ms/step - loss: 1.9987 - accuracy: 0.9115 - val_loss: 2.3435 - val_accuracy: 0.7600\n",
      "Epoch 190/400\n",
      "88/88 [==============================] - 0s 3ms/step - loss: 1.9871 - accuracy: 0.9133 - val_loss: 2.3825 - val_accuracy: 0.7250\n",
      "Epoch 191/400\n",
      "88/88 [==============================] - 0s 3ms/step - loss: 1.9728 - accuracy: 0.9118 - val_loss: 2.3171 - val_accuracy: 0.7700\n",
      "Epoch 192/400\n",
      "88/88 [==============================] - 0s 2ms/step - loss: 1.9631 - accuracy: 0.9108 - val_loss: 2.2662 - val_accuracy: 0.7950\n",
      "Epoch 193/400\n",
      "88/88 [==============================] - 0s 3ms/step - loss: 1.9548 - accuracy: 0.9118 - val_loss: 2.3324 - val_accuracy: 0.7550\n",
      "Epoch 194/400\n",
      "88/88 [==============================] - 0s 3ms/step - loss: 1.9376 - accuracy: 0.9129 - val_loss: 2.3034 - val_accuracy: 0.7550\n",
      "Epoch 195/400\n",
      "88/88 [==============================] - 0s 3ms/step - loss: 1.9227 - accuracy: 0.9161 - val_loss: 2.3091 - val_accuracy: 0.7450\n",
      "Epoch 196/400\n",
      "88/88 [==============================] - 0s 3ms/step - loss: 1.9166 - accuracy: 0.9172 - val_loss: 2.3220 - val_accuracy: 0.7350\n",
      "Epoch 197/400\n",
      "88/88 [==============================] - 0s 3ms/step - loss: 1.9078 - accuracy: 0.9158 - val_loss: 2.3281 - val_accuracy: 0.7325\n",
      "Epoch 198/400\n",
      "88/88 [==============================] - 0s 2ms/step - loss: 1.8926 - accuracy: 0.9151 - val_loss: 2.3099 - val_accuracy: 0.7325\n",
      "Epoch 199/400\n",
      "88/88 [==============================] - 0s 3ms/step - loss: 1.8855 - accuracy: 0.9154 - val_loss: 2.2359 - val_accuracy: 0.7750\n",
      "Epoch 200/400\n",
      "88/88 [==============================] - 0s 2ms/step - loss: 1.8733 - accuracy: 0.9183 - val_loss: 2.3021 - val_accuracy: 0.7200\n",
      "Epoch 201/400\n",
      "88/88 [==============================] - 0s 2ms/step - loss: 1.8681 - accuracy: 0.9158 - val_loss: 2.2395 - val_accuracy: 0.7525\n",
      "Epoch 202/400\n",
      "88/88 [==============================] - 0s 2ms/step - loss: 1.8582 - accuracy: 0.9194 - val_loss: 2.1966 - val_accuracy: 0.7750\n",
      "Epoch 203/400\n",
      "88/88 [==============================] - 0s 3ms/step - loss: 1.8432 - accuracy: 0.9197 - val_loss: 2.2081 - val_accuracy: 0.7625\n",
      "Epoch 204/400\n",
      "88/88 [==============================] - 0s 2ms/step - loss: 1.8307 - accuracy: 0.9197 - val_loss: 2.1698 - val_accuracy: 0.7825\n",
      "Epoch 205/400\n",
      "88/88 [==============================] - 0s 2ms/step - loss: 1.8246 - accuracy: 0.9197 - val_loss: 2.2023 - val_accuracy: 0.7675\n",
      "Epoch 206/400\n",
      "88/88 [==============================] - 0s 2ms/step - loss: 1.8136 - accuracy: 0.9201 - val_loss: 2.2370 - val_accuracy: 0.7525\n",
      "Epoch 207/400\n",
      "88/88 [==============================] - 0s 2ms/step - loss: 1.8011 - accuracy: 0.9154 - val_loss: 2.1677 - val_accuracy: 0.7650\n",
      "Epoch 208/400\n",
      "88/88 [==============================] - 0s 2ms/step - loss: 1.7904 - accuracy: 0.9215 - val_loss: 2.1801 - val_accuracy: 0.7550\n",
      "Epoch 209/400\n",
      "88/88 [==============================] - 0s 2ms/step - loss: 1.7864 - accuracy: 0.9215 - val_loss: 2.1883 - val_accuracy: 0.7600\n",
      "Epoch 210/400\n",
      "88/88 [==============================] - 0s 2ms/step - loss: 1.7723 - accuracy: 0.9219 - val_loss: 2.1657 - val_accuracy: 0.7600\n",
      "Epoch 211/400\n",
      "88/88 [==============================] - 0s 3ms/step - loss: 1.7648 - accuracy: 0.9229 - val_loss: 2.1130 - val_accuracy: 0.7700\n",
      "Epoch 212/400\n",
      "88/88 [==============================] - 0s 3ms/step - loss: 1.7537 - accuracy: 0.9215 - val_loss: 2.1671 - val_accuracy: 0.7475\n",
      "Epoch 213/400\n",
      "88/88 [==============================] - 0s 2ms/step - loss: 1.7411 - accuracy: 0.9287 - val_loss: 2.1181 - val_accuracy: 0.7650\n",
      "Epoch 214/400\n",
      "88/88 [==============================] - 0s 3ms/step - loss: 1.7315 - accuracy: 0.9251 - val_loss: 2.1149 - val_accuracy: 0.7625\n",
      "Epoch 215/400\n",
      "88/88 [==============================] - 0s 2ms/step - loss: 1.7234 - accuracy: 0.9269 - val_loss: 2.2030 - val_accuracy: 0.7175\n",
      "Epoch 216/400\n",
      "88/88 [==============================] - 0s 2ms/step - loss: 1.7173 - accuracy: 0.9211 - val_loss: 2.1243 - val_accuracy: 0.7575\n",
      "Epoch 217/400\n",
      "88/88 [==============================] - 0s 2ms/step - loss: 1.7025 - accuracy: 0.9251 - val_loss: 2.1458 - val_accuracy: 0.7550\n",
      "Epoch 218/400\n",
      "88/88 [==============================] - 0s 2ms/step - loss: 1.6936 - accuracy: 0.9287 - val_loss: 2.1309 - val_accuracy: 0.7325\n",
      "Epoch 219/400\n",
      "88/88 [==============================] - 0s 2ms/step - loss: 1.6857 - accuracy: 0.9290 - val_loss: 2.1014 - val_accuracy: 0.7550\n",
      "Epoch 220/400\n",
      "88/88 [==============================] - 0s 2ms/step - loss: 1.6743 - accuracy: 0.9272 - val_loss: 2.1063 - val_accuracy: 0.7425\n",
      "Epoch 221/400\n",
      "88/88 [==============================] - 0s 2ms/step - loss: 1.6622 - accuracy: 0.9297 - val_loss: 2.1199 - val_accuracy: 0.7375\n",
      "Epoch 222/400\n",
      "88/88 [==============================] - 0s 2ms/step - loss: 1.6548 - accuracy: 0.9280 - val_loss: 2.0877 - val_accuracy: 0.7575\n",
      "Epoch 223/400\n",
      "88/88 [==============================] - 0s 2ms/step - loss: 1.6527 - accuracy: 0.9265 - val_loss: 2.0343 - val_accuracy: 0.7750\n",
      "Epoch 224/400\n",
      "88/88 [==============================] - 0s 2ms/step - loss: 1.6406 - accuracy: 0.9301 - val_loss: 1.9718 - val_accuracy: 0.8025\n",
      "Epoch 225/400\n",
      "88/88 [==============================] - 0s 3ms/step - loss: 1.6332 - accuracy: 0.9233 - val_loss: 1.9931 - val_accuracy: 0.7925\n",
      "Epoch 226/400\n",
      "88/88 [==============================] - 0s 2ms/step - loss: 1.6187 - accuracy: 0.9362 - val_loss: 2.0219 - val_accuracy: 0.7775\n",
      "Epoch 227/400\n",
      "88/88 [==============================] - 0s 2ms/step - loss: 1.6142 - accuracy: 0.9333 - val_loss: 2.0036 - val_accuracy: 0.7725\n",
      "Epoch 228/400\n",
      "88/88 [==============================] - 0s 2ms/step - loss: 1.6058 - accuracy: 0.9315 - val_loss: 1.9648 - val_accuracy: 0.7825\n",
      "Epoch 229/400\n",
      "88/88 [==============================] - 0s 2ms/step - loss: 1.6011 - accuracy: 0.9297 - val_loss: 2.0233 - val_accuracy: 0.7600\n",
      "Epoch 230/400\n",
      "88/88 [==============================] - 0s 2ms/step - loss: 1.5885 - accuracy: 0.9333 - val_loss: 1.9974 - val_accuracy: 0.7650\n",
      "Epoch 231/400\n",
      "88/88 [==============================] - 0s 2ms/step - loss: 1.5767 - accuracy: 0.9351 - val_loss: 1.9725 - val_accuracy: 0.7725\n",
      "Epoch 232/400\n",
      "88/88 [==============================] - 0s 2ms/step - loss: 1.5704 - accuracy: 0.9351 - val_loss: 1.9958 - val_accuracy: 0.7675\n",
      "Epoch 233/400\n",
      "88/88 [==============================] - 0s 2ms/step - loss: 1.5596 - accuracy: 0.9326 - val_loss: 1.9561 - val_accuracy: 0.7700\n",
      "Epoch 234/400\n",
      "88/88 [==============================] - 0s 2ms/step - loss: 1.5493 - accuracy: 0.9351 - val_loss: 1.9408 - val_accuracy: 0.7750\n",
      "Epoch 235/400\n",
      "88/88 [==============================] - 0s 2ms/step - loss: 1.5466 - accuracy: 0.9330 - val_loss: 1.9816 - val_accuracy: 0.7600\n",
      "Epoch 236/400\n",
      "88/88 [==============================] - 0s 2ms/step - loss: 1.5349 - accuracy: 0.9341 - val_loss: 1.8953 - val_accuracy: 0.7975\n",
      "Epoch 237/400\n",
      "88/88 [==============================] - 0s 3ms/step - loss: 1.5289 - accuracy: 0.9366 - val_loss: 1.9544 - val_accuracy: 0.7775\n",
      "Epoch 238/400\n",
      "88/88 [==============================] - 0s 2ms/step - loss: 1.5205 - accuracy: 0.9341 - val_loss: 1.9862 - val_accuracy: 0.7450\n",
      "Epoch 239/400\n",
      "88/88 [==============================] - 0s 2ms/step - loss: 1.5128 - accuracy: 0.9369 - val_loss: 1.9330 - val_accuracy: 0.7750\n",
      "Epoch 240/400\n",
      "88/88 [==============================] - 0s 2ms/step - loss: 1.5099 - accuracy: 0.9344 - val_loss: 1.8734 - val_accuracy: 0.7950\n",
      "Epoch 241/400\n",
      "88/88 [==============================] - 0s 2ms/step - loss: 1.4926 - accuracy: 0.9380 - val_loss: 1.8945 - val_accuracy: 0.7775\n",
      "Epoch 242/400\n",
      "88/88 [==============================] - 0s 2ms/step - loss: 1.4918 - accuracy: 0.9341 - val_loss: 1.8839 - val_accuracy: 0.7725\n",
      "Epoch 243/400\n",
      "88/88 [==============================] - 0s 2ms/step - loss: 1.4852 - accuracy: 0.9348 - val_loss: 1.8745 - val_accuracy: 0.7875\n",
      "Epoch 244/400\n",
      "88/88 [==============================] - 0s 2ms/step - loss: 1.4747 - accuracy: 0.9369 - val_loss: 1.8711 - val_accuracy: 0.8000\n",
      "Epoch 245/400\n",
      "88/88 [==============================] - 0s 3ms/step - loss: 1.4668 - accuracy: 0.9401 - val_loss: 1.8549 - val_accuracy: 0.7825\n",
      "Epoch 246/400\n",
      "88/88 [==============================] - 0s 2ms/step - loss: 1.4551 - accuracy: 0.9394 - val_loss: 1.8584 - val_accuracy: 0.7825\n",
      "Epoch 247/400\n",
      "88/88 [==============================] - 0s 2ms/step - loss: 1.4521 - accuracy: 0.9362 - val_loss: 1.7927 - val_accuracy: 0.8100\n",
      "Epoch 248/400\n",
      "88/88 [==============================] - 0s 2ms/step - loss: 1.4417 - accuracy: 0.9401 - val_loss: 1.8507 - val_accuracy: 0.7875\n",
      "Epoch 249/400\n",
      "88/88 [==============================] - 0s 2ms/step - loss: 1.4355 - accuracy: 0.9391 - val_loss: 1.8702 - val_accuracy: 0.7725\n",
      "Epoch 250/400\n",
      "88/88 [==============================] - 0s 2ms/step - loss: 1.4268 - accuracy: 0.9409 - val_loss: 1.8827 - val_accuracy: 0.7525\n",
      "Epoch 251/400\n",
      "88/88 [==============================] - 0s 2ms/step - loss: 1.4182 - accuracy: 0.9380 - val_loss: 1.8535 - val_accuracy: 0.7700\n",
      "Epoch 252/400\n",
      "88/88 [==============================] - 0s 2ms/step - loss: 1.4145 - accuracy: 0.9416 - val_loss: 1.8275 - val_accuracy: 0.7775\n",
      "Epoch 253/400\n",
      "88/88 [==============================] - 0s 2ms/step - loss: 1.4051 - accuracy: 0.9387 - val_loss: 1.8223 - val_accuracy: 0.7825\n",
      "Epoch 254/400\n",
      "88/88 [==============================] - 0s 2ms/step - loss: 1.3996 - accuracy: 0.9391 - val_loss: 1.8488 - val_accuracy: 0.7775\n",
      "Epoch 255/400\n",
      "88/88 [==============================] - 0s 2ms/step - loss: 1.3910 - accuracy: 0.9419 - val_loss: 1.7912 - val_accuracy: 0.7850\n",
      "Epoch 256/400\n",
      "88/88 [==============================] - 0s 2ms/step - loss: 1.3827 - accuracy: 0.9398 - val_loss: 1.8087 - val_accuracy: 0.7775\n",
      "Epoch 257/400\n",
      "88/88 [==============================] - 0s 3ms/step - loss: 1.3765 - accuracy: 0.9437 - val_loss: 1.7944 - val_accuracy: 0.7725\n",
      "Epoch 258/400\n",
      "88/88 [==============================] - 0s 3ms/step - loss: 1.3722 - accuracy: 0.9412 - val_loss: 1.7507 - val_accuracy: 0.7900\n",
      "Epoch 259/400\n",
      "88/88 [==============================] - 0s 2ms/step - loss: 1.3628 - accuracy: 0.9452 - val_loss: 1.7593 - val_accuracy: 0.7800\n",
      "Epoch 260/400\n",
      "88/88 [==============================] - 0s 2ms/step - loss: 1.3546 - accuracy: 0.9441 - val_loss: 1.7866 - val_accuracy: 0.7775\n",
      "Epoch 261/400\n",
      "88/88 [==============================] - 0s 3ms/step - loss: 1.3506 - accuracy: 0.9409 - val_loss: 1.7257 - val_accuracy: 0.7950\n",
      "Epoch 262/400\n",
      "88/88 [==============================] - 0s 3ms/step - loss: 1.3425 - accuracy: 0.9480 - val_loss: 1.8711 - val_accuracy: 0.7400\n",
      "Epoch 263/400\n",
      "88/88 [==============================] - 0s 3ms/step - loss: 1.3371 - accuracy: 0.9452 - val_loss: 1.7998 - val_accuracy: 0.7550\n",
      "Epoch 264/400\n",
      "88/88 [==============================] - 0s 3ms/step - loss: 1.3301 - accuracy: 0.9452 - val_loss: 1.7368 - val_accuracy: 0.7875\n",
      "Epoch 265/400\n",
      "88/88 [==============================] - 0s 3ms/step - loss: 1.3185 - accuracy: 0.9459 - val_loss: 1.7140 - val_accuracy: 0.7975\n",
      "Epoch 266/400\n",
      "88/88 [==============================] - 0s 3ms/step - loss: 1.3177 - accuracy: 0.9423 - val_loss: 1.7618 - val_accuracy: 0.7800\n",
      "Epoch 267/400\n",
      "88/88 [==============================] - 0s 4ms/step - loss: 1.3082 - accuracy: 0.9455 - val_loss: 1.7122 - val_accuracy: 0.7875\n",
      "Epoch 268/400\n",
      "88/88 [==============================] - 0s 4ms/step - loss: 1.3016 - accuracy: 0.9434 - val_loss: 1.7110 - val_accuracy: 0.7925\n",
      "Epoch 269/400\n",
      "88/88 [==============================] - 0s 2ms/step - loss: 1.2956 - accuracy: 0.9441 - val_loss: 1.7074 - val_accuracy: 0.7925\n",
      "Epoch 270/400\n",
      "88/88 [==============================] - 0s 3ms/step - loss: 1.2890 - accuracy: 0.9470 - val_loss: 1.6948 - val_accuracy: 0.8000\n",
      "Epoch 271/400\n",
      "88/88 [==============================] - 0s 3ms/step - loss: 1.2828 - accuracy: 0.9430 - val_loss: 1.7771 - val_accuracy: 0.7375\n",
      "Epoch 272/400\n",
      "88/88 [==============================] - 0s 3ms/step - loss: 1.2770 - accuracy: 0.9427 - val_loss: 1.6679 - val_accuracy: 0.8000\n",
      "Epoch 273/400\n",
      "88/88 [==============================] - 0s 3ms/step - loss: 1.2674 - accuracy: 0.9516 - val_loss: 1.8124 - val_accuracy: 0.6925\n",
      "Epoch 274/400\n",
      "88/88 [==============================] - 0s 2ms/step - loss: 1.2664 - accuracy: 0.9448 - val_loss: 1.6519 - val_accuracy: 0.8100\n",
      "Epoch 275/400\n",
      "88/88 [==============================] - 0s 2ms/step - loss: 1.2566 - accuracy: 0.9473 - val_loss: 1.6667 - val_accuracy: 0.7900\n",
      "Epoch 276/400\n",
      "88/88 [==============================] - 0s 2ms/step - loss: 1.2485 - accuracy: 0.9477 - val_loss: 1.7033 - val_accuracy: 0.7750\n",
      "Epoch 277/400\n",
      "88/88 [==============================] - 0s 2ms/step - loss: 1.2476 - accuracy: 0.9419 - val_loss: 1.6786 - val_accuracy: 0.7925\n",
      "Epoch 278/400\n",
      "88/88 [==============================] - 0s 2ms/step - loss: 1.2375 - accuracy: 0.9495 - val_loss: 1.6634 - val_accuracy: 0.7925\n",
      "Epoch 279/400\n",
      "88/88 [==============================] - 0s 2ms/step - loss: 1.2361 - accuracy: 0.9462 - val_loss: 1.5947 - val_accuracy: 0.8225\n",
      "Epoch 280/400\n",
      "88/88 [==============================] - 0s 2ms/step - loss: 1.2298 - accuracy: 0.9487 - val_loss: 1.6130 - val_accuracy: 0.8050\n",
      "Epoch 281/400\n",
      "88/88 [==============================] - 0s 2ms/step - loss: 1.2232 - accuracy: 0.9470 - val_loss: 1.6640 - val_accuracy: 0.7950\n",
      "Epoch 282/400\n",
      "88/88 [==============================] - 0s 2ms/step - loss: 1.2140 - accuracy: 0.9491 - val_loss: 1.6046 - val_accuracy: 0.8050\n",
      "Epoch 283/400\n",
      "88/88 [==============================] - 0s 2ms/step - loss: 1.2133 - accuracy: 0.9477 - val_loss: 1.6700 - val_accuracy: 0.7850\n",
      "Epoch 284/400\n",
      "88/88 [==============================] - 0s 2ms/step - loss: 1.2046 - accuracy: 0.9459 - val_loss: 1.6758 - val_accuracy: 0.7775\n",
      "Epoch 285/400\n",
      "88/88 [==============================] - 0s 2ms/step - loss: 1.1969 - accuracy: 0.9502 - val_loss: 1.6937 - val_accuracy: 0.7475\n",
      "Epoch 286/400\n",
      "88/88 [==============================] - 0s 2ms/step - loss: 1.1911 - accuracy: 0.9473 - val_loss: 1.6387 - val_accuracy: 0.7800\n",
      "Epoch 287/400\n",
      "88/88 [==============================] - 0s 2ms/step - loss: 1.1867 - accuracy: 0.9477 - val_loss: 1.6451 - val_accuracy: 0.7850\n",
      "Epoch 288/400\n",
      "88/88 [==============================] - 0s 2ms/step - loss: 1.1785 - accuracy: 0.9477 - val_loss: 1.5887 - val_accuracy: 0.8000\n",
      "Epoch 289/400\n",
      "88/88 [==============================] - 0s 2ms/step - loss: 1.1753 - accuracy: 0.9513 - val_loss: 1.6046 - val_accuracy: 0.8025\n",
      "Epoch 290/400\n",
      "88/88 [==============================] - 0s 2ms/step - loss: 1.1691 - accuracy: 0.9520 - val_loss: 1.6314 - val_accuracy: 0.7825\n",
      "Epoch 291/400\n",
      "88/88 [==============================] - 0s 2ms/step - loss: 1.1622 - accuracy: 0.9527 - val_loss: 1.6245 - val_accuracy: 0.7700\n",
      "Epoch 292/400\n",
      "88/88 [==============================] - 0s 2ms/step - loss: 1.1549 - accuracy: 0.9541 - val_loss: 1.6041 - val_accuracy: 0.7925\n",
      "Epoch 293/400\n",
      "88/88 [==============================] - 0s 2ms/step - loss: 1.1541 - accuracy: 0.9491 - val_loss: 1.6426 - val_accuracy: 0.7850\n",
      "Epoch 294/400\n",
      "88/88 [==============================] - 0s 2ms/step - loss: 1.1493 - accuracy: 0.9487 - val_loss: 1.5901 - val_accuracy: 0.7875\n",
      "Epoch 295/400\n",
      "88/88 [==============================] - 0s 2ms/step - loss: 1.1408 - accuracy: 0.9534 - val_loss: 1.5271 - val_accuracy: 0.8125\n",
      "Epoch 296/400\n",
      "88/88 [==============================] - 0s 3ms/step - loss: 1.1339 - accuracy: 0.9559 - val_loss: 1.5849 - val_accuracy: 0.7875\n",
      "Epoch 297/400\n",
      "88/88 [==============================] - 0s 2ms/step - loss: 1.1299 - accuracy: 0.9556 - val_loss: 1.5719 - val_accuracy: 0.7900\n",
      "Epoch 298/400\n",
      "88/88 [==============================] - 0s 2ms/step - loss: 1.1252 - accuracy: 0.9563 - val_loss: 1.5668 - val_accuracy: 0.7875\n",
      "Epoch 299/400\n",
      "88/88 [==============================] - 0s 2ms/step - loss: 1.1209 - accuracy: 0.9480 - val_loss: 1.5726 - val_accuracy: 0.8000\n",
      "Epoch 300/400\n",
      "88/88 [==============================] - 0s 2ms/step - loss: 1.1135 - accuracy: 0.9523 - val_loss: 1.5520 - val_accuracy: 0.7950\n",
      "Epoch 301/400\n",
      "88/88 [==============================] - 0s 2ms/step - loss: 1.1090 - accuracy: 0.9538 - val_loss: 1.5484 - val_accuracy: 0.7900\n",
      "Epoch 302/400\n",
      "88/88 [==============================] - 0s 2ms/step - loss: 1.1057 - accuracy: 0.9570 - val_loss: 1.5509 - val_accuracy: 0.7975\n",
      "Epoch 303/400\n",
      "88/88 [==============================] - 0s 2ms/step - loss: 1.1032 - accuracy: 0.9498 - val_loss: 1.5889 - val_accuracy: 0.7825\n",
      "Epoch 304/400\n",
      "88/88 [==============================] - 0s 2ms/step - loss: 1.0932 - accuracy: 0.9530 - val_loss: 1.5351 - val_accuracy: 0.7925\n",
      "Epoch 305/400\n",
      "88/88 [==============================] - 0s 2ms/step - loss: 1.0910 - accuracy: 0.9530 - val_loss: 1.5398 - val_accuracy: 0.7850\n",
      "Epoch 306/400\n",
      "88/88 [==============================] - 0s 2ms/step - loss: 1.0864 - accuracy: 0.9516 - val_loss: 1.4961 - val_accuracy: 0.8050\n",
      "Epoch 307/400\n",
      "88/88 [==============================] - 0s 2ms/step - loss: 1.0763 - accuracy: 0.9566 - val_loss: 1.5324 - val_accuracy: 0.7850\n",
      "Epoch 308/400\n",
      "88/88 [==============================] - 0s 2ms/step - loss: 1.0705 - accuracy: 0.9563 - val_loss: 1.5430 - val_accuracy: 0.7850\n",
      "Epoch 309/400\n",
      "88/88 [==============================] - 0s 2ms/step - loss: 1.0690 - accuracy: 0.9584 - val_loss: 1.5737 - val_accuracy: 0.7550\n",
      "Epoch 310/400\n",
      "88/88 [==============================] - 0s 2ms/step - loss: 1.0653 - accuracy: 0.9552 - val_loss: 1.5036 - val_accuracy: 0.7950\n",
      "Epoch 311/400\n",
      "88/88 [==============================] - 0s 2ms/step - loss: 1.0593 - accuracy: 0.9581 - val_loss: 1.5140 - val_accuracy: 0.7775\n",
      "Epoch 312/400\n",
      "88/88 [==============================] - 0s 2ms/step - loss: 1.0563 - accuracy: 0.9591 - val_loss: 1.4905 - val_accuracy: 0.7975\n",
      "Epoch 313/400\n",
      "88/88 [==============================] - 0s 2ms/step - loss: 1.0480 - accuracy: 0.9563 - val_loss: 1.5120 - val_accuracy: 0.7850\n",
      "Epoch 314/400\n",
      "88/88 [==============================] - 0s 2ms/step - loss: 1.0422 - accuracy: 0.9566 - val_loss: 1.4763 - val_accuracy: 0.8000\n",
      "Epoch 315/400\n",
      "88/88 [==============================] - 0s 2ms/step - loss: 1.0401 - accuracy: 0.9581 - val_loss: 1.4771 - val_accuracy: 0.7975\n",
      "Epoch 316/400\n",
      "88/88 [==============================] - 0s 2ms/step - loss: 1.0383 - accuracy: 0.9588 - val_loss: 1.4728 - val_accuracy: 0.8000\n",
      "Epoch 317/400\n",
      "88/88 [==============================] - 0s 2ms/step - loss: 1.0305 - accuracy: 0.9552 - val_loss: 1.4797 - val_accuracy: 0.8025\n",
      "Epoch 318/400\n",
      "88/88 [==============================] - 0s 2ms/step - loss: 1.0259 - accuracy: 0.9570 - val_loss: 1.4673 - val_accuracy: 0.7975\n",
      "Epoch 319/400\n",
      "88/88 [==============================] - 0s 2ms/step - loss: 1.0211 - accuracy: 0.9577 - val_loss: 1.4515 - val_accuracy: 0.7950\n",
      "Epoch 320/400\n",
      "88/88 [==============================] - 0s 2ms/step - loss: 1.0170 - accuracy: 0.9563 - val_loss: 1.4385 - val_accuracy: 0.8000\n",
      "Epoch 321/400\n",
      "88/88 [==============================] - 0s 2ms/step - loss: 1.0118 - accuracy: 0.9591 - val_loss: 1.4388 - val_accuracy: 0.8175\n",
      "Epoch 322/400\n",
      "88/88 [==============================] - 0s 2ms/step - loss: 1.0097 - accuracy: 0.9577 - val_loss: 1.4476 - val_accuracy: 0.7900\n",
      "Epoch 323/400\n",
      "88/88 [==============================] - 0s 2ms/step - loss: 1.0042 - accuracy: 0.9581 - val_loss: 1.3972 - val_accuracy: 0.8350\n",
      "Epoch 324/400\n",
      "88/88 [==============================] - 0s 2ms/step - loss: 0.9993 - accuracy: 0.9577 - val_loss: 1.4145 - val_accuracy: 0.8050\n",
      "Epoch 325/400\n",
      "88/88 [==============================] - 0s 2ms/step - loss: 0.9942 - accuracy: 0.9613 - val_loss: 1.4099 - val_accuracy: 0.8050\n",
      "Epoch 326/400\n",
      "88/88 [==============================] - 0s 2ms/step - loss: 0.9895 - accuracy: 0.9566 - val_loss: 1.4128 - val_accuracy: 0.8100\n",
      "Epoch 327/400\n",
      "88/88 [==============================] - 0s 2ms/step - loss: 0.9854 - accuracy: 0.9599 - val_loss: 1.3878 - val_accuracy: 0.8200\n",
      "Epoch 328/400\n",
      "88/88 [==============================] - 0s 2ms/step - loss: 0.9809 - accuracy: 0.9573 - val_loss: 1.4265 - val_accuracy: 0.8000\n",
      "Epoch 329/400\n",
      "88/88 [==============================] - 0s 2ms/step - loss: 0.9776 - accuracy: 0.9584 - val_loss: 1.4303 - val_accuracy: 0.8025\n",
      "Epoch 330/400\n",
      "88/88 [==============================] - 0s 2ms/step - loss: 0.9735 - accuracy: 0.9566 - val_loss: 1.4061 - val_accuracy: 0.8000\n",
      "Epoch 331/400\n",
      "88/88 [==============================] - 0s 2ms/step - loss: 0.9681 - accuracy: 0.9609 - val_loss: 1.4144 - val_accuracy: 0.7975\n",
      "Epoch 332/400\n",
      "88/88 [==============================] - 0s 2ms/step - loss: 0.9617 - accuracy: 0.9606 - val_loss: 1.4436 - val_accuracy: 0.7975\n",
      "Epoch 333/400\n",
      "88/88 [==============================] - 0s 2ms/step - loss: 0.9620 - accuracy: 0.9581 - val_loss: 1.4209 - val_accuracy: 0.7950\n",
      "Epoch 334/400\n",
      "88/88 [==============================] - 0s 2ms/step - loss: 0.9566 - accuracy: 0.9588 - val_loss: 1.3881 - val_accuracy: 0.8100\n",
      "Epoch 335/400\n",
      "88/88 [==============================] - 0s 2ms/step - loss: 0.9512 - accuracy: 0.9652 - val_loss: 1.4633 - val_accuracy: 0.7925\n",
      "Epoch 336/400\n",
      "88/88 [==============================] - 0s 2ms/step - loss: 0.9467 - accuracy: 0.9627 - val_loss: 1.3982 - val_accuracy: 0.8100\n",
      "Epoch 337/400\n",
      "88/88 [==============================] - 0s 2ms/step - loss: 0.9414 - accuracy: 0.9616 - val_loss: 1.4716 - val_accuracy: 0.7625\n",
      "Epoch 338/400\n",
      "88/88 [==============================] - 0s 2ms/step - loss: 0.9436 - accuracy: 0.9559 - val_loss: 1.3601 - val_accuracy: 0.8125\n",
      "Epoch 339/400\n",
      "88/88 [==============================] - 0s 2ms/step - loss: 0.9313 - accuracy: 0.9638 - val_loss: 1.3604 - val_accuracy: 0.8125\n",
      "Epoch 340/400\n",
      "88/88 [==============================] - 0s 2ms/step - loss: 0.9309 - accuracy: 0.9613 - val_loss: 1.4054 - val_accuracy: 0.7850\n",
      "Epoch 341/400\n",
      "88/88 [==============================] - 0s 2ms/step - loss: 0.9308 - accuracy: 0.9588 - val_loss: 1.3978 - val_accuracy: 0.7925\n",
      "Epoch 342/400\n",
      "88/88 [==============================] - 0s 2ms/step - loss: 0.9237 - accuracy: 0.9606 - val_loss: 1.4305 - val_accuracy: 0.7775\n",
      "Epoch 343/400\n",
      "88/88 [==============================] - 0s 3ms/step - loss: 0.9171 - accuracy: 0.9663 - val_loss: 1.3693 - val_accuracy: 0.8000\n",
      "Epoch 344/400\n",
      "88/88 [==============================] - 0s 2ms/step - loss: 0.9179 - accuracy: 0.9631 - val_loss: 1.3446 - val_accuracy: 0.8050\n",
      "Epoch 345/400\n",
      "88/88 [==============================] - 0s 2ms/step - loss: 0.9163 - accuracy: 0.9584 - val_loss: 1.3767 - val_accuracy: 0.7950\n",
      "Epoch 346/400\n",
      "88/88 [==============================] - 0s 2ms/step - loss: 0.9107 - accuracy: 0.9609 - val_loss: 1.3413 - val_accuracy: 0.8175\n",
      "Epoch 347/400\n",
      "88/88 [==============================] - 0s 2ms/step - loss: 0.9041 - accuracy: 0.9599 - val_loss: 1.3516 - val_accuracy: 0.8025\n",
      "Epoch 348/400\n",
      "88/88 [==============================] - 0s 2ms/step - loss: 0.8987 - accuracy: 0.9631 - val_loss: 1.3348 - val_accuracy: 0.8200\n",
      "Epoch 349/400\n",
      "88/88 [==============================] - 0s 2ms/step - loss: 0.8979 - accuracy: 0.9624 - val_loss: 1.3527 - val_accuracy: 0.7950\n",
      "Epoch 350/400\n",
      "88/88 [==============================] - 0s 2ms/step - loss: 0.8926 - accuracy: 0.9613 - val_loss: 1.3423 - val_accuracy: 0.8025\n",
      "Epoch 351/400\n",
      "88/88 [==============================] - 0s 2ms/step - loss: 0.8875 - accuracy: 0.9645 - val_loss: 1.3440 - val_accuracy: 0.8050\n",
      "Epoch 352/400\n",
      "88/88 [==============================] - 0s 2ms/step - loss: 0.8839 - accuracy: 0.9627 - val_loss: 1.3531 - val_accuracy: 0.7975\n",
      "Epoch 353/400\n",
      "88/88 [==============================] - 0s 2ms/step - loss: 0.8821 - accuracy: 0.9659 - val_loss: 1.3371 - val_accuracy: 0.8050\n",
      "Epoch 354/400\n",
      "88/88 [==============================] - 0s 2ms/step - loss: 0.8803 - accuracy: 0.9624 - val_loss: 1.3359 - val_accuracy: 0.7900\n",
      "Epoch 355/400\n",
      "88/88 [==============================] - 0s 2ms/step - loss: 0.8754 - accuracy: 0.9649 - val_loss: 1.3258 - val_accuracy: 0.8050\n",
      "Epoch 356/400\n",
      "88/88 [==============================] - 0s 2ms/step - loss: 0.8717 - accuracy: 0.9645 - val_loss: 1.3506 - val_accuracy: 0.7900\n",
      "Epoch 357/400\n",
      "88/88 [==============================] - 0s 2ms/step - loss: 0.8709 - accuracy: 0.9613 - val_loss: 1.3263 - val_accuracy: 0.8125\n",
      "Epoch 358/400\n",
      "88/88 [==============================] - 0s 2ms/step - loss: 0.8661 - accuracy: 0.9681 - val_loss: 1.2940 - val_accuracy: 0.8175\n",
      "Epoch 359/400\n",
      "88/88 [==============================] - 0s 2ms/step - loss: 0.8622 - accuracy: 0.9616 - val_loss: 1.2954 - val_accuracy: 0.8075\n",
      "Epoch 360/400\n",
      "88/88 [==============================] - 0s 2ms/step - loss: 0.8571 - accuracy: 0.9642 - val_loss: 1.3110 - val_accuracy: 0.8025\n",
      "Epoch 361/400\n",
      "88/88 [==============================] - 0s 2ms/step - loss: 0.8534 - accuracy: 0.9685 - val_loss: 1.2764 - val_accuracy: 0.8250\n",
      "Epoch 362/400\n",
      "88/88 [==============================] - 0s 2ms/step - loss: 0.8520 - accuracy: 0.9649 - val_loss: 1.3169 - val_accuracy: 0.7900\n",
      "Epoch 363/400\n",
      "88/88 [==============================] - 0s 2ms/step - loss: 0.8485 - accuracy: 0.9627 - val_loss: 1.2948 - val_accuracy: 0.8025\n",
      "Epoch 364/400\n",
      "88/88 [==============================] - 0s 3ms/step - loss: 0.8430 - accuracy: 0.9656 - val_loss: 1.2877 - val_accuracy: 0.8150\n",
      "Epoch 365/400\n",
      "88/88 [==============================] - 0s 2ms/step - loss: 0.8461 - accuracy: 0.9581 - val_loss: 1.2909 - val_accuracy: 0.8050\n",
      "Epoch 366/400\n",
      "88/88 [==============================] - 0s 2ms/step - loss: 0.8367 - accuracy: 0.9627 - val_loss: 1.2655 - val_accuracy: 0.8225\n",
      "Epoch 367/400\n",
      "88/88 [==============================] - 0s 2ms/step - loss: 0.8394 - accuracy: 0.9642 - val_loss: 1.3384 - val_accuracy: 0.7675\n",
      "Epoch 368/400\n",
      "88/88 [==============================] - 0s 2ms/step - loss: 0.8353 - accuracy: 0.9627 - val_loss: 1.3003 - val_accuracy: 0.7975\n",
      "Epoch 369/400\n",
      "88/88 [==============================] - 0s 2ms/step - loss: 0.8263 - accuracy: 0.9645 - val_loss: 1.3056 - val_accuracy: 0.7925\n",
      "Epoch 370/400\n",
      "88/88 [==============================] - 0s 2ms/step - loss: 0.8249 - accuracy: 0.9656 - val_loss: 1.3107 - val_accuracy: 0.7850\n",
      "Epoch 371/400\n",
      "88/88 [==============================] - 0s 2ms/step - loss: 0.8229 - accuracy: 0.9649 - val_loss: 1.2789 - val_accuracy: 0.7975\n",
      "Epoch 372/400\n",
      "88/88 [==============================] - 0s 2ms/step - loss: 0.8218 - accuracy: 0.9663 - val_loss: 1.2878 - val_accuracy: 0.7975\n",
      "Epoch 373/400\n",
      "88/88 [==============================] - 0s 2ms/step - loss: 0.8153 - accuracy: 0.9663 - val_loss: 1.2836 - val_accuracy: 0.8175\n",
      "Epoch 374/400\n",
      "88/88 [==============================] - 0s 2ms/step - loss: 0.8136 - accuracy: 0.9609 - val_loss: 1.2742 - val_accuracy: 0.8250\n",
      "Epoch 375/400\n",
      "88/88 [==============================] - 0s 2ms/step - loss: 0.8079 - accuracy: 0.9692 - val_loss: 1.2987 - val_accuracy: 0.8000\n",
      "Epoch 376/400\n",
      "88/88 [==============================] - 0s 2ms/step - loss: 0.8073 - accuracy: 0.9606 - val_loss: 1.2387 - val_accuracy: 0.8200\n",
      "Epoch 377/400\n",
      "88/88 [==============================] - 0s 2ms/step - loss: 0.8020 - accuracy: 0.9692 - val_loss: 1.2672 - val_accuracy: 0.8050\n",
      "Epoch 378/400\n",
      "88/88 [==============================] - 0s 2ms/step - loss: 0.7984 - accuracy: 0.9674 - val_loss: 1.2471 - val_accuracy: 0.8050\n",
      "Epoch 379/400\n",
      "88/88 [==============================] - 0s 2ms/step - loss: 0.7966 - accuracy: 0.9681 - val_loss: 1.2727 - val_accuracy: 0.7900\n",
      "Epoch 380/400\n",
      "88/88 [==============================] - 0s 2ms/step - loss: 0.7983 - accuracy: 0.9631 - val_loss: 1.2861 - val_accuracy: 0.7900\n",
      "Epoch 381/400\n",
      "88/88 [==============================] - 0s 2ms/step - loss: 0.7898 - accuracy: 0.9667 - val_loss: 1.2314 - val_accuracy: 0.8050\n",
      "Epoch 382/400\n",
      "88/88 [==============================] - 0s 3ms/step - loss: 0.7873 - accuracy: 0.9670 - val_loss: 1.2261 - val_accuracy: 0.8150\n",
      "Epoch 383/400\n",
      "88/88 [==============================] - 0s 3ms/step - loss: 0.7831 - accuracy: 0.9659 - val_loss: 1.2260 - val_accuracy: 0.8125\n",
      "Epoch 384/400\n",
      "88/88 [==============================] - 0s 3ms/step - loss: 0.7787 - accuracy: 0.9677 - val_loss: 1.3179 - val_accuracy: 0.7875\n",
      "Epoch 385/400\n",
      "88/88 [==============================] - 0s 2ms/step - loss: 0.7767 - accuracy: 0.9677 - val_loss: 1.2328 - val_accuracy: 0.8225\n",
      "Epoch 386/400\n",
      "88/88 [==============================] - 0s 2ms/step - loss: 0.7758 - accuracy: 0.9663 - val_loss: 1.3078 - val_accuracy: 0.8075\n",
      "Epoch 387/400\n",
      "88/88 [==============================] - 0s 2ms/step - loss: 0.7849 - accuracy: 0.9631 - val_loss: 1.3170 - val_accuracy: 0.7400\n",
      "Epoch 388/400\n",
      "88/88 [==============================] - 0s 2ms/step - loss: 0.7714 - accuracy: 0.9649 - val_loss: 1.2667 - val_accuracy: 0.7725\n",
      "Epoch 389/400\n",
      "88/88 [==============================] - 0s 2ms/step - loss: 0.7686 - accuracy: 0.9685 - val_loss: 1.2148 - val_accuracy: 0.8200\n",
      "Epoch 390/400\n",
      "88/88 [==============================] - 0s 3ms/step - loss: 0.7644 - accuracy: 0.9659 - val_loss: 1.2415 - val_accuracy: 0.7975\n",
      "Epoch 391/400\n",
      "88/88 [==============================] - 0s 3ms/step - loss: 0.7647 - accuracy: 0.9667 - val_loss: 1.2792 - val_accuracy: 0.7750\n",
      "Epoch 392/400\n",
      "88/88 [==============================] - 0s 2ms/step - loss: 0.7568 - accuracy: 0.9677 - val_loss: 1.2177 - val_accuracy: 0.8025\n",
      "Epoch 393/400\n",
      "88/88 [==============================] - 0s 2ms/step - loss: 0.7569 - accuracy: 0.9695 - val_loss: 1.2225 - val_accuracy: 0.8050\n",
      "Epoch 394/400\n",
      "88/88 [==============================] - 0s 3ms/step - loss: 0.7511 - accuracy: 0.9685 - val_loss: 1.2392 - val_accuracy: 0.8025\n",
      "Epoch 395/400\n",
      "88/88 [==============================] - 0s 2ms/step - loss: 0.7474 - accuracy: 0.9720 - val_loss: 1.2052 - val_accuracy: 0.7975\n",
      "Epoch 396/400\n",
      "88/88 [==============================] - 0s 2ms/step - loss: 0.7454 - accuracy: 0.9681 - val_loss: 1.2645 - val_accuracy: 0.7925\n",
      "Epoch 397/400\n",
      "88/88 [==============================] - 0s 3ms/step - loss: 0.7470 - accuracy: 0.9667 - val_loss: 1.1795 - val_accuracy: 0.8200\n",
      "Epoch 398/400\n",
      "88/88 [==============================] - 0s 2ms/step - loss: 0.7416 - accuracy: 0.9674 - val_loss: 1.2674 - val_accuracy: 0.8050\n",
      "Epoch 399/400\n",
      "88/88 [==============================] - 0s 2ms/step - loss: 0.7417 - accuracy: 0.9649 - val_loss: 1.2123 - val_accuracy: 0.8025\n",
      "Epoch 400/400\n",
      "88/88 [==============================] - 0s 2ms/step - loss: 0.7406 - accuracy: 0.9663 - val_loss: 1.1998 - val_accuracy: 0.8050\n",
      "Model: \"sequential_147\"\n",
      "_________________________________________________________________\n",
      " Layer (type)                Output Shape              Param #   \n",
      "=================================================================\n",
      " dense_868 (Dense)           (None, 399)               4788      \n",
      "                                                                 \n",
      " dense_869 (Dense)           (None, 360)               144000    \n",
      "                                                                 \n",
      " dense_870 (Dense)           (None, 360)               129960    \n",
      "                                                                 \n",
      " dropout_97 (Dropout)        (None, 360)               0         \n",
      "                                                                 \n",
      " dense_871 (Dense)           (None, 440)               158840    \n",
      "                                                                 \n",
      " dense_872 (Dense)           (None, 3)                 1323      \n",
      "                                                                 \n",
      "=================================================================\n",
      "Total params: 438,911\n",
      "Trainable params: 438,911\n",
      "Non-trainable params: 0\n",
      "_________________________________________________________________\n"
     ]
    }
   ],
   "source": [
    "tuned_model2 = Sequential()\n",
    "tuned_model2.add(Dense(units=round(best_params['neurons1']), input_shape=(X_train_df.shape[1],),kernel_regularizer=tf.keras.regularizers.l2(round(best_params['C'],3)))) \n",
    "\n",
    "for i in range(round(best_params['layers1'])): #varying first set of hidden layers\n",
    "    tuned_model2.add(Dense(round(best_params['neurons2']), activation='relu',kernel_regularizer=tf.keras.regularizers.l2(round(best_params['C'], 3))))\n",
    "\n",
    "if round(best_params['dropout']) > 0.5:\n",
    "    tuned_model2.add(Dropout(round(best_params['dropout_rate'],1), seed=42))\n",
    "\n",
    "for i in range(round(best_params['layers2'])): #varying second set of hidden layers\n",
    "    tuned_model2.add(Dense(round(best_params['neurons3']), activation='relu',kernel_regularizer=tf.keras.regularizers.l2(round(best_params['C'], 3))))\n",
    "\n",
    "tuned_model2.add(Dense(3, activation='softmax')) #output layer\n",
    "\n",
    "tuned_model2.compile(loss=\"sparse_categorical_crossentropy\", optimizer = optimizerD[optimizerL[round(best_params['optimizer'])]], metrics=['accuracy'])\n",
    "history = tuned_model2.fit(X_train, y_train, epochs=400, validation_data=(X_valid, y_valid))\n",
    "tuned_model2.summary()"
   ]
  },
  {
   "cell_type": "code",
   "execution_count": 43,
   "metadata": {},
   "outputs": [
    {
     "name": "stdout",
     "output_type": "stream",
     "text": [
      "6/6 [==============================] - 0s 3ms/step - loss: 5.4922 - accuracy: 0.4821\n"
     ]
    },
    {
     "data": {
      "image/png": "[encoded data removed]",
      "text/plain": [
       "<Figure size 1440x576 with 2 Axes>"
      ]
     },
     "metadata": {
      "needs_background": "light"
     },
     "output_type": "display_data"
    }
   ],
   "source": [
    "# Plot a graph of the metric vs. epochs.\n",
    "plot_curve(history)\n",
    "# # Evaluate on Test & Save results\n",
    "results.loc['smote'] = list(tuned_model2.evaluate(X_test, y_test))"
   ]
  },
  {
   "cell_type": "code",
   "execution_count": 44,
   "metadata": {},
   "outputs": [
    {
     "data": {
      "text/html": [
       "<div>\n",
       "<style scoped>\n",
       "    .dataframe tbody tr th:only-of-type {\n",
       "        vertical-align: middle;\n",
       "    }\n",
       "\n",
       "    .dataframe tbody tr th {\n",
       "        vertical-align: top;\n",
       "    }\n",
       "\n",
       "    .dataframe thead th {\n",
       "        text-align: right;\n",
       "    }\n",
       "</style>\n",
       "<table border=\"1\" class=\"dataframe\">\n",
       "  <thead>\n",
       "    <tr style=\"text-align: right;\">\n",
       "      <th></th>\n",
       "      <th>loss</th>\n",
       "      <th>accuracy</th>\n",
       "    </tr>\n",
       "  </thead>\n",
       "  <tbody>\n",
       "    <tr>\n",
       "      <th>smote</th>\n",
       "      <td>5.492192</td>\n",
       "      <td>0.482143</td>\n",
       "    </tr>\n",
       "  </tbody>\n",
       "</table>\n",
       "</div>"
      ],
      "text/plain": [
       "           loss  accuracy\n",
       "smote  5.492192  0.482143"
      ]
     },
     "execution_count": 44,
     "metadata": {},
     "output_type": "execute_result"
    }
   ],
   "source": [
    "results"
   ]
  },
  {
   "cell_type": "markdown",
   "metadata": {},
   "source": [
    "## Business Metrics"
   ]
  },
  {
   "cell_type": "code",
   "execution_count": 118,
   "metadata": {},
   "outputs": [],
   "source": [
    "import yfinance as yf"
   ]
  },
  {
   "cell_type": "code",
   "execution_count": 133,
   "metadata": {},
   "outputs": [
    {
     "data": {
      "text/plain": [
       "(1679, 11)"
      ]
     },
     "execution_count": 133,
     "metadata": {},
     "output_type": "execute_result"
    }
   ],
   "source": [
    "whole_df_x = np.vstack((X_train_df, X_test_df))\n",
    "whole_df_x.shape"
   ]
  },
  {
   "cell_type": "code",
   "execution_count": 135,
   "metadata": {},
   "outputs": [
    {
     "name": "stdout",
     "output_type": "stream",
     "text": [
      "53/53 [==============================] - 0s 859us/step\n"
     ]
    }
   ],
   "source": [
    "predict_x=tuned_model2.predict(whole_df_x) \n",
    "predictions=np.argmax(predict_x,axis=1)"
   ]
  },
  {
   "cell_type": "code",
   "execution_count": 168,
   "metadata": {},
   "outputs": [
    {
     "data": {
      "text/plain": [
       "{0, 1, 2}"
      ]
     },
     "execution_count": 168,
     "metadata": {},
     "output_type": "execute_result"
    }
   ],
   "source": [
    "set(predictions)"
   ]
  },
  {
   "cell_type": "code",
   "execution_count": 166,
   "metadata": {},
   "outputs": [
    {
     "name": "stdout",
     "output_type": "stream",
     "text": [
      "[*********************100%***********************]  1 of 1 completed\n"
     ]
    }
   ],
   "source": [
    "df_pred = pd.DataFrame({'pred':predictions}, index=target_1perc.index)\n",
    "df_pred =df_pred.replace({2:-1})\n",
    "\n",
    "df_prices = data = yf.download(\"^GSPC\", start=\"2016-01-04\", end=\"2022-09-02\")[['Adj Close']]\n",
    "\n",
    "pred_ls = []\n",
    "prev = 0\n",
    "for i in range(len(df_pred)):\n",
    "    if df_pred.iloc[i]['pred'] == 0:\n",
    "        pred_ls.append(prev)\n",
    "    else:\n",
    "        prev = df_pred.iloc[i]['pred']\n",
    "        pred_ls.append(prev)\n",
    "\n",
    "df_diff = np.log(df_prices /df_prices.shift(1))\n",
    "df_diff['pred'] = df_pred['pred']\n",
    "df_diff['pred_new'] = pred_ls\n",
    "df_diff['benchmark'] = 1\n",
    "df_diff[\"Strategy_Returns\"] = df_diff[\"Adj Close\"] * df_diff[\"pred_new\"].shift(1)\n",
    "df_diff[\"Benchmark_Returns\"] = df_diff[\"Adj Close\"] * df_diff[\"benchmark\"].shift(1)\n",
    "\n",
    "# Group by year\n",
    "df_diff = df_diff.reset_index()\n",
    "df_diff['year'] = df_diff['Date'].apply(lambda x: x.year)\n",
    "matrix = df_diff.groupby('year').mean()\n",
    "matrix['Strategy_Returns'] = np.exp(matrix['Strategy_Returns']*252)-1\n",
    "matrix['Benchmark_Returns'] = np.exp(matrix['Benchmark_Returns']*252)-1\n",
    "\n",
    "# Annual Mean Returns or Expected returns\n",
    "# expected_stock_annual_return = np.exp(df_diff['Benchmark_Returns'].mean() * 252) - 1 \n",
    "# expected_strategy_annual_return = np.exp(df_diff['Strategy_Returns'].mean() * 252) - 1 \n",
    "#expected_target_annual_return = np.exp(df_diff['Target_Returns'].mean() * 252) - 1 \n",
    "#print(f'Expected Annual Returns: Strategy: {round(expected_strategy_annual_return*100, 2)}%  |  Stock: {round(expected_stock_annual_return*100, 2)}%')"
   ]
  },
  {
   "cell_type": "code",
   "execution_count": 167,
   "metadata": {},
   "outputs": [
    {
     "data": {
      "text/html": [
       "<div>\n",
       "<style scoped>\n",
       "    .dataframe tbody tr th:only-of-type {\n",
       "        vertical-align: middle;\n",
       "    }\n",
       "\n",
       "    .dataframe tbody tr th {\n",
       "        vertical-align: top;\n",
       "    }\n",
       "\n",
       "    .dataframe thead th {\n",
       "        text-align: right;\n",
       "    }\n",
       "</style>\n",
       "<table border=\"1\" class=\"dataframe\">\n",
       "  <thead>\n",
       "    <tr style=\"text-align: right;\">\n",
       "      <th></th>\n",
       "      <th>Adj Close</th>\n",
       "      <th>pred</th>\n",
       "      <th>pred_new</th>\n",
       "      <th>benchmark</th>\n",
       "      <th>Strategy_Returns</th>\n",
       "      <th>Benchmark_Returns</th>\n",
       "    </tr>\n",
       "    <tr>\n",
       "      <th>year</th>\n",
       "      <th></th>\n",
       "      <th></th>\n",
       "      <th></th>\n",
       "      <th></th>\n",
       "      <th></th>\n",
       "      <th></th>\n",
       "    </tr>\n",
       "  </thead>\n",
       "  <tbody>\n",
       "    <tr>\n",
       "      <th>2016</th>\n",
       "      <td>0.000424</td>\n",
       "      <td>-0.059524</td>\n",
       "      <td>-0.634921</td>\n",
       "      <td>1.0</td>\n",
       "      <td>-0.150590</td>\n",
       "      <td>0.112846</td>\n",
       "    </tr>\n",
       "    <tr>\n",
       "      <th>2017</th>\n",
       "      <td>0.000707</td>\n",
       "      <td>0.011952</td>\n",
       "      <td>0.832669</td>\n",
       "      <td>1.0</td>\n",
       "      <td>0.151247</td>\n",
       "      <td>0.195044</td>\n",
       "    </tr>\n",
       "    <tr>\n",
       "      <th>2018</th>\n",
       "      <td>-0.000257</td>\n",
       "      <td>0.107570</td>\n",
       "      <td>-0.059761</td>\n",
       "      <td>1.0</td>\n",
       "      <td>0.264985</td>\n",
       "      <td>-0.062613</td>\n",
       "    </tr>\n",
       "    <tr>\n",
       "      <th>2019</th>\n",
       "      <td>0.001007</td>\n",
       "      <td>-0.039683</td>\n",
       "      <td>-0.301587</td>\n",
       "      <td>1.0</td>\n",
       "      <td>-0.080229</td>\n",
       "      <td>0.288781</td>\n",
       "    </tr>\n",
       "    <tr>\n",
       "      <th>2020</th>\n",
       "      <td>0.000595</td>\n",
       "      <td>-0.173913</td>\n",
       "      <td>-0.478261</td>\n",
       "      <td>1.0</td>\n",
       "      <td>-0.278270</td>\n",
       "      <td>0.161897</td>\n",
       "    </tr>\n",
       "    <tr>\n",
       "      <th>2021</th>\n",
       "      <td>0.000945</td>\n",
       "      <td>-0.095238</td>\n",
       "      <td>-0.603175</td>\n",
       "      <td>1.0</td>\n",
       "      <td>-0.005621</td>\n",
       "      <td>0.268927</td>\n",
       "    </tr>\n",
       "    <tr>\n",
       "      <th>2022</th>\n",
       "      <td>-0.001093</td>\n",
       "      <td>-0.047619</td>\n",
       "      <td>-0.880952</td>\n",
       "      <td>1.0</td>\n",
       "      <td>0.472475</td>\n",
       "      <td>-0.240701</td>\n",
       "    </tr>\n",
       "  </tbody>\n",
       "</table>\n",
       "</div>"
      ],
      "text/plain": [
       "      Adj Close      pred  pred_new  benchmark  Strategy_Returns  \\\n",
       "year                                                               \n",
       "2016   0.000424 -0.059524 -0.634921        1.0         -0.150590   \n",
       "2017   0.000707  0.011952  0.832669        1.0          0.151247   \n",
       "2018  -0.000257  0.107570 -0.059761        1.0          0.264985   \n",
       "2019   0.001007 -0.039683 -0.301587        1.0         -0.080229   \n",
       "2020   0.000595 -0.173913 -0.478261        1.0         -0.278270   \n",
       "2021   0.000945 -0.095238 -0.603175        1.0         -0.005621   \n",
       "2022  -0.001093 -0.047619 -0.880952        1.0          0.472475   \n",
       "\n",
       "      Benchmark_Returns  \n",
       "year                     \n",
       "2016           0.112846  \n",
       "2017           0.195044  \n",
       "2018          -0.062613  \n",
       "2019           0.288781  \n",
       "2020           0.161897  \n",
       "2021           0.268927  \n",
       "2022          -0.240701  "
      ]
     },
     "execution_count": 167,
     "metadata": {},
     "output_type": "execute_result"
    }
   ],
   "source": [
    "matrix"
   ]
  }
 ],
 "metadata": {
  "kernelspec": {
   "display_name": "Python 3.8.8 ('base')",
   "language": "python",
   "name": "python3"
  },
  "language_info": {
   "codemirror_mode": {
    "name": "ipython",
    "version": 3
   },
   "file_extension": ".py",
   "mimetype": "text/x-python",
   "name": "python",
   "nbconvert_exporter": "python",
   "pygments_lexer": "ipython3",
   "version": "3.7.13"
  },
  "orig_nbformat": 4,
  "vscode": {
   "interpreter": {
    "hash": "7d4736924dd4ee01619834d3df5aac36876c141d93beb7feebfa3d7eb88b873d"
   }
  }
 },
 "nbformat": 4,
 "nbformat_minor": 2
}
