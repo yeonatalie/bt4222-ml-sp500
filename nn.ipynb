{
 "cells": [
  {
   "cell_type": "code",
   "execution_count": 1,
   "metadata": {},
   "outputs": [
    {
     "name": "stderr",
     "output_type": "stream",
     "text": [
      "2022-10-29 16:08:53.536802: I tensorflow/core/platform/cpu_feature_guard.cc:193] This TensorFlow binary is optimized with oneAPI Deep Neural Network Library (oneDNN) to use the following CPU instructions in performance-critical operations:  SSE4.1 SSE4.2\n",
      "To enable them in other operations, rebuild TensorFlow with the appropriate compiler flags.\n"
     ]
    }
   ],
   "source": [
    "random_seed = 1\n",
    "import random\n",
    "random.seed(random_seed)\n",
    "\n",
    "import numpy as np\n",
    "# set the random seed to make the experiment reproducible\n",
    "\n",
    "np.random.seed(random_seed)\n",
    "\n",
    "import tensorflow\n",
    "# set seed\n",
    "tensorflow.random.set_seed(random_seed)"
   ]
  },
  {
   "cell_type": "code",
   "execution_count": 2,
   "metadata": {},
   "outputs": [],
   "source": [
    "import warnings\n",
    "warnings.simplefilter(action='ignore', category=FutureWarning)\n",
    "\n",
    "import numpy as np\n",
    "import pandas as pd\n",
    "import tensorflow as tf\n",
    "assert tf.__version__ >= \"2.0\"\n",
    "from tensorflow.keras import layers\n",
    "from matplotlib import pyplot as plt\n",
    "import seaborn as sns\n",
    "from keras.utils import np_utils\n",
    "\n",
    "# imblean provides tools for us to deal with imbalanced class sizes\n",
    "from imblearn.over_sampling import SMOTE \n",
    "from imblearn.under_sampling import EditedNearestNeighbours\n",
    "from imblearn.combine import SMOTEENN\n",
    "\n",
    "# example of random oversampling to balance the class distribution\n",
    "from collections import Counter\n",
    "from sklearn.datasets import make_classification\n",
    "from imblearn.over_sampling import RandomOverSampler\n",
    "\n",
    "from imblearn.over_sampling import ADASYN\n",
    "\n",
    "import sklearn\n",
    "assert sklearn.__version__ >= \"0.20\"\n",
    "\n",
    "# Python ≥3.5 is required\n",
    "import sys\n",
    "assert sys.version_info >= (3, 5)"
   ]
  },
  {
   "cell_type": "code",
   "execution_count": 3,
   "metadata": {},
   "outputs": [],
   "source": [
    "X_train_df = pd.read_excel('data/model_inputs/x_train_3perc.xlsx', index_col=0)\n",
    "X_test_df = pd.read_excel('data/model_inputs/x_test_3perc.xlsx', index_col=0)\n",
    "y_train_df = pd.read_excel('data/model_inputs/y_train_3perc.xlsx', index_col=0)\n",
    "y_test_df = pd.read_excel('data/model_inputs/y_test_3perc.xlsx', index_col=0)"
   ]
  },
  {
   "cell_type": "code",
   "execution_count": 4,
   "metadata": {},
   "outputs": [
    {
     "data": {
      "text/html": [
       "<div>\n",
       "<style scoped>\n",
       "    .dataframe tbody tr th:only-of-type {\n",
       "        vertical-align: middle;\n",
       "    }\n",
       "\n",
       "    .dataframe tbody tr th {\n",
       "        vertical-align: top;\n",
       "    }\n",
       "\n",
       "    .dataframe thead th {\n",
       "        text-align: right;\n",
       "    }\n",
       "</style>\n",
       "<table border=\"1\" class=\"dataframe\">\n",
       "  <thead>\n",
       "    <tr style=\"text-align: right;\">\n",
       "      <th></th>\n",
       "      <th>index</th>\n",
       "    </tr>\n",
       "    <tr>\n",
       "      <th>decision</th>\n",
       "      <th></th>\n",
       "    </tr>\n",
       "  </thead>\n",
       "  <tbody>\n",
       "    <tr>\n",
       "      <th>-1</th>\n",
       "      <td>147</td>\n",
       "    </tr>\n",
       "    <tr>\n",
       "      <th>0</th>\n",
       "      <td>1264</td>\n",
       "    </tr>\n",
       "    <tr>\n",
       "      <th>1</th>\n",
       "      <td>100</td>\n",
       "    </tr>\n",
       "  </tbody>\n",
       "</table>\n",
       "</div>"
      ],
      "text/plain": [
       "          index\n",
       "decision       \n",
       "-1          147\n",
       " 0         1264\n",
       " 1          100"
      ]
     },
     "execution_count": 4,
     "metadata": {},
     "output_type": "execute_result"
    }
   ],
   "source": [
    "pd.DataFrame(y_train_df.reset_index()).groupby('decision').count()"
   ]
  },
  {
   "cell_type": "markdown",
   "metadata": {},
   "source": [
    "### Oversampling"
   ]
  },
  {
   "cell_type": "code",
   "execution_count": 5,
   "metadata": {},
   "outputs": [],
   "source": [
    "def smote(X_train, y_train):\n",
    "    sm = SMOTE(sampling_strategy='not majority')\n",
    "    X_train_oversampled, y_train_oversampled = sm.fit_resample(X_train, y_train)\n",
    "    return X_train_oversampled, y_train_oversampled\n",
    "\n",
    "def random_oversampler(X_train, y_train):\n",
    "    oversample = RandomOverSampler(sampling_strategy='not majority')\n",
    "    X_over, y_over = oversample.fit_resample(X_train, y_train)\n",
    "    return X_over, y_over\n",
    "\n",
    "def adasyn(X_train, y_train):\n",
    "    ada = ADASYN(sampling_strategy = 'not majority')\n",
    "    X_resampled, y_resampled = ADASYN().fit_resample(X_train, y_train)\n",
    "    return X_resampled, y_resampled"
   ]
  },
  {
   "cell_type": "code",
   "execution_count": 6,
   "metadata": {},
   "outputs": [
    {
     "data": {
      "text/plain": [
       "decision\n",
       "-1          1264\n",
       " 0          1264\n",
       " 1          1264\n",
       "dtype: int64"
      ]
     },
     "execution_count": 6,
     "metadata": {},
     "output_type": "execute_result"
    }
   ],
   "source": [
    "sm = smote(X_train_df, y_train_df)\n",
    "sm[1].value_counts()"
   ]
  },
  {
   "cell_type": "code",
   "execution_count": 7,
   "metadata": {},
   "outputs": [
    {
     "data": {
      "text/plain": [
       "decision\n",
       "-1          1264\n",
       " 0          1264\n",
       " 1          1264\n",
       "dtype: int64"
      ]
     },
     "execution_count": 7,
     "metadata": {},
     "output_type": "execute_result"
    }
   ],
   "source": [
    "random_oversampling = random_oversampler(X_train_df, y_train_df)\n",
    "random_oversampling[1].value_counts()"
   ]
  },
  {
   "cell_type": "code",
   "execution_count": 8,
   "metadata": {},
   "outputs": [
    {
     "data": {
      "text/plain": [
       "decision\n",
       " 0          1264\n",
       " 1          1258\n",
       "-1          1235\n",
       "dtype: int64"
      ]
     },
     "execution_count": 8,
     "metadata": {},
     "output_type": "execute_result"
    }
   ],
   "source": [
    "ada = adasyn(X_train_df, y_train_df)\n",
    "ada[1].value_counts()"
   ]
  },
  {
   "cell_type": "markdown",
   "metadata": {},
   "source": [
    "### Shuffle + Numpy Array"
   ]
  },
  {
   "cell_type": "code",
   "execution_count": 9,
   "metadata": {},
   "outputs": [],
   "source": [
    "def shuffle_numpy_encode(X_train, X_test, y_train, y_test):\n",
    "    # shuffle the dataset! \n",
    "    train_data = X_train.copy(deep=True)\n",
    "    train_data['decision'] = y_train['decision']\n",
    "\n",
    "    train_data = train_data.sample(frac=1)\n",
    "\n",
    "    X_train = train_data.drop(['decision'], axis=1)\n",
    "    y_train = pd.DataFrame(train_data['decision'])\n",
    "    \n",
    "    # convert to numpy arrays\n",
    "    X_train = np.array(X_train).astype(dtype='float64')\n",
    "    X_test = np.array(X_test).astype(dtype='float64')\n",
    "\n",
    "    y_train = np.array(y_train['decision'])\n",
    "    y_test = np.array(y_test['decision'])\n",
    "\n",
    "    # one hot encode\n",
    "    # y_train = np_utils.to_categorical(y_train, num_classes=3)\n",
    "    # y_test = np_utils.to_categorical(y_test, num_classes=3)\n",
    "\n",
    "    y_train = np.array(list(map(lambda x: 2 if x==-1 else x, y_train))).astype(dtype='uint8')\n",
    "    y_test = np.array(list(map(lambda x: 2 if x==-1 else x, y_test))).astype(dtype='uint8')\n",
    "\n",
    "\n",
    "    return X_train, X_test, y_train, y_test"
   ]
  },
  {
   "cell_type": "code",
   "execution_count": 10,
   "metadata": {},
   "outputs": [],
   "source": [
    "def plot_curve(hist):\n",
    "  \"\"\"Plot a curve of one or more classification metrics vs. epoch.\"\"\"  \n",
    "  # list_of_metrics should be one of the names shown in:\n",
    "  # https://www.tensorflow.org/tutorials/structured_data/imbalanced_data#define_the_model_and_metrics  \n",
    "\n",
    "  epochs = hist.epoch\n",
    "  f, ax = plt.subplots(ncols=2, figsize=(20,8))\n",
    "  ax[0].plot(epochs, hist.history['loss'], label='Training Loss')\n",
    "  ax[0].plot(epochs, hist.history['val_loss'], label='Validation Loss')\n",
    "  ax[0].set_xlabel('Epochs')\n",
    "  ax[0].set_ylabel('Loss')\n",
    "  ax[0].legend()\n",
    "  ax[1].plot(epochs, hist.history['accuracy'], label='Training Accuracy')\n",
    "  ax[1].plot(epochs, hist.history['val_accuracy'], label='Validation Accuracy')\n",
    "  ax[1].set_xlabel('Epochs')\n",
    "  ax[1].set_ylabel('Accuracy')\n",
    "  ax[1].legend()"
   ]
  },
  {
   "cell_type": "code",
   "execution_count": 11,
   "metadata": {},
   "outputs": [],
   "source": [
    "from tabnanny import verbose\n",
    "\n",
    "\n",
    "def create_model(my_learning_rate):\n",
    "  \"\"\"Create and compile a deep neural net.\"\"\"\n",
    "  model = tf.keras.models.Sequential()\n",
    "  model.add(tf.keras.layers.Dense(input_shape=(X_train_df.shape[1],), units=300, activation='relu'))\n",
    "  model.add(tf.keras.layers.Dense(units=100, activation='relu'))\n",
    "    # Define a dropout regularization layer. \n",
    "  model.add(tf.keras.layers.Dropout(rate=0.2))\n",
    "  model.add(tf.keras.layers.Dense(units=3, activation='softmax'))    \n",
    "                           \n",
    "  # # Construct the layers into a model that TensorFlow can execute.  \n",
    "  # # Notice that the loss function for multi-class classification\n",
    "  # # is different than the loss function for binary classification.  \n",
    "  # model.compile(optimizer=tf.keras.optimizers.Adam(learning_rate=my_learning_rate),\n",
    "  #               loss=\"sparse_categorical_crossentropy\", \n",
    "  #               metrics=['accuracy', tf.keras.metrics.Recall(), tf.keras.metrics.Precision()])\n",
    "  \n",
    "  model.compile(optimizer=tf.keras.optimizers.Adam(learning_rate=my_learning_rate), loss=\"sparse_categorical_crossentropy\", metrics=['accuracy'])\n",
    "\n",
    "  return model    \n",
    "\n",
    "\n",
    "def train_model(model, train_features, train_label, epochs,\n",
    "                batch_size=None, validation_split=0.1):\n",
    "  \"\"\"Train the model by feeding it data.\"\"\"\n",
    "\n",
    "  history = model.fit(x=train_features, y=train_label, batch_size=batch_size,\n",
    "                      epochs=epochs, shuffle=True, \n",
    "                      validation_split=validation_split, verbose=0)\n",
    "  \n",
    "  return history   "
   ]
  },
  {
   "cell_type": "markdown",
   "metadata": {},
   "source": [
    "### Train Model"
   ]
  },
  {
   "cell_type": "code",
   "execution_count": 12,
   "metadata": {},
   "outputs": [
    {
     "name": "stderr",
     "output_type": "stream",
     "text": [
      "2022-10-29 16:08:57.470531: I tensorflow/core/platform/cpu_feature_guard.cc:193] This TensorFlow binary is optimized with oneAPI Deep Neural Network Library (oneDNN) to use the following CPU instructions in performance-critical operations:  SSE4.1 SSE4.2\n",
      "To enable them in other operations, rebuild TensorFlow with the appropriate compiler flags.\n"
     ]
    }
   ],
   "source": [
    "# The following variables are the hyperparameters.\n",
    "learning_rate = 0.003\n",
    "epochs = 50\n",
    "batch_size = 4000\n",
    "validation_split = 0.2\n",
    "\n",
    "# Establish the model's topography.\n",
    "my_model = create_model(learning_rate)"
   ]
  },
  {
   "cell_type": "code",
   "execution_count": 13,
   "metadata": {},
   "outputs": [],
   "source": [
    "results = pd.DataFrame(columns=['loss', 'accuracy'])"
   ]
  },
  {
   "cell_type": "markdown",
   "metadata": {},
   "source": [
    "SMOTE Results"
   ]
  },
  {
   "cell_type": "code",
   "execution_count": 14,
   "metadata": {},
   "outputs": [],
   "source": [
    "X_train, X_test, y_train, y_test = shuffle_numpy_encode(sm[0], X_test_df, sm[1], y_test_df)"
   ]
  },
  {
   "cell_type": "code",
   "execution_count": 15,
   "metadata": {},
   "outputs": [
    {
     "name": "stdout",
     "output_type": "stream",
     "text": [
      "6/6 [==============================] - 0s 745us/step - loss: 2.0019 - accuracy: 0.5119\n"
     ]
    },
    {
     "data": {
      "image/png": "[encoded data removed]",
      "text/plain": [
       "<Figure size 1440x576 with 2 Axes>"
      ]
     },
     "metadata": {
      "needs_background": "light"
     },
     "output_type": "display_data"
    }
   ],
   "source": [
    "# Train the model on the normalized training set.\n",
    "hist = train_model(my_model, X_train, y_train, epochs, batch_size, validation_split)\n",
    "# Plot a graph of the metric vs. epochs.\n",
    "plot_curve(hist)\n",
    "# # Evaluate on Test & Save results\n",
    "results.loc['smote'] = list(my_model.evaluate(X_test, y_test))"
   ]
  },
  {
   "cell_type": "code",
   "execution_count": 16,
   "metadata": {},
   "outputs": [
    {
     "data": {
      "text/html": [
       "<div>\n",
       "<style scoped>\n",
       "    .dataframe tbody tr th:only-of-type {\n",
       "        vertical-align: middle;\n",
       "    }\n",
       "\n",
       "    .dataframe tbody tr th {\n",
       "        vertical-align: top;\n",
       "    }\n",
       "\n",
       "    .dataframe thead th {\n",
       "        text-align: right;\n",
       "    }\n",
       "</style>\n",
       "<table border=\"1\" class=\"dataframe\">\n",
       "  <thead>\n",
       "    <tr style=\"text-align: right;\">\n",
       "      <th></th>\n",
       "      <th>loss</th>\n",
       "      <th>accuracy</th>\n",
       "    </tr>\n",
       "  </thead>\n",
       "  <tbody>\n",
       "    <tr>\n",
       "      <th>smote</th>\n",
       "      <td>2.001906</td>\n",
       "      <td>0.511905</td>\n",
       "    </tr>\n",
       "  </tbody>\n",
       "</table>\n",
       "</div>"
      ],
      "text/plain": [
       "           loss  accuracy\n",
       "smote  2.001906  0.511905"
      ]
     },
     "execution_count": 16,
     "metadata": {},
     "output_type": "execute_result"
    }
   ],
   "source": [
    "results"
   ]
  },
  {
   "cell_type": "code",
   "execution_count": 17,
   "metadata": {},
   "outputs": [
    {
     "name": "stdout",
     "output_type": "stream",
     "text": [
      "6/6 [==============================] - 0s 717us/step\n"
     ]
    }
   ],
   "source": [
    "predict_x=my_model.predict(X_test) \n",
    "predictions=np.argmax(predict_x,axis=1)"
   ]
  },
  {
   "cell_type": "code",
   "execution_count": 18,
   "metadata": {},
   "outputs": [
    {
     "data": {
      "text/plain": [
       "{0, 1, 2}"
      ]
     },
     "execution_count": 18,
     "metadata": {},
     "output_type": "execute_result"
    }
   ],
   "source": [
    "# check predictions\n",
    "set(predictions)"
   ]
  },
  {
   "cell_type": "code",
   "execution_count": 19,
   "metadata": {},
   "outputs": [],
   "source": [
    "# confusion matrix\n",
    "# sklearn.metrics.multilabel_confusion_matrix(\n",
    "#     np.array(y_test_df['decision']),\n",
    "#     classes_x,\n",
    "#     labels=[0,1,-1]\n",
    "#     # num_classes=3,\n",
    "#     # weights=None,\n",
    "#     # dtype=tf.dtypes.int32,\n",
    "#     # name=None\n",
    "# )"
   ]
  },
  {
   "cell_type": "markdown",
   "metadata": {},
   "source": [
    "Random Oversampling Results"
   ]
  },
  {
   "cell_type": "code",
   "execution_count": 20,
   "metadata": {},
   "outputs": [],
   "source": [
    "X_train, X_test, y_train, y_test = shuffle_numpy_encode(random_oversampling[0], X_test_df, random_oversampling[1], y_test_df)"
   ]
  },
  {
   "cell_type": "code",
   "execution_count": 21,
   "metadata": {},
   "outputs": [
    {
     "name": "stdout",
     "output_type": "stream",
     "text": [
      "6/6 [==============================] - 0s 733us/step - loss: 3.1851 - accuracy: 0.5119\n"
     ]
    },
    {
     "data": {
      "image/png": "[encoded data removed]",
      "text/plain": [
       "<Figure size 1440x576 with 2 Axes>"
      ]
     },
     "metadata": {
      "needs_background": "light"
     },
     "output_type": "display_data"
    }
   ],
   "source": [
    "# Train the model on the normalized training set.\n",
    "hist = train_model(my_model, X_train, y_train, epochs, batch_size, validation_split)\n",
    "# Plot a graph of the metric vs. epochs.\n",
    "plot_curve(hist)\n",
    "# Evaluate on Test & Save results\n",
    "results.loc['random_oversampling'] = list(my_model.evaluate(X_test, y_test))"
   ]
  },
  {
   "cell_type": "markdown",
   "metadata": {},
   "source": [
    "ADASYN"
   ]
  },
  {
   "cell_type": "code",
   "execution_count": 22,
   "metadata": {},
   "outputs": [],
   "source": [
    "X_train, X_test, y_train, y_test = shuffle_numpy_encode(ada[0], X_test_df, ada[1], y_test_df)"
   ]
  },
  {
   "cell_type": "code",
   "execution_count": 23,
   "metadata": {},
   "outputs": [
    {
     "name": "stdout",
     "output_type": "stream",
     "text": [
      "6/6 [==============================] - 0s 722us/step - loss: 5.6638 - accuracy: 0.5298\n"
     ]
    },
    {
     "data": {
      "image/png": "[encoded data removed]",
      "text/plain": [
       "<Figure size 1440x576 with 2 Axes>"
      ]
     },
     "metadata": {
      "needs_background": "light"
     },
     "output_type": "display_data"
    }
   ],
   "source": [
    "# Train the model on the normalized training set.\n",
    "hist = train_model(my_model, X_train, y_train, epochs, batch_size, validation_split)\n",
    "# Plot a graph of the metric vs. epochs.\n",
    "plot_curve(hist)\n",
    "# Evaluate on Test & Save results\n",
    "results.loc['adasyn'] = list(my_model.evaluate(X_test, y_test))"
   ]
  },
  {
   "cell_type": "markdown",
   "metadata": {},
   "source": [
    "### Results"
   ]
  },
  {
   "cell_type": "code",
   "execution_count": null,
   "metadata": {},
   "outputs": [],
   "source": [
    "# # 3 percent\n",
    "# results['f1'] = 2 * (results['precision'] * results['recall']) / (results['precision'] + results['recall'])\n",
    "# results "
   ]
  },
  {
   "cell_type": "code",
   "execution_count": null,
   "metadata": {},
   "outputs": [],
   "source": [
    "# # 5 percent\n",
    "# results['f1'] = 2 * (results['precision'] * results['recall']) / (results['precision'] + results['recall'])\n",
    "# results "
   ]
  },
  {
   "cell_type": "markdown",
   "metadata": {},
   "source": [
    "### Tuning"
   ]
  },
  {
   "cell_type": "code",
   "execution_count": 28,
   "metadata": {},
   "outputs": [],
   "source": [
    "#optimisation\n",
    "from bayes_opt import BayesianOptimization\n",
    "\n",
    "# model building\n",
    "import keras\n",
    "import tensorflow\n",
    "from keras import layers\n",
    "from keras.models import Sequential\n",
    "from keras.layers import Dense, Activation, Dropout, Flatten, Embedding, SimpleRNN , concatenate, Lambda\n",
    "from keras.layers import LeakyReLU\n",
    "from keras.callbacks import EarlyStopping, ModelCheckpoint\n",
    "from keras.optimizers import Adam, SGD, RMSprop, Adadelta, Adagrad, Adamax, Nadam, Ftrl\n",
    "from keras import metrics\n",
    "from keras.losses import BinaryCrossentropy\n",
    "from keras.wrappers.scikit_learn import KerasClassifier\n",
    "\n",
    "from sklearn.model_selection import cross_val_score\n",
    "\n",
    "\n",
    "def rnn_tuner2(C, batch_size, neurons1, neurons2, neurons3, activation, optimizer, dropout, dropout_rate, learning_rate, epochs, layers1, layers2):\n",
    "\n",
    "    C = round(C, 3)\n",
    "    optimizerL = ['SGD', 'Adam', 'RMSprop']\n",
    "    optimizerD= {'Adam':Adam(learning_rate=learning_rate), 'SGD':SGD(learning_rate=learning_rate),\n",
    "                  'RMSprop':RMSprop(learning_rate=learning_rate)}\n",
    "    activationL = ['relu']\n",
    "    neurons1 = round(neurons1)\n",
    "    neurons2 = round(neurons2)\n",
    "    neurons3 = round(neurons3)\n",
    "    activation = activationL[round(activation)]\n",
    "    optimizer = optimizerD[optimizerL[round(optimizer)]]\n",
    "    batch_size = round(batch_size)\n",
    "    epochs = round(epochs)\n",
    "    layers1 = round(layers1)\n",
    "    layers2 = round(layers2)\n",
    "\n",
    "    def create_model():\n",
    "      tuned_model = Sequential()\n",
    "      tuned_model.add(Dense(units=neurons1, input_shape = (X_train_df.shape[1],),kernel_regularizer=tf.keras.regularizers.l2(C))) #input_shape = (batch_size (1st dimension -> num_rows --> excluded), input_size (2nd dimension -> cols),input_dim (2-1))\n",
    "\n",
    "      for i in range(layers1): #varying first set of hidden layers\n",
    "          tuned_model.add(Dense(neurons2, activation=activation,kernel_regularizer=tf.keras.regularizers.l2(C)))\n",
    "\n",
    "      if dropout > 0.5:\n",
    "          tuned_model.add(Dropout(dropout_rate, seed=42))\n",
    "\n",
    "      for i in range(layers2): #varying second set of hidden layers\n",
    "          tuned_model.add(Dense(neurons3, activation=activation,kernel_regularizer=tf.keras.regularizers.l2(C)))\n",
    "\n",
    "      tuned_model.add(Dense(3, activation='softmax')) #output layer\n",
    "\n",
    "      tuned_model.compile(loss=\"sparse_categorical_crossentropy\", optimizer = optimizer, metrics=['accuracy'])\n",
    "     # tuned_model = tuned_model.fit(X_train_smenn, y_train_smenn, epochs=20)\n",
    "     # tuned_model.summary()\n",
    "      return tuned_model\n",
    "\n",
    "    es = EarlyStopping(monitor=\"loss\", patience=3)\n",
    "    mc = ModelCheckpoint('Best_tuned_NN.h5', monitor='val_loss',mode='min',verbose=2, save_best_only=True)\n",
    "\n",
    "    tune_rnn = KerasClassifier(build_fn=create_model, epochs=epochs, batch_size=batch_size, verbose=0) \n",
    "    score = cross_val_score(tune_rnn, X_train, y_train, fit_params={'callbacks':[es]}, error_score='raise').mean() #5 fold cross validation default\n",
    "    return score\n"
   ]
  },
  {
   "cell_type": "code",
   "execution_count": 29,
   "metadata": {},
   "outputs": [],
   "source": [
    "params_rnn2 ={\n",
    "    'neurons1': (100, 500),\n",
    "    'neurons2': (100, 500),\n",
    "    'neurons3': (100, 500),\n",
    "    'C': (0,1),\n",
    "    'activation':(0,0),\n",
    "    'optimizer':(0,2),\n",
    "    'learning_rate':(0.001, 0.01),\n",
    "    'batch_size':(100, 500),\n",
    "    'epochs':(20, 50),\n",
    "    'layers1':(1,3),\n",
    "    'layers2':(1,3),\n",
    "    'dropout':(0,1),\n",
    "    'dropout_rate':(0,0.3)\n",
    "}"
   ]
  },
  {
   "cell_type": "code",
   "execution_count": 30,
   "metadata": {},
   "outputs": [
    {
     "name": "stdout",
     "output_type": "stream",
     "text": [
      "|   iter    |  target   |     C     | activa... | batch_... |  dropout  | dropou... |  epochs   |  layers1  |  layers2  | learni... | neurons1  | neurons2  | neurons3  | optimizer |\n",
      "-------------------------------------------------------------------------------------------------------------------------------------------------------------------------------------\n"
     ]
    },
    {
     "name": "stderr",
     "output_type": "stream",
     "text": [
      "/Users/sabrina/opt/anaconda3/envs/tensorflow_env/lib/python3.7/site-packages/ipykernel_launcher.py:60: DeprecationWarning: KerasClassifier is deprecated, use Sci-Keras (https://github.com/adriangb/scikeras) instead. See https://www.adriangb.com/scikeras/stable/migration.html for help migrating.\n"
     ]
    },
    {
     "name": "stdout",
     "output_type": "stream",
     "text": [
      "WARNING:tensorflow:5 out of the last 63 calls to <function Model.make_test_function.<locals>.test_function at 0x7f7d83e41c20> triggered tf.function retracing. Tracing is expensive and the excessive number of tracings could be due to (1) creating @tf.function repeatedly in a loop, (2) passing tensors with different shapes, (3) passing Python objects instead of tensors. For (1), please define your @tf.function outside of the loop. For (2), @tf.function has reduce_retracing=True option that can avoid unnecessary retracing. For (3), please refer to https://www.tensorflow.org/guide/function#controlling_retracing and https://www.tensorflow.org/api_docs/python/tf/function for  more details.\n",
      "WARNING:tensorflow:6 out of the last 65 calls to <function Model.make_test_function.<locals>.test_function at 0x7f7da2ea0050> triggered tf.function retracing. Tracing is expensive and the excessive number of tracings could be due to (1) creating @tf.function repeatedly in a loop, (2) passing tensors with different shapes, (3) passing Python objects instead of tensors. For (1), please define your @tf.function outside of the loop. For (2), @tf.function has reduce_retracing=True option that can avoid unnecessary retracing. For (3), please refer to https://www.tensorflow.org/guide/function#controlling_retracing and https://www.tensorflow.org/api_docs/python/tf/function for  more details.\n",
      "| \u001b[0m1        \u001b[0m | \u001b[0m0.3341   \u001b[0m | \u001b[0m0.3745   \u001b[0m | \u001b[0m0.0      \u001b[0m | \u001b[0m392.8    \u001b[0m | \u001b[0m0.5987   \u001b[0m | \u001b[0m0.04681  \u001b[0m | \u001b[0m24.68    \u001b[0m | \u001b[0m1.116    \u001b[0m | \u001b[0m2.732    \u001b[0m | \u001b[0m0.00641  \u001b[0m | \u001b[0m383.2    \u001b[0m | \u001b[0m108.2    \u001b[0m | \u001b[0m488.0    \u001b[0m | \u001b[0m1.665    \u001b[0m |\n"
     ]
    },
    {
     "name": "stderr",
     "output_type": "stream",
     "text": [
      "/Users/sabrina/opt/anaconda3/envs/tensorflow_env/lib/python3.7/site-packages/ipykernel_launcher.py:60: DeprecationWarning: KerasClassifier is deprecated, use Sci-Keras (https://github.com/adriangb/scikeras) instead. See https://www.adriangb.com/scikeras/stable/migration.html for help migrating.\n"
     ]
    },
    {
     "name": "stdout",
     "output_type": "stream",
     "text": [
      "| \u001b[95m2        \u001b[0m | \u001b[95m0.3365   \u001b[0m | \u001b[95m0.2123   \u001b[0m | \u001b[95m0.0      \u001b[0m | \u001b[95m173.4    \u001b[0m | \u001b[95m0.3042   \u001b[0m | \u001b[95m0.1574   \u001b[0m | \u001b[95m32.96    \u001b[0m | \u001b[95m1.582    \u001b[0m | \u001b[95m2.224    \u001b[0m | \u001b[95m0.002255 \u001b[0m | \u001b[95m216.9    \u001b[0m | \u001b[95m246.5    \u001b[0m | \u001b[95m282.4    \u001b[0m | \u001b[95m1.57     \u001b[0m |\n"
     ]
    },
    {
     "name": "stderr",
     "output_type": "stream",
     "text": [
      "/Users/sabrina/opt/anaconda3/envs/tensorflow_env/lib/python3.7/site-packages/ipykernel_launcher.py:60: DeprecationWarning: KerasClassifier is deprecated, use Sci-Keras (https://github.com/adriangb/scikeras) instead. See https://www.adriangb.com/scikeras/stable/migration.html for help migrating.\n"
     ]
    },
    {
     "name": "stdout",
     "output_type": "stream",
     "text": [
      "| \u001b[0m3        \u001b[0m | \u001b[0m0.3201   \u001b[0m | \u001b[0m0.1997   \u001b[0m | \u001b[0m0.0      \u001b[0m | \u001b[0m337.0    \u001b[0m | \u001b[0m0.04645  \u001b[0m | \u001b[0m0.1823   \u001b[0m | \u001b[0m25.12    \u001b[0m | \u001b[0m1.13     \u001b[0m | \u001b[0m2.898    \u001b[0m | \u001b[0m0.009691 \u001b[0m | \u001b[0m423.4    \u001b[0m | \u001b[0m221.8    \u001b[0m | \u001b[0m139.1    \u001b[0m | \u001b[0m1.368    \u001b[0m |\n"
     ]
    },
    {
     "name": "stderr",
     "output_type": "stream",
     "text": [
      "/Users/sabrina/opt/anaconda3/envs/tensorflow_env/lib/python3.7/site-packages/ipykernel_launcher.py:60: DeprecationWarning: KerasClassifier is deprecated, use Sci-Keras (https://github.com/adriangb/scikeras) instead. See https://www.adriangb.com/scikeras/stable/migration.html for help migrating.\n"
     ]
    },
    {
     "name": "stdout",
     "output_type": "stream",
     "text": [
      "| \u001b[0m4        \u001b[0m | \u001b[0m0.3304   \u001b[0m | \u001b[0m0.4402   \u001b[0m | \u001b[0m0.0      \u001b[0m | \u001b[0m298.1    \u001b[0m | \u001b[0m0.03439  \u001b[0m | \u001b[0m0.2728   \u001b[0m | \u001b[0m27.76    \u001b[0m | \u001b[0m2.325    \u001b[0m | \u001b[0m1.623    \u001b[0m | \u001b[0m0.005681 \u001b[0m | \u001b[0m318.7    \u001b[0m | \u001b[0m173.9    \u001b[0m | \u001b[0m487.8    \u001b[0m | \u001b[0m1.55     \u001b[0m |\n"
     ]
    },
    {
     "name": "stderr",
     "output_type": "stream",
     "text": [
      "/Users/sabrina/opt/anaconda3/envs/tensorflow_env/lib/python3.7/site-packages/ipykernel_launcher.py:60: DeprecationWarning: KerasClassifier is deprecated, use Sci-Keras (https://github.com/adriangb/scikeras) instead. See https://www.adriangb.com/scikeras/stable/migration.html for help migrating.\n"
     ]
    },
    {
     "name": "stdout",
     "output_type": "stream",
     "text": [
      "| \u001b[0m5        \u001b[0m | \u001b[0m0.3199   \u001b[0m | \u001b[0m0.9395   \u001b[0m | \u001b[0m0.0      \u001b[0m | \u001b[0m339.2    \u001b[0m | \u001b[0m0.9219   \u001b[0m | \u001b[0m0.02655  \u001b[0m | \u001b[0m25.88    \u001b[0m | \u001b[0m1.09     \u001b[0m | \u001b[0m1.651    \u001b[0m | \u001b[0m0.004498 \u001b[0m | \u001b[0m208.5    \u001b[0m | \u001b[0m431.5    \u001b[0m | \u001b[0m242.7    \u001b[0m | \u001b[0m0.5619   \u001b[0m |\n"
     ]
    },
    {
     "name": "stderr",
     "output_type": "stream",
     "text": [
      "/Users/sabrina/opt/anaconda3/envs/tensorflow_env/lib/python3.7/site-packages/ipykernel_launcher.py:60: DeprecationWarning: KerasClassifier is deprecated, use Sci-Keras (https://github.com/adriangb/scikeras) instead. See https://www.adriangb.com/scikeras/stable/migration.html for help migrating.\n"
     ]
    },
    {
     "name": "stdout",
     "output_type": "stream",
     "text": [
      "| \u001b[0m6        \u001b[0m | \u001b[0m0.3149   \u001b[0m | \u001b[0m0.5427   \u001b[0m | \u001b[0m0.0      \u001b[0m | \u001b[0m420.9    \u001b[0m | \u001b[0m0.07455  \u001b[0m | \u001b[0m0.2961   \u001b[0m | \u001b[0m43.17    \u001b[0m | \u001b[0m1.397    \u001b[0m | \u001b[0m1.011    \u001b[0m | \u001b[0m0.008339 \u001b[0m | \u001b[0m382.7    \u001b[0m | \u001b[0m391.6    \u001b[0m | \u001b[0m408.5    \u001b[0m | \u001b[0m0.1481   \u001b[0m |\n"
     ]
    },
    {
     "name": "stderr",
     "output_type": "stream",
     "text": [
      "/Users/sabrina/opt/anaconda3/envs/tensorflow_env/lib/python3.7/site-packages/ipykernel_launcher.py:60: DeprecationWarning: KerasClassifier is deprecated, use Sci-Keras (https://github.com/adriangb/scikeras) instead. See https://www.adriangb.com/scikeras/stable/migration.html for help migrating.\n"
     ]
    },
    {
     "name": "stdout",
     "output_type": "stream",
     "text": [
      "| \u001b[95m7        \u001b[0m | \u001b[95m0.4312   \u001b[0m | \u001b[95m0.3585   \u001b[0m | \u001b[95m0.0      \u001b[0m | \u001b[95m445.2    \u001b[0m | \u001b[95m0.6233   \u001b[0m | \u001b[95m0.09927  \u001b[0m | \u001b[95m21.91    \u001b[0m | \u001b[95m1.622    \u001b[0m | \u001b[95m1.65     \u001b[0m | \u001b[95m0.007566 \u001b[0m | \u001b[95m355.0    \u001b[0m | \u001b[95m454.9    \u001b[0m | \u001b[95m288.9    \u001b[0m | \u001b[95m0.2392   \u001b[0m |\n"
     ]
    },
    {
     "name": "stderr",
     "output_type": "stream",
     "text": [
      "/Users/sabrina/opt/anaconda3/envs/tensorflow_env/lib/python3.7/site-packages/ipykernel_launcher.py:60: DeprecationWarning: KerasClassifier is deprecated, use Sci-Keras (https://github.com/adriangb/scikeras) instead. See https://www.adriangb.com/scikeras/stable/migration.html for help migrating.\n"
     ]
    },
    {
     "name": "stdout",
     "output_type": "stream",
     "text": [
      "| \u001b[0m8        \u001b[0m | \u001b[0m0.3178   \u001b[0m | \u001b[0m0.7132   \u001b[0m | \u001b[0m0.0      \u001b[0m | \u001b[0m324.5    \u001b[0m | \u001b[0m0.771    \u001b[0m | \u001b[0m0.1481   \u001b[0m | \u001b[0m35.68    \u001b[0m | \u001b[0m1.855    \u001b[0m | \u001b[0m1.051    \u001b[0m | \u001b[0m0.001971 \u001b[0m | \u001b[0m112.6    \u001b[0m | \u001b[0m354.6    \u001b[0m | \u001b[0m225.7    \u001b[0m | \u001b[0m1.017    \u001b[0m |\n"
     ]
    },
    {
     "name": "stderr",
     "output_type": "stream",
     "text": [
      "/Users/sabrina/opt/anaconda3/envs/tensorflow_env/lib/python3.7/site-packages/ipykernel_launcher.py:60: DeprecationWarning: KerasClassifier is deprecated, use Sci-Keras (https://github.com/adriangb/scikeras) instead. See https://www.adriangb.com/scikeras/stable/migration.html for help migrating.\n"
     ]
    },
    {
     "name": "stdout",
     "output_type": "stream",
     "text": [
      "| \u001b[0m9        \u001b[0m | \u001b[0m0.3299   \u001b[0m | \u001b[0m0.9076   \u001b[0m | \u001b[0m0.0      \u001b[0m | \u001b[0m264.2    \u001b[0m | \u001b[0m0.7556   \u001b[0m | \u001b[0m0.06864  \u001b[0m | \u001b[0m22.31    \u001b[0m | \u001b[0m1.58     \u001b[0m | \u001b[0m1.322    \u001b[0m | \u001b[0m0.009367 \u001b[0m | \u001b[0m423.2    \u001b[0m | \u001b[0m353.4    \u001b[0m | \u001b[0m448.6    \u001b[0m | \u001b[0m1.607    \u001b[0m |\n"
     ]
    },
    {
     "name": "stderr",
     "output_type": "stream",
     "text": [
      "/Users/sabrina/opt/anaconda3/envs/tensorflow_env/lib/python3.7/site-packages/ipykernel_launcher.py:60: DeprecationWarning: KerasClassifier is deprecated, use Sci-Keras (https://github.com/adriangb/scikeras) instead. See https://www.adriangb.com/scikeras/stable/migration.html for help migrating.\n"
     ]
    },
    {
     "name": "stdout",
     "output_type": "stream",
     "text": [
      "| \u001b[95m10       \u001b[0m | \u001b[95m0.5027   \u001b[0m | \u001b[95m0.1866   \u001b[0m | \u001b[95m0.0      \u001b[0m | \u001b[95m315.7    \u001b[0m | \u001b[95m0.8074   \u001b[0m | \u001b[95m0.2688   \u001b[0m | \u001b[95m29.54    \u001b[0m | \u001b[95m1.22     \u001b[0m | \u001b[95m1.456    \u001b[0m | \u001b[95m0.004844 \u001b[0m | \u001b[95m427.2    \u001b[0m | \u001b[95m444.3    \u001b[0m | \u001b[95m102.8    \u001b[0m | \u001b[95m1.021    \u001b[0m |\n"
     ]
    },
    {
     "name": "stderr",
     "output_type": "stream",
     "text": [
      "/Users/sabrina/opt/anaconda3/envs/tensorflow_env/lib/python3.7/site-packages/ipykernel_launcher.py:60: DeprecationWarning: KerasClassifier is deprecated, use Sci-Keras (https://github.com/adriangb/scikeras) instead. See https://www.adriangb.com/scikeras/stable/migration.html for help migrating.\n"
     ]
    },
    {
     "name": "stdout",
     "output_type": "stream",
     "text": [
      "| \u001b[0m11       \u001b[0m | \u001b[0m0.3178   \u001b[0m | \u001b[0m0.4174   \u001b[0m | \u001b[0m0.0      \u001b[0m | \u001b[0m147.9    \u001b[0m | \u001b[0m0.3376   \u001b[0m | \u001b[0m0.2829   \u001b[0m | \u001b[0m29.7     \u001b[0m | \u001b[0m2.038    \u001b[0m | \u001b[0m2.406    \u001b[0m | \u001b[0m0.004273 \u001b[0m | \u001b[0m488.7    \u001b[0m | \u001b[0m485.0    \u001b[0m | \u001b[0m200.7    \u001b[0m | \u001b[0m0.9945   \u001b[0m |\n"
     ]
    },
    {
     "name": "stderr",
     "output_type": "stream",
     "text": [
      "/Users/sabrina/opt/anaconda3/envs/tensorflow_env/lib/python3.7/site-packages/ipykernel_launcher.py:60: DeprecationWarning: KerasClassifier is deprecated, use Sci-Keras (https://github.com/adriangb/scikeras) instead. See https://www.adriangb.com/scikeras/stable/migration.html for help migrating.\n"
     ]
    },
    {
     "name": "stdout",
     "output_type": "stream",
     "text": [
      "| \u001b[0m12       \u001b[0m | \u001b[0m0.3175   \u001b[0m | \u001b[0m0.3009   \u001b[0m | \u001b[0m0.0      \u001b[0m | \u001b[0m114.8    \u001b[0m | \u001b[0m0.6096   \u001b[0m | \u001b[0m0.1508   \u001b[0m | \u001b[0m21.54    \u001b[0m | \u001b[0m1.557    \u001b[0m | \u001b[0m2.817    \u001b[0m | \u001b[0m0.003156 \u001b[0m | \u001b[0m158.0    \u001b[0m | \u001b[0m295.8    \u001b[0m | \u001b[0m494.3    \u001b[0m | \u001b[0m0.4841   \u001b[0m |\n"
     ]
    },
    {
     "name": "stderr",
     "output_type": "stream",
     "text": [
      "/Users/sabrina/opt/anaconda3/envs/tensorflow_env/lib/python3.7/site-packages/ipykernel_launcher.py:60: DeprecationWarning: KerasClassifier is deprecated, use Sci-Keras (https://github.com/adriangb/scikeras) instead. See https://www.adriangb.com/scikeras/stable/migration.html for help migrating.\n"
     ]
    },
    {
     "name": "stdout",
     "output_type": "stream",
     "text": [
      "| \u001b[0m13       \u001b[0m | \u001b[0m0.3141   \u001b[0m | \u001b[0m0.6721   \u001b[0m | \u001b[0m0.0      \u001b[0m | \u001b[0m195.1    \u001b[0m | \u001b[0m0.7282   \u001b[0m | \u001b[0m0.1103   \u001b[0m | \u001b[0m38.97    \u001b[0m | \u001b[0m2.267    \u001b[0m | \u001b[0m2.072    \u001b[0m | \u001b[0m0.001813 \u001b[0m | \u001b[0m434.1    \u001b[0m | \u001b[0m228.3    \u001b[0m | \u001b[0m174.6    \u001b[0m | \u001b[0m0.08155  \u001b[0m |\n"
     ]
    },
    {
     "name": "stderr",
     "output_type": "stream",
     "text": [
      "/Users/sabrina/opt/anaconda3/envs/tensorflow_env/lib/python3.7/site-packages/ipykernel_launcher.py:60: DeprecationWarning: KerasClassifier is deprecated, use Sci-Keras (https://github.com/adriangb/scikeras) instead. See https://www.adriangb.com/scikeras/stable/migration.html for help migrating.\n"
     ]
    },
    {
     "name": "stdout",
     "output_type": "stream",
     "text": [
      "| \u001b[0m14       \u001b[0m | \u001b[0m0.3141   \u001b[0m | \u001b[0m0.5909   \u001b[0m | \u001b[0m0.0      \u001b[0m | \u001b[0m106.6    \u001b[0m | \u001b[0m0.5121   \u001b[0m | \u001b[0m0.06795  \u001b[0m | \u001b[0m39.36    \u001b[0m | \u001b[0m1.349    \u001b[0m | \u001b[0m2.382    \u001b[0m | \u001b[0m0.004481 \u001b[0m | \u001b[0m474.7    \u001b[0m | \u001b[0m155.0    \u001b[0m | \u001b[0m236.4    \u001b[0m | \u001b[0m0.2269   \u001b[0m |\n"
     ]
    },
    {
     "name": "stderr",
     "output_type": "stream",
     "text": [
      "/Users/sabrina/opt/anaconda3/envs/tensorflow_env/lib/python3.7/site-packages/ipykernel_launcher.py:60: DeprecationWarning: KerasClassifier is deprecated, use Sci-Keras (https://github.com/adriangb/scikeras) instead. See https://www.adriangb.com/scikeras/stable/migration.html for help migrating.\n"
     ]
    },
    {
     "name": "stdout",
     "output_type": "stream",
     "text": [
      "| \u001b[0m15       \u001b[0m | \u001b[0m0.3304   \u001b[0m | \u001b[0m0.9247   \u001b[0m | \u001b[0m0.0      \u001b[0m | \u001b[0m203.2    \u001b[0m | \u001b[0m0.66     \u001b[0m | \u001b[0m0.2452   \u001b[0m | \u001b[0m36.66    \u001b[0m | \u001b[0m2.059    \u001b[0m | \u001b[0m1.484    \u001b[0m | \u001b[0m0.001838 \u001b[0m | \u001b[0m458.9    \u001b[0m | \u001b[0m460.2    \u001b[0m | \u001b[0m353.2    \u001b[0m | \u001b[0m0.6781   \u001b[0m |\n"
     ]
    },
    {
     "name": "stderr",
     "output_type": "stream",
     "text": [
      "/Users/sabrina/opt/anaconda3/envs/tensorflow_env/lib/python3.7/site-packages/ipykernel_launcher.py:60: DeprecationWarning: KerasClassifier is deprecated, use Sci-Keras (https://github.com/adriangb/scikeras) instead. See https://www.adriangb.com/scikeras/stable/migration.html for help migrating.\n"
     ]
    },
    {
     "name": "stdout",
     "output_type": "stream",
     "text": [
      "| \u001b[0m16       \u001b[0m | \u001b[0m0.3299   \u001b[0m | \u001b[0m0.3492   \u001b[0m | \u001b[0m0.0      \u001b[0m | \u001b[0m458.8    \u001b[0m | \u001b[0m0.8871   \u001b[0m | \u001b[0m0.234    \u001b[0m | \u001b[0m39.26    \u001b[0m | \u001b[0m1.168    \u001b[0m | \u001b[0m1.323    \u001b[0m | \u001b[0m0.009087 \u001b[0m | \u001b[0m342.6    \u001b[0m | \u001b[0m103.7    \u001b[0m | \u001b[0m140.6    \u001b[0m | \u001b[0m1.327    \u001b[0m |\n"
     ]
    },
    {
     "name": "stderr",
     "output_type": "stream",
     "text": [
      "/Users/sabrina/opt/anaconda3/envs/tensorflow_env/lib/python3.7/site-packages/ipykernel_launcher.py:60: DeprecationWarning: KerasClassifier is deprecated, use Sci-Keras (https://github.com/adriangb/scikeras) instead. See https://www.adriangb.com/scikeras/stable/migration.html for help migrating.\n"
     ]
    },
    {
     "name": "stdout",
     "output_type": "stream",
     "text": [
      "| \u001b[95m17       \u001b[0m | \u001b[95m0.7355   \u001b[0m | \u001b[95m0.005062 \u001b[0m | \u001b[95m0.0      \u001b[0m | \u001b[95m319.5    \u001b[0m | \u001b[95m0.6919   \u001b[0m | \u001b[95m0.1956   \u001b[0m | \u001b[95m26.73    \u001b[0m | \u001b[95m2.424    \u001b[0m | \u001b[95m1.474    \u001b[0m | \u001b[95m0.003929 \u001b[0m | \u001b[95m398.6    \u001b[0m | \u001b[95m359.9    \u001b[0m | \u001b[95m439.7    \u001b[0m | \u001b[95m1.315    \u001b[0m |\n"
     ]
    },
    {
     "name": "stderr",
     "output_type": "stream",
     "text": [
      "/Users/sabrina/opt/anaconda3/envs/tensorflow_env/lib/python3.7/site-packages/ipykernel_launcher.py:60: DeprecationWarning: KerasClassifier is deprecated, use Sci-Keras (https://github.com/adriangb/scikeras) instead. See https://www.adriangb.com/scikeras/stable/migration.html for help migrating.\n"
     ]
    },
    {
     "name": "stdout",
     "output_type": "stream",
     "text": [
      "| \u001b[0m18       \u001b[0m | \u001b[0m0.3141   \u001b[0m | \u001b[0m0.5683   \u001b[0m | \u001b[0m0.0      \u001b[0m | \u001b[0m247.1    \u001b[0m | \u001b[0m0.2652   \u001b[0m | \u001b[0m0.0732   \u001b[0m | \u001b[0m49.19    \u001b[0m | \u001b[0m1.786    \u001b[0m | \u001b[0m2.784    \u001b[0m | \u001b[0m0.00668  \u001b[0m | \u001b[0m417.9    \u001b[0m | \u001b[0m301.1    \u001b[0m | \u001b[0m330.8    \u001b[0m | \u001b[0m0.985    \u001b[0m |\n"
     ]
    },
    {
     "name": "stderr",
     "output_type": "stream",
     "text": [
      "/Users/sabrina/opt/anaconda3/envs/tensorflow_env/lib/python3.7/site-packages/ipykernel_launcher.py:60: DeprecationWarning: KerasClassifier is deprecated, use Sci-Keras (https://github.com/adriangb/scikeras) instead. See https://www.adriangb.com/scikeras/stable/migration.html for help migrating.\n"
     ]
    },
    {
     "name": "stdout",
     "output_type": "stream",
     "text": [
      "| \u001b[0m19       \u001b[0m | \u001b[0m0.322    \u001b[0m | \u001b[0m0.1952   \u001b[0m | \u001b[0m0.0      \u001b[0m | \u001b[0m212.3    \u001b[0m | \u001b[0m0.02432  \u001b[0m | \u001b[0m0.1936   \u001b[0m | \u001b[0m25.31    \u001b[0m | \u001b[0m2.881    \u001b[0m | \u001b[0m2.908    \u001b[0m | \u001b[0m0.009234 \u001b[0m | \u001b[0m248.1    \u001b[0m | \u001b[0m106.2    \u001b[0m | \u001b[0m471.3    \u001b[0m | \u001b[0m0.8564   \u001b[0m |\n"
     ]
    },
    {
     "name": "stderr",
     "output_type": "stream",
     "text": [
      "/Users/sabrina/opt/anaconda3/envs/tensorflow_env/lib/python3.7/site-packages/ipykernel_launcher.py:60: DeprecationWarning: KerasClassifier is deprecated, use Sci-Keras (https://github.com/adriangb/scikeras) instead. See https://www.adriangb.com/scikeras/stable/migration.html for help migrating.\n"
     ]
    },
    {
     "name": "stdout",
     "output_type": "stream",
     "text": [
      "| \u001b[0m20       \u001b[0m | \u001b[0m0.3141   \u001b[0m | \u001b[0m0.9667   \u001b[0m | \u001b[0m0.0      \u001b[0m | \u001b[0m441.2    \u001b[0m | \u001b[0m0.2944   \u001b[0m | \u001b[0m0.1155   \u001b[0m | \u001b[0m45.53    \u001b[0m | \u001b[0m1.634    \u001b[0m | \u001b[0m1.339    \u001b[0m | \u001b[0m0.006011 \u001b[0m | \u001b[0m474.5    \u001b[0m | \u001b[0m378.4    \u001b[0m | \u001b[0m328.0    \u001b[0m | \u001b[0m0.1944   \u001b[0m |\n"
     ]
    },
    {
     "name": "stderr",
     "output_type": "stream",
     "text": [
      "/Users/sabrina/opt/anaconda3/envs/tensorflow_env/lib/python3.7/site-packages/ipykernel_launcher.py:60: DeprecationWarning: KerasClassifier is deprecated, use Sci-Keras (https://github.com/adriangb/scikeras) instead. See https://www.adriangb.com/scikeras/stable/migration.html for help migrating.\n"
     ]
    },
    {
     "name": "stdout",
     "output_type": "stream",
     "text": [
      "| \u001b[0m21       \u001b[0m | \u001b[0m0.3167   \u001b[0m | \u001b[0m0.615    \u001b[0m | \u001b[0m0.0      \u001b[0m | \u001b[0m156.0    \u001b[0m | \u001b[0m0.5183   \u001b[0m | \u001b[0m0.2632   \u001b[0m | \u001b[0m42.22    \u001b[0m | \u001b[0m2.394    \u001b[0m | \u001b[0m2.405    \u001b[0m | \u001b[0m0.004235 \u001b[0m | \u001b[0m217.4    \u001b[0m | \u001b[0m423.7    \u001b[0m | \u001b[0m424.0    \u001b[0m | \u001b[0m1.734    \u001b[0m |\n"
     ]
    },
    {
     "name": "stderr",
     "output_type": "stream",
     "text": [
      "/Users/sabrina/opt/anaconda3/envs/tensorflow_env/lib/python3.7/site-packages/ipykernel_launcher.py:60: DeprecationWarning: KerasClassifier is deprecated, use Sci-Keras (https://github.com/adriangb/scikeras) instead. See https://www.adriangb.com/scikeras/stable/migration.html for help migrating.\n"
     ]
    },
    {
     "name": "stdout",
     "output_type": "stream",
     "text": [
      "| \u001b[0m22       \u001b[0m | \u001b[0m0.3141   \u001b[0m | \u001b[0m0.9132   \u001b[0m | \u001b[0m0.0      \u001b[0m | \u001b[0m300.6    \u001b[0m | \u001b[0m0.7983   \u001b[0m | \u001b[0m0.195    \u001b[0m | \u001b[0m41.06    \u001b[0m | \u001b[0m2.592    \u001b[0m | \u001b[0m2.78     \u001b[0m | \u001b[0m0.004042 \u001b[0m | \u001b[0m250.2    \u001b[0m | \u001b[0m137.6    \u001b[0m | \u001b[0m331.3    \u001b[0m | \u001b[0m0.07188  \u001b[0m |\n"
     ]
    },
    {
     "name": "stderr",
     "output_type": "stream",
     "text": [
      "/Users/sabrina/opt/anaconda3/envs/tensorflow_env/lib/python3.7/site-packages/ipykernel_launcher.py:60: DeprecationWarning: KerasClassifier is deprecated, use Sci-Keras (https://github.com/adriangb/scikeras) instead. See https://www.adriangb.com/scikeras/stable/migration.html for help migrating.\n"
     ]
    },
    {
     "name": "stdout",
     "output_type": "stream",
     "text": [
      "| \u001b[0m23       \u001b[0m | \u001b[0m0.3167   \u001b[0m | \u001b[0m0.4656   \u001b[0m | \u001b[0m0.0      \u001b[0m | \u001b[0m214.6    \u001b[0m | \u001b[0m0.5908   \u001b[0m | \u001b[0m0.00915  \u001b[0m | \u001b[0m21.12    \u001b[0m | \u001b[0m2.645    \u001b[0m | \u001b[0m1.72     \u001b[0m | \u001b[0m0.002144 \u001b[0m | \u001b[0m308.9    \u001b[0m | \u001b[0m408.0    \u001b[0m | \u001b[0m186.3    \u001b[0m | \u001b[0m1.246    \u001b[0m |\n"
     ]
    },
    {
     "name": "stderr",
     "output_type": "stream",
     "text": [
      "/Users/sabrina/opt/anaconda3/envs/tensorflow_env/lib/python3.7/site-packages/ipykernel_launcher.py:60: DeprecationWarning: KerasClassifier is deprecated, use Sci-Keras (https://github.com/adriangb/scikeras) instead. See https://www.adriangb.com/scikeras/stable/migration.html for help migrating.\n"
     ]
    },
    {
     "name": "stdout",
     "output_type": "stream",
     "text": [
      "| \u001b[0m24       \u001b[0m | \u001b[0m0.5559   \u001b[0m | \u001b[0m0.08535  \u001b[0m | \u001b[0m0.0      \u001b[0m | \u001b[0m312.5    \u001b[0m | \u001b[0m0.5406   \u001b[0m | \u001b[0m0.1912   \u001b[0m | \u001b[0m41.78    \u001b[0m | \u001b[0m2.952    \u001b[0m | \u001b[0m2.033    \u001b[0m | \u001b[0m0.003907 \u001b[0m | \u001b[0m418.1    \u001b[0m | \u001b[0m208.3    \u001b[0m | \u001b[0m275.6    \u001b[0m | \u001b[0m0.1569   \u001b[0m |\n"
     ]
    },
    {
     "name": "stderr",
     "output_type": "stream",
     "text": [
      "/Users/sabrina/opt/anaconda3/envs/tensorflow_env/lib/python3.7/site-packages/ipykernel_launcher.py:60: DeprecationWarning: KerasClassifier is deprecated, use Sci-Keras (https://github.com/adriangb/scikeras) instead. See https://www.adriangb.com/scikeras/stable/migration.html for help migrating.\n"
     ]
    },
    {
     "name": "stdout",
     "output_type": "stream",
     "text": [
      "| \u001b[0m25       \u001b[0m | \u001b[0m0.5396   \u001b[0m | \u001b[0m0.02535  \u001b[0m | \u001b[0m0.0      \u001b[0m | \u001b[0m434.4    \u001b[0m | \u001b[0m0.696    \u001b[0m | \u001b[0m0.1227   \u001b[0m | \u001b[0m25.2     \u001b[0m | \u001b[0m1.313    \u001b[0m | \u001b[0m1.5      \u001b[0m | \u001b[0m0.005943 \u001b[0m | \u001b[0m385.8    \u001b[0m | \u001b[0m364.1    \u001b[0m | \u001b[0m212.0    \u001b[0m | \u001b[0m1.91     \u001b[0m |\n"
     ]
    },
    {
     "name": "stderr",
     "output_type": "stream",
     "text": [
      "/Users/sabrina/opt/anaconda3/envs/tensorflow_env/lib/python3.7/site-packages/scipy/optimize/_numdiff.py:579: RuntimeWarning: invalid value encountered in true_divide\n",
      "  J_transposed[i] = df / dx\n",
      "/Users/sabrina/opt/anaconda3/envs/tensorflow_env/lib/python3.7/site-packages/scipy/optimize/_numdiff.py:579: RuntimeWarning: invalid value encountered in true_divide\n",
      "  J_transposed[i] = df / dx\n",
      "/Users/sabrina/opt/anaconda3/envs/tensorflow_env/lib/python3.7/site-packages/scipy/optimize/_numdiff.py:579: RuntimeWarning: invalid value encountered in true_divide\n",
      "  J_transposed[i] = df / dx\n",
      "/Users/sabrina/opt/anaconda3/envs/tensorflow_env/lib/python3.7/site-packages/scipy/optimize/_numdiff.py:579: RuntimeWarning: invalid value encountered in true_divide\n",
      "  J_transposed[i] = df / dx\n",
      "/Users/sabrina/opt/anaconda3/envs/tensorflow_env/lib/python3.7/site-packages/scipy/optimize/_numdiff.py:579: RuntimeWarning: invalid value encountered in true_divide\n",
      "  J_transposed[i] = df / dx\n",
      "/Users/sabrina/opt/anaconda3/envs/tensorflow_env/lib/python3.7/site-packages/scipy/optimize/_numdiff.py:579: RuntimeWarning: invalid value encountered in true_divide\n",
      "  J_transposed[i] = df / dx\n",
      "/Users/sabrina/opt/anaconda3/envs/tensorflow_env/lib/python3.7/site-packages/scipy/optimize/_numdiff.py:579: RuntimeWarning: invalid value encountered in true_divide\n",
      "  J_transposed[i] = df / dx\n",
      "/Users/sabrina/opt/anaconda3/envs/tensorflow_env/lib/python3.7/site-packages/scipy/optimize/_numdiff.py:579: RuntimeWarning: invalid value encountered in true_divide\n",
      "  J_transposed[i] = df / dx\n",
      "/Users/sabrina/opt/anaconda3/envs/tensorflow_env/lib/python3.7/site-packages/scipy/optimize/_numdiff.py:579: RuntimeWarning: invalid value encountered in true_divide\n",
      "  J_transposed[i] = df / dx\n",
      "/Users/sabrina/opt/anaconda3/envs/tensorflow_env/lib/python3.7/site-packages/scipy/optimize/_numdiff.py:579: RuntimeWarning: invalid value encountered in true_divide\n",
      "  J_transposed[i] = df / dx\n",
      "/Users/sabrina/opt/anaconda3/envs/tensorflow_env/lib/python3.7/site-packages/ipykernel_launcher.py:60: DeprecationWarning: KerasClassifier is deprecated, use Sci-Keras (https://github.com/adriangb/scikeras) instead. See https://www.adriangb.com/scikeras/stable/migration.html for help migrating.\n"
     ]
    },
    {
     "name": "stdout",
     "output_type": "stream",
     "text": [
      "| \u001b[0m26       \u001b[0m | \u001b[0m0.3141   \u001b[0m | \u001b[0m0.156    \u001b[0m | \u001b[0m0.0      \u001b[0m | \u001b[0m446.5    \u001b[0m | \u001b[0m0.6011   \u001b[0m | \u001b[0m0.2124   \u001b[0m | \u001b[0m20.62    \u001b[0m | \u001b[0m2.94     \u001b[0m | \u001b[0m2.665    \u001b[0m | \u001b[0m0.002911 \u001b[0m | \u001b[0m172.7    \u001b[0m | \u001b[0m173.4    \u001b[0m | \u001b[0m221.7    \u001b[0m | \u001b[0m1.05     \u001b[0m |\n"
     ]
    },
    {
     "name": "stderr",
     "output_type": "stream",
     "text": [
      "/Users/sabrina/opt/anaconda3/envs/tensorflow_env/lib/python3.7/site-packages/scipy/optimize/_numdiff.py:579: RuntimeWarning: invalid value encountered in true_divide\n",
      "  J_transposed[i] = df / dx\n",
      "/Users/sabrina/opt/anaconda3/envs/tensorflow_env/lib/python3.7/site-packages/scipy/optimize/_numdiff.py:579: RuntimeWarning: invalid value encountered in true_divide\n",
      "  J_transposed[i] = df / dx\n",
      "/Users/sabrina/opt/anaconda3/envs/tensorflow_env/lib/python3.7/site-packages/scipy/optimize/_numdiff.py:579: RuntimeWarning: invalid value encountered in true_divide\n",
      "  J_transposed[i] = df / dx\n",
      "/Users/sabrina/opt/anaconda3/envs/tensorflow_env/lib/python3.7/site-packages/scipy/optimize/_numdiff.py:579: RuntimeWarning: invalid value encountered in true_divide\n",
      "  J_transposed[i] = df / dx\n",
      "/Users/sabrina/opt/anaconda3/envs/tensorflow_env/lib/python3.7/site-packages/scipy/optimize/_numdiff.py:579: RuntimeWarning: invalid value encountered in true_divide\n",
      "  J_transposed[i] = df / dx\n",
      "/Users/sabrina/opt/anaconda3/envs/tensorflow_env/lib/python3.7/site-packages/scipy/optimize/_numdiff.py:579: RuntimeWarning: invalid value encountered in true_divide\n",
      "  J_transposed[i] = df / dx\n",
      "/Users/sabrina/opt/anaconda3/envs/tensorflow_env/lib/python3.7/site-packages/scipy/optimize/_numdiff.py:579: RuntimeWarning: invalid value encountered in true_divide\n",
      "  J_transposed[i] = df / dx\n",
      "/Users/sabrina/opt/anaconda3/envs/tensorflow_env/lib/python3.7/site-packages/scipy/optimize/_numdiff.py:579: RuntimeWarning: invalid value encountered in true_divide\n",
      "  J_transposed[i] = df / dx\n",
      "/Users/sabrina/opt/anaconda3/envs/tensorflow_env/lib/python3.7/site-packages/scipy/optimize/_numdiff.py:579: RuntimeWarning: invalid value encountered in true_divide\n",
      "  J_transposed[i] = df / dx\n",
      "/Users/sabrina/opt/anaconda3/envs/tensorflow_env/lib/python3.7/site-packages/scipy/optimize/_numdiff.py:579: RuntimeWarning: invalid value encountered in true_divide\n",
      "  J_transposed[i] = df / dx\n",
      "/Users/sabrina/opt/anaconda3/envs/tensorflow_env/lib/python3.7/site-packages/ipykernel_launcher.py:60: DeprecationWarning: KerasClassifier is deprecated, use Sci-Keras (https://github.com/adriangb/scikeras) instead. See https://www.adriangb.com/scikeras/stable/migration.html for help migrating.\n"
     ]
    },
    {
     "name": "stdout",
     "output_type": "stream",
     "text": [
      "| \u001b[0m27       \u001b[0m | \u001b[0m0.3299   \u001b[0m | \u001b[0m0.4209   \u001b[0m | \u001b[0m0.0      \u001b[0m | \u001b[0m160.2    \u001b[0m | \u001b[0m0.1751   \u001b[0m | \u001b[0m0.2013   \u001b[0m | \u001b[0m23.82    \u001b[0m | \u001b[0m2.561    \u001b[0m | \u001b[0m2.695    \u001b[0m | \u001b[0m0.002025 \u001b[0m | \u001b[0m477.6    \u001b[0m | \u001b[0m491.0    \u001b[0m | \u001b[0m121.5    \u001b[0m | \u001b[0m0.006905 \u001b[0m |\n"
     ]
    },
    {
     "name": "stderr",
     "output_type": "stream",
     "text": [
      "/Users/sabrina/opt/anaconda3/envs/tensorflow_env/lib/python3.7/site-packages/scipy/optimize/_numdiff.py:579: RuntimeWarning: invalid value encountered in true_divide\n",
      "  J_transposed[i] = df / dx\n",
      "/Users/sabrina/opt/anaconda3/envs/tensorflow_env/lib/python3.7/site-packages/scipy/optimize/_numdiff.py:579: RuntimeWarning: invalid value encountered in true_divide\n",
      "  J_transposed[i] = df / dx\n",
      "/Users/sabrina/opt/anaconda3/envs/tensorflow_env/lib/python3.7/site-packages/scipy/optimize/_numdiff.py:579: RuntimeWarning: invalid value encountered in true_divide\n",
      "  J_transposed[i] = df / dx\n",
      "/Users/sabrina/opt/anaconda3/envs/tensorflow_env/lib/python3.7/site-packages/scipy/optimize/_numdiff.py:579: RuntimeWarning: invalid value encountered in true_divide\n",
      "  J_transposed[i] = df / dx\n",
      "/Users/sabrina/opt/anaconda3/envs/tensorflow_env/lib/python3.7/site-packages/scipy/optimize/_numdiff.py:579: RuntimeWarning: invalid value encountered in true_divide\n",
      "  J_transposed[i] = df / dx\n",
      "/Users/sabrina/opt/anaconda3/envs/tensorflow_env/lib/python3.7/site-packages/scipy/optimize/_numdiff.py:579: RuntimeWarning: invalid value encountered in true_divide\n",
      "  J_transposed[i] = df / dx\n",
      "/Users/sabrina/opt/anaconda3/envs/tensorflow_env/lib/python3.7/site-packages/scipy/optimize/_numdiff.py:579: RuntimeWarning: invalid value encountered in true_divide\n",
      "  J_transposed[i] = df / dx\n",
      "/Users/sabrina/opt/anaconda3/envs/tensorflow_env/lib/python3.7/site-packages/scipy/optimize/_numdiff.py:579: RuntimeWarning: invalid value encountered in true_divide\n",
      "  J_transposed[i] = df / dx\n",
      "/Users/sabrina/opt/anaconda3/envs/tensorflow_env/lib/python3.7/site-packages/scipy/optimize/_numdiff.py:579: RuntimeWarning: invalid value encountered in true_divide\n",
      "  J_transposed[i] = df / dx\n",
      "/Users/sabrina/opt/anaconda3/envs/tensorflow_env/lib/python3.7/site-packages/scipy/optimize/_numdiff.py:579: RuntimeWarning: invalid value encountered in true_divide\n",
      "  J_transposed[i] = df / dx\n",
      "/Users/sabrina/opt/anaconda3/envs/tensorflow_env/lib/python3.7/site-packages/ipykernel_launcher.py:60: DeprecationWarning: KerasClassifier is deprecated, use Sci-Keras (https://github.com/adriangb/scikeras) instead. See https://www.adriangb.com/scikeras/stable/migration.html for help migrating.\n"
     ]
    },
    {
     "name": "stdout",
     "output_type": "stream",
     "text": [
      "| \u001b[0m28       \u001b[0m | \u001b[0m0.3175   \u001b[0m | \u001b[0m0.605    \u001b[0m | \u001b[0m0.0      \u001b[0m | \u001b[0m434.3    \u001b[0m | \u001b[0m0.8908   \u001b[0m | \u001b[0m0.1911   \u001b[0m | \u001b[0m48.31    \u001b[0m | \u001b[0m2.046    \u001b[0m | \u001b[0m1.123    \u001b[0m | \u001b[0m0.004483 \u001b[0m | \u001b[0m475.9    \u001b[0m | \u001b[0m307.3    \u001b[0m | \u001b[0m315.2    \u001b[0m | \u001b[0m1.398    \u001b[0m |\n"
     ]
    },
    {
     "name": "stderr",
     "output_type": "stream",
     "text": [
      "/Users/sabrina/opt/anaconda3/envs/tensorflow_env/lib/python3.7/site-packages/scipy/optimize/_numdiff.py:579: RuntimeWarning: invalid value encountered in true_divide\n",
      "  J_transposed[i] = df / dx\n",
      "/Users/sabrina/opt/anaconda3/envs/tensorflow_env/lib/python3.7/site-packages/scipy/optimize/_numdiff.py:579: RuntimeWarning: invalid value encountered in true_divide\n",
      "  J_transposed[i] = df / dx\n",
      "/Users/sabrina/opt/anaconda3/envs/tensorflow_env/lib/python3.7/site-packages/scipy/optimize/_numdiff.py:579: RuntimeWarning: invalid value encountered in true_divide\n",
      "  J_transposed[i] = df / dx\n",
      "/Users/sabrina/opt/anaconda3/envs/tensorflow_env/lib/python3.7/site-packages/scipy/optimize/_numdiff.py:579: RuntimeWarning: invalid value encountered in true_divide\n",
      "  J_transposed[i] = df / dx\n",
      "/Users/sabrina/opt/anaconda3/envs/tensorflow_env/lib/python3.7/site-packages/scipy/optimize/_numdiff.py:579: RuntimeWarning: invalid value encountered in true_divide\n",
      "  J_transposed[i] = df / dx\n",
      "/Users/sabrina/opt/anaconda3/envs/tensorflow_env/lib/python3.7/site-packages/scipy/optimize/_numdiff.py:579: RuntimeWarning: invalid value encountered in true_divide\n",
      "  J_transposed[i] = df / dx\n",
      "/Users/sabrina/opt/anaconda3/envs/tensorflow_env/lib/python3.7/site-packages/scipy/optimize/_numdiff.py:579: RuntimeWarning: invalid value encountered in true_divide\n",
      "  J_transposed[i] = df / dx\n",
      "/Users/sabrina/opt/anaconda3/envs/tensorflow_env/lib/python3.7/site-packages/scipy/optimize/_numdiff.py:579: RuntimeWarning: invalid value encountered in true_divide\n",
      "  J_transposed[i] = df / dx\n",
      "/Users/sabrina/opt/anaconda3/envs/tensorflow_env/lib/python3.7/site-packages/scipy/optimize/_numdiff.py:579: RuntimeWarning: invalid value encountered in true_divide\n",
      "  J_transposed[i] = df / dx\n",
      "/Users/sabrina/opt/anaconda3/envs/tensorflow_env/lib/python3.7/site-packages/scipy/optimize/_numdiff.py:579: RuntimeWarning: invalid value encountered in true_divide\n",
      "  J_transposed[i] = df / dx\n",
      "/Users/sabrina/opt/anaconda3/envs/tensorflow_env/lib/python3.7/site-packages/ipykernel_launcher.py:60: DeprecationWarning: KerasClassifier is deprecated, use Sci-Keras (https://github.com/adriangb/scikeras) instead. See https://www.adriangb.com/scikeras/stable/migration.html for help migrating.\n"
     ]
    },
    {
     "name": "stdout",
     "output_type": "stream",
     "text": [
      "| \u001b[0m29       \u001b[0m | \u001b[0m0.3178   \u001b[0m | \u001b[0m0.6807   \u001b[0m | \u001b[0m0.0      \u001b[0m | \u001b[0m400.1    \u001b[0m | \u001b[0m0.4162   \u001b[0m | \u001b[0m0.1374   \u001b[0m | \u001b[0m42.49    \u001b[0m | \u001b[0m1.654    \u001b[0m | \u001b[0m2.655    \u001b[0m | \u001b[0m0.002218 \u001b[0m | \u001b[0m129.0    \u001b[0m | \u001b[0m145.3    \u001b[0m | \u001b[0m398.8    \u001b[0m | \u001b[0m0.9011   \u001b[0m |\n",
      "=====================================================================================================================================================================================\n"
     ]
    }
   ],
   "source": [
    "# Run Bayesian Optimization\n",
    "rnn_bo2 = BayesianOptimization(rnn_tuner2, params_rnn2, random_state=42)\n",
    "rnn_bo2.maximize(init_points=25, n_iter=4)"
   ]
  },
  {
   "cell_type": "code",
   "execution_count": 31,
   "metadata": {},
   "outputs": [
    {
     "data": {
      "text/plain": [
       "{'C': 0.005061583846218687,\n",
       " 'activation': 0.0,\n",
       " 'batch_size': 319.49351574663444,\n",
       " 'dropout': 0.6918951976926933,\n",
       " 'dropout_rate': 0.19558837785078015,\n",
       " 'epochs': 26.728079283816793,\n",
       " 'layers1': 2.4243584426950715,\n",
       " 'layers2': 1.4744981749936001,\n",
       " 'learning_rate': 0.003928597283433409,\n",
       " 'neurons1': 398.59656204720966,\n",
       " 'neurons2': 359.85315961888585,\n",
       " 'neurons3': 439.6893641976712,\n",
       " 'optimizer': 1.3152257846006867}"
      ]
     },
     "execution_count": 31,
     "metadata": {},
     "output_type": "execute_result"
    }
   ],
   "source": [
    "best_params = rnn_bo2.max[\"params\"]\n",
    "best_params"
   ]
  },
  {
   "cell_type": "code",
   "execution_count": 32,
   "metadata": {},
   "outputs": [],
   "source": [
    "optimizerL = ['Adam', 'SGD', 'RMSprop']\n",
    "optimizerD= {'Adam':Adam(learning_rate=round(best_params['learning_rate'],3)), 'SGD':SGD(learning_rate=round(best_params['learning_rate'],3)),\n",
    "              'RMSprop':RMSprop(learning_rate=round(best_params['learning_rate'],3))}"
   ]
  },
  {
   "cell_type": "code",
   "execution_count": 33,
   "metadata": {},
   "outputs": [
    {
     "name": "stdout",
     "output_type": "stream",
     "text": [
      "Epoch 1/300\n",
      "95/95 [==============================] - 1s 3ms/step - loss: 6.8205 - accuracy: 0.4880 - val_loss: 6.7683 - val_accuracy: 0.5389\n",
      "Epoch 2/300\n",
      "95/95 [==============================] - 0s 2ms/step - loss: 6.7192 - accuracy: 0.5473 - val_loss: 6.6724 - val_accuracy: 0.5586\n",
      "Epoch 3/300\n",
      "95/95 [==============================] - 0s 2ms/step - loss: 6.6277 - accuracy: 0.5776 - val_loss: 6.5879 - val_accuracy: 0.5889\n",
      "Epoch 4/300\n",
      "95/95 [==============================] - 0s 2ms/step - loss: 6.5475 - accuracy: 0.6053 - val_loss: 6.5125 - val_accuracy: 0.6100\n",
      "Epoch 5/300\n",
      "95/95 [==============================] - 0s 2ms/step - loss: 6.4758 - accuracy: 0.6195 - val_loss: 6.4448 - val_accuracy: 0.6126\n",
      "Epoch 6/300\n",
      "95/95 [==============================] - 0s 2ms/step - loss: 6.4098 - accuracy: 0.6350 - val_loss: 6.3822 - val_accuracy: 0.6113\n",
      "Epoch 7/300\n",
      "95/95 [==============================] - 0s 2ms/step - loss: 6.3484 - accuracy: 0.6403 - val_loss: 6.3241 - val_accuracy: 0.6087\n",
      "Epoch 8/300\n",
      "95/95 [==============================] - 0s 2ms/step - loss: 6.2903 - accuracy: 0.6479 - val_loss: 6.2701 - val_accuracy: 0.6166\n",
      "Epoch 9/300\n",
      "95/95 [==============================] - 0s 2ms/step - loss: 6.2352 - accuracy: 0.6512 - val_loss: 6.2180 - val_accuracy: 0.6298\n",
      "Epoch 10/300\n",
      "95/95 [==============================] - 0s 2ms/step - loss: 6.1831 - accuracy: 0.6561 - val_loss: 6.1667 - val_accuracy: 0.6337\n",
      "Epoch 11/300\n",
      "95/95 [==============================] - 0s 2ms/step - loss: 6.1304 - accuracy: 0.6683 - val_loss: 6.1165 - val_accuracy: 0.6522\n",
      "Epoch 12/300\n",
      "95/95 [==============================] - 0s 2ms/step - loss: 6.0793 - accuracy: 0.6663 - val_loss: 6.0687 - val_accuracy: 0.6522\n",
      "Epoch 13/300\n",
      "95/95 [==============================] - 0s 2ms/step - loss: 6.0317 - accuracy: 0.6759 - val_loss: 6.0221 - val_accuracy: 0.6548\n",
      "Epoch 14/300\n",
      "95/95 [==============================] - 0s 2ms/step - loss: 5.9846 - accuracy: 0.6825 - val_loss: 5.9757 - val_accuracy: 0.6627\n",
      "Epoch 15/300\n",
      "95/95 [==============================] - 0s 2ms/step - loss: 5.9354 - accuracy: 0.6874 - val_loss: 5.9301 - val_accuracy: 0.6693\n",
      "Epoch 16/300\n",
      "95/95 [==============================] - 0s 2ms/step - loss: 5.8882 - accuracy: 0.6930 - val_loss: 5.8862 - val_accuracy: 0.6812\n",
      "Epoch 17/300\n",
      "95/95 [==============================] - 0s 2ms/step - loss: 5.8453 - accuracy: 0.6993 - val_loss: 5.8427 - val_accuracy: 0.6864\n",
      "Epoch 18/300\n",
      "95/95 [==============================] - 0s 2ms/step - loss: 5.7998 - accuracy: 0.7039 - val_loss: 5.7990 - val_accuracy: 0.6917\n",
      "Epoch 19/300\n",
      "95/95 [==============================] - 0s 2ms/step - loss: 5.7578 - accuracy: 0.7033 - val_loss: 5.7551 - val_accuracy: 0.6917\n",
      "Epoch 20/300\n",
      "95/95 [==============================] - 0s 2ms/step - loss: 5.7175 - accuracy: 0.7089 - val_loss: 5.7128 - val_accuracy: 0.6996\n",
      "Epoch 21/300\n",
      "95/95 [==============================] - 0s 2ms/step - loss: 5.6710 - accuracy: 0.7108 - val_loss: 5.6723 - val_accuracy: 0.7036\n",
      "Epoch 22/300\n",
      "95/95 [==============================] - 0s 2ms/step - loss: 5.6284 - accuracy: 0.7125 - val_loss: 5.6304 - val_accuracy: 0.7009\n",
      "Epoch 23/300\n",
      "95/95 [==============================] - 0s 2ms/step - loss: 5.5847 - accuracy: 0.7184 - val_loss: 5.5893 - val_accuracy: 0.7075\n",
      "Epoch 24/300\n",
      "95/95 [==============================] - 0s 2ms/step - loss: 5.5441 - accuracy: 0.7234 - val_loss: 5.5491 - val_accuracy: 0.7101\n",
      "Epoch 25/300\n",
      "95/95 [==============================] - 0s 2ms/step - loss: 5.5056 - accuracy: 0.7240 - val_loss: 5.5077 - val_accuracy: 0.7062\n",
      "Epoch 26/300\n",
      "95/95 [==============================] - 0s 2ms/step - loss: 5.4664 - accuracy: 0.7188 - val_loss: 5.4698 - val_accuracy: 0.7167\n",
      "Epoch 27/300\n",
      "95/95 [==============================] - 0s 2ms/step - loss: 5.4284 - accuracy: 0.7247 - val_loss: 5.4307 - val_accuracy: 0.7141\n",
      "Epoch 28/300\n",
      "95/95 [==============================] - 0s 2ms/step - loss: 5.3867 - accuracy: 0.7326 - val_loss: 5.3912 - val_accuracy: 0.7181\n",
      "Epoch 29/300\n",
      "95/95 [==============================] - 0s 2ms/step - loss: 5.3476 - accuracy: 0.7280 - val_loss: 5.3533 - val_accuracy: 0.7194\n",
      "Epoch 30/300\n",
      "95/95 [==============================] - 0s 2ms/step - loss: 5.3114 - accuracy: 0.7329 - val_loss: 5.3155 - val_accuracy: 0.7220\n",
      "Epoch 31/300\n",
      "95/95 [==============================] - 0s 2ms/step - loss: 5.2720 - accuracy: 0.7379 - val_loss: 5.2810 - val_accuracy: 0.7246\n",
      "Epoch 32/300\n",
      "95/95 [==============================] - 0s 2ms/step - loss: 5.2328 - accuracy: 0.7392 - val_loss: 5.2410 - val_accuracy: 0.7220\n",
      "Epoch 33/300\n",
      "95/95 [==============================] - 0s 2ms/step - loss: 5.1988 - accuracy: 0.7349 - val_loss: 5.2054 - val_accuracy: 0.7220\n",
      "Epoch 34/300\n",
      "95/95 [==============================] - 0s 2ms/step - loss: 5.1611 - accuracy: 0.7402 - val_loss: 5.1674 - val_accuracy: 0.7233\n",
      "Epoch 35/300\n",
      "95/95 [==============================] - 0s 2ms/step - loss: 5.1222 - accuracy: 0.7425 - val_loss: 5.1313 - val_accuracy: 0.7260\n",
      "Epoch 36/300\n",
      "95/95 [==============================] - 0s 2ms/step - loss: 5.0914 - accuracy: 0.7415 - val_loss: 5.0962 - val_accuracy: 0.7233\n",
      "Epoch 37/300\n",
      "95/95 [==============================] - 0s 2ms/step - loss: 5.0536 - accuracy: 0.7435 - val_loss: 5.0609 - val_accuracy: 0.7286\n",
      "Epoch 38/300\n",
      "95/95 [==============================] - 0s 2ms/step - loss: 5.0143 - accuracy: 0.7474 - val_loss: 5.0252 - val_accuracy: 0.7273\n",
      "Epoch 39/300\n",
      "95/95 [==============================] - 0s 2ms/step - loss: 4.9810 - accuracy: 0.7498 - val_loss: 4.9937 - val_accuracy: 0.7312\n",
      "Epoch 40/300\n",
      "95/95 [==============================] - 0s 2ms/step - loss: 4.9471 - accuracy: 0.7455 - val_loss: 4.9582 - val_accuracy: 0.7299\n",
      "Epoch 41/300\n",
      "95/95 [==============================] - 0s 2ms/step - loss: 4.9153 - accuracy: 0.7494 - val_loss: 4.9243 - val_accuracy: 0.7299\n",
      "Epoch 42/300\n",
      "95/95 [==============================] - 0s 2ms/step - loss: 4.8769 - accuracy: 0.7511 - val_loss: 4.8895 - val_accuracy: 0.7312\n",
      "Epoch 43/300\n",
      "95/95 [==============================] - 0s 2ms/step - loss: 4.8427 - accuracy: 0.7573 - val_loss: 4.8562 - val_accuracy: 0.7299\n",
      "Epoch 44/300\n",
      "95/95 [==============================] - 0s 2ms/step - loss: 4.8119 - accuracy: 0.7554 - val_loss: 4.8240 - val_accuracy: 0.7260\n",
      "Epoch 45/300\n",
      "95/95 [==============================] - 0s 2ms/step - loss: 4.7805 - accuracy: 0.7587 - val_loss: 4.7908 - val_accuracy: 0.7286\n",
      "Epoch 46/300\n",
      "95/95 [==============================] - 0s 2ms/step - loss: 4.7405 - accuracy: 0.7613 - val_loss: 4.7602 - val_accuracy: 0.7260\n",
      "Epoch 47/300\n",
      "95/95 [==============================] - 0s 2ms/step - loss: 4.7115 - accuracy: 0.7626 - val_loss: 4.7254 - val_accuracy: 0.7378\n",
      "Epoch 48/300\n",
      "95/95 [==============================] - 0s 2ms/step - loss: 4.6822 - accuracy: 0.7639 - val_loss: 4.6955 - val_accuracy: 0.7312\n",
      "Epoch 49/300\n",
      "95/95 [==============================] - 0s 2ms/step - loss: 4.6491 - accuracy: 0.7587 - val_loss: 4.6631 - val_accuracy: 0.7325\n",
      "Epoch 50/300\n",
      "95/95 [==============================] - 0s 2ms/step - loss: 4.6127 - accuracy: 0.7652 - val_loss: 4.6313 - val_accuracy: 0.7418\n",
      "Epoch 51/300\n",
      "95/95 [==============================] - 0s 2ms/step - loss: 4.5835 - accuracy: 0.7659 - val_loss: 4.5998 - val_accuracy: 0.7391\n",
      "Epoch 52/300\n",
      "95/95 [==============================] - 0s 2ms/step - loss: 4.5510 - accuracy: 0.7676 - val_loss: 4.5683 - val_accuracy: 0.7418\n",
      "Epoch 53/300\n",
      "95/95 [==============================] - 0s 2ms/step - loss: 4.5214 - accuracy: 0.7610 - val_loss: 4.5371 - val_accuracy: 0.7470\n",
      "Epoch 54/300\n",
      "95/95 [==============================] - 0s 2ms/step - loss: 4.4861 - accuracy: 0.7725 - val_loss: 4.5079 - val_accuracy: 0.7391\n",
      "Epoch 55/300\n",
      "95/95 [==============================] - 0s 2ms/step - loss: 4.4588 - accuracy: 0.7689 - val_loss: 4.4777 - val_accuracy: 0.7404\n",
      "Epoch 56/300\n",
      "95/95 [==============================] - 0s 2ms/step - loss: 4.4283 - accuracy: 0.7718 - val_loss: 4.4476 - val_accuracy: 0.7457\n",
      "Epoch 57/300\n",
      "95/95 [==============================] - 0s 2ms/step - loss: 4.3992 - accuracy: 0.7709 - val_loss: 4.4168 - val_accuracy: 0.7444\n",
      "Epoch 58/300\n",
      "95/95 [==============================] - 0s 2ms/step - loss: 4.3729 - accuracy: 0.7682 - val_loss: 4.3874 - val_accuracy: 0.7431\n",
      "Epoch 59/300\n",
      "95/95 [==============================] - 0s 2ms/step - loss: 4.3407 - accuracy: 0.7695 - val_loss: 4.3594 - val_accuracy: 0.7404\n",
      "Epoch 60/300\n",
      "95/95 [==============================] - 0s 2ms/step - loss: 4.3096 - accuracy: 0.7798 - val_loss: 4.3305 - val_accuracy: 0.7431\n",
      "Epoch 61/300\n",
      "95/95 [==============================] - 0s 2ms/step - loss: 4.2800 - accuracy: 0.7722 - val_loss: 4.2989 - val_accuracy: 0.7470\n",
      "Epoch 62/300\n",
      "95/95 [==============================] - 0s 2ms/step - loss: 4.2465 - accuracy: 0.7784 - val_loss: 4.2728 - val_accuracy: 0.7418\n",
      "Epoch 63/300\n",
      "95/95 [==============================] - 0s 2ms/step - loss: 4.2194 - accuracy: 0.7834 - val_loss: 4.2436 - val_accuracy: 0.7536\n",
      "Epoch 64/300\n",
      "95/95 [==============================] - 0s 2ms/step - loss: 4.1933 - accuracy: 0.7771 - val_loss: 4.2171 - val_accuracy: 0.7484\n",
      "Epoch 65/300\n",
      "95/95 [==============================] - 0s 2ms/step - loss: 4.1682 - accuracy: 0.7824 - val_loss: 4.1885 - val_accuracy: 0.7484\n",
      "Epoch 66/300\n",
      "95/95 [==============================] - 0s 2ms/step - loss: 4.1389 - accuracy: 0.7817 - val_loss: 4.1606 - val_accuracy: 0.7484\n",
      "Epoch 67/300\n",
      "95/95 [==============================] - 0s 2ms/step - loss: 4.1107 - accuracy: 0.7807 - val_loss: 4.1331 - val_accuracy: 0.7510\n",
      "Epoch 68/300\n",
      "95/95 [==============================] - 0s 2ms/step - loss: 4.0820 - accuracy: 0.7791 - val_loss: 4.1043 - val_accuracy: 0.7510\n",
      "Epoch 69/300\n",
      "95/95 [==============================] - 0s 2ms/step - loss: 4.0502 - accuracy: 0.7929 - val_loss: 4.0784 - val_accuracy: 0.7536\n",
      "Epoch 70/300\n",
      "95/95 [==============================] - 0s 2ms/step - loss: 4.0297 - accuracy: 0.7860 - val_loss: 4.0537 - val_accuracy: 0.7523\n",
      "Epoch 71/300\n",
      "95/95 [==============================] - 0s 2ms/step - loss: 3.9993 - accuracy: 0.7854 - val_loss: 4.0250 - val_accuracy: 0.7523\n",
      "Epoch 72/300\n",
      "95/95 [==============================] - 0s 2ms/step - loss: 3.9720 - accuracy: 0.7887 - val_loss: 3.9971 - val_accuracy: 0.7484\n",
      "Epoch 73/300\n",
      "95/95 [==============================] - 0s 2ms/step - loss: 3.9465 - accuracy: 0.7873 - val_loss: 3.9720 - val_accuracy: 0.7563\n",
      "Epoch 74/300\n",
      "95/95 [==============================] - 0s 2ms/step - loss: 3.9219 - accuracy: 0.7834 - val_loss: 3.9456 - val_accuracy: 0.7602\n",
      "Epoch 75/300\n",
      "95/95 [==============================] - 0s 2ms/step - loss: 3.8935 - accuracy: 0.7847 - val_loss: 3.9192 - val_accuracy: 0.7523\n",
      "Epoch 76/300\n",
      "95/95 [==============================] - 0s 2ms/step - loss: 3.8658 - accuracy: 0.7916 - val_loss: 3.8961 - val_accuracy: 0.7549\n",
      "Epoch 77/300\n",
      "95/95 [==============================] - 0s 2ms/step - loss: 3.8417 - accuracy: 0.7900 - val_loss: 3.8691 - val_accuracy: 0.7589\n",
      "Epoch 78/300\n",
      "95/95 [==============================] - 0s 2ms/step - loss: 3.8130 - accuracy: 0.7959 - val_loss: 3.8463 - val_accuracy: 0.7602\n",
      "Epoch 79/300\n",
      "95/95 [==============================] - 0s 2ms/step - loss: 3.7897 - accuracy: 0.7896 - val_loss: 3.8228 - val_accuracy: 0.7549\n",
      "Epoch 80/300\n",
      "95/95 [==============================] - 0s 2ms/step - loss: 3.7671 - accuracy: 0.7920 - val_loss: 3.7966 - val_accuracy: 0.7576\n",
      "Epoch 81/300\n",
      "95/95 [==============================] - 0s 2ms/step - loss: 3.7362 - accuracy: 0.7936 - val_loss: 3.7700 - val_accuracy: 0.7602\n",
      "Epoch 82/300\n",
      "95/95 [==============================] - 0s 2ms/step - loss: 3.7155 - accuracy: 0.7929 - val_loss: 3.7456 - val_accuracy: 0.7589\n",
      "Epoch 83/300\n",
      "95/95 [==============================] - 0s 2ms/step - loss: 3.6871 - accuracy: 0.8012 - val_loss: 3.7215 - val_accuracy: 0.7589\n",
      "Epoch 84/300\n",
      "95/95 [==============================] - 0s 2ms/step - loss: 3.6701 - accuracy: 0.7995 - val_loss: 3.6957 - val_accuracy: 0.7615\n",
      "Epoch 85/300\n",
      "95/95 [==============================] - 0s 2ms/step - loss: 3.6396 - accuracy: 0.8028 - val_loss: 3.6736 - val_accuracy: 0.7615\n",
      "Epoch 86/300\n",
      "95/95 [==============================] - 0s 2ms/step - loss: 3.6151 - accuracy: 0.8065 - val_loss: 3.6498 - val_accuracy: 0.7602\n",
      "Epoch 87/300\n",
      "95/95 [==============================] - 0s 2ms/step - loss: 3.5937 - accuracy: 0.8009 - val_loss: 3.6272 - val_accuracy: 0.7602\n",
      "Epoch 88/300\n",
      "95/95 [==============================] - 0s 2ms/step - loss: 3.5696 - accuracy: 0.8032 - val_loss: 3.6042 - val_accuracy: 0.7589\n",
      "Epoch 89/300\n",
      "95/95 [==============================] - 0s 2ms/step - loss: 3.5452 - accuracy: 0.8084 - val_loss: 3.5791 - val_accuracy: 0.7655\n",
      "Epoch 90/300\n",
      "95/95 [==============================] - 0s 2ms/step - loss: 3.5245 - accuracy: 0.8127 - val_loss: 3.5548 - val_accuracy: 0.7642\n",
      "Epoch 91/300\n",
      "95/95 [==============================] - 0s 2ms/step - loss: 3.5034 - accuracy: 0.8018 - val_loss: 3.5311 - val_accuracy: 0.7615\n",
      "Epoch 92/300\n",
      "95/95 [==============================] - 0s 2ms/step - loss: 3.4734 - accuracy: 0.8134 - val_loss: 3.5081 - val_accuracy: 0.7668\n",
      "Epoch 93/300\n",
      "95/95 [==============================] - 0s 2ms/step - loss: 3.4540 - accuracy: 0.8081 - val_loss: 3.4891 - val_accuracy: 0.7615\n",
      "Epoch 94/300\n",
      "95/95 [==============================] - 0s 2ms/step - loss: 3.4301 - accuracy: 0.8157 - val_loss: 3.4670 - val_accuracy: 0.7589\n",
      "Epoch 95/300\n",
      "95/95 [==============================] - 0s 2ms/step - loss: 3.4066 - accuracy: 0.8154 - val_loss: 3.4420 - val_accuracy: 0.7655\n",
      "Epoch 96/300\n",
      "95/95 [==============================] - 0s 2ms/step - loss: 3.3845 - accuracy: 0.8104 - val_loss: 3.4213 - val_accuracy: 0.7615\n",
      "Epoch 97/300\n",
      "95/95 [==============================] - 0s 2ms/step - loss: 3.3635 - accuracy: 0.8117 - val_loss: 3.3985 - val_accuracy: 0.7655\n",
      "Epoch 98/300\n",
      "95/95 [==============================] - 0s 2ms/step - loss: 3.3424 - accuracy: 0.8111 - val_loss: 3.3751 - val_accuracy: 0.7708\n",
      "Epoch 99/300\n",
      "95/95 [==============================] - 0s 2ms/step - loss: 3.3208 - accuracy: 0.8104 - val_loss: 3.3631 - val_accuracy: 0.7681\n",
      "Epoch 100/300\n",
      "95/95 [==============================] - 0s 2ms/step - loss: 3.2956 - accuracy: 0.8144 - val_loss: 3.3338 - val_accuracy: 0.7655\n",
      "Epoch 101/300\n",
      "95/95 [==============================] - 0s 2ms/step - loss: 3.2796 - accuracy: 0.8144 - val_loss: 3.3136 - val_accuracy: 0.7694\n",
      "Epoch 102/300\n",
      "95/95 [==============================] - 0s 2ms/step - loss: 3.2521 - accuracy: 0.8213 - val_loss: 3.2930 - val_accuracy: 0.7681\n",
      "Epoch 103/300\n",
      "95/95 [==============================] - 0s 2ms/step - loss: 3.2346 - accuracy: 0.8197 - val_loss: 3.2714 - val_accuracy: 0.7681\n",
      "Epoch 104/300\n",
      "95/95 [==============================] - 0s 3ms/step - loss: 3.2117 - accuracy: 0.8134 - val_loss: 3.2511 - val_accuracy: 0.7655\n",
      "Epoch 105/300\n",
      "95/95 [==============================] - 0s 2ms/step - loss: 3.1911 - accuracy: 0.8200 - val_loss: 3.2291 - val_accuracy: 0.7694\n",
      "Epoch 106/300\n",
      "95/95 [==============================] - 0s 2ms/step - loss: 3.1719 - accuracy: 0.8193 - val_loss: 3.2078 - val_accuracy: 0.7734\n",
      "Epoch 107/300\n",
      "95/95 [==============================] - 0s 2ms/step - loss: 3.1492 - accuracy: 0.8164 - val_loss: 3.1882 - val_accuracy: 0.7773\n",
      "Epoch 108/300\n",
      "95/95 [==============================] - 0s 2ms/step - loss: 3.1316 - accuracy: 0.8213 - val_loss: 3.1684 - val_accuracy: 0.7773\n",
      "Epoch 109/300\n",
      "95/95 [==============================] - 0s 2ms/step - loss: 3.1055 - accuracy: 0.8266 - val_loss: 3.1481 - val_accuracy: 0.7747\n",
      "Epoch 110/300\n",
      "95/95 [==============================] - 0s 2ms/step - loss: 3.0887 - accuracy: 0.8210 - val_loss: 3.1281 - val_accuracy: 0.7773\n",
      "Epoch 111/300\n",
      "95/95 [==============================] - 0s 2ms/step - loss: 3.0709 - accuracy: 0.8246 - val_loss: 3.1082 - val_accuracy: 0.7839\n",
      "Epoch 112/300\n",
      "95/95 [==============================] - 0s 2ms/step - loss: 3.0496 - accuracy: 0.8210 - val_loss: 3.0911 - val_accuracy: 0.7773\n",
      "Epoch 113/300\n",
      "95/95 [==============================] - 0s 2ms/step - loss: 3.0284 - accuracy: 0.8279 - val_loss: 3.0693 - val_accuracy: 0.7800\n",
      "Epoch 114/300\n",
      "95/95 [==============================] - 0s 2ms/step - loss: 3.0063 - accuracy: 0.8279 - val_loss: 3.0533 - val_accuracy: 0.7866\n",
      "Epoch 115/300\n",
      "95/95 [==============================] - 0s 2ms/step - loss: 2.9893 - accuracy: 0.8249 - val_loss: 3.0313 - val_accuracy: 0.7813\n",
      "Epoch 116/300\n",
      "95/95 [==============================] - 0s 2ms/step - loss: 2.9696 - accuracy: 0.8299 - val_loss: 3.0133 - val_accuracy: 0.7852\n",
      "Epoch 117/300\n",
      "95/95 [==============================] - 0s 2ms/step - loss: 2.9541 - accuracy: 0.8279 - val_loss: 2.9927 - val_accuracy: 0.7892\n",
      "Epoch 118/300\n",
      "95/95 [==============================] - 0s 2ms/step - loss: 2.9333 - accuracy: 0.8345 - val_loss: 2.9764 - val_accuracy: 0.7852\n",
      "Epoch 119/300\n",
      "95/95 [==============================] - 0s 2ms/step - loss: 2.9161 - accuracy: 0.8309 - val_loss: 2.9561 - val_accuracy: 0.7866\n",
      "Epoch 120/300\n",
      "95/95 [==============================] - 0s 2ms/step - loss: 2.8979 - accuracy: 0.8342 - val_loss: 2.9358 - val_accuracy: 0.7918\n",
      "Epoch 121/300\n",
      "95/95 [==============================] - 0s 2ms/step - loss: 2.8696 - accuracy: 0.8378 - val_loss: 2.9247 - val_accuracy: 0.7892\n",
      "Epoch 122/300\n",
      "95/95 [==============================] - 0s 2ms/step - loss: 2.8603 - accuracy: 0.8312 - val_loss: 2.9034 - val_accuracy: 0.7918\n",
      "Epoch 123/300\n",
      "95/95 [==============================] - 0s 2ms/step - loss: 2.8381 - accuracy: 0.8332 - val_loss: 2.8830 - val_accuracy: 0.7958\n",
      "Epoch 124/300\n",
      "95/95 [==============================] - 0s 2ms/step - loss: 2.8207 - accuracy: 0.8351 - val_loss: 2.8653 - val_accuracy: 0.7958\n",
      "Epoch 125/300\n",
      "95/95 [==============================] - 0s 2ms/step - loss: 2.8052 - accuracy: 0.8361 - val_loss: 2.8474 - val_accuracy: 0.7984\n",
      "Epoch 126/300\n",
      "95/95 [==============================] - 0s 2ms/step - loss: 2.7848 - accuracy: 0.8437 - val_loss: 2.8306 - val_accuracy: 0.7997\n",
      "Epoch 127/300\n",
      "95/95 [==============================] - 0s 2ms/step - loss: 2.7675 - accuracy: 0.8378 - val_loss: 2.8145 - val_accuracy: 0.7984\n",
      "Epoch 128/300\n",
      "95/95 [==============================] - 0s 2ms/step - loss: 2.7518 - accuracy: 0.8388 - val_loss: 2.7939 - val_accuracy: 0.7971\n",
      "Epoch 129/300\n",
      "95/95 [==============================] - 0s 2ms/step - loss: 2.7303 - accuracy: 0.8487 - val_loss: 2.7795 - val_accuracy: 0.7997\n",
      "Epoch 130/300\n",
      "95/95 [==============================] - 0s 2ms/step - loss: 2.7154 - accuracy: 0.8473 - val_loss: 2.7623 - val_accuracy: 0.7971\n",
      "Epoch 131/300\n",
      "95/95 [==============================] - 0s 2ms/step - loss: 2.6958 - accuracy: 0.8454 - val_loss: 2.7415 - val_accuracy: 0.8037\n",
      "Epoch 132/300\n",
      "95/95 [==============================] - 0s 2ms/step - loss: 2.6771 - accuracy: 0.8457 - val_loss: 2.7276 - val_accuracy: 0.8037\n",
      "Epoch 133/300\n",
      "95/95 [==============================] - 0s 2ms/step - loss: 2.6613 - accuracy: 0.8497 - val_loss: 2.7106 - val_accuracy: 0.8024\n",
      "Epoch 134/300\n",
      "95/95 [==============================] - 0s 2ms/step - loss: 2.6434 - accuracy: 0.8520 - val_loss: 2.6943 - val_accuracy: 0.7997\n",
      "Epoch 135/300\n",
      "95/95 [==============================] - 0s 2ms/step - loss: 2.6283 - accuracy: 0.8454 - val_loss: 2.6802 - val_accuracy: 0.8024\n",
      "Epoch 136/300\n",
      "95/95 [==============================] - 0s 2ms/step - loss: 2.6140 - accuracy: 0.8477 - val_loss: 2.6661 - val_accuracy: 0.8024\n",
      "Epoch 137/300\n",
      "95/95 [==============================] - 0s 2ms/step - loss: 2.5959 - accuracy: 0.8576 - val_loss: 2.6431 - val_accuracy: 0.8063\n",
      "Epoch 138/300\n",
      "95/95 [==============================] - 0s 2ms/step - loss: 2.5814 - accuracy: 0.8506 - val_loss: 2.6281 - val_accuracy: 0.8103\n",
      "Epoch 139/300\n",
      "95/95 [==============================] - 0s 2ms/step - loss: 2.5630 - accuracy: 0.8520 - val_loss: 2.6119 - val_accuracy: 0.8116\n",
      "Epoch 140/300\n",
      "95/95 [==============================] - 0s 2ms/step - loss: 2.5474 - accuracy: 0.8483 - val_loss: 2.6000 - val_accuracy: 0.8090\n",
      "Epoch 141/300\n",
      "95/95 [==============================] - 0s 2ms/step - loss: 2.5316 - accuracy: 0.8497 - val_loss: 2.5840 - val_accuracy: 0.8116\n",
      "Epoch 142/300\n",
      "95/95 [==============================] - 0s 2ms/step - loss: 2.5168 - accuracy: 0.8582 - val_loss: 2.5645 - val_accuracy: 0.8155\n",
      "Epoch 143/300\n",
      "95/95 [==============================] - 0s 3ms/step - loss: 2.5012 - accuracy: 0.8539 - val_loss: 2.5524 - val_accuracy: 0.8116\n",
      "Epoch 144/300\n",
      "95/95 [==============================] - 0s 2ms/step - loss: 2.4831 - accuracy: 0.8595 - val_loss: 2.5355 - val_accuracy: 0.8103\n",
      "Epoch 145/300\n",
      "95/95 [==============================] - 0s 2ms/step - loss: 2.4673 - accuracy: 0.8635 - val_loss: 2.5226 - val_accuracy: 0.8116\n",
      "Epoch 146/300\n",
      "95/95 [==============================] - 0s 2ms/step - loss: 2.4535 - accuracy: 0.8566 - val_loss: 2.5066 - val_accuracy: 0.8155\n",
      "Epoch 147/300\n",
      "95/95 [==============================] - 0s 2ms/step - loss: 2.4386 - accuracy: 0.8562 - val_loss: 2.4929 - val_accuracy: 0.8155\n",
      "Epoch 148/300\n",
      "95/95 [==============================] - 0s 2ms/step - loss: 2.4209 - accuracy: 0.8648 - val_loss: 2.4780 - val_accuracy: 0.8116\n",
      "Epoch 149/300\n",
      "95/95 [==============================] - 0s 2ms/step - loss: 2.4043 - accuracy: 0.8645 - val_loss: 2.4664 - val_accuracy: 0.8129\n",
      "Epoch 150/300\n",
      "95/95 [==============================] - 0s 2ms/step - loss: 2.3899 - accuracy: 0.8609 - val_loss: 2.4483 - val_accuracy: 0.8169\n",
      "Epoch 151/300\n",
      "95/95 [==============================] - 0s 3ms/step - loss: 2.3747 - accuracy: 0.8675 - val_loss: 2.4301 - val_accuracy: 0.8195\n",
      "Epoch 152/300\n",
      "95/95 [==============================] - 0s 2ms/step - loss: 2.3649 - accuracy: 0.8619 - val_loss: 2.4180 - val_accuracy: 0.8155\n",
      "Epoch 153/300\n",
      "95/95 [==============================] - 0s 2ms/step - loss: 2.3484 - accuracy: 0.8632 - val_loss: 2.4018 - val_accuracy: 0.8221\n",
      "Epoch 154/300\n",
      "95/95 [==============================] - 0s 2ms/step - loss: 2.3335 - accuracy: 0.8698 - val_loss: 2.3867 - val_accuracy: 0.8248\n",
      "Epoch 155/300\n",
      "95/95 [==============================] - 0s 2ms/step - loss: 2.3151 - accuracy: 0.8671 - val_loss: 2.3669 - val_accuracy: 0.8208\n",
      "Epoch 156/300\n",
      "95/95 [==============================] - 0s 2ms/step - loss: 2.3068 - accuracy: 0.8675 - val_loss: 2.3598 - val_accuracy: 0.8248\n",
      "Epoch 157/300\n",
      "95/95 [==============================] - 0s 2ms/step - loss: 2.2920 - accuracy: 0.8675 - val_loss: 2.3476 - val_accuracy: 0.8221\n",
      "Epoch 158/300\n",
      "95/95 [==============================] - 0s 2ms/step - loss: 2.2749 - accuracy: 0.8602 - val_loss: 2.3273 - val_accuracy: 0.8248\n",
      "Epoch 159/300\n",
      "95/95 [==============================] - 0s 2ms/step - loss: 2.2596 - accuracy: 0.8704 - val_loss: 2.3126 - val_accuracy: 0.8327\n",
      "Epoch 160/300\n",
      "95/95 [==============================] - 0s 2ms/step - loss: 2.2462 - accuracy: 0.8724 - val_loss: 2.3042 - val_accuracy: 0.8235\n",
      "Epoch 161/300\n",
      "95/95 [==============================] - 0s 2ms/step - loss: 2.2325 - accuracy: 0.8737 - val_loss: 2.2880 - val_accuracy: 0.8221\n",
      "Epoch 162/300\n",
      "95/95 [==============================] - 0s 2ms/step - loss: 2.2180 - accuracy: 0.8757 - val_loss: 2.2795 - val_accuracy: 0.8274\n",
      "Epoch 163/300\n",
      "95/95 [==============================] - 0s 2ms/step - loss: 2.2065 - accuracy: 0.8694 - val_loss: 2.2638 - val_accuracy: 0.8327\n",
      "Epoch 164/300\n",
      "95/95 [==============================] - 0s 2ms/step - loss: 2.1916 - accuracy: 0.8836 - val_loss: 2.2509 - val_accuracy: 0.8208\n",
      "Epoch 165/300\n",
      "95/95 [==============================] - 0s 2ms/step - loss: 2.1754 - accuracy: 0.8741 - val_loss: 2.2394 - val_accuracy: 0.8287\n",
      "Epoch 166/300\n",
      "95/95 [==============================] - 0s 2ms/step - loss: 2.1679 - accuracy: 0.8747 - val_loss: 2.2320 - val_accuracy: 0.8340\n",
      "Epoch 167/300\n",
      "95/95 [==============================] - 0s 2ms/step - loss: 2.1522 - accuracy: 0.8790 - val_loss: 2.2103 - val_accuracy: 0.8353\n",
      "Epoch 168/300\n",
      "95/95 [==============================] - 0s 2ms/step - loss: 2.1432 - accuracy: 0.8757 - val_loss: 2.2005 - val_accuracy: 0.8274\n",
      "Epoch 169/300\n",
      "95/95 [==============================] - 0s 2ms/step - loss: 2.1307 - accuracy: 0.8773 - val_loss: 2.1846 - val_accuracy: 0.8287\n",
      "Epoch 170/300\n",
      "95/95 [==============================] - 0s 2ms/step - loss: 2.1172 - accuracy: 0.8800 - val_loss: 2.1752 - val_accuracy: 0.8366\n",
      "Epoch 171/300\n",
      "95/95 [==============================] - 0s 2ms/step - loss: 2.1010 - accuracy: 0.8760 - val_loss: 2.1596 - val_accuracy: 0.8314\n",
      "Epoch 172/300\n",
      "95/95 [==============================] - 0s 2ms/step - loss: 2.0841 - accuracy: 0.8810 - val_loss: 2.1449 - val_accuracy: 0.8327\n",
      "Epoch 173/300\n",
      "95/95 [==============================] - 0s 2ms/step - loss: 2.0751 - accuracy: 0.8800 - val_loss: 2.1313 - val_accuracy: 0.8353\n",
      "Epoch 174/300\n",
      "95/95 [==============================] - 0s 2ms/step - loss: 2.0603 - accuracy: 0.8820 - val_loss: 2.1269 - val_accuracy: 0.8340\n",
      "Epoch 175/300\n",
      "95/95 [==============================] - 0s 2ms/step - loss: 2.0500 - accuracy: 0.8879 - val_loss: 2.1120 - val_accuracy: 0.8432\n",
      "Epoch 176/300\n",
      "95/95 [==============================] - 0s 2ms/step - loss: 2.0361 - accuracy: 0.8836 - val_loss: 2.1002 - val_accuracy: 0.8314\n",
      "Epoch 177/300\n",
      "95/95 [==============================] - 0s 2ms/step - loss: 2.0265 - accuracy: 0.8826 - val_loss: 2.0862 - val_accuracy: 0.8340\n",
      "Epoch 178/300\n",
      "95/95 [==============================] - 0s 2ms/step - loss: 2.0146 - accuracy: 0.8859 - val_loss: 2.0768 - val_accuracy: 0.8366\n",
      "Epoch 179/300\n",
      "95/95 [==============================] - 0s 2ms/step - loss: 1.9997 - accuracy: 0.8849 - val_loss: 2.0648 - val_accuracy: 0.8393\n",
      "Epoch 180/300\n",
      "95/95 [==============================] - 0s 2ms/step - loss: 1.9917 - accuracy: 0.8833 - val_loss: 2.0539 - val_accuracy: 0.8379\n",
      "Epoch 181/300\n",
      "95/95 [==============================] - 0s 2ms/step - loss: 1.9753 - accuracy: 0.8853 - val_loss: 2.0349 - val_accuracy: 0.8406\n",
      "Epoch 182/300\n",
      "95/95 [==============================] - 0s 3ms/step - loss: 1.9654 - accuracy: 0.8849 - val_loss: 2.0325 - val_accuracy: 0.8379\n",
      "Epoch 183/300\n",
      "95/95 [==============================] - 0s 2ms/step - loss: 1.9492 - accuracy: 0.8945 - val_loss: 2.0135 - val_accuracy: 0.8432\n",
      "Epoch 184/300\n",
      "95/95 [==============================] - 0s 2ms/step - loss: 1.9419 - accuracy: 0.8915 - val_loss: 2.0006 - val_accuracy: 0.8498\n",
      "Epoch 185/300\n",
      "95/95 [==============================] - 0s 2ms/step - loss: 1.9285 - accuracy: 0.8899 - val_loss: 1.9983 - val_accuracy: 0.8485\n",
      "Epoch 186/300\n",
      "95/95 [==============================] - 0s 2ms/step - loss: 1.9183 - accuracy: 0.8899 - val_loss: 1.9843 - val_accuracy: 0.8406\n",
      "Epoch 187/300\n",
      "95/95 [==============================] - 0s 2ms/step - loss: 1.9058 - accuracy: 0.8899 - val_loss: 1.9685 - val_accuracy: 0.8445\n",
      "Epoch 188/300\n",
      "95/95 [==============================] - 0s 2ms/step - loss: 1.8906 - accuracy: 0.8915 - val_loss: 1.9627 - val_accuracy: 0.8445\n",
      "Epoch 189/300\n",
      "95/95 [==============================] - 0s 2ms/step - loss: 1.8844 - accuracy: 0.8965 - val_loss: 1.9500 - val_accuracy: 0.8458\n",
      "Epoch 190/300\n",
      "95/95 [==============================] - 0s 2ms/step - loss: 1.8752 - accuracy: 0.8909 - val_loss: 1.9334 - val_accuracy: 0.8419\n",
      "Epoch 191/300\n",
      "95/95 [==============================] - 0s 2ms/step - loss: 1.8610 - accuracy: 0.8899 - val_loss: 1.9247 - val_accuracy: 0.8485\n",
      "Epoch 192/300\n",
      "95/95 [==============================] - 0s 2ms/step - loss: 1.8465 - accuracy: 0.8985 - val_loss: 1.9166 - val_accuracy: 0.8485\n",
      "Epoch 193/300\n",
      "95/95 [==============================] - 0s 2ms/step - loss: 1.8422 - accuracy: 0.8912 - val_loss: 1.9082 - val_accuracy: 0.8472\n",
      "Epoch 194/300\n",
      "95/95 [==============================] - 0s 2ms/step - loss: 1.8299 - accuracy: 0.8961 - val_loss: 1.8918 - val_accuracy: 0.8472\n",
      "Epoch 195/300\n",
      "95/95 [==============================] - 0s 2ms/step - loss: 1.8166 - accuracy: 0.8961 - val_loss: 1.8865 - val_accuracy: 0.8524\n",
      "Epoch 196/300\n",
      "95/95 [==============================] - 0s 2ms/step - loss: 1.8125 - accuracy: 0.8942 - val_loss: 1.8793 - val_accuracy: 0.8432\n",
      "Epoch 197/300\n",
      "95/95 [==============================] - 0s 2ms/step - loss: 1.7969 - accuracy: 0.8965 - val_loss: 1.8703 - val_accuracy: 0.8472\n",
      "Epoch 198/300\n",
      "95/95 [==============================] - 0s 2ms/step - loss: 1.7832 - accuracy: 0.8994 - val_loss: 1.8565 - val_accuracy: 0.8485\n",
      "Epoch 199/300\n",
      "95/95 [==============================] - 0s 3ms/step - loss: 1.7768 - accuracy: 0.8985 - val_loss: 1.8378 - val_accuracy: 0.8538\n",
      "Epoch 200/300\n",
      "95/95 [==============================] - 0s 2ms/step - loss: 1.7658 - accuracy: 0.8965 - val_loss: 1.8285 - val_accuracy: 0.8551\n",
      "Epoch 201/300\n",
      "95/95 [==============================] - 0s 2ms/step - loss: 1.7544 - accuracy: 0.8955 - val_loss: 1.8233 - val_accuracy: 0.8524\n",
      "Epoch 202/300\n",
      "95/95 [==============================] - 0s 2ms/step - loss: 1.7406 - accuracy: 0.9001 - val_loss: 1.8172 - val_accuracy: 0.8603\n",
      "Epoch 203/300\n",
      "95/95 [==============================] - 0s 2ms/step - loss: 1.7355 - accuracy: 0.9004 - val_loss: 1.8023 - val_accuracy: 0.8564\n",
      "Epoch 204/300\n",
      "95/95 [==============================] - 0s 2ms/step - loss: 1.7239 - accuracy: 0.8988 - val_loss: 1.7960 - val_accuracy: 0.8511\n",
      "Epoch 205/300\n",
      "95/95 [==============================] - 0s 2ms/step - loss: 1.7169 - accuracy: 0.9024 - val_loss: 1.7862 - val_accuracy: 0.8538\n",
      "Epoch 206/300\n",
      "95/95 [==============================] - 0s 2ms/step - loss: 1.7035 - accuracy: 0.9070 - val_loss: 1.7832 - val_accuracy: 0.8498\n",
      "Epoch 207/300\n",
      "95/95 [==============================] - 0s 2ms/step - loss: 1.6930 - accuracy: 0.9037 - val_loss: 1.7642 - val_accuracy: 0.8577\n",
      "Epoch 208/300\n",
      "95/95 [==============================] - 0s 2ms/step - loss: 1.6845 - accuracy: 0.9044 - val_loss: 1.7554 - val_accuracy: 0.8524\n",
      "Epoch 209/300\n",
      "95/95 [==============================] - 0s 2ms/step - loss: 1.6750 - accuracy: 0.8994 - val_loss: 1.7456 - val_accuracy: 0.8564\n",
      "Epoch 210/300\n",
      "95/95 [==============================] - 0s 2ms/step - loss: 1.6639 - accuracy: 0.9031 - val_loss: 1.7378 - val_accuracy: 0.8524\n",
      "Epoch 211/300\n",
      "95/95 [==============================] - 0s 2ms/step - loss: 1.6542 - accuracy: 0.9080 - val_loss: 1.7304 - val_accuracy: 0.8511\n",
      "Epoch 212/300\n",
      "95/95 [==============================] - 0s 2ms/step - loss: 1.6463 - accuracy: 0.9047 - val_loss: 1.7256 - val_accuracy: 0.8564\n",
      "Epoch 213/300\n",
      "95/95 [==============================] - 0s 2ms/step - loss: 1.6351 - accuracy: 0.9011 - val_loss: 1.7052 - val_accuracy: 0.8564\n",
      "Epoch 214/300\n",
      "95/95 [==============================] - 0s 3ms/step - loss: 1.6273 - accuracy: 0.9077 - val_loss: 1.6973 - val_accuracy: 0.8577\n",
      "Epoch 215/300\n",
      "95/95 [==============================] - 0s 2ms/step - loss: 1.6178 - accuracy: 0.9067 - val_loss: 1.6933 - val_accuracy: 0.8564\n",
      "Epoch 216/300\n",
      "95/95 [==============================] - 0s 2ms/step - loss: 1.6075 - accuracy: 0.9106 - val_loss: 1.6873 - val_accuracy: 0.8551\n",
      "Epoch 217/300\n",
      "95/95 [==============================] - 0s 2ms/step - loss: 1.5992 - accuracy: 0.9027 - val_loss: 1.6653 - val_accuracy: 0.8617\n",
      "Epoch 218/300\n",
      "95/95 [==============================] - 0s 2ms/step - loss: 1.5906 - accuracy: 0.9064 - val_loss: 1.6617 - val_accuracy: 0.8630\n",
      "Epoch 219/300\n",
      "95/95 [==============================] - 0s 2ms/step - loss: 1.5796 - accuracy: 0.9083 - val_loss: 1.6562 - val_accuracy: 0.8551\n",
      "Epoch 220/300\n",
      "95/95 [==============================] - 0s 2ms/step - loss: 1.5759 - accuracy: 0.9054 - val_loss: 1.6389 - val_accuracy: 0.8669\n",
      "Epoch 221/300\n",
      "95/95 [==============================] - 0s 2ms/step - loss: 1.5615 - accuracy: 0.9156 - val_loss: 1.6372 - val_accuracy: 0.8643\n",
      "Epoch 222/300\n",
      "95/95 [==============================] - 0s 2ms/step - loss: 1.5549 - accuracy: 0.9093 - val_loss: 1.6290 - val_accuracy: 0.8577\n",
      "Epoch 223/300\n",
      "95/95 [==============================] - 0s 2ms/step - loss: 1.5469 - accuracy: 0.9163 - val_loss: 1.6203 - val_accuracy: 0.8630\n",
      "Epoch 224/300\n",
      "95/95 [==============================] - 0s 2ms/step - loss: 1.5389 - accuracy: 0.9083 - val_loss: 1.6118 - val_accuracy: 0.8603\n",
      "Epoch 225/300\n",
      "95/95 [==============================] - 0s 2ms/step - loss: 1.5262 - accuracy: 0.9103 - val_loss: 1.6030 - val_accuracy: 0.8564\n",
      "Epoch 226/300\n",
      "95/95 [==============================] - 0s 2ms/step - loss: 1.5180 - accuracy: 0.9166 - val_loss: 1.5941 - val_accuracy: 0.8682\n",
      "Epoch 227/300\n",
      "95/95 [==============================] - 0s 2ms/step - loss: 1.5121 - accuracy: 0.9090 - val_loss: 1.5849 - val_accuracy: 0.8617\n",
      "Epoch 228/300\n",
      "95/95 [==============================] - 0s 3ms/step - loss: 1.5030 - accuracy: 0.9136 - val_loss: 1.5757 - val_accuracy: 0.8590\n",
      "Epoch 229/300\n",
      "95/95 [==============================] - 0s 2ms/step - loss: 1.4919 - accuracy: 0.9186 - val_loss: 1.5648 - val_accuracy: 0.8643\n",
      "Epoch 230/300\n",
      "95/95 [==============================] - 0s 2ms/step - loss: 1.4887 - accuracy: 0.9097 - val_loss: 1.5626 - val_accuracy: 0.8709\n",
      "Epoch 231/300\n",
      "95/95 [==============================] - 0s 2ms/step - loss: 1.4792 - accuracy: 0.9149 - val_loss: 1.5565 - val_accuracy: 0.8643\n",
      "Epoch 232/300\n",
      "95/95 [==============================] - 0s 2ms/step - loss: 1.4723 - accuracy: 0.9136 - val_loss: 1.5378 - val_accuracy: 0.8748\n",
      "Epoch 233/300\n",
      "95/95 [==============================] - 0s 2ms/step - loss: 1.4589 - accuracy: 0.9182 - val_loss: 1.5425 - val_accuracy: 0.8788\n",
      "Epoch 234/300\n",
      "95/95 [==============================] - 0s 2ms/step - loss: 1.4523 - accuracy: 0.9153 - val_loss: 1.5265 - val_accuracy: 0.8709\n",
      "Epoch 235/300\n",
      "95/95 [==============================] - 0s 2ms/step - loss: 1.4440 - accuracy: 0.9215 - val_loss: 1.5186 - val_accuracy: 0.8735\n",
      "Epoch 236/300\n",
      "95/95 [==============================] - 0s 2ms/step - loss: 1.4385 - accuracy: 0.9169 - val_loss: 1.5167 - val_accuracy: 0.8603\n",
      "Epoch 237/300\n",
      "95/95 [==============================] - 0s 2ms/step - loss: 1.4305 - accuracy: 0.9136 - val_loss: 1.5038 - val_accuracy: 0.8722\n",
      "Epoch 238/300\n",
      "95/95 [==============================] - 0s 2ms/step - loss: 1.4216 - accuracy: 0.9209 - val_loss: 1.5093 - val_accuracy: 0.8643\n",
      "Epoch 239/300\n",
      "95/95 [==============================] - 0s 2ms/step - loss: 1.4136 - accuracy: 0.9196 - val_loss: 1.4842 - val_accuracy: 0.8762\n",
      "Epoch 240/300\n",
      "95/95 [==============================] - 0s 2ms/step - loss: 1.4081 - accuracy: 0.9222 - val_loss: 1.4755 - val_accuracy: 0.8775\n",
      "Epoch 241/300\n",
      "95/95 [==============================] - 0s 2ms/step - loss: 1.3991 - accuracy: 0.9166 - val_loss: 1.4827 - val_accuracy: 0.8669\n",
      "Epoch 242/300\n",
      "95/95 [==============================] - 0s 3ms/step - loss: 1.3913 - accuracy: 0.9186 - val_loss: 1.4646 - val_accuracy: 0.8748\n",
      "Epoch 243/300\n",
      "95/95 [==============================] - 0s 2ms/step - loss: 1.3791 - accuracy: 0.9202 - val_loss: 1.4647 - val_accuracy: 0.8709\n",
      "Epoch 244/300\n",
      "95/95 [==============================] - 0s 2ms/step - loss: 1.3766 - accuracy: 0.9225 - val_loss: 1.4548 - val_accuracy: 0.8656\n",
      "Epoch 245/300\n",
      "95/95 [==============================] - 0s 2ms/step - loss: 1.3669 - accuracy: 0.9242 - val_loss: 1.4441 - val_accuracy: 0.8788\n",
      "Epoch 246/300\n",
      "95/95 [==============================] - 0s 2ms/step - loss: 1.3606 - accuracy: 0.9238 - val_loss: 1.4322 - val_accuracy: 0.8788\n",
      "Epoch 247/300\n",
      "95/95 [==============================] - 0s 2ms/step - loss: 1.3551 - accuracy: 0.9252 - val_loss: 1.4297 - val_accuracy: 0.8748\n",
      "Epoch 248/300\n",
      "95/95 [==============================] - 0s 2ms/step - loss: 1.3467 - accuracy: 0.9215 - val_loss: 1.4279 - val_accuracy: 0.8854\n",
      "Epoch 249/300\n",
      "95/95 [==============================] - 0s 2ms/step - loss: 1.3348 - accuracy: 0.9278 - val_loss: 1.4192 - val_accuracy: 0.8748\n",
      "Epoch 250/300\n",
      "95/95 [==============================] - 0s 2ms/step - loss: 1.3319 - accuracy: 0.9235 - val_loss: 1.4157 - val_accuracy: 0.8762\n",
      "Epoch 251/300\n",
      "95/95 [==============================] - 0s 2ms/step - loss: 1.3194 - accuracy: 0.9281 - val_loss: 1.4009 - val_accuracy: 0.8762\n",
      "Epoch 252/300\n",
      "95/95 [==============================] - 0s 2ms/step - loss: 1.3145 - accuracy: 0.9308 - val_loss: 1.3944 - val_accuracy: 0.8801\n",
      "Epoch 253/300\n",
      "95/95 [==============================] - 0s 2ms/step - loss: 1.3134 - accuracy: 0.9245 - val_loss: 1.3966 - val_accuracy: 0.8722\n",
      "Epoch 254/300\n",
      "95/95 [==============================] - 0s 3ms/step - loss: 1.3033 - accuracy: 0.9238 - val_loss: 1.3946 - val_accuracy: 0.8709\n",
      "Epoch 255/300\n",
      "95/95 [==============================] - 0s 2ms/step - loss: 1.2942 - accuracy: 0.9324 - val_loss: 1.3707 - val_accuracy: 0.8827\n",
      "Epoch 256/300\n",
      "95/95 [==============================] - 0s 2ms/step - loss: 1.2878 - accuracy: 0.9298 - val_loss: 1.3654 - val_accuracy: 0.8775\n",
      "Epoch 257/300\n",
      "95/95 [==============================] - 0s 2ms/step - loss: 1.2880 - accuracy: 0.9225 - val_loss: 1.3600 - val_accuracy: 0.8867\n",
      "Epoch 258/300\n",
      "95/95 [==============================] - 0s 2ms/step - loss: 1.2767 - accuracy: 0.9275 - val_loss: 1.3500 - val_accuracy: 0.8867\n",
      "Epoch 259/300\n",
      "95/95 [==============================] - 0s 2ms/step - loss: 1.2700 - accuracy: 0.9258 - val_loss: 1.3540 - val_accuracy: 0.8748\n",
      "Epoch 260/300\n",
      "95/95 [==============================] - 0s 2ms/step - loss: 1.2622 - accuracy: 0.9324 - val_loss: 1.3603 - val_accuracy: 0.8814\n",
      "Epoch 261/300\n",
      "95/95 [==============================] - 0s 2ms/step - loss: 1.2544 - accuracy: 0.9327 - val_loss: 1.3357 - val_accuracy: 0.8906\n",
      "Epoch 262/300\n",
      "95/95 [==============================] - 0s 2ms/step - loss: 1.2470 - accuracy: 0.9324 - val_loss: 1.3316 - val_accuracy: 0.8775\n",
      "Epoch 263/300\n",
      "95/95 [==============================] - 0s 2ms/step - loss: 1.2407 - accuracy: 0.9337 - val_loss: 1.3147 - val_accuracy: 0.8959\n",
      "Epoch 264/300\n",
      "95/95 [==============================] - 0s 2ms/step - loss: 1.2372 - accuracy: 0.9294 - val_loss: 1.3189 - val_accuracy: 0.8854\n",
      "Epoch 265/300\n",
      "95/95 [==============================] - 0s 2ms/step - loss: 1.2332 - accuracy: 0.9327 - val_loss: 1.3128 - val_accuracy: 0.8814\n",
      "Epoch 266/300\n",
      "95/95 [==============================] - 0s 2ms/step - loss: 1.2249 - accuracy: 0.9331 - val_loss: 1.3048 - val_accuracy: 0.8854\n",
      "Epoch 267/300\n",
      "95/95 [==============================] - 0s 3ms/step - loss: 1.2140 - accuracy: 0.9350 - val_loss: 1.3080 - val_accuracy: 0.8735\n",
      "Epoch 268/300\n",
      "95/95 [==============================] - 0s 2ms/step - loss: 1.2148 - accuracy: 0.9314 - val_loss: 1.2812 - val_accuracy: 0.8972\n",
      "Epoch 269/300\n",
      "95/95 [==============================] - 0s 2ms/step - loss: 1.2018 - accuracy: 0.9370 - val_loss: 1.2945 - val_accuracy: 0.8867\n",
      "Epoch 270/300\n",
      "95/95 [==============================] - 0s 2ms/step - loss: 1.1964 - accuracy: 0.9334 - val_loss: 1.2878 - val_accuracy: 0.8827\n",
      "Epoch 271/300\n",
      "95/95 [==============================] - 0s 2ms/step - loss: 1.1910 - accuracy: 0.9324 - val_loss: 1.2687 - val_accuracy: 0.8893\n",
      "Epoch 272/300\n",
      "95/95 [==============================] - 0s 2ms/step - loss: 1.1891 - accuracy: 0.9324 - val_loss: 1.2678 - val_accuracy: 0.8920\n",
      "Epoch 273/300\n",
      "95/95 [==============================] - 0s 2ms/step - loss: 1.1807 - accuracy: 0.9311 - val_loss: 1.2652 - val_accuracy: 0.8867\n",
      "Epoch 274/300\n",
      "95/95 [==============================] - 0s 2ms/step - loss: 1.1750 - accuracy: 0.9370 - val_loss: 1.2625 - val_accuracy: 0.8880\n",
      "Epoch 275/300\n",
      "95/95 [==============================] - 0s 2ms/step - loss: 1.1692 - accuracy: 0.9314 - val_loss: 1.2586 - val_accuracy: 0.8880\n",
      "Epoch 276/300\n",
      "95/95 [==============================] - 0s 2ms/step - loss: 1.1636 - accuracy: 0.9364 - val_loss: 1.2626 - val_accuracy: 0.8841\n",
      "Epoch 277/300\n",
      "95/95 [==============================] - 0s 2ms/step - loss: 1.1542 - accuracy: 0.9364 - val_loss: 1.2382 - val_accuracy: 0.8946\n",
      "Epoch 278/300\n",
      "95/95 [==============================] - 0s 3ms/step - loss: 1.1491 - accuracy: 0.9354 - val_loss: 1.2346 - val_accuracy: 0.8920\n",
      "Epoch 279/300\n",
      "95/95 [==============================] - 0s 2ms/step - loss: 1.1434 - accuracy: 0.9413 - val_loss: 1.2326 - val_accuracy: 0.8959\n",
      "Epoch 280/300\n",
      "95/95 [==============================] - 0s 2ms/step - loss: 1.1392 - accuracy: 0.9360 - val_loss: 1.2218 - val_accuracy: 0.8959\n",
      "Epoch 281/300\n",
      "95/95 [==============================] - 0s 2ms/step - loss: 1.1337 - accuracy: 0.9367 - val_loss: 1.2149 - val_accuracy: 0.8920\n",
      "Epoch 282/300\n",
      "95/95 [==============================] - 0s 2ms/step - loss: 1.1285 - accuracy: 0.9367 - val_loss: 1.2128 - val_accuracy: 0.8959\n",
      "Epoch 283/300\n",
      "95/95 [==============================] - 0s 2ms/step - loss: 1.1231 - accuracy: 0.9390 - val_loss: 1.2008 - val_accuracy: 0.8946\n",
      "Epoch 284/300\n",
      "95/95 [==============================] - 0s 2ms/step - loss: 1.1171 - accuracy: 0.9370 - val_loss: 1.1987 - val_accuracy: 0.8920\n",
      "Epoch 285/300\n",
      "95/95 [==============================] - 0s 2ms/step - loss: 1.1156 - accuracy: 0.9360 - val_loss: 1.1957 - val_accuracy: 0.8920\n",
      "Epoch 286/300\n",
      "95/95 [==============================] - 0s 2ms/step - loss: 1.1055 - accuracy: 0.9383 - val_loss: 1.1911 - val_accuracy: 0.8959\n",
      "Epoch 287/300\n",
      "95/95 [==============================] - 0s 2ms/step - loss: 1.1029 - accuracy: 0.9347 - val_loss: 1.1950 - val_accuracy: 0.8867\n",
      "Epoch 288/300\n",
      "95/95 [==============================] - 0s 2ms/step - loss: 1.0969 - accuracy: 0.9360 - val_loss: 1.1711 - val_accuracy: 0.9012\n",
      "Epoch 289/300\n",
      "95/95 [==============================] - 0s 2ms/step - loss: 1.0915 - accuracy: 0.9383 - val_loss: 1.1883 - val_accuracy: 0.8788\n",
      "Epoch 290/300\n",
      "95/95 [==============================] - 0s 3ms/step - loss: 1.0886 - accuracy: 0.9354 - val_loss: 1.1624 - val_accuracy: 0.8972\n",
      "Epoch 291/300\n",
      "95/95 [==============================] - 0s 2ms/step - loss: 1.0790 - accuracy: 0.9374 - val_loss: 1.1597 - val_accuracy: 0.8972\n",
      "Epoch 292/300\n",
      "95/95 [==============================] - 0s 2ms/step - loss: 1.0730 - accuracy: 0.9387 - val_loss: 1.1546 - val_accuracy: 0.9012\n",
      "Epoch 293/300\n",
      "95/95 [==============================] - 0s 2ms/step - loss: 1.0698 - accuracy: 0.9410 - val_loss: 1.1503 - val_accuracy: 0.8972\n",
      "Epoch 294/300\n",
      "95/95 [==============================] - 0s 2ms/step - loss: 1.0674 - accuracy: 0.9377 - val_loss: 1.1537 - val_accuracy: 0.8946\n",
      "Epoch 295/300\n",
      "95/95 [==============================] - 0s 2ms/step - loss: 1.0572 - accuracy: 0.9436 - val_loss: 1.1453 - val_accuracy: 0.8920\n",
      "Epoch 296/300\n",
      "95/95 [==============================] - 0s 2ms/step - loss: 1.0523 - accuracy: 0.9449 - val_loss: 1.1316 - val_accuracy: 0.9051\n",
      "Epoch 297/300\n",
      "95/95 [==============================] - 0s 2ms/step - loss: 1.0467 - accuracy: 0.9430 - val_loss: 1.1337 - val_accuracy: 0.8986\n",
      "Epoch 298/300\n",
      "95/95 [==============================] - 0s 2ms/step - loss: 1.0461 - accuracy: 0.9430 - val_loss: 1.1366 - val_accuracy: 0.8946\n",
      "Epoch 299/300\n",
      "95/95 [==============================] - 0s 2ms/step - loss: 1.0440 - accuracy: 0.9350 - val_loss: 1.1295 - val_accuracy: 0.8959\n",
      "Epoch 300/300\n",
      "95/95 [==============================] - 0s 2ms/step - loss: 1.0352 - accuracy: 0.9426 - val_loss: 1.1119 - val_accuracy: 0.9012\n",
      "Model: \"sequential_148\"\n",
      "_________________________________________________________________\n",
      " Layer (type)                Output Shape              Param #   \n",
      "=================================================================\n",
      " dense_866 (Dense)           (None, 399)               4788      \n",
      "                                                                 \n",
      " dense_867 (Dense)           (None, 360)               144000    \n",
      "                                                                 \n",
      " dense_868 (Dense)           (None, 360)               129960    \n",
      "                                                                 \n",
      " dropout_96 (Dropout)        (None, 360)               0         \n",
      "                                                                 \n",
      " dense_869 (Dense)           (None, 440)               158840    \n",
      "                                                                 \n",
      " dense_870 (Dense)           (None, 3)                 1323      \n",
      "                                                                 \n",
      "=================================================================\n",
      "Total params: 438,911\n",
      "Trainable params: 438,911\n",
      "Non-trainable params: 0\n",
      "_________________________________________________________________\n"
     ]
    }
   ],
   "source": [
    "tuned_model2 = Sequential()\n",
    "tuned_model2.add(Dense(units=round(best_params['neurons1']), input_shape=(X_train_df.shape[1],),kernel_regularizer=tf.keras.regularizers.l2(round(best_params['C'],3)))) \n",
    "\n",
    "for i in range(round(best_params['layers1'])): #varying first set of hidden layers\n",
    "    tuned_model2.add(Dense(round(best_params['neurons2']), activation='relu',kernel_regularizer=tf.keras.regularizers.l2(round(best_params['C'], 3))))\n",
    "\n",
    "if round(best_params['dropout']) > 0.5:\n",
    "    tuned_model2.add(Dropout(round(best_params['dropout_rate'],1), seed=42))\n",
    "\n",
    "for i in range(round(best_params['layers2'])): #varying second set of hidden layers\n",
    "    tuned_model2.add(Dense(round(best_params['neurons3']), activation='relu',kernel_regularizer=tf.keras.regularizers.l2(round(best_params['C'], 3))))\n",
    "\n",
    "tuned_model2.add(Dense(3, activation='softmax')) #output layer\n",
    "\n",
    "tuned_model2.compile(loss=\"sparse_categorical_crossentropy\", optimizer = optimizerD[optimizerL[round(best_params['optimizer'])]], metrics=['accuracy'])\n",
    "history = tuned_model2.fit(X_train, y_train, epochs=300, validation_split=0.2)\n",
    "tuned_model2.summary()"
   ]
  },
  {
   "cell_type": "code",
   "execution_count": 34,
   "metadata": {},
   "outputs": [
    {
     "name": "stdout",
     "output_type": "stream",
     "text": [
      "6/6 [==============================] - 0s 2ms/step - loss: 3.8944 - accuracy: 0.5060\n"
     ]
    },
    {
     "data": {
      "image/png": "[encoded data removed]",
      "text/plain": [
       "<Figure size 1440x576 with 2 Axes>"
      ]
     },
     "metadata": {
      "needs_background": "light"
     },
     "output_type": "display_data"
    }
   ],
   "source": [
    "# Plot a graph of the metric vs. epochs.\n",
    "plot_curve(history)\n",
    "# # Evaluate on Test & Save results\n",
    "results.loc['smote'] = list(tuned_model2.evaluate(X_test, y_test))"
   ]
  },
  {
   "cell_type": "code",
   "execution_count": 35,
   "metadata": {},
   "outputs": [
    {
     "data": {
      "text/html": [
       "<div>\n",
       "<style scoped>\n",
       "    .dataframe tbody tr th:only-of-type {\n",
       "        vertical-align: middle;\n",
       "    }\n",
       "\n",
       "    .dataframe tbody tr th {\n",
       "        vertical-align: top;\n",
       "    }\n",
       "\n",
       "    .dataframe thead th {\n",
       "        text-align: right;\n",
       "    }\n",
       "</style>\n",
       "<table border=\"1\" class=\"dataframe\">\n",
       "  <thead>\n",
       "    <tr style=\"text-align: right;\">\n",
       "      <th></th>\n",
       "      <th>loss</th>\n",
       "      <th>accuracy</th>\n",
       "    </tr>\n",
       "  </thead>\n",
       "  <tbody>\n",
       "    <tr>\n",
       "      <th>smote</th>\n",
       "      <td>3.894424</td>\n",
       "      <td>0.505952</td>\n",
       "    </tr>\n",
       "  </tbody>\n",
       "</table>\n",
       "</div>"
      ],
      "text/plain": [
       "           loss  accuracy\n",
       "smote  3.894424  0.505952"
      ]
     },
     "execution_count": 35,
     "metadata": {},
     "output_type": "execute_result"
    }
   ],
   "source": [
    "results"
   ]
  },
  {
   "cell_type": "code",
   "execution_count": 36,
   "metadata": {},
   "outputs": [
    {
     "name": "stdout",
     "output_type": "stream",
     "text": [
      "6/6 [==============================] - 0s 1ms/step\n"
     ]
    }
   ],
   "source": [
    "predict_x=tuned_model2.predict(X_test) \n",
    "predictions=np.argmax(predict_x,axis=1)"
   ]
  },
  {
   "cell_type": "code",
   "execution_count": 37,
   "metadata": {},
   "outputs": [
    {
     "data": {
      "text/plain": [
       "array([0, 0, 0, 0, 0, 0, 0, 0, 0, 0, 0, 0, 0, 0, 1, 1, 0, 0, 0, 0, 0, 0,\n",
       "       0, 0, 0, 0, 0, 0, 0, 0, 0, 0, 0, 0, 0, 0, 0, 0, 0, 0, 0, 0, 0, 0,\n",
       "       0, 0, 0, 0, 0, 0, 0, 0, 0, 0, 0, 0, 0, 0, 0, 0, 0, 0, 0, 0, 2, 2,\n",
       "       2, 2, 0, 0, 0, 0, 0, 0, 0, 0, 0, 1, 0, 1, 1, 0, 0, 0, 0, 0, 0, 0,\n",
       "       0, 0, 0, 0, 0, 0, 0, 0, 0, 0, 0, 0, 0, 0, 0, 0, 0, 0, 0, 0, 0, 0,\n",
       "       0, 0, 0, 0, 0, 0, 0, 0, 0, 0, 0, 0, 0, 0, 0, 0, 0, 0, 0, 0, 2, 2,\n",
       "       0, 0, 0, 0, 0, 0, 0, 0, 0, 0, 0, 0, 0, 0, 0, 0, 0, 0, 0, 0, 0, 0,\n",
       "       0, 0, 0, 0, 0, 0, 0, 0, 0, 0, 0, 0, 0, 0])"
      ]
     },
     "execution_count": 37,
     "metadata": {},
     "output_type": "execute_result"
    }
   ],
   "source": [
    "predictions"
   ]
  },
  {
   "cell_type": "code",
   "execution_count": null,
   "metadata": {},
   "outputs": [],
   "source": []
  }
 ],
 "metadata": {
  "kernelspec": {
   "display_name": "Python 3.8.8 ('base')",
   "language": "python",
   "name": "python3"
  },
  "language_info": {
   "codemirror_mode": {
    "name": "ipython",
    "version": 3
   },
   "file_extension": ".py",
   "mimetype": "text/x-python",
   "name": "python",
   "nbconvert_exporter": "python",
   "pygments_lexer": "ipython3",
   "version": "3.8.8"
  },
  "orig_nbformat": 4,
  "vscode": {
   "interpreter": {
    "hash": "7d4736924dd4ee01619834d3df5aac36876c141d93beb7feebfa3d7eb88b873d"
   }
  }
 },
 "nbformat": 4,
 "nbformat_minor": 2
}
