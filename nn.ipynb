{
 "cells": [
  {
   "cell_type": "code",
   "execution_count": 1,
   "metadata": {},
   "outputs": [],
   "source": [
    "random_seed = 1\n",
    "import random\n",
    "random.seed(random_seed)\n",
    "\n",
    "import numpy as np\n",
    "# set the random seed to make the experiment reproducible\n",
    "\n",
    "np.random.seed(random_seed)\n",
    "\n",
    "import tensorflow\n",
    "# set seed\n",
    "tensorflow.random.set_seed(random_seed)"
   ]
  },
  {
   "cell_type": "code",
   "execution_count": 2,
   "metadata": {},
   "outputs": [],
   "source": [
    "import warnings\n",
    "warnings.simplefilter(action='ignore', category=FutureWarning)\n",
    "\n",
    "import numpy as np\n",
    "import pandas as pd\n",
    "import tensorflow as tf\n",
    "from tensorflow.keras import layers\n",
    "from matplotlib import pyplot as plt\n",
    "import seaborn as sns\n",
    "from keras.utils import np_utils"
   ]
  },
  {
   "cell_type": "code",
   "execution_count": 3,
   "metadata": {},
   "outputs": [],
   "source": [
    "X_train = pd.read_excel('data/model_inputs/x_train.xlsx', index_col=0)\n",
    "X_test = pd.read_excel('data/model_inputs/x_test.xlsx', index_col=0)\n",
    "y_train = pd.read_excel('data/model_inputs/y_train.xlsx', index_col=0)\n",
    "y_test = pd.read_excel('data/model_inputs/y_test.xlsx', index_col=0)"
   ]
  },
  {
   "cell_type": "code",
   "execution_count": 4,
   "metadata": {},
   "outputs": [
    {
     "data": {
      "text/html": [
       "<div>\n",
       "<style scoped>\n",
       "    .dataframe tbody tr th:only-of-type {\n",
       "        vertical-align: middle;\n",
       "    }\n",
       "\n",
       "    .dataframe tbody tr th {\n",
       "        vertical-align: top;\n",
       "    }\n",
       "\n",
       "    .dataframe thead th {\n",
       "        text-align: right;\n",
       "    }\n",
       "</style>\n",
       "<table border=\"1\" class=\"dataframe\">\n",
       "  <thead>\n",
       "    <tr style=\"text-align: right;\">\n",
       "      <th></th>\n",
       "      <th>index</th>\n",
       "    </tr>\n",
       "    <tr>\n",
       "      <th>decision</th>\n",
       "      <th></th>\n",
       "    </tr>\n",
       "  </thead>\n",
       "  <tbody>\n",
       "    <tr>\n",
       "      <th>-1</th>\n",
       "      <td>30</td>\n",
       "    </tr>\n",
       "    <tr>\n",
       "      <th>0</th>\n",
       "      <td>1436</td>\n",
       "    </tr>\n",
       "    <tr>\n",
       "      <th>1</th>\n",
       "      <td>45</td>\n",
       "    </tr>\n",
       "  </tbody>\n",
       "</table>\n",
       "</div>"
      ],
      "text/plain": [
       "          index\n",
       "decision       \n",
       "-1           30\n",
       " 0         1436\n",
       " 1           45"
      ]
     },
     "execution_count": 4,
     "metadata": {},
     "output_type": "execute_result"
    }
   ],
   "source": [
    "pd.DataFrame(y_train.reset_index()).groupby('decision').count()"
   ]
  },
  {
   "cell_type": "code",
   "execution_count": 5,
   "metadata": {},
   "outputs": [
    {
     "data": {
      "text/plain": [
       "0.9503639973527466"
      ]
     },
     "execution_count": 5,
     "metadata": {},
     "output_type": "execute_result"
    }
   ],
   "source": [
    "1436 / (1436 + 30 + 45)"
   ]
  },
  {
   "cell_type": "code",
   "execution_count": 6,
   "metadata": {},
   "outputs": [],
   "source": [
    "# shuffle the dataset! \n",
    "train_data = X_train.copy(deep=True)\n",
    "train_data['decision'] = y_train['decision']\n",
    "\n",
    "train_data = train_data.sample(frac=1)\n",
    "\n",
    "X_train = train_data.drop(['decision'], axis=1)\n",
    "y_train = pd.DataFrame(train_data['decision'])"
   ]
  },
  {
   "cell_type": "code",
   "execution_count": 7,
   "metadata": {},
   "outputs": [],
   "source": [
    "# convert to numpy arrays\n",
    "X_train = np.array(X_train)\n",
    "X_test = np.array(X_test)\n",
    "\n",
    "y_train = np.array(y_train['decision'])\n",
    "y_test = np.array(y_test['decision'])"
   ]
  },
  {
   "cell_type": "code",
   "execution_count": 8,
   "metadata": {},
   "outputs": [],
   "source": [
    "# one hot encode\n",
    "y_train = np_utils.to_categorical(y_train, num_classes=3)"
   ]
  },
  {
   "cell_type": "code",
   "execution_count": 9,
   "metadata": {},
   "outputs": [],
   "source": [
    "def plot_curve(hist):\n",
    "  \"\"\"Plot a curve of one or more classification metrics vs. epoch.\"\"\"  \n",
    "  # list_of_metrics should be one of the names shown in:\n",
    "  # https://www.tensorflow.org/tutorials/structured_data/imbalanced_data#define_the_model_and_metrics  \n",
    "\n",
    "  epochs = hist.epoch\n",
    "  f, ax = plt.subplots(ncols=2, figsize=(20,8))\n",
    "  ax[0].plot(epochs, hist.history['loss'], label='Training Loss')\n",
    "  ax[0].plot(epochs, hist.history['val_loss'], label='Validation Loss')\n",
    "  ax[0].set_xlabel('Epochs')\n",
    "  ax[0].set_ylabel('Loss')\n",
    "  ax[0].legend()\n",
    "  ax[1].plot(epochs, hist.history['accuracy'], label='Training Accuracy')\n",
    "  ax[1].plot(epochs, hist.history['val_accuracy'], label='Validation Accuracy')\n",
    "  ax[1].set_xlabel('Epochs')\n",
    "  ax[1].set_ylabel('Accuracy')\n",
    "  ax[1].legend()"
   ]
  },
  {
   "cell_type": "code",
   "execution_count": 10,
   "metadata": {},
   "outputs": [],
   "source": [
    "def create_model(my_learning_rate):\n",
    "  \"\"\"Create and compile a deep neural net.\"\"\"\n",
    "  \n",
    "  # All models in this course are sequential.\n",
    "  model = tf.keras.models.Sequential()\n",
    "\n",
    "  # Define the first hidden layer.   \n",
    "  model.add(tf.keras.layers.Dense(input_shape=(X_train.shape[1],), units=32, activation='relu')) ### remove flatten code\n",
    "  \n",
    "  # Define a dropout regularization layer. \n",
    "  model.add(tf.keras.layers.Dropout(rate=0.2))\n",
    "\n",
    "  # Define the output layer. The units parameter is set to 10 because\n",
    "  # the model must choose among 10 possible output values (representing\n",
    "  # the digits from 0 to 9, inclusive).\n",
    "  #\n",
    "  # Don't change this layer.\n",
    "  model.add(tf.keras.layers.Dense(units=3, activation='softmax'))    ### change to 2 ?? aft one hot encode, 1 feature dropped?\n",
    "                           \n",
    "  # Construct the layers into a model that TensorFlow can execute.  \n",
    "  # Notice that the loss function for multi-class classification\n",
    "  # is different than the loss function for binary classification.  \n",
    "  model.compile(optimizer=tf.keras.optimizers.Adam(learning_rate=my_learning_rate),\n",
    "                loss=\"categorical_crossentropy\", ### change to non sparse\n",
    "                metrics=['accuracy'])\n",
    "  \n",
    "  return model    \n",
    "\n",
    "\n",
    "def train_model(model, train_features, train_label, epochs,\n",
    "                batch_size=None, validation_split=0.1):\n",
    "  \"\"\"Train the model by feeding it data.\"\"\"\n",
    "\n",
    "  history = model.fit(x=train_features, y=train_label, batch_size=batch_size,\n",
    "                      epochs=epochs, shuffle=True, \n",
    "                      validation_split=validation_split)\n",
    "  \n",
    "  return history   "
   ]
  },
  {
   "cell_type": "code",
   "execution_count": 11,
   "metadata": {},
   "outputs": [
    {
     "name": "stdout",
     "output_type": "stream",
     "text": [
      "Epoch 1/50\n",
      "1/1 [==============================] - 1s 516ms/step - loss: 144180.6562 - accuracy: 0.7508 - val_loss: 55032.0625 - val_accuracy: 0.9604\n",
      "Epoch 2/50\n",
      "1/1 [==============================] - 0s 17ms/step - loss: 132889.3281 - accuracy: 0.7980 - val_loss: 60362.3047 - val_accuracy: 0.9604\n",
      "Epoch 3/50\n",
      "1/1 [==============================] - 0s 18ms/step - loss: 111173.6406 - accuracy: 0.8402 - val_loss: 65039.6172 - val_accuracy: 0.9604\n",
      "Epoch 4/50\n",
      "1/1 [==============================] - 0s 20ms/step - loss: 111254.3438 - accuracy: 0.8800 - val_loss: 68645.9766 - val_accuracy: 0.9604\n",
      "Epoch 5/50\n",
      "1/1 [==============================] - 0s 18ms/step - loss: 87116.7734 - accuracy: 0.9056 - val_loss: 71206.0625 - val_accuracy: 0.9604\n",
      "Epoch 6/50\n",
      "1/1 [==============================] - 0s 21ms/step - loss: 102072.8594 - accuracy: 0.8982 - val_loss: 72966.8828 - val_accuracy: 0.9604\n",
      "Epoch 7/50\n",
      "1/1 [==============================] - 0s 20ms/step - loss: 100841.7344 - accuracy: 0.9189 - val_loss: 73885.1016 - val_accuracy: 0.9604\n",
      "Epoch 8/50\n",
      "1/1 [==============================] - 0s 22ms/step - loss: 98811.0625 - accuracy: 0.9230 - val_loss: 73981.4844 - val_accuracy: 0.9604\n",
      "Epoch 9/50\n",
      "1/1 [==============================] - 0s 19ms/step - loss: 93953.5469 - accuracy: 0.9214 - val_loss: 73456.1953 - val_accuracy: 0.9604\n",
      "Epoch 10/50\n",
      "1/1 [==============================] - 0s 16ms/step - loss: 104555.3438 - accuracy: 0.9280 - val_loss: 72339.1016 - val_accuracy: 0.9604\n",
      "Epoch 11/50\n",
      "1/1 [==============================] - 0s 16ms/step - loss: 95168.3281 - accuracy: 0.9255 - val_loss: 70752.3203 - val_accuracy: 0.9604\n",
      "Epoch 12/50\n",
      "1/1 [==============================] - 0s 16ms/step - loss: 94302.6094 - accuracy: 0.9263 - val_loss: 68823.5547 - val_accuracy: 0.9604\n",
      "Epoch 13/50\n",
      "1/1 [==============================] - 0s 17ms/step - loss: 97394.9219 - accuracy: 0.9263 - val_loss: 66561.6406 - val_accuracy: 0.9604\n",
      "Epoch 14/50\n",
      "1/1 [==============================] - 0s 16ms/step - loss: 90571.9062 - accuracy: 0.9164 - val_loss: 64193.1094 - val_accuracy: 0.9604\n",
      "Epoch 15/50\n",
      "1/1 [==============================] - 0s 17ms/step - loss: 94292.4219 - accuracy: 0.9147 - val_loss: 61750.5273 - val_accuracy: 0.9604\n",
      "Epoch 16/50\n",
      "1/1 [==============================] - 0s 16ms/step - loss: 91500.4766 - accuracy: 0.9139 - val_loss: 59205.0117 - val_accuracy: 0.9604\n",
      "Epoch 17/50\n",
      "1/1 [==============================] - 0s 17ms/step - loss: 92548.7188 - accuracy: 0.9081 - val_loss: 56691.8477 - val_accuracy: 0.9604\n",
      "Epoch 18/50\n",
      "1/1 [==============================] - 0s 17ms/step - loss: 85021.1562 - accuracy: 0.8982 - val_loss: 54369.7383 - val_accuracy: 0.9604\n",
      "Epoch 19/50\n",
      "1/1 [==============================] - 0s 16ms/step - loss: 85150.3281 - accuracy: 0.8957 - val_loss: 52224.1875 - val_accuracy: 0.9604\n",
      "Epoch 20/50\n",
      "1/1 [==============================] - 0s 16ms/step - loss: 94439.6719 - accuracy: 0.8882 - val_loss: 50428.1211 - val_accuracy: 0.9604\n",
      "Epoch 21/50\n",
      "1/1 [==============================] - 0s 16ms/step - loss: 89169.4922 - accuracy: 0.8932 - val_loss: 48768.3125 - val_accuracy: 0.9604\n",
      "Epoch 22/50\n",
      "1/1 [==============================] - 0s 16ms/step - loss: 86408.4062 - accuracy: 0.8874 - val_loss: 47343.8828 - val_accuracy: 0.9604\n",
      "Epoch 23/50\n",
      "1/1 [==============================] - 0s 16ms/step - loss: 87630.6250 - accuracy: 0.8709 - val_loss: 46326.2891 - val_accuracy: 0.9604\n",
      "Epoch 24/50\n",
      "1/1 [==============================] - 0s 16ms/step - loss: 74948.0234 - accuracy: 0.8866 - val_loss: 45574.8047 - val_accuracy: 0.9604\n",
      "Epoch 25/50\n",
      "1/1 [==============================] - 0s 16ms/step - loss: 79189.5234 - accuracy: 0.8858 - val_loss: 44955.3711 - val_accuracy: 0.9604\n",
      "Epoch 26/50\n",
      "1/1 [==============================] - 0s 16ms/step - loss: 77234.8359 - accuracy: 0.8816 - val_loss: 44569.8281 - val_accuracy: 0.9604\n",
      "Epoch 27/50\n",
      "1/1 [==============================] - 0s 16ms/step - loss: 71308.1562 - accuracy: 0.8907 - val_loss: 44188.1406 - val_accuracy: 0.9604\n",
      "Epoch 28/50\n",
      "1/1 [==============================] - 0s 16ms/step - loss: 83908.1953 - accuracy: 0.8833 - val_loss: 43943.1602 - val_accuracy: 0.9604\n",
      "Epoch 29/50\n",
      "1/1 [==============================] - 0s 16ms/step - loss: 76106.9141 - accuracy: 0.8775 - val_loss: 43931.6797 - val_accuracy: 0.9604\n",
      "Epoch 30/50\n",
      "1/1 [==============================] - 0s 16ms/step - loss: 73484.1953 - accuracy: 0.8709 - val_loss: 44234.6484 - val_accuracy: 0.9604\n",
      "Epoch 31/50\n",
      "1/1 [==============================] - 0s 16ms/step - loss: 73967.9609 - accuracy: 0.8858 - val_loss: 44553.9688 - val_accuracy: 0.9604\n",
      "Epoch 32/50\n",
      "1/1 [==============================] - 0s 16ms/step - loss: 73697.9219 - accuracy: 0.8882 - val_loss: 44833.2578 - val_accuracy: 0.9604\n",
      "Epoch 33/50\n",
      "1/1 [==============================] - 0s 16ms/step - loss: 68664.8047 - accuracy: 0.9023 - val_loss: 44914.9336 - val_accuracy: 0.9604\n",
      "Epoch 34/50\n",
      "1/1 [==============================] - 0s 16ms/step - loss: 66878.8906 - accuracy: 0.8990 - val_loss: 44876.4609 - val_accuracy: 0.9604\n",
      "Epoch 35/50\n",
      "1/1 [==============================] - 0s 16ms/step - loss: 70089.3672 - accuracy: 0.8882 - val_loss: 44909.7773 - val_accuracy: 0.9604\n",
      "Epoch 36/50\n",
      "1/1 [==============================] - 0s 17ms/step - loss: 73642.3438 - accuracy: 0.8940 - val_loss: 44803.1719 - val_accuracy: 0.9604\n",
      "Epoch 37/50\n",
      "1/1 [==============================] - 0s 17ms/step - loss: 74402.7266 - accuracy: 0.8965 - val_loss: 44557.3281 - val_accuracy: 0.9604\n",
      "Epoch 38/50\n",
      "1/1 [==============================] - 0s 17ms/step - loss: 71395.5000 - accuracy: 0.9023 - val_loss: 44103.0234 - val_accuracy: 0.9604\n",
      "Epoch 39/50\n",
      "1/1 [==============================] - 0s 16ms/step - loss: 62305.1797 - accuracy: 0.8974 - val_loss: 43566.1055 - val_accuracy: 0.9604\n",
      "Epoch 40/50\n",
      "1/1 [==============================] - 0s 16ms/step - loss: 71679.3281 - accuracy: 0.8957 - val_loss: 42930.5859 - val_accuracy: 0.9604\n",
      "Epoch 41/50\n",
      "1/1 [==============================] - 0s 16ms/step - loss: 64384.4023 - accuracy: 0.9040 - val_loss: 42138.5977 - val_accuracy: 0.9604\n",
      "Epoch 42/50\n",
      "1/1 [==============================] - 0s 16ms/step - loss: 62086.0195 - accuracy: 0.9031 - val_loss: 41173.8359 - val_accuracy: 0.9604\n",
      "Epoch 43/50\n",
      "1/1 [==============================] - 0s 17ms/step - loss: 65198.6172 - accuracy: 0.9023 - val_loss: 40071.6562 - val_accuracy: 0.9604\n",
      "Epoch 44/50\n",
      "1/1 [==============================] - 0s 17ms/step - loss: 52335.6641 - accuracy: 0.9056 - val_loss: 38895.7461 - val_accuracy: 0.9604\n",
      "Epoch 45/50\n",
      "1/1 [==============================] - 0s 17ms/step - loss: 52358.5820 - accuracy: 0.9023 - val_loss: 37668.3516 - val_accuracy: 0.9604\n",
      "Epoch 46/50\n",
      "1/1 [==============================] - 0s 18ms/step - loss: 56633.6367 - accuracy: 0.8974 - val_loss: 36416.4688 - val_accuracy: 0.9604\n",
      "Epoch 47/50\n",
      "1/1 [==============================] - 0s 21ms/step - loss: 52494.4023 - accuracy: 0.9007 - val_loss: 35221.8242 - val_accuracy: 0.9604\n",
      "Epoch 48/50\n",
      "1/1 [==============================] - 0s 22ms/step - loss: 63183.3516 - accuracy: 0.8899 - val_loss: 34075.2695 - val_accuracy: 0.9604\n",
      "Epoch 49/50\n",
      "1/1 [==============================] - 0s 50ms/step - loss: 54567.4727 - accuracy: 0.8899 - val_loss: 32996.5586 - val_accuracy: 0.9604\n",
      "Epoch 50/50\n",
      "1/1 [==============================] - 0s 29ms/step - loss: 60241.5312 - accuracy: 0.8808 - val_loss: 32163.2148 - val_accuracy: 0.9604\n"
     ]
    }
   ],
   "source": [
    "# The following variables are the hyperparameters.\n",
    "learning_rate = 0.003\n",
    "epochs = 50\n",
    "batch_size = 4000\n",
    "validation_split = 0.2\n",
    "\n",
    "# Establish the model's topography.\n",
    "my_model = create_model(learning_rate)\n",
    "\n",
    "# Train the model on the normalized training set.\n",
    "hist = train_model(my_model, X_train, y_train, epochs, batch_size, validation_split)"
   ]
  },
  {
   "cell_type": "code",
   "execution_count": 12,
   "metadata": {},
   "outputs": [
    {
     "data": {
      "image/png": "[encoded data removed]",
      "text/plain": [
       "<Figure size 1440x576 with 2 Axes>"
      ]
     },
     "metadata": {
      "needs_background": "light"
     },
     "output_type": "display_data"
    }
   ],
   "source": [
    "# Plot a graph of the metric vs. epochs.\n",
    "plot_curve(hist)"
   ]
  },
  {
   "cell_type": "code",
   "execution_count": 13,
   "metadata": {},
   "outputs": [
    {
     "data": {
      "text/plain": [
       "0    1511.0\n",
       "1       0.0\n",
       "2       0.0\n",
       "dtype: float32"
      ]
     },
     "execution_count": 13,
     "metadata": {},
     "output_type": "execute_result"
    }
   ],
   "source": [
    "pd.DataFrame(my_model.predict(X_train)).sum()"
   ]
  }
 ],
 "metadata": {
  "kernelspec": {
   "display_name": "Python 3.8.8 ('base')",
   "language": "python",
   "name": "python3"
  },
  "language_info": {
   "codemirror_mode": {
    "name": "ipython",
    "version": 3
   },
   "file_extension": ".py",
   "mimetype": "text/x-python",
   "name": "python",
   "nbconvert_exporter": "python",
   "pygments_lexer": "ipython3",
   "version": "3.8.8"
  },
  "orig_nbformat": 4,
  "vscode": {
   "interpreter": {
    "hash": "7d4736924dd4ee01619834d3df5aac36876c141d93beb7feebfa3d7eb88b873d"
   }
  }
 },
 "nbformat": 4,
 "nbformat_minor": 2
}
