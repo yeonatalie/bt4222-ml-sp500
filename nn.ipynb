{
 "cells": [
  {
   "cell_type": "code",
   "execution_count": 1,
   "metadata": {},
   "outputs": [],
   "source": [
    "random_seed = 1\n",
    "import random\n",
    "random.seed(random_seed)\n",
    "\n",
    "import numpy as np\n",
    "# set the random seed to make the experiment reproducible\n",
    "\n",
    "np.random.seed(random_seed)\n",
    "\n",
    "import tensorflow\n",
    "# set seed\n",
    "tensorflow.random.set_seed(random_seed)"
   ]
  },
  {
   "cell_type": "code",
   "execution_count": 33,
   "metadata": {},
   "outputs": [],
   "source": [
    "import warnings\n",
    "warnings.simplefilter(action='ignore', category=FutureWarning)\n",
    "\n",
    "import numpy as np\n",
    "import pandas as pd\n",
    "import tensorflow as tf\n",
    "assert tf.__version__ >= \"2.0\"\n",
    "from tensorflow.keras import layers\n",
    "from matplotlib import pyplot as plt\n",
    "import seaborn as sns\n",
    "from keras.utils import np_utils\n",
    "\n",
    "# imblean provides tools for us to deal with imbalanced class sizes\n",
    "from imblearn.over_sampling import SMOTE \n",
    "from imblearn.under_sampling import EditedNearestNeighbours\n",
    "from imblearn.combine import SMOTEENN\n",
    "\n",
    "# example of random oversampling to balance the class distribution\n",
    "from collections import Counter\n",
    "from sklearn.datasets import make_classification\n",
    "from imblearn.over_sampling import RandomOverSampler\n",
    "\n",
    "from imblearn.over_sampling import ADASYN\n",
    "\n",
    "import sklearn\n",
    "assert sklearn.__version__ >= \"0.20\"\n",
    "\n",
    "# Python ≥3.5 is required\n",
    "import sys\n",
    "assert sys.version_info >= (3, 5)"
   ]
  },
  {
   "cell_type": "code",
   "execution_count": 34,
   "metadata": {},
   "outputs": [],
   "source": [
    "X_train_df = pd.read_excel('data/model_inputs/x_train_3perc.xlsx', index_col=0)\n",
    "X_test_df = pd.read_excel('data/model_inputs/x_test_3perc.xlsx', index_col=0)\n",
    "y_train_df = pd.read_excel('data/model_inputs/y_train_3perc.xlsx', index_col=0)\n",
    "y_test_df = pd.read_excel('data/model_inputs/y_test_3perc.xlsx', index_col=0)"
   ]
  },
  {
   "cell_type": "code",
   "execution_count": 35,
   "metadata": {},
   "outputs": [
    {
     "data": {
      "text/html": [
       "<div>\n",
       "<style scoped>\n",
       "    .dataframe tbody tr th:only-of-type {\n",
       "        vertical-align: middle;\n",
       "    }\n",
       "\n",
       "    .dataframe tbody tr th {\n",
       "        vertical-align: top;\n",
       "    }\n",
       "\n",
       "    .dataframe thead th {\n",
       "        text-align: right;\n",
       "    }\n",
       "</style>\n",
       "<table border=\"1\" class=\"dataframe\">\n",
       "  <thead>\n",
       "    <tr style=\"text-align: right;\">\n",
       "      <th></th>\n",
       "      <th>index</th>\n",
       "    </tr>\n",
       "    <tr>\n",
       "      <th>decision</th>\n",
       "      <th></th>\n",
       "    </tr>\n",
       "  </thead>\n",
       "  <tbody>\n",
       "    <tr>\n",
       "      <th>-1</th>\n",
       "      <td>147</td>\n",
       "    </tr>\n",
       "    <tr>\n",
       "      <th>0</th>\n",
       "      <td>1264</td>\n",
       "    </tr>\n",
       "    <tr>\n",
       "      <th>1</th>\n",
       "      <td>100</td>\n",
       "    </tr>\n",
       "  </tbody>\n",
       "</table>\n",
       "</div>"
      ],
      "text/plain": [
       "          index\n",
       "decision       \n",
       "-1          147\n",
       " 0         1264\n",
       " 1          100"
      ]
     },
     "execution_count": 35,
     "metadata": {},
     "output_type": "execute_result"
    }
   ],
   "source": [
    "pd.DataFrame(y_train_df.reset_index()).groupby('decision').count()"
   ]
  },
  {
   "cell_type": "markdown",
   "metadata": {},
   "source": [
    "### Oversampling"
   ]
  },
  {
   "cell_type": "code",
   "execution_count": 36,
   "metadata": {},
   "outputs": [],
   "source": [
    "def smote(X_train, y_train):\n",
    "    sm = SMOTE(sampling_strategy='not majority')\n",
    "    X_train_oversampled, y_train_oversampled = sm.fit_resample(X_train, y_train)\n",
    "    return X_train_oversampled, y_train_oversampled\n",
    "\n",
    "def random_oversampler(X_train, y_train):\n",
    "    oversample = RandomOverSampler(sampling_strategy='not majority')\n",
    "    X_over, y_over = oversample.fit_resample(X_train, y_train)\n",
    "    return X_over, y_over\n",
    "\n",
    "def adasyn(X_train, y_train):\n",
    "    ada = ADASYN(sampling_strategy = 'not majority')\n",
    "    X_resampled, y_resampled = ADASYN().fit_resample(X_train, y_train)\n",
    "    return X_resampled, y_resampled"
   ]
  },
  {
   "cell_type": "code",
   "execution_count": 37,
   "metadata": {},
   "outputs": [
    {
     "data": {
      "text/plain": [
       "decision\n",
       "-1          1264\n",
       " 0          1264\n",
       " 1          1264\n",
       "dtype: int64"
      ]
     },
     "execution_count": 37,
     "metadata": {},
     "output_type": "execute_result"
    }
   ],
   "source": [
    "sm = smote(X_train_df, y_train_df)\n",
    "sm[1].value_counts()"
   ]
  },
  {
   "cell_type": "code",
   "execution_count": 38,
   "metadata": {},
   "outputs": [
    {
     "data": {
      "text/plain": [
       "decision\n",
       "-1          1264\n",
       " 0          1264\n",
       " 1          1264\n",
       "dtype: int64"
      ]
     },
     "execution_count": 38,
     "metadata": {},
     "output_type": "execute_result"
    }
   ],
   "source": [
    "random_oversampling = random_oversampler(X_train_df, y_train_df)\n",
    "random_oversampling[1].value_counts()"
   ]
  },
  {
   "cell_type": "code",
   "execution_count": 39,
   "metadata": {},
   "outputs": [
    {
     "data": {
      "text/plain": [
       "decision\n",
       " 0          1264\n",
       " 1          1258\n",
       "-1          1235\n",
       "dtype: int64"
      ]
     },
     "execution_count": 39,
     "metadata": {},
     "output_type": "execute_result"
    }
   ],
   "source": [
    "ada = adasyn(X_train_df, y_train_df)\n",
    "ada[1].value_counts()"
   ]
  },
  {
   "cell_type": "markdown",
   "metadata": {},
   "source": [
    "### Shuffle + Numpy Array"
   ]
  },
  {
   "cell_type": "code",
   "execution_count": 40,
   "metadata": {},
   "outputs": [],
   "source": [
    "def shuffle_numpy_encode(X_train, X_test, y_train, y_test):\n",
    "    # shuffle the dataset! \n",
    "    # train_data = X_train.copy(deep=True)\n",
    "    # train_data['decision'] = y_train['decision']\n",
    "\n",
    "    # train_data = train_data.sample(frac=1)\n",
    "\n",
    "    # X_train = train_data.drop(['decision'], axis=1)\n",
    "    # y_train = pd.DataFrame(train_data['decision'])\n",
    "\n",
    "    # convert to numpy arrays\n",
    "    X_train = np.array(X_train).astype(dtype='float64')\n",
    "    X_test = np.array(X_test).astype(dtype='float64')\n",
    "\n",
    "    y_train = np.array(y_train['decision']).astype(dtype='uint8')\n",
    "    y_test = np.array(y_test['decision']).astype(dtype='uint8')\n",
    "\n",
    "    # one hot encode\n",
    "    # y_train = np_utils.to_categorical(y_train, num_classes=3)\n",
    "    # y_test = np_utils.to_categorical(y_test, num_classes=3)\n",
    "\n",
    "    y_train = np.array(list(map(lambda x: 2 if x==-1 else x, y_train))).astype(dtype='uint8')\n",
    "    y_test = np.array(list(map(lambda x: 2 if x==-1 else x, y_test))).astype(dtype='uint8')\n",
    "\n",
    "\n",
    "    return X_train, X_test, y_train, y_test"
   ]
  },
  {
   "cell_type": "code",
   "execution_count": 41,
   "metadata": {},
   "outputs": [],
   "source": [
    "def plot_curve(hist):\n",
    "  \"\"\"Plot a curve of one or more classification metrics vs. epoch.\"\"\"  \n",
    "  # list_of_metrics should be one of the names shown in:\n",
    "  # https://www.tensorflow.org/tutorials/structured_data/imbalanced_data#define_the_model_and_metrics  \n",
    "\n",
    "  epochs = hist.epoch\n",
    "  f, ax = plt.subplots(ncols=2, figsize=(20,8))\n",
    "  ax[0].plot(epochs, hist.history['loss'], label='Training Loss')\n",
    "  ax[0].plot(epochs, hist.history['val_loss'], label='Validation Loss')\n",
    "  ax[0].set_xlabel('Epochs')\n",
    "  ax[0].set_ylabel('Loss')\n",
    "  ax[0].legend()\n",
    "  ax[1].plot(epochs, hist.history['accuracy'], label='Training Accuracy')\n",
    "  ax[1].plot(epochs, hist.history['val_accuracy'], label='Validation Accuracy')\n",
    "  ax[1].set_xlabel('Epochs')\n",
    "  ax[1].set_ylabel('Accuracy')\n",
    "  ax[1].legend()"
   ]
  },
  {
   "cell_type": "code",
   "execution_count": 42,
   "metadata": {},
   "outputs": [],
   "source": [
    "from tabnanny import verbose\n",
    "\n",
    "\n",
    "def create_model(my_learning_rate):\n",
    "  \"\"\"Create and compile a deep neural net.\"\"\"\n",
    "  model = tf.keras.models.Sequential()\n",
    "  # model.add(tf.keras.layers.Flatten(input_shape=(28, 28)))\n",
    "  model.add(tf.keras.layers.Dense(input_shape=(X_train_df.shape[1],), units=300, activation='relu'))\n",
    "  model.add(tf.keras.layers.Dense(units=100, activation='relu'))\n",
    "  model.add(tf.keras.layers.Dense(units=3, activation='softmax'))    \n",
    "  \n",
    "  # # All models in this course are sequential.\n",
    "  # model = tf.keras.models.Sequential()\n",
    "\n",
    "  # # Define the first hidden layer.   \n",
    "  # model.add(tf.keras.layers.Dense(input_shape=(X_train_df.shape[1],), units=32, activation='relu')) ### remove flatten code\n",
    "  \n",
    "  # # Define a dropout regularization layer. \n",
    "  # model.add(tf.keras.layers.Dropout(rate=0.2))\n",
    "\n",
    "  # # Define the output layer. The units parameter is set to 10 because\n",
    "  # # the model must choose among 10 possible output values (representing\n",
    "  # # the digits from 0 to 9, inclusive).\n",
    "  # #\n",
    "  # # Don't change this layer.\n",
    "  # model.add(tf.keras.layers.Dense(units=3, activation='softmax'))    ### change to 3\n",
    "                           \n",
    "  # # Construct the layers into a model that TensorFlow can execute.  \n",
    "  # # Notice that the loss function for multi-class classification\n",
    "  # # is different than the loss function for binary classification.  \n",
    "  # model.compile(optimizer=tf.keras.optimizers.Adam(learning_rate=my_learning_rate),\n",
    "  #               loss=\"sparse_categorical_crossentropy\", \n",
    "  #               metrics=['accuracy', tf.keras.metrics.Recall(), tf.keras.metrics.Precision()])\n",
    "  \n",
    "  model.compile(optimizer=tf.keras.optimizers.SGD(), loss=\"sparse_categorical_crossentropy\", metrics=['accuracy'])\n",
    "\n",
    "  return model    \n",
    "\n",
    "\n",
    "def train_model(model, train_features, train_label, epochs,\n",
    "                batch_size=None, validation_split=0.1):\n",
    "  \"\"\"Train the model by feeding it data.\"\"\"\n",
    "\n",
    "  history = model.fit(x=train_features, y=train_label, batch_size=batch_size,\n",
    "                      epochs=epochs, shuffle=True, \n",
    "                      validation_split=validation_split, verbose=0)\n",
    "  \n",
    "  return history   "
   ]
  },
  {
   "cell_type": "markdown",
   "metadata": {},
   "source": [
    "### Train Model"
   ]
  },
  {
   "cell_type": "code",
   "execution_count": 43,
   "metadata": {},
   "outputs": [],
   "source": [
    "# The following variables are the hyperparameters.\n",
    "learning_rate = 0.003\n",
    "epochs = 50\n",
    "batch_size = 4000\n",
    "validation_split = 0.2\n",
    "\n",
    "# Establish the model's topography.\n",
    "# my_model = create_model(learning_rate)"
   ]
  },
  {
   "cell_type": "code",
   "execution_count": 44,
   "metadata": {},
   "outputs": [],
   "source": [
    "model = tf.keras.models.Sequential()\n",
    "model.add(tf.keras.layers.Flatten(input_shape=(X_train_df.shape[1],)))\n",
    "model.add(tf.keras.layers.Dense(units=300, activation='relu'))\n",
    "model.add(tf.keras.layers.Dense(units=100, activation='relu'))\n",
    "model.add(tf.keras.layers.Dense(units=3, activation='softmax'))  \n",
    "model.compile(optimizer=tf.keras.optimizers.SGD(), loss=\"sparse_categorical_crossentropy\", metrics=['accuracy'])"
   ]
  },
  {
   "cell_type": "code",
   "execution_count": 45,
   "metadata": {},
   "outputs": [
    {
     "name": "stdout",
     "output_type": "stream",
     "text": [
      "Model: \"sequential_2\"\n",
      "_________________________________________________________________\n",
      "Layer (type)                 Output Shape              Param #   \n",
      "=================================================================\n",
      "flatten_1 (Flatten)          (None, 11)                0         \n",
      "_________________________________________________________________\n",
      "dense_6 (Dense)              (None, 300)               3600      \n",
      "_________________________________________________________________\n",
      "dense_7 (Dense)              (None, 100)               30100     \n",
      "_________________________________________________________________\n",
      "dense_8 (Dense)              (None, 3)                 303       \n",
      "=================================================================\n",
      "Total params: 34,003\n",
      "Trainable params: 34,003\n",
      "Non-trainable params: 0\n",
      "_________________________________________________________________\n"
     ]
    }
   ],
   "source": [
    "model.summary()"
   ]
  },
  {
   "cell_type": "code",
   "execution_count": 46,
   "metadata": {},
   "outputs": [],
   "source": [
    "results = pd.DataFrame(columns=['loss', 'accuracy', 'recall', 'precision'])"
   ]
  },
  {
   "cell_type": "markdown",
   "metadata": {},
   "source": [
    "SMOTE Results"
   ]
  },
  {
   "cell_type": "code",
   "execution_count": 47,
   "metadata": {},
   "outputs": [],
   "source": [
    "X_train, X_test, y_train, y_test = shuffle_numpy_encode(sm[0], X_test_df, sm[1], y_test_df)"
   ]
  },
  {
   "cell_type": "code",
   "execution_count": 48,
   "metadata": {},
   "outputs": [
    {
     "data": {
      "text/plain": [
       "(3792, 11)"
      ]
     },
     "execution_count": 48,
     "metadata": {},
     "output_type": "execute_result"
    }
   ],
   "source": [
    "X_train.shape"
   ]
  },
  {
   "cell_type": "code",
   "execution_count": 49,
   "metadata": {},
   "outputs": [
    {
     "name": "stdout",
     "output_type": "stream",
     "text": [
      "Epoch 1/30\n"
     ]
    },
    {
     "ename": "InvalidArgumentError",
     "evalue": " Received a label value of 255 which is outside the valid range of [0, 3).  Label values: 0 0 0 1 0 255 0 255 1 255 0 1 255 0 255 255 255 255 0 0 1 1 0 0 255 255 1 255 0 1 1 255\n\t [[node sparse_categorical_crossentropy/SparseSoftmaxCrossEntropyWithLogits/SparseSoftmaxCrossEntropyWithLogits (defined at <ipython-input-49-d1003b9dece6>:1) ]] [Op:__inference_train_function_1541]\n\nFunction call stack:\ntrain_function\n",
     "output_type": "error",
     "traceback": [
      "\u001b[0;31m---------------------------------------------------------------------------\u001b[0m",
      "\u001b[0;31mInvalidArgumentError\u001b[0m                      Traceback (most recent call last)",
      "\u001b[0;32m<ipython-input-49-d1003b9dece6>\u001b[0m in \u001b[0;36m<module>\u001b[0;34m\u001b[0m\n\u001b[0;32m----> 1\u001b[0;31m \u001b[0mhistory\u001b[0m \u001b[0;34m=\u001b[0m \u001b[0mmodel\u001b[0m\u001b[0;34m.\u001b[0m\u001b[0mfit\u001b[0m\u001b[0;34m(\u001b[0m\u001b[0mx\u001b[0m\u001b[0;34m=\u001b[0m\u001b[0mX_train\u001b[0m\u001b[0;34m,\u001b[0m \u001b[0my\u001b[0m\u001b[0;34m=\u001b[0m\u001b[0my_train\u001b[0m\u001b[0;34m,\u001b[0m \u001b[0mepochs\u001b[0m\u001b[0;34m=\u001b[0m\u001b[0;36m30\u001b[0m\u001b[0;34m,\u001b[0m \u001b[0mshuffle\u001b[0m\u001b[0;34m=\u001b[0m\u001b[0;32mTrue\u001b[0m\u001b[0;34m)\u001b[0m\u001b[0;34m\u001b[0m\u001b[0;34m\u001b[0m\u001b[0m\n\u001b[0m",
      "\u001b[0;32m~/opt/anaconda3/lib/python3.8/site-packages/keras/engine/training.py\u001b[0m in \u001b[0;36mfit\u001b[0;34m(self, x, y, batch_size, epochs, verbose, callbacks, validation_split, validation_data, shuffle, class_weight, sample_weight, initial_epoch, steps_per_epoch, validation_steps, validation_batch_size, validation_freq, max_queue_size, workers, use_multiprocessing)\u001b[0m\n\u001b[1;32m   1182\u001b[0m                 _r=1):\n\u001b[1;32m   1183\u001b[0m               \u001b[0mcallbacks\u001b[0m\u001b[0;34m.\u001b[0m\u001b[0mon_train_batch_begin\u001b[0m\u001b[0;34m(\u001b[0m\u001b[0mstep\u001b[0m\u001b[0;34m)\u001b[0m\u001b[0;34m\u001b[0m\u001b[0;34m\u001b[0m\u001b[0m\n\u001b[0;32m-> 1184\u001b[0;31m               \u001b[0mtmp_logs\u001b[0m \u001b[0;34m=\u001b[0m \u001b[0mself\u001b[0m\u001b[0;34m.\u001b[0m\u001b[0mtrain_function\u001b[0m\u001b[0;34m(\u001b[0m\u001b[0miterator\u001b[0m\u001b[0;34m)\u001b[0m\u001b[0;34m\u001b[0m\u001b[0;34m\u001b[0m\u001b[0m\n\u001b[0m\u001b[1;32m   1185\u001b[0m               \u001b[0;32mif\u001b[0m \u001b[0mdata_handler\u001b[0m\u001b[0;34m.\u001b[0m\u001b[0mshould_sync\u001b[0m\u001b[0;34m:\u001b[0m\u001b[0;34m\u001b[0m\u001b[0;34m\u001b[0m\u001b[0m\n\u001b[1;32m   1186\u001b[0m                 \u001b[0mcontext\u001b[0m\u001b[0;34m.\u001b[0m\u001b[0masync_wait\u001b[0m\u001b[0;34m(\u001b[0m\u001b[0;34m)\u001b[0m\u001b[0;34m\u001b[0m\u001b[0;34m\u001b[0m\u001b[0m\n",
      "\u001b[0;32m~/opt/anaconda3/lib/python3.8/site-packages/tensorflow/python/eager/def_function.py\u001b[0m in \u001b[0;36m__call__\u001b[0;34m(self, *args, **kwds)\u001b[0m\n\u001b[1;32m    883\u001b[0m \u001b[0;34m\u001b[0m\u001b[0m\n\u001b[1;32m    884\u001b[0m       \u001b[0;32mwith\u001b[0m \u001b[0mOptionalXlaContext\u001b[0m\u001b[0;34m(\u001b[0m\u001b[0mself\u001b[0m\u001b[0;34m.\u001b[0m\u001b[0m_jit_compile\u001b[0m\u001b[0;34m)\u001b[0m\u001b[0;34m:\u001b[0m\u001b[0;34m\u001b[0m\u001b[0;34m\u001b[0m\u001b[0m\n\u001b[0;32m--> 885\u001b[0;31m         \u001b[0mresult\u001b[0m \u001b[0;34m=\u001b[0m \u001b[0mself\u001b[0m\u001b[0;34m.\u001b[0m\u001b[0m_call\u001b[0m\u001b[0;34m(\u001b[0m\u001b[0;34m*\u001b[0m\u001b[0margs\u001b[0m\u001b[0;34m,\u001b[0m \u001b[0;34m**\u001b[0m\u001b[0mkwds\u001b[0m\u001b[0;34m)\u001b[0m\u001b[0;34m\u001b[0m\u001b[0;34m\u001b[0m\u001b[0m\n\u001b[0m\u001b[1;32m    886\u001b[0m \u001b[0;34m\u001b[0m\u001b[0m\n\u001b[1;32m    887\u001b[0m       \u001b[0mnew_tracing_count\u001b[0m \u001b[0;34m=\u001b[0m \u001b[0mself\u001b[0m\u001b[0;34m.\u001b[0m\u001b[0mexperimental_get_tracing_count\u001b[0m\u001b[0;34m(\u001b[0m\u001b[0;34m)\u001b[0m\u001b[0;34m\u001b[0m\u001b[0;34m\u001b[0m\u001b[0m\n",
      "\u001b[0;32m~/opt/anaconda3/lib/python3.8/site-packages/tensorflow/python/eager/def_function.py\u001b[0m in \u001b[0;36m_call\u001b[0;34m(self, *args, **kwds)\u001b[0m\n\u001b[1;32m    948\u001b[0m         \u001b[0;31m# Lifting succeeded, so variables are initialized and we can run the\u001b[0m\u001b[0;34m\u001b[0m\u001b[0;34m\u001b[0m\u001b[0;34m\u001b[0m\u001b[0m\n\u001b[1;32m    949\u001b[0m         \u001b[0;31m# stateless function.\u001b[0m\u001b[0;34m\u001b[0m\u001b[0;34m\u001b[0m\u001b[0;34m\u001b[0m\u001b[0m\n\u001b[0;32m--> 950\u001b[0;31m         \u001b[0;32mreturn\u001b[0m \u001b[0mself\u001b[0m\u001b[0;34m.\u001b[0m\u001b[0m_stateless_fn\u001b[0m\u001b[0;34m(\u001b[0m\u001b[0;34m*\u001b[0m\u001b[0margs\u001b[0m\u001b[0;34m,\u001b[0m \u001b[0;34m**\u001b[0m\u001b[0mkwds\u001b[0m\u001b[0;34m)\u001b[0m\u001b[0;34m\u001b[0m\u001b[0;34m\u001b[0m\u001b[0m\n\u001b[0m\u001b[1;32m    951\u001b[0m     \u001b[0;32melse\u001b[0m\u001b[0;34m:\u001b[0m\u001b[0;34m\u001b[0m\u001b[0;34m\u001b[0m\u001b[0m\n\u001b[1;32m    952\u001b[0m       \u001b[0m_\u001b[0m\u001b[0;34m,\u001b[0m \u001b[0m_\u001b[0m\u001b[0;34m,\u001b[0m \u001b[0m_\u001b[0m\u001b[0;34m,\u001b[0m \u001b[0mfiltered_flat_args\u001b[0m \u001b[0;34m=\u001b[0m\u001b[0;31m \u001b[0m\u001b[0;31m\\\u001b[0m\u001b[0;34m\u001b[0m\u001b[0;34m\u001b[0m\u001b[0m\n",
      "\u001b[0;32m~/opt/anaconda3/lib/python3.8/site-packages/tensorflow/python/eager/function.py\u001b[0m in \u001b[0;36m__call__\u001b[0;34m(self, *args, **kwargs)\u001b[0m\n\u001b[1;32m   3037\u001b[0m       (graph_function,\n\u001b[1;32m   3038\u001b[0m        filtered_flat_args) = self._maybe_define_function(args, kwargs)\n\u001b[0;32m-> 3039\u001b[0;31m     return graph_function._call_flat(\n\u001b[0m\u001b[1;32m   3040\u001b[0m         filtered_flat_args, captured_inputs=graph_function.captured_inputs)  # pylint: disable=protected-access\n\u001b[1;32m   3041\u001b[0m \u001b[0;34m\u001b[0m\u001b[0m\n",
      "\u001b[0;32m~/opt/anaconda3/lib/python3.8/site-packages/tensorflow/python/eager/function.py\u001b[0m in \u001b[0;36m_call_flat\u001b[0;34m(self, args, captured_inputs, cancellation_manager)\u001b[0m\n\u001b[1;32m   1961\u001b[0m         and executing_eagerly):\n\u001b[1;32m   1962\u001b[0m       \u001b[0;31m# No tape is watching; skip to running the function.\u001b[0m\u001b[0;34m\u001b[0m\u001b[0;34m\u001b[0m\u001b[0;34m\u001b[0m\u001b[0m\n\u001b[0;32m-> 1963\u001b[0;31m       return self._build_call_outputs(self._inference_function.call(\n\u001b[0m\u001b[1;32m   1964\u001b[0m           ctx, args, cancellation_manager=cancellation_manager))\n\u001b[1;32m   1965\u001b[0m     forward_backward = self._select_forward_and_backward_functions(\n",
      "\u001b[0;32m~/opt/anaconda3/lib/python3.8/site-packages/tensorflow/python/eager/function.py\u001b[0m in \u001b[0;36mcall\u001b[0;34m(self, ctx, args, cancellation_manager)\u001b[0m\n\u001b[1;32m    589\u001b[0m       \u001b[0;32mwith\u001b[0m \u001b[0m_InterpolateFunctionError\u001b[0m\u001b[0;34m(\u001b[0m\u001b[0mself\u001b[0m\u001b[0;34m)\u001b[0m\u001b[0;34m:\u001b[0m\u001b[0;34m\u001b[0m\u001b[0;34m\u001b[0m\u001b[0m\n\u001b[1;32m    590\u001b[0m         \u001b[0;32mif\u001b[0m \u001b[0mcancellation_manager\u001b[0m \u001b[0;32mis\u001b[0m \u001b[0;32mNone\u001b[0m\u001b[0;34m:\u001b[0m\u001b[0;34m\u001b[0m\u001b[0;34m\u001b[0m\u001b[0m\n\u001b[0;32m--> 591\u001b[0;31m           outputs = execute.execute(\n\u001b[0m\u001b[1;32m    592\u001b[0m               \u001b[0mstr\u001b[0m\u001b[0;34m(\u001b[0m\u001b[0mself\u001b[0m\u001b[0;34m.\u001b[0m\u001b[0msignature\u001b[0m\u001b[0;34m.\u001b[0m\u001b[0mname\u001b[0m\u001b[0;34m)\u001b[0m\u001b[0;34m,\u001b[0m\u001b[0;34m\u001b[0m\u001b[0;34m\u001b[0m\u001b[0m\n\u001b[1;32m    593\u001b[0m               \u001b[0mnum_outputs\u001b[0m\u001b[0;34m=\u001b[0m\u001b[0mself\u001b[0m\u001b[0;34m.\u001b[0m\u001b[0m_num_outputs\u001b[0m\u001b[0;34m,\u001b[0m\u001b[0;34m\u001b[0m\u001b[0;34m\u001b[0m\u001b[0m\n",
      "\u001b[0;32m~/opt/anaconda3/lib/python3.8/site-packages/tensorflow/python/eager/execute.py\u001b[0m in \u001b[0;36mquick_execute\u001b[0;34m(op_name, num_outputs, inputs, attrs, ctx, name)\u001b[0m\n\u001b[1;32m     57\u001b[0m   \u001b[0;32mtry\u001b[0m\u001b[0;34m:\u001b[0m\u001b[0;34m\u001b[0m\u001b[0;34m\u001b[0m\u001b[0m\n\u001b[1;32m     58\u001b[0m     \u001b[0mctx\u001b[0m\u001b[0;34m.\u001b[0m\u001b[0mensure_initialized\u001b[0m\u001b[0;34m(\u001b[0m\u001b[0;34m)\u001b[0m\u001b[0;34m\u001b[0m\u001b[0;34m\u001b[0m\u001b[0m\n\u001b[0;32m---> 59\u001b[0;31m     tensors = pywrap_tfe.TFE_Py_Execute(ctx._handle, device_name, op_name,\n\u001b[0m\u001b[1;32m     60\u001b[0m                                         inputs, attrs, num_outputs)\n\u001b[1;32m     61\u001b[0m   \u001b[0;32mexcept\u001b[0m \u001b[0mcore\u001b[0m\u001b[0;34m.\u001b[0m\u001b[0m_NotOkStatusException\u001b[0m \u001b[0;32mas\u001b[0m \u001b[0me\u001b[0m\u001b[0;34m:\u001b[0m\u001b[0;34m\u001b[0m\u001b[0;34m\u001b[0m\u001b[0m\n",
      "\u001b[0;31mInvalidArgumentError\u001b[0m:  Received a label value of 255 which is outside the valid range of [0, 3).  Label values: 0 0 0 1 0 255 0 255 1 255 0 1 255 0 255 255 255 255 0 0 1 1 0 0 255 255 1 255 0 1 1 255\n\t [[node sparse_categorical_crossentropy/SparseSoftmaxCrossEntropyWithLogits/SparseSoftmaxCrossEntropyWithLogits (defined at <ipython-input-49-d1003b9dece6>:1) ]] [Op:__inference_train_function_1541]\n\nFunction call stack:\ntrain_function\n"
     ]
    }
   ],
   "source": [
    "history = model.fit(x=X_train, y=y_train, epochs=30, shuffle=True)"
   ]
  },
  {
   "cell_type": "code",
   "execution_count": 23,
   "metadata": {},
   "outputs": [
    {
     "ename": "InvalidArgumentError",
     "evalue": " Received a label value of 255 which is outside the valid range of [0, 3).  Label values: 0 0 0 1 0 0 0 0 255 255 255 0 255 255 255 1 1 1 1 0 0 0 1 0 255 1 255 255 0 0 255 255 255 0 0 0 0 255 0 255 255 255 0 0 0 255 1 255 0 255 1 1 0 0 255 0 0 0 255 1 255 0 0 0 255 0 255 0 0 0 255 1 0 255 255 0 0 0 1 1 0 255 255 0 255 255 255 1 0 0 255 0 1 255 0 0 255 0 0 255 255 0 255 0 0 0 1 1 255 255 255 0 255 0 255 0 0 255 255 1 255 0 1 0 255 255 255 255 1 1 0 1 0 0 0 0 255 255 0 255 255 255 0 255 1 255 255 255 255 0 255 0 255 0 0 255 1 0 0 255 255 255 255 255 255 255 0 1 255 0 255 1 255 255 0 1 255 255 255 255 0 0 0 0 255 0 0 0 255 1 0 0 0 255 1 0 0 255 0 255 1 1 0 255 0 0 0 1 255 255 255 1 0 255 255 255 255 255 255 255 255 255 1 255 255 255 0 0 0 0 255 0 255 0 0 0 255 255 0 0 255 0 255 0 0 255 255 0 255 255 255 0 0 0 0 255 255 255 255 0 0 0 255 255 0 1 0 0 0 1 1 0 0 255 0 0 1 255 255 0 255 255 255 255 0 255 0 255 1 0 0 255 255 255 0 1 0 0 0 255 255 1 0 255 0 0 0 0 255 255 255 0 255 255 0 255 255 255 0 1 0 255 0 0 0 255 0 0 0 0 0 255 255 1 0 1 255 255 255 0 1 255 0 255 255 0 255 0 1 1 0 0 0 0 255 1 0 0 0 0 255 0 255 255 0 0 0 0 0 1 255 255 255 255 255 255 0 1 1 255 0 0 0 0 0 0 0 0 255 255 255 255 255 0 1 0 0 0 255 1 1 255 0 0 0 1 255 0 255 0 255 0 255 0 255 1 0 255 1 255 0 255 1 255 0 255 255 0 1 1 1 255 255 0 1 255 255 1 255 255 1 0 255 1 255 255 1 255 0 1 255 0 0 255 255 0 0 255 0 255 255 255 1 255 0 255 0 0 0 1 0 255 1 0 255 255 255 0 0 255 0 0 0 0 255 255 1 255 0 255 1 255 1 255 0 255 0 0 0 255 1 255 0 0 255 0 255 255 0 255 1 0 255 255 0 1 0 1 255 1 0 0 255 255 0 255 0 0 255 1 255 255 1 0 0 0 255 0 0 255 1 0 1 0 1 1 255 0 255 255 1 0 0 255 0 0 0 255 255 0 1 0 0 1 255 0 0 0 0 255 255 1 255 255 0 0 0 255 0 255 1 255 255 0 255 255 255 255 255 0 1 0 1 255 0 255 0 0 0 0 1 0 0 255 1 255 0 0 255 255 255 255 255 255 255 1 0 255 255 255 0 1 0 0 1 255 0 0 0 0 0 255 0 0 0 255 255 255 255 255 255 0 255 1 0 255 255 255 1 0 255 0 0 0 0 0 1 0 1 255 0 255 255 255 1 255 0 1 255 255 255 255 1 255 255 255 0 0 0 255 255 255 255 255 0 0 0 0 255 255 255 1 255 1 0 255 255 255 255 0 0 0 0 1 1 0 0 255 255 0 0 0 255 255 255 255 1 255 255 255 0 0 0 0 255 255 0 255 255 255 255 1 1 1 0 255 0 255 255 255 0 1 255 255 0 255 1 255 0 255 0 255 255 0 255 255 255 255 0 1 255 255 1 1 0 255 1 255 255 0 1 255 255 255 0 255 255 1 0 255 0 0 0 255 1 255 255 1 0 1 255 1 255 255 0 255 0 0 1 255 255 255 0 0 255 255 255 255 0 0 0 255 1 255 0 0 0 0 255 1 255 0 0 255 1 1 255 1 0 255 0 1 0 255 255 1 0 0 255 1 0 255 1 255 255 0 255 255 255 1 0 1 0 0 1 1 0 0 0 255 0 1 1 255 0 255 1 255 255 255 0 0 0 1 0 0 0 0 0 0 0 0 255 1 255 0 255 255 255 1 255 0 0 255 0 0 0 0 255 255 0 255 0 1 0 255 0 1 255 255 255 255 0 0 0 255 0 255 0 255 255 255 255 255 0 0 255 1 255 255 0 1 0 1 0 255 255 1 1 1 0 0 1 255 0 1 1 0 1 255 255 1 0 1 0 0 0 255 0 0 1 1 255 0 0 1 0 0 0 1 1 0 0 255 0 0 0 1 1 0 255 255 0 0 255 0 0 255 1 255 0 255 0 1 1 1 0 255 1 255 255 0 255 255 0 255 1 0 255 255 1 0 255 0 0 0 0 255 1 0 255 255 255 0 255 255 255 255 1 255 255 0 0 255 0 0 0 0 0 255 255 255 255 0 0 255 255 255 255 255 0 255 255 1 1 255 255 0 1 255 0 0 0 255 255 255 0 255 0 0 255 0 255 0 255 0 255 0 0 255 255 0 1 255 1 255 255 255 0 0 0 255 0 0 255 255 0 255 255 255 1 255 1 255 255 255 255 1 255 255 255 255 255 0 0 0 0 0 255 0 255 1 1 1 0 0 1 255 0 255 255 255 1 0 0 0 0 255 1 0 1 255 1 0 255 0 0 0 1 255 255 1 0 255 1 255 1 1 0 255 0 1 0 255 0 255 0 255 1 255 0 255 255 1 0 255 0 0 255 0 0 255 0 1 255 0 0 0 255 0 1 0 255 255 255 1 0 1 255 1 255 255 0 255 0 255 0 0 255 1 0 255 255 0 255 255 1 0 1 0 0 255 255 255 1 255 255 0 1 0 255 255 255 255 1 1 255 0 0 0 255 255 0 1 0 255 0 255 0 0 255 0 1 1 255 0 0 255 0 0 255 255 1 1 255 0 0 0 0 0 1 0 1 255 255 255 0 255 255 0 255 0 0 0 255 0 1 1 1 0 255 1 255 0 0 0 255 255 1 1 255 255 1 0 255 255 0 0 255 255 0 255 255 255 0 0 255 255 255 255 0 0 255 255 0 255 255 0 255 0 255 0 1 0 255 255 255 0 0 255 255 0 255 1 255 0 0 0 0 255 255 0 0 0 255 0 255 255 0 255 255 0 255 1 0 0 255 255 0 255 255 0 255 255 255 255 0 255 255 255 1 0 255 1 255 0 255 255 255 1 0 1 1 0 255 255 0 255 255 255 255 255 1 0 0 255 0 0 255 255 0 255 0 255 255 255 0 1 0 255 255 255 0 1 255 0 255 255 255 0 0 1 0 0 0 0 0 255 255 255 0 0 0 255 0 0 0 0 1 0 0 255 1 0 255 255 0 1 255 255 255 255 0 255 0 0 0 255 255 0 255 255 0 255 0 255 255 255 0 0 0 0 1 0 0 255 255 255 0 0 255 255 0 0 255 255 255 255 0 0 1 0 0 1 0 0 255 0 0 0 255 0 0 0 255 0 1 0 1 0 255 0 255 0 0 0 0 0 255 255 0 255 1 0 255 0 255 0 1 255 255 1 255 255 255 1 255 255 255 0 0 255 0 0 255 1 255 255 255 255 255 255 0 255 255 0 0 1 0 255 1 255 255 0 255 0 0 0 255 0 1 1 255 255 255 255 0 255 255 0 255 0 0 1 255 1 0 0 255 255 0 1 1 255 255 255 255 1 0 255 0 255 0 255 255 255 0 0 0 0 255 1 255 255 1 0 1 0 0 0 255 0 1 0 255 255 255 255 0 255 0 0 0 1 0 255 0 255 255 0 255 255 0 255 0 1 255 255 255 1 255 0 1 255 1 0 0 1 0 0 255 255 0 255 255 1 255 1 0 1 0 0 255 0 0 255 255 0 255 255 0 255 0 255 255 255 1 255 0 255 0 1 255 255 255 0 255 255 255 255 255 0 1 255 0 255 255 255 255 255 1 1 255 1 1 255 255 0 1 255 0 1 1 0 0 255 0 1 0 0 255 0 255 0 1 1 255 0 255 1 0 1 255 255 0 0 255 0 255 1 0 0 255 0 0 0 0 1 0 0 0 0 255 0 0 0 255 0 0 1 0 0 0 0 0 0 0 255 0 1 0 1 255 0 1 0 255 0 0 0 1 1 255 0 255 0 0 255 0 0 0 255 0 1 0 0 255 0 0 1 1 255 0 0 255 1 255 0 0 0 255 0 255 255 1 255 255 1 255 255 1 255 255 255 255 0 255 0 0 255 0 1 0 0 255 255 255 255 0 1 0 0 0 1 255 0 1 1 255 255 255 255 0 255 0 255 255 0 0 255 0 255 255 0 1 0 255 0 0 255 0 255 255 255 0 255 0 255 0 0 0 0 1 0 0 255 255 0 255 1 255 0 1 1 255 0 255 0 1 255 0 255 0 1 255 255 0 0 255 255 0 255 0 255 1 0 1 255 255 0 255 0 0 255 0 1 255 1 1 0 1 0 255 255 1 255 255 1 255 0 255 255 1 0 255 0 255 0 0 0 0 1 255 255 255 0 0 255 0 255 255 0 0 255 255 0 255 0 0 255 0 255 255 0 255 0 0 1 255 0 0 255 0 1 0 0 255 1 1 255 255 1 1 0 0 0 255 255 1 0 255 1 0 1 0 1 255 0 255 0 255 255 255 255 255 0 255 0 0 255 255 255 0 255 0 255 0 0 1 0 255 1 0 1 255 0 1 0 0 1 0 255 255 0 0 0 1 255 0 0 0 1 255 255 0 255 0 0 255 255 1 1 0 255 255 255 255 0 255 255 0 1 255 255 0 1 0 0 0 0 255 0 255 1 0 255 255 0 255 255 255 0 255 0 0 255 255 255 0 0 0 0 255 255 0 0 0 0 1 255 255 255 255 0 0 1 255 0 0 0 0 1 0 255 255 0 255 0 0 1 255 255 0 255 0 255 0 255 0 255 0 0 0 1 0 1 0 255 0 255 255 255 0 0 255 255 1 255 1 255 0 255 1 0 1 255 0 1 255 0 0 1 0 255 1 0 1 0 1 1 255 0 255 255 255 0 1 0 255 0 255 255 0 255 0 1 255 0 255 0 0 0 0 255 1 255 0 1 255 0 1 0 1 255 0 0 255 255 0 255 0 255 255 1 255 1 255 255 0 0 255 255 1 0 255 255 0 255 255 0 0 255 0 255 255 255 0 255 255 0 255 255 255 255 255 255 0 255 0 255 1 255 255 0 0 255 1 255 1 0 1 0 255 0 255 0 0 255 0 0 255 255 255 255 0 255 0 1 0 255 1 255 0 0 1 0 0 1 1 255 0 255 255 0 1 255 255 0 0 0 1 0 0 255 1 255 255 255 255 0 0 0 255 255 0 0 0 0 0 0 0 0 255 0 255 0 0 255 1 255 0 255 0 0 1 0 255 1 255 0 255 1 255 1 255 1 0 255 255 1 0 0 0 255 255 0 255 1 255 1 0 0 0 255 255 0 0 0 255 255 0 1 0 1 255 0 0 255 0 0 255 0 0 1 255 0 255 255 255 1 1 255 255 255 0 1 0 0 1 0 0 1 0 1 0 0 1 0 255 255 0 0 255 1 255 255 0 0 1 255 0 255 255 0 255 0 255 255 255 0 255 0 255 0 255 255 255 255 255 0 0 0 0 1 255 255 0 0 1 255 255 255 1 255 255 255 0 255 1 0 255 0 255 1 1 0 255 255 255 255 0 0 0 0 0 0 255 0 255 0 255 255 255 0 255 255 255 255 0 255 0 1 0 0 0 255 0 255 255 1 255 0 1 0 1 0 255 0 0 0 0 1 255 255 0 0 0 0 0 255 1 0 255 0 1 255 0 1 255 0 1 255 1 0 1 255 1 0 0 1 255 255 255 0 0 255 255 0 0 0 0 0 0 1 0 1 0 255 255 1 0 1 255 255 255 1 255 0 0 1 255 0 255 0 0 255 0 0 255 0 255 0 0 255 255 0 1 255 255 255 0 255 0 1 255 0 0 1 0 0 0 0 0 0 0 255 1 255 255 255 255 1 0 255 255 255 0 0 0 0 255 0 0 255 1 0 0 0 0 255 255 0 1 255 255 255 0 255 0 255 1 0 1 255 255 1 1 0 255 255 0 1 0 0 255 0 0 0 0 255 1 255 255 0 0 1 0 255 0 1 0 255 255 0 1 0 0 255 0 255 255 0 0 255 1 0 0 0 0 255 0 255 0 255 0 0 1 1 0 255 0 0 255 255 0 0 255 255 255 0 1 0 255 255 255 0 0 255 1 0 255 1 255 1 0 0 0 255 1 1 0 0 0 0 0 1 1 255 0 255 0 1 1 1 1 0 0 255 0 0 255 255 255 0 255 1 255 1 255 0 0 255 0 255 255 255 0 1 0 0 0 255 0 255 1 0 0 255 0 255 255 0 255 0 0 0 255 0 0 0 0 255 0 1 255 255 0 255 255 0 0 0 255 255 255 255 255 0 255 1 255 1 0 255 0 1 0 255 255 255 0 0 0 255 0 255 255 0 255 255 255 0 255 255 0 255 1 0 1 255 255 255 1 255 1 1 0 1 0 0 255 0 0 1 255 255 1 255 255 255 255 255 0 0 0 0 255 255 0 255 1 255 255 0 0 255 255 1 1 255 1 0 255 1 255 0 255 1 1 0 0 0 0 255 255 255 255 0 0 1 1 255 0 0 0 255 0 0 255 1 255 255 255 255 0 255 255 1 0 255 255 1 1 0 255 255 0 0 255 1 255 0 0 1 255 0 255 0 0 1 0 0 255 255 0 255 1 255 0 1 255 255 0 255 1 0 0 1 1 1 0 0 255 1 0 0 0 0 1 255 0 0 255 255 0 0 0 0 1 255 0 1 0 0 255 0 0 0 1 1 1 0 0 0 0 255 1 255 255 0 255 255 0\n\t [[node sparse_categorical_crossentropy/SparseSoftmaxCrossEntropyWithLogits/SparseSoftmaxCrossEntropyWithLogits (defined at <ipython-input-14-5a5862b6c682>:44) ]] [Op:__inference_train_function_488]\n\nFunction call stack:\ntrain_function\n",
     "output_type": "error",
     "traceback": [
      "\u001b[0;31m---------------------------------------------------------------------------\u001b[0m",
      "\u001b[0;31mInvalidArgumentError\u001b[0m                      Traceback (most recent call last)",
      "\u001b[0;32m<ipython-input-23-478264b54c8b>\u001b[0m in \u001b[0;36m<module>\u001b[0;34m\u001b[0m\n\u001b[1;32m      1\u001b[0m \u001b[0;31m# Train the model on the normalized training set.\u001b[0m\u001b[0;34m\u001b[0m\u001b[0;34m\u001b[0m\u001b[0;34m\u001b[0m\u001b[0m\n\u001b[0;32m----> 2\u001b[0;31m \u001b[0mhist\u001b[0m \u001b[0;34m=\u001b[0m \u001b[0mtrain_model\u001b[0m\u001b[0;34m(\u001b[0m\u001b[0mmodel\u001b[0m\u001b[0;34m,\u001b[0m \u001b[0mX_train\u001b[0m\u001b[0;34m,\u001b[0m \u001b[0my_train\u001b[0m\u001b[0;34m,\u001b[0m \u001b[0mepochs\u001b[0m\u001b[0;34m,\u001b[0m \u001b[0mbatch_size\u001b[0m\u001b[0;34m,\u001b[0m \u001b[0mvalidation_split\u001b[0m\u001b[0;34m)\u001b[0m\u001b[0;34m\u001b[0m\u001b[0;34m\u001b[0m\u001b[0m\n\u001b[0m\u001b[1;32m      3\u001b[0m \u001b[0;31m# Plot a graph of the metric vs. epochs.\u001b[0m\u001b[0;34m\u001b[0m\u001b[0;34m\u001b[0m\u001b[0;34m\u001b[0m\u001b[0m\n\u001b[1;32m      4\u001b[0m \u001b[0mplot_curve\u001b[0m\u001b[0;34m(\u001b[0m\u001b[0mhist\u001b[0m\u001b[0;34m)\u001b[0m\u001b[0;34m\u001b[0m\u001b[0;34m\u001b[0m\u001b[0m\n\u001b[1;32m      5\u001b[0m \u001b[0;31m# Evaluate on Test & Save results\u001b[0m\u001b[0;34m\u001b[0m\u001b[0;34m\u001b[0m\u001b[0;34m\u001b[0m\u001b[0m\n",
      "\u001b[0;32m<ipython-input-14-5a5862b6c682>\u001b[0m in \u001b[0;36mtrain_model\u001b[0;34m(model, train_features, train_label, epochs, batch_size, validation_split)\u001b[0m\n\u001b[1;32m     42\u001b[0m   \u001b[0;34m\"\"\"Train the model by feeding it data.\"\"\"\u001b[0m\u001b[0;34m\u001b[0m\u001b[0;34m\u001b[0m\u001b[0m\n\u001b[1;32m     43\u001b[0m \u001b[0;34m\u001b[0m\u001b[0m\n\u001b[0;32m---> 44\u001b[0;31m   history = model.fit(x=train_features, y=train_label, batch_size=batch_size,\n\u001b[0m\u001b[1;32m     45\u001b[0m                       \u001b[0mepochs\u001b[0m\u001b[0;34m=\u001b[0m\u001b[0mepochs\u001b[0m\u001b[0;34m,\u001b[0m \u001b[0mshuffle\u001b[0m\u001b[0;34m=\u001b[0m\u001b[0;32mTrue\u001b[0m\u001b[0;34m,\u001b[0m\u001b[0;34m\u001b[0m\u001b[0;34m\u001b[0m\u001b[0m\n\u001b[1;32m     46\u001b[0m                       validation_split=validation_split, verbose=0)\n",
      "\u001b[0;32m~/opt/anaconda3/lib/python3.8/site-packages/keras/engine/training.py\u001b[0m in \u001b[0;36mfit\u001b[0;34m(self, x, y, batch_size, epochs, verbose, callbacks, validation_split, validation_data, shuffle, class_weight, sample_weight, initial_epoch, steps_per_epoch, validation_steps, validation_batch_size, validation_freq, max_queue_size, workers, use_multiprocessing)\u001b[0m\n\u001b[1;32m   1182\u001b[0m                 _r=1):\n\u001b[1;32m   1183\u001b[0m               \u001b[0mcallbacks\u001b[0m\u001b[0;34m.\u001b[0m\u001b[0mon_train_batch_begin\u001b[0m\u001b[0;34m(\u001b[0m\u001b[0mstep\u001b[0m\u001b[0;34m)\u001b[0m\u001b[0;34m\u001b[0m\u001b[0;34m\u001b[0m\u001b[0m\n\u001b[0;32m-> 1184\u001b[0;31m               \u001b[0mtmp_logs\u001b[0m \u001b[0;34m=\u001b[0m \u001b[0mself\u001b[0m\u001b[0;34m.\u001b[0m\u001b[0mtrain_function\u001b[0m\u001b[0;34m(\u001b[0m\u001b[0miterator\u001b[0m\u001b[0;34m)\u001b[0m\u001b[0;34m\u001b[0m\u001b[0;34m\u001b[0m\u001b[0m\n\u001b[0m\u001b[1;32m   1185\u001b[0m               \u001b[0;32mif\u001b[0m \u001b[0mdata_handler\u001b[0m\u001b[0;34m.\u001b[0m\u001b[0mshould_sync\u001b[0m\u001b[0;34m:\u001b[0m\u001b[0;34m\u001b[0m\u001b[0;34m\u001b[0m\u001b[0m\n\u001b[1;32m   1186\u001b[0m                 \u001b[0mcontext\u001b[0m\u001b[0;34m.\u001b[0m\u001b[0masync_wait\u001b[0m\u001b[0;34m(\u001b[0m\u001b[0;34m)\u001b[0m\u001b[0;34m\u001b[0m\u001b[0;34m\u001b[0m\u001b[0m\n",
      "\u001b[0;32m~/opt/anaconda3/lib/python3.8/site-packages/tensorflow/python/eager/def_function.py\u001b[0m in \u001b[0;36m__call__\u001b[0;34m(self, *args, **kwds)\u001b[0m\n\u001b[1;32m    883\u001b[0m \u001b[0;34m\u001b[0m\u001b[0m\n\u001b[1;32m    884\u001b[0m       \u001b[0;32mwith\u001b[0m \u001b[0mOptionalXlaContext\u001b[0m\u001b[0;34m(\u001b[0m\u001b[0mself\u001b[0m\u001b[0;34m.\u001b[0m\u001b[0m_jit_compile\u001b[0m\u001b[0;34m)\u001b[0m\u001b[0;34m:\u001b[0m\u001b[0;34m\u001b[0m\u001b[0;34m\u001b[0m\u001b[0m\n\u001b[0;32m--> 885\u001b[0;31m         \u001b[0mresult\u001b[0m \u001b[0;34m=\u001b[0m \u001b[0mself\u001b[0m\u001b[0;34m.\u001b[0m\u001b[0m_call\u001b[0m\u001b[0;34m(\u001b[0m\u001b[0;34m*\u001b[0m\u001b[0margs\u001b[0m\u001b[0;34m,\u001b[0m \u001b[0;34m**\u001b[0m\u001b[0mkwds\u001b[0m\u001b[0;34m)\u001b[0m\u001b[0;34m\u001b[0m\u001b[0;34m\u001b[0m\u001b[0m\n\u001b[0m\u001b[1;32m    886\u001b[0m \u001b[0;34m\u001b[0m\u001b[0m\n\u001b[1;32m    887\u001b[0m       \u001b[0mnew_tracing_count\u001b[0m \u001b[0;34m=\u001b[0m \u001b[0mself\u001b[0m\u001b[0;34m.\u001b[0m\u001b[0mexperimental_get_tracing_count\u001b[0m\u001b[0;34m(\u001b[0m\u001b[0;34m)\u001b[0m\u001b[0;34m\u001b[0m\u001b[0;34m\u001b[0m\u001b[0m\n",
      "\u001b[0;32m~/opt/anaconda3/lib/python3.8/site-packages/tensorflow/python/eager/def_function.py\u001b[0m in \u001b[0;36m_call\u001b[0;34m(self, *args, **kwds)\u001b[0m\n\u001b[1;32m    948\u001b[0m         \u001b[0;31m# Lifting succeeded, so variables are initialized and we can run the\u001b[0m\u001b[0;34m\u001b[0m\u001b[0;34m\u001b[0m\u001b[0;34m\u001b[0m\u001b[0m\n\u001b[1;32m    949\u001b[0m         \u001b[0;31m# stateless function.\u001b[0m\u001b[0;34m\u001b[0m\u001b[0;34m\u001b[0m\u001b[0;34m\u001b[0m\u001b[0m\n\u001b[0;32m--> 950\u001b[0;31m         \u001b[0;32mreturn\u001b[0m \u001b[0mself\u001b[0m\u001b[0;34m.\u001b[0m\u001b[0m_stateless_fn\u001b[0m\u001b[0;34m(\u001b[0m\u001b[0;34m*\u001b[0m\u001b[0margs\u001b[0m\u001b[0;34m,\u001b[0m \u001b[0;34m**\u001b[0m\u001b[0mkwds\u001b[0m\u001b[0;34m)\u001b[0m\u001b[0;34m\u001b[0m\u001b[0;34m\u001b[0m\u001b[0m\n\u001b[0m\u001b[1;32m    951\u001b[0m     \u001b[0;32melse\u001b[0m\u001b[0;34m:\u001b[0m\u001b[0;34m\u001b[0m\u001b[0;34m\u001b[0m\u001b[0m\n\u001b[1;32m    952\u001b[0m       \u001b[0m_\u001b[0m\u001b[0;34m,\u001b[0m \u001b[0m_\u001b[0m\u001b[0;34m,\u001b[0m \u001b[0m_\u001b[0m\u001b[0;34m,\u001b[0m \u001b[0mfiltered_flat_args\u001b[0m \u001b[0;34m=\u001b[0m\u001b[0;31m \u001b[0m\u001b[0;31m\\\u001b[0m\u001b[0;34m\u001b[0m\u001b[0;34m\u001b[0m\u001b[0m\n",
      "\u001b[0;32m~/opt/anaconda3/lib/python3.8/site-packages/tensorflow/python/eager/function.py\u001b[0m in \u001b[0;36m__call__\u001b[0;34m(self, *args, **kwargs)\u001b[0m\n\u001b[1;32m   3037\u001b[0m       (graph_function,\n\u001b[1;32m   3038\u001b[0m        filtered_flat_args) = self._maybe_define_function(args, kwargs)\n\u001b[0;32m-> 3039\u001b[0;31m     return graph_function._call_flat(\n\u001b[0m\u001b[1;32m   3040\u001b[0m         filtered_flat_args, captured_inputs=graph_function.captured_inputs)  # pylint: disable=protected-access\n\u001b[1;32m   3041\u001b[0m \u001b[0;34m\u001b[0m\u001b[0m\n",
      "\u001b[0;32m~/opt/anaconda3/lib/python3.8/site-packages/tensorflow/python/eager/function.py\u001b[0m in \u001b[0;36m_call_flat\u001b[0;34m(self, args, captured_inputs, cancellation_manager)\u001b[0m\n\u001b[1;32m   1961\u001b[0m         and executing_eagerly):\n\u001b[1;32m   1962\u001b[0m       \u001b[0;31m# No tape is watching; skip to running the function.\u001b[0m\u001b[0;34m\u001b[0m\u001b[0;34m\u001b[0m\u001b[0;34m\u001b[0m\u001b[0m\n\u001b[0;32m-> 1963\u001b[0;31m       return self._build_call_outputs(self._inference_function.call(\n\u001b[0m\u001b[1;32m   1964\u001b[0m           ctx, args, cancellation_manager=cancellation_manager))\n\u001b[1;32m   1965\u001b[0m     forward_backward = self._select_forward_and_backward_functions(\n",
      "\u001b[0;32m~/opt/anaconda3/lib/python3.8/site-packages/tensorflow/python/eager/function.py\u001b[0m in \u001b[0;36mcall\u001b[0;34m(self, ctx, args, cancellation_manager)\u001b[0m\n\u001b[1;32m    589\u001b[0m       \u001b[0;32mwith\u001b[0m \u001b[0m_InterpolateFunctionError\u001b[0m\u001b[0;34m(\u001b[0m\u001b[0mself\u001b[0m\u001b[0;34m)\u001b[0m\u001b[0;34m:\u001b[0m\u001b[0;34m\u001b[0m\u001b[0;34m\u001b[0m\u001b[0m\n\u001b[1;32m    590\u001b[0m         \u001b[0;32mif\u001b[0m \u001b[0mcancellation_manager\u001b[0m \u001b[0;32mis\u001b[0m \u001b[0;32mNone\u001b[0m\u001b[0;34m:\u001b[0m\u001b[0;34m\u001b[0m\u001b[0;34m\u001b[0m\u001b[0m\n\u001b[0;32m--> 591\u001b[0;31m           outputs = execute.execute(\n\u001b[0m\u001b[1;32m    592\u001b[0m               \u001b[0mstr\u001b[0m\u001b[0;34m(\u001b[0m\u001b[0mself\u001b[0m\u001b[0;34m.\u001b[0m\u001b[0msignature\u001b[0m\u001b[0;34m.\u001b[0m\u001b[0mname\u001b[0m\u001b[0;34m)\u001b[0m\u001b[0;34m,\u001b[0m\u001b[0;34m\u001b[0m\u001b[0;34m\u001b[0m\u001b[0m\n\u001b[1;32m    593\u001b[0m               \u001b[0mnum_outputs\u001b[0m\u001b[0;34m=\u001b[0m\u001b[0mself\u001b[0m\u001b[0;34m.\u001b[0m\u001b[0m_num_outputs\u001b[0m\u001b[0;34m,\u001b[0m\u001b[0;34m\u001b[0m\u001b[0;34m\u001b[0m\u001b[0m\n",
      "\u001b[0;32m~/opt/anaconda3/lib/python3.8/site-packages/tensorflow/python/eager/execute.py\u001b[0m in \u001b[0;36mquick_execute\u001b[0;34m(op_name, num_outputs, inputs, attrs, ctx, name)\u001b[0m\n\u001b[1;32m     57\u001b[0m   \u001b[0;32mtry\u001b[0m\u001b[0;34m:\u001b[0m\u001b[0;34m\u001b[0m\u001b[0;34m\u001b[0m\u001b[0m\n\u001b[1;32m     58\u001b[0m     \u001b[0mctx\u001b[0m\u001b[0;34m.\u001b[0m\u001b[0mensure_initialized\u001b[0m\u001b[0;34m(\u001b[0m\u001b[0;34m)\u001b[0m\u001b[0;34m\u001b[0m\u001b[0;34m\u001b[0m\u001b[0m\n\u001b[0;32m---> 59\u001b[0;31m     tensors = pywrap_tfe.TFE_Py_Execute(ctx._handle, device_name, op_name,\n\u001b[0m\u001b[1;32m     60\u001b[0m                                         inputs, attrs, num_outputs)\n\u001b[1;32m     61\u001b[0m   \u001b[0;32mexcept\u001b[0m \u001b[0mcore\u001b[0m\u001b[0;34m.\u001b[0m\u001b[0m_NotOkStatusException\u001b[0m \u001b[0;32mas\u001b[0m \u001b[0me\u001b[0m\u001b[0;34m:\u001b[0m\u001b[0;34m\u001b[0m\u001b[0;34m\u001b[0m\u001b[0m\n",
      "\u001b[0;31mInvalidArgumentError\u001b[0m:  Received a label value of 255 which is outside the valid range of [0, 3).  Label values: 0 0 0 1 0 0 0 0 255 255 255 0 255 255 255 1 1 1 1 0 0 0 1 0 255 1 255 255 0 0 255 255 255 0 0 0 0 255 0 255 255 255 0 0 0 255 1 255 0 255 1 1 0 0 255 0 0 0 255 1 255 0 0 0 255 0 255 0 0 0 255 1 0 255 255 0 0 0 1 1 0 255 255 0 255 255 255 1 0 0 255 0 1 255 0 0 255 0 0 255 255 0 255 0 0 0 1 1 255 255 255 0 255 0 255 0 0 255 255 1 255 0 1 0 255 255 255 255 1 1 0 1 0 0 0 0 255 255 0 255 255 255 0 255 1 255 255 255 255 0 255 0 255 0 0 255 1 0 0 255 255 255 255 255 255 255 0 1 255 0 255 1 255 255 0 1 255 255 255 255 0 0 0 0 255 0 0 0 255 1 0 0 0 255 1 0 0 255 0 255 1 1 0 255 0 0 0 1 255 255 255 1 0 255 255 255 255 255 255 255 255 255 1 255 255 255 0 0 0 0 255 0 255 0 0 0 255 255 0 0 255 0 255 0 0 255 255 0 255 255 255 0 0 0 0 255 255 255 255 0 0 0 255 255 0 1 0 0 0 1 1 0 0 255 0 0 1 255 255 0 255 255 255 255 0 255 0 255 1 0 0 255 255 255 0 1 0 0 0 255 255 1 0 255 0 0 0 0 255 255 255 0 255 255 0 255 255 255 0 1 0 255 0 0 0 255 0 0 0 0 0 255 255 1 0 1 255 255 255 0 1 255 0 255 255 0 255 0 1 1 0 0 0 0 255 1 0 0 0 0 255 0 255 255 0 0 0 0 0 1 255 255 255 255 255 255 0 1 1 255 0 0 0 0 0 0 0 0 255 255 255 255 255 0 1 0 0 0 255 1 1 255 0 0 0 1 255 0 255 0 255 0 255 0 255 1 0 255 1 255 0 255 1 255 0 255 255 0 1 1 1 255 255 0 1 255 255 1 255 255 1 0 255 1 255 255 1 255 0 1 255 0 0 255 255 0 0 255 0 255 255 255 1 255 0 255 0 0 0 1 0 255 1 0 255 255 255 0 0 255 0 0 0 0 255 255 1 255 0 255 1 255 1 255 0 255 0 0 0 255 1 255 0 0 255 0 255 255 0 255 1 0 255 255 0 1 0 1 255 1 0 0 255 255 0 255 0 0 255 1 255 255 1 0 0 0 255 0 0 255 1 0 1 0 1 1 255 0 255 255 1 0 0 255 0 0 0 255 255 0 1 0 0 1 255 0 0 0 0 255 255 1 255 255 0 0 0 255 0 255 1 255 255 0 255 255 255 255 255 0 1 0 1 255 0 255 0 0 0 0 1 0 0 255 1 255 0 0 255 255 255 255 255 255 255 1 0 255 255 255 0 1 0 0 1 255 0 0 0 0 0 255 0 0 0 255 255 255 255 255 255 0 255 1 0 255 255 255 1 0 255 0 0 0 0 0 1 0 1 255 0 255 255 255 1 255 0 1 255 255 255 255 1 255 255 255 0 0 0 255 255 255 255 255 0 0 0 0 255 255 255 1 255 1 0 255 255 255 255 0 0 0 0 1 1 0 0 255 255 0 0 0 255 255 255 255 1 255 255 255 0 0 0 0 255 255 0 255 255 255 255 1 1 1 0 255 0 255 255 255 0 1 255 255 0 255 1 255 0 255 0 255 255 0 255 255 255 255 0 1 255 255 1 1 0 255 1 255 255 0 1 255 255 255 0 255 255 1 0 255 0 0 0 255 1 255 255 1 0 1 255 1 255 255 0 255 0 0 1 255 255 255 0 0 255 255 255 255 0 0 0 255 1 255 0 0 0 0 255 1 255 0 0 255 1 1 255 1 0 255 0 1 0 255 255 1 0 0 255 1 0 255 1 255 255 0 255 255 255 1 0 1 0 0 1 1 0 0 0 255 0 1 1 255 0 255 1 255 255 255 0 0 0 1 0 0 0 0 0 0 0 0 255 1 255 0 255 255 255 1 255 0 0 255 0 0 0 0 255 255 0 255 0 1 0 255 0 1 255 255 255 255 0 0 0 255 0 255 0 255 255 255 255 255 0 0 255 1 255 255 0 1 0 1 0 255 255 1 1 1 0 0 1 255 0 1 1 0 1 255 255 1 0 1 0 0 0 255 0 0 1 1 255 0 0 1 0 0 0 1 1 0 0 255 0 0 0 1 1 0 255 255 0 0 255 0 0 255 1 255 0 255 0 1 1 1 0 255 1 255 255 0 255 255 0 255 1 0 255 255 1 0 255 0 0 0 0 255 1 0 255 255 255 0 255 255 255 255 1 255 255 0 0 255 0 0 0 0 0 255 255 255 255 0 0 255 255 255 255 255 0 255 255 1 1 255 255 0 1 255 0 0 0 255 255 255 0 255 0 0 255 0 255 0 255 0 255 0 0 255 255 0 1 255 1 255 255 255 0 0 0 255 0 0 255 255 0 255 255 255 1 255 1 255 255 255 255 1 255 255 255 255 255 0 0 0 0 0 255 0 255 1 1 1 0 0 1 255 0 255 255 255 1 0 0 0 0 255 1 0 1 255 1 0 255 0 0 0 1 255 255 1 0 255 1 255 1 1 0 255 0 1 0 255 0 255 0 255 1 255 0 255 255 1 0 255 0 0 255 0 0 255 0 1 255 0 0 0 255 0 1 0 255 255 255 1 0 1 255 1 255 255 0 255 0 255 0 0 255 1 0 255 255 0 255 255 1 0 1 0 0 255 255 255 1 255 255 0 1 0 255 255 255 255 1 1 255 0 0 0 255 255 0 1 0 255 0 255 0 0 255 0 1 1 255 0 0 255 0 0 255 255 1 1 255 0 0 0 0 0 1 0 1 255 255 255 0 255 255 0 255 0 0 0 255 0 1 1 1 0 255 1 255 0 0 0 255 255 1 1 255 255 1 0 255 255 0 0 255 255 0 255 255 255 0 0 255 255 255 255 0 0 255 255 0 255 255 0 255 0 255 0 1 0 255 255 255 0 0 255 255 0 255 1 255 0 0 0 0 255 255 0 0 0 255 0 255 255 0 255 255 0 255 1 0 0 255 255 0 255 255 0 255 255 255 255 0 255 255 255 1 0 255 1 255 0 255 255 255 1 0 1 1 0 255 255 0 255 255 255 255 255 1 0 0 255 0 0 255 255 0 255 0 255 255 255 0 1 0 255 255 255 0 1 255 0 255 255 255 0 0 1 0 0 0 0 0 255 255 255 0 0 0 255 0 0 0 0 1 0 0 255 1 0 255 255 0 1 255 255 255 255 0 255 0 0 0 255 255 0 255 255 0 255 0 255 255 255 0 0 0 0 1 0 0 255 255 255 0 0 255 255 0 0 255 255 255 255 0 0 1 0 0 1 0 0 255 0 0 0 255 0 0 0 255 0 1 0 1 0 255 0 255 0 0 0 0 0 255 255 0 255 1 0 255 0 255 0 1 255 255 1 255 255 255 1 255 255 255 0 0 255 0 0 255 1 255 255 255 255 255 255 0 255 255 0 0 1 0 255 1 255 255 0 255 0 0 0 255 0 1 1 255 255 255 255 0 255 255 0 255 0 0 1 255 1 0 0 255 255 0 1 1 255 255 255 255 1 0 255 0 255 0 255 255 255 0 0 0 0 255 1 255 255 1 0 1 0 0 0 255 0 1 0 255 255 255 255 0 255 0 0 0 1 0 255 0 255 255 0 255 255 0 255 0 1 255 255 255 1 255 0 1 255 1 0 0 1 0 0 255 255 0 255 255 1 255 1 0 1 0 0 255 0 0 255 255 0 255 255 0 255 0 255 255 255 1 255 0 255 0 1 255 255 255 0 255 255 255 255 255 0 1 255 0 255 255 255 255 255 1 1 255 1 1 255 255 0 1 255 0 1 1 0 0 255 0 1 0 0 255 0 255 0 1 1 255 0 255 1 0 1 255 255 0 0 255 0 255 1 0 0 255 0 0 0 0 1 0 0 0 0 255 0 0 0 255 0 0 1 0 0 0 0 0 0 0 255 0 1 0 1 255 0 1 0 255 0 0 0 1 1 255 0 255 0 0 255 0 0 0 255 0 1 0 0 255 0 0 1 1 255 0 0 255 1 255 0 0 0 255 0 255 255 1 255 255 1 255 255 1 255 255 255 255 0 255 0 0 255 0 1 0 0 255 255 255 255 0 1 0 0 0 1 255 0 1 1 255 255 255 255 0 255 0 255 255 0 0 255 0 255 255 0 1 0 255 0 0 255 0 255 255 255 0 255 0 255 0 0 0 0 1 0 0 255 255 0 255 1 255 0 1 1 255 0 255 0 1 255 0 255 0 1 255 255 0 0 255 255 0 255 0 255 1 0 1 255 255 0 255 0 0 255 0 1 255 1 1 0 1 0 255 255 1 255 255 1 255 0 255 255 1 0 255 0 255 0 0 0 0 1 255 255 255 0 0 255 0 255 255 0 0 255 255 0 255 0 0 255 0 255 255 0 255 0 0 1 255 0 0 255 0 1 0 0 255 1 1 255 255 1 1 0 0 0 255 255 1 0 255 1 0 1 0 1 255 0 255 0 255 255 255 255 255 0 255 0 0 255 255 255 0 255 0 255 0 0 1 0 255 1 0 1 255 0 1 0 0 1 0 255 255 0 0 0 1 255 0 0 0 1 255 255 0 255 0 0 255 255 1 1 0 255 255 255 255 0 255 255 0 1 255 255 0 1 0 0 0 0 255 0 255 1 0 255 255 0 255 255 255 0 255 0 0 255 255 255 0 0 0 0 255 255 0 0 0 0 1 255 255 255 255 0 0 1 255 0 0 0 0 1 0 255 255 0 255 0 0 1 255 255 0 255 0 255 0 255 0 255 0 0 0 1 0 1 0 255 0 255 255 255 0 0 255 255 1 255 1 255 0 255 1 0 1 255 0 1 255 0 0 1 0 255 1 0 1 0 1 1 255 0 255 255 255 0 1 0 255 0 255 255 0 255 0 1 255 0 255 0 0 0 0 255 1 255 0 1 255 0 1 0 1 255 0 0 255 255 0 255 0 255 255 1 255 1 255 255 0 0 255 255 1 0 255 255 0 255 255 0 0 255 0 255 255 255 0 255 255 0 255 255 255 255 255 255 0 255 0 255 1 255 255 0 0 255 1 255 1 0 1 0 255 0 255 0 0 255 0 0 255 255 255 255 0 255 0 1 0 255 1 255 0 0 1 0 0 1 1 255 0 255 255 0 1 255 255 0 0 0 1 0 0 255 1 255 255 255 255 0 0 0 255 255 0 0 0 0 0 0 0 0 255 0 255 0 0 255 1 255 0 255 0 0 1 0 255 1 255 0 255 1 255 1 255 1 0 255 255 1 0 0 0 255 255 0 255 1 255 1 0 0 0 255 255 0 0 0 255 255 0 1 0 1 255 0 0 255 0 0 255 0 0 1 255 0 255 255 255 1 1 255 255 255 0 1 0 0 1 0 0 1 0 1 0 0 1 0 255 255 0 0 255 1 255 255 0 0 1 255 0 255 255 0 255 0 255 255 255 0 255 0 255 0 255 255 255 255 255 0 0 0 0 1 255 255 0 0 1 255 255 255 1 255 255 255 0 255 1 0 255 0 255 1 1 0 255 255 255 255 0 0 0 0 0 0 255 0 255 0 255 255 255 0 255 255 255 255 0 255 0 1 0 0 0 255 0 255 255 1 255 0 1 0 1 0 255 0 0 0 0 1 255 255 0 0 0 0 0 255 1 0 255 0 1 255 0 1 255 0 1 255 1 0 1 255 1 0 0 1 255 255 255 0 0 255 255 0 0 0 0 0 0 1 0 1 0 255 255 1 0 1 255 255 255 1 255 0 0 1 255 0 255 0 0 255 0 0 255 0 255 0 0 255 255 0 1 255 255 255 0 255 0 1 255 0 0 1 0 0 0 0 0 0 0 255 1 255 255 255 255 1 0 255 255 255 0 0 0 0 255 0 0 255 1 0 0 0 0 255 255 0 1 255 255 255 0 255 0 255 1 0 1 255 255 1 1 0 255 255 0 1 0 0 255 0 0 0 0 255 1 255 255 0 0 1 0 255 0 1 0 255 255 0 1 0 0 255 0 255 255 0 0 255 1 0 0 0 0 255 0 255 0 255 0 0 1 1 0 255 0 0 255 255 0 0 255 255 255 0 1 0 255 255 255 0 0 255 1 0 255 1 255 1 0 0 0 255 1 1 0 0 0 0 0 1 1 255 0 255 0 1 1 1 1 0 0 255 0 0 255 255 255 0 255 1 255 1 255 0 0 255 0 255 255 255 0 1 0 0 0 255 0 255 1 0 0 255 0 255 255 0 255 0 0 0 255 0 0 0 0 255 0 1 255 255 0 255 255 0 0 0 255 255 255 255 255 0 255 1 255 1 0 255 0 1 0 255 255 255 0 0 0 255 0 255 255 0 255 255 255 0 255 255 0 255 1 0 1 255 255 255 1 255 1 1 0 1 0 0 255 0 0 1 255 255 1 255 255 255 255 255 0 0 0 0 255 255 0 255 1 255 255 0 0 255 255 1 1 255 1 0 255 1 255 0 255 1 1 0 0 0 0 255 255 255 255 0 0 1 1 255 0 0 0 255 0 0 255 1 255 255 255 255 0 255 255 1 0 255 255 1 1 0 255 255 0 0 255 1 255 0 0 1 255 0 255 0 0 1 0 0 255 255 0 255 1 255 0 1 255 255 0 255 1 0 0 1 1 1 0 0 255 1 0 0 0 0 1 255 0 0 255 255 0 0 0 0 1 255 0 1 0 0 255 0 0 0 1 1 1 0 0 0 0 255 1 255 255 0 255 255 0\n\t [[node sparse_categorical_crossentropy/SparseSoftmaxCrossEntropyWithLogits/SparseSoftmaxCrossEntropyWithLogits (defined at <ipython-input-14-5a5862b6c682>:44) ]] [Op:__inference_train_function_488]\n\nFunction call stack:\ntrain_function\n"
     ]
    }
   ],
   "source": [
    "# # Train the model on the normalized training set.\n",
    "# hist = train_model(model, X_train, y_train, epochs, batch_size, validation_split)\n",
    "# # Plot a graph of the metric vs. epochs.\n",
    "# plot_curve(hist)\n",
    "# # Evaluate on Test & Save results\n",
    "# results.loc['smote'] = list(model.evaluate(X_test, y_test))"
   ]
  },
  {
   "cell_type": "code",
   "execution_count": null,
   "metadata": {},
   "outputs": [],
   "source": [
    "predict_x=my_model.predict(X_test) \n",
    "predictions=np.argmax(predict_x,axis=1)"
   ]
  },
  {
   "cell_type": "code",
   "execution_count": null,
   "metadata": {},
   "outputs": [],
   "source": [
    "predict_x"
   ]
  },
  {
   "cell_type": "code",
   "execution_count": null,
   "metadata": {},
   "outputs": [],
   "source": [
    "set(predictions)"
   ]
  },
  {
   "cell_type": "code",
   "execution_count": null,
   "metadata": {},
   "outputs": [],
   "source": [
    "np.array(y_test_df['decision'].astype('string'))"
   ]
  },
  {
   "cell_type": "code",
   "execution_count": null,
   "metadata": {},
   "outputs": [],
   "source": [
    "sklearn.metrics.multilabel_confusion_matrix(\n",
    "    np.array(y_test_df['decision']),\n",
    "    classes_x,\n",
    "    labels=[0,1,-1]\n",
    "    # num_classes=3,\n",
    "    # weights=None,\n",
    "    # dtype=tf.dtypes.int32,\n",
    "    # name=None\n",
    ")"
   ]
  },
  {
   "cell_type": "markdown",
   "metadata": {},
   "source": [
    "Random Oversampling Results"
   ]
  },
  {
   "cell_type": "code",
   "execution_count": null,
   "metadata": {},
   "outputs": [],
   "source": [
    "X_train, X_test, y_train, y_test = shuffle_numpy_encode(random_oversampling[0], X_test_df, random_oversampling[1], y_test_df)"
   ]
  },
  {
   "cell_type": "code",
   "execution_count": null,
   "metadata": {},
   "outputs": [],
   "source": [
    "# Train the model on the normalized training set.\n",
    "hist = train_model(my_model, X_train, y_train, epochs, batch_size, validation_split)\n",
    "# Plot a graph of the metric vs. epochs.\n",
    "plot_curve(hist)\n",
    "# Evaluate on Test & Save results\n",
    "results.loc['random_oversampling'] = list(my_model.evaluate(X_test, y_test))"
   ]
  },
  {
   "cell_type": "markdown",
   "metadata": {},
   "source": [
    "ADASYN"
   ]
  },
  {
   "cell_type": "code",
   "execution_count": null,
   "metadata": {},
   "outputs": [],
   "source": [
    "X_train, X_test, y_train, y_test = shuffle_numpy_encode(ada[0], X_test_df, ada[1], y_test_df)"
   ]
  },
  {
   "cell_type": "code",
   "execution_count": null,
   "metadata": {},
   "outputs": [],
   "source": [
    "# Train the model on the normalized training set.\n",
    "hist = train_model(my_model, X_train, y_train, epochs, batch_size, validation_split)\n",
    "# Plot a graph of the metric vs. epochs.\n",
    "plot_curve(hist)\n",
    "# Evaluate on Test & Save results\n",
    "results.loc['adasyn'] = list(my_model.evaluate(X_test, y_test))"
   ]
  },
  {
   "cell_type": "markdown",
   "metadata": {},
   "source": [
    "### Results"
   ]
  },
  {
   "cell_type": "code",
   "execution_count": null,
   "metadata": {},
   "outputs": [],
   "source": [
    "# 3 percent\n",
    "results['f1'] = 2 * (results['precision'] * results['recall']) / (results['precision'] + results['recall'])\n",
    "results "
   ]
  },
  {
   "cell_type": "code",
   "execution_count": null,
   "metadata": {},
   "outputs": [],
   "source": [
    "# 5 percent\n",
    "results['f1'] = 2 * (results['precision'] * results['recall']) / (results['precision'] + results['recall'])\n",
    "results "
   ]
  },
  {
   "cell_type": "code",
   "execution_count": null,
   "metadata": {},
   "outputs": [],
   "source": []
  }
 ],
 "metadata": {
  "kernelspec": {
   "display_name": "Python 3.8.8 ('base')",
   "language": "python",
   "name": "python3"
  },
  "language_info": {
   "codemirror_mode": {
    "name": "ipython",
    "version": 3
   },
   "file_extension": ".py",
   "mimetype": "text/x-python",
   "name": "python",
   "nbconvert_exporter": "python",
   "pygments_lexer": "ipython3",
   "version": "3.8.8"
  },
  "orig_nbformat": 4,
  "vscode": {
   "interpreter": {
    "hash": "7d4736924dd4ee01619834d3df5aac36876c141d93beb7feebfa3d7eb88b873d"
   }
  }
 },
 "nbformat": 4,
 "nbformat_minor": 2
}
