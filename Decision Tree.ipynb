{
 "cells": [
  {
   "cell_type": "code",
   "execution_count": 7,
   "id": "5de875db",
   "metadata": {},
   "outputs": [],
   "source": [
    "import pandas as pd \n",
    "import numpy as np"
   ]
  },
  {
   "cell_type": "code",
   "execution_count": 8,
   "id": "996ae85d",
   "metadata": {},
   "outputs": [],
   "source": [
    "X_train3 = pd.read_excel(r\"C:\\Users\\chloe\\Desktop\\Y4S1\\BT4222 DATA MINING\\GROUP PROJECT\\x_train3.xlsx\")\n",
    "y_train3 = pd.read_excel(r\"C:\\Users\\chloe\\Desktop\\Y4S1\\BT4222 DATA MINING\\GROUP PROJECT\\y_train3.xlsx\")\n",
    "\n",
    "X_test3 = pd.read_excel(r\"C:\\Users\\chloe\\Desktop\\Y4S1\\BT4222 DATA MINING\\GROUP PROJECT\\x_test3.xlsx\")\n",
    "y_test3 = pd.read_excel(r\"C:\\Users\\chloe\\Desktop\\Y4S1\\BT4222 DATA MINING\\GROUP PROJECT\\y_test3.xlsx\")"
   ]
  },
  {
   "cell_type": "code",
   "execution_count": 9,
   "id": "99fbc55c",
   "metadata": {},
   "outputs": [],
   "source": [
    "X_train5 = pd.read_excel(r\"C:\\Users\\chloe\\Desktop\\Y4S1\\BT4222 DATA MINING\\GROUP PROJECT\\x_train5.xlsx\")\n",
    "y_train5 = pd.read_excel(r\"C:\\Users\\chloe\\Desktop\\Y4S1\\BT4222 DATA MINING\\GROUP PROJECT\\y_train5.xlsx\")\n",
    "\n",
    "X_test5 = pd.read_excel(r\"C:\\Users\\chloe\\Desktop\\Y4S1\\BT4222 DATA MINING\\GROUP PROJECT\\x_test5.xlsx\")\n",
    "y_test5 = pd.read_excel(r\"C:\\Users\\chloe\\Desktop\\Y4S1\\BT4222 DATA MINING\\GROUP PROJECT\\y_test5.xlsx\")"
   ]
  },
  {
   "cell_type": "code",
   "execution_count": 10,
   "id": "b5687f2b",
   "metadata": {},
   "outputs": [],
   "source": [
    "X_train3 = X_train3.iloc[: , 1:]\n",
    "y_train3 = y_train3.iloc[: , 1:]\n",
    "\n",
    "X_test3 = X_test3.iloc[: , 1:]\n",
    "y_test3 = y_test3.iloc[: , 1:]"
   ]
  },
  {
   "cell_type": "code",
   "execution_count": 11,
   "id": "8222f0da",
   "metadata": {},
   "outputs": [],
   "source": [
    "X_train5 = X_train5.iloc[: , 1:]\n",
    "y_train5 = y_train5.iloc[: , 1:]\n",
    "\n",
    "X_test5 = X_test5.iloc[: , 1:]\n",
    "y_test5 = y_test5.iloc[: , 1:]"
   ]
  },
  {
   "cell_type": "code",
   "execution_count": 12,
   "id": "fb6e5c16",
   "metadata": {},
   "outputs": [],
   "source": [
    "import sklearn\n",
    "assert sklearn.__version__ >= \"0.20\"\n",
    "\n",
    "from sklearn.metrics import accuracy_score\n",
    "from sklearn.metrics import confusion_matrix\n",
    "from sklearn.metrics import precision_score, recall_score\n",
    "from sklearn.utils import resample\n",
    "from imblearn.over_sampling import SMOTE"
   ]
  },
  {
   "cell_type": "markdown",
   "id": "8be53e53",
   "metadata": {},
   "source": [
    "# SKLEARN RESAMPLE"
   ]
  },
  {
   "cell_type": "code",
   "execution_count": 13,
   "id": "c35970c3",
   "metadata": {},
   "outputs": [
    {
     "data": {
      "text/plain": [
       " 0    1264\n",
       "-1    1264\n",
       " 1    1264\n",
       "Name: decision, dtype: int64"
      ]
     },
     "execution_count": 13,
     "metadata": {},
     "output_type": "execute_result"
    }
   ],
   "source": [
    "df_train3 = pd.concat([X_train3, y_train3], axis=1)\n",
    "df_train_hold3 = df_train3[(df_train3['decision']==0)] \n",
    "df_train_buy3 = df_train3[(df_train3['decision']==-1)] \n",
    "df_train_sell3 = df_train3[(df_train3['decision']==1)] \n",
    "\n",
    "# upsample buy and sell class\n",
    "df_train_buy_upsampled3 = resample(df_train_buy3, \n",
    "                                 replace=True,    # sample with replacement\n",
    "                                 n_samples= len(df_train_hold3)) # to match majority class\n",
    "\n",
    "df_train_sell_upsampled3 = resample(df_train_sell3, \n",
    "                                 replace=True,    # sample with replacement\n",
    "                                 n_samples= len(df_train_hold3)) # to match majority class\n",
    "\n",
    "# Combine majority class with upsampled minority classes\n",
    "df_train_upsampled3 = pd.concat([df_train_buy_upsampled3, df_train_sell_upsampled3, df_train_hold3])\n",
    "X_train_upsampled3, y_train_upsampled3 = df_train_upsampled3.drop(columns=['decision']), df_train_upsampled3['decision']\n",
    "y_train_upsampled3.value_counts()"
   ]
  },
  {
   "cell_type": "code",
   "execution_count": 14,
   "id": "0208db2c",
   "metadata": {},
   "outputs": [
    {
     "data": {
      "text/plain": [
       " 0    2957\n",
       " 1     570\n",
       "-1     265\n",
       "Name: decision, dtype: int64"
      ]
     },
     "execution_count": 14,
     "metadata": {},
     "output_type": "execute_result"
    }
   ],
   "source": [
    "df_train5 = pd.concat([X_train5, y_train5], axis=1)\n",
    "df_train_hold5 = df_train5[(df_train3['decision']==0)] \n",
    "df_train_buy5 = df_train5[(df_train3['decision']==-1)] \n",
    "df_train_sell5 = df_train5[(df_train3['decision']==1)] \n",
    "\n",
    "# upsample buy and sell class\n",
    "df_train_buy_upsampled5 = resample(df_train_buy5, \n",
    "                                 replace=True,    # sample with replacement\n",
    "                                 n_samples= len(df_train_hold5)) # to match majority class\n",
    "\n",
    "df_train_sell_upsampled5 = resample(df_train_sell5, \n",
    "                                 replace=True,    # sample with replacement\n",
    "                                 n_samples= len(df_train_hold5)) # to match majority class\n",
    "\n",
    "# Combine majority class with upsampled minority classes\n",
    "df_train_upsampled5 = pd.concat([df_train_buy_upsampled5, df_train_sell_upsampled5, df_train_hold5])\n",
    "X_train_upsampled5, y_train_upsampled5 = df_train_upsampled5.drop(columns=['decision']), df_train_upsampled5['decision']\n",
    "y_train_upsampled5.value_counts()"
   ]
  },
  {
   "cell_type": "markdown",
   "id": "45d81b66",
   "metadata": {},
   "source": [
    "# SMOTE RESAMPLE"
   ]
  },
  {
   "cell_type": "code",
   "execution_count": 15,
   "id": "81f6dfca",
   "metadata": {},
   "outputs": [
    {
     "data": {
      "text/html": [
       "<div>\n",
       "<style scoped>\n",
       "    .dataframe tbody tr th:only-of-type {\n",
       "        vertical-align: middle;\n",
       "    }\n",
       "\n",
       "    .dataframe tbody tr th {\n",
       "        vertical-align: top;\n",
       "    }\n",
       "\n",
       "    .dataframe thead th {\n",
       "        text-align: right;\n",
       "    }\n",
       "</style>\n",
       "<table border=\"1\" class=\"dataframe\">\n",
       "  <thead>\n",
       "    <tr style=\"text-align: right;\">\n",
       "      <th></th>\n",
       "      <th>adj_close</th>\n",
       "      <th>reddit_pos_both</th>\n",
       "      <th>reddit_neg_both</th>\n",
       "      <th>reddit_neu_both</th>\n",
       "      <th>nyt_pos</th>\n",
       "      <th>nyt_neg</th>\n",
       "      <th>nyt_neu</th>\n",
       "      <th>quarterly_gdp_actual</th>\n",
       "      <th>monthly_cpi_actual</th>\n",
       "      <th>monthly_st_ir_actual</th>\n",
       "      <th>monthly_unemployment_actual</th>\n",
       "    </tr>\n",
       "  </thead>\n",
       "  <tbody>\n",
       "  </tbody>\n",
       "</table>\n",
       "</div>"
      ],
      "text/plain": [
       "Empty DataFrame\n",
       "Columns: [adj_close, reddit_pos_both, reddit_neg_both, reddit_neu_both, nyt_pos, nyt_neg, nyt_neu, quarterly_gdp_actual, monthly_cpi_actual, monthly_st_ir_actual, monthly_unemployment_actual]\n",
       "Index: []"
      ]
     },
     "execution_count": 15,
     "metadata": {},
     "output_type": "execute_result"
    }
   ],
   "source": [
    "X_train3[X_train3.isnull().any(axis=1)]"
   ]
  },
  {
   "cell_type": "code",
   "execution_count": 16,
   "id": "76d6c1c9",
   "metadata": {},
   "outputs": [
    {
     "data": {
      "text/plain": [
       "decision\n",
       "-1          1264\n",
       " 0          1264\n",
       " 1          1264\n",
       "dtype: int64"
      ]
     },
     "execution_count": 16,
     "metadata": {},
     "output_type": "execute_result"
    }
   ],
   "source": [
    "sm3 = SMOTE(sampling_strategy='not majority')\n",
    "X_train_oversampled3, y_train_oversampled3 = sm3.fit_resample(X_train3, y_train3)\n",
    "y_train_oversampled3.value_counts()"
   ]
  },
  {
   "cell_type": "code",
   "execution_count": 17,
   "id": "b110d1bc",
   "metadata": {},
   "outputs": [
    {
     "data": {
      "text/plain": [
       "decision\n",
       "-1          1436\n",
       " 0          1436\n",
       " 1          1436\n",
       "dtype: int64"
      ]
     },
     "execution_count": 17,
     "metadata": {},
     "output_type": "execute_result"
    }
   ],
   "source": [
    "sm5 = SMOTE(sampling_strategy='not majority')\n",
    "X_train_oversampled5, y_train_oversampled5 = sm5.fit_resample(X_train5, y_train5)\n",
    "y_train_oversampled5.value_counts()"
   ]
  },
  {
   "cell_type": "code",
   "execution_count": 18,
   "id": "fff95aa1",
   "metadata": {
    "scrolled": true
   },
   "outputs": [],
   "source": [
    "from sklearn.tree import DecisionTreeClassifier\n",
    "from sklearn.metrics import accuracy_score\n",
    "from sklearn.metrics import confusion_matrix"
   ]
  },
  {
   "cell_type": "markdown",
   "id": "e2ea6140",
   "metadata": {},
   "source": [
    "# Decision Tree Classifier"
   ]
  },
  {
   "cell_type": "code",
   "execution_count": 19,
   "id": "c93c4220",
   "metadata": {
    "scrolled": false
   },
   "outputs": [],
   "source": [
    "tree = DecisionTreeClassifier(max_depth=2, random_state=42)"
   ]
  },
  {
   "cell_type": "markdown",
   "id": "1234af50",
   "metadata": {},
   "source": [
    "## 3% Target Threshold"
   ]
  },
  {
   "cell_type": "code",
   "execution_count": 20,
   "id": "c6ba3564",
   "metadata": {
    "scrolled": true
   },
   "outputs": [
    {
     "data": {
      "text/html": [
       "<style>#sk-container-id-1 {color: black;background-color: white;}#sk-container-id-1 pre{padding: 0;}#sk-container-id-1 div.sk-toggleable {background-color: white;}#sk-container-id-1 label.sk-toggleable__label {cursor: pointer;display: block;width: 100%;margin-bottom: 0;padding: 0.3em;box-sizing: border-box;text-align: center;}#sk-container-id-1 label.sk-toggleable__label-arrow:before {content: \"▸\";float: left;margin-right: 0.25em;color: #696969;}#sk-container-id-1 label.sk-toggleable__label-arrow:hover:before {color: black;}#sk-container-id-1 div.sk-estimator:hover label.sk-toggleable__label-arrow:before {color: black;}#sk-container-id-1 div.sk-toggleable__content {max-height: 0;max-width: 0;overflow: hidden;text-align: left;background-color: #f0f8ff;}#sk-container-id-1 div.sk-toggleable__content pre {margin: 0.2em;color: black;border-radius: 0.25em;background-color: #f0f8ff;}#sk-container-id-1 input.sk-toggleable__control:checked~div.sk-toggleable__content {max-height: 200px;max-width: 100%;overflow: auto;}#sk-container-id-1 input.sk-toggleable__control:checked~label.sk-toggleable__label-arrow:before {content: \"▾\";}#sk-container-id-1 div.sk-estimator input.sk-toggleable__control:checked~label.sk-toggleable__label {background-color: #d4ebff;}#sk-container-id-1 div.sk-label input.sk-toggleable__control:checked~label.sk-toggleable__label {background-color: #d4ebff;}#sk-container-id-1 input.sk-hidden--visually {border: 0;clip: rect(1px 1px 1px 1px);clip: rect(1px, 1px, 1px, 1px);height: 1px;margin: -1px;overflow: hidden;padding: 0;position: absolute;width: 1px;}#sk-container-id-1 div.sk-estimator {font-family: monospace;background-color: #f0f8ff;border: 1px dotted black;border-radius: 0.25em;box-sizing: border-box;margin-bottom: 0.5em;}#sk-container-id-1 div.sk-estimator:hover {background-color: #d4ebff;}#sk-container-id-1 div.sk-parallel-item::after {content: \"\";width: 100%;border-bottom: 1px solid gray;flex-grow: 1;}#sk-container-id-1 div.sk-label:hover label.sk-toggleable__label {background-color: #d4ebff;}#sk-container-id-1 div.sk-serial::before {content: \"\";position: absolute;border-left: 1px solid gray;box-sizing: border-box;top: 0;bottom: 0;left: 50%;z-index: 0;}#sk-container-id-1 div.sk-serial {display: flex;flex-direction: column;align-items: center;background-color: white;padding-right: 0.2em;padding-left: 0.2em;position: relative;}#sk-container-id-1 div.sk-item {position: relative;z-index: 1;}#sk-container-id-1 div.sk-parallel {display: flex;align-items: stretch;justify-content: center;background-color: white;position: relative;}#sk-container-id-1 div.sk-item::before, #sk-container-id-1 div.sk-parallel-item::before {content: \"\";position: absolute;border-left: 1px solid gray;box-sizing: border-box;top: 0;bottom: 0;left: 50%;z-index: -1;}#sk-container-id-1 div.sk-parallel-item {display: flex;flex-direction: column;z-index: 1;position: relative;background-color: white;}#sk-container-id-1 div.sk-parallel-item:first-child::after {align-self: flex-end;width: 50%;}#sk-container-id-1 div.sk-parallel-item:last-child::after {align-self: flex-start;width: 50%;}#sk-container-id-1 div.sk-parallel-item:only-child::after {width: 0;}#sk-container-id-1 div.sk-dashed-wrapped {border: 1px dashed gray;margin: 0 0.4em 0.5em 0.4em;box-sizing: border-box;padding-bottom: 0.4em;background-color: white;}#sk-container-id-1 div.sk-label label {font-family: monospace;font-weight: bold;display: inline-block;line-height: 1.2em;}#sk-container-id-1 div.sk-label-container {text-align: center;}#sk-container-id-1 div.sk-container {/* jupyter's `normalize.less` sets `[hidden] { display: none; }` but bootstrap.min.css set `[hidden] { display: none !important; }` so we also need the `!important` here to be able to override the default hidden behavior on the sphinx rendered scikit-learn.org. See: https://github.com/scikit-learn/scikit-learn/issues/21755 */display: inline-block !important;position: relative;}#sk-container-id-1 div.sk-text-repr-fallback {display: none;}</style><div id=\"sk-container-id-1\" class=\"sk-top-container\"><div class=\"sk-text-repr-fallback\"><pre>DecisionTreeClassifier(max_depth=2, random_state=42)</pre><b>In a Jupyter environment, please rerun this cell to show the HTML representation or trust the notebook. <br />On GitHub, the HTML representation is unable to render, please try loading this page with nbviewer.org.</b></div><div class=\"sk-container\" hidden><div class=\"sk-item\"><div class=\"sk-estimator sk-toggleable\"><input class=\"sk-toggleable__control sk-hidden--visually\" id=\"sk-estimator-id-1\" type=\"checkbox\" checked><label for=\"sk-estimator-id-1\" class=\"sk-toggleable__label sk-toggleable__label-arrow\">DecisionTreeClassifier</label><div class=\"sk-toggleable__content\"><pre>DecisionTreeClassifier(max_depth=2, random_state=42)</pre></div></div></div></div></div>"
      ],
      "text/plain": [
       "DecisionTreeClassifier(max_depth=2, random_state=42)"
      ]
     },
     "execution_count": 20,
     "metadata": {},
     "output_type": "execute_result"
    }
   ],
   "source": [
    "tree.fit(X_train3, y_train3)"
   ]
  },
  {
   "cell_type": "markdown",
   "id": "223b98f8",
   "metadata": {},
   "source": [
    "### Predicting on train set (3%)"
   ]
  },
  {
   "cell_type": "code",
   "execution_count": 21,
   "id": "3f2860c9",
   "metadata": {},
   "outputs": [
    {
     "name": "stdout",
     "output_type": "stream",
     "text": [
      "Confusion_Matrix:\n",
      "[[   0  144    3]\n",
      " [   0 1262    2]\n",
      " [   0   76   24]]\n",
      "Accuracy_Score: 0.8510919920582396\n",
      "\n"
     ]
    }
   ],
   "source": [
    "y_predict_train3 = tree.predict(X_train3)\n",
    "confusion_matrix_train3 = confusion_matrix(y_train3, y_predict_train3)\n",
    "accuracy_score_train3 = accuracy_score(y_train3, y_predict_train3)\n",
    "print(\"Confusion_Matrix:\\n{}\"\n",
    "      .format(confusion_matrix_train3))\n",
    "print(\"Accuracy_Score: {}\\n\"\n",
    "      .format(accuracy_score_train3))"
   ]
  },
  {
   "cell_type": "code",
   "execution_count": 22,
   "id": "9b099786",
   "metadata": {},
   "outputs": [
    {
     "name": "stdout",
     "output_type": "stream",
     "text": [
      "Number of Rows Prediction Correctly: 1286\n",
      "\n"
     ]
    }
   ],
   "source": [
    "diagonals_train3 = confusion_matrix_train3.diagonal().sum()\n",
    "print(\"Number of Rows Prediction Correctly: {}\\n\"\n",
    "      .format(diagonals_train3))"
   ]
  },
  {
   "cell_type": "code",
   "execution_count": 23,
   "id": "e1bfb358",
   "metadata": {},
   "outputs": [
    {
     "name": "stderr",
     "output_type": "stream",
     "text": [
      "C:\\Python39\\lib\\site-packages\\sklearn\\metrics\\_classification.py:1334: UndefinedMetricWarning: Precision is ill-defined and being set to 0.0 in labels with no predicted samples. Use `zero_division` parameter to control this behavior.\n",
      "  _warn_prf(average, modifier, msg_start, len(result))\n"
     ]
    },
    {
     "data": {
      "text/plain": [
       "0.7671213064883918"
      ]
     },
     "execution_count": 23,
     "metadata": {},
     "output_type": "execute_result"
    }
   ],
   "source": [
    "precision_train3 = precision_score(y_train3, y_predict_train3, average = \"weighted\")\n",
    "precision_train3"
   ]
  },
  {
   "cell_type": "code",
   "execution_count": 24,
   "id": "ea1a18a0",
   "metadata": {},
   "outputs": [
    {
     "data": {
      "text/plain": [
       "0.8510919920582396"
      ]
     },
     "execution_count": 24,
     "metadata": {},
     "output_type": "execute_result"
    }
   ],
   "source": [
    "recall_train3 = recall_score(y_train3, y_predict_train3, average = \"weighted\")\n",
    "recall_train3 "
   ]
  },
  {
   "cell_type": "markdown",
   "id": "821a4dae",
   "metadata": {},
   "source": [
    "### Predicting on test set (3%)"
   ]
  },
  {
   "cell_type": "code",
   "execution_count": 25,
   "id": "d6089a4e",
   "metadata": {},
   "outputs": [
    {
     "name": "stdout",
     "output_type": "stream",
     "text": [
      "Confusion_Matrix:\n",
      "[[ 0 39  0]\n",
      " [ 0 86  0]\n",
      " [ 0 43  0]]\n",
      "Accuracy_Score: 0.5119047619047619\n",
      "\n"
     ]
    }
   ],
   "source": [
    "y_predict_test3 = tree.predict(X_test3)\n",
    "confusion_matrix_test3 = confusion_matrix(y_test3, y_predict_test3)\n",
    "accuracy_score_test3 = accuracy_score(y_test3, y_predict_test3)\n",
    "print(\"Confusion_Matrix:\\n{}\"\n",
    "      .format(confusion_matrix_test3))\n",
    "print(\"Accuracy_Score: {}\\n\"\n",
    "      .format(accuracy_score_test3))"
   ]
  },
  {
   "cell_type": "code",
   "execution_count": 26,
   "id": "a3b4ef8e",
   "metadata": {},
   "outputs": [
    {
     "name": "stdout",
     "output_type": "stream",
     "text": [
      "Number of Rows Prediction Correctly: 86\n",
      "\n"
     ]
    }
   ],
   "source": [
    "diagonals_test3 = confusion_matrix_test3.diagonal().sum()\n",
    "print(\"Number of Rows Prediction Correctly: {}\\n\"\n",
    "      .format(diagonals_test3))"
   ]
  },
  {
   "cell_type": "code",
   "execution_count": 27,
   "id": "0db5b474",
   "metadata": {},
   "outputs": [
    {
     "name": "stderr",
     "output_type": "stream",
     "text": [
      "C:\\Python39\\lib\\site-packages\\sklearn\\metrics\\_classification.py:1334: UndefinedMetricWarning: Precision is ill-defined and being set to 0.0 in labels with no predicted samples. Use `zero_division` parameter to control this behavior.\n",
      "  _warn_prf(average, modifier, msg_start, len(result))\n"
     ]
    },
    {
     "data": {
      "text/plain": [
       "0.26204648526077096"
      ]
     },
     "execution_count": 27,
     "metadata": {},
     "output_type": "execute_result"
    }
   ],
   "source": [
    "precision_test3 = precision_score(y_test3, y_predict_test3, average = \"weighted\")\n",
    "precision_test3"
   ]
  },
  {
   "cell_type": "code",
   "execution_count": 28,
   "id": "47dffb98",
   "metadata": {
    "scrolled": true
   },
   "outputs": [
    {
     "data": {
      "text/plain": [
       "0.5119047619047619"
      ]
     },
     "execution_count": 28,
     "metadata": {},
     "output_type": "execute_result"
    }
   ],
   "source": [
    "recall_test3 = recall_score(y_test3, y_predict_test3, average = \"weighted\")\n",
    "recall_test3 "
   ]
  },
  {
   "cell_type": "markdown",
   "id": "6956d575",
   "metadata": {},
   "source": [
    "## SKLearn Resample 3% "
   ]
  },
  {
   "cell_type": "code",
   "execution_count": 29,
   "id": "7f8074d5",
   "metadata": {
    "scrolled": true
   },
   "outputs": [
    {
     "data": {
      "text/html": [
       "<style>#sk-container-id-2 {color: black;background-color: white;}#sk-container-id-2 pre{padding: 0;}#sk-container-id-2 div.sk-toggleable {background-color: white;}#sk-container-id-2 label.sk-toggleable__label {cursor: pointer;display: block;width: 100%;margin-bottom: 0;padding: 0.3em;box-sizing: border-box;text-align: center;}#sk-container-id-2 label.sk-toggleable__label-arrow:before {content: \"▸\";float: left;margin-right: 0.25em;color: #696969;}#sk-container-id-2 label.sk-toggleable__label-arrow:hover:before {color: black;}#sk-container-id-2 div.sk-estimator:hover label.sk-toggleable__label-arrow:before {color: black;}#sk-container-id-2 div.sk-toggleable__content {max-height: 0;max-width: 0;overflow: hidden;text-align: left;background-color: #f0f8ff;}#sk-container-id-2 div.sk-toggleable__content pre {margin: 0.2em;color: black;border-radius: 0.25em;background-color: #f0f8ff;}#sk-container-id-2 input.sk-toggleable__control:checked~div.sk-toggleable__content {max-height: 200px;max-width: 100%;overflow: auto;}#sk-container-id-2 input.sk-toggleable__control:checked~label.sk-toggleable__label-arrow:before {content: \"▾\";}#sk-container-id-2 div.sk-estimator input.sk-toggleable__control:checked~label.sk-toggleable__label {background-color: #d4ebff;}#sk-container-id-2 div.sk-label input.sk-toggleable__control:checked~label.sk-toggleable__label {background-color: #d4ebff;}#sk-container-id-2 input.sk-hidden--visually {border: 0;clip: rect(1px 1px 1px 1px);clip: rect(1px, 1px, 1px, 1px);height: 1px;margin: -1px;overflow: hidden;padding: 0;position: absolute;width: 1px;}#sk-container-id-2 div.sk-estimator {font-family: monospace;background-color: #f0f8ff;border: 1px dotted black;border-radius: 0.25em;box-sizing: border-box;margin-bottom: 0.5em;}#sk-container-id-2 div.sk-estimator:hover {background-color: #d4ebff;}#sk-container-id-2 div.sk-parallel-item::after {content: \"\";width: 100%;border-bottom: 1px solid gray;flex-grow: 1;}#sk-container-id-2 div.sk-label:hover label.sk-toggleable__label {background-color: #d4ebff;}#sk-container-id-2 div.sk-serial::before {content: \"\";position: absolute;border-left: 1px solid gray;box-sizing: border-box;top: 0;bottom: 0;left: 50%;z-index: 0;}#sk-container-id-2 div.sk-serial {display: flex;flex-direction: column;align-items: center;background-color: white;padding-right: 0.2em;padding-left: 0.2em;position: relative;}#sk-container-id-2 div.sk-item {position: relative;z-index: 1;}#sk-container-id-2 div.sk-parallel {display: flex;align-items: stretch;justify-content: center;background-color: white;position: relative;}#sk-container-id-2 div.sk-item::before, #sk-container-id-2 div.sk-parallel-item::before {content: \"\";position: absolute;border-left: 1px solid gray;box-sizing: border-box;top: 0;bottom: 0;left: 50%;z-index: -1;}#sk-container-id-2 div.sk-parallel-item {display: flex;flex-direction: column;z-index: 1;position: relative;background-color: white;}#sk-container-id-2 div.sk-parallel-item:first-child::after {align-self: flex-end;width: 50%;}#sk-container-id-2 div.sk-parallel-item:last-child::after {align-self: flex-start;width: 50%;}#sk-container-id-2 div.sk-parallel-item:only-child::after {width: 0;}#sk-container-id-2 div.sk-dashed-wrapped {border: 1px dashed gray;margin: 0 0.4em 0.5em 0.4em;box-sizing: border-box;padding-bottom: 0.4em;background-color: white;}#sk-container-id-2 div.sk-label label {font-family: monospace;font-weight: bold;display: inline-block;line-height: 1.2em;}#sk-container-id-2 div.sk-label-container {text-align: center;}#sk-container-id-2 div.sk-container {/* jupyter's `normalize.less` sets `[hidden] { display: none; }` but bootstrap.min.css set `[hidden] { display: none !important; }` so we also need the `!important` here to be able to override the default hidden behavior on the sphinx rendered scikit-learn.org. See: https://github.com/scikit-learn/scikit-learn/issues/21755 */display: inline-block !important;position: relative;}#sk-container-id-2 div.sk-text-repr-fallback {display: none;}</style><div id=\"sk-container-id-2\" class=\"sk-top-container\"><div class=\"sk-text-repr-fallback\"><pre>DecisionTreeClassifier(max_depth=2, random_state=42)</pre><b>In a Jupyter environment, please rerun this cell to show the HTML representation or trust the notebook. <br />On GitHub, the HTML representation is unable to render, please try loading this page with nbviewer.org.</b></div><div class=\"sk-container\" hidden><div class=\"sk-item\"><div class=\"sk-estimator sk-toggleable\"><input class=\"sk-toggleable__control sk-hidden--visually\" id=\"sk-estimator-id-2\" type=\"checkbox\" checked><label for=\"sk-estimator-id-2\" class=\"sk-toggleable__label sk-toggleable__label-arrow\">DecisionTreeClassifier</label><div class=\"sk-toggleable__content\"><pre>DecisionTreeClassifier(max_depth=2, random_state=42)</pre></div></div></div></div></div>"
      ],
      "text/plain": [
       "DecisionTreeClassifier(max_depth=2, random_state=42)"
      ]
     },
     "execution_count": 29,
     "metadata": {},
     "output_type": "execute_result"
    }
   ],
   "source": [
    "tree.fit(X_train_upsampled3, y_train_upsampled3)"
   ]
  },
  {
   "cell_type": "markdown",
   "id": "ae5768af",
   "metadata": {},
   "source": [
    "### [SKLEARN RESAMPLE] Predicting on train set (3%)"
   ]
  },
  {
   "cell_type": "code",
   "execution_count": 30,
   "id": "5fed21dc",
   "metadata": {},
   "outputs": [
    {
     "name": "stdout",
     "output_type": "stream",
     "text": [
      "Confusion_Matrix:\n",
      "[[544 565 155]\n",
      " [234 830 200]\n",
      " [147 261 856]]\n",
      "Accuracy_Score: 0.5880801687763713\n",
      "\n"
     ]
    }
   ],
   "source": [
    "y_predict_train3sk = tree.predict(X_train_upsampled3)\n",
    "confusion_matrix_train3sk = confusion_matrix(y_train_upsampled3, y_predict_train3sk)\n",
    "accuracy_score_train3sk = accuracy_score(y_train_upsampled3, y_predict_train3sk)\n",
    "print(\"Confusion_Matrix:\\n{}\"\n",
    "      .format(confusion_matrix_train3sk))\n",
    "print(\"Accuracy_Score: {}\\n\"\n",
    "      .format(accuracy_score_train3sk))"
   ]
  },
  {
   "cell_type": "code",
   "execution_count": 31,
   "id": "ed6d18e5",
   "metadata": {},
   "outputs": [
    {
     "name": "stdout",
     "output_type": "stream",
     "text": [
      "Number of Rows Prediction Correctly: 2230\n",
      "\n"
     ]
    }
   ],
   "source": [
    "skdiagonals_train3sk = confusion_matrix_train3sk.diagonal().sum()\n",
    "print(\"Number of Rows Prediction Correctly: {}\\n\"\n",
    "      .format(skdiagonals_train3sk))"
   ]
  },
  {
   "cell_type": "code",
   "execution_count": 32,
   "id": "af467d5a",
   "metadata": {},
   "outputs": [
    {
     "data": {
      "text/plain": [
       "0.5987232257928413"
      ]
     },
     "execution_count": 32,
     "metadata": {},
     "output_type": "execute_result"
    }
   ],
   "source": [
    "precision_train3sk = precision_score(y_train_upsampled3, y_predict_train3sk, average = \"weighted\")\n",
    "precision_train3sk"
   ]
  },
  {
   "cell_type": "code",
   "execution_count": 33,
   "id": "f31d7e8d",
   "metadata": {},
   "outputs": [
    {
     "data": {
      "text/plain": [
       "0.5880801687763713"
      ]
     },
     "execution_count": 33,
     "metadata": {},
     "output_type": "execute_result"
    }
   ],
   "source": [
    "recall_train3sk = recall_score(y_train_upsampled3, y_predict_train3sk, average = \"weighted\")\n",
    "recall_train3sk"
   ]
  },
  {
   "cell_type": "markdown",
   "id": "415083ac",
   "metadata": {},
   "source": [
    "### [SKLEARN RESAMPLE] Predicting on test set (3%)"
   ]
  },
  {
   "cell_type": "code",
   "execution_count": 34,
   "id": "5e8b177f",
   "metadata": {},
   "outputs": [
    {
     "name": "stdout",
     "output_type": "stream",
     "text": [
      "Confusion_Matrix:\n",
      "[[ 0 35  4]\n",
      " [ 0 72 14]\n",
      " [ 0 32 11]]\n",
      "Accuracy_Score: 0.49404761904761907\n",
      "\n"
     ]
    }
   ],
   "source": [
    "y_predict_test3sk = tree.predict(X_test3)\n",
    "confusion_matrix_test3sk = confusion_matrix(y_test3, y_predict_test3sk)\n",
    "accuracy_score_test3sk = accuracy_score(y_test3, y_predict_test3sk)\n",
    "print(\"Confusion_Matrix:\\n{}\"\n",
    "      .format(confusion_matrix_test3sk))\n",
    "print(\"Accuracy_Score: {}\\n\"\n",
    "      .format(accuracy_score_test3sk))"
   ]
  },
  {
   "cell_type": "code",
   "execution_count": 35,
   "id": "cc63b6b6",
   "metadata": {},
   "outputs": [
    {
     "name": "stdout",
     "output_type": "stream",
     "text": [
      "Number of Rows Prediction Correctly: 83\n",
      "\n"
     ]
    }
   ],
   "source": [
    "diagonals_test3sk = confusion_matrix_test3sk.diagonal().sum()\n",
    "print(\"Number of Rows Prediction Correctly: {}\\n\"\n",
    "      .format(diagonals_test3sk))"
   ]
  },
  {
   "cell_type": "code",
   "execution_count": 36,
   "id": "d299b5ec",
   "metadata": {},
   "outputs": [
    {
     "name": "stderr",
     "output_type": "stream",
     "text": [
      "C:\\Python39\\lib\\site-packages\\sklearn\\metrics\\_classification.py:1334: UndefinedMetricWarning: Precision is ill-defined and being set to 0.0 in labels with no predicted samples. Use `zero_division` parameter to control this behavior.\n",
      "  _warn_prf(average, modifier, msg_start, len(result))\n"
     ]
    },
    {
     "data": {
      "text/plain": [
       "0.36224468700901347"
      ]
     },
     "execution_count": 36,
     "metadata": {},
     "output_type": "execute_result"
    }
   ],
   "source": [
    "precision_test3sk = precision_score(y_test3, y_predict_test3sk, average = \"weighted\")\n",
    "precision_test3sk "
   ]
  },
  {
   "cell_type": "code",
   "execution_count": 37,
   "id": "ebb6a62f",
   "metadata": {
    "scrolled": true
   },
   "outputs": [
    {
     "data": {
      "text/plain": [
       "0.49404761904761907"
      ]
     },
     "execution_count": 37,
     "metadata": {},
     "output_type": "execute_result"
    }
   ],
   "source": [
    "recall_test3sk = recall_score(y_test3, y_predict_test3sk, average = \"weighted\")\n",
    "recall_test3sk "
   ]
  },
  {
   "cell_type": "markdown",
   "id": "c7eb3e1e",
   "metadata": {},
   "source": [
    "## SMOTE Resample 3% "
   ]
  },
  {
   "cell_type": "code",
   "execution_count": 38,
   "id": "5e93bf15",
   "metadata": {
    "scrolled": true
   },
   "outputs": [
    {
     "data": {
      "text/html": [
       "<style>#sk-container-id-3 {color: black;background-color: white;}#sk-container-id-3 pre{padding: 0;}#sk-container-id-3 div.sk-toggleable {background-color: white;}#sk-container-id-3 label.sk-toggleable__label {cursor: pointer;display: block;width: 100%;margin-bottom: 0;padding: 0.3em;box-sizing: border-box;text-align: center;}#sk-container-id-3 label.sk-toggleable__label-arrow:before {content: \"▸\";float: left;margin-right: 0.25em;color: #696969;}#sk-container-id-3 label.sk-toggleable__label-arrow:hover:before {color: black;}#sk-container-id-3 div.sk-estimator:hover label.sk-toggleable__label-arrow:before {color: black;}#sk-container-id-3 div.sk-toggleable__content {max-height: 0;max-width: 0;overflow: hidden;text-align: left;background-color: #f0f8ff;}#sk-container-id-3 div.sk-toggleable__content pre {margin: 0.2em;color: black;border-radius: 0.25em;background-color: #f0f8ff;}#sk-container-id-3 input.sk-toggleable__control:checked~div.sk-toggleable__content {max-height: 200px;max-width: 100%;overflow: auto;}#sk-container-id-3 input.sk-toggleable__control:checked~label.sk-toggleable__label-arrow:before {content: \"▾\";}#sk-container-id-3 div.sk-estimator input.sk-toggleable__control:checked~label.sk-toggleable__label {background-color: #d4ebff;}#sk-container-id-3 div.sk-label input.sk-toggleable__control:checked~label.sk-toggleable__label {background-color: #d4ebff;}#sk-container-id-3 input.sk-hidden--visually {border: 0;clip: rect(1px 1px 1px 1px);clip: rect(1px, 1px, 1px, 1px);height: 1px;margin: -1px;overflow: hidden;padding: 0;position: absolute;width: 1px;}#sk-container-id-3 div.sk-estimator {font-family: monospace;background-color: #f0f8ff;border: 1px dotted black;border-radius: 0.25em;box-sizing: border-box;margin-bottom: 0.5em;}#sk-container-id-3 div.sk-estimator:hover {background-color: #d4ebff;}#sk-container-id-3 div.sk-parallel-item::after {content: \"\";width: 100%;border-bottom: 1px solid gray;flex-grow: 1;}#sk-container-id-3 div.sk-label:hover label.sk-toggleable__label {background-color: #d4ebff;}#sk-container-id-3 div.sk-serial::before {content: \"\";position: absolute;border-left: 1px solid gray;box-sizing: border-box;top: 0;bottom: 0;left: 50%;z-index: 0;}#sk-container-id-3 div.sk-serial {display: flex;flex-direction: column;align-items: center;background-color: white;padding-right: 0.2em;padding-left: 0.2em;position: relative;}#sk-container-id-3 div.sk-item {position: relative;z-index: 1;}#sk-container-id-3 div.sk-parallel {display: flex;align-items: stretch;justify-content: center;background-color: white;position: relative;}#sk-container-id-3 div.sk-item::before, #sk-container-id-3 div.sk-parallel-item::before {content: \"\";position: absolute;border-left: 1px solid gray;box-sizing: border-box;top: 0;bottom: 0;left: 50%;z-index: -1;}#sk-container-id-3 div.sk-parallel-item {display: flex;flex-direction: column;z-index: 1;position: relative;background-color: white;}#sk-container-id-3 div.sk-parallel-item:first-child::after {align-self: flex-end;width: 50%;}#sk-container-id-3 div.sk-parallel-item:last-child::after {align-self: flex-start;width: 50%;}#sk-container-id-3 div.sk-parallel-item:only-child::after {width: 0;}#sk-container-id-3 div.sk-dashed-wrapped {border: 1px dashed gray;margin: 0 0.4em 0.5em 0.4em;box-sizing: border-box;padding-bottom: 0.4em;background-color: white;}#sk-container-id-3 div.sk-label label {font-family: monospace;font-weight: bold;display: inline-block;line-height: 1.2em;}#sk-container-id-3 div.sk-label-container {text-align: center;}#sk-container-id-3 div.sk-container {/* jupyter's `normalize.less` sets `[hidden] { display: none; }` but bootstrap.min.css set `[hidden] { display: none !important; }` so we also need the `!important` here to be able to override the default hidden behavior on the sphinx rendered scikit-learn.org. See: https://github.com/scikit-learn/scikit-learn/issues/21755 */display: inline-block !important;position: relative;}#sk-container-id-3 div.sk-text-repr-fallback {display: none;}</style><div id=\"sk-container-id-3\" class=\"sk-top-container\"><div class=\"sk-text-repr-fallback\"><pre>DecisionTreeClassifier(max_depth=2, random_state=42)</pre><b>In a Jupyter environment, please rerun this cell to show the HTML representation or trust the notebook. <br />On GitHub, the HTML representation is unable to render, please try loading this page with nbviewer.org.</b></div><div class=\"sk-container\" hidden><div class=\"sk-item\"><div class=\"sk-estimator sk-toggleable\"><input class=\"sk-toggleable__control sk-hidden--visually\" id=\"sk-estimator-id-3\" type=\"checkbox\" checked><label for=\"sk-estimator-id-3\" class=\"sk-toggleable__label sk-toggleable__label-arrow\">DecisionTreeClassifier</label><div class=\"sk-toggleable__content\"><pre>DecisionTreeClassifier(max_depth=2, random_state=42)</pre></div></div></div></div></div>"
      ],
      "text/plain": [
       "DecisionTreeClassifier(max_depth=2, random_state=42)"
      ]
     },
     "execution_count": 38,
     "metadata": {},
     "output_type": "execute_result"
    }
   ],
   "source": [
    "tree.fit(X_train_oversampled3, y_train_oversampled3)"
   ]
  },
  {
   "cell_type": "markdown",
   "id": "43230a65",
   "metadata": {},
   "source": [
    "### [SMOTE] Predicting on train set (3%)"
   ]
  },
  {
   "cell_type": "code",
   "execution_count": 39,
   "id": "d0926b58",
   "metadata": {},
   "outputs": [
    {
     "name": "stdout",
     "output_type": "stream",
     "text": [
      "Confusion_Matrix:\n",
      "[[582 543 139]\n",
      " [165 764 335]\n",
      " [159 180 925]]\n",
      "Accuracy_Score: 0.5988924050632911\n",
      "\n"
     ]
    }
   ],
   "source": [
    "y_predict_train3sm = tree.predict(X_train_oversampled3)\n",
    "confusion_matrix_train3sm = confusion_matrix(y_train_oversampled3, y_predict_train3sm)\n",
    "accuracy_score_train3sm = accuracy_score(y_train_oversampled3, y_predict_train3sm)\n",
    "print(\"Confusion_Matrix:\\n{}\"\n",
    "      .format(confusion_matrix_train3sm))\n",
    "print(\"Accuracy_Score: {}\\n\"\n",
    "      .format(accuracy_score_train3sm))"
   ]
  },
  {
   "cell_type": "code",
   "execution_count": 40,
   "id": "11e8a420",
   "metadata": {},
   "outputs": [
    {
     "name": "stdout",
     "output_type": "stream",
     "text": [
      "Number of Rows Prediction Correctly: 2271\n",
      "\n"
     ]
    }
   ],
   "source": [
    "skdiagonals_train3sm = confusion_matrix_train3sm.diagonal().sum()\n",
    "print(\"Number of Rows Prediction Correctly: {}\\n\"\n",
    "      .format(skdiagonals_train3sm))"
   ]
  },
  {
   "cell_type": "code",
   "execution_count": 41,
   "id": "a83db7c9",
   "metadata": {},
   "outputs": [
    {
     "data": {
      "text/plain": [
       "0.6057856047980146"
      ]
     },
     "execution_count": 41,
     "metadata": {},
     "output_type": "execute_result"
    }
   ],
   "source": [
    "precision_train3sm = precision_score(y_train_oversampled3, y_predict_train3sm, average = \"weighted\")\n",
    "precision_train3sm"
   ]
  },
  {
   "cell_type": "code",
   "execution_count": 42,
   "id": "e95c0e8f",
   "metadata": {},
   "outputs": [
    {
     "data": {
      "text/plain": [
       "0.5988924050632911"
      ]
     },
     "execution_count": 42,
     "metadata": {},
     "output_type": "execute_result"
    }
   ],
   "source": [
    "recall_train3sm = recall_score(y_train_oversampled3, y_predict_train3sm, average = \"weighted\")\n",
    "recall_train3sm"
   ]
  },
  {
   "cell_type": "markdown",
   "id": "3f08bcb4",
   "metadata": {},
   "source": [
    "### [SMOTE] Predicting on test set (3%)"
   ]
  },
  {
   "cell_type": "code",
   "execution_count": 43,
   "id": "507134ed",
   "metadata": {},
   "outputs": [
    {
     "name": "stdout",
     "output_type": "stream",
     "text": [
      "Confusion_Matrix:\n",
      "[[ 0 35  4]\n",
      " [ 0 63 23]\n",
      " [ 0 28 15]]\n",
      "Accuracy_Score: 0.4642857142857143\n",
      "\n"
     ]
    }
   ],
   "source": [
    "y_predict_test3sm = tree.predict(X_test3)\n",
    "confusion_matrix_test3sm = confusion_matrix(y_test3, y_predict_test3sm)\n",
    "accuracy_score_test3sm = accuracy_score(y_test3, y_predict_test3sm)\n",
    "print(\"Confusion_Matrix:\\n{}\"\n",
    "      .format(confusion_matrix_test3sm))\n",
    "print(\"Accuracy_Score: {}\\n\"\n",
    "      .format(accuracy_score_test3sm))"
   ]
  },
  {
   "cell_type": "code",
   "execution_count": 44,
   "id": "2f8168f9",
   "metadata": {},
   "outputs": [
    {
     "name": "stdout",
     "output_type": "stream",
     "text": [
      "Number of Rows Prediction Correctly: 78\n",
      "\n"
     ]
    }
   ],
   "source": [
    "diagonals_test3sm = confusion_matrix_test3sm.diagonal().sum()\n",
    "print(\"Number of Rows Prediction Correctly: {}\\n\"\n",
    "      .format(diagonals_test3sm))"
   ]
  },
  {
   "cell_type": "code",
   "execution_count": 45,
   "id": "63e45f2f",
   "metadata": {},
   "outputs": [
    {
     "name": "stderr",
     "output_type": "stream",
     "text": [
      "C:\\Python39\\lib\\site-packages\\sklearn\\metrics\\_classification.py:1334: UndefinedMetricWarning: Precision is ill-defined and being set to 0.0 in labels with no predicted samples. Use `zero_division` parameter to control this behavior.\n",
      "  _warn_prf(average, modifier, msg_start, len(result))\n"
     ]
    },
    {
     "data": {
      "text/plain": [
       "0.3473639455782313"
      ]
     },
     "execution_count": 45,
     "metadata": {},
     "output_type": "execute_result"
    }
   ],
   "source": [
    "precision_test3sm = precision_score(y_test3, y_predict_test3sm, average = \"weighted\")\n",
    "precision_test3sm"
   ]
  },
  {
   "cell_type": "code",
   "execution_count": 46,
   "id": "034a000b",
   "metadata": {
    "scrolled": true
   },
   "outputs": [
    {
     "data": {
      "text/plain": [
       "0.4642857142857143"
      ]
     },
     "execution_count": 46,
     "metadata": {},
     "output_type": "execute_result"
    }
   ],
   "source": [
    "recall_test3sm= recall_score(y_test3, y_predict_test3sm, average = \"weighted\")\n",
    "recall_test3sm"
   ]
  },
  {
   "cell_type": "markdown",
   "id": "5c5d226f",
   "metadata": {},
   "source": [
    "## 5% Target threshold"
   ]
  },
  {
   "cell_type": "code",
   "execution_count": 47,
   "id": "9be66465",
   "metadata": {
    "scrolled": true
   },
   "outputs": [
    {
     "data": {
      "text/html": [
       "<style>#sk-container-id-4 {color: black;background-color: white;}#sk-container-id-4 pre{padding: 0;}#sk-container-id-4 div.sk-toggleable {background-color: white;}#sk-container-id-4 label.sk-toggleable__label {cursor: pointer;display: block;width: 100%;margin-bottom: 0;padding: 0.3em;box-sizing: border-box;text-align: center;}#sk-container-id-4 label.sk-toggleable__label-arrow:before {content: \"▸\";float: left;margin-right: 0.25em;color: #696969;}#sk-container-id-4 label.sk-toggleable__label-arrow:hover:before {color: black;}#sk-container-id-4 div.sk-estimator:hover label.sk-toggleable__label-arrow:before {color: black;}#sk-container-id-4 div.sk-toggleable__content {max-height: 0;max-width: 0;overflow: hidden;text-align: left;background-color: #f0f8ff;}#sk-container-id-4 div.sk-toggleable__content pre {margin: 0.2em;color: black;border-radius: 0.25em;background-color: #f0f8ff;}#sk-container-id-4 input.sk-toggleable__control:checked~div.sk-toggleable__content {max-height: 200px;max-width: 100%;overflow: auto;}#sk-container-id-4 input.sk-toggleable__control:checked~label.sk-toggleable__label-arrow:before {content: \"▾\";}#sk-container-id-4 div.sk-estimator input.sk-toggleable__control:checked~label.sk-toggleable__label {background-color: #d4ebff;}#sk-container-id-4 div.sk-label input.sk-toggleable__control:checked~label.sk-toggleable__label {background-color: #d4ebff;}#sk-container-id-4 input.sk-hidden--visually {border: 0;clip: rect(1px 1px 1px 1px);clip: rect(1px, 1px, 1px, 1px);height: 1px;margin: -1px;overflow: hidden;padding: 0;position: absolute;width: 1px;}#sk-container-id-4 div.sk-estimator {font-family: monospace;background-color: #f0f8ff;border: 1px dotted black;border-radius: 0.25em;box-sizing: border-box;margin-bottom: 0.5em;}#sk-container-id-4 div.sk-estimator:hover {background-color: #d4ebff;}#sk-container-id-4 div.sk-parallel-item::after {content: \"\";width: 100%;border-bottom: 1px solid gray;flex-grow: 1;}#sk-container-id-4 div.sk-label:hover label.sk-toggleable__label {background-color: #d4ebff;}#sk-container-id-4 div.sk-serial::before {content: \"\";position: absolute;border-left: 1px solid gray;box-sizing: border-box;top: 0;bottom: 0;left: 50%;z-index: 0;}#sk-container-id-4 div.sk-serial {display: flex;flex-direction: column;align-items: center;background-color: white;padding-right: 0.2em;padding-left: 0.2em;position: relative;}#sk-container-id-4 div.sk-item {position: relative;z-index: 1;}#sk-container-id-4 div.sk-parallel {display: flex;align-items: stretch;justify-content: center;background-color: white;position: relative;}#sk-container-id-4 div.sk-item::before, #sk-container-id-4 div.sk-parallel-item::before {content: \"\";position: absolute;border-left: 1px solid gray;box-sizing: border-box;top: 0;bottom: 0;left: 50%;z-index: -1;}#sk-container-id-4 div.sk-parallel-item {display: flex;flex-direction: column;z-index: 1;position: relative;background-color: white;}#sk-container-id-4 div.sk-parallel-item:first-child::after {align-self: flex-end;width: 50%;}#sk-container-id-4 div.sk-parallel-item:last-child::after {align-self: flex-start;width: 50%;}#sk-container-id-4 div.sk-parallel-item:only-child::after {width: 0;}#sk-container-id-4 div.sk-dashed-wrapped {border: 1px dashed gray;margin: 0 0.4em 0.5em 0.4em;box-sizing: border-box;padding-bottom: 0.4em;background-color: white;}#sk-container-id-4 div.sk-label label {font-family: monospace;font-weight: bold;display: inline-block;line-height: 1.2em;}#sk-container-id-4 div.sk-label-container {text-align: center;}#sk-container-id-4 div.sk-container {/* jupyter's `normalize.less` sets `[hidden] { display: none; }` but bootstrap.min.css set `[hidden] { display: none !important; }` so we also need the `!important` here to be able to override the default hidden behavior on the sphinx rendered scikit-learn.org. See: https://github.com/scikit-learn/scikit-learn/issues/21755 */display: inline-block !important;position: relative;}#sk-container-id-4 div.sk-text-repr-fallback {display: none;}</style><div id=\"sk-container-id-4\" class=\"sk-top-container\"><div class=\"sk-text-repr-fallback\"><pre>DecisionTreeClassifier(max_depth=2, random_state=42)</pre><b>In a Jupyter environment, please rerun this cell to show the HTML representation or trust the notebook. <br />On GitHub, the HTML representation is unable to render, please try loading this page with nbviewer.org.</b></div><div class=\"sk-container\" hidden><div class=\"sk-item\"><div class=\"sk-estimator sk-toggleable\"><input class=\"sk-toggleable__control sk-hidden--visually\" id=\"sk-estimator-id-4\" type=\"checkbox\" checked><label for=\"sk-estimator-id-4\" class=\"sk-toggleable__label sk-toggleable__label-arrow\">DecisionTreeClassifier</label><div class=\"sk-toggleable__content\"><pre>DecisionTreeClassifier(max_depth=2, random_state=42)</pre></div></div></div></div></div>"
      ],
      "text/plain": [
       "DecisionTreeClassifier(max_depth=2, random_state=42)"
      ]
     },
     "execution_count": 47,
     "metadata": {},
     "output_type": "execute_result"
    }
   ],
   "source": [
    "tree.fit(X_train5, y_train5)"
   ]
  },
  {
   "cell_type": "markdown",
   "id": "36d23735",
   "metadata": {},
   "source": [
    "### Predicting on train set (5%)"
   ]
  },
  {
   "cell_type": "code",
   "execution_count": 48,
   "id": "e147c07c",
   "metadata": {},
   "outputs": [
    {
     "name": "stdout",
     "output_type": "stream",
     "text": [
      "Confusion_Matrix (5%):\n",
      "[[   0   29    1]\n",
      " [   0 1426   10]\n",
      " [   0   27   18]]\n",
      "Accuracy_Score (5%): 0.9556585043017869\n",
      "\n"
     ]
    }
   ],
   "source": [
    "y_predict_train5 = tree.predict(X_train5)\n",
    "confusion_matrix_train5 = confusion_matrix(y_train5, y_predict_train5)\n",
    "accuracy_score_train5 = accuracy_score(y_train5, y_predict_train5)\n",
    "print(\"Confusion_Matrix (5%):\\n{}\"\n",
    "      .format(confusion_matrix_train5))\n",
    "print(\"Accuracy_Score (5%): {}\\n\"\n",
    "      .format(accuracy_score_train5))"
   ]
  },
  {
   "cell_type": "code",
   "execution_count": 49,
   "id": "4fb305fd",
   "metadata": {},
   "outputs": [
    {
     "name": "stdout",
     "output_type": "stream",
     "text": [
      "Number of Rows Prediction Correctly (5%): 1444\n",
      "\n"
     ]
    }
   ],
   "source": [
    "diagonals_train5 = confusion_matrix_train5.diagonal().sum()\n",
    "print(\"Number of Rows Prediction Correctly (5%): {}\\n\"\n",
    "      .format(diagonals_train5))"
   ]
  },
  {
   "cell_type": "code",
   "execution_count": 50,
   "id": "b098b9d9",
   "metadata": {},
   "outputs": [],
   "source": [
    "TP_train5 = confusion_matrix_train5[1, 1]\n",
    "TN_train5 = confusion_matrix_train5[0, 0]\n",
    "FP_train5 = confusion_matrix_train5[0, 1]\n",
    "FN_train5 = confusion_matrix_train5[1, 0]"
   ]
  },
  {
   "cell_type": "code",
   "execution_count": 51,
   "id": "48a09710",
   "metadata": {},
   "outputs": [
    {
     "name": "stderr",
     "output_type": "stream",
     "text": [
      "C:\\Python39\\lib\\site-packages\\sklearn\\metrics\\_classification.py:1334: UndefinedMetricWarning: Precision is ill-defined and being set to 0.0 in labels with no predicted samples. Use `zero_division` parameter to control this behavior.\n",
      "  _warn_prf(average, modifier, msg_start, len(result))\n"
     ]
    },
    {
     "data": {
      "text/plain": [
       "0.9329379391897333"
      ]
     },
     "execution_count": 51,
     "metadata": {},
     "output_type": "execute_result"
    }
   ],
   "source": [
    "precision_train5 = precision_score(y_train5, y_predict_train5, average = \"weighted\")\n",
    "precision_train5"
   ]
  },
  {
   "cell_type": "code",
   "execution_count": 52,
   "id": "38d72e65",
   "metadata": {},
   "outputs": [
    {
     "data": {
      "text/plain": [
       "0.9556585043017869"
      ]
     },
     "execution_count": 52,
     "metadata": {},
     "output_type": "execute_result"
    }
   ],
   "source": [
    "recall_train5 = recall_score(y_train5, y_predict_train5, average = \"weighted\")\n",
    "recall_train5"
   ]
  },
  {
   "cell_type": "markdown",
   "id": "04eb14e7",
   "metadata": {},
   "source": [
    "### Predicting on test set (5%)"
   ]
  },
  {
   "cell_type": "code",
   "execution_count": 53,
   "id": "0fcbe39f",
   "metadata": {},
   "outputs": [
    {
     "name": "stdout",
     "output_type": "stream",
     "text": [
      "Confusion_Matrix (5%):\n",
      "[[  0  10   0]\n",
      " [  0 137   0]\n",
      " [  0  21   0]]\n",
      "Accuracy_Score (5%): 0.8154761904761905\n",
      "\n"
     ]
    }
   ],
   "source": [
    "y_predict_test5 = tree.predict(X_test5)\n",
    "confusion_matrix_test5 = confusion_matrix(y_test5, y_predict_test5)\n",
    "accuracy_score_test5 = accuracy_score(y_test5, y_predict_test5)\n",
    "print(\"Confusion_Matrix (5%):\\n{}\"\n",
    "      .format(confusion_matrix_test5))\n",
    "print(\"Accuracy_Score (5%): {}\\n\"\n",
    "      .format(accuracy_score_test5))"
   ]
  },
  {
   "cell_type": "code",
   "execution_count": 54,
   "id": "be6d4dce",
   "metadata": {},
   "outputs": [
    {
     "name": "stdout",
     "output_type": "stream",
     "text": [
      "Number of Rows Prediction Correctly (5%): 137\n",
      "\n"
     ]
    }
   ],
   "source": [
    "diagonals_test5 = confusion_matrix_test5.diagonal().sum()\n",
    "print(\"Number of Rows Prediction Correctly (5%): {}\\n\"\n",
    "      .format(diagonals_test5))"
   ]
  },
  {
   "cell_type": "code",
   "execution_count": 55,
   "id": "46db24ab",
   "metadata": {},
   "outputs": [
    {
     "name": "stderr",
     "output_type": "stream",
     "text": [
      "C:\\Python39\\lib\\site-packages\\sklearn\\metrics\\_classification.py:1334: UndefinedMetricWarning: Precision is ill-defined and being set to 0.0 in labels with no predicted samples. Use `zero_division` parameter to control this behavior.\n",
      "  _warn_prf(average, modifier, msg_start, len(result))\n"
     ]
    },
    {
     "data": {
      "text/plain": [
       "0.6650014172335601"
      ]
     },
     "execution_count": 55,
     "metadata": {},
     "output_type": "execute_result"
    }
   ],
   "source": [
    "precision_test5 = precision_score(y_test5, y_predict_test5, average = \"weighted\")\n",
    "precision_test5 "
   ]
  },
  {
   "cell_type": "code",
   "execution_count": 56,
   "id": "7c8c48fe",
   "metadata": {},
   "outputs": [
    {
     "data": {
      "text/plain": [
       "0.8154761904761905"
      ]
     },
     "execution_count": 56,
     "metadata": {},
     "output_type": "execute_result"
    }
   ],
   "source": [
    "recall_test5 = recall_score(y_test5, y_predict_test5, average = \"weighted\")\n",
    "recall_test5 "
   ]
  },
  {
   "cell_type": "markdown",
   "id": "c2a6ede3",
   "metadata": {},
   "source": [
    "## SKLearn Resample 5% "
   ]
  },
  {
   "cell_type": "code",
   "execution_count": 57,
   "id": "6211d63b",
   "metadata": {
    "scrolled": true
   },
   "outputs": [
    {
     "data": {
      "text/html": [
       "<style>#sk-container-id-5 {color: black;background-color: white;}#sk-container-id-5 pre{padding: 0;}#sk-container-id-5 div.sk-toggleable {background-color: white;}#sk-container-id-5 label.sk-toggleable__label {cursor: pointer;display: block;width: 100%;margin-bottom: 0;padding: 0.3em;box-sizing: border-box;text-align: center;}#sk-container-id-5 label.sk-toggleable__label-arrow:before {content: \"▸\";float: left;margin-right: 0.25em;color: #696969;}#sk-container-id-5 label.sk-toggleable__label-arrow:hover:before {color: black;}#sk-container-id-5 div.sk-estimator:hover label.sk-toggleable__label-arrow:before {color: black;}#sk-container-id-5 div.sk-toggleable__content {max-height: 0;max-width: 0;overflow: hidden;text-align: left;background-color: #f0f8ff;}#sk-container-id-5 div.sk-toggleable__content pre {margin: 0.2em;color: black;border-radius: 0.25em;background-color: #f0f8ff;}#sk-container-id-5 input.sk-toggleable__control:checked~div.sk-toggleable__content {max-height: 200px;max-width: 100%;overflow: auto;}#sk-container-id-5 input.sk-toggleable__control:checked~label.sk-toggleable__label-arrow:before {content: \"▾\";}#sk-container-id-5 div.sk-estimator input.sk-toggleable__control:checked~label.sk-toggleable__label {background-color: #d4ebff;}#sk-container-id-5 div.sk-label input.sk-toggleable__control:checked~label.sk-toggleable__label {background-color: #d4ebff;}#sk-container-id-5 input.sk-hidden--visually {border: 0;clip: rect(1px 1px 1px 1px);clip: rect(1px, 1px, 1px, 1px);height: 1px;margin: -1px;overflow: hidden;padding: 0;position: absolute;width: 1px;}#sk-container-id-5 div.sk-estimator {font-family: monospace;background-color: #f0f8ff;border: 1px dotted black;border-radius: 0.25em;box-sizing: border-box;margin-bottom: 0.5em;}#sk-container-id-5 div.sk-estimator:hover {background-color: #d4ebff;}#sk-container-id-5 div.sk-parallel-item::after {content: \"\";width: 100%;border-bottom: 1px solid gray;flex-grow: 1;}#sk-container-id-5 div.sk-label:hover label.sk-toggleable__label {background-color: #d4ebff;}#sk-container-id-5 div.sk-serial::before {content: \"\";position: absolute;border-left: 1px solid gray;box-sizing: border-box;top: 0;bottom: 0;left: 50%;z-index: 0;}#sk-container-id-5 div.sk-serial {display: flex;flex-direction: column;align-items: center;background-color: white;padding-right: 0.2em;padding-left: 0.2em;position: relative;}#sk-container-id-5 div.sk-item {position: relative;z-index: 1;}#sk-container-id-5 div.sk-parallel {display: flex;align-items: stretch;justify-content: center;background-color: white;position: relative;}#sk-container-id-5 div.sk-item::before, #sk-container-id-5 div.sk-parallel-item::before {content: \"\";position: absolute;border-left: 1px solid gray;box-sizing: border-box;top: 0;bottom: 0;left: 50%;z-index: -1;}#sk-container-id-5 div.sk-parallel-item {display: flex;flex-direction: column;z-index: 1;position: relative;background-color: white;}#sk-container-id-5 div.sk-parallel-item:first-child::after {align-self: flex-end;width: 50%;}#sk-container-id-5 div.sk-parallel-item:last-child::after {align-self: flex-start;width: 50%;}#sk-container-id-5 div.sk-parallel-item:only-child::after {width: 0;}#sk-container-id-5 div.sk-dashed-wrapped {border: 1px dashed gray;margin: 0 0.4em 0.5em 0.4em;box-sizing: border-box;padding-bottom: 0.4em;background-color: white;}#sk-container-id-5 div.sk-label label {font-family: monospace;font-weight: bold;display: inline-block;line-height: 1.2em;}#sk-container-id-5 div.sk-label-container {text-align: center;}#sk-container-id-5 div.sk-container {/* jupyter's `normalize.less` sets `[hidden] { display: none; }` but bootstrap.min.css set `[hidden] { display: none !important; }` so we also need the `!important` here to be able to override the default hidden behavior on the sphinx rendered scikit-learn.org. See: https://github.com/scikit-learn/scikit-learn/issues/21755 */display: inline-block !important;position: relative;}#sk-container-id-5 div.sk-text-repr-fallback {display: none;}</style><div id=\"sk-container-id-5\" class=\"sk-top-container\"><div class=\"sk-text-repr-fallback\"><pre>DecisionTreeClassifier(max_depth=2, random_state=42)</pre><b>In a Jupyter environment, please rerun this cell to show the HTML representation or trust the notebook. <br />On GitHub, the HTML representation is unable to render, please try loading this page with nbviewer.org.</b></div><div class=\"sk-container\" hidden><div class=\"sk-item\"><div class=\"sk-estimator sk-toggleable\"><input class=\"sk-toggleable__control sk-hidden--visually\" id=\"sk-estimator-id-5\" type=\"checkbox\" checked><label for=\"sk-estimator-id-5\" class=\"sk-toggleable__label sk-toggleable__label-arrow\">DecisionTreeClassifier</label><div class=\"sk-toggleable__content\"><pre>DecisionTreeClassifier(max_depth=2, random_state=42)</pre></div></div></div></div></div>"
      ],
      "text/plain": [
       "DecisionTreeClassifier(max_depth=2, random_state=42)"
      ]
     },
     "execution_count": 57,
     "metadata": {},
     "output_type": "execute_result"
    }
   ],
   "source": [
    "tree.fit(X_train_upsampled5, y_train_upsampled5)"
   ]
  },
  {
   "cell_type": "markdown",
   "id": "ea240fca",
   "metadata": {},
   "source": [
    "### [SKLEARN RESAMPLE] Predicting on train set (5%)"
   ]
  },
  {
   "cell_type": "code",
   "execution_count": 58,
   "id": "3d76413c",
   "metadata": {},
   "outputs": [
    {
     "name": "stdout",
     "output_type": "stream",
     "text": [
      "Confusion_Matrix:\n",
      "[[  50  202   13]\n",
      " [  21 2812  124]\n",
      " [   0  248  322]]\n",
      "Accuracy_Score: 0.8396624472573839\n",
      "\n"
     ]
    }
   ],
   "source": [
    "y_predict_train5sk = tree.predict(X_train_upsampled5)\n",
    "confusion_matrix_train5sk = confusion_matrix(y_train_upsampled5, y_predict_train5sk)\n",
    "accuracy_score_train5sk = accuracy_score(y_train_upsampled5, y_predict_train5sk)\n",
    "print(\"Confusion_Matrix:\\n{}\"\n",
    "      .format(confusion_matrix_train5sk))\n",
    "print(\"Accuracy_Score: {}\\n\"\n",
    "      .format(accuracy_score_train5sk))"
   ]
  },
  {
   "cell_type": "code",
   "execution_count": 59,
   "id": "a282fa6c",
   "metadata": {},
   "outputs": [
    {
     "name": "stdout",
     "output_type": "stream",
     "text": [
      "Number of Rows Prediction Correctly: 3184\n",
      "\n"
     ]
    }
   ],
   "source": [
    "skdiagonals_train5sk = confusion_matrix_train5sk.diagonal().sum()\n",
    "print(\"Number of Rows Prediction Correctly: {}\\n\"\n",
    "      .format(skdiagonals_train5sk))"
   ]
  },
  {
   "cell_type": "code",
   "execution_count": 60,
   "id": "efa1ed28",
   "metadata": {},
   "outputs": [
    {
     "data": {
      "text/plain": [
       "0.8268893494757755"
      ]
     },
     "execution_count": 60,
     "metadata": {},
     "output_type": "execute_result"
    }
   ],
   "source": [
    "precision_train5sk = precision_score(y_train_upsampled5, y_predict_train5sk, average = \"weighted\")\n",
    "precision_train5sk"
   ]
  },
  {
   "cell_type": "code",
   "execution_count": 61,
   "id": "b9c07d35",
   "metadata": {},
   "outputs": [
    {
     "data": {
      "text/plain": [
       "0.8396624472573839"
      ]
     },
     "execution_count": 61,
     "metadata": {},
     "output_type": "execute_result"
    }
   ],
   "source": [
    "recall_train5sk = recall_score(y_train_upsampled5, y_predict_train5sk, average = \"weighted\")\n",
    "recall_train5sk"
   ]
  },
  {
   "cell_type": "markdown",
   "id": "c1366d16",
   "metadata": {},
   "source": [
    "### [SKLEARN RESAMPLE] Predicting on test set (5%)"
   ]
  },
  {
   "cell_type": "code",
   "execution_count": 62,
   "id": "4afee4e0",
   "metadata": {},
   "outputs": [
    {
     "name": "stdout",
     "output_type": "stream",
     "text": [
      "Confusion_Matrix:\n",
      "[[  0   9   1]\n",
      " [  0 134   3]\n",
      " [  0  20   1]]\n",
      "Accuracy_Score: 0.8035714285714286\n",
      "\n"
     ]
    }
   ],
   "source": [
    "y_predict_test5sk = tree.predict(X_test5)\n",
    "confusion_matrix_test5sk = confusion_matrix(y_test5, y_predict_test5sk)\n",
    "accuracy_score_test5sk = accuracy_score(y_test5, y_predict_test5sk)\n",
    "print(\"Confusion_Matrix:\\n{}\"\n",
    "      .format(confusion_matrix_test5sk))\n",
    "print(\"Accuracy_Score: {}\\n\"\n",
    "      .format(accuracy_score_test5sk))"
   ]
  },
  {
   "cell_type": "code",
   "execution_count": 63,
   "id": "9f894f5d",
   "metadata": {},
   "outputs": [
    {
     "name": "stdout",
     "output_type": "stream",
     "text": [
      "Number of Rows Prediction Correctly: 135\n",
      "\n"
     ]
    }
   ],
   "source": [
    "diagonals_test5sk = confusion_matrix_test5sk.diagonal().sum()\n",
    "print(\"Number of Rows Prediction Correctly: {}\\n\"\n",
    "      .format(diagonals_test5sk))"
   ]
  },
  {
   "cell_type": "code",
   "execution_count": 64,
   "id": "577166f0",
   "metadata": {},
   "outputs": [
    {
     "name": "stderr",
     "output_type": "stream",
     "text": [
      "C:\\Python39\\lib\\site-packages\\sklearn\\metrics\\_classification.py:1334: UndefinedMetricWarning: Precision is ill-defined and being set to 0.0 in labels with no predicted samples. Use `zero_division` parameter to control this behavior.\n",
      "  _warn_prf(average, modifier, msg_start, len(result))\n"
     ]
    },
    {
     "data": {
      "text/plain": [
       "0.6953914694712241"
      ]
     },
     "execution_count": 64,
     "metadata": {},
     "output_type": "execute_result"
    }
   ],
   "source": [
    "precision_test5sk = precision_score(y_test5, y_predict_test5sk, average = \"weighted\")\n",
    "precision_test5sk "
   ]
  },
  {
   "cell_type": "code",
   "execution_count": 65,
   "id": "b100ff07",
   "metadata": {
    "scrolled": true
   },
   "outputs": [
    {
     "data": {
      "text/plain": [
       "0.8035714285714286"
      ]
     },
     "execution_count": 65,
     "metadata": {},
     "output_type": "execute_result"
    }
   ],
   "source": [
    "recall_test5sk = recall_score(y_test5, y_predict_test5sk, average = \"weighted\")\n",
    "recall_test5sk "
   ]
  },
  {
   "cell_type": "markdown",
   "id": "bb4461ed",
   "metadata": {},
   "source": [
    "## SMOTE Resample 5% "
   ]
  },
  {
   "cell_type": "code",
   "execution_count": 66,
   "id": "2b8e9a04",
   "metadata": {
    "scrolled": true
   },
   "outputs": [
    {
     "data": {
      "text/html": [
       "<style>#sk-container-id-6 {color: black;background-color: white;}#sk-container-id-6 pre{padding: 0;}#sk-container-id-6 div.sk-toggleable {background-color: white;}#sk-container-id-6 label.sk-toggleable__label {cursor: pointer;display: block;width: 100%;margin-bottom: 0;padding: 0.3em;box-sizing: border-box;text-align: center;}#sk-container-id-6 label.sk-toggleable__label-arrow:before {content: \"▸\";float: left;margin-right: 0.25em;color: #696969;}#sk-container-id-6 label.sk-toggleable__label-arrow:hover:before {color: black;}#sk-container-id-6 div.sk-estimator:hover label.sk-toggleable__label-arrow:before {color: black;}#sk-container-id-6 div.sk-toggleable__content {max-height: 0;max-width: 0;overflow: hidden;text-align: left;background-color: #f0f8ff;}#sk-container-id-6 div.sk-toggleable__content pre {margin: 0.2em;color: black;border-radius: 0.25em;background-color: #f0f8ff;}#sk-container-id-6 input.sk-toggleable__control:checked~div.sk-toggleable__content {max-height: 200px;max-width: 100%;overflow: auto;}#sk-container-id-6 input.sk-toggleable__control:checked~label.sk-toggleable__label-arrow:before {content: \"▾\";}#sk-container-id-6 div.sk-estimator input.sk-toggleable__control:checked~label.sk-toggleable__label {background-color: #d4ebff;}#sk-container-id-6 div.sk-label input.sk-toggleable__control:checked~label.sk-toggleable__label {background-color: #d4ebff;}#sk-container-id-6 input.sk-hidden--visually {border: 0;clip: rect(1px 1px 1px 1px);clip: rect(1px, 1px, 1px, 1px);height: 1px;margin: -1px;overflow: hidden;padding: 0;position: absolute;width: 1px;}#sk-container-id-6 div.sk-estimator {font-family: monospace;background-color: #f0f8ff;border: 1px dotted black;border-radius: 0.25em;box-sizing: border-box;margin-bottom: 0.5em;}#sk-container-id-6 div.sk-estimator:hover {background-color: #d4ebff;}#sk-container-id-6 div.sk-parallel-item::after {content: \"\";width: 100%;border-bottom: 1px solid gray;flex-grow: 1;}#sk-container-id-6 div.sk-label:hover label.sk-toggleable__label {background-color: #d4ebff;}#sk-container-id-6 div.sk-serial::before {content: \"\";position: absolute;border-left: 1px solid gray;box-sizing: border-box;top: 0;bottom: 0;left: 50%;z-index: 0;}#sk-container-id-6 div.sk-serial {display: flex;flex-direction: column;align-items: center;background-color: white;padding-right: 0.2em;padding-left: 0.2em;position: relative;}#sk-container-id-6 div.sk-item {position: relative;z-index: 1;}#sk-container-id-6 div.sk-parallel {display: flex;align-items: stretch;justify-content: center;background-color: white;position: relative;}#sk-container-id-6 div.sk-item::before, #sk-container-id-6 div.sk-parallel-item::before {content: \"\";position: absolute;border-left: 1px solid gray;box-sizing: border-box;top: 0;bottom: 0;left: 50%;z-index: -1;}#sk-container-id-6 div.sk-parallel-item {display: flex;flex-direction: column;z-index: 1;position: relative;background-color: white;}#sk-container-id-6 div.sk-parallel-item:first-child::after {align-self: flex-end;width: 50%;}#sk-container-id-6 div.sk-parallel-item:last-child::after {align-self: flex-start;width: 50%;}#sk-container-id-6 div.sk-parallel-item:only-child::after {width: 0;}#sk-container-id-6 div.sk-dashed-wrapped {border: 1px dashed gray;margin: 0 0.4em 0.5em 0.4em;box-sizing: border-box;padding-bottom: 0.4em;background-color: white;}#sk-container-id-6 div.sk-label label {font-family: monospace;font-weight: bold;display: inline-block;line-height: 1.2em;}#sk-container-id-6 div.sk-label-container {text-align: center;}#sk-container-id-6 div.sk-container {/* jupyter's `normalize.less` sets `[hidden] { display: none; }` but bootstrap.min.css set `[hidden] { display: none !important; }` so we also need the `!important` here to be able to override the default hidden behavior on the sphinx rendered scikit-learn.org. See: https://github.com/scikit-learn/scikit-learn/issues/21755 */display: inline-block !important;position: relative;}#sk-container-id-6 div.sk-text-repr-fallback {display: none;}</style><div id=\"sk-container-id-6\" class=\"sk-top-container\"><div class=\"sk-text-repr-fallback\"><pre>DecisionTreeClassifier(max_depth=2, random_state=42)</pre><b>In a Jupyter environment, please rerun this cell to show the HTML representation or trust the notebook. <br />On GitHub, the HTML representation is unable to render, please try loading this page with nbviewer.org.</b></div><div class=\"sk-container\" hidden><div class=\"sk-item\"><div class=\"sk-estimator sk-toggleable\"><input class=\"sk-toggleable__control sk-hidden--visually\" id=\"sk-estimator-id-6\" type=\"checkbox\" checked><label for=\"sk-estimator-id-6\" class=\"sk-toggleable__label sk-toggleable__label-arrow\">DecisionTreeClassifier</label><div class=\"sk-toggleable__content\"><pre>DecisionTreeClassifier(max_depth=2, random_state=42)</pre></div></div></div></div></div>"
      ],
      "text/plain": [
       "DecisionTreeClassifier(max_depth=2, random_state=42)"
      ]
     },
     "execution_count": 66,
     "metadata": {},
     "output_type": "execute_result"
    }
   ],
   "source": [
    "tree.fit(X_train_oversampled5, y_train_oversampled5)"
   ]
  },
  {
   "cell_type": "markdown",
   "id": "eb27c53e",
   "metadata": {},
   "source": [
    "### [SMOTE] Predicting on train set (5%)"
   ]
  },
  {
   "cell_type": "code",
   "execution_count": 67,
   "id": "509025b4",
   "metadata": {},
   "outputs": [
    {
     "name": "stdout",
     "output_type": "stream",
     "text": [
      "Confusion_Matrix:\n",
      "[[ 626  648  162]\n",
      " [  29 1185  222]\n",
      " [  10  186 1240]]\n",
      "Accuracy_Score: 0.708217270194986\n",
      "\n"
     ]
    }
   ],
   "source": [
    "y_predict_train5sm = tree.predict(X_train_oversampled5)\n",
    "confusion_matrix_train5sm = confusion_matrix(y_train_oversampled5, y_predict_train5sm)\n",
    "accuracy_score_train5sm = accuracy_score(y_train_oversampled5, y_predict_train5sm)\n",
    "print(\"Confusion_Matrix:\\n{}\"\n",
    "      .format(confusion_matrix_train5sm))\n",
    "print(\"Accuracy_Score: {}\\n\"\n",
    "      .format(accuracy_score_train5sm))"
   ]
  },
  {
   "cell_type": "code",
   "execution_count": 68,
   "id": "4f2843d5",
   "metadata": {},
   "outputs": [
    {
     "name": "stdout",
     "output_type": "stream",
     "text": [
      "Number of Rows Prediction Correctly: 3051\n",
      "\n"
     ]
    }
   ],
   "source": [
    "skdiagonals_train5sm = confusion_matrix_train5sm.diagonal().sum()\n",
    "print(\"Number of Rows Prediction Correctly: {}\\n\"\n",
    "      .format(skdiagonals_train5sm))"
   ]
  },
  {
   "cell_type": "code",
   "execution_count": 69,
   "id": "ccbbdc15",
   "metadata": {},
   "outputs": [
    {
     "data": {
      "text/plain": [
       "0.7639414671330167"
      ]
     },
     "execution_count": 69,
     "metadata": {},
     "output_type": "execute_result"
    }
   ],
   "source": [
    "precision_train5sm = precision_score(y_train_oversampled5, y_predict_train5sm, average = \"weighted\")\n",
    "precision_train5sm"
   ]
  },
  {
   "cell_type": "code",
   "execution_count": 70,
   "id": "5d6369ca",
   "metadata": {},
   "outputs": [
    {
     "data": {
      "text/plain": [
       "0.708217270194986"
      ]
     },
     "execution_count": 70,
     "metadata": {},
     "output_type": "execute_result"
    }
   ],
   "source": [
    "recall_train5sm = recall_score(y_train_oversampled5, y_predict_train5sm, average = \"weighted\")\n",
    "recall_train5sm"
   ]
  },
  {
   "cell_type": "markdown",
   "id": "f72b6048",
   "metadata": {},
   "source": [
    "### [SMOTE] Predicting on test set (5%)"
   ]
  },
  {
   "cell_type": "code",
   "execution_count": 71,
   "id": "db6f21ba",
   "metadata": {},
   "outputs": [
    {
     "name": "stdout",
     "output_type": "stream",
     "text": [
      "Confusion_Matrix:\n",
      "[[  0   8   2]\n",
      " [  0 120  17]\n",
      " [  0  13   8]]\n",
      "Accuracy_Score: 0.7619047619047619\n",
      "\n"
     ]
    }
   ],
   "source": [
    "y_predict_test5sm = tree.predict(X_test5)\n",
    "confusion_matrix_test5sm = confusion_matrix(y_test5, y_predict_test5sm)\n",
    "accuracy_score_test5sm = accuracy_score(y_test5, y_predict_test5sm)\n",
    "print(\"Confusion_Matrix:\\n{}\"\n",
    "      .format(confusion_matrix_test5sm))\n",
    "print(\"Accuracy_Score: {}\\n\"\n",
    "      .format(accuracy_score_test5sm))"
   ]
  },
  {
   "cell_type": "code",
   "execution_count": 72,
   "id": "d3277f58",
   "metadata": {},
   "outputs": [
    {
     "name": "stdout",
     "output_type": "stream",
     "text": [
      "Number of Rows Prediction Correctly: 128\n",
      "\n"
     ]
    }
   ],
   "source": [
    "diagonals_test5sm = confusion_matrix_test5sm.diagonal().sum()\n",
    "print(\"Number of Rows Prediction Correctly: {}\\n\"\n",
    "      .format(diagonals_test5sm))"
   ]
  },
  {
   "cell_type": "code",
   "execution_count": 73,
   "id": "b780beae",
   "metadata": {},
   "outputs": [
    {
     "name": "stderr",
     "output_type": "stream",
     "text": [
      "C:\\Python39\\lib\\site-packages\\sklearn\\metrics\\_classification.py:1334: UndefinedMetricWarning: Precision is ill-defined and being set to 0.0 in labels with no predicted samples. Use `zero_division` parameter to control this behavior.\n",
      "  _warn_prf(average, modifier, msg_start, len(result))\n"
     ]
    },
    {
     "data": {
      "text/plain": [
       "0.7310593268040076"
      ]
     },
     "execution_count": 73,
     "metadata": {},
     "output_type": "execute_result"
    }
   ],
   "source": [
    "precision_test5sm = precision_score(y_test5, y_predict_test5sm, average = \"weighted\")\n",
    "precision_test5sm"
   ]
  },
  {
   "cell_type": "code",
   "execution_count": 74,
   "id": "7c1e4cb2",
   "metadata": {
    "scrolled": true
   },
   "outputs": [
    {
     "data": {
      "text/plain": [
       "0.7619047619047619"
      ]
     },
     "execution_count": 74,
     "metadata": {},
     "output_type": "execute_result"
    }
   ],
   "source": [
    "recall_test5sm= recall_score(y_test5, y_predict_test5sm, average = \"weighted\")\n",
    "recall_test5sm"
   ]
  },
  {
   "cell_type": "code",
   "execution_count": 77,
   "id": "aeca0a80",
   "metadata": {},
   "outputs": [
    {
     "data": {
      "text/html": [
       "<div>\n",
       "<style scoped>\n",
       "    .dataframe tbody tr th:only-of-type {\n",
       "        vertical-align: middle;\n",
       "    }\n",
       "\n",
       "    .dataframe tbody tr th {\n",
       "        vertical-align: top;\n",
       "    }\n",
       "\n",
       "    .dataframe thead th {\n",
       "        text-align: right;\n",
       "    }\n",
       "</style>\n",
       "<table border=\"1\" class=\"dataframe\">\n",
       "  <thead>\n",
       "    <tr style=\"text-align: right;\">\n",
       "      <th></th>\n",
       "      <th>model</th>\n",
       "      <th>accuracy</th>\n",
       "      <th>recall</th>\n",
       "      <th>precision</th>\n",
       "    </tr>\n",
       "  </thead>\n",
       "  <tbody>\n",
       "    <tr>\n",
       "      <th>0</th>\n",
       "      <td>Decision Tree 3%</td>\n",
       "      <td>0.511905</td>\n",
       "      <td>0.511905</td>\n",
       "      <td>0.262046</td>\n",
       "    </tr>\n",
       "    <tr>\n",
       "      <th>1</th>\n",
       "      <td>Decision Tree 3% SK Resample</td>\n",
       "      <td>0.494048</td>\n",
       "      <td>0.494048</td>\n",
       "      <td>0.362245</td>\n",
       "    </tr>\n",
       "    <tr>\n",
       "      <th>2</th>\n",
       "      <td>Decision Tree 3% SMOTE</td>\n",
       "      <td>0.464286</td>\n",
       "      <td>0.464286</td>\n",
       "      <td>0.347364</td>\n",
       "    </tr>\n",
       "    <tr>\n",
       "      <th>3</th>\n",
       "      <td>Decision Tree 5%</td>\n",
       "      <td>0.815476</td>\n",
       "      <td>0.815476</td>\n",
       "      <td>0.665001</td>\n",
       "    </tr>\n",
       "    <tr>\n",
       "      <th>4</th>\n",
       "      <td>Decision Tree 5% SK Resample</td>\n",
       "      <td>0.803571</td>\n",
       "      <td>0.803571</td>\n",
       "      <td>0.695391</td>\n",
       "    </tr>\n",
       "    <tr>\n",
       "      <th>5</th>\n",
       "      <td>Decision Tree 5% SMOTE</td>\n",
       "      <td>0.761905</td>\n",
       "      <td>0.761905</td>\n",
       "      <td>0.731059</td>\n",
       "    </tr>\n",
       "  </tbody>\n",
       "</table>\n",
       "</div>"
      ],
      "text/plain": [
       "                          model  accuracy    recall  precision\n",
       "0              Decision Tree 3%  0.511905  0.511905   0.262046\n",
       "1  Decision Tree 3% SK Resample  0.494048  0.494048   0.362245\n",
       "2        Decision Tree 3% SMOTE  0.464286  0.464286   0.347364\n",
       "3              Decision Tree 5%  0.815476  0.815476   0.665001\n",
       "4  Decision Tree 5% SK Resample  0.803571  0.803571   0.695391\n",
       "5        Decision Tree 5% SMOTE  0.761905  0.761905   0.731059"
      ]
     },
     "execution_count": 77,
     "metadata": {},
     "output_type": "execute_result"
    }
   ],
   "source": [
    "dftree = pd.DataFrame({\n",
    "    'model': ['Decision Tree 3%', 'Decision Tree 3% SK Resample', 'Decision Tree 3% SMOTE', 'Decision Tree 5%', 'Decision Tree 5% SK Resample', 'Decision Tree 5% SMOTE',],\n",
    "    'accuracy': [accuracy_score_test3,accuracy_score_test3sk, accuracy_score_test3sm, accuracy_score_test5,accuracy_score_test5sk, accuracy_score_test5sm],\n",
    "    'recall': [recall_test3, recall_test3sk, recall_test3sm, recall_test5, recall_test5sk, recall_test5sm],\n",
    "    'precision': [precision_test3, precision_test3sk, precision_test3sm, precision_test5, precision_test5sk, precision_test5sm],\n",
    "})\n",
    "\n",
    "dftree"
   ]
  },
  {
   "cell_type": "code",
   "execution_count": null,
   "id": "1b01c92c",
   "metadata": {},
   "outputs": [],
   "source": []
  }
 ],
 "metadata": {
  "kernelspec": {
   "display_name": "Python 3 (ipykernel)",
   "language": "python",
   "name": "python3"
  },
  "language_info": {
   "codemirror_mode": {
    "name": "ipython",
    "version": 3
   },
   "file_extension": ".py",
   "mimetype": "text/x-python",
   "name": "python",
   "nbconvert_exporter": "python",
   "pygments_lexer": "ipython3",
   "version": "3.9.7"
  }
 },
 "nbformat": 4,
 "nbformat_minor": 5
}
